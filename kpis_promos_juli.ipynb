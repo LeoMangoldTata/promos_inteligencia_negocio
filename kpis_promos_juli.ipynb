{
 "cells": [
  {
   "cell_type": "markdown",
   "source": [
    "# Importamos librerias"
   ],
   "metadata": {
    "collapsed": false
   }
  },
  {
   "cell_type": "code",
   "execution_count": 1,
   "metadata": {
    "id": "tKk581G_hMT0"
   },
   "outputs": [],
   "source": [
    "import sys\n",
    "\n",
    "import pandas as pd\n",
    "import numpy as np\n",
    "import snowflake.connector\n",
    "import json\n",
    "import os\n",
    "from snowflake.connector.pandas_tools import write_pandas\n",
    "from datetime import datetime\n",
    "from datetime import timedelta\n",
    "from dateutil.relativedelta import relativedelta\n",
    "pd.options.mode.chained_assignment = None"
   ]
  },
  {
   "cell_type": "code",
   "execution_count": 2,
   "metadata": {
    "colab": {
     "base_uri": "https://localhost:8080/"
    },
    "id": "ChvQTwl1D-Ls",
    "outputId": "351b443f-8ebf-4a34-f7ba-93fb012f5082"
   },
   "outputs": [
    {
     "name": "stdout",
     "output_type": "stream",
     "text": [
      "Connected\n"
     ]
    }
   ],
   "source": [
    "while True:\n",
    "    try:\n",
    "\n",
    "        f = open('credentials.json')\n",
    "        data_pass = json.load(f)\n",
    "\n",
    "        pass_ = input(\"INGRESAR PASSCODE:\")\n",
    "\n",
    "        ctx = snowflake.connector.connect(\n",
    "            user = data_pass['snow']['USER'],\n",
    "            password = data_pass['snow']['PASS'],\n",
    "            account = data_pass['snow']['ACCOUNT'],\n",
    "            passcode = pass_,\n",
    "            database = 'SANDBOX_PLUS',\n",
    "            schema = 'DWH'\n",
    "        )\n",
    "\n",
    "        cursor = ctx.cursor()\n",
    "\n",
    "        print('Connected')\n",
    "\n",
    "        break\n",
    "\n",
    "    except:\n",
    "        print('Incorrect Password - provide again')\n",
    "\n",
    "    print('Correct Password - connected to SNOWFLAKE')"
   ]
  },
  {
   "cell_type": "markdown",
   "source": [
    "# Juli"
   ],
   "metadata": {
    "collapsed": false
   }
  },
  {
   "cell_type": "markdown",
   "source": [
    "## Precios Oferta"
   ],
   "metadata": {
    "collapsed": false
   }
  },
  {
   "cell_type": "markdown",
   "source": [
    "### tabla 12 - Precios Oferta"
   ],
   "metadata": {
    "collapsed": false
   }
  },
  {
   "cell_type": "code",
   "execution_count": 13,
   "outputs": [
    {
     "data": {
      "text/plain": "    EVENTO_ID       DESDE       HASTA                     OFERTA\n1         NaN  2024-01-11  2024-01-17          OFERTATA ENERO 02\n2         NaN  2024-02-15  2024-02-21        OFERTATA FEBRERO 07\n3         NaN  2024-02-22  2024-02-28        OFERTATA FEBRERO 08\n4         NaN  2024-02-29  2024-03-06          OFERTATA MARZO 09\n5         NaN  2024-03-07  2024-03-13          OFERTATA MARZO 10\n6         NaN  2024-03-14  2024-03-20          OFERTATA MARZO 11\n7         NaN  2024-03-21  2024-03-27          OFERTATA MARZO 12\n8         NaN  2024-03-18  2024-03-31                    PASCUAS\n9         NaN  2024-03-28  2024-04-03                OFERTATA 13\n10        NaN  2024-04-04  2024-04-10                OFERTATA 14\n11        NaN  2024-02-08  2024-02-14  ESPECIAL CERVEZAS FEBRERO\n12        NaN  2024-02-09  2024-02-18                   CARNAVAL\n13        NaN  2024-02-08  2024-02-14        OFERTATA FEBRERO 06\n14        NaN  2024-02-01  2024-02-07        OFERTATA FEBRERO 05",
      "text/html": "<div>\n<style scoped>\n    .dataframe tbody tr th:only-of-type {\n        vertical-align: middle;\n    }\n\n    .dataframe tbody tr th {\n        vertical-align: top;\n    }\n\n    .dataframe thead th {\n        text-align: right;\n    }\n</style>\n<table border=\"1\" class=\"dataframe\">\n  <thead>\n    <tr style=\"text-align: right;\">\n      <th></th>\n      <th>EVENTO_ID</th>\n      <th>DESDE</th>\n      <th>HASTA</th>\n      <th>OFERTA</th>\n    </tr>\n  </thead>\n  <tbody>\n    <tr>\n      <th>1</th>\n      <td>NaN</td>\n      <td>2024-01-11</td>\n      <td>2024-01-17</td>\n      <td>OFERTATA ENERO 02</td>\n    </tr>\n    <tr>\n      <th>2</th>\n      <td>NaN</td>\n      <td>2024-02-15</td>\n      <td>2024-02-21</td>\n      <td>OFERTATA FEBRERO 07</td>\n    </tr>\n    <tr>\n      <th>3</th>\n      <td>NaN</td>\n      <td>2024-02-22</td>\n      <td>2024-02-28</td>\n      <td>OFERTATA FEBRERO 08</td>\n    </tr>\n    <tr>\n      <th>4</th>\n      <td>NaN</td>\n      <td>2024-02-29</td>\n      <td>2024-03-06</td>\n      <td>OFERTATA MARZO 09</td>\n    </tr>\n    <tr>\n      <th>5</th>\n      <td>NaN</td>\n      <td>2024-03-07</td>\n      <td>2024-03-13</td>\n      <td>OFERTATA MARZO 10</td>\n    </tr>\n    <tr>\n      <th>6</th>\n      <td>NaN</td>\n      <td>2024-03-14</td>\n      <td>2024-03-20</td>\n      <td>OFERTATA MARZO 11</td>\n    </tr>\n    <tr>\n      <th>7</th>\n      <td>NaN</td>\n      <td>2024-03-21</td>\n      <td>2024-03-27</td>\n      <td>OFERTATA MARZO 12</td>\n    </tr>\n    <tr>\n      <th>8</th>\n      <td>NaN</td>\n      <td>2024-03-18</td>\n      <td>2024-03-31</td>\n      <td>PASCUAS</td>\n    </tr>\n    <tr>\n      <th>9</th>\n      <td>NaN</td>\n      <td>2024-03-28</td>\n      <td>2024-04-03</td>\n      <td>OFERTATA 13</td>\n    </tr>\n    <tr>\n      <th>10</th>\n      <td>NaN</td>\n      <td>2024-04-04</td>\n      <td>2024-04-10</td>\n      <td>OFERTATA 14</td>\n    </tr>\n    <tr>\n      <th>11</th>\n      <td>NaN</td>\n      <td>2024-02-08</td>\n      <td>2024-02-14</td>\n      <td>ESPECIAL CERVEZAS FEBRERO</td>\n    </tr>\n    <tr>\n      <th>12</th>\n      <td>NaN</td>\n      <td>2024-02-09</td>\n      <td>2024-02-18</td>\n      <td>CARNAVAL</td>\n    </tr>\n    <tr>\n      <th>13</th>\n      <td>NaN</td>\n      <td>2024-02-08</td>\n      <td>2024-02-14</td>\n      <td>OFERTATA FEBRERO 06</td>\n    </tr>\n    <tr>\n      <th>14</th>\n      <td>NaN</td>\n      <td>2024-02-01</td>\n      <td>2024-02-07</td>\n      <td>OFERTATA FEBRERO 05</td>\n    </tr>\n  </tbody>\n</table>\n</div>"
     },
     "execution_count": 13,
     "metadata": {},
     "output_type": "execute_result"
    }
   ],
   "source": [
    "url_fechas = 'https://docs.google.com/spreadsheets/d/1JnayuiljvaOebik4gKqNgxSLD6RO2AS8euG7apQykW8/export?format=csv'\n",
    "fechas = pd.read_csv(url_fechas)\n",
    "fechas = fechas[pd.to_datetime(fechas['HASTA']) + pd.Timedelta(days=1) >= datetime.today()]\n",
    "fechas"
   ],
   "metadata": {
    "collapsed": false
   }
  },
  {
   "cell_type": "code",
   "execution_count": 4,
   "outputs": [
    {
     "data": {
      "text/plain": "  TIPO_OFERTA_ID TIPO_OFERTA_DESC      INICIO         FIN       NOMBRE_PROMO  \\\n0             12   Otros Mailings  2023-12-12  2023-12-25  OFERTATA ENERO 01   \n1             12   Otros Mailings  2023-12-12  2023-12-25  OFERTATA ENERO 01   \n\n  PRECIO DESDE PRECIO HASTA        ORIN ESTADISTICO  PROM_PVP_OFERTA  \n0   2024-01-04   2024-01-10  1000051914   252514000            139.0  \n1   2024-01-04   2024-01-10  1000053180   255555000             85.0  ",
      "text/html": "<div>\n<style scoped>\n    .dataframe tbody tr th:only-of-type {\n        vertical-align: middle;\n    }\n\n    .dataframe tbody tr th {\n        vertical-align: top;\n    }\n\n    .dataframe thead th {\n        text-align: right;\n    }\n</style>\n<table border=\"1\" class=\"dataframe\">\n  <thead>\n    <tr style=\"text-align: right;\">\n      <th></th>\n      <th>TIPO_OFERTA_ID</th>\n      <th>TIPO_OFERTA_DESC</th>\n      <th>INICIO</th>\n      <th>FIN</th>\n      <th>NOMBRE_PROMO</th>\n      <th>PRECIO DESDE</th>\n      <th>PRECIO HASTA</th>\n      <th>ORIN</th>\n      <th>ESTADISTICO</th>\n      <th>PROM_PVP_OFERTA</th>\n    </tr>\n  </thead>\n  <tbody>\n    <tr>\n      <th>0</th>\n      <td>12</td>\n      <td>Otros Mailings</td>\n      <td>2023-12-12</td>\n      <td>2023-12-25</td>\n      <td>OFERTATA ENERO 01</td>\n      <td>2024-01-04</td>\n      <td>2024-01-10</td>\n      <td>1000051914</td>\n      <td>252514000</td>\n      <td>139.0</td>\n    </tr>\n    <tr>\n      <th>1</th>\n      <td>12</td>\n      <td>Otros Mailings</td>\n      <td>2023-12-12</td>\n      <td>2023-12-25</td>\n      <td>OFERTATA ENERO 01</td>\n      <td>2024-01-04</td>\n      <td>2024-01-10</td>\n      <td>1000053180</td>\n      <td>255555000</td>\n      <td>85.0</td>\n    </tr>\n  </tbody>\n</table>\n</div>"
     },
     "execution_count": 4,
     "metadata": {},
     "output_type": "execute_result"
    }
   ],
   "source": [
    "query = '''\n",
    "    SELECT\n",
    "        DISTINCT\n",
    "        LPTO.*,\n",
    "        FP.PROM_FECHA_INICIO AS INICIO,\n",
    "        FP.PROM_FECHA_FIN AS FIN,\n",
    "        LAA.ORIN,\n",
    "        LAA.ARTC_ARTC_COD AS ESTADISTICO,\n",
    "        FP.PROM_PVP_OFERTA\n",
    "    FROM\n",
    "        MSTRDB.DWH.FT_PROMOS AS FP\n",
    "        INNER JOIN MSTRDB.DWH.LU_PROM_EVENTO AS LPE ON LPE.EVENTO_ID = FP.EVENTO_ID\n",
    "        INNER JOIN MSTRDB.DWH.LU_PROM_TIPO_OFERTA AS LPTO ON LPTO.TIPO_OFERTA_ID = LPE.TIPO_OFERTA_ID\n",
    "        INNER JOIN MSTRDB.DWH.LU_ARTC_ARTICULO AS LAA ON FP.ARTC_ARTC_ID = LAA.ARTC_ARTC_ID\n",
    "    WHERE\n",
    "        LPTO.TIPO_OFERTA_ID IN (4, 10, 11, 12)\n",
    "        AND FP.PROM_FECHA_INICIO >= DATEADD(DAY, -30, '{desde_snow}')\n",
    "        AND FP.PROM_FECHA_FIN < '{desde_snow}'\n",
    "'''\n",
    "\n",
    "df_precios_oferta = pd.DataFrame()\n",
    "for i in range(len(fechas)):\n",
    "    desde = fechas.iloc[i]['DESDE']\n",
    "    hasta = fechas.iloc[i]['HASTA']\n",
    "    oferta = fechas.iloc[i]['OFERTA']\n",
    "\n",
    "    cursor.execute(query.format(desde_snow = desde))\n",
    "    df_aux = cursor.fetch_pandas_all()\n",
    "\n",
    "    df_aux['PRECIO DESDE'] = desde\n",
    "    df_aux['PRECIO HASTA'] = hasta\n",
    "    df_aux['NOMBRE_PROMO'] = oferta\n",
    "    df_precios_oferta = pd.concat([df_precios_oferta, df_aux])\n",
    "\n",
    "df_precios_oferta = df_precios_oferta[['TIPO_OFERTA_ID', 'TIPO_OFERTA_DESC', 'INICIO', 'FIN', 'NOMBRE_PROMO', 'PRECIO DESDE', 'PRECIO HASTA', 'ORIN', 'ESTADISTICO', 'PROM_PVP_OFERTA']]\n",
    "df_precios_oferta.head(2)"
   ],
   "metadata": {
    "collapsed": false
   }
  },
  {
   "cell_type": "code",
   "execution_count": 5,
   "outputs": [
    {
     "data": {
      "text/plain": "  TIPO_OFERTA_ID TIPO_OFERTA_DESC      INICIO         FIN       NOMBRE_PROMO  \\\n3             12   Otros Mailings  2024-02-09  2024-02-18  OFERTATA MARZO 10   \n4             12   Otros Mailings  2024-02-09  2024-02-18  OFERTATA MARZO 10   \n\n  PRECIO DESDE PRECIO HASTA        ORIN ESTADISTICO  PROM_PVP_OFERTA  \\\n3   2024-03-07   2024-03-13  1000456646   330602000            249.0   \n4   2024-03-07   2024-03-13  1000456664   330646000            249.0   \n\n  FECHA_ACTUALIZACION  \n3          2024-01-17  \n4          2024-01-17  ",
      "text/html": "<div>\n<style scoped>\n    .dataframe tbody tr th:only-of-type {\n        vertical-align: middle;\n    }\n\n    .dataframe tbody tr th {\n        vertical-align: top;\n    }\n\n    .dataframe thead th {\n        text-align: right;\n    }\n</style>\n<table border=\"1\" class=\"dataframe\">\n  <thead>\n    <tr style=\"text-align: right;\">\n      <th></th>\n      <th>TIPO_OFERTA_ID</th>\n      <th>TIPO_OFERTA_DESC</th>\n      <th>INICIO</th>\n      <th>FIN</th>\n      <th>NOMBRE_PROMO</th>\n      <th>PRECIO DESDE</th>\n      <th>PRECIO HASTA</th>\n      <th>ORIN</th>\n      <th>ESTADISTICO</th>\n      <th>PROM_PVP_OFERTA</th>\n      <th>FECHA_ACTUALIZACION</th>\n    </tr>\n  </thead>\n  <tbody>\n    <tr>\n      <th>3</th>\n      <td>12</td>\n      <td>Otros Mailings</td>\n      <td>2024-02-09</td>\n      <td>2024-02-18</td>\n      <td>OFERTATA MARZO 10</td>\n      <td>2024-03-07</td>\n      <td>2024-03-13</td>\n      <td>1000456646</td>\n      <td>330602000</td>\n      <td>249.0</td>\n      <td>2024-01-17</td>\n    </tr>\n    <tr>\n      <th>4</th>\n      <td>12</td>\n      <td>Otros Mailings</td>\n      <td>2024-02-09</td>\n      <td>2024-02-18</td>\n      <td>OFERTATA MARZO 10</td>\n      <td>2024-03-07</td>\n      <td>2024-03-13</td>\n      <td>1000456664</td>\n      <td>330646000</td>\n      <td>249.0</td>\n      <td>2024-01-17</td>\n    </tr>\n  </tbody>\n</table>\n</div>"
     },
     "execution_count": 5,
     "metadata": {},
     "output_type": "execute_result"
    }
   ],
   "source": [
    "df_precios_oferta['FIN'] = pd.to_datetime(df_precios_oferta['FIN'])\n",
    "\n",
    "df_precios_oferta.sort_values(by = ['PRECIO HASTA', 'NOMBRE_PROMO', 'FIN'], ascending = [False, True, False], inplace = True)\n",
    "df_precios_oferta['FIN'] = df_precios_oferta['FIN'].astype(str)\n",
    "df_precios_oferta['INICIO'] = df_precios_oferta['INICIO'].astype(str)\n",
    "df_precios_oferta['FECHA_ACTUALIZACION'] = datetime.today().strftime('%Y-%m-%d')\n",
    "df_precios_oferta.head(2)\n",
    "\n",
    "df_precios_oferta.head(2)"
   ],
   "metadata": {
    "collapsed": false
   }
  },
  {
   "cell_type": "markdown",
   "source": [
    "## BASE_OPT"
   ],
   "metadata": {
    "collapsed": false
   }
  },
  {
   "cell_type": "markdown",
   "source": [
    "### tabla 13 - OPT"
   ],
   "metadata": {
    "collapsed": false
   }
  },
  {
   "cell_type": "code",
   "execution_count": 6,
   "outputs": [
    {
     "data": {
      "text/plain": "         ORIN  AVG_PRECIO_COMPETENCIA FECHA_ACTUALIZACION\n0  1000433725                   109.0          2024-01-17\n1  1000433788                    34.7          2024-01-17",
      "text/html": "<div>\n<style scoped>\n    .dataframe tbody tr th:only-of-type {\n        vertical-align: middle;\n    }\n\n    .dataframe tbody tr th {\n        vertical-align: top;\n    }\n\n    .dataframe thead th {\n        text-align: right;\n    }\n</style>\n<table border=\"1\" class=\"dataframe\">\n  <thead>\n    <tr style=\"text-align: right;\">\n      <th></th>\n      <th>ORIN</th>\n      <th>AVG_PRECIO_COMPETENCIA</th>\n      <th>FECHA_ACTUALIZACION</th>\n    </tr>\n  </thead>\n  <tbody>\n    <tr>\n      <th>0</th>\n      <td>1000433725</td>\n      <td>109.0</td>\n      <td>2024-01-17</td>\n    </tr>\n    <tr>\n      <th>1</th>\n      <td>1000433788</td>\n      <td>34.7</td>\n      <td>2024-01-17</td>\n    </tr>\n  </tbody>\n</table>\n</div>"
     },
     "execution_count": 6,
     "metadata": {},
     "output_type": "execute_result"
    }
   ],
   "source": [
    "query = '''\n",
    "    SELECT\n",
    "        --LAA.ARTC_ARTC_ID,\n",
    "        --LAA.ARTC_ARTC_COD,\n",
    "        --LAA.ARTC_ARTC_DESC,\n",
    "        LAA.ORIN,\n",
    "        ROUND(AVG(OPT.PRECIO_COMPETENCIA), 1) AS AVG_PRECIO_COMPETENCIA\n",
    "    FROM\n",
    "        SPIKE.SPIKE.BASE_OPT AS OPT\n",
    "        INNER JOIN MSTRDB.DWH.LU_ARTC_ARTICULO AS LAA ON OPT.ARTC_ARTC_ID = LAA.ARTC_ARTC_ID\n",
    "        INNER JOIN MSTRDB.DWH.LU_GEOG_LOCAL AS LGL ON OPT.GEOG_LOCL_ID = LGL.GEOG_LOCL_ID\n",
    "    GROUP BY\n",
    "        ALL\n",
    "'''\n",
    "\n",
    "cursor.execute(query)\n",
    "opt = cursor.fetch_pandas_all()\n",
    "opt['FECHA_ACTUALIZACION'] = datetime.today().strftime('%Y-%m-%d')\n",
    "opt.head(2)"
   ],
   "metadata": {
    "collapsed": false
   }
  },
  {
   "cell_type": "markdown",
   "source": [
    "## Locales Activos Ayer"
   ],
   "metadata": {
    "collapsed": false
   }
  },
  {
   "cell_type": "markdown",
   "source": [
    "### tabla 14 - Locales Activos Ayer"
   ],
   "metadata": {
    "collapsed": false
   }
  },
  {
   "cell_type": "code",
   "execution_count": 7,
   "outputs": [
    {
     "data": {
      "text/plain": "         ORIN  LOCALES_ACTIVOS_AYER FECHA_ACTUALIZACION\n0  1000057980                    68          2024-01-17\n1  1000385297                    82          2024-01-17",
      "text/html": "<div>\n<style scoped>\n    .dataframe tbody tr th:only-of-type {\n        vertical-align: middle;\n    }\n\n    .dataframe tbody tr th {\n        vertical-align: top;\n    }\n\n    .dataframe thead th {\n        text-align: right;\n    }\n</style>\n<table border=\"1\" class=\"dataframe\">\n  <thead>\n    <tr style=\"text-align: right;\">\n      <th></th>\n      <th>ORIN</th>\n      <th>LOCALES_ACTIVOS_AYER</th>\n      <th>FECHA_ACTUALIZACION</th>\n    </tr>\n  </thead>\n  <tbody>\n    <tr>\n      <th>0</th>\n      <td>1000057980</td>\n      <td>68</td>\n      <td>2024-01-17</td>\n    </tr>\n    <tr>\n      <th>1</th>\n      <td>1000385297</td>\n      <td>82</td>\n      <td>2024-01-17</td>\n    </tr>\n  </tbody>\n</table>\n</div>"
     },
     "execution_count": 7,
     "metadata": {},
     "output_type": "execute_result"
    }
   ],
   "source": [
    "query = '''\n",
    "SELECT\n",
    "    --LAA.ARTC_ARTC_DESC AS ARTICULO,\n",
    "    LAA.ORIN,\n",
    "    --LAA.ARTC_ARTC_ID,\n",
    "    COUNT(DISTINCT FS.GEOG_LOCL_ID) AS LOCALES_ACTIVOS_AYER\n",
    "FROM\n",
    "    MSTRDB.DWH.FT_STOCK AS FS\n",
    "    LEFT JOIN MSTRDB.DWH.LU_ARTC_ARTICULO AS LAA ON FS.ARTC_ARTC_ID = LAA.ARTC_ARTC_ID\n",
    "WHERE\n",
    "    ARTC_ESTA_ID = 4\n",
    "    AND LAA.ORIN IS NOT NULL\n",
    "    AND GEOG_LOCL_ID IN (SELECT GEOG_LOCL_ID FROM MSTRDB.DWH.LU_GEOG_LOCAL WHERE GEOG_UNNG_ID = 2)\n",
    "    AND GEOG_LOCL_ID IN (SELECT GEOG_LOCL_ID FROM MSTRDB.DWH.LU_GEOG_LOCAL WHERE GEOG_LOCL_COD IN (101,102,103,104,107,108,111,115,117,119,120,121,122,124,125,126,127,131,132,134,139,140,141,143,144,145,146,147,148,149,150,151,152,153,155,156,157,158,159,160,161,162,163,164,165,167,166,168,173,198,301,304,305,306,307,308,309,310,311,312,313,314,315,316,317,318,319,321,322,323,324,325,326,327,328,329,330,331,332,333,334,335))\n",
    "    AND FS.TIEM_DIA_ID = CURRENT_DATE() - 1\n",
    "GROUP BY\n",
    "    ALL\n",
    "HAVING\n",
    "    LOCALES_ACTIVOS_AYER > 0\n",
    "'''\n",
    "\n",
    "cursor.execute(query)\n",
    "df_locales_activos_ayer = cursor.fetch_pandas_all()\n",
    "df_locales_activos_ayer['FECHA_ACTUALIZACION'] = datetime.today().strftime('%Y-%m-%d')\n",
    "df_locales_activos_ayer.head(2)"
   ],
   "metadata": {
    "collapsed": false
   }
  },
  {
   "cell_type": "code",
   "execution_count": 8,
   "outputs": [
    {
     "data": {
      "text/plain": "82"
     },
     "execution_count": 8,
     "metadata": {},
     "output_type": "execute_result"
    }
   ],
   "source": [
    "df_locales_activos_ayer['LOCALES_ACTIVOS_AYER'].nunique()"
   ],
   "metadata": {
    "collapsed": false
   }
  },
  {
   "cell_type": "markdown",
   "source": [
    "## Days on Hand"
   ],
   "metadata": {
    "collapsed": false
   }
  },
  {
   "cell_type": "markdown",
   "source": [
    "### tabla 15 - days on hand ARTICULO"
   ],
   "metadata": {
    "collapsed": false
   }
  },
  {
   "cell_type": "markdown",
   "source": [
    "#### Articulo"
   ],
   "metadata": {
    "collapsed": false
   }
  },
  {
   "cell_type": "code",
   "execution_count": 18,
   "outputs": [
    {
     "data": {
      "text/plain": "      SUBCLASE        ORIN  UNIDADES  UNIDADES VENDIDAS  DAYS ON HAND ARTICULO\n5   7000100001  1000043776         5                  0                 999999\n8  13500010002  1000002510        20                  0                     46",
      "text/html": "<div>\n<style scoped>\n    .dataframe tbody tr th:only-of-type {\n        vertical-align: middle;\n    }\n\n    .dataframe tbody tr th {\n        vertical-align: top;\n    }\n\n    .dataframe thead th {\n        text-align: right;\n    }\n</style>\n<table border=\"1\" class=\"dataframe\">\n  <thead>\n    <tr style=\"text-align: right;\">\n      <th></th>\n      <th>SUBCLASE</th>\n      <th>ORIN</th>\n      <th>UNIDADES</th>\n      <th>UNIDADES VENDIDAS</th>\n      <th>DAYS ON HAND ARTICULO</th>\n    </tr>\n  </thead>\n  <tbody>\n    <tr>\n      <th>5</th>\n      <td>7000100001</td>\n      <td>1000043776</td>\n      <td>5</td>\n      <td>0</td>\n      <td>999999</td>\n    </tr>\n    <tr>\n      <th>8</th>\n      <td>13500010002</td>\n      <td>1000002510</td>\n      <td>20</td>\n      <td>0</td>\n      <td>46</td>\n    </tr>\n  </tbody>\n</table>\n</div>"
     },
     "execution_count": 18,
     "metadata": {},
     "output_type": "execute_result"
    }
   ],
   "source": [
    "query = '''\n",
    "WITH STOCK AS\n",
    "    (\n",
    "    SELECT\n",
    "        IM.SUBCLASE,\n",
    "        LAA.ARTC_ARTC_DESC,\n",
    "        LAA.ORIN,\n",
    "        LAA.ARTC_ARTC_ID,\n",
    "        SUM(FS.STCK_UNIDADES) AS UNIDADES\n",
    "    FROM\n",
    "        MSTRDB.DWH.FT_STOCK AS FS\n",
    "        LEFT JOIN MSTRDB.DWH.LU_ARTC_ARTICULO AS LAA ON FS.ARTC_ARTC_ID = LAA.ARTC_ARTC_ID\n",
    "        INNER JOIN MSTRDB.DWH.ITEM_MASTER AS IM ON LAA.ORIN = IM.ITEM\n",
    "    WHERE\n",
    "        FS.TIEM_DIA_ID = CURRENT_DATE() - 1\n",
    "    GROUP BY\n",
    "        ALL\n",
    "    ),\n",
    "\n",
    "VENTAS AS\n",
    "    (\n",
    "    SELECT\n",
    "        FV.ARTC_ARTC_ID,\n",
    "        (SUM(FV.VNTA_UNIDADES) / 30) AS UNIDADES_VENDIDAS\n",
    "    FROM\n",
    "        MSTRDB.DWH.FT_VENTAS AS FV\n",
    "    WHERE\n",
    "        FV.TIEM_DIA_ID >= DATEADD(MONTH, -1, CURRENT_DATE()-1)\n",
    "    GROUP BY\n",
    "        ALL\n",
    "    )\n",
    "\n",
    "SELECT\n",
    "    STOCK.*,\n",
    "    COALESCE(VENTAS.UNIDADES_VENDIDAS, 0) AS UNIDADES_VENDIDAS\n",
    "FROM\n",
    "    STOCK\n",
    "    LEFT JOIN VENTAS ON VENTAS.ARTC_ARTC_ID = STOCK.ARTC_ARTC_ID\n",
    "'''\n",
    "\n",
    "cursor.execute(query)\n",
    "df_days_on_hand_articulo = cursor.fetch_pandas_all()\n",
    "\n",
    "df_days_on_hand_articulo = df_days_on_hand_articulo[df_days_on_hand_articulo['UNIDADES'] != 0]\n",
    "df_days_on_hand_articulo['DAYS ON HAND'] = df_days_on_hand_articulo['UNIDADES'] / df_days_on_hand_articulo['UNIDADES_VENDIDAS']\n",
    "df_days_on_hand_articulo['DAYS ON HAND'][(df_days_on_hand_articulo['UNIDADES'] == 0) & (df_days_on_hand_articulo['UNIDADES_VENDIDAS'] == 0)] = 0\n",
    "df_days_on_hand_articulo['DAYS ON HAND'][df_days_on_hand_articulo['DAYS ON HAND'] == np.inf] = 999999\n",
    "df_days_on_hand_articulo['DAYS ON HAND'][df_days_on_hand_articulo['DAYS ON HAND'] == -np.inf] = -999999\n",
    "df_days_on_hand_articulo['DAYS ON HAND'][df_days_on_hand_articulo['DAYS ON HAND'] > 999999] = 999999\n",
    "df_days_on_hand_articulo['DAYS ON HAND'][df_days_on_hand_articulo['DAYS ON HAND'] < -999999] = -999999\n",
    "df_days_on_hand_articulo['DAYS ON HAND'].fillna(999999, inplace=True)\n",
    "df_days_on_hand_articulo['DAYS ON HAND'] = round(df_days_on_hand_articulo['DAYS ON HAND'], 0).astype(int)\n",
    "df_days_on_hand_articulo['UNIDADES'] = round(df_days_on_hand_articulo['UNIDADES'], 0).astype(int)\n",
    "df_days_on_hand_articulo['UNIDADES_VENDIDAS'] = round(df_days_on_hand_articulo['UNIDADES_VENDIDAS'], 0).astype(int)\n",
    "df_days_on_hand_articulo.rename({'UNIDADES_VENDIDAS':'UNIDADES VENDIDAS'}, axis = 1, inplace = True)\n",
    "df_days_on_hand_articulo = df_days_on_hand_articulo[['SUBCLASE', 'ORIN', 'UNIDADES', 'UNIDADES VENDIDAS', 'DAYS ON HAND']]\n",
    "\n",
    "df_days_on_hand_articulo.rename({'DAYS ON HAND':'DAYS ON HAND ARTICULO'}, axis = 1, inplace = True)\n",
    "\n",
    "df_days_on_hand_articulo.head(2)"
   ],
   "metadata": {
    "collapsed": false
   }
  },
  {
   "cell_type": "markdown",
   "source": [
    "#### Subclase"
   ],
   "metadata": {
    "collapsed": false
   }
  },
  {
   "cell_type": "code",
   "execution_count": 19,
   "outputs": [
    {
     "data": {
      "text/plain": "      SUBCLASE  UNIDADES  UNIDADES VENDIDAS  DAYS ON HAND SUBCLASE\n0  12200100001      2977                 52                     58\n1  12200110001      6416                185                     35",
      "text/html": "<div>\n<style scoped>\n    .dataframe tbody tr th:only-of-type {\n        vertical-align: middle;\n    }\n\n    .dataframe tbody tr th {\n        vertical-align: top;\n    }\n\n    .dataframe thead th {\n        text-align: right;\n    }\n</style>\n<table border=\"1\" class=\"dataframe\">\n  <thead>\n    <tr style=\"text-align: right;\">\n      <th></th>\n      <th>SUBCLASE</th>\n      <th>UNIDADES</th>\n      <th>UNIDADES VENDIDAS</th>\n      <th>DAYS ON HAND SUBCLASE</th>\n    </tr>\n  </thead>\n  <tbody>\n    <tr>\n      <th>0</th>\n      <td>12200100001</td>\n      <td>2977</td>\n      <td>52</td>\n      <td>58</td>\n    </tr>\n    <tr>\n      <th>1</th>\n      <td>12200110001</td>\n      <td>6416</td>\n      <td>185</td>\n      <td>35</td>\n    </tr>\n  </tbody>\n</table>\n</div>"
     },
     "execution_count": 19,
     "metadata": {},
     "output_type": "execute_result"
    }
   ],
   "source": [
    "query = '''\n",
    "WITH STOCK AS\n",
    "    (\n",
    "    SELECT\n",
    "        SUB.SUBCLASE,\n",
    "        SUB.SUB_NAME,\n",
    "        SUM(FS.STCK_UNIDADES) AS UNIDADES\n",
    "    FROM\n",
    "        MSTRDB.DWH.FT_STOCK AS FS\n",
    "        LEFT JOIN MSTRDB.DWH.LU_ARTC_ARTICULO AS LAA ON FS.ARTC_ARTC_ID = LAA.ARTC_ARTC_ID\n",
    "        INNER JOIN MSTRDB.DWH.ITEM_MASTER AS IM ON IM.ITEM = LAA.ORIN\n",
    "        INNER JOIN MSTRDB.DWH.SUBCLASS AS SUB ON SUB.SUBCLASE = IM.SUBCLASE\n",
    "    WHERE\n",
    "        FS.TIEM_DIA_ID = CURRENT_DATE() - 1\n",
    "    GROUP BY\n",
    "        ALL\n",
    "    ),\n",
    "\n",
    "VENTAS AS\n",
    "    (\n",
    "    SELECT\n",
    "        SUB.SUBCLASE,\n",
    "        (SUM(FV.VNTA_UNIDADES) / 30) AS UNIDADES_VENDIDAS\n",
    "    FROM\n",
    "        MSTRDB.DWH.FT_VENTAS AS FV\n",
    "        INNER JOIN MSTRDB.DWH.LU_ARTC_ARTICULO AS LAA ON FV.ARTC_ARTC_ID = LAA.ARTC_ARTC_ID\n",
    "        INNER JOIN MSTRDB.DWH.ITEM_MASTER AS IM ON IM.ITEM = LAA.ORIN\n",
    "        INNER JOIN MSTRDB.DWH.SUBCLASS AS SUB ON SUB.SUBCLASE = IM.SUBCLASE\n",
    "    WHERE\n",
    "        FV.TIEM_DIA_ID >= DATEADD(MONTH, -1, CURRENT_DATE()-1)\n",
    "    GROUP BY\n",
    "        ALL\n",
    "    )\n",
    "\n",
    "SELECT\n",
    "    STOCK.*,\n",
    "    COALESCE(VENTAS.UNIDADES_VENDIDAS, 0) AS UNIDADES_VENDIDAS\n",
    "FROM\n",
    "    STOCK\n",
    "    LEFT JOIN VENTAS ON VENTAS.SUBCLASE = STOCK.SUBCLASE\n",
    "'''\n",
    "\n",
    "cursor.execute(query)\n",
    "df_days_on_hand_subclase = cursor.fetch_pandas_all()\n",
    "\n",
    "df_days_on_hand_subclase = df_days_on_hand_subclase[df_days_on_hand_subclase['UNIDADES'] != 0]\n",
    "df_days_on_hand_subclase['DAYS ON HAND'] = df_days_on_hand_subclase['UNIDADES'] / df_days_on_hand_subclase['UNIDADES_VENDIDAS']\n",
    "df_days_on_hand_subclase['DAYS ON HAND'][(df_days_on_hand_subclase['UNIDADES'] == 0) & (df_days_on_hand_subclase['UNIDADES_VENDIDAS'] == 0)] = 0\n",
    "df_days_on_hand_subclase['DAYS ON HAND'][df_days_on_hand_subclase['DAYS ON HAND'] == np.inf] = 999999\n",
    "df_days_on_hand_subclase['DAYS ON HAND'][df_days_on_hand_subclase['DAYS ON HAND'] == -np.inf] = -999999\n",
    "df_days_on_hand_subclase['DAYS ON HAND'][df_days_on_hand_subclase['DAYS ON HAND'] > 999999] = 999999\n",
    "df_days_on_hand_subclase['DAYS ON HAND'][df_days_on_hand_subclase['DAYS ON HAND'] < -999999] = -999999\n",
    "df_days_on_hand_subclase['DAYS ON HAND'].fillna(999999, inplace=True)\n",
    "df_days_on_hand_subclase['DAYS ON HAND'] = round(df_days_on_hand_subclase['DAYS ON HAND'], 0).astype(int)\n",
    "df_days_on_hand_subclase['UNIDADES'] = round(df_days_on_hand_subclase['UNIDADES'], 0).astype(int)\n",
    "df_days_on_hand_subclase['UNIDADES_VENDIDAS'] = round(df_days_on_hand_subclase['UNIDADES_VENDIDAS'], 0).astype(int)\n",
    "df_days_on_hand_subclase.rename({'UNIDADES_VENDIDAS':'UNIDADES VENDIDAS'}, axis = 1, inplace = True)\n",
    "df_days_on_hand_subclase = df_days_on_hand_subclase[['SUBCLASE', 'UNIDADES', 'UNIDADES VENDIDAS', 'DAYS ON HAND']]\n",
    "\n",
    "df_days_on_hand_subclase.rename({'DAYS ON HAND':'DAYS ON HAND SUBCLASE'}, axis = 1, inplace = True)\n",
    "\n",
    "df_days_on_hand_subclase.head(2)"
   ],
   "metadata": {
    "collapsed": false
   }
  },
  {
   "cell_type": "markdown",
   "source": [
    "#### Consolido"
   ],
   "metadata": {
    "collapsed": false
   }
  },
  {
   "cell_type": "code",
   "execution_count": 20,
   "outputs": [
    {
     "data": {
      "text/plain": "      SUBCLASE        ORIN  UNIDADES  UNIDADES VENDIDAS  \\\n0   7000100001  1000043776         5                  0   \n1  13500010002  1000002510        20                  0   \n\n   DAYS ON HAND ARTICULO  DAYS ON HAND SUBCLASE FECHA_ACTUALIZACION  \n0                 999999                    150          2024-01-17  \n1                     46                    171          2024-01-17  ",
      "text/html": "<div>\n<style scoped>\n    .dataframe tbody tr th:only-of-type {\n        vertical-align: middle;\n    }\n\n    .dataframe tbody tr th {\n        vertical-align: top;\n    }\n\n    .dataframe thead th {\n        text-align: right;\n    }\n</style>\n<table border=\"1\" class=\"dataframe\">\n  <thead>\n    <tr style=\"text-align: right;\">\n      <th></th>\n      <th>SUBCLASE</th>\n      <th>ORIN</th>\n      <th>UNIDADES</th>\n      <th>UNIDADES VENDIDAS</th>\n      <th>DAYS ON HAND ARTICULO</th>\n      <th>DAYS ON HAND SUBCLASE</th>\n      <th>FECHA_ACTUALIZACION</th>\n    </tr>\n  </thead>\n  <tbody>\n    <tr>\n      <th>0</th>\n      <td>7000100001</td>\n      <td>1000043776</td>\n      <td>5</td>\n      <td>0</td>\n      <td>999999</td>\n      <td>150</td>\n      <td>2024-01-17</td>\n    </tr>\n    <tr>\n      <th>1</th>\n      <td>13500010002</td>\n      <td>1000002510</td>\n      <td>20</td>\n      <td>0</td>\n      <td>46</td>\n      <td>171</td>\n      <td>2024-01-17</td>\n    </tr>\n  </tbody>\n</table>\n</div>"
     },
     "execution_count": 20,
     "metadata": {},
     "output_type": "execute_result"
    }
   ],
   "source": [
    "df_days_on_hand_articulo = df_days_on_hand_articulo.merge(df_days_on_hand_subclase[['SUBCLASE', 'DAYS ON HAND SUBCLASE']], on = 'SUBCLASE', how = 'left')\n",
    "\n",
    "df_days_on_hand_articulo['FECHA_ACTUALIZACION'] = datetime.today().strftime('%Y-%m-%d')\n",
    "\n",
    "df_days_on_hand_articulo.head(2)"
   ],
   "metadata": {
    "collapsed": false
   }
  },
  {
   "cell_type": "markdown",
   "source": [
    "## Precios Stock Mediano ayer"
   ],
   "metadata": {
    "collapsed": false
   }
  },
  {
   "cell_type": "markdown",
   "source": [
    "### tabla 16 - Precios Stock Mediano ayer"
   ],
   "metadata": {
    "collapsed": false
   }
  },
  {
   "cell_type": "code",
   "execution_count": null,
   "outputs": [],
   "source": [
    "query = '''\n",
    "    SELECT\n",
    "        DISTINCT\n",
    "        LPTO.*,\n",
    "        FP.PROM_FECHA_INICIO AS INICIO,\n",
    "        FP.PROM_FECHA_FIN AS FIN,\n",
    "        --LAA.ARTC_ARTC_ID,\n",
    "        --LAA.ARTC_ARTC_COD,\n",
    "        --LAA.ARTC_ARTC_DESC,\n",
    "        LAA.ORIN,\n",
    "        MEDIAN(FS.STCK_PRECIO_VENTA_DIA_CIVA) AS PRECIO_STOCK_MEDIANO\n",
    "    FROM\n",
    "        MSTRDB.DWH.FT_PROMOS AS FP\n",
    "        INNER JOIN MSTRDB.DWH.LU_PROM_EVENTO AS LPE ON LPE.EVENTO_ID = FP.EVENTO_ID\n",
    "        INNER JOIN MSTRDB.DWH.LU_PROM_TIPO_OFERTA AS LPTO ON LPTO.TIPO_OFERTA_ID = LPE.TIPO_OFERTA_ID\n",
    "        INNER JOIN MSTRDB.DWH.LU_ARTC_ARTICULO AS LAA ON FP.ARTC_ARTC_ID = LAA.ARTC_ARTC_ID\n",
    "        INNER JOIN MSTRDB.DWH.FT_STOCK AS FS ON FS.ARTC_ARTC_ID = LAA.ARTC_ARTC_ID AND FS.TIEM_DIA_ID = CURRENT_DATE - 1\n",
    "    WHERE\n",
    "        LPTO.TIPO_OFERTA_ID IN (4, 10, 11, 12)\n",
    "    GROUP BY\n",
    "        ALL\n",
    "'''\n",
    "\n",
    "cursor.execute(query)\n",
    "df_precios_stock_mediano = cursor.fetch_pandas_all()\n",
    "\n",
    "df_precios_stock_mediano['FECHA_ACTUALIZACION'] = datetime.today().strftime('%Y-%m-%d')\n",
    "df_precios_stock_mediano.head(2)"
   ],
   "metadata": {
    "collapsed": false
   }
  },
  {
   "cell_type": "code",
   "execution_count": null,
   "outputs": [],
   "source": [
    "sys.exit()"
   ],
   "metadata": {
    "collapsed": false
   }
  },
  {
   "cell_type": "markdown",
   "source": [
    "# Excel"
   ],
   "metadata": {
    "collapsed": false
   }
  },
  {
   "cell_type": "code",
   "execution_count": null,
   "outputs": [],
   "source": [
    "with pd.ExcelWriter(f\"C:\\\\Users\\\\leonardo.mangold\\\\PycharmProjects\\\\promos_inteligencia_negocio\\\\Promos {datetime.today().strftime('%Y-%m-%d')}.xlsx\", engine='xlsxwriter') as writer:\n",
    "    df_precios_oferta.to_excel(writer, sheet_name='Precios Oferta', index=False)\n",
    "    df_precios_stock_mediano.to_excel(writer, sheet_name='Precios Stock Mediano', index=False)\n",
    "    opt.to_excel(writer, sheet_name='OPT', index=False)\n",
    "    df_locales_activos_ayer.to_excel(writer, sheet_name='Locales Activos Ayer', index=False)\n",
    "    df_days_on_hand_articulo.to_excel(writer, sheet_name='Days on Hand - Articulos', index=False)\n",
    "    df_days_on_hand_subclase.to_excel(writer, sheet_name='Days on Hand - Subclases', index=False)"
   ],
   "metadata": {
    "collapsed": false
   }
  },
  {
   "cell_type": "markdown",
   "source": [
    "# Fin"
   ],
   "metadata": {
    "collapsed": false
   },
   "execution_count": 1
  }
 ],
 "metadata": {
  "colab": {
   "collapsed_sections": [],
   "provenance": []
  },
  "kernelspec": {
   "display_name": "Python 3.9.12 ('env')",
   "language": "python",
   "name": "python3"
  },
  "language_info": {
   "codemirror_mode": {
    "name": "ipython",
    "version": 3
   },
   "file_extension": ".py",
   "mimetype": "text/x-python",
   "name": "python",
   "nbconvert_exporter": "python",
   "pygments_lexer": "ipython3",
   "version": "3.9.12"
  },
  "orig_nbformat": 4,
  "vscode": {
   "interpreter": {
    "hash": "1c19c5efd8f4b93ccbd4006c6f9f93fa19f57b77bfb4a2e5dfb55a2b8dd9ae6c"
   }
  }
 },
 "nbformat": 4,
 "nbformat_minor": 0
}
