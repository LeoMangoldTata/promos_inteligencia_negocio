{
 "cells": [
  {
   "cell_type": "markdown",
   "source": [
    "# Importamos librerias"
   ],
   "metadata": {
    "collapsed": false
   }
  },
  {
   "cell_type": "code",
   "execution_count": 1,
   "metadata": {
    "id": "uLY0cajXhEhy"
   },
   "outputs": [],
   "source": [
    "#pip install snowflake-connector-python==2.7.6"
   ]
  },
  {
   "cell_type": "code",
   "execution_count": 1,
   "metadata": {
    "id": "tKk581G_hMT0"
   },
   "outputs": [],
   "source": [
    "import pandas as pd\n",
    "import numpy as np\n",
    "import snowflake.connector\n",
    "import json\n",
    "import os\n",
    "from snowflake.connector.pandas_tools import write_pandas\n",
    "from datetime import datetime\n",
    "from datetime import timedelta\n",
    "from dateutil.relativedelta import relativedelta\n",
    "pd.options.mode.chained_assignment = None"
   ]
  },
  {
   "cell_type": "code",
   "execution_count": 2,
   "metadata": {
    "colab": {
     "base_uri": "https://localhost:8080/"
    },
    "id": "ChvQTwl1D-Ls",
    "outputId": "351b443f-8ebf-4a34-f7ba-93fb012f5082"
   },
   "outputs": [
    {
     "name": "stdout",
     "output_type": "stream",
     "text": [
      "Connected\n"
     ]
    }
   ],
   "source": [
    "while True:\n",
    "    try:\n",
    "\n",
    "        f = open('credentials.json')\n",
    "        data_pass = json.load(f)\n",
    "\n",
    "        pass_ = input(\"INGRESAR PASSCODE:\")\n",
    "\n",
    "        ctx = snowflake.connector.connect(\n",
    "            user = data_pass['snow']['USER'],\n",
    "            password = data_pass['snow']['PASS'],\n",
    "            account = data_pass['snow']['ACCOUNT'],\n",
    "            passcode = pass_,\n",
    "            database = 'SANDBOX_PLUS',\n",
    "            schema = 'DWH'\n",
    "        )\n",
    "\n",
    "        cursor = ctx.cursor()\n",
    "\n",
    "        print('Connected')\n",
    "\n",
    "        break\n",
    "\n",
    "    except:\n",
    "        print('Incorrect Password - provide again')\n",
    "\n",
    "    print('Correct Password - connected to SNOWFLAKE')"
   ]
  },
  {
   "cell_type": "markdown",
   "source": [
    "# Periodos"
   ],
   "metadata": {
    "collapsed": false
   }
  },
  {
   "cell_type": "code",
   "execution_count": 7,
   "outputs": [],
   "source": [
    "periodo = input(\"Periodo - ejemplo 2023-01:\")"
   ],
   "metadata": {
    "collapsed": false
   }
  },
  {
   "cell_type": "markdown",
   "source": [
    "# OTROS"
   ],
   "metadata": {
    "collapsed": false
   }
  },
  {
   "cell_type": "code",
   "execution_count": 8,
   "outputs": [
    {
     "data": {
      "text/plain": "Empty DataFrame\nColumns: [TIPO_OFERTA_ID, TIPO_OFERTA_DESC, EVENTO_DESC, INICIO, FIN, CLASE, CLASS_NAME, SUBCLASE, SUB_NAME, ORIN, ARTC_ARTC_DESC, GEOG_LOCL_ID, GEOG_LOCL_COD, GEOG_LOCL_DESC]\nIndex: []",
      "text/html": "<div>\n<style scoped>\n    .dataframe tbody tr th:only-of-type {\n        vertical-align: middle;\n    }\n\n    .dataframe tbody tr th {\n        vertical-align: top;\n    }\n\n    .dataframe thead th {\n        text-align: right;\n    }\n</style>\n<table border=\"1\" class=\"dataframe\">\n  <thead>\n    <tr style=\"text-align: right;\">\n      <th></th>\n      <th>TIPO_OFERTA_ID</th>\n      <th>TIPO_OFERTA_DESC</th>\n      <th>EVENTO_DESC</th>\n      <th>INICIO</th>\n      <th>FIN</th>\n      <th>CLASE</th>\n      <th>CLASS_NAME</th>\n      <th>SUBCLASE</th>\n      <th>SUB_NAME</th>\n      <th>ORIN</th>\n      <th>ARTC_ARTC_DESC</th>\n      <th>GEOG_LOCL_ID</th>\n      <th>GEOG_LOCL_COD</th>\n      <th>GEOG_LOCL_DESC</th>\n    </tr>\n  </thead>\n  <tbody>\n  </tbody>\n</table>\n</div>"
     },
     "execution_count": 8,
     "metadata": {},
     "output_type": "execute_result"
    }
   ],
   "source": [
    "query = '''\n",
    "SELECT\n",
    "    LPTO.*,\n",
    "    LPE.EVENTO_DESC,\n",
    "    FP.PROM_FECHA_INICIO AS INICIO,\n",
    "    FP.PROM_FECHA_FIN AS FIN,\n",
    "    CLA.CLASE,\n",
    "    CLA.CLASS_NAME,\n",
    "    SUB.SUBCLASE,\n",
    "    SUB.SUB_NAME,\n",
    "    LAA.ORIN,\n",
    "    LAA.ARTC_ARTC_DESC,\n",
    "    FP.GEOG_LOCL_ID,\n",
    "    LGL.GEOG_LOCL_COD,\n",
    "    LGL.GEOG_LOCL_DESC\n",
    "FROM\n",
    "    MSTRDB.DWH.FT_PROMOS AS FP\n",
    "    INNER JOIN MSTRDB.DWH.LU_PROM_EVENTO AS LPE ON LPE.EVENTO_ID = FP.EVENTO_ID\n",
    "    INNER JOIN MSTRDB.DWH.LU_PROM_TIPO_OFERTA AS LPTO ON LPTO.TIPO_OFERTA_ID = LPE.TIPO_OFERTA_ID\n",
    "    INNER JOIN MSTRDB.DWH.LU_ARTC_ARTICULO AS LAA ON LAA.ARTC_ARTC_ID = FP.ARTC_ARTC_ID\n",
    "    INNER JOIN MSTRDB.DWH.LU_GEOG_LOCAL AS LGL ON LGL.GEOG_LOCL_ID = FP.GEOG_LOCL_ID\n",
    "    INNER JOIN MSTRDB.DWH.ITEM_MASTER AS IM ON IM.ITEM = LAA.ORIN\n",
    "    INNER JOIN MSTRDB.DWH.CLASS AS CLA ON CLA.CLASE = IM.CLASE\n",
    "    INNER JOIN MSTRDB.DWH.SUBCLASS AS SUB ON SUB.SUBCLASE = IM.SUBCLASE\n",
    "WHERE\n",
    "    LPTO.TIPO_OFERTA_ID IN (10, 11, 12)\n",
    "    AND (TO_VARCHAR(FP.PROM_FECHA_INICIO, 'YYYY-MM') = '{periodo_query}' OR TO_VARCHAR(FP.PROM_FECHA_FIN, 'YYYY-MM') = '{periodo_query}')\n",
    "'''\n",
    "\n",
    "cursor.execute(query.format(periodo_query = periodo))\n",
    "df = cursor.fetch_pandas_all()\n",
    "df.head(2)"
   ],
   "metadata": {
    "collapsed": false
   }
  },
  {
   "cell_type": "markdown",
   "source": [
    "## Articulos Publicados"
   ],
   "metadata": {
    "collapsed": false
   }
  },
  {
   "cell_type": "markdown",
   "source": [
    "### tabla 1 - Articulos Publicados"
   ],
   "metadata": {
    "collapsed": false
   }
  },
  {
   "cell_type": "code",
   "execution_count": 9,
   "outputs": [
    {
     "data": {
      "text/plain": "Empty DataFrame\nColumns: [TIPO_OFERTA_ID, TIPO_OFERTA_DESC, EVENTO_DESC, INICIO, FIN, GEOG_LOCL_COD, GEOG_LOCL_DESC, CLASE, CLASS_NAME, SUBCLASE, SUB_NAME, NUMERO_ARTICULOS]\nIndex: []",
      "text/html": "<div>\n<style scoped>\n    .dataframe tbody tr th:only-of-type {\n        vertical-align: middle;\n    }\n\n    .dataframe tbody tr th {\n        vertical-align: top;\n    }\n\n    .dataframe thead th {\n        text-align: right;\n    }\n</style>\n<table border=\"1\" class=\"dataframe\">\n  <thead>\n    <tr style=\"text-align: right;\">\n      <th></th>\n      <th>TIPO_OFERTA_ID</th>\n      <th>TIPO_OFERTA_DESC</th>\n      <th>EVENTO_DESC</th>\n      <th>INICIO</th>\n      <th>FIN</th>\n      <th>GEOG_LOCL_COD</th>\n      <th>GEOG_LOCL_DESC</th>\n      <th>CLASE</th>\n      <th>CLASS_NAME</th>\n      <th>SUBCLASE</th>\n      <th>SUB_NAME</th>\n      <th>NUMERO_ARTICULOS</th>\n    </tr>\n  </thead>\n  <tbody>\n  </tbody>\n</table>\n</div>"
     },
     "execution_count": 9,
     "metadata": {},
     "output_type": "execute_result"
    }
   ],
   "source": [
    "e_1 = df.groupby(['TIPO_OFERTA_ID', 'TIPO_OFERTA_DESC', 'EVENTO_DESC', 'INICIO', 'FIN', 'GEOG_LOCL_COD', 'GEOG_LOCL_DESC','CLASE', 'CLASS_NAME', 'SUBCLASE', 'SUB_NAME'])['ORIN'].nunique().reset_index()\n",
    "e_1.rename({'ORIN':'NUMERO_ARTICULOS'}, axis = 1, inplace = True)\n",
    "e_1.head(2)"
   ],
   "metadata": {
    "collapsed": false
   }
  },
  {
   "cell_type": "markdown",
   "source": [
    "## Ventas, GB1 & Numero de Subclases"
   ],
   "metadata": {
    "collapsed": false
   }
  },
  {
   "cell_type": "markdown",
   "source": [
    "### Queries"
   ],
   "metadata": {
    "collapsed": false
   }
  },
  {
   "cell_type": "code",
   "execution_count": 10,
   "outputs": [
    {
     "name": "stdout",
     "output_type": "stream",
     "text": [
      "0\n"
     ]
    },
    {
     "data": {
      "text/plain": "Empty DataFrame\nColumns: [TIPO_OFERTA_ID, TIPO_OFERTA_DESC, TIEM_DIA_ID, CLASE, CLASS_NAME, SUBCLASE, SUB_NAME, ORIN, GEOG_LOCL_COD, INICIO, FIN, VENTA_SIN_IVA, COSTO, GB1]\nIndex: []",
      "text/html": "<div>\n<style scoped>\n    .dataframe tbody tr th:only-of-type {\n        vertical-align: middle;\n    }\n\n    .dataframe tbody tr th {\n        vertical-align: top;\n    }\n\n    .dataframe thead th {\n        text-align: right;\n    }\n</style>\n<table border=\"1\" class=\"dataframe\">\n  <thead>\n    <tr style=\"text-align: right;\">\n      <th></th>\n      <th>TIPO_OFERTA_ID</th>\n      <th>TIPO_OFERTA_DESC</th>\n      <th>TIEM_DIA_ID</th>\n      <th>CLASE</th>\n      <th>CLASS_NAME</th>\n      <th>SUBCLASE</th>\n      <th>SUB_NAME</th>\n      <th>ORIN</th>\n      <th>GEOG_LOCL_COD</th>\n      <th>INICIO</th>\n      <th>FIN</th>\n      <th>VENTA_SIN_IVA</th>\n      <th>COSTO</th>\n      <th>GB1</th>\n    </tr>\n  </thead>\n  <tbody>\n  </tbody>\n</table>\n</div>"
     },
     "execution_count": 10,
     "metadata": {},
     "output_type": "execute_result"
    }
   ],
   "source": [
    "query = '''\n",
    "WITH PROMOS AS\n",
    "    (\n",
    "    SELECT\n",
    "        LPTO.*,\n",
    "        LPE.EVENTO_DESC,\n",
    "        FP.PROM_FECHA_INICIO AS INICIO,\n",
    "        FP.PROM_FECHA_FIN AS FIN,\n",
    "        CLA.CLASE,\n",
    "        CLA.CLASS_NAME,\n",
    "        SUB.SUBCLASE,\n",
    "        SUB.SUB_NAME,\n",
    "        LAA.ORIN,\n",
    "        LAA.ARTC_ARTC_DESC,\n",
    "        FP.GEOG_LOCL_ID,\n",
    "        LGL.GEOG_LOCL_COD,\n",
    "        LGL.GEOG_LOCL_DESC\n",
    "    FROM\n",
    "        MSTRDB.DWH.FT_PROMOS AS FP\n",
    "        INNER JOIN MSTRDB.DWH.LU_PROM_EVENTO AS LPE ON LPE.EVENTO_ID = FP.EVENTO_ID\n",
    "        INNER JOIN MSTRDB.DWH.LU_PROM_TIPO_OFERTA AS LPTO ON LPTO.TIPO_OFERTA_ID = LPE.TIPO_OFERTA_ID\n",
    "        INNER JOIN MSTRDB.DWH.LU_ARTC_ARTICULO AS LAA ON LAA.ARTC_ARTC_ID = FP.ARTC_ARTC_ID\n",
    "        INNER JOIN MSTRDB.DWH.LU_GEOG_LOCAL AS LGL ON LGL.GEOG_LOCL_ID = FP.GEOG_LOCL_ID\n",
    "        INNER JOIN MSTRDB.DWH.ITEM_MASTER AS IM ON IM.ITEM = LAA.ORIN\n",
    "        INNER JOIN MSTRDB.DWH.CLASS AS CLA ON CLA.CLASE = IM.CLASE\n",
    "        INNER JOIN MSTRDB.DWH.SUBCLASS AS SUB ON SUB.SUBCLASE = IM.SUBCLASE\n",
    "    WHERE\n",
    "        LPTO.TIPO_OFERTA_ID IN (10, 11, 12)\n",
    "        AND (TO_VARCHAR(FP.PROM_FECHA_INICIO, 'YYYY-MM') = '{periodo_query}' OR TO_VARCHAR(FP.PROM_FECHA_FIN, 'YYYY-MM') = '{periodo_query}')\n",
    "    )\n",
    "\n",
    "SELECT\n",
    "    PROMOS.TIPO_OFERTA_ID,\n",
    "    PROMOS.TIPO_OFERTA_DESC,\n",
    "    FV.TIEM_DIA_ID,\n",
    "    IM.CLASE,\n",
    "    CLA.CLASS_NAME,\n",
    "    IM.SUBCLASE,\n",
    "    SUB.SUB_NAME,\n",
    "    LAA.ORIN,\n",
    "    LGL.GEOG_LOCL_COD,\n",
    "    PROMOS.INICIO,\n",
    "    PROMOS.FIN,\n",
    "    FV.VNTA_IMPORTE_SIN_IVA AS VENTA_SIN_IVA,\n",
    "    FV.VNTA_UNIDADES * FV.VNTA_COSTO_PROM_POND AS COSTO,\n",
    "    VENTA_SIN_IVA - COSTO AS GB1\n",
    "FROM\n",
    "    MSTRDB.DWH.FT_VENTAS AS FV\n",
    "    INNER JOIN MSTRDB.DWH.LU_GEOG_LOCAL AS LGL ON FV.GEOG_LOCL_ID = LGL.GEOG_LOCL_ID\n",
    "    INNER JOIN MSTRDB.DWH.LU_ARTC_ARTICULO AS LAA ON LAA.ARTC_ARTC_ID = FV .ARTC_ARTC_ID\n",
    "    INNER JOIN MSTRDB.DWH.ITEM_MASTER AS IM ON IM.ITEM = LAA.ORIN\n",
    "    INNER JOIN MSTRDB.DWH.SUBCLASS AS SUB ON SUB.SUBCLASE = IM.SUBCLASE\n",
    "    INNER JOIN MSTRDB.DWH.CLASS AS CLA ON CLA.CLASE = IM.CLASE\n",
    "    INNER JOIN PROMOS ON PROMOS.ORIN = LAA.ORIN AND PROMOS.GEOG_LOCL_COD = LGL.GEOG_LOCL_COD AND FV.TIEM_DIA_ID BETWEEN PROMOS.INICIO AND PROMOS.FIN\n",
    "WHERE\n",
    "    TO_VARCHAR(FV.TIEM_DIA_ID, 'YYYY-MM') = '{periodo_query}'\n",
    "'''\n",
    "\n",
    "cursor.execute(query.format(periodo_query = periodo))\n",
    "arts_1 = cursor.fetch_pandas_all()\n",
    "print(arts_1.shape[0])\n",
    "arts_1.head(2)"
   ],
   "metadata": {
    "collapsed": false
   }
  },
  {
   "cell_type": "code",
   "execution_count": 11,
   "outputs": [
    {
     "name": "stdout",
     "output_type": "stream",
     "text": [
      "0\n"
     ]
    },
    {
     "data": {
      "text/plain": "Empty DataFrame\nColumns: [TIEM_DIA_ID, CLASE, CLASS_NAME, SUBCLASE, SUB_NAME, ORIN, GEOG_LOCL_COD, VENTA_SIN_IVA_TOTAL, COSTO, GB1_TOTAL]\nIndex: []",
      "text/html": "<div>\n<style scoped>\n    .dataframe tbody tr th:only-of-type {\n        vertical-align: middle;\n    }\n\n    .dataframe tbody tr th {\n        vertical-align: top;\n    }\n\n    .dataframe thead th {\n        text-align: right;\n    }\n</style>\n<table border=\"1\" class=\"dataframe\">\n  <thead>\n    <tr style=\"text-align: right;\">\n      <th></th>\n      <th>TIEM_DIA_ID</th>\n      <th>CLASE</th>\n      <th>CLASS_NAME</th>\n      <th>SUBCLASE</th>\n      <th>SUB_NAME</th>\n      <th>ORIN</th>\n      <th>GEOG_LOCL_COD</th>\n      <th>VENTA_SIN_IVA_TOTAL</th>\n      <th>COSTO</th>\n      <th>GB1_TOTAL</th>\n    </tr>\n  </thead>\n  <tbody>\n  </tbody>\n</table>\n</div>"
     },
     "execution_count": 11,
     "metadata": {},
     "output_type": "execute_result"
    }
   ],
   "source": [
    "query = '''\n",
    "WITH PROMOS AS\n",
    "    (\n",
    "    SELECT\n",
    "        LPTO.*,\n",
    "        LPE.EVENTO_DESC,\n",
    "        FP.PROM_FECHA_INICIO AS INICIO,\n",
    "        FP.PROM_FECHA_FIN AS FIN,\n",
    "        CLA.CLASE,\n",
    "        CLA.CLASS_NAME,\n",
    "        SUB.SUBCLASE,\n",
    "        SUB.SUB_NAME,\n",
    "        LAA.ORIN,\n",
    "        LAA.ARTC_ARTC_DESC,\n",
    "        FP.GEOG_LOCL_ID,\n",
    "        LGL.GEOG_LOCL_COD,\n",
    "        LGL.GEOG_LOCL_DESC\n",
    "    FROM\n",
    "        MSTRDB.DWH.FT_PROMOS AS FP\n",
    "        INNER JOIN MSTRDB.DWH.LU_PROM_EVENTO AS LPE ON LPE.EVENTO_ID = FP.EVENTO_ID\n",
    "        INNER JOIN MSTRDB.DWH.LU_PROM_TIPO_OFERTA AS LPTO ON LPTO.TIPO_OFERTA_ID = LPE.TIPO_OFERTA_ID\n",
    "        INNER JOIN MSTRDB.DWH.LU_ARTC_ARTICULO AS LAA ON LAA.ARTC_ARTC_ID = FP.ARTC_ARTC_ID\n",
    "        INNER JOIN MSTRDB.DWH.LU_GEOG_LOCAL AS LGL ON LGL.GEOG_LOCL_ID = FP.GEOG_LOCL_ID\n",
    "        INNER JOIN MSTRDB.DWH.ITEM_MASTER AS IM ON IM.ITEM = LAA.ORIN\n",
    "        INNER JOIN MSTRDB.DWH.CLASS AS CLA ON CLA.CLASE = IM.CLASE\n",
    "        INNER JOIN MSTRDB.DWH.SUBCLASS AS SUB ON SUB.SUBCLASE = IM.SUBCLASE\n",
    "    WHERE\n",
    "        LPTO.TIPO_OFERTA_ID IN (10, 11, 12)\n",
    "        AND (TO_VARCHAR(FP.PROM_FECHA_INICIO, 'YYYY-MM') = '{periodo_query}' OR TO_VARCHAR(FP.PROM_FECHA_FIN, 'YYYY-MM') = '{periodo_query}')\n",
    "    )\n",
    "\n",
    "SELECT\n",
    "    FV.TIEM_DIA_ID,\n",
    "    IM.CLASE,\n",
    "    CLA.CLASS_NAME,\n",
    "    IM.SUBCLASE,\n",
    "    SUB.SUB_NAME,\n",
    "    LAA.ORIN,\n",
    "    LGL.GEOG_LOCL_COD,\n",
    "    FV.VNTA_IMPORTE_SIN_IVA AS VENTA_SIN_IVA_TOTAL,\n",
    "    FV.VNTA_UNIDADES * FV.VNTA_COSTO_PROM_POND AS COSTO,\n",
    "    VENTA_SIN_IVA_TOTAL - COSTO AS GB1_TOTAL\n",
    "FROM\n",
    "    MSTRDB.DWH.FT_VENTAS AS FV\n",
    "    INNER JOIN MSTRDB.DWH.LU_GEOG_LOCAL AS LGL ON FV.GEOG_LOCL_ID = LGL.GEOG_LOCL_ID\n",
    "    INNER JOIN MSTRDB.DWH.LU_ARTC_ARTICULO AS LAA ON LAA.ARTC_ARTC_ID = FV .ARTC_ARTC_ID\n",
    "    INNER JOIN MSTRDB.DWH.ITEM_MASTER AS IM ON IM.ITEM = LAA.ORIN\n",
    "    INNER JOIN MSTRDB.DWH.SUBCLASS AS SUB ON SUB.SUBCLASE = IM.SUBCLASE\n",
    "    INNER JOIN MSTRDB.DWH.CLASS AS CLA ON CLA.CLASE = IM.CLASE\n",
    "    INNER JOIN PROMOS ON PROMOS.SUBCLASE = IM.SUBCLASE AND PROMOS.GEOG_LOCL_COD = LGL.GEOG_LOCL_COD AND FV.TIEM_DIA_ID BETWEEN PROMOS.INICIO AND PROMOS.FIN\n",
    "WHERE\n",
    "    TO_VARCHAR(FV.TIEM_DIA_ID, 'YYYY-MM') = '{periodo_query}'\n",
    "'''\n",
    "\n",
    "cursor.execute(query.format(periodo_query = periodo))\n",
    "subs_1 = cursor.fetch_pandas_all()\n",
    "print(subs_1.shape[0])\n",
    "subs_1.head(2)"
   ],
   "metadata": {
    "collapsed": false
   }
  },
  {
   "cell_type": "code",
   "execution_count": 12,
   "outputs": [
    {
     "name": "stderr",
     "output_type": "stream",
     "text": [
      "C:\\Users\\leonardo.mangold\\AppData\\Local\\Temp\\ipykernel_13980\\4176392989.py:1: FutureWarning: Indexing with multiple keys (implicitly converted to a tuple of keys) will be deprecated, use a list instead.\n",
      "  subs_2 = subs_1.groupby(['CLASE', 'CLASS_NAME', 'SUBCLASE', 'SUB_NAME'])['VENTA_SIN_IVA_TOTAL', 'GB1_TOTAL'].sum().reset_index()\n"
     ]
    },
    {
     "ename": "KeyError",
     "evalue": "'VENTA_SIN_IVA_TOTAL'",
     "output_type": "error",
     "traceback": [
      "\u001B[1;31m---------------------------------------------------------------------------\u001B[0m",
      "\u001B[1;31mKeyError\u001B[0m                                  Traceback (most recent call last)",
      "File \u001B[1;32m~\\Desktop\\Tareas\\Analisis\\!Python\\env\\lib\\site-packages\\pandas\\core\\indexes\\base.py:3361\u001B[0m, in \u001B[0;36mIndex.get_loc\u001B[1;34m(self, key, method, tolerance)\u001B[0m\n\u001B[0;32m   3360\u001B[0m \u001B[38;5;28;01mtry\u001B[39;00m:\n\u001B[1;32m-> 3361\u001B[0m     \u001B[38;5;28;01mreturn\u001B[39;00m \u001B[38;5;28;43mself\u001B[39;49m\u001B[38;5;241;43m.\u001B[39;49m\u001B[43m_engine\u001B[49m\u001B[38;5;241;43m.\u001B[39;49m\u001B[43mget_loc\u001B[49m\u001B[43m(\u001B[49m\u001B[43mcasted_key\u001B[49m\u001B[43m)\u001B[49m\n\u001B[0;32m   3362\u001B[0m \u001B[38;5;28;01mexcept\u001B[39;00m \u001B[38;5;167;01mKeyError\u001B[39;00m \u001B[38;5;28;01mas\u001B[39;00m err:\n",
      "File \u001B[1;32m~\\Desktop\\Tareas\\Analisis\\!Python\\env\\lib\\site-packages\\pandas\\_libs\\index.pyx:76\u001B[0m, in \u001B[0;36mpandas._libs.index.IndexEngine.get_loc\u001B[1;34m()\u001B[0m\n",
      "File \u001B[1;32m~\\Desktop\\Tareas\\Analisis\\!Python\\env\\lib\\site-packages\\pandas\\_libs\\index.pyx:108\u001B[0m, in \u001B[0;36mpandas._libs.index.IndexEngine.get_loc\u001B[1;34m()\u001B[0m\n",
      "File \u001B[1;32mpandas\\_libs\\hashtable_class_helper.pxi:5198\u001B[0m, in \u001B[0;36mpandas._libs.hashtable.PyObjectHashTable.get_item\u001B[1;34m()\u001B[0m\n",
      "File \u001B[1;32mpandas\\_libs\\hashtable_class_helper.pxi:5206\u001B[0m, in \u001B[0;36mpandas._libs.hashtable.PyObjectHashTable.get_item\u001B[1;34m()\u001B[0m\n",
      "\u001B[1;31mKeyError\u001B[0m: 'VENTA_SIN_IVA_TOTAL'",
      "\nThe above exception was the direct cause of the following exception:\n",
      "\u001B[1;31mKeyError\u001B[0m                                  Traceback (most recent call last)",
      "Input \u001B[1;32mIn [12]\u001B[0m, in \u001B[0;36m<cell line: 3>\u001B[1;34m()\u001B[0m\n\u001B[0;32m      1\u001B[0m subs_2 \u001B[38;5;241m=\u001B[39m subs_1\u001B[38;5;241m.\u001B[39mgroupby([\u001B[38;5;124m'\u001B[39m\u001B[38;5;124mCLASE\u001B[39m\u001B[38;5;124m'\u001B[39m, \u001B[38;5;124m'\u001B[39m\u001B[38;5;124mCLASS_NAME\u001B[39m\u001B[38;5;124m'\u001B[39m, \u001B[38;5;124m'\u001B[39m\u001B[38;5;124mSUBCLASE\u001B[39m\u001B[38;5;124m'\u001B[39m, \u001B[38;5;124m'\u001B[39m\u001B[38;5;124mSUB_NAME\u001B[39m\u001B[38;5;124m'\u001B[39m])[\u001B[38;5;124m'\u001B[39m\u001B[38;5;124mVENTA_SIN_IVA_TOTAL\u001B[39m\u001B[38;5;124m'\u001B[39m, \u001B[38;5;124m'\u001B[39m\u001B[38;5;124mGB1_TOTAL\u001B[39m\u001B[38;5;124m'\u001B[39m]\u001B[38;5;241m.\u001B[39msum()\u001B[38;5;241m.\u001B[39mreset_index()\n\u001B[0;32m      3\u001B[0m \u001B[38;5;28;01mfor\u001B[39;00m i \u001B[38;5;129;01min\u001B[39;00m [\u001B[38;5;124m'\u001B[39m\u001B[38;5;124mVENTA_SIN_IVA_TOTAL\u001B[39m\u001B[38;5;124m'\u001B[39m, \u001B[38;5;124m'\u001B[39m\u001B[38;5;124mGB1_TOTAL\u001B[39m\u001B[38;5;124m'\u001B[39m]:\n\u001B[1;32m----> 4\u001B[0m     subs_2[i] \u001B[38;5;241m=\u001B[39m \u001B[43msubs_2\u001B[49m\u001B[43m[\u001B[49m\u001B[43mi\u001B[49m\u001B[43m]\u001B[49m\u001B[38;5;241m.\u001B[39mastype(\u001B[38;5;28mint\u001B[39m)\n\u001B[0;32m      6\u001B[0m subs_2[\u001B[38;5;124m'\u001B[39m\u001B[38;5;124mREF_2\u001B[39m\u001B[38;5;124m'\u001B[39m] \u001B[38;5;241m=\u001B[39m \u001B[38;5;124m'\u001B[39m\u001B[38;5;124mVenta Total\u001B[39m\u001B[38;5;124m'\u001B[39m\n\u001B[0;32m      8\u001B[0m subs_2 \u001B[38;5;241m=\u001B[39m pd\u001B[38;5;241m.\u001B[39mconcat([subs_2[\u001B[38;5;124m'\u001B[39m\u001B[38;5;124mREF_2\u001B[39m\u001B[38;5;124m'\u001B[39m], subs_2\u001B[38;5;241m.\u001B[39mdrop(\u001B[38;5;124m'\u001B[39m\u001B[38;5;124mREF_2\u001B[39m\u001B[38;5;124m'\u001B[39m, axis\u001B[38;5;241m=\u001B[39m\u001B[38;5;241m1\u001B[39m)], axis\u001B[38;5;241m=\u001B[39m\u001B[38;5;241m1\u001B[39m)\n",
      "File \u001B[1;32m~\\Desktop\\Tareas\\Analisis\\!Python\\env\\lib\\site-packages\\pandas\\core\\frame.py:3458\u001B[0m, in \u001B[0;36mDataFrame.__getitem__\u001B[1;34m(self, key)\u001B[0m\n\u001B[0;32m   3456\u001B[0m \u001B[38;5;28;01mif\u001B[39;00m \u001B[38;5;28mself\u001B[39m\u001B[38;5;241m.\u001B[39mcolumns\u001B[38;5;241m.\u001B[39mnlevels \u001B[38;5;241m>\u001B[39m \u001B[38;5;241m1\u001B[39m:\n\u001B[0;32m   3457\u001B[0m     \u001B[38;5;28;01mreturn\u001B[39;00m \u001B[38;5;28mself\u001B[39m\u001B[38;5;241m.\u001B[39m_getitem_multilevel(key)\n\u001B[1;32m-> 3458\u001B[0m indexer \u001B[38;5;241m=\u001B[39m \u001B[38;5;28;43mself\u001B[39;49m\u001B[38;5;241;43m.\u001B[39;49m\u001B[43mcolumns\u001B[49m\u001B[38;5;241;43m.\u001B[39;49m\u001B[43mget_loc\u001B[49m\u001B[43m(\u001B[49m\u001B[43mkey\u001B[49m\u001B[43m)\u001B[49m\n\u001B[0;32m   3459\u001B[0m \u001B[38;5;28;01mif\u001B[39;00m is_integer(indexer):\n\u001B[0;32m   3460\u001B[0m     indexer \u001B[38;5;241m=\u001B[39m [indexer]\n",
      "File \u001B[1;32m~\\Desktop\\Tareas\\Analisis\\!Python\\env\\lib\\site-packages\\pandas\\core\\indexes\\base.py:3363\u001B[0m, in \u001B[0;36mIndex.get_loc\u001B[1;34m(self, key, method, tolerance)\u001B[0m\n\u001B[0;32m   3361\u001B[0m         \u001B[38;5;28;01mreturn\u001B[39;00m \u001B[38;5;28mself\u001B[39m\u001B[38;5;241m.\u001B[39m_engine\u001B[38;5;241m.\u001B[39mget_loc(casted_key)\n\u001B[0;32m   3362\u001B[0m     \u001B[38;5;28;01mexcept\u001B[39;00m \u001B[38;5;167;01mKeyError\u001B[39;00m \u001B[38;5;28;01mas\u001B[39;00m err:\n\u001B[1;32m-> 3363\u001B[0m         \u001B[38;5;28;01mraise\u001B[39;00m \u001B[38;5;167;01mKeyError\u001B[39;00m(key) \u001B[38;5;28;01mfrom\u001B[39;00m \u001B[38;5;21;01merr\u001B[39;00m\n\u001B[0;32m   3365\u001B[0m \u001B[38;5;28;01mif\u001B[39;00m is_scalar(key) \u001B[38;5;129;01mand\u001B[39;00m isna(key) \u001B[38;5;129;01mand\u001B[39;00m \u001B[38;5;129;01mnot\u001B[39;00m \u001B[38;5;28mself\u001B[39m\u001B[38;5;241m.\u001B[39mhasnans:\n\u001B[0;32m   3366\u001B[0m     \u001B[38;5;28;01mraise\u001B[39;00m \u001B[38;5;167;01mKeyError\u001B[39;00m(key)\n",
      "\u001B[1;31mKeyError\u001B[0m: 'VENTA_SIN_IVA_TOTAL'"
     ]
    }
   ],
   "source": [
    "subs_2 = subs_1.groupby(['CLASE', 'CLASS_NAME', 'SUBCLASE', 'SUB_NAME'])['VENTA_SIN_IVA_TOTAL', 'GB1_TOTAL'].sum().reset_index()\n",
    "\n",
    "for i in ['VENTA_SIN_IVA_TOTAL', 'GB1_TOTAL']:\n",
    "    subs_2[i] = subs_2[i].astype(int)\n",
    "\n",
    "subs_2['REF_2'] = 'Venta Total'\n",
    "\n",
    "subs_2 = pd.concat([subs_2['REF_2'], subs_2.drop('REF_2', axis=1)], axis=1)\n",
    "subs_2.head(2)"
   ],
   "metadata": {
    "collapsed": false
   }
  },
  {
   "cell_type": "markdown",
   "source": [
    "### tabla 2 - Venta y GB1 por Promo"
   ],
   "metadata": {
    "collapsed": false
   }
  },
  {
   "cell_type": "code",
   "execution_count": null,
   "outputs": [],
   "source": [
    "arts_2 = arts_1.groupby(['TIPO_OFERTA_ID', 'TIPO_OFERTA_DESC', 'CLASE', 'CLASS_NAME', 'SUBCLASE', 'SUB_NAME'])['VENTA_SIN_IVA', 'GB1'].sum().reset_index()\n",
    "for i in ['VENTA_SIN_IVA', 'GB1']:\n",
    "    arts_2[i] = arts_2[i].astype(int)\n",
    "\n",
    "arts_2['GB1_%'] = round(arts_2['GB1'] / arts_2['VENTA_SIN_IVA'] * 100, 1)\n",
    "arts_2['REF'] = 'Venta Promo'\n",
    "\n",
    "arts_2 = pd.concat([arts_2['REF'], arts_2.drop('REF', axis=1)], axis=1)\n",
    "\n",
    "arts_2.head(2)"
   ],
   "metadata": {
    "collapsed": false
   }
  },
  {
   "cell_type": "markdown",
   "source": [
    "### tabla 3 - Numero de Subclases"
   ],
   "metadata": {
    "collapsed": false
   }
  },
  {
   "cell_type": "code",
   "execution_count": null,
   "outputs": [],
   "source": [
    "arts_2.head(2)\n",
    "arts_4 = arts_2.groupby(['TIPO_OFERTA_ID', 'TIPO_OFERTA_DESC'])['SUBCLASE'].nunique().reset_index()\n",
    "arts_4.rename({'SUBCLASE':'NUMERO_SUBCLASES'}, axis = 1, inplace = True)\n",
    "arts_4"
   ],
   "metadata": {
    "collapsed": false
   }
  },
  {
   "cell_type": "code",
   "execution_count": null,
   "outputs": [],
   "source": [
    "arts_1[['TIPO_OFERTA_ID', 'TIPO_OFERTA_DESC', 'INICIO', 'FIN', 'GEOG_LOCL_COD']].drop_duplicates()\n",
    "unicos = arts_1[['TIPO_OFERTA_ID', 'TIPO_OFERTA_DESC', 'INICIO', 'FIN']].drop_duplicates()"
   ],
   "metadata": {
    "collapsed": false
   }
  },
  {
   "cell_type": "code",
   "execution_count": null,
   "outputs": [],
   "source": [
    "import pandas as pd\n",
    "\n",
    "# Assuming 'arts_1' is your original dataframe\n",
    "# Extracting required columns and dropping duplicates for both dataframes\n",
    "A = arts_1[['TIPO_OFERTA_ID', 'TIPO_OFERTA_DESC', 'INICIO', 'FIN', 'GEOG_LOCL_COD']].drop_duplicates()\n",
    "unicos = arts_1[['TIPO_OFERTA_ID', 'TIPO_OFERTA_DESC', 'INICIO', 'FIN']].drop_duplicates()\n",
    "\n",
    "# Merge dataframes on common columns\n",
    "merged_df = pd.merge(unicos, A, on=['TIPO_OFERTA_ID', 'TIPO_OFERTA_DESC', 'INICIO', 'FIN'], how='left')\n",
    "\n",
    "# Group by the specified columns and aggregate 'GEOG_LOCL_COD' values into parentheses\n",
    "grouped_df = merged_df.groupby(['TIPO_OFERTA_ID', 'TIPO_OFERTA_DESC', 'INICIO', 'FIN'])['GEOG_LOCL_COD'].agg(\n",
    "    lambda x: tuple(x) if len(x) > 1 else (x.iloc[0]) if not x.empty else None\n",
    ").reset_index()\n",
    "\n",
    "# Rename the aggregated column\n",
    "grouped_df.rename(columns={'GEOG_LOCL_COD': 'LOCALES'}, inplace=True)\n",
    "\n",
    "# Merge the grouped dataframe back to the original 'unicos' dataframe\n",
    "unicos = pd.merge(unicos, grouped_df, on=['TIPO_OFERTA_ID', 'TIPO_OFERTA_DESC', 'INICIO', 'FIN'], how='left')\n",
    "\n",
    "unicos['LOCALES'] = list(map(lambda x: str(x).replace('(', '').replace(')', ''), unicos['LOCALES']))\n",
    "unicos"
   ],
   "metadata": {
    "collapsed": false
   }
  },
  {
   "cell_type": "code",
   "execution_count": null,
   "outputs": [],
   "source": [
    "arts_5 = pd.DataFrame()\n",
    "\n",
    "query = '''\n",
    "SELECT\n",
    "    DISTINCT\n",
    "    LGL.GEOG_LOCL_COD,\n",
    "    IM.SUBCLASE\n",
    "FROM\n",
    "    MSTRDB.DWH.FT_VENTAS AS FV\n",
    "    INNER JOIN MSTRDB.DWH.LU_GEOG_LOCAL AS LGL ON LGL.GEOG_LOCL_ID = FV.GEOG_LOCL_ID\n",
    "    INNER JOIN MSTRDB.DWH.LU_ARTC_ARTICULO AS LAA ON FV.ARTC_ARTC_ID = LAA.ARTC_ARTC_ID\n",
    "    INNER JOIN MSTRDB.DWH.ITEM_MASTER AS IM ON IM.ITEM = LAA.ORIN\n",
    "WHERE\n",
    "    FV.TIEM_DIA_ID BETWEEN '{inicio_snow}' AND '{fin_snow}'\n",
    "    AND LGL.GEOG_LOCL_COD IN ({locales_snow})\n",
    "'''\n",
    "\n",
    "for i in range(unicos.shape[0]):\n",
    "    tipo_oferta_id = unicos.loc[i]['TIPO_OFERTA_ID']\n",
    "    tipo_oferta_desc = unicos.loc[i]['TIPO_OFERTA_DESC']\n",
    "    inicio = unicos.loc[i]['INICIO']\n",
    "    fin = unicos.loc[i]['FIN']\n",
    "    locales = unicos.loc[i]['LOCALES']\n",
    "\n",
    "    cursor.execute(query.format(inicio_snow = inicio, fin_snow = fin, locales_snow = locales))\n",
    "    df_aux = cursor.fetch_pandas_all()\n",
    "    df_aux['TIPO_OFERTA_ID'] = tipo_oferta_id\n",
    "    df_aux['TIPO_OFERTA_DESC'] = tipo_oferta_desc\n",
    "    arts_5 = pd.concat([arts_5, df_aux])\n",
    "\n",
    "arts_6 = arts_5.groupby(['TIPO_OFERTA_ID', 'TIPO_OFERTA_DESC'])['SUBCLASE'].nunique().reset_index()\n",
    "arts_6.rename({'SUBCLASE':'NUMERO_SUBCLASES_TOTALES'}, axis = 1, inplace = True)"
   ],
   "metadata": {
    "collapsed": false
   }
  },
  {
   "cell_type": "markdown",
   "source": [
    "### tabla 3 - Numero de Subclases"
   ],
   "metadata": {
    "collapsed": false
   }
  },
  {
   "cell_type": "code",
   "execution_count": null,
   "outputs": [],
   "source": [
    "e_6 = arts_4.merge(arts_6, on = ['TIPO_OFERTA_ID', 'TIPO_OFERTA_DESC'], how = 'inner')\n",
    "e_6['RATIO'] = round(e_6['NUMERO_SUBCLASES'] / e_6['NUMERO_SUBCLASES_TOTALES'] * 100, 1)\n",
    "e_6"
   ],
   "metadata": {
    "collapsed": false
   }
  },
  {
   "cell_type": "markdown",
   "source": [
    "### tabla 4 - Venta y GB1 por Subclase"
   ],
   "metadata": {
    "collapsed": false
   }
  },
  {
   "cell_type": "code",
   "execution_count": null,
   "outputs": [],
   "source": [
    "# Hay subclases que estan presentes en mas de una promo\n",
    "arts_2[arts_2['SUB_NAME'].duplicated()]\n",
    "arts_2[arts_2['SUBCLASE'] == 100020003]"
   ],
   "metadata": {
    "collapsed": false
   }
  },
  {
   "cell_type": "code",
   "execution_count": null,
   "outputs": [],
   "source": [
    "# Para comparar con las ventas de la subclase o clase, tengo que agrupar y perder el tipo de oferta\n",
    "arts_3 = arts_2.groupby(['REF', 'CLASE', 'CLASS_NAME', 'SUBCLASE', 'SUB_NAME'])['VENTA_SIN_IVA', 'GB1'].sum().reset_index()\n",
    "arts_3.head(2)"
   ],
   "metadata": {
    "collapsed": false
   }
  },
  {
   "cell_type": "code",
   "execution_count": null,
   "outputs": [],
   "source": [
    "e_2 = arts_3.merge(subs_2, on = ['CLASE', 'CLASS_NAME', 'SUBCLASE', 'SUB_NAME'], how = 'inner')\n",
    "e_2['RATIO_VENTAS'] = round((e_2['VENTA_SIN_IVA'] / e_2['VENTA_SIN_IVA_TOTAL']) * 100, 1)\n",
    "e_2['RATIO_GB1'] = round((e_2['GB1'] / e_2['GB1_TOTAL']) * 100, 1)\n",
    "e_2.head(2)"
   ],
   "metadata": {
    "collapsed": false
   }
  },
  {
   "cell_type": "markdown",
   "source": [
    "### tabla 5 - Venta y GB1 Promo Agrupado"
   ],
   "metadata": {
    "collapsed": false
   }
  },
  {
   "cell_type": "code",
   "execution_count": null,
   "outputs": [],
   "source": [
    "e_3 = pd.DataFrame(e_2.sum(axis=0)).T\n",
    "e_3['REF'] = 'Venta Promo'\n",
    "e_3['VENTA_SIN_IVA_MILLONES'] = int(round(e_3['VENTA_SIN_IVA'].astype(int) / 1000000, 0))\n",
    "e_3['GB1_MILLONES'] = int(round(e_3['GB1'].astype(int) / 1000000, 0))\n",
    "e_3.drop(['REF_2'], axis = 1, inplace = True)\n",
    "e_3['REF_2'] = 'Venta Total'\n",
    "e_3['VENTA_SIN_IVA_TOTAL_MILLONES'] = int(round(e_3['VENTA_SIN_IVA_TOTAL'].astype(int) / 1000000, 0))\n",
    "e_3['GB1_TOTAL_MILLONES'] = int(round(e_3['GB1_TOTAL'].astype(int) / 1000000, 0))\n",
    "e_3.drop(['CLASE', 'SUBCLASE', 'GB1', 'VENTA_SIN_IVA', 'VENTA_SIN_IVA_TOTAL', 'GB1_TOTAL', 'RATIO_VENTAS', 'RATIO_GB1', 'CLASS_NAME', 'SUB_NAME'], axis = 1, inplace = True)\n",
    "e_3['RATIO_VENTAS'] = round((e_3['VENTA_SIN_IVA_MILLONES'] / e_3['VENTA_SIN_IVA_TOTAL_MILLONES']) * 100, 1)\n",
    "e_3['RATIO_GB1'] = round((e_3['GB1_MILLONES'] / e_3['GB1_TOTAL_MILLONES']) * 100, 1)\n",
    "e_3"
   ],
   "metadata": {
    "collapsed": false
   }
  },
  {
   "cell_type": "markdown",
   "source": [
    "## Cantidad de Articulos"
   ],
   "metadata": {
    "collapsed": false
   }
  },
  {
   "cell_type": "markdown",
   "source": [
    "### Queries"
   ],
   "metadata": {
    "collapsed": false
   }
  },
  {
   "cell_type": "code",
   "execution_count": null,
   "outputs": [],
   "source": [
    "query = '''\n",
    "WITH PROMOS AS\n",
    "    (\n",
    "    SELECT\n",
    "        LPTO.*,\n",
    "        LPE.EVENTO_DESC,\n",
    "        FP.PROM_FECHA_INICIO AS INICIO,\n",
    "        FP.PROM_FECHA_FIN AS FIN,\n",
    "        CLA.CLASE,\n",
    "        CLA.CLASS_NAME,\n",
    "        SUB.SUBCLASE,\n",
    "        SUB.SUB_NAME,\n",
    "        LAA.ORIN,\n",
    "        LAA.ARTC_ARTC_DESC,\n",
    "        FP.GEOG_LOCL_ID,\n",
    "        LGL.GEOG_LOCL_COD,\n",
    "        LGL.GEOG_LOCL_DESC\n",
    "    FROM\n",
    "        MSTRDB.DWH.FT_PROMOS AS FP\n",
    "        INNER JOIN MSTRDB.DWH.LU_PROM_EVENTO AS LPE ON LPE.EVENTO_ID = FP.EVENTO_ID\n",
    "        INNER JOIN MSTRDB.DWH.LU_PROM_TIPO_OFERTA AS LPTO ON LPTO.TIPO_OFERTA_ID = LPE.TIPO_OFERTA_ID\n",
    "        INNER JOIN MSTRDB.DWH.LU_ARTC_ARTICULO AS LAA ON LAA.ARTC_ARTC_ID = FP.ARTC_ARTC_ID\n",
    "        INNER JOIN MSTRDB.DWH.LU_GEOG_LOCAL AS LGL ON LGL.GEOG_LOCL_ID = FP.GEOG_LOCL_ID\n",
    "        INNER JOIN MSTRDB.DWH.ITEM_MASTER AS IM ON IM.ITEM = LAA.ORIN\n",
    "        INNER JOIN MSTRDB.DWH.CLASS AS CLA ON CLA.CLASE = IM.CLASE\n",
    "        INNER JOIN MSTRDB.DWH.SUBCLASS AS SUB ON SUB.SUBCLASE = IM.SUBCLASE\n",
    "    WHERE\n",
    "        LPTO.TIPO_OFERTA_ID IN (10, 11, 12)\n",
    "        AND (TO_VARCHAR(FP.PROM_FECHA_INICIO, 'YYYY-MM') = '{periodo_query}' OR TO_VARCHAR(FP.PROM_FECHA_FIN, 'YYYY-MM') = '{periodo_query}')\n",
    "    )\n",
    "\n",
    "SELECT\n",
    "    PROMOS.TIPO_OFERTA_ID,\n",
    "    PROMOS.TIPO_OFERTA_DESC,\n",
    "    FV.TIEM_DIA_ID,\n",
    "    IM.CLASE,\n",
    "    CLA.CLASS_NAME,\n",
    "    IM.SUBCLASE,\n",
    "    SUB.SUB_NAME,\n",
    "    LAA.ORIN,\n",
    "    LGL.GEOG_LOCL_COD,\n",
    "    FV.VNTA_UNIDADES AS UNIDADES_PROMO\n",
    "FROM\n",
    "    MSTRDB.DWH.FT_VENTAS AS FV\n",
    "    INNER JOIN MSTRDB.DWH.LU_GEOG_LOCAL AS LGL ON FV.GEOG_LOCL_ID = LGL.GEOG_LOCL_ID\n",
    "    INNER JOIN MSTRDB.DWH.LU_ARTC_ARTICULO AS LAA ON LAA.ARTC_ARTC_ID = FV .ARTC_ARTC_ID\n",
    "    INNER JOIN MSTRDB.DWH.ITEM_MASTER AS IM ON IM.ITEM = LAA.ORIN\n",
    "    INNER JOIN MSTRDB.DWH.SUBCLASS AS SUB ON SUB.SUBCLASE = IM.SUBCLASE\n",
    "    INNER JOIN MSTRDB.DWH.CLASS AS CLA ON CLA.CLASE = IM.CLASE\n",
    "    INNER JOIN PROMOS ON PROMOS.ORIN = LAA.ORIN AND PROMOS.GEOG_LOCL_COD = LGL.GEOG_LOCL_COD AND FV.TIEM_DIA_ID BETWEEN PROMOS.INICIO AND PROMOS.FIN\n",
    "WHERE\n",
    "    TO_VARCHAR(FV.TIEM_DIA_ID, 'YYYY-MM') = '{periodo_query}'\n",
    "'''\n",
    "\n",
    "cursor.execute(query.format(periodo_query = periodo))\n",
    "cant_1 = cursor.fetch_pandas_all()\n",
    "cant_1['REF'] = 'Venta Promo'\n",
    "print(cant_1.shape[0])\n",
    "cant_1.head(2)"
   ],
   "metadata": {
    "collapsed": false
   }
  },
  {
   "cell_type": "code",
   "execution_count": null,
   "outputs": [],
   "source": [
    "# Para comparar con las ventas de la subclase o clase, tengo que agrupar y perder el tipo de oferta\n",
    "cant_2 = cant_1.groupby(['REF', 'CLASE', 'CLASS_NAME', 'SUBCLASE', 'SUB_NAME'])['UNIDADES_PROMO'].sum().reset_index()\n",
    "cant_2.head(2)"
   ],
   "metadata": {
    "collapsed": false
   }
  },
  {
   "cell_type": "code",
   "execution_count": null,
   "outputs": [],
   "source": [
    "query = '''\n",
    "WITH PROMOS AS\n",
    "    (\n",
    "    SELECT\n",
    "        LPTO.*,\n",
    "        LPE.EVENTO_DESC,\n",
    "        FP.PROM_FECHA_INICIO AS INICIO,\n",
    "        FP.PROM_FECHA_FIN AS FIN,\n",
    "        CLA.CLASE,\n",
    "        CLA.CLASS_NAME,\n",
    "        SUB.SUBCLASE,\n",
    "        SUB.SUB_NAME,\n",
    "        LAA.ORIN,\n",
    "        LAA.ARTC_ARTC_DESC,\n",
    "        FP.GEOG_LOCL_ID,\n",
    "        LGL.GEOG_LOCL_COD,\n",
    "        LGL.GEOG_LOCL_DESC\n",
    "    FROM\n",
    "        MSTRDB.DWH.FT_PROMOS AS FP\n",
    "        INNER JOIN MSTRDB.DWH.LU_PROM_EVENTO AS LPE ON LPE.EVENTO_ID = FP.EVENTO_ID\n",
    "        INNER JOIN MSTRDB.DWH.LU_PROM_TIPO_OFERTA AS LPTO ON LPTO.TIPO_OFERTA_ID = LPE.TIPO_OFERTA_ID\n",
    "        INNER JOIN MSTRDB.DWH.LU_ARTC_ARTICULO AS LAA ON LAA.ARTC_ARTC_ID = FP.ARTC_ARTC_ID\n",
    "        INNER JOIN MSTRDB.DWH.LU_GEOG_LOCAL AS LGL ON LGL.GEOG_LOCL_ID = FP.GEOG_LOCL_ID\n",
    "        INNER JOIN MSTRDB.DWH.ITEM_MASTER AS IM ON IM.ITEM = LAA.ORIN\n",
    "        INNER JOIN MSTRDB.DWH.CLASS AS CLA ON CLA.CLASE = IM.CLASE\n",
    "        INNER JOIN MSTRDB.DWH.SUBCLASS AS SUB ON SUB.SUBCLASE = IM.SUBCLASE\n",
    "    WHERE\n",
    "        LPTO.TIPO_OFERTA_ID IN (10, 11, 12)\n",
    "        AND (TO_VARCHAR(FP.PROM_FECHA_INICIO, 'YYYY-MM') = '{periodo_query}' OR TO_VARCHAR(FP.PROM_FECHA_FIN, 'YYYY-MM') = '{periodo_query}')\n",
    "    )\n",
    "\n",
    "SELECT\n",
    "    FV.TIEM_DIA_ID,\n",
    "    IM.CLASE,\n",
    "    CLA.CLASS_NAME,\n",
    "    IM.SUBCLASE,\n",
    "    SUB.SUB_NAME,\n",
    "    LAA.ORIN,\n",
    "    LGL.GEOG_LOCL_COD,\n",
    "    FV.VNTA_UNIDADES AS UNIDADES_TOTALES\n",
    "FROM\n",
    "    MSTRDB.DWH.FT_VENTAS AS FV\n",
    "    INNER JOIN MSTRDB.DWH.LU_GEOG_LOCAL AS LGL ON FV.GEOG_LOCL_ID = LGL.GEOG_LOCL_ID\n",
    "    INNER JOIN MSTRDB.DWH.LU_ARTC_ARTICULO AS LAA ON LAA.ARTC_ARTC_ID = FV .ARTC_ARTC_ID\n",
    "    INNER JOIN MSTRDB.DWH.ITEM_MASTER AS IM ON IM.ITEM = LAA.ORIN\n",
    "    INNER JOIN MSTRDB.DWH.SUBCLASS AS SUB ON SUB.SUBCLASE = IM.SUBCLASE\n",
    "    INNER JOIN MSTRDB.DWH.CLASS AS CLA ON CLA.CLASE = IM.CLASE\n",
    "    INNER JOIN PROMOS ON PROMOS.SUBCLASE = IM.SUBCLASE AND PROMOS.GEOG_LOCL_COD = LGL.GEOG_LOCL_COD AND FV.TIEM_DIA_ID BETWEEN PROMOS.INICIO AND PROMOS.FIN\n",
    "WHERE\n",
    "    TO_VARCHAR(FV.TIEM_DIA_ID, 'YYYY-MM') = '{periodo_query}'\n",
    "'''\n",
    "\n",
    "cursor.execute(query.format(periodo_query = periodo))\n",
    "sub_cant_1 = cursor.fetch_pandas_all()\n",
    "sub_cant_1['REF_2'] = 'Venta Total'\n",
    "print(sub_cant_1.shape[0])\n",
    "sub_cant_1.head(2)"
   ],
   "metadata": {
    "collapsed": false
   }
  },
  {
   "cell_type": "code",
   "execution_count": null,
   "outputs": [],
   "source": [
    "sub_cant_2 = sub_cant_1.groupby(['REF_2','CLASE', 'CLASS_NAME', 'SUBCLASE', 'SUB_NAME'])['UNIDADES_TOTALES'].sum().reset_index()\n",
    "sub_cant_2.head(2)"
   ],
   "metadata": {
    "collapsed": false
   }
  },
  {
   "cell_type": "markdown",
   "source": [
    "### tabla 6 - Num Articulos por Subclase"
   ],
   "metadata": {
    "collapsed": false
   }
  },
  {
   "cell_type": "code",
   "execution_count": null,
   "outputs": [],
   "source": [
    "e_4 = cant_2.merge(sub_cant_2, on = ['CLASE', 'CLASS_NAME', 'SUBCLASE', 'SUB_NAME'], how = 'inner')\n",
    "\n",
    "e_4['RATIO_UNIDADES'] = round(e_4['UNIDADES_PROMO'] / e_4['UNIDADES_TOTALES'] * 100, 1)\n",
    "for i in ['UNIDADES_PROMO', 'UNIDADES_TOTALES']:\n",
    "    e_4[i] = e_4[i].astype(int)\n",
    "\n",
    "e_4.head(2)"
   ],
   "metadata": {
    "collapsed": false
   }
  },
  {
   "cell_type": "markdown",
   "source": [
    "## Aceleracion"
   ],
   "metadata": {
    "collapsed": false
   }
  },
  {
   "cell_type": "code",
   "execution_count": null,
   "outputs": [],
   "source": [
    "query = '''\n",
    "WITH DATOS AS\n",
    "    (\n",
    "    SELECT\n",
    "        DISTINCT\n",
    "        FP.EVENTO_ID,\n",
    "        LPE.EVENTO_DESC,\n",
    "        LPTO.TIPO_OFERTA_DESC,\n",
    "        FP.PROM_FECHA_INICIO,\n",
    "        FP.PROM_FECHA_FIN,\n",
    "        DATEDIFF('DAYS', FP.PROM_FECHA_INICIO, FP.PROM_FECHA_FIN) AS DURACION_DIAS,\n",
    "        FP.ARTC_ARTC_ID,\n",
    "        FP.GEOG_LOCL_ID,\n",
    "        FP.ARTC_ARTC_ID || FP.GEOG_LOCL_ID AS CLAVE\n",
    "    FROM\n",
    "        MSTRDB.DWH.FT_PROMOS AS FP\n",
    "        INNER JOIN MSTRDB.DWH.LU_GEOG_LOCAL AS LGL ON LGL.GEOG_LOCL_ID = FP.GEOG_LOCL_ID\n",
    "        LEFT JOIN MSTRDB.DWH.LU_PROM_EVENTO AS LPE ON LPE.EVENTO_ID = FP.EVENTO_ID\n",
    "        LEFT JOIN MSTRDB.DWH.LU_PROM_TIPO_OFERTA AS LPTO ON LPTO.TIPO_OFERTA_ID = LPE.TIPO_OFERTA_ID\n",
    "    WHERE\n",
    "        LGL.GEOG_UNNG_ID = 2\n",
    "        AND LGL.GEOG_LOCL_COD <> 198\n",
    "    ),\n",
    "\n",
    "BASAL AS\n",
    "    (\n",
    "    SELECT\n",
    "        SPLIT_PART(TIEM_DIA_ID, ' ', 1) AS TIEM_DIA_ID,\n",
    "        GEOG_LOCL_ID,\n",
    "        ARTC_ARTC_ID,\n",
    "        SUM(VENTA_BASAL) AS VENTA_BASAL\n",
    "    FROM\n",
    "        (\n",
    "            SELECT\n",
    "                FVB.TIEM_DIA_ID,\n",
    "                FVB.GEOG_LOCL_ID,\n",
    "                FVB.ARTC_ARTC_ID,\n",
    "                FVB.VENTA_BASAL\n",
    "            FROM\n",
    "                BIZMETRIKS.DWH.FT_VENTA_BASAL AS FVB\n",
    "                INNER JOIN DATOS AS D ON FVB.GEOG_LOCL_ID = D.GEOG_LOCL_ID AND FVB.ARTC_ARTC_ID = D.ARTC_ARTC_ID AND FVB.TIEM_DIA_ID BETWEEN D.PROM_FECHA_INICIO AND D.PROM_FECHA_FIN\n",
    "            WHERE\n",
    "                FVB.TIEM_DIA_ID > DATEADD(YEAR, -1, CURRENT_DATE())\n",
    "            )\n",
    "        GROUP BY\n",
    "            ALL\n",
    "    ),\n",
    "\n",
    "PROMOS AS\n",
    "    (\n",
    "    SELECT\n",
    "        LPTO.*,\n",
    "        LPE.EVENTO_DESC,\n",
    "        FP.PROM_FECHA_INICIO AS INICIO,\n",
    "        FP.PROM_FECHA_FIN AS FIN,\n",
    "        CLA.CLASE,\n",
    "        CLA.CLASS_NAME,\n",
    "        SUB.SUBCLASE,\n",
    "        SUB.SUB_NAME,\n",
    "        LAA.ORIN,\n",
    "        LAA.ARTC_ARTC_DESC,\n",
    "        FP.GEOG_LOCL_ID,\n",
    "        LGL.GEOG_LOCL_COD,\n",
    "        LGL.GEOG_LOCL_DESC\n",
    "    FROM\n",
    "        MSTRDB.DWH.FT_PROMOS AS FP\n",
    "        INNER JOIN MSTRDB.DWH.LU_PROM_EVENTO AS LPE ON LPE.EVENTO_ID = FP.EVENTO_ID\n",
    "        INNER JOIN MSTRDB.DWH.LU_PROM_TIPO_OFERTA AS LPTO ON LPTO.TIPO_OFERTA_ID = LPE.TIPO_OFERTA_ID\n",
    "        INNER JOIN MSTRDB.DWH.LU_ARTC_ARTICULO AS LAA ON LAA.ARTC_ARTC_ID = FP.ARTC_ARTC_ID\n",
    "        INNER JOIN MSTRDB.DWH.LU_GEOG_LOCAL AS LGL ON LGL.GEOG_LOCL_ID = FP.GEOG_LOCL_ID\n",
    "        INNER JOIN MSTRDB.DWH.ITEM_MASTER AS IM ON IM.ITEM = LAA.ORIN\n",
    "        INNER JOIN MSTRDB.DWH.CLASS AS CLA ON CLA.CLASE = IM.CLASE\n",
    "        INNER JOIN MSTRDB.DWH.SUBCLASS AS SUB ON SUB.SUBCLASE = IM.SUBCLASE\n",
    "    WHERE\n",
    "        LPTO.TIPO_OFERTA_ID IN (10, 11, 12)\n",
    "        AND (TO_VARCHAR(FP.PROM_FECHA_INICIO, 'YYYY-MM') = '{periodo_query}' OR TO_VARCHAR(FP.PROM_FECHA_FIN, 'YYYY-MM') = '{periodo_query}')\n",
    "    ),\n",
    "\n",
    "PROMOS_2 AS\n",
    "    (\n",
    "    SELECT\n",
    "        FV.TIEM_DIA_ID,\n",
    "        IM.CLASE,\n",
    "        CLA.CLASS_NAME,\n",
    "        IM.SUBCLASE,\n",
    "        SUB.SUB_NAME,\n",
    "        LAA.ARTC_ARTC_ID,\n",
    "        LGL.GEOG_LOCL_COD,\n",
    "        LGL.GEOG_LOCL_ID,\n",
    "        SUM(FV.VNTA_UNIDADES) AS VNTA_UNIDADES\n",
    "    FROM\n",
    "        MSTRDB.DWH.FT_VENTAS AS FV\n",
    "        INNER JOIN MSTRDB.DWH.LU_GEOG_LOCAL AS LGL ON FV.GEOG_LOCL_ID = LGL.GEOG_LOCL_ID\n",
    "        INNER JOIN MSTRDB.DWH.LU_ARTC_ARTICULO AS LAA ON LAA.ARTC_ARTC_ID = FV .ARTC_ARTC_ID\n",
    "        INNER JOIN MSTRDB.DWH.ITEM_MASTER AS IM ON IM.ITEM = LAA.ORIN\n",
    "        INNER JOIN MSTRDB.DWH.SUBCLASS AS SUB ON SUB.SUBCLASE = IM.SUBCLASE\n",
    "        INNER JOIN MSTRDB.DWH.CLASS AS CLA ON CLA.CLASE = IM.CLASE\n",
    "        INNER JOIN PROMOS ON PROMOS.ORIN = LAA.ORIN AND PROMOS.GEOG_LOCL_COD = LGL.GEOG_LOCL_COD AND FV.TIEM_DIA_ID BETWEEN PROMOS.INICIO AND PROMOS.FIN\n",
    "    WHERE\n",
    "        TO_VARCHAR(FV.TIEM_DIA_ID, 'YYYY-MM') = '{periodo_query}'\n",
    "    GROUP BY\n",
    "        ALL\n",
    "    )\n",
    "\n",
    "SELECT\n",
    "    PROMOS_2.*,\n",
    "    BASAL.VENTA_BASAL\n",
    "FROM\n",
    "    PROMOS_2\n",
    "    LEFT JOIN BASAL ON BASAL.TIEM_DIA_ID = PROMOS_2.TIEM_DIA_ID AND BASAL.GEOG_LOCL_ID = PROMOS_2.GEOG_LOCL_ID AND BASAL.ARTC_ARTC_ID = PROMOS_2.ARTC_ARTC_ID\n",
    "'''\n",
    "\n",
    "cursor.execute(query.format(periodo_query = periodo))\n",
    "ace_perdida = cursor.fetch_pandas_all()\n",
    "ace_perdida.head(2)"
   ],
   "metadata": {
    "collapsed": false
   }
  },
  {
   "cell_type": "code",
   "execution_count": null,
   "outputs": [],
   "source": [
    "print(f\"Filas con Basal missing: {ace_perdida[ace_perdida['VENTA_BASAL'].isna()].shape[0]}\")\n",
    "print(f\"missing para {periodo}: {int(round(ace_perdida[ace_perdida['VENTA_BASAL'].isna()].shape[0] / ace_perdida.shape[0] * 100, 0))}%\")"
   ],
   "metadata": {
    "collapsed": false
   }
  },
  {
   "cell_type": "code",
   "execution_count": null,
   "outputs": [],
   "source": [
    "query = '''\n",
    "WITH DATOS AS\n",
    "    (\n",
    "    SELECT\n",
    "        DISTINCT\n",
    "        FP.EVENTO_ID,\n",
    "        LPE.EVENTO_DESC,\n",
    "        LPTO.TIPO_OFERTA_DESC,\n",
    "        FP.PROM_FECHA_INICIO,\n",
    "        FP.PROM_FECHA_FIN,\n",
    "        DATEDIFF('DAYS', FP.PROM_FECHA_INICIO, FP.PROM_FECHA_FIN) AS DURACION_DIAS,\n",
    "        FP.ARTC_ARTC_ID,\n",
    "        FP.GEOG_LOCL_ID,\n",
    "        FP.ARTC_ARTC_ID || FP.GEOG_LOCL_ID AS CLAVE\n",
    "    FROM\n",
    "        MSTRDB.DWH.FT_PROMOS AS FP\n",
    "        INNER JOIN MSTRDB.DWH.LU_GEOG_LOCAL AS LGL ON LGL.GEOG_LOCL_ID = FP.GEOG_LOCL_ID\n",
    "        LEFT JOIN MSTRDB.DWH.LU_PROM_EVENTO AS LPE ON LPE.EVENTO_ID = FP.EVENTO_ID\n",
    "        LEFT JOIN MSTRDB.DWH.LU_PROM_TIPO_OFERTA AS LPTO ON LPTO.TIPO_OFERTA_ID = LPE.TIPO_OFERTA_ID\n",
    "    WHERE\n",
    "        LGL.GEOG_UNNG_ID = 2\n",
    "        AND LGL.GEOG_LOCL_COD <> 198\n",
    "    ),\n",
    "\n",
    "BASAL AS\n",
    "    (\n",
    "    SELECT\n",
    "        SPLIT_PART(TIEM_DIA_ID, ' ', 1) AS TIEM_DIA_ID,\n",
    "        GEOG_LOCL_ID,\n",
    "        ARTC_ARTC_ID,\n",
    "        SUM(VENTA_BASAL) AS VENTA_BASAL\n",
    "    FROM\n",
    "        (\n",
    "            SELECT\n",
    "                FVB.TIEM_DIA_ID,\n",
    "                FVB.GEOG_LOCL_ID,\n",
    "                FVB.ARTC_ARTC_ID,\n",
    "                FVB.VENTA_BASAL\n",
    "            FROM\n",
    "                BIZMETRIKS.DWH.FT_VENTA_BASAL AS FVB\n",
    "                INNER JOIN DATOS AS D ON FVB.GEOG_LOCL_ID = D.GEOG_LOCL_ID AND FVB.ARTC_ARTC_ID = D.ARTC_ARTC_ID AND FVB.TIEM_DIA_ID BETWEEN D.PROM_FECHA_INICIO AND D.PROM_FECHA_FIN\n",
    "            WHERE\n",
    "                FVB.TIEM_DIA_ID > DATEADD(YEAR, -1, CURRENT_DATE())\n",
    "            )\n",
    "        GROUP BY\n",
    "            ALL\n",
    "    ),\n",
    "\n",
    "PROMOS AS\n",
    "    (\n",
    "    SELECT\n",
    "        LPTO.*,\n",
    "        LPE.EVENTO_DESC,\n",
    "        FP.PROM_FECHA_INICIO AS INICIO,\n",
    "        FP.PROM_FECHA_FIN AS FIN,\n",
    "        CLA.CLASE,\n",
    "        CLA.CLASS_NAME,\n",
    "        SUB.SUBCLASE,\n",
    "        SUB.SUB_NAME,\n",
    "        LAA.ORIN,\n",
    "        LAA.ARTC_ARTC_COD,\n",
    "        LAA.ARTC_ARTC_DESC,\n",
    "        FP.GEOG_LOCL_ID,\n",
    "        LGL.GEOG_LOCL_COD,\n",
    "        LGL.GEOG_LOCL_DESC\n",
    "    FROM\n",
    "        MSTRDB.DWH.FT_PROMOS AS FP\n",
    "        INNER JOIN MSTRDB.DWH.LU_PROM_EVENTO AS LPE ON LPE.EVENTO_ID = FP.EVENTO_ID\n",
    "        INNER JOIN MSTRDB.DWH.LU_PROM_TIPO_OFERTA AS LPTO ON LPTO.TIPO_OFERTA_ID = LPE.TIPO_OFERTA_ID\n",
    "        INNER JOIN MSTRDB.DWH.LU_ARTC_ARTICULO AS LAA ON LAA.ARTC_ARTC_ID = FP.ARTC_ARTC_ID\n",
    "        INNER JOIN MSTRDB.DWH.LU_GEOG_LOCAL AS LGL ON LGL.GEOG_LOCL_ID = FP.GEOG_LOCL_ID\n",
    "        INNER JOIN MSTRDB.DWH.ITEM_MASTER AS IM ON IM.ITEM = LAA.ORIN\n",
    "        INNER JOIN MSTRDB.DWH.CLASS AS CLA ON CLA.CLASE = IM.CLASE\n",
    "        INNER JOIN MSTRDB.DWH.SUBCLASS AS SUB ON SUB.SUBCLASE = IM.SUBCLASE\n",
    "    WHERE\n",
    "        LPTO.TIPO_OFERTA_ID IN (10, 11, 12)\n",
    "        AND (TO_VARCHAR(FP.PROM_FECHA_INICIO, 'YYYY-MM') = '{periodo_query}' OR TO_VARCHAR(FP.PROM_FECHA_FIN, 'YYYY-MM') = '{periodo_query}')\n",
    "    ),\n",
    "\n",
    "PROMOS_2 AS\n",
    "    (\n",
    "    SELECT\n",
    "        FV.TIEM_DIA_ID,\n",
    "        IM.CLASE,\n",
    "        CLA.CLASS_NAME,\n",
    "        IM.SUBCLASE,\n",
    "        SUB.SUB_NAME,\n",
    "        LAA.ARTC_ARTC_ID,\n",
    "        LAA.ARTC_ARTC_COD,\n",
    "        LGL.GEOG_LOCL_COD,\n",
    "        LGL.GEOG_LOCL_ID,\n",
    "        SUM(FV.VNTA_UNIDADES) AS VNTA_UNIDADES\n",
    "    FROM\n",
    "        MSTRDB.DWH.FT_VENTAS AS FV\n",
    "        INNER JOIN MSTRDB.DWH.LU_GEOG_LOCAL AS LGL ON FV.GEOG_LOCL_ID = LGL.GEOG_LOCL_ID\n",
    "        INNER JOIN MSTRDB.DWH.LU_ARTC_ARTICULO AS LAA ON LAA.ARTC_ARTC_ID = FV .ARTC_ARTC_ID\n",
    "        INNER JOIN MSTRDB.DWH.ITEM_MASTER AS IM ON IM.ITEM = LAA.ORIN\n",
    "        INNER JOIN MSTRDB.DWH.SUBCLASS AS SUB ON SUB.SUBCLASE = IM.SUBCLASE\n",
    "        INNER JOIN MSTRDB.DWH.CLASS AS CLA ON CLA.CLASE = IM.CLASE\n",
    "        INNER JOIN PROMOS ON PROMOS.ORIN = LAA.ORIN AND PROMOS.GEOG_LOCL_COD = LGL.GEOG_LOCL_COD AND FV.TIEM_DIA_ID BETWEEN PROMOS.INICIO AND PROMOS.FIN\n",
    "    WHERE\n",
    "        TO_VARCHAR(FV.TIEM_DIA_ID, 'YYYY-MM') = '{periodo_query}'\n",
    "    GROUP BY\n",
    "        ALL\n",
    "    )\n",
    "\n",
    "SELECT\n",
    "    PROMOS_2.*,\n",
    "    BASAL.VENTA_BASAL\n",
    "FROM\n",
    "    PROMOS_2\n",
    "    INNER JOIN BASAL ON BASAL.TIEM_DIA_ID = PROMOS_2.TIEM_DIA_ID AND BASAL.GEOG_LOCL_ID = PROMOS_2.GEOG_LOCL_ID AND BASAL.ARTC_ARTC_ID = PROMOS_2.ARTC_ARTC_ID\n",
    "'''\n",
    "\n",
    "cursor.execute(query.format(periodo_query = periodo))\n",
    "ace = cursor.fetch_pandas_all()\n",
    "ace.head(2)"
   ],
   "metadata": {
    "collapsed": false
   }
  },
  {
   "cell_type": "markdown",
   "source": [
    "### tabla 7 - Aceleracion"
   ],
   "metadata": {
    "collapsed": false
   }
  },
  {
   "cell_type": "code",
   "execution_count": null,
   "outputs": [],
   "source": [
    "ace['DIFF'] = ace['VNTA_UNIDADES'] - ace['VENTA_BASAL']\n",
    "\n",
    "ace['UNIDADES_DIV_BASAL'] = round(ace['VNTA_UNIDADES'] / ace['VENTA_BASAL'], 1)\n",
    "for i in ['DIFF', 'VNTA_UNIDADES', 'VENTA_BASAL']:\n",
    "    ace[i] = ace[i].astype(int)\n",
    "ace.head(2)"
   ],
   "metadata": {
    "collapsed": false
   }
  },
  {
   "cell_type": "markdown",
   "source": [
    "### tabla 8 - Aceleracion por Subclase"
   ],
   "metadata": {
    "collapsed": false
   }
  },
  {
   "cell_type": "code",
   "execution_count": null,
   "outputs": [],
   "source": [
    "ace_2 = ace.groupby(['CLASE', 'CLASS_NAME', 'SUBCLASE', 'SUB_NAME'])['VNTA_UNIDADES', 'VENTA_BASAL'].sum().reset_index()\n",
    "\n",
    "ace_2['DIFF'] = ace_2['VNTA_UNIDADES'] - ace_2['VENTA_BASAL']\n",
    "ace_2['UNIDADES_DIV_BASAL'] = round(ace_2['VNTA_UNIDADES'] / ace_2['VENTA_BASAL'], 1)\n",
    "ace_2.head(2)"
   ],
   "metadata": {
    "collapsed": false
   }
  },
  {
   "cell_type": "markdown",
   "source": [
    "### tabla 9 - Aceleracion Resumen"
   ],
   "metadata": {
    "collapsed": false
   }
  },
  {
   "cell_type": "code",
   "execution_count": null,
   "outputs": [],
   "source": [
    "ace_3 = pd.DataFrame(ace[['VNTA_UNIDADES', 'VENTA_BASAL']].sum(axis=0)).T\n",
    "ace_3['DIFF'] = ace_3['VNTA_UNIDADES'] - ace_3['VENTA_BASAL']\n",
    "ace_3['UNIDADES_DIV_BASAL'] = round(ace_3['VNTA_UNIDADES'] / ace_3['VENTA_BASAL'], 1)\n",
    "ace_3"
   ],
   "metadata": {
    "collapsed": false
   }
  },
  {
   "cell_type": "markdown",
   "source": [
    "## Tasa de Cierre"
   ],
   "metadata": {
    "collapsed": false
   }
  },
  {
   "cell_type": "markdown",
   "source": [
    "### Promos"
   ],
   "metadata": {
    "collapsed": false
   }
  },
  {
   "cell_type": "code",
   "execution_count": null,
   "outputs": [],
   "source": [
    "query = '''\n",
    "WITH PROMOS AS\n",
    "    (\n",
    "    SELECT\n",
    "        LPTO.*,\n",
    "        LPE.EVENTO_DESC,\n",
    "        FP.PROM_FECHA_INICIO AS INICIO,\n",
    "        FP.PROM_FECHA_FIN AS FIN,\n",
    "        CLA.CLASE,\n",
    "        CLA.CLASS_NAME,\n",
    "        SUB.SUBCLASE,\n",
    "        SUB.SUB_NAME,\n",
    "        LAA.ORIN,\n",
    "        LAA.ARTC_ARTC_DESC,\n",
    "        FP.GEOG_LOCL_ID,\n",
    "        LGL.GEOG_LOCL_COD,\n",
    "        LGL.GEOG_LOCL_DESC\n",
    "    FROM\n",
    "        MSTRDB.DWH.FT_PROMOS AS FP\n",
    "        INNER JOIN MSTRDB.DWH.LU_PROM_EVENTO AS LPE ON LPE.EVENTO_ID = FP.EVENTO_ID\n",
    "        INNER JOIN MSTRDB.DWH.LU_PROM_TIPO_OFERTA AS LPTO ON LPTO.TIPO_OFERTA_ID = LPE.TIPO_OFERTA_ID\n",
    "        INNER JOIN MSTRDB.DWH.LU_ARTC_ARTICULO AS LAA ON LAA.ARTC_ARTC_ID = FP.ARTC_ARTC_ID\n",
    "        INNER JOIN MSTRDB.DWH.LU_GEOG_LOCAL AS LGL ON LGL.GEOG_LOCL_ID = FP.GEOG_LOCL_ID\n",
    "        INNER JOIN MSTRDB.DWH.ITEM_MASTER AS IM ON IM.ITEM = LAA.ORIN\n",
    "        INNER JOIN MSTRDB.DWH.CLASS AS CLA ON CLA.CLASE = IM.CLASE\n",
    "        INNER JOIN MSTRDB.DWH.SUBCLASS AS SUB ON SUB.SUBCLASE = IM.SUBCLASE\n",
    "    WHERE\n",
    "        LPTO.TIPO_OFERTA_ID IN (10, 11, 12)\n",
    "        AND (TO_VARCHAR(FP.PROM_FECHA_INICIO, 'YYYY-MM') = '{periodo_query}' OR TO_VARCHAR(FP.PROM_FECHA_FIN, 'YYYY-MM') = '{periodo_query}')\n",
    "    )\n",
    "\n",
    "SELECT\n",
    "    FV.TIEM_DIA_ID,\n",
    "    IM.CLASE,\n",
    "    CLA.CLASS_NAME,\n",
    "    IM.SUBCLASE,\n",
    "    SUB.SUB_NAME,\n",
    "    LAA.ORIN,\n",
    "    LGL.GEOG_LOCL_COD,\n",
    "    COUNT(DISTINCT FV.TICKET) AS TICKETS\n",
    "FROM\n",
    "    MSTRDB.DWH.FT_VENTAS AS FV\n",
    "    INNER JOIN MSTRDB.DWH.LU_GEOG_LOCAL AS LGL ON FV.GEOG_LOCL_ID = LGL.GEOG_LOCL_ID\n",
    "    INNER JOIN MSTRDB.DWH.LU_ARTC_ARTICULO AS LAA ON LAA.ARTC_ARTC_ID = FV .ARTC_ARTC_ID\n",
    "    INNER JOIN MSTRDB.DWH.ITEM_MASTER AS IM ON IM.ITEM = LAA.ORIN\n",
    "    INNER JOIN MSTRDB.DWH.SUBCLASS AS SUB ON SUB.SUBCLASE = IM.SUBCLASE\n",
    "    INNER JOIN MSTRDB.DWH.CLASS AS CLA ON CLA.CLASE = IM.CLASE\n",
    "    INNER JOIN PROMOS ON PROMOS.ORIN = LAA.ORIN AND PROMOS.GEOG_LOCL_COD = LGL.GEOG_LOCL_COD AND FV.TIEM_DIA_ID BETWEEN PROMOS.INICIO AND PROMOS.FIN\n",
    "WHERE\n",
    "    TO_VARCHAR(FV.TIEM_DIA_ID, 'YYYY-MM') = '{periodo_query}'\n",
    "GROUP BY\n",
    "    ALL\n",
    "'''\n",
    "\n",
    "cursor.execute(query.format(periodo_query = periodo))\n",
    "tick_1 = cursor.fetch_pandas_all()\n",
    "print(tick_1.shape[0])\n",
    "tick_1.head(2)"
   ],
   "metadata": {
    "collapsed": false
   }
  },
  {
   "cell_type": "code",
   "execution_count": null,
   "outputs": [],
   "source": [
    "tick_2 = tick_1.groupby(['CLASE', 'CLASS_NAME', 'SUBCLASE', 'SUB_NAME'])['TICKETS'].sum().reset_index()\n",
    "tick_2.rename({'TICKETS':'TICKETS_PROMO'}, axis = 1, inplace = True)\n",
    "tick_2.head(2)"
   ],
   "metadata": {
    "collapsed": false
   }
  },
  {
   "cell_type": "markdown",
   "source": [
    "### Para toda la subclase en dicho local"
   ],
   "metadata": {
    "collapsed": false
   }
  },
  {
   "cell_type": "code",
   "execution_count": null,
   "outputs": [],
   "source": [
    "query = '''\n",
    "WITH PROMOS AS\n",
    "    (\n",
    "    SELECT\n",
    "        LPTO.*,\n",
    "        LPE.EVENTO_DESC,\n",
    "        FP.PROM_FECHA_INICIO AS INICIO,\n",
    "        FP.PROM_FECHA_FIN AS FIN,\n",
    "        CLA.CLASE,\n",
    "        CLA.CLASS_NAME,\n",
    "        SUB.SUBCLASE,\n",
    "        SUB.SUB_NAME,\n",
    "        LAA.ORIN,\n",
    "        LAA.ARTC_ARTC_DESC,\n",
    "        FP.GEOG_LOCL_ID,\n",
    "        LGL.GEOG_LOCL_COD,\n",
    "        LGL.GEOG_LOCL_DESC\n",
    "    FROM\n",
    "        MSTRDB.DWH.FT_PROMOS AS FP\n",
    "        INNER JOIN MSTRDB.DWH.LU_PROM_EVENTO AS LPE ON LPE.EVENTO_ID = FP.EVENTO_ID\n",
    "        INNER JOIN MSTRDB.DWH.LU_PROM_TIPO_OFERTA AS LPTO ON LPTO.TIPO_OFERTA_ID = LPE.TIPO_OFERTA_ID\n",
    "        INNER JOIN MSTRDB.DWH.LU_ARTC_ARTICULO AS LAA ON LAA.ARTC_ARTC_ID = FP.ARTC_ARTC_ID\n",
    "        INNER JOIN MSTRDB.DWH.LU_GEOG_LOCAL AS LGL ON LGL.GEOG_LOCL_ID = FP.GEOG_LOCL_ID\n",
    "        INNER JOIN MSTRDB.DWH.ITEM_MASTER AS IM ON IM.ITEM = LAA.ORIN\n",
    "        INNER JOIN MSTRDB.DWH.CLASS AS CLA ON CLA.CLASE = IM.CLASE\n",
    "        INNER JOIN MSTRDB.DWH.SUBCLASS AS SUB ON SUB.SUBCLASE = IM.SUBCLASE\n",
    "    WHERE\n",
    "        LPTO.TIPO_OFERTA_ID IN (10, 11, 12)\n",
    "        AND (TO_VARCHAR(FP.PROM_FECHA_INICIO, 'YYYY-MM') = '{periodo_query}' OR TO_VARCHAR(FP.PROM_FECHA_FIN, 'YYYY-MM') = '{periodo_query}')\n",
    "    )\n",
    "\n",
    "SELECT\n",
    "    FV.TIEM_DIA_ID,\n",
    "    IM.CLASE,\n",
    "    CLA.CLASS_NAME,\n",
    "    IM.SUBCLASE,\n",
    "    SUB.SUB_NAME,\n",
    "    LAA.ORIN,\n",
    "    LGL.GEOG_LOCL_COD,\n",
    "    COUNT(DISTINCT FV.TICKET) AS TICKETS\n",
    "FROM\n",
    "    MSTRDB.DWH.FT_VENTAS AS FV\n",
    "    INNER JOIN MSTRDB.DWH.LU_GEOG_LOCAL AS LGL ON FV.GEOG_LOCL_ID = LGL.GEOG_LOCL_ID\n",
    "    INNER JOIN MSTRDB.DWH.LU_ARTC_ARTICULO AS LAA ON LAA.ARTC_ARTC_ID = FV .ARTC_ARTC_ID\n",
    "    INNER JOIN MSTRDB.DWH.ITEM_MASTER AS IM ON IM.ITEM = LAA.ORIN\n",
    "    INNER JOIN MSTRDB.DWH.SUBCLASS AS SUB ON SUB.SUBCLASE = IM.SUBCLASE\n",
    "    INNER JOIN MSTRDB.DWH.CLASS AS CLA ON CLA.CLASE = IM.CLASE\n",
    "    INNER JOIN PROMOS ON PROMOS.SUBCLASE = IM.SUBCLASE AND PROMOS.GEOG_LOCL_COD = LGL.GEOG_LOCL_COD AND FV.TIEM_DIA_ID BETWEEN PROMOS.INICIO AND PROMOS.FIN\n",
    "WHERE\n",
    "    TO_VARCHAR(FV.TIEM_DIA_ID, 'YYYY-MM') = '{periodo_query}'\n",
    "GROUP BY\n",
    "    ALL\n",
    "'''\n",
    "\n",
    "cursor.execute(query.format(periodo_query = periodo))\n",
    "tick_total_1 = cursor.fetch_pandas_all()\n",
    "print(tick_total_1.shape[0])\n",
    "tick_total_1.head(2)"
   ],
   "metadata": {
    "collapsed": false
   }
  },
  {
   "cell_type": "code",
   "execution_count": null,
   "outputs": [],
   "source": [
    "tick_total_2 = tick_total_1.groupby(['CLASE', 'CLASS_NAME', 'SUBCLASE', 'SUB_NAME'])['TICKETS'].sum().reset_index()\n",
    "tick_total_2.rename({'TICKETS':'TICKETS_TOTALES'}, axis = 1, inplace = True)\n",
    "tick_total_2.head(2)"
   ],
   "metadata": {
    "collapsed": false
   }
  },
  {
   "cell_type": "markdown",
   "source": [
    "### tabla 10 - Tasa de Cierre"
   ],
   "metadata": {
    "collapsed": false
   }
  },
  {
   "cell_type": "code",
   "execution_count": null,
   "outputs": [],
   "source": [
    "e_5 = tick_total_2.merge(tick_2, on = ['CLASE', 'CLASS_NAME', 'SUBCLASE', 'SUB_NAME'], how = 'left')\n",
    "for i in ['TICKETS_TOTALES', 'TICKETS_PROMO']:\n",
    "    e_5[i].fillna(0, inplace = True)\n",
    "    e_5[i] = e_5[i].astype(int)\n",
    "e_5['RATIO_TICKETS'] = round((e_5['TICKETS_PROMO'] / e_5['TICKETS_TOTALES']) * 100, 1)\n",
    "e_5 =e_5[['CLASE', 'CLASS_NAME', 'SUBCLASE', 'SUB_NAME', 'TICKETS_PROMO', 'TICKETS_TOTALES', 'RATIO_TICKETS']]\n",
    "e_5.head(2)"
   ],
   "metadata": {
    "collapsed": false
   }
  },
  {
   "cell_type": "markdown",
   "source": [
    "# MAURI"
   ],
   "metadata": {
    "collapsed": false
   }
  },
  {
   "cell_type": "markdown",
   "source": [
    "## Promos Distintas"
   ],
   "metadata": {
    "collapsed": false
   }
  },
  {
   "cell_type": "markdown",
   "source": [
    "### tabla 11 - Numero de Eventos"
   ],
   "metadata": {
    "collapsed": false
   }
  },
  {
   "cell_type": "code",
   "execution_count": null,
   "outputs": [],
   "source": [
    "query = '''\n",
    "    SELECT\n",
    "        LPTO.*,\n",
    "        COUNT(DISTINCT LPE.EVENTO_ID) AS NUMERO_EVENTOS\n",
    "    FROM\n",
    "        MSTRDB.DWH.FT_PROMOS AS FP\n",
    "        INNER JOIN MSTRDB.DWH.LU_PROM_EVENTO AS LPE ON LPE.EVENTO_ID = FP.EVENTO_ID\n",
    "        INNER JOIN MSTRDB.DWH.LU_PROM_TIPO_OFERTA AS LPTO ON LPTO.TIPO_OFERTA_ID = LPE.TIPO_OFERTA_ID\n",
    "    WHERE\n",
    "        LPTO.TIPO_OFERTA_ID IN (10, 11, 12)\n",
    "        AND (TO_VARCHAR(FP.PROM_FECHA_INICIO, 'YYYY-MM') = '2023-01' OR TO_VARCHAR(FP.PROM_FECHA_FIN, 'YYYY-MM') = '2023-01')\n",
    "    GROUP BY\n",
    "        ALL\n",
    "'''\n",
    "\n",
    "cursor.execute(query)\n",
    "eventos = cursor.fetch_pandas_all()\n",
    "eventos"
   ],
   "metadata": {
    "collapsed": false
   }
  },
  {
   "cell_type": "markdown",
   "source": [
    "## Precios Oferta"
   ],
   "metadata": {
    "collapsed": false
   }
  },
  {
   "cell_type": "markdown",
   "source": [
    "### tabla 12 - Precios Oferta"
   ],
   "metadata": {
    "collapsed": false
   }
  },
  {
   "cell_type": "code",
   "execution_count": 26,
   "outputs": [
    {
     "data": {
      "text/plain": "   EVENTO_ID       DESDE       HASTA             OFERTA\n0         10  2023-12-04  2024-01-03  OFERTATA ENERO 01\n1         11  2023-12-04  2024-01-03  OFERTATA ENERO 01\n2         12  2023-12-04  2024-01-03  OFERTATA ENERO 01\n3         10  2023-12-11  2024-01-10  OFERTATA ENERO 02\n4         11  2023-12-11  2024-01-10  OFERTATA ENERO 02\n5         12  2023-12-11  2024-01-10  OFERTATA ENERO 02",
      "text/html": "<div>\n<style scoped>\n    .dataframe tbody tr th:only-of-type {\n        vertical-align: middle;\n    }\n\n    .dataframe tbody tr th {\n        vertical-align: top;\n    }\n\n    .dataframe thead th {\n        text-align: right;\n    }\n</style>\n<table border=\"1\" class=\"dataframe\">\n  <thead>\n    <tr style=\"text-align: right;\">\n      <th></th>\n      <th>EVENTO_ID</th>\n      <th>DESDE</th>\n      <th>HASTA</th>\n      <th>OFERTA</th>\n    </tr>\n  </thead>\n  <tbody>\n    <tr>\n      <th>0</th>\n      <td>10</td>\n      <td>2023-12-04</td>\n      <td>2024-01-03</td>\n      <td>OFERTATA ENERO 01</td>\n    </tr>\n    <tr>\n      <th>1</th>\n      <td>11</td>\n      <td>2023-12-04</td>\n      <td>2024-01-03</td>\n      <td>OFERTATA ENERO 01</td>\n    </tr>\n    <tr>\n      <th>2</th>\n      <td>12</td>\n      <td>2023-12-04</td>\n      <td>2024-01-03</td>\n      <td>OFERTATA ENERO 01</td>\n    </tr>\n    <tr>\n      <th>3</th>\n      <td>10</td>\n      <td>2023-12-11</td>\n      <td>2024-01-10</td>\n      <td>OFERTATA ENERO 02</td>\n    </tr>\n    <tr>\n      <th>4</th>\n      <td>11</td>\n      <td>2023-12-11</td>\n      <td>2024-01-10</td>\n      <td>OFERTATA ENERO 02</td>\n    </tr>\n    <tr>\n      <th>5</th>\n      <td>12</td>\n      <td>2023-12-11</td>\n      <td>2024-01-10</td>\n      <td>OFERTATA ENERO 02</td>\n    </tr>\n  </tbody>\n</table>\n</div>"
     },
     "execution_count": 26,
     "metadata": {},
     "output_type": "execute_result"
    }
   ],
   "source": [
    "url_fechas = 'https://docs.google.com/spreadsheets/d/1JnayuiljvaOebik4gKqNgxSLD6RO2AS8euG7apQykW8/export?format=csv'\n",
    "fechas = pd.read_csv(url_fechas)\n",
    "fechas"
   ],
   "metadata": {
    "collapsed": false
   }
  },
  {
   "cell_type": "code",
   "execution_count": 33,
   "outputs": [
    {
     "name": "stdout",
     "output_type": "stream",
     "text": [
      "10\n",
      "11\n",
      "12\n",
      "10\n",
      "11\n",
      "12\n"
     ]
    }
   ],
   "source": [
    "for i in range(len(fechas)):\n",
    "    print(fechas.iloc[i]['EVENTO_ID'])"
   ],
   "metadata": {
    "collapsed": false
   }
  },
  {
   "cell_type": "code",
   "execution_count": 39,
   "outputs": [
    {
     "data": {
      "text/plain": "  TIPO_OFERTA_ID TIPO_OFERTA_DESC      INICIO         FIN PRECIO DESDE  \\\n0             12   Otros Mailings  2023-12-12  2023-12-25   2023-12-04   \n1             12   Otros Mailings  2023-12-12  2023-12-25   2023-12-04   \n\n  PRECIO HASTA        ORIN  PROM_PVP_OFERTA  \n0   2024-01-03  1000430953            449.0  \n1   2024-01-03  1000430922            499.0  ",
      "text/html": "<div>\n<style scoped>\n    .dataframe tbody tr th:only-of-type {\n        vertical-align: middle;\n    }\n\n    .dataframe tbody tr th {\n        vertical-align: top;\n    }\n\n    .dataframe thead th {\n        text-align: right;\n    }\n</style>\n<table border=\"1\" class=\"dataframe\">\n  <thead>\n    <tr style=\"text-align: right;\">\n      <th></th>\n      <th>TIPO_OFERTA_ID</th>\n      <th>TIPO_OFERTA_DESC</th>\n      <th>INICIO</th>\n      <th>FIN</th>\n      <th>PRECIO DESDE</th>\n      <th>PRECIO HASTA</th>\n      <th>ORIN</th>\n      <th>PROM_PVP_OFERTA</th>\n    </tr>\n  </thead>\n  <tbody>\n    <tr>\n      <th>0</th>\n      <td>12</td>\n      <td>Otros Mailings</td>\n      <td>2023-12-12</td>\n      <td>2023-12-25</td>\n      <td>2023-12-04</td>\n      <td>2024-01-03</td>\n      <td>1000430953</td>\n      <td>449.0</td>\n    </tr>\n    <tr>\n      <th>1</th>\n      <td>12</td>\n      <td>Otros Mailings</td>\n      <td>2023-12-12</td>\n      <td>2023-12-25</td>\n      <td>2023-12-04</td>\n      <td>2024-01-03</td>\n      <td>1000430922</td>\n      <td>499.0</td>\n    </tr>\n  </tbody>\n</table>\n</div>"
     },
     "execution_count": 39,
     "metadata": {},
     "output_type": "execute_result"
    }
   ],
   "source": [
    "query = '''\n",
    "    SELECT\n",
    "        DISTINCT\n",
    "        LPTO.*,\n",
    "        FP.PROM_FECHA_INICIO AS INICIO,\n",
    "        FP.PROM_FECHA_FIN AS FIN,\n",
    "        --LAA.ARTC_ARTC_ID,\n",
    "        --LAA.ARTC_ARTC_COD,\n",
    "        LAA.ORIN,\n",
    "        --LAA.ARTC_ARTC_DESC,\n",
    "        FP.PROM_PVP_OFERTA\n",
    "    FROM\n",
    "        MSTRDB.DWH.FT_PROMOS AS FP\n",
    "        INNER JOIN MSTRDB.DWH.LU_PROM_EVENTO AS LPE ON LPE.EVENTO_ID = FP.EVENTO_ID\n",
    "        INNER JOIN MSTRDB.DWH.LU_PROM_TIPO_OFERTA AS LPTO ON LPTO.TIPO_OFERTA_ID = LPE.TIPO_OFERTA_ID\n",
    "        INNER JOIN MSTRDB.DWH.LU_ARTC_ARTICULO AS LAA ON FP.ARTC_ARTC_ID = LAA.ARTC_ARTC_ID\n",
    "    WHERE\n",
    "        LPTO.TIPO_OFERTA_ID = {id_promo}\n",
    "        AND FP.PROM_FECHA_INICIO >= '{desde_snow}'\n",
    "        AND FP.PROM_FECHA_FIN <= '{hasta_snow}'\n",
    "'''\n",
    "\n",
    "df_precios_oferta = pd.DataFrame()\n",
    "for i in range(len(fechas)):\n",
    "    id = fechas.iloc[i]['EVENTO_ID']\n",
    "    desde = fechas.iloc[i]['DESDE']\n",
    "    hasta = fechas.iloc[i]['HASTA']\n",
    "\n",
    "    cursor.execute(query.format(id_promo = id, desde_snow = desde, hasta_snow = hasta))\n",
    "    df_aux = cursor.fetch_pandas_all()\n",
    "    df_aux['PRECIO DESDE'] = desde\n",
    "    df_aux['PRECIO HASTA'] = hasta\n",
    "    df_precios_oferta = pd.concat([df_precios_oferta, df_aux])\n",
    "df_precios_oferta = df_precios_oferta[['TIPO_OFERTA_ID', 'TIPO_OFERTA_DESC', 'INICIO', 'FIN', 'PRECIO DESDE', 'PRECIO HASTA', 'ORIN', 'PROM_PVP_OFERTA']]\n",
    "df_precios_oferta.head(2)"
   ],
   "metadata": {
    "collapsed": false
   }
  },
  {
   "cell_type": "code",
   "execution_count": null,
   "outputs": [],
   "source": [
    "precios['FIN'] = pd.to_datetime(precios['FIN'])\n",
    "\n",
    "# Create a new 'Rank' column based on the maximum date for each element of 'X'\n",
    "precios['R'] = precios.groupby('ARTC_ARTC_ID')['FIN'].rank(ascending=False, method='max').astype(int)\n",
    "print(precios['ARTC_ARTC_ID'].nunique())\n",
    "\n",
    "precios = precios[precios['R'] == 1]\n",
    "print(precios['ARTC_ARTC_ID'].nunique())\n",
    "precios.drop_duplicates(subset = 'ARTC_ARTC_ID', keep = 'first', inplace = True)\n",
    "precios.drop(['R'], axis = 1, inplace = True)\n",
    "print(precios.shape[0])"
   ],
   "metadata": {
    "collapsed": false
   }
  },
  {
   "cell_type": "code",
   "execution_count": null,
   "outputs": [],
   "source": [
    "precios[precios.duplicated(subset = 'ARTC_ARTC_ID', keep = False)]"
   ],
   "metadata": {
    "collapsed": false
   }
  },
  {
   "cell_type": "markdown",
   "source": [
    "## BASE_OPT"
   ],
   "metadata": {
    "collapsed": false
   }
  },
  {
   "cell_type": "markdown",
   "source": [
    "### tabla 13 - OPT"
   ],
   "metadata": {
    "collapsed": false
   }
  },
  {
   "cell_type": "code",
   "execution_count": null,
   "outputs": [],
   "source": [
    "query = '''\n",
    "    SELECT\n",
    "        LAA.ARTC_ARTC_ID,\n",
    "        LAA.ARTC_ARTC_COD,\n",
    "        LAA.ARTC_ARTC_DESC,\n",
    "        --LAA.ORIN,\n",
    "        ROUND(AVG(OPT.PRECIO_COMPETENCIA), 1) AS AVG_PRECIO_COMPETENCIA\n",
    "    FROM\n",
    "        SPIKE.SPIKE.BASE_OPT AS OPT\n",
    "        INNER JOIN MSTRDB.DWH.LU_ARTC_ARTICULO AS LAA ON OPT.ARTC_ARTC_ID = LAA.ARTC_ARTC_ID\n",
    "        INNER JOIN MSTRDB.DWH.LU_GEOG_LOCAL AS LGL ON OPT.GEOG_LOCL_ID = LGL.GEOG_LOCL_ID\n",
    "    GROUP BY\n",
    "        ALL\n",
    "'''\n",
    "\n",
    "cursor.execute(query)\n",
    "opt = cursor.fetch_pandas_all()\n",
    "opt.head(2)"
   ],
   "metadata": {
    "collapsed": false
   }
  },
  {
   "cell_type": "markdown",
   "source": [
    "## Locales Activos Ayer"
   ],
   "metadata": {
    "collapsed": false
   }
  },
  {
   "cell_type": "markdown",
   "source": [
    "### tabla 14 - Locales Activos Ayer"
   ],
   "metadata": {
    "collapsed": false
   }
  },
  {
   "cell_type": "code",
   "execution_count": 43,
   "outputs": [
    {
     "data": {
      "text/plain": "         ORIN  LOCALES_ACTIVOS_AYER\n0  1000014196                     1\n1  1000050646                    83",
      "text/html": "<div>\n<style scoped>\n    .dataframe tbody tr th:only-of-type {\n        vertical-align: middle;\n    }\n\n    .dataframe tbody tr th {\n        vertical-align: top;\n    }\n\n    .dataframe thead th {\n        text-align: right;\n    }\n</style>\n<table border=\"1\" class=\"dataframe\">\n  <thead>\n    <tr style=\"text-align: right;\">\n      <th></th>\n      <th>ORIN</th>\n      <th>LOCALES_ACTIVOS_AYER</th>\n    </tr>\n  </thead>\n  <tbody>\n    <tr>\n      <th>0</th>\n      <td>1000014196</td>\n      <td>1</td>\n    </tr>\n    <tr>\n      <th>1</th>\n      <td>1000050646</td>\n      <td>83</td>\n    </tr>\n  </tbody>\n</table>\n</div>"
     },
     "execution_count": 43,
     "metadata": {},
     "output_type": "execute_result"
    }
   ],
   "source": [
    "query = '''\n",
    "SELECT\n",
    "    --LAA.ARTC_ARTC_DESC AS ARTICULO,\n",
    "    LAA.ORIN,\n",
    "    --LAA.ARTC_ARTC_ID,\n",
    "    COUNT(DISTINCT FS.GEOG_LOCL_ID) AS LOCALES_ACTIVOS_AYER\n",
    "FROM\n",
    "    MSTRDB.DWH.FT_STOCK AS FS\n",
    "    LEFT JOIN MSTRDB.DWH.LU_ARTC_ARTICULO AS LAA ON FS.ARTC_ARTC_ID = LAA.ARTC_ARTC_ID\n",
    "WHERE\n",
    "    ARTC_ESTA_ID = 4\n",
    "    AND GEOG_LOCL_ID IN (SELECT GEOG_LOCL_ID FROM MSTRDB.DWH.LU_GEOG_LOCAL WHERE GEOG_UNNG_ID = 2)\n",
    "    AND GEOG_LOCL_ID IN (SELECT GEOG_LOCL_ID FROM MSTRDB.DWH.LU_GEOG_LOCAL WHERE GEOG_LOCL_COD NOT IN (198, 100))\n",
    "    AND FS.TIEM_DIA_ID = CURRENT_DATE() - 1\n",
    "GROUP BY\n",
    "    ALL\n",
    "'''\n",
    "\n",
    "cursor.execute(query)\n",
    "e_7 = cursor.fetch_pandas_all()\n",
    "e_7.head(2)"
   ],
   "metadata": {
    "collapsed": false
   }
  },
  {
   "cell_type": "code",
   "execution_count": 44,
   "outputs": [
    {
     "data": {
      "text/plain": "array([ 1, 83, 89, 91, 70, 75, 93, 92, 71, 58, 94, 90, 69, 22, 67, 33, 50,\n       51, 60, 61, 72,  5, 49, 85, 86, 62, 38, 65, 74, 48, 68, 35, 87, 52,\n       81, 30, 79, 44, 47, 77, 29, 37, 40, 63, 73, 43, 80, 57, 88, 27, 26,\n       39, 64, 66, 15, 55, 42, 82, 34, 53, 78, 59, 28, 10, 31, 21, 36, 54,\n       45, 41, 84, 20, 76, 46, 19, 32,  2,  8, 25, 24, 23, 18, 56,  9, 12,\n       95,  4,  3, 17, 14,  7, 11, 13, 16,  6], dtype=int64)"
     },
     "execution_count": 44,
     "metadata": {},
     "output_type": "execute_result"
    }
   ],
   "source": [
    "e_7['LOCALES_ACTIVOS_AYER'].unique()"
   ],
   "metadata": {
    "collapsed": false
   }
  },
  {
   "cell_type": "markdown",
   "source": [
    "## Days on Hand"
   ],
   "metadata": {
    "collapsed": false
   }
  },
  {
   "cell_type": "markdown",
   "source": [
    "### tabla 15 - days on hand ARTICULO"
   ],
   "metadata": {
    "collapsed": false
   }
  },
  {
   "cell_type": "code",
   "execution_count": 8,
   "outputs": [
    {
     "data": {
      "text/plain": "     SUBCLASE                                  ARTC_ARTC_DESC        ORIN  \\\n0  1500050002          CAVIAR NEGRO STUK DEUSTECHER 50.00 U 1  1000054044   \n1  1600040003  COPOS DE MAIZ NATURALES MULTIAHORRO 200.00 G 1  1000054303   \n\n   ARTC_ARTC_ID  UNIDADES  UNIDADES_VENDIDAS  \n0         69378       0.0                0.0  \n1         69450       0.0                0.0  ",
      "text/html": "<div>\n<style scoped>\n    .dataframe tbody tr th:only-of-type {\n        vertical-align: middle;\n    }\n\n    .dataframe tbody tr th {\n        vertical-align: top;\n    }\n\n    .dataframe thead th {\n        text-align: right;\n    }\n</style>\n<table border=\"1\" class=\"dataframe\">\n  <thead>\n    <tr style=\"text-align: right;\">\n      <th></th>\n      <th>SUBCLASE</th>\n      <th>ARTC_ARTC_DESC</th>\n      <th>ORIN</th>\n      <th>ARTC_ARTC_ID</th>\n      <th>UNIDADES</th>\n      <th>UNIDADES_VENDIDAS</th>\n    </tr>\n  </thead>\n  <tbody>\n    <tr>\n      <th>0</th>\n      <td>1500050002</td>\n      <td>CAVIAR NEGRO STUK DEUSTECHER 50.00 U 1</td>\n      <td>1000054044</td>\n      <td>69378</td>\n      <td>0.0</td>\n      <td>0.0</td>\n    </tr>\n    <tr>\n      <th>1</th>\n      <td>1600040003</td>\n      <td>COPOS DE MAIZ NATURALES MULTIAHORRO 200.00 G 1</td>\n      <td>1000054303</td>\n      <td>69450</td>\n      <td>0.0</td>\n      <td>0.0</td>\n    </tr>\n  </tbody>\n</table>\n</div>"
     },
     "execution_count": 8,
     "metadata": {},
     "output_type": "execute_result"
    }
   ],
   "source": [
    "query = '''\n",
    "WITH STOCK AS\n",
    "    (\n",
    "    SELECT\n",
    "        IM.SUBCLASE,\n",
    "        LAA.ARTC_ARTC_DESC,\n",
    "        LAA.ORIN,\n",
    "        LAA.ARTC_ARTC_ID,\n",
    "        SUM(FS.STCK_UNIDADES) AS UNIDADES\n",
    "    FROM\n",
    "        MSTRDB.DWH.FT_STOCK AS FS\n",
    "        LEFT JOIN MSTRDB.DWH.LU_ARTC_ARTICULO AS LAA ON FS.ARTC_ARTC_ID = LAA.ARTC_ARTC_ID\n",
    "        INNER JOIN MSTRDB.DWH.ITEM_MASTER AS IM ON LAA.ORIN = IM.ITEM\n",
    "    WHERE\n",
    "        FS.TIEM_DIA_ID = CURRENT_DATE() - 1\n",
    "    GROUP BY\n",
    "        ALL\n",
    "    ),\n",
    "\n",
    "VENTAS AS\n",
    "    (\n",
    "    SELECT\n",
    "        FV.ARTC_ARTC_ID,\n",
    "        (SUM(FV.VNTA_UNIDADES) / 30) AS UNIDADES_VENDIDAS\n",
    "    FROM\n",
    "        MSTRDB.DWH.FT_VENTAS AS FV\n",
    "    WHERE\n",
    "        FV.TIEM_DIA_ID >= DATEADD(MONTH, -1, CURRENT_DATE()-1)\n",
    "    GROUP BY\n",
    "        ALL\n",
    "    )\n",
    "\n",
    "SELECT\n",
    "    STOCK.*,\n",
    "    COALESCE(VENTAS.UNIDADES_VENDIDAS, 0) AS UNIDADES_VENDIDAS\n",
    "FROM\n",
    "    STOCK\n",
    "    LEFT JOIN VENTAS ON VENTAS.ARTC_ARTC_ID = STOCK.ARTC_ARTC_ID\n",
    "'''\n",
    "\n",
    "cursor.execute(query)\n",
    "e_8 = cursor.fetch_pandas_all()\n",
    "e_8 = e_8[e_8['UNIDADES'] != 0]\n",
    "e_8['DAYS ON HAND'] = e_8['UNIDADES'] / e_8['UNIDADES_VENDIDAS']\n",
    "e_8['DAYS ON HAND'][(e_8['UNIDADES'] == 0) & (e_8['UNIDADES_VENDIDAS'] == 0)] = 0\n",
    "e_8['DAYS ON HAND'] = round(e_8['DAYS ON HAND'], 2)\n",
    "e_8['UNIDADES'] = round(e_8['UNIDADES'], 2)\n",
    "e_8['UNIDADES_VENDIDAS'] = round(e_8['UNIDADES_VENDIDAS'], 2)\n",
    "e_8 = e_8[['SUBCLASE', 'ORIN', 'DAYS ON HAND']]\n",
    "e_8.head(2)"
   ],
   "metadata": {
    "collapsed": false
   }
  },
  {
   "cell_type": "markdown",
   "source": [
    "### tabla 16 - days on hand SUBCLASE"
   ],
   "metadata": {
    "collapsed": false
   }
  },
  {
   "cell_type": "code",
   "execution_count": 17,
   "outputs": [
    {
     "data": {
      "text/plain": "     SUBCLASE                     SUB_NAME  UNIDADES  UNIDADES_VENDIDAS  \\\n0  8900010008            PANOS ABSORVENTES   34238.0             533.47   \n1  6900010001  ARMA DE DARDOS O MUNICIONES    1278.0              10.60   \n\n   DAYS ON HAND  \n0         64.18  \n1        120.57  ",
      "text/html": "<div>\n<style scoped>\n    .dataframe tbody tr th:only-of-type {\n        vertical-align: middle;\n    }\n\n    .dataframe tbody tr th {\n        vertical-align: top;\n    }\n\n    .dataframe thead th {\n        text-align: right;\n    }\n</style>\n<table border=\"1\" class=\"dataframe\">\n  <thead>\n    <tr style=\"text-align: right;\">\n      <th></th>\n      <th>SUBCLASE</th>\n      <th>SUB_NAME</th>\n      <th>UNIDADES</th>\n      <th>UNIDADES_VENDIDAS</th>\n      <th>DAYS ON HAND</th>\n    </tr>\n  </thead>\n  <tbody>\n    <tr>\n      <th>0</th>\n      <td>8900010008</td>\n      <td>PANOS ABSORVENTES</td>\n      <td>34238.0</td>\n      <td>533.47</td>\n      <td>64.18</td>\n    </tr>\n    <tr>\n      <th>1</th>\n      <td>6900010001</td>\n      <td>ARMA DE DARDOS O MUNICIONES</td>\n      <td>1278.0</td>\n      <td>10.60</td>\n      <td>120.57</td>\n    </tr>\n  </tbody>\n</table>\n</div>"
     },
     "execution_count": 17,
     "metadata": {},
     "output_type": "execute_result"
    }
   ],
   "source": [
    "query = '''\n",
    "WITH STOCK AS\n",
    "    (\n",
    "    SELECT\n",
    "        SUB.SUBCLASE,\n",
    "        SUB.SUB_NAME,\n",
    "        SUM(FS.STCK_UNIDADES) AS UNIDADES\n",
    "    FROM\n",
    "        MSTRDB.DWH.FT_STOCK AS FS\n",
    "        LEFT JOIN MSTRDB.DWH.LU_ARTC_ARTICULO AS LAA ON FS.ARTC_ARTC_ID = LAA.ARTC_ARTC_ID\n",
    "        INNER JOIN MSTRDB.DWH.ITEM_MASTER AS IM ON IM.ITEM = LAA.ORIN\n",
    "        INNER JOIN MSTRDB.DWH.SUBCLASS AS SUB ON SUB.SUBCLASE = IM.SUBCLASE\n",
    "    WHERE\n",
    "        FS.TIEM_DIA_ID = CURRENT_DATE() - 1\n",
    "    GROUP BY\n",
    "        ALL\n",
    "    ),\n",
    "\n",
    "VENTAS AS\n",
    "    (\n",
    "    SELECT\n",
    "        SUB.SUBCLASE,\n",
    "        (SUM(FV.VNTA_UNIDADES) / 30) AS UNIDADES_VENDIDAS\n",
    "    FROM\n",
    "        MSTRDB.DWH.FT_VENTAS AS FV\n",
    "        INNER JOIN MSTRDB.DWH.LU_ARTC_ARTICULO AS LAA ON FV.ARTC_ARTC_ID = LAA.ARTC_ARTC_ID\n",
    "        INNER JOIN MSTRDB.DWH.ITEM_MASTER AS IM ON IM.ITEM = LAA.ORIN\n",
    "        INNER JOIN MSTRDB.DWH.SUBCLASS AS SUB ON SUB.SUBCLASE = IM.SUBCLASE\n",
    "    WHERE\n",
    "        FV.TIEM_DIA_ID >= DATEADD(MONTH, -1, CURRENT_DATE()-1)\n",
    "    GROUP BY\n",
    "        ALL\n",
    "    )\n",
    "\n",
    "SELECT\n",
    "    STOCK.*,\n",
    "    COALESCE(VENTAS.UNIDADES_VENDIDAS, 0) AS UNIDADES_VENDIDAS\n",
    "FROM\n",
    "    STOCK\n",
    "    LEFT JOIN VENTAS ON VENTAS.SUBCLASE = STOCK.SUBCLASE\n",
    "'''\n",
    "\n",
    "cursor.execute(query)\n",
    "e_9 = cursor.fetch_pandas_all()\n",
    "e_9 = e_9[e_9['UNIDADES'] != 0]\n",
    "e_9['DAYS ON HAND'] = e_9['UNIDADES'] / e_9['UNIDADES_VENDIDAS']\n",
    "e_9['DAYS ON HAND'][(e_9['UNIDADES'] == 0) & (e_9['UNIDADES_VENDIDAS'] == 0)] = 0\n",
    "e_9['DAYS ON HAND'] = round(e_9['DAYS ON HAND'], 2)\n",
    "e_9['UNIDADES'] = round(e_9['UNIDADES'], 2)\n",
    "e_9['UNIDADES_VENDIDAS'] = round(e_9['UNIDADES_VENDIDAS'], 2)\n",
    "e_9 = e_9[['SUBCLASE', 'ORIN', 'DAYS ON HAND']]\n",
    "e_9.head(2)"
   ],
   "metadata": {
    "collapsed": false
   }
  },
  {
   "cell_type": "code",
   "execution_count": 22,
   "outputs": [
    {
     "data": {
      "text/plain": "Empty DataFrame\nColumns: [SUBCLASE, ARTC_ARTC_DESC, ORIN, ARTC_ARTC_ID, UNIDADES, UNIDADES_VENDIDAS, DAYS ON HAND]\nIndex: []",
      "text/html": "<div>\n<style scoped>\n    .dataframe tbody tr th:only-of-type {\n        vertical-align: middle;\n    }\n\n    .dataframe tbody tr th {\n        vertical-align: top;\n    }\n\n    .dataframe thead th {\n        text-align: right;\n    }\n</style>\n<table border=\"1\" class=\"dataframe\">\n  <thead>\n    <tr style=\"text-align: right;\">\n      <th></th>\n      <th>SUBCLASE</th>\n      <th>ARTC_ARTC_DESC</th>\n      <th>ORIN</th>\n      <th>ARTC_ARTC_ID</th>\n      <th>UNIDADES</th>\n      <th>UNIDADES_VENDIDAS</th>\n      <th>DAYS ON HAND</th>\n    </tr>\n  </thead>\n  <tbody>\n  </tbody>\n</table>\n</div>"
     },
     "execution_count": 22,
     "metadata": {},
     "output_type": "execute_result"
    }
   ],
   "source": [
    "e_9['DAYS ON HAND'][e_9['DAYS ON HAND'] == np.inf] = 99999999\n",
    "e_9[e_9['DAYS ON HAND'] == np.inf]"
   ],
   "metadata": {
    "collapsed": false
   }
  },
  {
   "cell_type": "markdown",
   "source": [
    "## Precios Stock Mediano ayer"
   ],
   "metadata": {
    "collapsed": false
   }
  },
  {
   "cell_type": "markdown",
   "source": [
    "### tabla 17 - Precios Stock Mediano ayer"
   ],
   "metadata": {
    "collapsed": false
   }
  },
  {
   "cell_type": "code",
   "execution_count": null,
   "outputs": [],
   "source": [
    "query = '''\n",
    "    SELECT\n",
    "        DISTINCT\n",
    "        LPTO.*,\n",
    "        FP.PROM_FECHA_INICIO AS INICIO,\n",
    "        FP.PROM_FECHA_FIN AS FIN,\n",
    "        --LAA.ARTC_ARTC_ID,\n",
    "        --LAA.ARTC_ARTC_COD,\n",
    "        --LAA.ARTC_ARTC_DESC,\n",
    "        LAA.ORIN,\n",
    "        MEDIAN(FS.STCK_PRECIO_VENTA_DIA_CIVA) AS PRECIO_STOCK_MEDIANO\n",
    "    FROM\n",
    "        MSTRDB.DWH.FT_PROMOS AS FP\n",
    "        INNER JOIN MSTRDB.DWH.LU_PROM_EVENTO AS LPE ON LPE.EVENTO_ID = FP.EVENTO_ID\n",
    "        INNER JOIN MSTRDB.DWH.LU_PROM_TIPO_OFERTA AS LPTO ON LPTO.TIPO_OFERTA_ID = LPE.TIPO_OFERTA_ID\n",
    "        INNER JOIN MSTRDB.DWH.LU_ARTC_ARTICULO AS LAA ON FP.ARTC_ARTC_ID = LAA.ARTC_ARTC_ID\n",
    "        INNER JOIN MSTRDB.DWH.FT_STOCK AS FS ON FS.ARTC_ARTC_ID = LAA.ARTC_ARTC_ID AND FS.TIEM_DIA_ID = CURRENT_DATE - 1\n",
    "    WHERE\n",
    "        LPTO.TIPO_OFERTA_ID IN (10, 11, 12)\n",
    "    GROUP BY\n",
    "        ALL\n",
    "'''\n",
    "\n",
    "cursor.execute(query)\n",
    "df_precios_stock_mediano = cursor.fetch_pandas_all()\n",
    "df_precios_stock_mediano.head(2)"
   ],
   "metadata": {
    "collapsed": false
   }
  },
  {
   "cell_type": "markdown",
   "source": [
    "## Segmentos para Redes"
   ],
   "metadata": {
    "collapsed": false
   }
  },
  {
   "cell_type": "markdown",
   "source": [
    "### Notas"
   ],
   "metadata": {
    "collapsed": false
   }
  },
  {
   "cell_type": "code",
   "execution_count": null,
   "outputs": [],
   "source": [
    "# sumar una hoja al excel que contenga\n",
    "#\n",
    "# subclase\n",
    "# clientes activos tata (clientes que compraron en tata ultimos 3 meses)\n",
    "# clientes activos tata que compran la subclase\n",
    "# clientes activos tata que no compran la subclase y tienen alto score (scoring de bzm)\n",
    "# clientes activos tata que no compran la subclase y tienen alto score (scoring de bzm) | contactables mail\n",
    "# clientes activos tata que no compran la subclase y tienen alto score (scoring de bzm) | contactables celu\n",
    "#\n",
    "# (entender con fede si la contactabilidad la queremos excluyente o no. mencionó algo de enviar x wpp, por lo que capaz solo importa contactabilidad celular)"
   ],
   "metadata": {
    "collapsed": false
   }
  },
  {
   "cell_type": "code",
   "execution_count": null,
   "outputs": [],
   "source": [
    "# 1. clientes que compran el articulo y quiero venderles mas\n",
    "# 2. clientes que no compran el articulo pero si compran articulos de la subclase\n",
    "# 2.2. idem punto 2 pero para score 4 o 5 en la subclase\n",
    "# 3. clientes que no compran y tienen score 5\n",
    "# 4. clientes que compran la subclase, pero no compran la marca\n",
    "#\n",
    "# que sea para whatsapp\n",
    "#\n",
    "# enviar segmento como sheets adicionales\n",
    "# periodo de tiempo → un mes"
   ],
   "metadata": {
    "collapsed": false
   }
  },
  {
   "cell_type": "markdown",
   "source": [
    "### Articulos destacados"
   ],
   "metadata": {
    "collapsed": false
   }
  },
  {
   "cell_type": "code",
   "execution_count": 4,
   "outputs": [
    {
     "data": {
      "text/plain": "   Categoria  Estadistico        ORIN  \\\n0  Alfajores    260668000  1000054862   \n1  Alfajores    260669000  1000054863   \n\n                                       Desc  Cant Clientes  \n0      ALFAJOR NIEVE PORTEZUELO PACK 6.00 U            NaN  \n1  ALFAJOR CHOCOLATE PORTEZUELO PACK 6.00 U            NaN  ",
      "text/html": "<div>\n<style scoped>\n    .dataframe tbody tr th:only-of-type {\n        vertical-align: middle;\n    }\n\n    .dataframe tbody tr th {\n        vertical-align: top;\n    }\n\n    .dataframe thead th {\n        text-align: right;\n    }\n</style>\n<table border=\"1\" class=\"dataframe\">\n  <thead>\n    <tr style=\"text-align: right;\">\n      <th></th>\n      <th>Categoria</th>\n      <th>Estadistico</th>\n      <th>ORIN</th>\n      <th>Desc</th>\n      <th>Cant Clientes</th>\n    </tr>\n  </thead>\n  <tbody>\n    <tr>\n      <th>0</th>\n      <td>Alfajores</td>\n      <td>260668000</td>\n      <td>1000054862</td>\n      <td>ALFAJOR NIEVE PORTEZUELO PACK 6.00 U</td>\n      <td>NaN</td>\n    </tr>\n    <tr>\n      <th>1</th>\n      <td>Alfajores</td>\n      <td>260669000</td>\n      <td>1000054863</td>\n      <td>ALFAJOR CHOCOLATE PORTEZUELO PACK 6.00 U</td>\n      <td>NaN</td>\n    </tr>\n  </tbody>\n</table>\n</div>"
     },
     "execution_count": 4,
     "metadata": {},
     "output_type": "execute_result"
    }
   ],
   "source": [
    "url_fede = 'https://docs.google.com/spreadsheets/d/1JQ23ubzz9W6CteBHoHdqZtl9dp5zmSfTQf0F9Du29R8/export?format=csv'\n",
    "articulos_destacados = pd.read_csv(url_fede)\n",
    "articulos_destacados.head(2)"
   ],
   "metadata": {
    "collapsed": false
   }
  },
  {
   "cell_type": "code",
   "execution_count": 18,
   "outputs": [
    {
     "name": "stdout",
     "output_type": "stream",
     "text": [
      "True\n"
     ]
    },
    {
     "data": {
      "text/plain": "  SUB_NAME    SUBCLASE       MARCA        ORIN  \\\n0    PACKS  1900010003  PORTEZUELO  1000054863   \n1    PACKS  1900010003  PORTEZUELO  1000054862   \n\n                                    ARTICULO  \n0  ALFAJOR CHOCOLATE PORTEZUELO PACK 6.00 U.  \n1        ALFAJOR NIEVE PORTEZUELO PACK X 6 U  ",
      "text/html": "<div>\n<style scoped>\n    .dataframe tbody tr th:only-of-type {\n        vertical-align: middle;\n    }\n\n    .dataframe tbody tr th {\n        vertical-align: top;\n    }\n\n    .dataframe thead th {\n        text-align: right;\n    }\n</style>\n<table border=\"1\" class=\"dataframe\">\n  <thead>\n    <tr style=\"text-align: right;\">\n      <th></th>\n      <th>SUB_NAME</th>\n      <th>SUBCLASE</th>\n      <th>MARCA</th>\n      <th>ORIN</th>\n      <th>ARTICULO</th>\n    </tr>\n  </thead>\n  <tbody>\n    <tr>\n      <th>0</th>\n      <td>PACKS</td>\n      <td>1900010003</td>\n      <td>PORTEZUELO</td>\n      <td>1000054863</td>\n      <td>ALFAJOR CHOCOLATE PORTEZUELO PACK 6.00 U.</td>\n    </tr>\n    <tr>\n      <th>1</th>\n      <td>PACKS</td>\n      <td>1900010003</td>\n      <td>PORTEZUELO</td>\n      <td>1000054862</td>\n      <td>ALFAJOR NIEVE PORTEZUELO PACK X 6 U</td>\n    </tr>\n  </tbody>\n</table>\n</div>"
     },
     "execution_count": 18,
     "metadata": {},
     "output_type": "execute_result"
    }
   ],
   "source": [
    "query = '''\n",
    "SELECT\n",
    "    SUB.SUB_NAME,\n",
    "    SUB.SUBCLASE,\n",
    "    LAB.ARTC_BRAND_DESC AS MARCA,\n",
    "    LAA.ORIN,\n",
    "    LAA.ARTC_ARTC_DESC AS ARTICULO\n",
    "FROM\n",
    "    MSTRDB.DWH.LU_ARTC_BRAND AS LAB\n",
    "    INNER JOIN MSTRDB.DWH.LU_ARTC_ARTICULO AS LAA ON LAA.ARTC_BRAND_ID = LAB.ARTC_BRAND_ID\n",
    "    INNER JOIN MSTRDB.DWH.ITEM_MASTER AS IM ON IM.ITEM = LAA.ORIN\n",
    "    INNER JOIN MSTRDB.DWH.SUBCLASS AS SUB ON SUB.SUBCLASE = IM.SUBCLASE\n",
    "WHERE\n",
    "    LAA.ORIN IN {orin_snow}\n",
    "'''\n",
    "\n",
    "cursor.execute(query.format(orin_snow = tuple(str(number) for number in articulos_destacados['ORIN'])))\n",
    "articulos_destacados_2 = cursor.fetch_pandas_all()\n",
    "print(articulos_destacados.shape[0] == articulos_destacados_2.shape[0])\n",
    "articulos_destacados_2.head(2)"
   ],
   "metadata": {
    "collapsed": false
   }
  },
  {
   "cell_type": "code",
   "execution_count": 19,
   "outputs": [
    {
     "name": "stdout",
     "output_type": "stream",
     "text": [
      "ORINES --> 27\n",
      "MARCAS --> 12\n",
      "SUBCLASES --> 13\n"
     ]
    }
   ],
   "source": [
    "print(f\"ORINES --> {articulos_destacados_2['ORIN'].nunique()}\")\n",
    "print(f\"MARCAS --> {articulos_destacados_2['MARCA'].nunique()}\")\n",
    "print(f\"SUBCLASES --> {articulos_destacados_2['SUB_NAME'].nunique()}\")"
   ],
   "metadata": {
    "collapsed": false
   }
  },
  {
   "cell_type": "markdown",
   "source": [
    "### Segmentos"
   ],
   "metadata": {
    "collapsed": false
   }
  },
  {
   "cell_type": "markdown",
   "source": [
    "#### 1. Clientes que ya compran el articulo"
   ],
   "metadata": {
    "collapsed": false
   }
  },
  {
   "cell_type": "code",
   "execution_count": 34,
   "outputs": [
    {
     "name": "stdout",
     "output_type": "stream",
     "text": [
      "80601\n"
     ]
    },
    {
     "data": {
      "text/plain": "              SUB_NAME   SUBCLASE      MARCA        ORIN  \\\n0  CERVEZAS NACIONALES  100020003  ZILLERTAL  1000353034   \n1  CERVEZAS NACIONALES  100020003  ZILLERTAL  1000353035   \n\n                            ARTICULO  SOCI_SOCI_ID CLIE_TIPO_DOC  \\\n0  CERVEZA ZILLERTAL IPA LATA 473 ML        251940             C   \n1   CERVEZA ZILLERTAL APA LATA 473CC        100191             C   \n\n  CLIE_CLIE_NDOC ULTIMOS_4   CELULAR  \n0       47275593   CI:5593  93915415  \n1       28716500   CI:6500  99368617  ",
      "text/html": "<div>\n<style scoped>\n    .dataframe tbody tr th:only-of-type {\n        vertical-align: middle;\n    }\n\n    .dataframe tbody tr th {\n        vertical-align: top;\n    }\n\n    .dataframe thead th {\n        text-align: right;\n    }\n</style>\n<table border=\"1\" class=\"dataframe\">\n  <thead>\n    <tr style=\"text-align: right;\">\n      <th></th>\n      <th>SUB_NAME</th>\n      <th>SUBCLASE</th>\n      <th>MARCA</th>\n      <th>ORIN</th>\n      <th>ARTICULO</th>\n      <th>SOCI_SOCI_ID</th>\n      <th>CLIE_TIPO_DOC</th>\n      <th>CLIE_CLIE_NDOC</th>\n      <th>ULTIMOS_4</th>\n      <th>CELULAR</th>\n    </tr>\n  </thead>\n  <tbody>\n    <tr>\n      <th>0</th>\n      <td>CERVEZAS NACIONALES</td>\n      <td>100020003</td>\n      <td>ZILLERTAL</td>\n      <td>1000353034</td>\n      <td>CERVEZA ZILLERTAL IPA LATA 473 ML</td>\n      <td>251940</td>\n      <td>C</td>\n      <td>47275593</td>\n      <td>CI:5593</td>\n      <td>93915415</td>\n    </tr>\n    <tr>\n      <th>1</th>\n      <td>CERVEZAS NACIONALES</td>\n      <td>100020003</td>\n      <td>ZILLERTAL</td>\n      <td>1000353035</td>\n      <td>CERVEZA ZILLERTAL APA LATA 473CC</td>\n      <td>100191</td>\n      <td>C</td>\n      <td>28716500</td>\n      <td>CI:6500</td>\n      <td>99368617</td>\n    </tr>\n  </tbody>\n</table>\n</div>"
     },
     "execution_count": 34,
     "metadata": {},
     "output_type": "execute_result"
    }
   ],
   "source": [
    "query = '''\n",
    "SELECT\n",
    "    DISTINCT\n",
    "    SUB.SUB_NAME,\n",
    "    SUB.SUBCLASE,\n",
    "    LAB.ARTC_BRAND_DESC AS MARCA,\n",
    "    LAA.ORIN,\n",
    "    LAA.ARTC_ARTC_DESC AS ARTICULO,\n",
    "    CONT.SOCI_SOCI_ID,\n",
    "    CONT.CLIE_TIPO_DOC,\n",
    "    CONT.CLIE_CLIE_NDOC,\n",
    "    CASE\n",
    "        WHEN CONT.CLIE_TIPO_DOC LIKE 'C' THEN 'CI:' || RIGHT(CONT.CLIE_CLIE_NDOC, 4)\n",
    "        ELSE 'Doc.' || RIGHT(CONT.CLIE_CLIE_NDOC, 4)\n",
    "        END AS ULTIMOS_4,\n",
    "    CONT.CELULAR\n",
    "FROM\n",
    "    MSTRDB.DWH.LU_ARTC_BRAND AS LAB\n",
    "    INNER JOIN MSTRDB.DWH.LU_ARTC_ARTICULO AS LAA ON LAA.ARTC_BRAND_ID = LAB.ARTC_BRAND_ID\n",
    "    INNER JOIN MSTRDB.DWH.ITEM_MASTER AS IM ON IM.ITEM = LAA.ORIN\n",
    "    INNER JOIN MSTRDB.DWH.SUBCLASS AS SUB ON SUB.SUBCLASE = IM.SUBCLASE\n",
    "    INNER JOIN MSTRDB.DWH.FT_VENTAS AS FV ON FV.ARTC_ARTC_ID = LAA.ARTC_ARTC_ID\n",
    "    INNER JOIN MSTRDB.DWH.FT_FDLN_MOVIMIENTOS AS FFM ON FFM.TICKET = FV.TICKET\n",
    "    INNER JOIN SANDBOX_PLUS.DWH.CONTACTABLES_2 AS CONT ON CONT.SOCI_SOCI_ID = FFM.SOCI_SOCI_ID\n",
    "    INNER JOIN MSTRDB.DWH.LU_CLIE_CLIENTE AS LCC ON LCC.SOCI_SOCI_ID = FFM.SOCI_SOCI_ID\n",
    "WHERE\n",
    "    FFM.TIEM_DIA_ID >= DATEADD(MONTH, -1, CURRENT_DATE)\n",
    "    AND CONT.CELULAR IS NOT NULL\n",
    "    AND CONT.WP = 1\n",
    "    AND CONT.SOCI_SOCI_ID NOT IN (SELECT SOCI_SOCI_ID FROM SANDBOX_PLUS.DWH.SOCIOS_NO_COMUNICAR)\n",
    "    AND ( LCC.CLIE_CLIE_NOMBRE1 NOT IN('No Disponible', 'No disponible', 'N A') OR (LCC.CLIE_CLIE_NOMBRE1 = 'No Disponible' AND LCC.CLIE_CLIE_FNAC = '1919-01-01') )\n",
    "    AND LAA.ORIN IN {orin_snow}\n",
    "'''\n",
    "\n",
    "cursor.execute(query.format(orin_snow = tuple(str(number) for number in articulos_destacados_2['ORIN'])))\n",
    "segm_1 = cursor.fetch_pandas_all()\n",
    "print(segm_1.shape[0])\n",
    "segm_1.head(2)"
   ],
   "metadata": {
    "collapsed": false
   }
  },
  {
   "cell_type": "code",
   "execution_count": 54,
   "outputs": [
    {
     "data": {
      "text/plain": "Empty DataFrame\nColumns: [SUB_NAME, SUBCLASE, MARCA, ORIN, ARTICULO, SOCI_SOCI_ID, CLIE_TIPO_DOC, CLIE_CLIE_NDOC, ULTIMOS_4, CELULAR]\nIndex: []",
      "text/html": "<div>\n<style scoped>\n    .dataframe tbody tr th:only-of-type {\n        vertical-align: middle;\n    }\n\n    .dataframe tbody tr th {\n        vertical-align: top;\n    }\n\n    .dataframe thead th {\n        text-align: right;\n    }\n</style>\n<table border=\"1\" class=\"dataframe\">\n  <thead>\n    <tr style=\"text-align: right;\">\n      <th></th>\n      <th>SUB_NAME</th>\n      <th>SUBCLASE</th>\n      <th>MARCA</th>\n      <th>ORIN</th>\n      <th>ARTICULO</th>\n      <th>SOCI_SOCI_ID</th>\n      <th>CLIE_TIPO_DOC</th>\n      <th>CLIE_CLIE_NDOC</th>\n      <th>ULTIMOS_4</th>\n      <th>CELULAR</th>\n    </tr>\n  </thead>\n  <tbody>\n  </tbody>\n</table>\n</div>"
     },
     "execution_count": 54,
     "metadata": {},
     "output_type": "execute_result"
    }
   ],
   "source": [
    "segm_1[segm_1.duplicated(subset = ['SOCI_SOCI_ID', 'ORIN'], keep = False)]"
   ],
   "metadata": {
    "collapsed": false
   }
  },
  {
   "cell_type": "markdown",
   "source": [
    "#### 2.1. Clientes que compran la subclase pero no el articulo"
   ],
   "metadata": {
    "collapsed": false
   }
  },
  {
   "cell_type": "code",
   "execution_count": 35,
   "outputs": [
    {
     "name": "stdout",
     "output_type": "stream",
     "text": [
      "728754\n"
     ]
    },
    {
     "data": {
      "text/plain": "  SUB_NAME    SUBCLASE       MARCA        ORIN  \\\n0    PACKS  1900010003  PORTEZUELO  1000054863   \n1    PACKS  1900010003  PORTEZUELO  1000054863   \n\n                                    ARTICULO  SOCI_SOCI_ID CLIE_TIPO_DOC  \\\n0  ALFAJOR CHOCOLATE PORTEZUELO PACK 6.00 U.       1603376             C   \n1  ALFAJOR CHOCOLATE PORTEZUELO PACK 6.00 U.       1466078             C   \n\n  CLIE_CLIE_NDOC ULTIMOS_4   CELULAR  \n0       63969592   CI:9592  91845755  \n1       44167139   CI:7139  99481311  ",
      "text/html": "<div>\n<style scoped>\n    .dataframe tbody tr th:only-of-type {\n        vertical-align: middle;\n    }\n\n    .dataframe tbody tr th {\n        vertical-align: top;\n    }\n\n    .dataframe thead th {\n        text-align: right;\n    }\n</style>\n<table border=\"1\" class=\"dataframe\">\n  <thead>\n    <tr style=\"text-align: right;\">\n      <th></th>\n      <th>SUB_NAME</th>\n      <th>SUBCLASE</th>\n      <th>MARCA</th>\n      <th>ORIN</th>\n      <th>ARTICULO</th>\n      <th>SOCI_SOCI_ID</th>\n      <th>CLIE_TIPO_DOC</th>\n      <th>CLIE_CLIE_NDOC</th>\n      <th>ULTIMOS_4</th>\n      <th>CELULAR</th>\n    </tr>\n  </thead>\n  <tbody>\n    <tr>\n      <th>0</th>\n      <td>PACKS</td>\n      <td>1900010003</td>\n      <td>PORTEZUELO</td>\n      <td>1000054863</td>\n      <td>ALFAJOR CHOCOLATE PORTEZUELO PACK 6.00 U.</td>\n      <td>1603376</td>\n      <td>C</td>\n      <td>63969592</td>\n      <td>CI:9592</td>\n      <td>91845755</td>\n    </tr>\n    <tr>\n      <th>1</th>\n      <td>PACKS</td>\n      <td>1900010003</td>\n      <td>PORTEZUELO</td>\n      <td>1000054863</td>\n      <td>ALFAJOR CHOCOLATE PORTEZUELO PACK 6.00 U.</td>\n      <td>1466078</td>\n      <td>C</td>\n      <td>44167139</td>\n      <td>CI:7139</td>\n      <td>99481311</td>\n    </tr>\n  </tbody>\n</table>\n</div>"
     },
     "execution_count": 35,
     "metadata": {},
     "output_type": "execute_result"
    }
   ],
   "source": [
    "query = '''\n",
    "WITH COMPRARON AS\n",
    "    (\n",
    "    SELECT\n",
    "        DISTINCT\n",
    "        FFM.SOCI_SOCI_ID\n",
    "    FROM\n",
    "        MSTRDB.DWH.LU_ARTC_ARTICULO AS LAA\n",
    "        INNER JOIN MSTRDB.DWH.FT_VENTAS AS FV ON FV.ARTC_ARTC_ID = LAA.ARTC_ARTC_ID\n",
    "        INNER JOIN MSTRDB.DWH.FT_FDLN_MOVIMIENTOS AS FFM ON FFM.TICKET = FV.TICKET\n",
    "    WHERE\n",
    "        FFM.TIEM_DIA_ID >= DATEADD(MONTH, -1, CURRENT_DATE)\n",
    "        AND LAA.ORIN = '{orin_snow}'\n",
    "    )\n",
    "\n",
    "SELECT\n",
    "    DISTINCT\n",
    "    SUB.SUB_NAME,\n",
    "    SUB.SUBCLASE,\n",
    "    CONT.SOCI_SOCI_ID,\n",
    "    CONT.CLIE_TIPO_DOC,\n",
    "    CONT.CLIE_CLIE_NDOC,\n",
    "    CASE\n",
    "        WHEN CONT.CLIE_TIPO_DOC LIKE 'C' THEN 'CI:' || RIGHT(CONT.CLIE_CLIE_NDOC, 4)\n",
    "        ELSE 'Doc.' || RIGHT(CONT.CLIE_CLIE_NDOC, 4)\n",
    "        END AS ULTIMOS_4,\n",
    "    CONT.CELULAR\n",
    "FROM\n",
    "    MSTRDB.DWH.LU_ARTC_BRAND AS LAB\n",
    "    INNER JOIN MSTRDB.DWH.LU_ARTC_ARTICULO AS LAA ON LAA.ARTC_BRAND_ID = LAB.ARTC_BRAND_ID\n",
    "    INNER JOIN MSTRDB.DWH.ITEM_MASTER AS IM ON IM.ITEM = LAA.ORIN\n",
    "    INNER JOIN MSTRDB.DWH.SUBCLASS AS SUB ON SUB.SUBCLASE = IM.SUBCLASE\n",
    "    INNER JOIN MSTRDB.DWH.FT_VENTAS AS FV ON FV.ARTC_ARTC_ID = LAA.ARTC_ARTC_ID\n",
    "    INNER JOIN MSTRDB.DWH.FT_FDLN_MOVIMIENTOS AS FFM ON FFM.TICKET = FV.TICKET\n",
    "    INNER JOIN SANDBOX_PLUS.DWH.CONTACTABLES_2 AS CONT ON CONT.SOCI_SOCI_ID = FFM.SOCI_SOCI_ID\n",
    "    INNER JOIN MSTRDB.DWH.LU_CLIE_CLIENTE AS LCC ON LCC.SOCI_SOCI_ID = FFM.SOCI_SOCI_ID\n",
    "WHERE\n",
    "    FFM.TIEM_DIA_ID >= DATEADD(MONTH, -1, CURRENT_DATE)\n",
    "    AND CONT.CELULAR IS NOT NULL\n",
    "    AND CONT.WP = 1\n",
    "    AND CONT.SOCI_SOCI_ID NOT IN (SELECT SOCI_SOCI_ID FROM SANDBOX_PLUS.DWH.SOCIOS_NO_COMUNICAR)\n",
    "    AND ( LCC.CLIE_CLIE_NOMBRE1 NOT IN('No Disponible', 'No disponible', 'N A') OR (LCC.CLIE_CLIE_NOMBRE1 = 'No Disponible' AND LCC.CLIE_CLIE_FNAC = '1919-01-01') )\n",
    "    AND SUB.SUBCLASE = '{subclase_snow}'\n",
    "    AND FFM.SOCI_SOCI_ID NOT IN (SELECT * FROM COMPRARON)\n",
    "'''\n",
    "\n",
    "segm_2 = pd.DataFrame()\n",
    "for i in range(len(articulos_destacados_2)):\n",
    "    cursor.execute(query.format(\n",
    "       orin_snow = articulos_destacados_2.iloc[i]['ORIN'],\n",
    "       subclase_snow = articulos_destacados_2.iloc[i]['SUBCLASE']))\n",
    "    df_aux = cursor.fetch_pandas_all()\n",
    "    df_aux['MARCA'] = articulos_destacados_2.iloc[i]['MARCA']\n",
    "    df_aux['ORIN'] = articulos_destacados_2.iloc[i]['ORIN']\n",
    "    df_aux['ARTICULO'] = articulos_destacados_2.iloc[i]['ARTICULO']\n",
    "    segm_2 = pd.concat([segm_2, df_aux])\n",
    "\n",
    "segm_2 = segm_2[['SUB_NAME', 'SUBCLASE', 'MARCA', 'ORIN', 'ARTICULO',\n",
    "       'SOCI_SOCI_ID', 'CLIE_TIPO_DOC', 'CLIE_CLIE_NDOC', 'ULTIMOS_4',\n",
    "       'CELULAR']]\n",
    "print(segm_2.shape[0])\n",
    "segm_2.head(2)"
   ],
   "metadata": {
    "collapsed": false
   }
  },
  {
   "cell_type": "code",
   "execution_count": 55,
   "outputs": [
    {
     "data": {
      "text/plain": "Empty DataFrame\nColumns: [SUB_NAME, SUBCLASE, MARCA, ORIN, ARTICULO, SOCI_SOCI_ID, CLIE_TIPO_DOC, CLIE_CLIE_NDOC, ULTIMOS_4, CELULAR]\nIndex: []",
      "text/html": "<div>\n<style scoped>\n    .dataframe tbody tr th:only-of-type {\n        vertical-align: middle;\n    }\n\n    .dataframe tbody tr th {\n        vertical-align: top;\n    }\n\n    .dataframe thead th {\n        text-align: right;\n    }\n</style>\n<table border=\"1\" class=\"dataframe\">\n  <thead>\n    <tr style=\"text-align: right;\">\n      <th></th>\n      <th>SUB_NAME</th>\n      <th>SUBCLASE</th>\n      <th>MARCA</th>\n      <th>ORIN</th>\n      <th>ARTICULO</th>\n      <th>SOCI_SOCI_ID</th>\n      <th>CLIE_TIPO_DOC</th>\n      <th>CLIE_CLIE_NDOC</th>\n      <th>ULTIMOS_4</th>\n      <th>CELULAR</th>\n    </tr>\n  </thead>\n  <tbody>\n  </tbody>\n</table>\n</div>"
     },
     "execution_count": 55,
     "metadata": {},
     "output_type": "execute_result"
    }
   ],
   "source": [
    "segm_2[segm_2.duplicated(subset = ['SOCI_SOCI_ID', 'ORIN'], keep = False)]"
   ],
   "metadata": {
    "collapsed": false
   }
  },
  {
   "cell_type": "markdown",
   "source": [
    "#### 2.2. Clientes que compran la subclase pero no el articulo (Score 4 o 5 en la subclase)"
   ],
   "metadata": {
    "collapsed": false
   }
  },
  {
   "cell_type": "code",
   "execution_count": 41,
   "outputs": [
    {
     "name": "stdout",
     "output_type": "stream",
     "text": [
      "520682\n"
     ]
    },
    {
     "data": {
      "text/plain": "  SUB_NAME    SUBCLASE       MARCA        ORIN  \\\n0    PACKS  1900010003  PORTEZUELO  1000054863   \n1    PACKS  1900010003  PORTEZUELO  1000054863   \n\n                                    ARTICULO  SOCI_SOCI_ID CLIE_TIPO_DOC  \\\n0  ALFAJOR CHOCOLATE PORTEZUELO PACK 6.00 U.        188096             C   \n1  ALFAJOR CHOCOLATE PORTEZUELO PACK 6.00 U.       1136114             C   \n\n  CLIE_CLIE_NDOC ULTIMOS_4   CELULAR  \n0       30985357   CI:5357  95522372  \n1       59574238   CI:4238  95354581  ",
      "text/html": "<div>\n<style scoped>\n    .dataframe tbody tr th:only-of-type {\n        vertical-align: middle;\n    }\n\n    .dataframe tbody tr th {\n        vertical-align: top;\n    }\n\n    .dataframe thead th {\n        text-align: right;\n    }\n</style>\n<table border=\"1\" class=\"dataframe\">\n  <thead>\n    <tr style=\"text-align: right;\">\n      <th></th>\n      <th>SUB_NAME</th>\n      <th>SUBCLASE</th>\n      <th>MARCA</th>\n      <th>ORIN</th>\n      <th>ARTICULO</th>\n      <th>SOCI_SOCI_ID</th>\n      <th>CLIE_TIPO_DOC</th>\n      <th>CLIE_CLIE_NDOC</th>\n      <th>ULTIMOS_4</th>\n      <th>CELULAR</th>\n    </tr>\n  </thead>\n  <tbody>\n    <tr>\n      <th>0</th>\n      <td>PACKS</td>\n      <td>1900010003</td>\n      <td>PORTEZUELO</td>\n      <td>1000054863</td>\n      <td>ALFAJOR CHOCOLATE PORTEZUELO PACK 6.00 U.</td>\n      <td>188096</td>\n      <td>C</td>\n      <td>30985357</td>\n      <td>CI:5357</td>\n      <td>95522372</td>\n    </tr>\n    <tr>\n      <th>1</th>\n      <td>PACKS</td>\n      <td>1900010003</td>\n      <td>PORTEZUELO</td>\n      <td>1000054863</td>\n      <td>ALFAJOR CHOCOLATE PORTEZUELO PACK 6.00 U.</td>\n      <td>1136114</td>\n      <td>C</td>\n      <td>59574238</td>\n      <td>CI:4238</td>\n      <td>95354581</td>\n    </tr>\n  </tbody>\n</table>\n</div>"
     },
     "execution_count": 41,
     "metadata": {},
     "output_type": "execute_result"
    }
   ],
   "source": [
    "query = '''\n",
    "WITH COMPRARON AS\n",
    "    (\n",
    "    SELECT\n",
    "        DISTINCT\n",
    "        FFM.SOCI_SOCI_ID\n",
    "    FROM\n",
    "        MSTRDB.DWH.LU_ARTC_ARTICULO AS LAA\n",
    "        INNER JOIN MSTRDB.DWH.FT_VENTAS AS FV ON FV.ARTC_ARTC_ID = LAA.ARTC_ARTC_ID\n",
    "        INNER JOIN MSTRDB.DWH.FT_FDLN_MOVIMIENTOS AS FFM ON FFM.TICKET = FV.TICKET\n",
    "    WHERE\n",
    "        FFM.TIEM_DIA_ID >= DATEADD(MONTH, -1, CURRENT_DATE)\n",
    "        AND LAA.ORIN = '{orin_snow}'\n",
    "    ),\n",
    "\n",
    "BZM AS\n",
    "    (\n",
    "    SELECT\n",
    "        DISTINCT SOCI_SOCI_ID\n",
    "    FROM\n",
    "        BIZMETRIKS.DWH.LU_SCORING_SUBCLASE\n",
    "    WHERE\n",
    "        SCORE > 3\n",
    "        AND SUBCLASE = '{subclase_snow}'\n",
    "    )\n",
    "\n",
    "SELECT\n",
    "    DISTINCT\n",
    "    SUB.SUB_NAME,\n",
    "    SUB.SUBCLASE,\n",
    "    CONT.SOCI_SOCI_ID,\n",
    "    CONT.CLIE_TIPO_DOC,\n",
    "    CONT.CLIE_CLIE_NDOC,\n",
    "    CASE\n",
    "        WHEN CONT.CLIE_TIPO_DOC LIKE 'C' THEN 'CI:' || RIGHT(CONT.CLIE_CLIE_NDOC, 4)\n",
    "        ELSE 'Doc.' || RIGHT(CONT.CLIE_CLIE_NDOC, 4)\n",
    "        END AS ULTIMOS_4,\n",
    "    CONT.CELULAR\n",
    "FROM\n",
    "    MSTRDB.DWH.LU_ARTC_BRAND AS LAB\n",
    "    INNER JOIN MSTRDB.DWH.LU_ARTC_ARTICULO AS LAA ON LAA.ARTC_BRAND_ID = LAB.ARTC_BRAND_ID\n",
    "    INNER JOIN MSTRDB.DWH.ITEM_MASTER AS IM ON IM.ITEM = LAA.ORIN\n",
    "    INNER JOIN MSTRDB.DWH.SUBCLASS AS SUB ON SUB.SUBCLASE = IM.SUBCLASE\n",
    "    INNER JOIN MSTRDB.DWH.FT_VENTAS AS FV ON FV.ARTC_ARTC_ID = LAA.ARTC_ARTC_ID\n",
    "    INNER JOIN MSTRDB.DWH.FT_FDLN_MOVIMIENTOS AS FFM ON FFM.TICKET = FV.TICKET\n",
    "    INNER JOIN SANDBOX_PLUS.DWH.CONTACTABLES_2 AS CONT ON CONT.SOCI_SOCI_ID = FFM.SOCI_SOCI_ID\n",
    "    INNER JOIN MSTRDB.DWH.LU_CLIE_CLIENTE AS LCC ON LCC.SOCI_SOCI_ID = FFM.SOCI_SOCI_ID\n",
    "WHERE\n",
    "    FFM.TIEM_DIA_ID >= DATEADD(MONTH, -1, CURRENT_DATE)\n",
    "    AND CONT.CELULAR IS NOT NULL\n",
    "    AND CONT.WP = 1\n",
    "    AND CONT.SOCI_SOCI_ID NOT IN (SELECT SOCI_SOCI_ID FROM SANDBOX_PLUS.DWH.SOCIOS_NO_COMUNICAR)\n",
    "    AND ( LCC.CLIE_CLIE_NOMBRE1 NOT IN('No Disponible', 'No disponible', 'N A') OR (LCC.CLIE_CLIE_NOMBRE1 = 'No Disponible' AND LCC.CLIE_CLIE_FNAC = '1919-01-01') )\n",
    "    AND SUB.SUBCLASE = '{subclase_snow}'\n",
    "    AND FFM.SOCI_SOCI_ID NOT IN (SELECT * FROM COMPRARON)\n",
    "    AND FFM.SOCI_SOCI_ID IN (SELECT * FROM BZM)\n",
    "'''\n",
    "\n",
    "segm_2_2 = pd.DataFrame()\n",
    "for i in range(len(articulos_destacados_2)):\n",
    "    cursor.execute(query.format(\n",
    "       orin_snow = articulos_destacados_2.iloc[i]['ORIN'],\n",
    "       subclase_snow = articulos_destacados_2.iloc[i]['SUBCLASE']))\n",
    "    df_aux = cursor.fetch_pandas_all()\n",
    "    df_aux['MARCA'] = articulos_destacados_2.iloc[i]['MARCA']\n",
    "    df_aux['ORIN'] = articulos_destacados_2.iloc[i]['ORIN']\n",
    "    df_aux['ARTICULO'] = articulos_destacados_2.iloc[i]['ARTICULO']\n",
    "    segm_2_2 = pd.concat([segm_2_2, df_aux])\n",
    "\n",
    "segm_2_2 = segm_2_2[['SUB_NAME', 'SUBCLASE', 'MARCA', 'ORIN', 'ARTICULO',\n",
    "       'SOCI_SOCI_ID', 'CLIE_TIPO_DOC', 'CLIE_CLIE_NDOC', 'ULTIMOS_4',\n",
    "       'CELULAR']]\n",
    "print(segm_2_2.shape[0])\n",
    "segm_2_2.head(2)"
   ],
   "metadata": {
    "collapsed": false
   }
  },
  {
   "cell_type": "code",
   "execution_count": 56,
   "outputs": [
    {
     "data": {
      "text/plain": "Empty DataFrame\nColumns: [SUB_NAME, SUBCLASE, MARCA, ORIN, ARTICULO, SOCI_SOCI_ID, CLIE_TIPO_DOC, CLIE_CLIE_NDOC, ULTIMOS_4, CELULAR]\nIndex: []",
      "text/html": "<div>\n<style scoped>\n    .dataframe tbody tr th:only-of-type {\n        vertical-align: middle;\n    }\n\n    .dataframe tbody tr th {\n        vertical-align: top;\n    }\n\n    .dataframe thead th {\n        text-align: right;\n    }\n</style>\n<table border=\"1\" class=\"dataframe\">\n  <thead>\n    <tr style=\"text-align: right;\">\n      <th></th>\n      <th>SUB_NAME</th>\n      <th>SUBCLASE</th>\n      <th>MARCA</th>\n      <th>ORIN</th>\n      <th>ARTICULO</th>\n      <th>SOCI_SOCI_ID</th>\n      <th>CLIE_TIPO_DOC</th>\n      <th>CLIE_CLIE_NDOC</th>\n      <th>ULTIMOS_4</th>\n      <th>CELULAR</th>\n    </tr>\n  </thead>\n  <tbody>\n  </tbody>\n</table>\n</div>"
     },
     "execution_count": 56,
     "metadata": {},
     "output_type": "execute_result"
    }
   ],
   "source": [
    "segm_2_2[segm_2_2.duplicated(subset = ['SOCI_SOCI_ID', 'ORIN'], keep = False)]"
   ],
   "metadata": {
    "collapsed": false
   }
  },
  {
   "cell_type": "markdown",
   "source": [
    "#### 3. Clientes que no compran la subclase y tienen score 5"
   ],
   "metadata": {
    "collapsed": false
   }
  },
  {
   "cell_type": "code",
   "execution_count": 90,
   "outputs": [
    {
     "name": "stdout",
     "output_type": "stream",
     "text": [
      "1713437\n"
     ]
    },
    {
     "data": {
      "text/plain": "  SUB_NAME    SUBCLASE       MARCA  SOCI_SOCI_ID CLIE_TIPO_DOC CLIE_CLIE_NDOC  \\\n0    PACKS  1900010003  PORTEZUELO        172006             C       39697408   \n1    PACKS  1900010003  PORTEZUELO       1260993             C       25433555   \n\n  ULTIMOS_4   CELULAR  \n0   CI:7408  99079404  \n1   CI:3555  95544005  ",
      "text/html": "<div>\n<style scoped>\n    .dataframe tbody tr th:only-of-type {\n        vertical-align: middle;\n    }\n\n    .dataframe tbody tr th {\n        vertical-align: top;\n    }\n\n    .dataframe thead th {\n        text-align: right;\n    }\n</style>\n<table border=\"1\" class=\"dataframe\">\n  <thead>\n    <tr style=\"text-align: right;\">\n      <th></th>\n      <th>SUB_NAME</th>\n      <th>SUBCLASE</th>\n      <th>MARCA</th>\n      <th>SOCI_SOCI_ID</th>\n      <th>CLIE_TIPO_DOC</th>\n      <th>CLIE_CLIE_NDOC</th>\n      <th>ULTIMOS_4</th>\n      <th>CELULAR</th>\n    </tr>\n  </thead>\n  <tbody>\n    <tr>\n      <th>0</th>\n      <td>PACKS</td>\n      <td>1900010003</td>\n      <td>PORTEZUELO</td>\n      <td>172006</td>\n      <td>C</td>\n      <td>39697408</td>\n      <td>CI:7408</td>\n      <td>99079404</td>\n    </tr>\n    <tr>\n      <th>1</th>\n      <td>PACKS</td>\n      <td>1900010003</td>\n      <td>PORTEZUELO</td>\n      <td>1260993</td>\n      <td>C</td>\n      <td>25433555</td>\n      <td>CI:3555</td>\n      <td>95544005</td>\n    </tr>\n  </tbody>\n</table>\n</div>"
     },
     "execution_count": 90,
     "metadata": {},
     "output_type": "execute_result"
    }
   ],
   "source": [
    "query = '''\n",
    "WITH COMPRARON AS\n",
    "    (\n",
    "    SELECT\n",
    "        DISTINCT\n",
    "        FFM.SOCI_SOCI_ID\n",
    "    FROM\n",
    "        MSTRDB.DWH.LU_ARTC_ARTICULO AS LAA\n",
    "        INNER JOIN MSTRDB.DWH.FT_VENTAS AS FV ON FV.ARTC_ARTC_ID = LAA.ARTC_ARTC_ID\n",
    "        INNER JOIN MSTRDB.DWH.FT_FDLN_MOVIMIENTOS AS FFM ON FFM.TICKET = FV.TICKET\n",
    "        INNER JOIN MSTRDB.DWH.ITEM_MASTER AS IM ON IM.ITEM = LAA.ORIN\n",
    "    WHERE\n",
    "        FFM.TIEM_DIA_ID >= DATEADD(MONTH, -1, CURRENT_DATE)\n",
    "        AND IM.SUBCLASE = '{subclase_snow}'\n",
    "    ),\n",
    "\n",
    "BZM AS\n",
    "    (\n",
    "    SELECT\n",
    "        DISTINCT SOCI_SOCI_ID\n",
    "    FROM\n",
    "        BIZMETRIKS.DWH.LU_SCORING_SUBCLASE\n",
    "    WHERE\n",
    "        SCORE > 4\n",
    "        AND SUBCLASE = '{subclase_snow}'\n",
    "    )\n",
    "\n",
    "SELECT\n",
    "    CONT.SOCI_SOCI_ID,\n",
    "    CONT.CLIE_TIPO_DOC,\n",
    "    CONT.CLIE_CLIE_NDOC,\n",
    "    CASE\n",
    "        WHEN CONT.CLIE_TIPO_DOC LIKE 'C' THEN 'CI:' || RIGHT(CONT.CLIE_CLIE_NDOC, 4)\n",
    "        ELSE 'Doc.' || RIGHT(CONT.CLIE_CLIE_NDOC, 4)\n",
    "        END AS ULTIMOS_4,\n",
    "    CONT.CELULAR\n",
    "FROM\n",
    "    SANDBOX_PLUS.DWH.CONTACTABLES_2 AS CONT\n",
    "    INNER JOIN MSTRDB.DWH.LU_CLIE_CLIENTE AS LCC ON LCC.SOCI_SOCI_ID = CONT.SOCI_SOCI_ID\n",
    "WHERE\n",
    "    CONT.CELULAR IS NOT NULL\n",
    "    AND CONT.WP = 1\n",
    "    AND CONT.SOCI_SOCI_ID NOT IN (SELECT SOCI_SOCI_ID FROM SANDBOX_PLUS.DWH.SOCIOS_NO_COMUNICAR)\n",
    "    AND ( LCC.CLIE_CLIE_NOMBRE1 NOT IN('No Disponible', 'No disponible', 'N A') OR (LCC.CLIE_CLIE_NOMBRE1 = 'No Disponible' AND LCC.CLIE_CLIE_FNAC = '1919-01-01') )\n",
    "    AND CONT.SOCI_SOCI_ID NOT IN (SELECT * FROM COMPRARON)\n",
    "    AND CONT.SOCI_SOCI_ID IN (SELECT * FROM BZM)\n",
    "'''\n",
    "\n",
    "segm_3 = pd.DataFrame()\n",
    "marca_subclase_unique = articulos_destacados_2[['SUBCLASE', 'SUB_NAME']].drop_duplicates()\n",
    "for i in range(len(marca_subclase_unique)):\n",
    "    cursor.execute(query.format(\n",
    "       subclase_snow = marca_subclase_unique.iloc[i]['SUBCLASE']))\n",
    "    df_aux = cursor.fetch_pandas_all()\n",
    "    df_aux['SUB_NAME'] = marca_subclase_unique.iloc[i]['SUB_NAME']\n",
    "    df_aux['SUBCLASE'] = marca_subclase_unique.iloc[i]['SUBCLASE']\n",
    "    segm_3 = pd.concat([segm_3, df_aux])\n",
    "\n",
    "segm_3 = segm_3.merge(articulos_destacados_2[['SUBCLASE', 'MARCA']].drop_duplicates(), on = 'SUBCLASE', how = 'inner')\n",
    "\n",
    "segm_3 = segm_3[['SUB_NAME', 'SUBCLASE', 'MARCA', 'SOCI_SOCI_ID', 'CLIE_TIPO_DOC', 'CLIE_CLIE_NDOC', 'ULTIMOS_4', 'CELULAR']]\n",
    "print(segm_3.shape[0])\n",
    "segm_3.head(2)"
   ],
   "metadata": {
    "collapsed": false
   }
  },
  {
   "cell_type": "code",
   "execution_count": 91,
   "outputs": [
    {
     "data": {
      "text/plain": "           SUB_NAME     MARCA  SUBCLASE\n0       CHOCOLATADA  PARMALAT     98849\n1  LECHE ESPECIALES  PARMALAT     98849",
      "text/html": "<div>\n<style scoped>\n    .dataframe tbody tr th:only-of-type {\n        vertical-align: middle;\n    }\n\n    .dataframe tbody tr th {\n        vertical-align: top;\n    }\n\n    .dataframe thead th {\n        text-align: right;\n    }\n</style>\n<table border=\"1\" class=\"dataframe\">\n  <thead>\n    <tr style=\"text-align: right;\">\n      <th></th>\n      <th>SUB_NAME</th>\n      <th>MARCA</th>\n      <th>SUBCLASE</th>\n    </tr>\n  </thead>\n  <tbody>\n    <tr>\n      <th>0</th>\n      <td>CHOCOLATADA</td>\n      <td>PARMALAT</td>\n      <td>98849</td>\n    </tr>\n    <tr>\n      <th>1</th>\n      <td>LECHE ESPECIALES</td>\n      <td>PARMALAT</td>\n      <td>98849</td>\n    </tr>\n  </tbody>\n</table>\n</div>"
     },
     "execution_count": 91,
     "metadata": {},
     "output_type": "execute_result"
    }
   ],
   "source": [
    "segm_3[segm_3.duplicated(subset = ['SOCI_SOCI_ID', 'SUBCLASE'], keep = False)]\n",
    "segm_3[segm_3.duplicated(subset = ['SOCI_SOCI_ID', 'MARCA'], keep = False)].groupby(['SUB_NAME', 'MARCA'])['SUBCLASE'].count().reset_index()"
   ],
   "metadata": {
    "collapsed": false
   }
  },
  {
   "cell_type": "markdown",
   "source": [
    "#### 4. Clientes que compran la subclase pero no la marca"
   ],
   "metadata": {
    "collapsed": false
   }
  },
  {
   "cell_type": "code",
   "execution_count": 51,
   "outputs": [
    {
     "name": "stdout",
     "output_type": "stream",
     "text": [
      "234541\n"
     ]
    },
    {
     "data": {
      "text/plain": "  SUB_NAME    SUBCLASE       MARCA  SOCI_SOCI_ID CLIE_TIPO_DOC CLIE_CLIE_NDOC  \\\n0    PACKS  1900010003  PORTEZUELO        947891             C       62892540   \n1    PACKS  1900010003  PORTEZUELO        782750             C       20225084   \n\n  ULTIMOS_4   CELULAR  \n0   CI:2540  93627653  \n1   CI:5084  95885995  ",
      "text/html": "<div>\n<style scoped>\n    .dataframe tbody tr th:only-of-type {\n        vertical-align: middle;\n    }\n\n    .dataframe tbody tr th {\n        vertical-align: top;\n    }\n\n    .dataframe thead th {\n        text-align: right;\n    }\n</style>\n<table border=\"1\" class=\"dataframe\">\n  <thead>\n    <tr style=\"text-align: right;\">\n      <th></th>\n      <th>SUB_NAME</th>\n      <th>SUBCLASE</th>\n      <th>MARCA</th>\n      <th>SOCI_SOCI_ID</th>\n      <th>CLIE_TIPO_DOC</th>\n      <th>CLIE_CLIE_NDOC</th>\n      <th>ULTIMOS_4</th>\n      <th>CELULAR</th>\n    </tr>\n  </thead>\n  <tbody>\n    <tr>\n      <th>0</th>\n      <td>PACKS</td>\n      <td>1900010003</td>\n      <td>PORTEZUELO</td>\n      <td>947891</td>\n      <td>C</td>\n      <td>62892540</td>\n      <td>CI:2540</td>\n      <td>93627653</td>\n    </tr>\n    <tr>\n      <th>1</th>\n      <td>PACKS</td>\n      <td>1900010003</td>\n      <td>PORTEZUELO</td>\n      <td>782750</td>\n      <td>C</td>\n      <td>20225084</td>\n      <td>CI:5084</td>\n      <td>95885995</td>\n    </tr>\n  </tbody>\n</table>\n</div>"
     },
     "execution_count": 51,
     "metadata": {},
     "output_type": "execute_result"
    }
   ],
   "source": [
    "query = '''\n",
    "WITH COMPRARON AS\n",
    "    (\n",
    "    SELECT\n",
    "        DISTINCT\n",
    "        FFM.SOCI_SOCI_ID\n",
    "    FROM\n",
    "        MSTRDB.DWH.LU_ARTC_ARTICULO AS LAA\n",
    "        INNER JOIN MSTRDB.DWH.LU_ARTC_BRAND AS LAB ON LAA.ARTC_BRAND_ID = LAB.ARTC_BRAND_ID\n",
    "        INNER JOIN MSTRDB.DWH.FT_VENTAS AS FV ON FV.ARTC_ARTC_ID = LAA.ARTC_ARTC_ID\n",
    "        INNER JOIN MSTRDB.DWH.FT_FDLN_MOVIMIENTOS AS FFM ON FFM.TICKET = FV.TICKET\n",
    "    WHERE\n",
    "        FFM.TIEM_DIA_ID >= DATEADD(MONTH, -1, CURRENT_DATE)\n",
    "        AND LAB.ARTC_BRAND_DESC = '{marca_snow}'\n",
    "    )\n",
    "\n",
    "SELECT\n",
    "    DISTINCT\n",
    "    SUB.SUB_NAME,\n",
    "    SUB.SUBCLASE,\n",
    "    CONT.SOCI_SOCI_ID,\n",
    "    CONT.CLIE_TIPO_DOC,\n",
    "    CONT.CLIE_CLIE_NDOC,\n",
    "    CASE\n",
    "        WHEN CONT.CLIE_TIPO_DOC LIKE 'C' THEN 'CI:' || RIGHT(CONT.CLIE_CLIE_NDOC, 4)\n",
    "        ELSE 'Doc.' || RIGHT(CONT.CLIE_CLIE_NDOC, 4)\n",
    "        END AS ULTIMOS_4,\n",
    "    CONT.CELULAR\n",
    "FROM\n",
    "    MSTRDB.DWH.LU_ARTC_BRAND AS LAB\n",
    "    INNER JOIN MSTRDB.DWH.LU_ARTC_ARTICULO AS LAA ON LAA.ARTC_BRAND_ID = LAB.ARTC_BRAND_ID\n",
    "    INNER JOIN MSTRDB.DWH.ITEM_MASTER AS IM ON IM.ITEM = LAA.ORIN\n",
    "    INNER JOIN MSTRDB.DWH.SUBCLASS AS SUB ON SUB.SUBCLASE = IM.SUBCLASE\n",
    "    INNER JOIN MSTRDB.DWH.FT_VENTAS AS FV ON FV.ARTC_ARTC_ID = LAA.ARTC_ARTC_ID\n",
    "    INNER JOIN MSTRDB.DWH.FT_FDLN_MOVIMIENTOS AS FFM ON FFM.TICKET = FV.TICKET\n",
    "    INNER JOIN SANDBOX_PLUS.DWH.CONTACTABLES_2 AS CONT ON CONT.SOCI_SOCI_ID = FFM.SOCI_SOCI_ID\n",
    "    INNER JOIN MSTRDB.DWH.LU_CLIE_CLIENTE AS LCC ON LCC.SOCI_SOCI_ID = FFM.SOCI_SOCI_ID\n",
    "WHERE\n",
    "    FFM.TIEM_DIA_ID >= DATEADD(MONTH, -1, CURRENT_DATE)\n",
    "    AND CONT.CELULAR IS NOT NULL\n",
    "    AND CONT.WP = 1\n",
    "    AND CONT.SOCI_SOCI_ID NOT IN (SELECT SOCI_SOCI_ID FROM SANDBOX_PLUS.DWH.SOCIOS_NO_COMUNICAR)\n",
    "    AND ( LCC.CLIE_CLIE_NOMBRE1 NOT IN('No Disponible', 'No disponible', 'N A') OR (LCC.CLIE_CLIE_NOMBRE1 = 'No Disponible' AND LCC.CLIE_CLIE_FNAC = '1919-01-01') )\n",
    "    AND SUB.SUBCLASE = {subclase_snow}\n",
    "    AND FFM.SOCI_SOCI_ID NOT IN (SELECT * FROM COMPRARON)\n",
    "'''\n",
    "\n",
    "segm_4 = pd.DataFrame()\n",
    "marca_subclase_unique = articulos_destacados_2[['MARCA', 'SUBCLASE']].drop_duplicates()\n",
    "for i in range(len(marca_subclase_unique)):\n",
    "    cursor.execute(query.format(\n",
    "       marca_snow = marca_subclase_unique.iloc[i]['MARCA'],\n",
    "       subclase_snow = marca_subclase_unique.iloc[i]['SUBCLASE']))\n",
    "    df_aux = cursor.fetch_pandas_all()\n",
    "    df_aux['MARCA'] = marca_subclase_unique.iloc[i]['MARCA']\n",
    "    segm_4 = pd.concat([segm_4, df_aux])\n",
    "\n",
    "segm_4 = segm_4[['SUB_NAME', 'SUBCLASE', 'MARCA', 'SOCI_SOCI_ID', 'CLIE_TIPO_DOC', 'CLIE_CLIE_NDOC', 'ULTIMOS_4', 'CELULAR']]\n",
    "print(segm_4.shape[0])\n",
    "segm_4.head(2)"
   ],
   "metadata": {
    "collapsed": false
   }
  },
  {
   "cell_type": "code",
   "execution_count": 64,
   "outputs": [
    {
     "data": {
      "text/plain": "           SUB_NAME     MARCA  SUBCLASE\n0       CHOCOLATADA  PARMALAT       888\n1  LECHE ESPECIALES  PARMALAT       888",
      "text/html": "<div>\n<style scoped>\n    .dataframe tbody tr th:only-of-type {\n        vertical-align: middle;\n    }\n\n    .dataframe tbody tr th {\n        vertical-align: top;\n    }\n\n    .dataframe thead th {\n        text-align: right;\n    }\n</style>\n<table border=\"1\" class=\"dataframe\">\n  <thead>\n    <tr style=\"text-align: right;\">\n      <th></th>\n      <th>SUB_NAME</th>\n      <th>MARCA</th>\n      <th>SUBCLASE</th>\n    </tr>\n  </thead>\n  <tbody>\n    <tr>\n      <th>0</th>\n      <td>CHOCOLATADA</td>\n      <td>PARMALAT</td>\n      <td>888</td>\n    </tr>\n    <tr>\n      <th>1</th>\n      <td>LECHE ESPECIALES</td>\n      <td>PARMALAT</td>\n      <td>888</td>\n    </tr>\n  </tbody>\n</table>\n</div>"
     },
     "execution_count": 64,
     "metadata": {},
     "output_type": "execute_result"
    }
   ],
   "source": [
    "segm_4[segm_4.duplicated(subset = ['SOCI_SOCI_ID', 'SUBCLASE'], keep = False)]\n",
    "segm_4[segm_4.duplicated(subset = ['SOCI_SOCI_ID', 'MARCA'], keep = False)].groupby(['SUB_NAME', 'MARCA'])['SUBCLASE'].count().reset_index()"
   ],
   "metadata": {
    "collapsed": false
   }
  },
  {
   "cell_type": "markdown",
   "source": [
    "### Resumen"
   ],
   "metadata": {
    "collapsed": false
   }
  },
  {
   "cell_type": "code",
   "execution_count": 75,
   "outputs": [
    {
     "data": {
      "text/plain": "                                 SUB_NAME    SUBCLASE       MARCA        ORIN  \\\n0                                   PACKS  1900010003  PORTEZUELO  1000054863   \n1                                   PACKS  1900010003  PORTEZUELO  1000054862   \n2   JABONES DETERGENTE LIQUIDOS PARA ROPA  8800030003       NEVEX  1000455579   \n3                   PAPAS FRITAS EN BOLSA  2500050001        LAYS  1000053389   \n4                        HELADOS 2 LITROS  3200010002       CRUFI  1000099233   \n5                        HELADOS 2 LITROS  3200010002       CRUFI  1000099234   \n6                        HELADOS 2 LITROS  3200010002       CRUFI  1000099229   \n7                        HELADOS 2 LITROS  3200010002       CRUFI  1000099231   \n8                 YOGURES BEBIBLES ENTERO  7900010002      BIOTOP  1000103474   \n9                 YOGURES BEBIBLES ENTERO  7900010002      BIOTOP  1000103473   \n10                YOGURES BEBIBLES ENTERO  7900010002      BIOTOP  1000103476   \n11                YOGURES BEBIBLES ENTERO  7900010002      BIOTOP  1000103475   \n12                YOGURES BEBIBLES ENTERO  7900010002      BIOTOP  1000103477   \n13                YOGURES BEBIBLES ENTERO  7900010002      BIOTOP  1000103472   \n14                       PAPAS CONGELADAS  3000020002     MC CAIN  1000454069   \n15    PAPEL HIGIENICO HOJA DOBLE Y TRIPLE  9100030001       ELITE  1000420775   \n16                       LECHE ESPECIALES  7600060004    PARMALAT  1000047733   \n17                            CHOCOLATADA  7600030001    PARMALAT  1000408185   \n18                          PANALES VALUE  9800010003     BABYSEC  1000041825   \n19                          PANALES VALUE  9800010003     BABYSEC  1000041822   \n20                          PANALES VALUE  9800010003     BABYSEC  1000041820   \n21                          PANALES VALUE  9800010003     BABYSEC  1000041807   \n22                          PANALES VALUE  9800010003     BABYSEC  1000041821   \n23                QUESO SANDWICH AL CORTE  4200020006    COLONIAL  1000057303   \n24                    CERVEZAS NACIONALES   100020003   ZILLERTAL  1000353034   \n25                    CERVEZAS NACIONALES   100020003   ZILLERTAL  1000353035   \n26                  JAMON COCIDO AL CORTE  4000030002   OTTONELLO  1000057084   \n\n                                             ARTICULO  \\\n0           ALFAJOR CHOCOLATE PORTEZUELO PACK 6.00 U.   \n1                 ALFAJOR NIEVE PORTEZUELO PACK X 6 U   \n2   NEVEX MATIC LIQUIDO DOY PACK 3L PARA DILUIR MA...   \n3              PAPAS FRITAS LAY'S CLASICAS 400.00 G 1   \n4            HELADO CRUFI 2.00 L SAMBAYON/CHOCOLATE/D   \n5                   HELADO CRUFI 2.00 L CREMA VETEADA   \n6            HELADO CRUFI 2.00 L CREMA/CHOCOLATE/FRUT   \n7            HELADO CRUFI 2.00 L FLAN C/DULCE DE LECH   \n8       YOGUR BEBIBLE BIOTOP SACHET 1.00 L FRUT.LIGHT   \n9          YOGUR BEBIBLE BIOTOP SACHET 1.00 L DURAZNO   \n10        YOGUR BEBIBLE BIOTOP SACHET 1.00 L VAINILLA   \n11       YOGUR BEBIBLE BIOTOP SACHET 1.00 L DUR.LIGHT   \n12      YOGUR BEBIBLE BIOTOP SACHET 1.00 L MULTIFRUTA   \n13        YOGUR BEBIBLE BIOTOP SACHET 1.00 L FRUTILLA   \n14               PAPAS MCCAIN TRADICIONAL 700 G 13213   \n15          PAPEL HIGIENICO ELITE DOBLE HOJA 30M x 12   \n16            LECHE DESLACTOSADA PARMALAT 1 L NATURAL   \n17  LECHE CHOCOLATADA PARMALAT LARGA DURACION SACH...   \n18  PANAL BABYSEC ULTRA HIPER GRANDE 30.00 U. 2020202   \n19  PANAL BABYSEC ULTRA HIPER MEDIANO 34.00 U. 202...   \n20         PANAL BABYSEC UL XG HIPER 24.00 U. 2020202   \n21     PANAL BABYSEC ULTRA HIPER XXG 24.00 U. 2020202   \n22   PANAL BABYSEC ULTRA HIPER CHICO 36.00 U. 2020202   \n23            QUESO DAMBO PARA SANDWICH COLONIAL 1 KG   \n24                  CERVEZA ZILLERTAL IPA LATA 473 ML   \n25                   CERVEZA ZILLERTAL APA LATA 473CC   \n26                    JAMON COCIDO OTTONELLO 1.00 KG.   \n\n    Clientes ya compran el articulo  \\\n0                              3671   \n1                              2209   \n2                               338   \n3                              5818   \n4                               757   \n5                               629   \n6                               897   \n7                               929   \n8                              4837   \n9                              5515   \n10                             3745   \n11                             4136   \n12                             2576   \n13                             8624   \n14                             2641   \n15                              899   \n16                             5025   \n17                            13724   \n18                              100   \n19                               50   \n20                               95   \n21                              217   \n22                              132   \n23                             4164   \n24                              809   \n25                              380   \n26                             7684   \n\n    Clientes ya compran la subclase pero no el articulo  \\\n0                                               17324     \n1                                               18786     \n2                                               29472     \n3                                               59609     \n4                                               11240     \n5                                               11368     \n6                                               11100     \n7                                               11068     \n8                                               60455     \n9                                               59777     \n10                                              61547     \n11                                              61156     \n12                                              62716     \n13                                              56668     \n14                                              17872     \n15                                              23091     \n16                                               9001     \n17                                              33063     \n18                                               2831     \n19                                               2881     \n20                                               2836     \n21                                               2714     \n22                                               2799     \n23                                              20687     \n24                                              20888     \n25                                              21317     \n26                                              36488     \n\n    Clientes ya compran la subclase pero no el articulo, Score 4 y 5  \n0                                               12171                 \n1                                               13256                 \n2                                               21075                 \n3                                               39024                 \n4                                                8071                 \n5                                                8153                 \n6                                                7982                 \n7                                                7917                 \n8                                               43193                 \n9                                               42755                 \n10                                              44188                 \n11                                              43782                 \n12                                              45046                 \n13                                              40425                 \n14                                              13709                 \n15                                              17018                 \n16                                               6910                 \n17                                              22584                 \n18                                               1736                 \n19                                               1775                 \n20                                               1741                 \n21                                               1654                 \n22                                               1724                 \n23                                              16118                 \n24                                              14634                 \n25                                              14928                 \n26                                              29113                 ",
      "text/html": "<div>\n<style scoped>\n    .dataframe tbody tr th:only-of-type {\n        vertical-align: middle;\n    }\n\n    .dataframe tbody tr th {\n        vertical-align: top;\n    }\n\n    .dataframe thead th {\n        text-align: right;\n    }\n</style>\n<table border=\"1\" class=\"dataframe\">\n  <thead>\n    <tr style=\"text-align: right;\">\n      <th></th>\n      <th>SUB_NAME</th>\n      <th>SUBCLASE</th>\n      <th>MARCA</th>\n      <th>ORIN</th>\n      <th>ARTICULO</th>\n      <th>Clientes ya compran el articulo</th>\n      <th>Clientes ya compran la subclase pero no el articulo</th>\n      <th>Clientes ya compran la subclase pero no el articulo, Score 4 y 5</th>\n    </tr>\n  </thead>\n  <tbody>\n    <tr>\n      <th>0</th>\n      <td>PACKS</td>\n      <td>1900010003</td>\n      <td>PORTEZUELO</td>\n      <td>1000054863</td>\n      <td>ALFAJOR CHOCOLATE PORTEZUELO PACK 6.00 U.</td>\n      <td>3671</td>\n      <td>17324</td>\n      <td>12171</td>\n    </tr>\n    <tr>\n      <th>1</th>\n      <td>PACKS</td>\n      <td>1900010003</td>\n      <td>PORTEZUELO</td>\n      <td>1000054862</td>\n      <td>ALFAJOR NIEVE PORTEZUELO PACK X 6 U</td>\n      <td>2209</td>\n      <td>18786</td>\n      <td>13256</td>\n    </tr>\n    <tr>\n      <th>2</th>\n      <td>JABONES DETERGENTE LIQUIDOS PARA ROPA</td>\n      <td>8800030003</td>\n      <td>NEVEX</td>\n      <td>1000455579</td>\n      <td>NEVEX MATIC LIQUIDO DOY PACK 3L PARA DILUIR MA...</td>\n      <td>338</td>\n      <td>29472</td>\n      <td>21075</td>\n    </tr>\n    <tr>\n      <th>3</th>\n      <td>PAPAS FRITAS EN BOLSA</td>\n      <td>2500050001</td>\n      <td>LAYS</td>\n      <td>1000053389</td>\n      <td>PAPAS FRITAS LAY'S CLASICAS 400.00 G 1</td>\n      <td>5818</td>\n      <td>59609</td>\n      <td>39024</td>\n    </tr>\n    <tr>\n      <th>4</th>\n      <td>HELADOS 2 LITROS</td>\n      <td>3200010002</td>\n      <td>CRUFI</td>\n      <td>1000099233</td>\n      <td>HELADO CRUFI 2.00 L SAMBAYON/CHOCOLATE/D</td>\n      <td>757</td>\n      <td>11240</td>\n      <td>8071</td>\n    </tr>\n    <tr>\n      <th>5</th>\n      <td>HELADOS 2 LITROS</td>\n      <td>3200010002</td>\n      <td>CRUFI</td>\n      <td>1000099234</td>\n      <td>HELADO CRUFI 2.00 L CREMA VETEADA</td>\n      <td>629</td>\n      <td>11368</td>\n      <td>8153</td>\n    </tr>\n    <tr>\n      <th>6</th>\n      <td>HELADOS 2 LITROS</td>\n      <td>3200010002</td>\n      <td>CRUFI</td>\n      <td>1000099229</td>\n      <td>HELADO CRUFI 2.00 L CREMA/CHOCOLATE/FRUT</td>\n      <td>897</td>\n      <td>11100</td>\n      <td>7982</td>\n    </tr>\n    <tr>\n      <th>7</th>\n      <td>HELADOS 2 LITROS</td>\n      <td>3200010002</td>\n      <td>CRUFI</td>\n      <td>1000099231</td>\n      <td>HELADO CRUFI 2.00 L FLAN C/DULCE DE LECH</td>\n      <td>929</td>\n      <td>11068</td>\n      <td>7917</td>\n    </tr>\n    <tr>\n      <th>8</th>\n      <td>YOGURES BEBIBLES ENTERO</td>\n      <td>7900010002</td>\n      <td>BIOTOP</td>\n      <td>1000103474</td>\n      <td>YOGUR BEBIBLE BIOTOP SACHET 1.00 L FRUT.LIGHT</td>\n      <td>4837</td>\n      <td>60455</td>\n      <td>43193</td>\n    </tr>\n    <tr>\n      <th>9</th>\n      <td>YOGURES BEBIBLES ENTERO</td>\n      <td>7900010002</td>\n      <td>BIOTOP</td>\n      <td>1000103473</td>\n      <td>YOGUR BEBIBLE BIOTOP SACHET 1.00 L DURAZNO</td>\n      <td>5515</td>\n      <td>59777</td>\n      <td>42755</td>\n    </tr>\n    <tr>\n      <th>10</th>\n      <td>YOGURES BEBIBLES ENTERO</td>\n      <td>7900010002</td>\n      <td>BIOTOP</td>\n      <td>1000103476</td>\n      <td>YOGUR BEBIBLE BIOTOP SACHET 1.00 L VAINILLA</td>\n      <td>3745</td>\n      <td>61547</td>\n      <td>44188</td>\n    </tr>\n    <tr>\n      <th>11</th>\n      <td>YOGURES BEBIBLES ENTERO</td>\n      <td>7900010002</td>\n      <td>BIOTOP</td>\n      <td>1000103475</td>\n      <td>YOGUR BEBIBLE BIOTOP SACHET 1.00 L DUR.LIGHT</td>\n      <td>4136</td>\n      <td>61156</td>\n      <td>43782</td>\n    </tr>\n    <tr>\n      <th>12</th>\n      <td>YOGURES BEBIBLES ENTERO</td>\n      <td>7900010002</td>\n      <td>BIOTOP</td>\n      <td>1000103477</td>\n      <td>YOGUR BEBIBLE BIOTOP SACHET 1.00 L MULTIFRUTA</td>\n      <td>2576</td>\n      <td>62716</td>\n      <td>45046</td>\n    </tr>\n    <tr>\n      <th>13</th>\n      <td>YOGURES BEBIBLES ENTERO</td>\n      <td>7900010002</td>\n      <td>BIOTOP</td>\n      <td>1000103472</td>\n      <td>YOGUR BEBIBLE BIOTOP SACHET 1.00 L FRUTILLA</td>\n      <td>8624</td>\n      <td>56668</td>\n      <td>40425</td>\n    </tr>\n    <tr>\n      <th>14</th>\n      <td>PAPAS CONGELADAS</td>\n      <td>3000020002</td>\n      <td>MC CAIN</td>\n      <td>1000454069</td>\n      <td>PAPAS MCCAIN TRADICIONAL 700 G 13213</td>\n      <td>2641</td>\n      <td>17872</td>\n      <td>13709</td>\n    </tr>\n    <tr>\n      <th>15</th>\n      <td>PAPEL HIGIENICO HOJA DOBLE Y TRIPLE</td>\n      <td>9100030001</td>\n      <td>ELITE</td>\n      <td>1000420775</td>\n      <td>PAPEL HIGIENICO ELITE DOBLE HOJA 30M x 12</td>\n      <td>899</td>\n      <td>23091</td>\n      <td>17018</td>\n    </tr>\n    <tr>\n      <th>16</th>\n      <td>LECHE ESPECIALES</td>\n      <td>7600060004</td>\n      <td>PARMALAT</td>\n      <td>1000047733</td>\n      <td>LECHE DESLACTOSADA PARMALAT 1 L NATURAL</td>\n      <td>5025</td>\n      <td>9001</td>\n      <td>6910</td>\n    </tr>\n    <tr>\n      <th>17</th>\n      <td>CHOCOLATADA</td>\n      <td>7600030001</td>\n      <td>PARMALAT</td>\n      <td>1000408185</td>\n      <td>LECHE CHOCOLATADA PARMALAT LARGA DURACION SACH...</td>\n      <td>13724</td>\n      <td>33063</td>\n      <td>22584</td>\n    </tr>\n    <tr>\n      <th>18</th>\n      <td>PANALES VALUE</td>\n      <td>9800010003</td>\n      <td>BABYSEC</td>\n      <td>1000041825</td>\n      <td>PANAL BABYSEC ULTRA HIPER GRANDE 30.00 U. 2020202</td>\n      <td>100</td>\n      <td>2831</td>\n      <td>1736</td>\n    </tr>\n    <tr>\n      <th>19</th>\n      <td>PANALES VALUE</td>\n      <td>9800010003</td>\n      <td>BABYSEC</td>\n      <td>1000041822</td>\n      <td>PANAL BABYSEC ULTRA HIPER MEDIANO 34.00 U. 202...</td>\n      <td>50</td>\n      <td>2881</td>\n      <td>1775</td>\n    </tr>\n    <tr>\n      <th>20</th>\n      <td>PANALES VALUE</td>\n      <td>9800010003</td>\n      <td>BABYSEC</td>\n      <td>1000041820</td>\n      <td>PANAL BABYSEC UL XG HIPER 24.00 U. 2020202</td>\n      <td>95</td>\n      <td>2836</td>\n      <td>1741</td>\n    </tr>\n    <tr>\n      <th>21</th>\n      <td>PANALES VALUE</td>\n      <td>9800010003</td>\n      <td>BABYSEC</td>\n      <td>1000041807</td>\n      <td>PANAL BABYSEC ULTRA HIPER XXG 24.00 U. 2020202</td>\n      <td>217</td>\n      <td>2714</td>\n      <td>1654</td>\n    </tr>\n    <tr>\n      <th>22</th>\n      <td>PANALES VALUE</td>\n      <td>9800010003</td>\n      <td>BABYSEC</td>\n      <td>1000041821</td>\n      <td>PANAL BABYSEC ULTRA HIPER CHICO 36.00 U. 2020202</td>\n      <td>132</td>\n      <td>2799</td>\n      <td>1724</td>\n    </tr>\n    <tr>\n      <th>23</th>\n      <td>QUESO SANDWICH AL CORTE</td>\n      <td>4200020006</td>\n      <td>COLONIAL</td>\n      <td>1000057303</td>\n      <td>QUESO DAMBO PARA SANDWICH COLONIAL 1 KG</td>\n      <td>4164</td>\n      <td>20687</td>\n      <td>16118</td>\n    </tr>\n    <tr>\n      <th>24</th>\n      <td>CERVEZAS NACIONALES</td>\n      <td>100020003</td>\n      <td>ZILLERTAL</td>\n      <td>1000353034</td>\n      <td>CERVEZA ZILLERTAL IPA LATA 473 ML</td>\n      <td>809</td>\n      <td>20888</td>\n      <td>14634</td>\n    </tr>\n    <tr>\n      <th>25</th>\n      <td>CERVEZAS NACIONALES</td>\n      <td>100020003</td>\n      <td>ZILLERTAL</td>\n      <td>1000353035</td>\n      <td>CERVEZA ZILLERTAL APA LATA 473CC</td>\n      <td>380</td>\n      <td>21317</td>\n      <td>14928</td>\n    </tr>\n    <tr>\n      <th>26</th>\n      <td>JAMON COCIDO AL CORTE</td>\n      <td>4000030002</td>\n      <td>OTTONELLO</td>\n      <td>1000057084</td>\n      <td>JAMON COCIDO OTTONELLO 1.00 KG.</td>\n      <td>7684</td>\n      <td>36488</td>\n      <td>29113</td>\n    </tr>\n  </tbody>\n</table>\n</div>"
     },
     "execution_count": 75,
     "metadata": {},
     "output_type": "execute_result"
    }
   ],
   "source": [
    "resumen_segmentos_1 = articulos_destacados_2.copy(deep = True)\n",
    "segm_1_resumen = segm_1.groupby('ORIN')['SOCI_SOCI_ID'].nunique().reset_index()\n",
    "resumen_segmentos_1 = resumen_segmentos_1.merge(segm_1_resumen, on = 'ORIN', how = 'inner')\n",
    "resumen_segmentos_1.rename({'SOCI_SOCI_ID':'Clientes ya compran el articulo'}, axis = 1, inplace = True)\n",
    "\n",
    "segm_2_resumen = segm_2.groupby('ORIN')['SOCI_SOCI_ID'].nunique().reset_index()\n",
    "resumen_segmentos_1 = resumen_segmentos_1.merge(segm_2_resumen, on = 'ORIN', how = 'inner')\n",
    "resumen_segmentos_1.rename({'SOCI_SOCI_ID':'Clientes ya compran la subclase pero no el articulo'}, axis = 1, inplace = True)\n",
    "\n",
    "segm_2_2_resumen = segm_2_2.groupby('ORIN')['SOCI_SOCI_ID'].nunique().reset_index()\n",
    "resumen_segmentos_1 = resumen_segmentos_1.merge(segm_2_2_resumen, on = 'ORIN', how = 'inner')\n",
    "resumen_segmentos_1.rename({'SOCI_SOCI_ID':'Clientes ya compran la subclase pero no el articulo, Score 4 y 5'}, axis = 1, inplace = True)\n",
    "\n",
    "resumen_segmentos_1"
   ],
   "metadata": {
    "collapsed": false
   }
  },
  {
   "cell_type": "code",
   "execution_count": 96,
   "outputs": [
    {
     "data": {
      "text/plain": "                                 SUB_NAME    SUBCLASE       MARCA  \\\n0                                   PACKS  1900010003  PORTEZUELO   \n1   JABONES DETERGENTE LIQUIDOS PARA ROPA  8800030003       NEVEX   \n2                   PAPAS FRITAS EN BOLSA  2500050001        LAYS   \n3                        HELADOS 2 LITROS  3200010002       CRUFI   \n4                 YOGURES BEBIBLES ENTERO  7900010002      BIOTOP   \n5                        PAPAS CONGELADAS  3000020002     MC CAIN   \n6     PAPEL HIGIENICO HOJA DOBLE Y TRIPLE  9100030001       ELITE   \n7                        LECHE ESPECIALES  7600060004    PARMALAT   \n8                             CHOCOLATADA  7600030001    PARMALAT   \n9                           PANALES VALUE  9800010003     BABYSEC   \n10                QUESO SANDWICH AL CORTE  4200020006    COLONIAL   \n11                    CERVEZAS NACIONALES   100020003   ZILLERTAL   \n12                  JAMON COCIDO AL CORTE  4000030002   OTTONELLO   \n\n    Clientes que no compran la subclase y tienen Score 5  \n0                                              136749     \n1                                              131557     \n2                                              119398     \n3                                              140985     \n4                                              115626     \n5                                              135604     \n6                                              134395     \n7                                              138582     \n8                                              125625     \n9                                              144583     \n10                                             133022     \n11                                             136430     \n12                                             120881     ",
      "text/html": "<div>\n<style scoped>\n    .dataframe tbody tr th:only-of-type {\n        vertical-align: middle;\n    }\n\n    .dataframe tbody tr th {\n        vertical-align: top;\n    }\n\n    .dataframe thead th {\n        text-align: right;\n    }\n</style>\n<table border=\"1\" class=\"dataframe\">\n  <thead>\n    <tr style=\"text-align: right;\">\n      <th></th>\n      <th>SUB_NAME</th>\n      <th>SUBCLASE</th>\n      <th>MARCA</th>\n      <th>Clientes que no compran la subclase y tienen Score 5</th>\n    </tr>\n  </thead>\n  <tbody>\n    <tr>\n      <th>0</th>\n      <td>PACKS</td>\n      <td>1900010003</td>\n      <td>PORTEZUELO</td>\n      <td>136749</td>\n    </tr>\n    <tr>\n      <th>1</th>\n      <td>JABONES DETERGENTE LIQUIDOS PARA ROPA</td>\n      <td>8800030003</td>\n      <td>NEVEX</td>\n      <td>131557</td>\n    </tr>\n    <tr>\n      <th>2</th>\n      <td>PAPAS FRITAS EN BOLSA</td>\n      <td>2500050001</td>\n      <td>LAYS</td>\n      <td>119398</td>\n    </tr>\n    <tr>\n      <th>3</th>\n      <td>HELADOS 2 LITROS</td>\n      <td>3200010002</td>\n      <td>CRUFI</td>\n      <td>140985</td>\n    </tr>\n    <tr>\n      <th>4</th>\n      <td>YOGURES BEBIBLES ENTERO</td>\n      <td>7900010002</td>\n      <td>BIOTOP</td>\n      <td>115626</td>\n    </tr>\n    <tr>\n      <th>5</th>\n      <td>PAPAS CONGELADAS</td>\n      <td>3000020002</td>\n      <td>MC CAIN</td>\n      <td>135604</td>\n    </tr>\n    <tr>\n      <th>6</th>\n      <td>PAPEL HIGIENICO HOJA DOBLE Y TRIPLE</td>\n      <td>9100030001</td>\n      <td>ELITE</td>\n      <td>134395</td>\n    </tr>\n    <tr>\n      <th>7</th>\n      <td>LECHE ESPECIALES</td>\n      <td>7600060004</td>\n      <td>PARMALAT</td>\n      <td>138582</td>\n    </tr>\n    <tr>\n      <th>8</th>\n      <td>CHOCOLATADA</td>\n      <td>7600030001</td>\n      <td>PARMALAT</td>\n      <td>125625</td>\n    </tr>\n    <tr>\n      <th>9</th>\n      <td>PANALES VALUE</td>\n      <td>9800010003</td>\n      <td>BABYSEC</td>\n      <td>144583</td>\n    </tr>\n    <tr>\n      <th>10</th>\n      <td>QUESO SANDWICH AL CORTE</td>\n      <td>4200020006</td>\n      <td>COLONIAL</td>\n      <td>133022</td>\n    </tr>\n    <tr>\n      <th>11</th>\n      <td>CERVEZAS NACIONALES</td>\n      <td>100020003</td>\n      <td>ZILLERTAL</td>\n      <td>136430</td>\n    </tr>\n    <tr>\n      <th>12</th>\n      <td>JAMON COCIDO AL CORTE</td>\n      <td>4000030002</td>\n      <td>OTTONELLO</td>\n      <td>120881</td>\n    </tr>\n  </tbody>\n</table>\n</div>"
     },
     "execution_count": 96,
     "metadata": {},
     "output_type": "execute_result"
    }
   ],
   "source": [
    "resumen_segmentos_2 = articulos_destacados_2.copy(deep = True)\n",
    "resumen_segmentos_2.drop(['ORIN', 'ARTICULO'], axis = 1, inplace = True)\n",
    "resumen_segmentos_2.drop_duplicates(inplace = True)\n",
    "\n",
    "segm_3_resumen = segm_3.groupby('SUBCLASE')['SOCI_SOCI_ID'].nunique().reset_index()\n",
    "resumen_segmentos_2 = resumen_segmentos_2.merge(segm_3_resumen, on = 'SUBCLASE', how = 'inner')\n",
    "resumen_segmentos_2.rename({'SOCI_SOCI_ID':'Clientes que no compran la subclase y tienen Score 5'}, axis = 1, inplace = True)\n",
    "resumen_segmentos_2"
   ],
   "metadata": {
    "collapsed": false
   }
  },
  {
   "cell_type": "code",
   "execution_count": 102,
   "outputs": [
    {
     "data": {
      "text/plain": "                                 SUB_NAME    SUBCLASE       MARCA  \\\n0                                   PACKS  1900010003  PORTEZUELO   \n1   JABONES DETERGENTE LIQUIDOS PARA ROPA  8800030003       NEVEX   \n2                   PAPAS FRITAS EN BOLSA  2500050001        LAYS   \n3                        HELADOS 2 LITROS  3200010002       CRUFI   \n4                 YOGURES BEBIBLES ENTERO  7900010002      BIOTOP   \n5                        PAPAS CONGELADAS  3000020002     MC CAIN   \n6     PAPEL HIGIENICO HOJA DOBLE Y TRIPLE  9100030001       ELITE   \n7                        LECHE ESPECIALES  7600060004    PARMALAT   \n8                             CHOCOLATADA  7600030001    PARMALAT   \n9                           PANALES VALUE  9800010003     BABYSEC   \n10                QUESO SANDWICH AL CORTE  4200020006    COLONIAL   \n11                    CERVEZAS NACIONALES   100020003   ZILLERTAL   \n12                  JAMON COCIDO AL CORTE  4000030002   OTTONELLO   \n\n    Clientes que no compran la subclase pero no la marca  \n0                                                5047     \n1                                               24116     \n2                                               34178     \n3                                                7115     \n4                                               38403     \n5                                               11325     \n6                                               19505     \n7                                                7802     \n8                                               28558     \n9                                                1021     \n10                                              14602     \n11                                              15602     \n12                                              27267     ",
      "text/html": "<div>\n<style scoped>\n    .dataframe tbody tr th:only-of-type {\n        vertical-align: middle;\n    }\n\n    .dataframe tbody tr th {\n        vertical-align: top;\n    }\n\n    .dataframe thead th {\n        text-align: right;\n    }\n</style>\n<table border=\"1\" class=\"dataframe\">\n  <thead>\n    <tr style=\"text-align: right;\">\n      <th></th>\n      <th>SUB_NAME</th>\n      <th>SUBCLASE</th>\n      <th>MARCA</th>\n      <th>Clientes que no compran la subclase pero no la marca</th>\n    </tr>\n  </thead>\n  <tbody>\n    <tr>\n      <th>0</th>\n      <td>PACKS</td>\n      <td>1900010003</td>\n      <td>PORTEZUELO</td>\n      <td>5047</td>\n    </tr>\n    <tr>\n      <th>1</th>\n      <td>JABONES DETERGENTE LIQUIDOS PARA ROPA</td>\n      <td>8800030003</td>\n      <td>NEVEX</td>\n      <td>24116</td>\n    </tr>\n    <tr>\n      <th>2</th>\n      <td>PAPAS FRITAS EN BOLSA</td>\n      <td>2500050001</td>\n      <td>LAYS</td>\n      <td>34178</td>\n    </tr>\n    <tr>\n      <th>3</th>\n      <td>HELADOS 2 LITROS</td>\n      <td>3200010002</td>\n      <td>CRUFI</td>\n      <td>7115</td>\n    </tr>\n    <tr>\n      <th>4</th>\n      <td>YOGURES BEBIBLES ENTERO</td>\n      <td>7900010002</td>\n      <td>BIOTOP</td>\n      <td>38403</td>\n    </tr>\n    <tr>\n      <th>5</th>\n      <td>PAPAS CONGELADAS</td>\n      <td>3000020002</td>\n      <td>MC CAIN</td>\n      <td>11325</td>\n    </tr>\n    <tr>\n      <th>6</th>\n      <td>PAPEL HIGIENICO HOJA DOBLE Y TRIPLE</td>\n      <td>9100030001</td>\n      <td>ELITE</td>\n      <td>19505</td>\n    </tr>\n    <tr>\n      <th>7</th>\n      <td>LECHE ESPECIALES</td>\n      <td>7600060004</td>\n      <td>PARMALAT</td>\n      <td>7802</td>\n    </tr>\n    <tr>\n      <th>8</th>\n      <td>CHOCOLATADA</td>\n      <td>7600030001</td>\n      <td>PARMALAT</td>\n      <td>28558</td>\n    </tr>\n    <tr>\n      <th>9</th>\n      <td>PANALES VALUE</td>\n      <td>9800010003</td>\n      <td>BABYSEC</td>\n      <td>1021</td>\n    </tr>\n    <tr>\n      <th>10</th>\n      <td>QUESO SANDWICH AL CORTE</td>\n      <td>4200020006</td>\n      <td>COLONIAL</td>\n      <td>14602</td>\n    </tr>\n    <tr>\n      <th>11</th>\n      <td>CERVEZAS NACIONALES</td>\n      <td>100020003</td>\n      <td>ZILLERTAL</td>\n      <td>15602</td>\n    </tr>\n    <tr>\n      <th>12</th>\n      <td>JAMON COCIDO AL CORTE</td>\n      <td>4000030002</td>\n      <td>OTTONELLO</td>\n      <td>27267</td>\n    </tr>\n  </tbody>\n</table>\n</div>"
     },
     "execution_count": 102,
     "metadata": {},
     "output_type": "execute_result"
    }
   ],
   "source": [
    "resumen_segmentos_3 = articulos_destacados_2.copy(deep = True)\n",
    "resumen_segmentos_3.drop(['ORIN', 'ARTICULO'], axis = 1, inplace = True)\n",
    "resumen_segmentos_3.drop_duplicates(inplace = True)\n",
    "\n",
    "segm_4_resumen = segm_4.groupby('SUBCLASE')['SOCI_SOCI_ID'].nunique().reset_index()\n",
    "resumen_segmentos_3 = resumen_segmentos_3.merge(segm_4_resumen, on = 'SUBCLASE', how = 'inner')\n",
    "resumen_segmentos_3.rename({'SOCI_SOCI_ID':'Clientes que compran la subclase pero no la marca'}, axis = 1, inplace = True)\n",
    "resumen_segmentos_3"
   ],
   "metadata": {
    "collapsed": false
   }
  },
  {
   "cell_type": "markdown",
   "source": [
    "# Excel"
   ],
   "metadata": {
    "collapsed": false
   }
  },
  {
   "cell_type": "code",
   "execution_count": 111,
   "outputs": [],
   "source": [
    "# Segmentos Fede\n",
    "\n",
    "with pd.ExcelWriter(\n",
    "        f\"C:\\\\Users\\\\leonardo.mangold\\\\PycharmProjects\\\\analisis\\\\kpis_promos_mauri\\\\Entregas\\\\Articulos Destacados {datetime.today().strftime('%Y-%m-%d')}.xlsx\",\n",
    "        engine='xlsxwriter') as writer:\n",
    "\n",
    "    resumen_segmentos_1.to_excel(writer, sheet_name=f\"Resumen Segmentos 1, 2.1 y 2.2\", index=False)\n",
    "    segm_1.to_excel(writer, sheet_name=f\"1 Compran el art\", index=False)\n",
    "    segm_2.to_excel(writer, sheet_name=f\"2.1 Compran subcl, no art\", index=False)\n",
    "    segm_2_2.to_excel(writer, sheet_name=f\"2.2 Compran subcl, no art, S>3\", index=False)\n",
    "    resumen_segmentos_2.to_excel(writer, sheet_name=f\"Resumen Segmento 3\", index=False)\n",
    "    #segm_3.to_excel(writer, sheet_name=f\"3. No compran subcl, S>5\", index=False)\n",
    "    resumen_segmentos_3.to_excel(writer, sheet_name=f\"Resumen Segmento 4\", index=False)\n",
    "    segm_4.to_excel(writer, sheet_name=f\"4. Compran subcl pero no marca\", index=False)"
   ],
   "metadata": {
    "collapsed": false
   }
  },
  {
   "cell_type": "code",
   "execution_count": null,
   "outputs": [],
   "source": [
    "# Mauri\n",
    "\n",
    "with pd.ExcelWriter(\n",
    "        f\"C:\\\\Users\\\\leonardo.mangold\\\\PycharmProjects\\\\analisis\\\\kpis_promos_mauri\\\\Entregas\\\\Promos {datetime.today().strftime('%Y-%m-%d')}.xlsx\",\n",
    "        engine='xlsxwriter') as writer:\n",
    "\n",
    "\n",
    "\n",
    "    precios.to_excel(writer, sheet_name=f\"Precios Oferta {datetime.today().strftime('%Y-%m-%d')}\", index=False)  # tabla 12\n",
    "    df_precios_stock_mediano.to_excel(writer, sheet_name=f\"Precios Stock Mediano Ayer\", index=False)  # tabla 17\n",
    "    opt.to_excel(writer, sheet_name=f\"OPT - Media Precios Compet\", index=False)  # tabla 13\n",
    "    e_7.to_excel(writer, sheet_name=f\"Numero de Locales Activos Ayer\", index=False)  # tabla 14\n",
    "    e_8.to_excel(writer, sheet_name=f\"Days on Hand - Articulos\", index=False)  # tabla 15\n",
    "    e_9.to_excel(writer, sheet_name=f\"Days on Hand - Subclases\", index=False)  # tabla 16\n"
   ],
   "metadata": {
    "collapsed": false
   }
  },
  {
   "cell_type": "code",
   "execution_count": null,
   "outputs": [],
   "source": [
    "sys.exit()"
   ],
   "metadata": {
    "collapsed": false
   }
  },
  {
   "cell_type": "code",
   "execution_count": null,
   "outputs": [],
   "source": [
    "with pd.ExcelWriter(f\"C:\\\\Users\\\\leonardo.mangold\\\\PycharmProjects\\\\analisis\\\\kpis_promos_mauri\\\\Entregas\\\\Promos {datetime.today().strftime('%Y-%m-%d')}.xlsx\", engine='xlsxwriter') as writer:\n",
    "    e_1.to_excel(writer, sheet_name='Articulos Publicados', index=False) # tabla 1\n",
    "    arts_2.to_excel(writer, sheet_name='Venta y GB1 por Promo', index=False) # tabla 2\n",
    "    e_6.to_excel(writer, sheet_name='Numero de Subclases', index=False) # tabla 3\n",
    "    e_2.to_excel(writer, sheet_name='Venta y GB1 por Subclase', index=False) # tabla 4\n",
    "    e_3.to_excel(writer, sheet_name='Venta y GB1 Promo Agrupado', index=False) # tabla 5\n",
    "    e_4.to_excel(writer, sheet_name='Num Articulos por Subclase', index=False) # tabla 6\n",
    "    ace.to_excel(writer, sheet_name='Aceleracion', index=False) # tabla 7\n",
    "    ace_2.to_excel(writer, sheet_name='Aceleracion por Subclase', index=False) # tabla 8\n",
    "    ace_3.to_excel(writer, sheet_name='Aceleracion Resumen', index=False) # tabla 9\n",
    "    e_5.to_excel(writer, sheet_name='Tickets', index=False) # tabla 10\n",
    "    eventos.to_excel(writer, sheet_name='Numero de Eventos', index=False) # tabla 11\n",
    "    precios.to_excel(writer, sheet_name=f\"Precios {datetime.today().strftime('%Y-%m-%d')}\", index=False) # tabla 12\n",
    "    opt.to_excel(writer, sheet_name=f\"OPT - Media Precios Compet\", index=False) # tabla 13\n",
    "    e_7.to_excel(writer, sheet_name=f\"Numero de Locales Activos Ayer\", index=False) # tabla 14\n",
    "    e_8.to_excel(writer, sheet_name=f\"Days on Hand - Articulos\", index=False) # tabla 15\n",
    "    e_9.to_excel(writer, sheet_name=f\"Days on Hand - Subclases\", index=False) # tabla 16\n"
   ],
   "metadata": {
    "collapsed": false
   }
  },
  {
   "cell_type": "code",
   "execution_count": 14,
   "outputs": [
    {
     "data": {
      "text/plain": "'2023-12-13'"
     },
     "execution_count": 14,
     "metadata": {},
     "output_type": "execute_result"
    }
   ],
   "source": [
    "datetime.today().strftime('%Y-%m-%d')"
   ],
   "metadata": {
    "collapsed": false
   }
  },
  {
   "cell_type": "markdown",
   "source": [
    "# Fin"
   ],
   "metadata": {
    "collapsed": false
   },
   "execution_count": 1
  }
 ],
 "metadata": {
  "colab": {
   "collapsed_sections": [],
   "provenance": []
  },
  "kernelspec": {
   "display_name": "Python 3.9.12 ('env')",
   "language": "python",
   "name": "python3"
  },
  "language_info": {
   "codemirror_mode": {
    "name": "ipython",
    "version": 3
   },
   "file_extension": ".py",
   "mimetype": "text/x-python",
   "name": "python",
   "nbconvert_exporter": "python",
   "pygments_lexer": "ipython3",
   "version": "3.9.12"
  },
  "orig_nbformat": 4,
  "vscode": {
   "interpreter": {
    "hash": "1c19c5efd8f4b93ccbd4006c6f9f93fa19f57b77bfb4a2e5dfb55a2b8dd9ae6c"
   }
  }
 },
 "nbformat": 4,
 "nbformat_minor": 0
}
