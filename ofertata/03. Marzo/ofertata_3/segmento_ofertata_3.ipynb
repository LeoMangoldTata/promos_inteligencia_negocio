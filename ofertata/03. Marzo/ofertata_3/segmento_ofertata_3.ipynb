{
 "cells": [
  {
   "cell_type": "markdown",
   "source": [
    "# Importamos librerias"
   ],
   "metadata": {
    "collapsed": false
   }
  },
  {
   "cell_type": "code",
   "execution_count": 1,
   "metadata": {
    "id": "tKk581G_hMT0"
   },
   "outputs": [],
   "source": [
    "import pandas as pd\n",
    "import numpy as np\n",
    "import os\n",
    "import snowflake.connector\n",
    "import json\n",
    "from snowflake.connector.pandas_tools import write_pandas\n",
    "from datetime import datetime\n",
    "from datetime import timedelta\n",
    "from dateutil.relativedelta import relativedelta\n",
    "pd.options.mode.chained_assignment = None"
   ]
  },
  {
   "cell_type": "code",
   "execution_count": 2,
   "metadata": {
    "colab": {
     "base_uri": "https://localhost:8080/"
    },
    "id": "ChvQTwl1D-Ls",
    "outputId": "351b443f-8ebf-4a34-f7ba-93fb012f5082"
   },
   "outputs": [
    {
     "name": "stdout",
     "output_type": "stream",
     "text": [
      "Connected\n"
     ]
    }
   ],
   "source": [
    "while True:\n",
    "    try:\n",
    "\n",
    "        f = open('credentials.json')\n",
    "        data_pass = json.load(f)\n",
    "\n",
    "        pass_ = input(\"INGRESAR PASSCODE:\")\n",
    "\n",
    "        ctx = snowflake.connector.connect(\n",
    "            user = data_pass['snow']['USER'],\n",
    "            password = data_pass['snow']['PASS'],\n",
    "            account = data_pass['snow']['ACCOUNT'],\n",
    "            passcode = pass_,\n",
    "            database = 'SANDBOX_PLUS',\n",
    "            schema = 'DWH'\n",
    "        )\n",
    "\n",
    "        cursor = ctx.cursor()\n",
    "\n",
    "        print('Connected')\n",
    "\n",
    "        break\n",
    "\n",
    "    except:\n",
    "        print('Incorrect Password - provide again')"
   ]
  },
  {
   "cell_type": "markdown",
   "source": [
    "# Subclases"
   ],
   "metadata": {
    "collapsed": false
   }
  },
  {
   "cell_type": "code",
   "execution_count": 3,
   "outputs": [
    {
     "data": {
      "text/plain": "'Marzo 3'"
     },
     "execution_count": 3,
     "metadata": {},
     "output_type": "execute_result"
    }
   ],
   "source": [
    "########################################################################################################\n",
    "########################################################################################################\n",
    "\n",
    "ofertata = 'Marzo 3'\n",
    "\n",
    "########################################################################################################\n",
    "########################################################################################################\n",
    "ofertata"
   ],
   "metadata": {
    "collapsed": false
   }
  },
  {
   "cell_type": "code",
   "execution_count": 4,
   "outputs": [
    {
     "data": {
      "text/plain": "               SUB_NAME    SUBCLASE\n0                CANOLA  1100010002\n1  HARINA DE TRIGO 0000  1700030004",
      "text/html": "<div>\n<style scoped>\n    .dataframe tbody tr th:only-of-type {\n        vertical-align: middle;\n    }\n\n    .dataframe tbody tr th {\n        vertical-align: top;\n    }\n\n    .dataframe thead th {\n        text-align: right;\n    }\n</style>\n<table border=\"1\" class=\"dataframe\">\n  <thead>\n    <tr style=\"text-align: right;\">\n      <th></th>\n      <th>SUB_NAME</th>\n      <th>SUBCLASE</th>\n    </tr>\n  </thead>\n  <tbody>\n    <tr>\n      <th>0</th>\n      <td>CANOLA</td>\n      <td>1100010002</td>\n    </tr>\n    <tr>\n      <th>1</th>\n      <td>HARINA DE TRIGO 0000</td>\n      <td>1700030004</td>\n    </tr>\n  </tbody>\n</table>\n</div>"
     },
     "execution_count": 4,
     "metadata": {},
     "output_type": "execute_result"
    }
   ],
   "source": [
    "query = '''\n",
    "SELECT\n",
    "    DISTINCT\n",
    "    SUB.SUB_NAME,\n",
    "    SUB.SUBCLASE\n",
    "FROM\n",
    "    MSTRDB.DWH.LU_ARTC_ARTICULO AS LAA\n",
    "    INNER JOIN MSTRDB.DWH.ITEM_MASTER AS IM ON IM.ITEM = LAA.ORIN\n",
    "    INNER JOIN MSTRDB.DWH.SUBCLASS AS SUB ON SUB.SUBCLASE = IM.SUBCLASE\n",
    "WHERE\n",
    "    LAA.ARTC_ARTC_COD IN ('244738000', '330191000', '252818000', '340343000', '250111000', '141428000', '140757000')\n",
    "    AND SUB.SUB_NAME NOT ILIKE '%NO%ESPECIFICADO%'\n",
    "'''\n",
    "\n",
    "cursor.execute(query)\n",
    "subclases = cursor.fetch_pandas_all()\n",
    "subclases.head(2)"
   ],
   "metadata": {
    "collapsed": false
   }
  },
  {
   "cell_type": "markdown",
   "source": [
    "# Abandonadores"
   ],
   "metadata": {
    "collapsed": false
   }
  },
  {
   "cell_type": "code",
   "execution_count": 5,
   "outputs": [],
   "source": [
    "# antiguamente llamado Segmento 5\n",
    "# Clientes que en el ultimo mes no vengan a tata y tengan Score 4 o 5 en la subclase"
   ],
   "metadata": {
    "collapsed": false
   }
  },
  {
   "cell_type": "code",
   "execution_count": 6,
   "outputs": [
    {
     "data": {
      "text/plain": "('1100010002',\n '1700030004',\n '8800030003',\n '500040002',\n '2900020001',\n '100020002')"
     },
     "execution_count": 6,
     "metadata": {},
     "output_type": "execute_result"
    }
   ],
   "source": [
    "tuple(subclases['SUBCLASE'].astype(str))"
   ],
   "metadata": {
    "collapsed": false
   }
  },
  {
   "cell_type": "code",
   "execution_count": 7,
   "outputs": [
    {
     "name": "stdout",
     "output_type": "stream",
     "text": [
      "145577\n"
     ]
    },
    {
     "data": {
      "text/plain": "   SOCI_SOCI_ID    SUBCLASE CORREO   CELULAR                     SUB_NAME\n0       1749445  2900020001   None  99860906  HAMBURGUESAS VACUNA EN CAJA\n1       2113502  1100010002   None  93608135                       CANOLA",
      "text/html": "<div>\n<style scoped>\n    .dataframe tbody tr th:only-of-type {\n        vertical-align: middle;\n    }\n\n    .dataframe tbody tr th {\n        vertical-align: top;\n    }\n\n    .dataframe thead th {\n        text-align: right;\n    }\n</style>\n<table border=\"1\" class=\"dataframe\">\n  <thead>\n    <tr style=\"text-align: right;\">\n      <th></th>\n      <th>SOCI_SOCI_ID</th>\n      <th>SUBCLASE</th>\n      <th>CORREO</th>\n      <th>CELULAR</th>\n      <th>SUB_NAME</th>\n    </tr>\n  </thead>\n  <tbody>\n    <tr>\n      <th>0</th>\n      <td>1749445</td>\n      <td>2900020001</td>\n      <td>None</td>\n      <td>99860906</td>\n      <td>HAMBURGUESAS VACUNA EN CAJA</td>\n    </tr>\n    <tr>\n      <th>1</th>\n      <td>2113502</td>\n      <td>1100010002</td>\n      <td>None</td>\n      <td>93608135</td>\n      <td>CANOLA</td>\n    </tr>\n  </tbody>\n</table>\n</div>"
     },
     "execution_count": 7,
     "metadata": {},
     "output_type": "execute_result"
    }
   ],
   "source": [
    "query = '''\n",
    "WITH VINIERON AS\n",
    "    (\n",
    "    SELECT\n",
    "        DISTINCT SOCI_SOCI_ID\n",
    "    FROM\n",
    "        MSTRDB.DWH.FT_FDLN_MOVIMIENTOS\n",
    "    WHERE\n",
    "        GEOG_LOCL_ID IN (SELECT GEOG_LOCL_ID FROM MSTRDB.DWH.LU_GEOG_LOCAL WHERE GEOG_UNNG_ID = 2)\n",
    "        AND TIEM_DIA_ID >= DATEADD(MONTH, -1, CURRENT_DATE)\n",
    "    )\n",
    "\n",
    "SELECT\n",
    "    SOCI_SOCI_ID,\n",
    "    SUBCLASE,\n",
    "    CORREO,\n",
    "    CELULAR\n",
    "FROM\n",
    "    (\n",
    "    SELECT\n",
    "        LSS.SOCI_SOCI_ID,\n",
    "        LSS.SUBCLASE,\n",
    "        CONT.CORREO,\n",
    "        CONT.CELULAR,\n",
    "        ROW_NUMBER() OVER(PARTITION BY LSS.SOCI_SOCI_ID ORDER BY LSS.SOCI_SOCI_ID) AS R\n",
    "    FROM\n",
    "        BIZMETRIKS.DWH.LU_SCORING_SUBCLASE AS LSS\n",
    "        INNER JOIN SANDBOX_PLUS.DWH.CONTACTABLES_2 AS CONT ON LSS.SOCI_SOCI_ID = CONT.SOCI_SOCI_ID\n",
    "    WHERE\n",
    "        LSS.SOCI_SOCI_ID NOT IN (SELECT * FROM VINIERON)\n",
    "        AND LSS.SCORE >= 4\n",
    "        AND LSS.SUBCLASE IN {subclases_snow}\n",
    "        AND (CONT.CORREO IS NOT NULL OR CONT.CELULAR IS NOT NULL)\n",
    "    )\n",
    "WHERE\n",
    "    R = 1\n",
    "'''\n",
    "\n",
    "cursor.execute(query.format(subclases_snow = tuple(subclases['SUBCLASE'].astype(str))))\n",
    "segm_5 = cursor.fetch_pandas_all()\n",
    "\n",
    "segm_5 = segm_5.merge(subclases, on = 'SUBCLASE', how = 'left')\n",
    "\n",
    "print(segm_5.shape[0])\n",
    "segm_5.head(2)"
   ],
   "metadata": {
    "collapsed": false
   }
  },
  {
   "cell_type": "markdown",
   "source": [
    "# Activos"
   ],
   "metadata": {
    "collapsed": false
   }
  },
  {
   "cell_type": "code",
   "execution_count": 19,
   "outputs": [],
   "source": [
    "# antiguamente llamado Segmento 3\n",
    "# Para cada categoria (subclase) son los Clientes activos que no compran la subclase y tienen score 5"
   ],
   "metadata": {
    "collapsed": false
   }
  },
  {
   "cell_type": "code",
   "execution_count": 8,
   "outputs": [
    {
     "name": "stdout",
     "output_type": "stream",
     "text": [
      "155184\n"
     ]
    },
    {
     "data": {
      "text/plain": "   SOCI_SOCI_ID    SUBCLASE CORREO   CELULAR                     SUB_NAME\n0       1505628  2900020001   None  97326058  HAMBURGUESAS VACUNA EN CAJA\n1         39512  1100010002   None  99044133                       CANOLA",
      "text/html": "<div>\n<style scoped>\n    .dataframe tbody tr th:only-of-type {\n        vertical-align: middle;\n    }\n\n    .dataframe tbody tr th {\n        vertical-align: top;\n    }\n\n    .dataframe thead th {\n        text-align: right;\n    }\n</style>\n<table border=\"1\" class=\"dataframe\">\n  <thead>\n    <tr style=\"text-align: right;\">\n      <th></th>\n      <th>SOCI_SOCI_ID</th>\n      <th>SUBCLASE</th>\n      <th>CORREO</th>\n      <th>CELULAR</th>\n      <th>SUB_NAME</th>\n    </tr>\n  </thead>\n  <tbody>\n    <tr>\n      <th>0</th>\n      <td>1505628</td>\n      <td>2900020001</td>\n      <td>None</td>\n      <td>97326058</td>\n      <td>HAMBURGUESAS VACUNA EN CAJA</td>\n    </tr>\n    <tr>\n      <th>1</th>\n      <td>39512</td>\n      <td>1100010002</td>\n      <td>None</td>\n      <td>99044133</td>\n      <td>CANOLA</td>\n    </tr>\n  </tbody>\n</table>\n</div>"
     },
     "execution_count": 8,
     "metadata": {},
     "output_type": "execute_result"
    }
   ],
   "source": [
    "query = '''\n",
    "WITH ACTIVOS AS\n",
    "    (\n",
    "    SELECT\n",
    "        DISTINCT SOCI_SOCI_ID\n",
    "    FROM\n",
    "        MSTRDB.DWH.FT_FDLN_MOVIMIENTOS\n",
    "    WHERE\n",
    "        GEOG_LOCL_ID IN (SELECT GEOG_LOCL_ID FROM MSTRDB.DWH.LU_GEOG_LOCAL WHERE GEOG_UNNG_ID = 2)\n",
    "        AND TIEM_DIA_ID >= DATEADD(MONTH, -1, CURRENT_DATE)\n",
    "    ),\n",
    "\n",
    "COMPRAS_SUBCLASES AS\n",
    "    (\n",
    "    SELECT\n",
    "        DISTINCT\n",
    "        FFM.SOCI_SOCI_ID || ' - ' || IM.SUBCLASE AS KEY\n",
    "    FROM\n",
    "        MSTRDB.DWH.FT_FDLN_MOVIMIENTOS AS FFM\n",
    "        INNER JOIN MSTRDB.DWH.FT_VENTAS AS FV ON FV.TICKET = FFM.TICKET\n",
    "        INNER JOIN MSTRDB.DWH.LU_ARTC_ARTICULO AS LAA ON FV.ARTC_ARTC_ID = LAA.ARTC_ARTC_ID\n",
    "        INNER JOIN MSTRDB.DWH.ITEM_MASTER AS IM ON IM.ITEM = LAA.ORIN\n",
    "    WHERE\n",
    "        FFM.GEOG_LOCL_ID IN (SELECT GEOG_LOCL_ID FROM MSTRDB.DWH.LU_GEOG_LOCAL WHERE GEOG_UNNG_ID = 2)\n",
    "        AND FFM.TIEM_DIA_ID >= DATEADD(MONTH, -3, CURRENT_DATE)\n",
    "    )\n",
    "\n",
    "\n",
    "SELECT\n",
    "    SOCI_SOCI_ID,\n",
    "    SUBCLASE,\n",
    "    CORREO,\n",
    "    CELULAR\n",
    "FROM\n",
    "    (\n",
    "    SELECT\n",
    "        LSS.SOCI_SOCI_ID,\n",
    "        LSS.SUBCLASE,\n",
    "        CONT.CORREO,\n",
    "        CONT.CELULAR,\n",
    "        ROW_NUMBER() OVER(PARTITION BY LSS.SOCI_SOCI_ID ORDER BY LSS.SOCI_SOCI_ID) AS R\n",
    "    FROM\n",
    "        BIZMETRIKS.DWH.LU_SCORING_SUBCLASE AS LSS\n",
    "        INNER JOIN SANDBOX_PLUS.DWH.CONTACTABLES_2 AS CONT ON LSS.SOCI_SOCI_ID = CONT.SOCI_SOCI_ID\n",
    "    WHERE\n",
    "        LSS.SOCI_SOCI_ID IN (SELECT * FROM ACTIVOS)\n",
    "        AND LSS.SCORE = 5\n",
    "        AND LSS.SUBCLASE IN {subclases_snow}\n",
    "        AND LSS.SOCI_SOCI_ID || ' - ' || LSS.SUBCLASE NOT IN (SELECT * FROM COMPRAS_SUBCLASES)\n",
    "        AND (CONT.CORREO IS NOT NULL OR CONT.CELULAR IS NOT NULL)\n",
    "    )\n",
    "WHERE\n",
    "    R = 1\n",
    "'''\n",
    "\n",
    "cursor.execute(query.format(subclases_snow = tuple(subclases['SUBCLASE'].astype(str))))\n",
    "segm_3 = cursor.fetch_pandas_all()\n",
    "\n",
    "segm_3 = segm_3.merge(subclases, on = 'SUBCLASE', how = 'left')\n",
    "\n",
    "print(segm_3.shape[0])\n",
    "segm_3.head(2)"
   ],
   "metadata": {
    "collapsed": false
   }
  },
  {
   "cell_type": "markdown",
   "source": [
    "# Excels"
   ],
   "metadata": {
    "collapsed": false
   }
  },
  {
   "cell_type": "code",
   "execution_count": 9,
   "outputs": [
    {
     "name": "stdout",
     "output_type": "stream",
     "text": [
      "HAMBURGUESAS VACUNA EN CAJA\n",
      "CANOLA\n",
      "CUADRADA\n",
      "CERVEZAS IMPORTADAS\n",
      "JABONES DETERGENTE LIQUIDOS PARA ROPA\n",
      "HARINA DE TRIGO 0000\n"
     ]
    }
   ],
   "source": [
    "for i in segm_3['SUB_NAME'].unique():\n",
    "    print(i)\n",
    "    df_aux = segm_3[segm_3['SUB_NAME'] == i]\n",
    "    df_aux.to_excel(f'Ofertata {ofertata} Activos - {i}.xlsx', index = False)"
   ],
   "metadata": {
    "collapsed": false
   }
  },
  {
   "cell_type": "code",
   "execution_count": 10,
   "outputs": [
    {
     "name": "stdout",
     "output_type": "stream",
     "text": [
      "HAMBURGUESAS VACUNA EN CAJA\n",
      "CANOLA\n",
      "JABONES DETERGENTE LIQUIDOS PARA ROPA\n",
      "CUADRADA\n",
      "CERVEZAS IMPORTADAS\n",
      "HARINA DE TRIGO 0000\n"
     ]
    }
   ],
   "source": [
    "for i in segm_5['SUB_NAME'].unique():\n",
    "    print(i)\n",
    "    df_aux = segm_5[segm_5['SUB_NAME'] == i]\n",
    "    df_aux.to_excel(f'Ofertata {ofertata} Abandonadores - {i}.xlsx', index = False)"
   ],
   "metadata": {
    "collapsed": false
   }
  },
  {
   "cell_type": "code",
   "execution_count": 23,
   "outputs": [
    {
     "ename": "SystemExit",
     "evalue": "",
     "output_type": "error",
     "traceback": [
      "An exception has occurred, use %tb to see the full traceback.\n",
      "\u001B[1;31mSystemExit\u001B[0m\n"
     ]
    },
    {
     "name": "stderr",
     "output_type": "stream",
     "text": [
      "C:\\Users\\leonardo.mangold\\Desktop\\Tareas\\Analisis\\!Python\\env\\lib\\site-packages\\IPython\\core\\interactiveshell.py:3406: UserWarning: To exit: use 'exit', 'quit', or Ctrl-D.\n",
      "  warn(\"To exit: use 'exit', 'quit', or Ctrl-D.\", stacklevel=1)\n"
     ]
    }
   ],
   "source": [
    "sys.exit()"
   ],
   "metadata": {
    "collapsed": false
   }
  },
  {
   "cell_type": "markdown",
   "source": [
    "# SNOW"
   ],
   "metadata": {
    "collapsed": false
   }
  },
  {
   "cell_type": "code",
   "execution_count": 13,
   "outputs": [
    {
     "data": {
      "text/plain": "'MARZO 3'"
     },
     "execution_count": 13,
     "metadata": {},
     "output_type": "execute_result"
    }
   ],
   "source": [
    "ofertata.upper()"
   ],
   "metadata": {
    "collapsed": false
   }
  },
  {
   "cell_type": "code",
   "execution_count": 14,
   "outputs": [
    {
     "data": {
      "text/plain": "   SOCI_SOCI_ID    SUBCLASE CORREO   CELULAR                     SUB_NAME  \\\n0       1749445  2900020001   None  99860906  HAMBURGUESAS VACUNA EN CAJA   \n1       2113502  1100010002   None  93608135                       CANOLA   \n\n  PERFIL_CLIENTE OFERTATA       FECHA  \n0    ABANDONADOR  MARZO 3  2024-03-14  \n1    ABANDONADOR  MARZO 3  2024-03-14  ",
      "text/html": "<div>\n<style scoped>\n    .dataframe tbody tr th:only-of-type {\n        vertical-align: middle;\n    }\n\n    .dataframe tbody tr th {\n        vertical-align: top;\n    }\n\n    .dataframe thead th {\n        text-align: right;\n    }\n</style>\n<table border=\"1\" class=\"dataframe\">\n  <thead>\n    <tr style=\"text-align: right;\">\n      <th></th>\n      <th>SOCI_SOCI_ID</th>\n      <th>SUBCLASE</th>\n      <th>CORREO</th>\n      <th>CELULAR</th>\n      <th>SUB_NAME</th>\n      <th>PERFIL_CLIENTE</th>\n      <th>OFERTATA</th>\n      <th>FECHA</th>\n    </tr>\n  </thead>\n  <tbody>\n    <tr>\n      <th>0</th>\n      <td>1749445</td>\n      <td>2900020001</td>\n      <td>None</td>\n      <td>99860906</td>\n      <td>HAMBURGUESAS VACUNA EN CAJA</td>\n      <td>ABANDONADOR</td>\n      <td>MARZO 3</td>\n      <td>2024-03-14</td>\n    </tr>\n    <tr>\n      <th>1</th>\n      <td>2113502</td>\n      <td>1100010002</td>\n      <td>None</td>\n      <td>93608135</td>\n      <td>CANOLA</td>\n      <td>ABANDONADOR</td>\n      <td>MARZO 3</td>\n      <td>2024-03-14</td>\n    </tr>\n  </tbody>\n</table>\n</div>"
     },
     "execution_count": 14,
     "metadata": {},
     "output_type": "execute_result"
    }
   ],
   "source": [
    "segm_5['PERFIL_CLIENTE'] = 'ABANDONADOR'\n",
    "segm_3['PERFIL_CLIENTE'] = 'ACTIVO'\n",
    "ambos = pd.concat([segm_5, segm_3])\n",
    "ambos['OFERTATA'] = ofertata.upper()\n",
    "ambos['FECHA'] = (datetime.today() + timedelta(days = 1)).strftime('%Y-%m-%d')\n",
    "ambos.head(2)"
   ],
   "metadata": {
    "collapsed": false
   }
  },
  {
   "cell_type": "code",
   "execution_count": 15,
   "outputs": [
    {
     "name": "stdout",
     "output_type": "stream",
     "text": [
      "listo\n"
     ]
    }
   ],
   "source": [
    "success, nchunks, nrows, _ = write_pandas(ctx,\n",
    "    ambos.drop(['SUB_NAME'], axis = 1), table_name='SEGMENTOS_OFERTATA', database= 'SANDBOX_PLUS', schema = 'DWH')\n",
    "print('listo')"
   ],
   "metadata": {
    "collapsed": false
   }
  },
  {
   "cell_type": "markdown",
   "source": [
    "# Litoral"
   ],
   "metadata": {
    "collapsed": false
   }
  },
  {
   "cell_type": "markdown",
   "source": [
    "## 6 meses"
   ],
   "metadata": {
    "collapsed": false
   }
  },
  {
   "cell_type": "code",
   "execution_count": 16,
   "outputs": [],
   "source": [
    "query = '''\n",
    "WITH LOCAL_DOMINANTE AS\n",
    "    (\n",
    "    SELECT\n",
    "        DISTINCT\n",
    "        SOCI_SOCI_ID,\n",
    "        DOMINANTE,\n",
    "        GEOG_LOCL_DESC\n",
    "    FROM\n",
    "        (\n",
    "        SELECT\n",
    "            FFM.SOCI_SOCI_ID,\n",
    "            LGL.GEOG_LOCL_COD AS DOMINANTE,\n",
    "            LGL.GEOG_LOCL_DESC,\n",
    "            SUM(FV.VNTA_IMPORTE_SIN_IVA) AS VENTAS,\n",
    "            ROW_NUMBER() OVER (PARTITION BY SOCI_SOCI_ID ORDER BY VENTAS DESC) AS RNK\n",
    "        FROM\n",
    "            MSTRDB.DWH.FT_VENTAS AS FV\n",
    "            INNER JOIN MSTRDB.DWH.FT_FDLN_MOVIMIENTOS AS FFM ON FV.TICKET = FFM.TICKET\n",
    "            INNER JOIN MSTRDB.DWH.LU_GEOG_LOCAL AS LGL ON FV.GEOG_LOCL_ID = LGL.GEOG_LOCL_ID\n",
    "            INNER JOIN MSTRDB.DWH.LU_GEOG_DEPTO AS LGD ON LGD.GEOG_DPTO_ID = LGL.GEOG_DPTO_ID\n",
    "            INNER JOIN MSTRDB.DWH.LU_ARTC_ARTICULO AS LAA ON LAA.ARTC_ARTC_ID = FV.ARTC_ARTC_ID\n",
    "        WHERE\n",
    "            FV.TIEM_DIA_ID BETWEEN  DATEADD(MONTH, -24, CURRENT_DATE()) AND CURRENT_DATE()\n",
    "            AND LGL.GEOG_UNNG_ID = 2\n",
    "            AND LAA.ARTC_SECC_ID <> 42\n",
    "            AND FFM.FDLN_MOVT_TIPO LIKE '%RP%'\n",
    "        GROUP BY\n",
    "            ALL\n",
    "        )\n",
    "    WHERE\n",
    "        RNK = 1\n",
    "        AND DOMINANTE IN (111, 152, 156, 158, 159, 160, 161, 162, 316, 125, 127, 317)\n",
    "    ),\n",
    "\n",
    "VINIERON AS\n",
    "    (\n",
    "    SELECT\n",
    "        DISTINCT SOCI_SOCI_ID\n",
    "    FROM\n",
    "        MSTRDB.DWH.FT_FDLN_MOVIMIENTOS\n",
    "    WHERE\n",
    "        GEOG_LOCL_ID IN (SELECT GEOG_LOCL_ID FROM MSTRDB.DWH.LU_GEOG_LOCAL WHERE GEOG_UNNG_ID = 2)\n",
    "        AND TIEM_DIA_ID >= DATEADD(MONTH, -6, CURRENT_DATE)\n",
    "    )\n",
    "\n",
    "    SELECT\n",
    "        SOCI_SOCI_ID,\n",
    "        CORREO,\n",
    "        CELULAR\n",
    "    FROM\n",
    "        SANDBOX_PLUS.DWH.CONTACTABLES_2\n",
    "    WHERE\n",
    "        SOCI_SOCI_ID NOT IN (SELECT * FROM VINIERON)\n",
    "        AND SOCI_SOCI_ID IN (SELECT SOCI_SOCI_ID FROM LOCAL_DOMINANTE)\n",
    "        AND (CORREO IS NOT NULL OR CELULAR IS NOT NULL)\n",
    "\n",
    "'''\n",
    "\n",
    "cursor.execute(query.format(subclases_snow = tuple(subclases['SUBCLASE'].astype(str))))\n",
    "litoral_abandonador_6_meses = cursor.fetch_pandas_all()\n",
    "\n",
    "litoral_abandonador_6_meses = litoral_abandonador_6_meses[~litoral_abandonador_6_meses['SOCI_SOCI_ID'].isin(ambos['SOCI_SOCI_ID'])]"
   ],
   "metadata": {
    "collapsed": false
   }
  },
  {
   "cell_type": "code",
   "execution_count": 17,
   "outputs": [
    {
     "name": "stdout",
     "output_type": "stream",
     "text": [
      "1100010002 CANOLA\n",
      "1700030004 HARINA DE TRIGO 0000\n",
      "8800030003 JABONES DETERGENTE LIQUIDOS PARA ROPA\n",
      "500040002 CUADRADA\n",
      "2900020001 HAMBURGUESAS VACUNA EN CAJA\n",
      "100020002 CERVEZAS IMPORTADAS\n"
     ]
    },
    {
     "data": {
      "text/plain": "True"
     },
     "execution_count": 17,
     "metadata": {},
     "output_type": "execute_result"
    }
   ],
   "source": [
    "litoral_abandonador_6_meses_2 = pd.DataFrame()\n",
    "\n",
    "for subclase, subclase_name in zip(subclases['SUBCLASE'], subclases['SUB_NAME']):\n",
    "    print(subclase, subclase_name)\n",
    "    df_aux = litoral_abandonador_6_meses.copy(deep = True)\n",
    "    df_aux['SUBCLASE'] = subclase\n",
    "    df_aux['SUB_NAME'] = subclase_name\n",
    "    litoral_abandonador_6_meses_2 = pd.concat([litoral_abandonador_6_meses_2, df_aux])\n",
    "\n",
    "litoral_abandonador_6_meses_2.shape[0] == litoral_abandonador_6_meses.shape[0] * subclases.shape[0]"
   ],
   "metadata": {
    "collapsed": false
   }
  },
  {
   "cell_type": "code",
   "execution_count": 18,
   "outputs": [
    {
     "data": {
      "text/plain": "   SOCI_SOCI_ID CORREO   CELULAR    SUBCLASE SUB_NAME\n0        996982   None  99649403  1100010002   CANOLA\n1       1875933   None  92927805  1100010002   CANOLA",
      "text/html": "<div>\n<style scoped>\n    .dataframe tbody tr th:only-of-type {\n        vertical-align: middle;\n    }\n\n    .dataframe tbody tr th {\n        vertical-align: top;\n    }\n\n    .dataframe thead th {\n        text-align: right;\n    }\n</style>\n<table border=\"1\" class=\"dataframe\">\n  <thead>\n    <tr style=\"text-align: right;\">\n      <th></th>\n      <th>SOCI_SOCI_ID</th>\n      <th>CORREO</th>\n      <th>CELULAR</th>\n      <th>SUBCLASE</th>\n      <th>SUB_NAME</th>\n    </tr>\n  </thead>\n  <tbody>\n    <tr>\n      <th>0</th>\n      <td>996982</td>\n      <td>None</td>\n      <td>99649403</td>\n      <td>1100010002</td>\n      <td>CANOLA</td>\n    </tr>\n    <tr>\n      <th>1</th>\n      <td>1875933</td>\n      <td>None</td>\n      <td>92927805</td>\n      <td>1100010002</td>\n      <td>CANOLA</td>\n    </tr>\n  </tbody>\n</table>\n</div>"
     },
     "execution_count": 18,
     "metadata": {},
     "output_type": "execute_result"
    }
   ],
   "source": [
    "litoral_abandonador_6_meses_2.head(2)"
   ],
   "metadata": {
    "collapsed": false
   }
  },
  {
   "cell_type": "code",
   "execution_count": 19,
   "outputs": [
    {
     "name": "stdout",
     "output_type": "stream",
     "text": [
      "CANOLA\n",
      "HARINA DE TRIGO 0000\n",
      "JABONES DETERGENTE LIQUIDOS PARA ROPA\n",
      "CUADRADA\n",
      "HAMBURGUESAS VACUNA EN CAJA\n",
      "CERVEZAS IMPORTADAS\n",
      "listo\n"
     ]
    }
   ],
   "source": [
    "for i in litoral_abandonador_6_meses_2['SUB_NAME'].unique():\n",
    "    print(i)\n",
    "    df_aux = litoral_abandonador_6_meses_2[litoral_abandonador_6_meses_2['SUB_NAME'] == i].drop(['SOCI_SOCI_ID', 'SUBCLASE', 'SUB_NAME'], axis = 1)\n",
    "    df_aux.to_excel(f'Ofertata {ofertata} Abandonador 6 meses Litoral - {i}.xlsx', index = False)\n",
    "print('listo')"
   ],
   "metadata": {
    "collapsed": false
   }
  },
  {
   "cell_type": "code",
   "execution_count": 20,
   "outputs": [
    {
     "name": "stdout",
     "output_type": "stream",
     "text": [
      "listo\n"
     ]
    }
   ],
   "source": [
    "litoral_abandonador_6_meses_2['PERFIL_CLIENTE'] = 'ABANDONADOR'\n",
    "litoral_abandonador_6_meses_2['OFERTATA'] = ofertata.upper()\n",
    "litoral_abandonador_6_meses_2['FECHA'] = (datetime.today() + timedelta(days = 1)).strftime('%Y-%m-%d')\n",
    "\n",
    "success, nchunks, nrows, _ = write_pandas(ctx,\n",
    "    litoral_abandonador_6_meses_2.drop(['SUB_NAME'], axis = 1), table_name='SEGMENTOS_OFERTATA', database= 'SANDBOX_PLUS', schema = 'DWH')\n",
    "print('listo')"
   ],
   "metadata": {
    "collapsed": false
   }
  },
  {
   "cell_type": "markdown",
   "source": [
    "# Fin"
   ],
   "metadata": {
    "collapsed": false
   },
   "execution_count": 1
  }
 ],
 "metadata": {
  "colab": {
   "collapsed_sections": [],
   "provenance": []
  },
  "kernelspec": {
   "display_name": "Python 3.9.12 ('env')",
   "language": "python",
   "name": "python3"
  },
  "language_info": {
   "codemirror_mode": {
    "name": "ipython",
    "version": 3
   },
   "file_extension": ".py",
   "mimetype": "text/x-python",
   "name": "python",
   "nbconvert_exporter": "python",
   "pygments_lexer": "ipython3",
   "version": "3.9.12"
  },
  "orig_nbformat": 4,
  "vscode": {
   "interpreter": {
    "hash": "1c19c5efd8f4b93ccbd4006c6f9f93fa19f57b77bfb4a2e5dfb55a2b8dd9ae6c"
   }
  }
 },
 "nbformat": 4,
 "nbformat_minor": 0
}
