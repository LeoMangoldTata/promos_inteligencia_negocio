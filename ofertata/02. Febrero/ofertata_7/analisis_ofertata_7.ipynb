{
 "cells": [
  {
   "cell_type": "markdown",
   "source": [
    "# Importamos librerias"
   ],
   "metadata": {
    "collapsed": false
   }
  },
  {
   "cell_type": "code",
   "execution_count": 1,
   "metadata": {
    "id": "tKk581G_hMT0"
   },
   "outputs": [],
   "source": [
    "import pandas as pd\n",
    "import numpy as np\n",
    "import os\n",
    "import snowflake.connector\n",
    "import json\n",
    "from snowflake.connector.pandas_tools import write_pandas\n",
    "from datetime import datetime\n",
    "from datetime import timedelta\n",
    "from dateutil.relativedelta import relativedelta\n",
    "pd.options.mode.chained_assignment = None"
   ]
  },
  {
   "cell_type": "code",
   "execution_count": 2,
   "metadata": {
    "colab": {
     "base_uri": "https://localhost:8080/"
    },
    "id": "ChvQTwl1D-Ls",
    "outputId": "351b443f-8ebf-4a34-f7ba-93fb012f5082"
   },
   "outputs": [
    {
     "name": "stdout",
     "output_type": "stream",
     "text": [
      "Connected\n"
     ]
    }
   ],
   "source": [
    "while True:\n",
    "    try:\n",
    "\n",
    "        f = open('credentials.json')\n",
    "        data_pass = json.load(f)\n",
    "\n",
    "        pass_ = input(\"INGRESAR PASSCODE:\")\n",
    "\n",
    "        ctx = snowflake.connector.connect(\n",
    "            user = data_pass['snow']['USER'],\n",
    "            password = data_pass['snow']['PASS'],\n",
    "            account = data_pass['snow']['ACCOUNT'],\n",
    "            passcode = pass_,\n",
    "            database = 'SANDBOX_PLUS',\n",
    "            schema = 'DWH'\n",
    "        )\n",
    "\n",
    "        cursor = ctx.cursor()\n",
    "\n",
    "        print('Connected')\n",
    "\n",
    "        break\n",
    "\n",
    "    except:\n",
    "        print('Incorrect Password - provide again')"
   ]
  },
  {
   "cell_type": "markdown",
   "source": [
    "# Segmentos"
   ],
   "metadata": {
    "collapsed": false
   }
  },
  {
   "cell_type": "code",
   "execution_count": 65,
   "outputs": [
    {
     "data": {
      "text/plain": "     OFERTATA       FECHA PERFIL_CLIENTE  SOCI_SOCI_ID    SUBCLASE  SUB_NAME\n0  Ofertata 7  2024-02-15    ABANDONADOR        902735  1700020001  AL HUEVO\n1  Ofertata 7  2024-02-15    ABANDONADOR       1301700  1700020001  AL HUEVO",
      "text/html": "<div>\n<style scoped>\n    .dataframe tbody tr th:only-of-type {\n        vertical-align: middle;\n    }\n\n    .dataframe tbody tr th {\n        vertical-align: top;\n    }\n\n    .dataframe thead th {\n        text-align: right;\n    }\n</style>\n<table border=\"1\" class=\"dataframe\">\n  <thead>\n    <tr style=\"text-align: right;\">\n      <th></th>\n      <th>OFERTATA</th>\n      <th>FECHA</th>\n      <th>PERFIL_CLIENTE</th>\n      <th>SOCI_SOCI_ID</th>\n      <th>SUBCLASE</th>\n      <th>SUB_NAME</th>\n    </tr>\n  </thead>\n  <tbody>\n    <tr>\n      <th>0</th>\n      <td>Ofertata 7</td>\n      <td>2024-02-15</td>\n      <td>ABANDONADOR</td>\n      <td>902735</td>\n      <td>1700020001</td>\n      <td>AL HUEVO</td>\n    </tr>\n    <tr>\n      <th>1</th>\n      <td>Ofertata 7</td>\n      <td>2024-02-15</td>\n      <td>ABANDONADOR</td>\n      <td>1301700</td>\n      <td>1700020001</td>\n      <td>AL HUEVO</td>\n    </tr>\n  </tbody>\n</table>\n</div>"
     },
     "execution_count": 65,
     "metadata": {},
     "output_type": "execute_result"
    }
   ],
   "source": [
    "query = '''\n",
    "SELECT\n",
    "    DISTINCT\n",
    "    SO.OFERTATA,\n",
    "    SO.FECHA,\n",
    "    SO.PERFIL_CLIENTE,\n",
    "    SO.SOCI_SOCI_ID,\n",
    "    SO.SUBCLASE,\n",
    "    SUB.SUB_NAME\n",
    "FROM\n",
    "    SANDBOX_PLUS.DWH.SEGMENTOS_OFERTATA AS SO\n",
    "    INNER JOIN MSTRDB.DWH.SUBCLASS AS SUB ON SUB.SUBCLASE = SO.SUBCLASE\n",
    "WHERE\n",
    "    SO.OFERTATA ILIKE '%7%'\n",
    "'''\n",
    "\n",
    "cursor.execute(query)\n",
    "df = cursor.fetch_pandas_all()\n",
    "df.head(2)"
   ],
   "metadata": {
    "collapsed": false
   }
  },
  {
   "cell_type": "code",
   "execution_count": 22,
   "outputs": [
    {
     "data": {
      "text/plain": "datetime.date(2024, 2, 15)"
     },
     "execution_count": 22,
     "metadata": {},
     "output_type": "execute_result"
    }
   ],
   "source": [
    "fecha_ofertata = df.loc[0, 'FECHA']\n",
    "fecha_ofertata"
   ],
   "metadata": {
    "collapsed": false
   }
  },
  {
   "cell_type": "code",
   "execution_count": 44,
   "outputs": [
    {
     "data": {
      "text/plain": "'Ofertata 7'"
     },
     "execution_count": 44,
     "metadata": {},
     "output_type": "execute_result"
    }
   ],
   "source": [
    "ofertata = df.loc[0, 'OFERTATA']\n",
    "ofertata"
   ],
   "metadata": {
    "collapsed": false
   }
  },
  {
   "cell_type": "code",
   "execution_count": 23,
   "outputs": [
    {
     "data": {
      "text/plain": "ACTIVO         157804\nABANDONADOR    144777\nName: PERFIL_CLIENTE, dtype: int64"
     },
     "execution_count": 23,
     "metadata": {},
     "output_type": "execute_result"
    }
   ],
   "source": [
    "df['PERFIL_CLIENTE'].value_counts()"
   ],
   "metadata": {
    "collapsed": false
   }
  },
  {
   "cell_type": "markdown",
   "source": [
    "# Abandonadores"
   ],
   "metadata": {
    "collapsed": false
   }
  },
  {
   "cell_type": "code",
   "execution_count": 24,
   "outputs": [],
   "source": [
    "# Clientes que en el ultimo mes no vengan a tata y tengan Score 5 en la subclase"
   ],
   "metadata": {
    "collapsed": false
   }
  },
  {
   "cell_type": "code",
   "execution_count": 34,
   "outputs": [
    {
     "data": {
      "text/plain": "        FECHA PERFIL_CLIENTE  SOCI_SOCI_ID    SUBCLASE                 K\n0  2024-02-15    ABANDONADOR        902735  1700020001  9027351700020001\n1  2024-02-15    ABANDONADOR        451573  1700020001  4515731700020001",
      "text/html": "<div>\n<style scoped>\n    .dataframe tbody tr th:only-of-type {\n        vertical-align: middle;\n    }\n\n    .dataframe tbody tr th {\n        vertical-align: top;\n    }\n\n    .dataframe thead th {\n        text-align: right;\n    }\n</style>\n<table border=\"1\" class=\"dataframe\">\n  <thead>\n    <tr style=\"text-align: right;\">\n      <th></th>\n      <th>FECHA</th>\n      <th>PERFIL_CLIENTE</th>\n      <th>SOCI_SOCI_ID</th>\n      <th>SUBCLASE</th>\n      <th>K</th>\n    </tr>\n  </thead>\n  <tbody>\n    <tr>\n      <th>0</th>\n      <td>2024-02-15</td>\n      <td>ABANDONADOR</td>\n      <td>902735</td>\n      <td>1700020001</td>\n      <td>9027351700020001</td>\n    </tr>\n    <tr>\n      <th>1</th>\n      <td>2024-02-15</td>\n      <td>ABANDONADOR</td>\n      <td>451573</td>\n      <td>1700020001</td>\n      <td>4515731700020001</td>\n    </tr>\n  </tbody>\n</table>\n</div>"
     },
     "execution_count": 34,
     "metadata": {},
     "output_type": "execute_result"
    }
   ],
   "source": [
    "abandonador = df[df['PERFIL_CLIENTE'] == 'ABANDONADOR']\n",
    "abandonador['K'] = abandonador['SOCI_SOCI_ID'].astype(str) + abandonador['SUBCLASE'].astype(str)\n",
    "abandonador.head(2)"
   ],
   "metadata": {
    "collapsed": false
   }
  },
  {
   "cell_type": "markdown",
   "source": [
    "## Impactados"
   ],
   "metadata": {
    "collapsed": false
   }
  },
  {
   "cell_type": "markdown",
   "source": [
    "### A. Vinieron a TATA"
   ],
   "metadata": {
    "collapsed": false
   }
  },
  {
   "cell_type": "code",
   "execution_count": 32,
   "outputs": [
    {
     "name": "stdout",
     "output_type": "stream",
     "text": [
      "11855\n"
     ]
    },
    {
     "data": {
      "text/plain": "    SOCI_SOCI_ID\n7        1902906\n13         50886",
      "text/html": "<div>\n<style scoped>\n    .dataframe tbody tr th:only-of-type {\n        vertical-align: middle;\n    }\n\n    .dataframe tbody tr th {\n        vertical-align: top;\n    }\n\n    .dataframe thead th {\n        text-align: right;\n    }\n</style>\n<table border=\"1\" class=\"dataframe\">\n  <thead>\n    <tr style=\"text-align: right;\">\n      <th></th>\n      <th>SOCI_SOCI_ID</th>\n    </tr>\n  </thead>\n  <tbody>\n    <tr>\n      <th>7</th>\n      <td>1902906</td>\n    </tr>\n    <tr>\n      <th>13</th>\n      <td>50886</td>\n    </tr>\n  </tbody>\n</table>\n</div>"
     },
     "execution_count": 32,
     "metadata": {},
     "output_type": "execute_result"
    }
   ],
   "source": [
    "query = '''\n",
    "SELECT\n",
    "    DISTINCT FFM.SOCI_SOCI_ID\n",
    "FROM\n",
    "    MSTRDB.DWH.FT_FDLN_MOVIMIENTOS AS FFM\n",
    "WHERE\n",
    "    FFM.TIEM_DIA_ID BETWEEN '{fecha_snow}' AND DATEADD(DAY, 7, '{fecha_snow}')\n",
    "    AND FFM.GEOG_LOCL_ID IN (SELECT GEOG_LOCL_ID FROM MSTRDB.DWH.LU_GEOG_LOCAL WHERE GEOG_UNNG_ID = 2)\n",
    "'''\n",
    "\n",
    "cursor.execute(query.format(fecha_snow = fecha_ofertata))\n",
    "volvieron_general = cursor.fetch_pandas_all()\n",
    "volvieron_general = volvieron_general[volvieron_general['SOCI_SOCI_ID'].isin(abandonador['SOCI_SOCI_ID'])]\n",
    "print(volvieron_general['SOCI_SOCI_ID'].nunique())\n",
    "volvieron_general.head(2)"
   ],
   "metadata": {
    "collapsed": false
   }
  },
  {
   "cell_type": "markdown",
   "source": [
    "### B. Vinieron en 2024 y consumieron alguna de las SUBCLASE"
   ],
   "metadata": {
    "collapsed": false
   }
  },
  {
   "cell_type": "code",
   "execution_count": 33,
   "outputs": [
    {
     "data": {
      "text/plain": "               TICKET  SOCI_SOCI_ID    SUBCLASE\n0  202402152342235474        190674  1700020001\n1  202402152351136490       1788622  1700020001",
      "text/html": "<div>\n<style scoped>\n    .dataframe tbody tr th:only-of-type {\n        vertical-align: middle;\n    }\n\n    .dataframe tbody tr th {\n        vertical-align: top;\n    }\n\n    .dataframe thead th {\n        text-align: right;\n    }\n</style>\n<table border=\"1\" class=\"dataframe\">\n  <thead>\n    <tr style=\"text-align: right;\">\n      <th></th>\n      <th>TICKET</th>\n      <th>SOCI_SOCI_ID</th>\n      <th>SUBCLASE</th>\n    </tr>\n  </thead>\n  <tbody>\n    <tr>\n      <th>0</th>\n      <td>202402152342235474</td>\n      <td>190674</td>\n      <td>1700020001</td>\n    </tr>\n    <tr>\n      <th>1</th>\n      <td>202402152351136490</td>\n      <td>1788622</td>\n      <td>1700020001</td>\n    </tr>\n  </tbody>\n</table>\n</div>"
     },
     "execution_count": 33,
     "metadata": {},
     "output_type": "execute_result"
    }
   ],
   "source": [
    "query = '''\n",
    "SELECT\n",
    "    FFM.TICKET,\n",
    "    FFM.SOCI_SOCI_ID,\n",
    "    SUB.SUBCLASE\n",
    "FROM\n",
    "    MSTRDB.DWH.FT_VENTAS AS FV\n",
    "    INNER JOIN MSTRDB.DWH.FT_FDLN_MOVIMIENTOS AS FFM ON FV.TICKET = FFM.TICKET\n",
    "    INNER JOIN MSTRDB.DWH.LU_ARTC_ARTICULO AS LAA ON FV.ARTC_ARTC_ID = LAA.ARTC_ARTC_ID\n",
    "    INNER JOIN MSTRDB.DWH.ITEM_MASTER AS IM ON IM.ITEM = LAA.ORIN\n",
    "    INNER JOIN MSTRDB.DWH.SUBCLASS AS SUB ON SUB.SUBCLASE = IM.SUBCLASE\n",
    "WHERE\n",
    "    SUB.SUBCLASE IN {subclases_snow}\n",
    "    AND FFM.TIEM_DIA_ID BETWEEN '{fecha_snow}' AND DATEADD(DAY, 7, '{fecha_snow}')\n",
    "'''\n",
    "\n",
    "cursor.execute(query.format(\n",
    "    subclases_snow = tuple(abandonador['SUBCLASE'].unique()),\n",
    "    fecha_snow = fecha_ofertata\n",
    "    ))\n",
    "volvieron_subclase = cursor.fetch_pandas_all()\n",
    "\n",
    "volvieron_subclase.head(2)"
   ],
   "metadata": {
    "collapsed": false
   }
  },
  {
   "cell_type": "code",
   "execution_count": 35,
   "outputs": [
    {
     "name": "stdout",
     "output_type": "stream",
     "text": [
      "96553\n",
      "3951\n",
      "2221\n"
     ]
    }
   ],
   "source": [
    "print(volvieron_subclase.shape[0])\n",
    "volvieron_subclase_2 = volvieron_subclase[(volvieron_subclase['SOCI_SOCI_ID'].isin(abandonador['SOCI_SOCI_ID'])) & (volvieron_subclase['SUBCLASE'].isin(abandonador['SUBCLASE']))]\n",
    "print(volvieron_subclase_2.shape[0])\n",
    "print(volvieron_subclase_2['SOCI_SOCI_ID'].nunique())"
   ],
   "metadata": {
    "collapsed": false
   }
  },
  {
   "cell_type": "code",
   "execution_count": 97,
   "outputs": [
    {
     "data": {
      "text/plain": "                                SUB_NAME    SUBCLASE  COMPRARON  IMPACTADOS  \\\n1                                   SOJA  1100010006        484       21779   \n2                   MAYONESA TRADICIONAL  1200010004        452       21656   \n3                               AL HUEVO  1700020001        486       24051   \n4                  JAMON COCIDO AL CORTE  4000030002        586       26147   \n0                               BONDIOLA  1000030001        373       25553   \n5  LIMPIADORES LIQUIDOS MULTISUPERFICIES  8900060002        451       25591   \n\n   RATIO  \n1      2  \n2      2  \n3      2  \n4      2  \n0      1  \n5      1  ",
      "text/html": "<div>\n<style scoped>\n    .dataframe tbody tr th:only-of-type {\n        vertical-align: middle;\n    }\n\n    .dataframe tbody tr th {\n        vertical-align: top;\n    }\n\n    .dataframe thead th {\n        text-align: right;\n    }\n</style>\n<table border=\"1\" class=\"dataframe\">\n  <thead>\n    <tr style=\"text-align: right;\">\n      <th></th>\n      <th>SUB_NAME</th>\n      <th>SUBCLASE</th>\n      <th>COMPRARON</th>\n      <th>IMPACTADOS</th>\n      <th>RATIO</th>\n    </tr>\n  </thead>\n  <tbody>\n    <tr>\n      <th>1</th>\n      <td>SOJA</td>\n      <td>1100010006</td>\n      <td>484</td>\n      <td>21779</td>\n      <td>2</td>\n    </tr>\n    <tr>\n      <th>2</th>\n      <td>MAYONESA TRADICIONAL</td>\n      <td>1200010004</td>\n      <td>452</td>\n      <td>21656</td>\n      <td>2</td>\n    </tr>\n    <tr>\n      <th>3</th>\n      <td>AL HUEVO</td>\n      <td>1700020001</td>\n      <td>486</td>\n      <td>24051</td>\n      <td>2</td>\n    </tr>\n    <tr>\n      <th>4</th>\n      <td>JAMON COCIDO AL CORTE</td>\n      <td>4000030002</td>\n      <td>586</td>\n      <td>26147</td>\n      <td>2</td>\n    </tr>\n    <tr>\n      <th>0</th>\n      <td>BONDIOLA</td>\n      <td>1000030001</td>\n      <td>373</td>\n      <td>25553</td>\n      <td>1</td>\n    </tr>\n    <tr>\n      <th>5</th>\n      <td>LIMPIADORES LIQUIDOS MULTISUPERFICIES</td>\n      <td>8900060002</td>\n      <td>451</td>\n      <td>25591</td>\n      <td>1</td>\n    </tr>\n  </tbody>\n</table>\n</div>"
     },
     "execution_count": 97,
     "metadata": {},
     "output_type": "execute_result"
    }
   ],
   "source": [
    "# Compraron\n",
    "resumen_vinieron_2024_2 = volvieron_subclase_2.groupby('SUBCLASE')['SOCI_SOCI_ID'].nunique().reset_index()\n",
    "resumen_vinieron_2024_2.rename({'SOCI_SOCI_ID':'COMPRARON'}, axis = 1, inplace = True)\n",
    "\n",
    "# Impactados\n",
    "impactados_segm_5 = abandonador.groupby('SUBCLASE')['SOCI_SOCI_ID'].nunique().reset_index()\n",
    "impactados_segm_5.rename({'SOCI_SOCI_ID':'IMPACTADOS'}, axis = 1, inplace = True)\n",
    "\n",
    "# Consolido\n",
    "resumen_vinieron_2024_2 = resumen_vinieron_2024_2.merge(impactados_segm_5, on = 'SUBCLASE', how = 'inner')\n",
    "resumen_vinieron_2024_2['RATIO'] = (resumen_vinieron_2024_2['COMPRARON'] / resumen_vinieron_2024_2['IMPACTADOS'] * 100).astype(int)\n",
    "\n",
    "resumen_vinieron_2024_2 = resumen_vinieron_2024_2.merge(df[['SUB_NAME', 'SUBCLASE']].drop_duplicates(), on = 'SUBCLASE', how = 'inner')\n",
    "\n",
    "columns = resumen_vinieron_2024_2.columns.tolist()\n",
    "new_columns = [columns[-1]] + columns[:-1]\n",
    "resumen_vinieron_2024_2 = resumen_vinieron_2024_2[new_columns]\n",
    "\n",
    "resumen_vinieron_2024_2.sort_values(by = 'RATIO', ascending = False, inplace = True)\n",
    "resumen_vinieron_2024_2"
   ],
   "metadata": {
    "collapsed": false
   }
  },
  {
   "cell_type": "markdown",
   "source": [
    "### Conclusiones Impactados"
   ],
   "metadata": {
    "collapsed": false
   }
  },
  {
   "cell_type": "code",
   "execution_count": 100,
   "outputs": [
    {
     "name": "stdout",
     "output_type": "stream",
     "text": [
      "Los segmentos de Ofertata 7 fueron generados el 2024-02-15\n",
      "\n",
      "---- Abandonadores\n",
      "\n",
      "Comprende clientes que en los ultimos 30 dias no vengan a TATA y tengan Score 4 o 5 en la subclase\n",
      "De los 144777 clientes que cumplen dicho criterio, un 8% volvieron a TATA luego del Ofertata 7\n",
      "\n",
      "Asimismo, de los 144777 clientes, un 1% volvieron a TATA luego del Ofertata 7 y compraron la subclase que se les promociono, siendo 'SOJA' 'MAYONESA TRADICIONAL' 'AL HUEVO' las mejores subclases\n"
     ]
    }
   ],
   "source": [
    "a = abandonador['SOCI_SOCI_ID'].nunique()\n",
    "b = int(volvieron_general['SOCI_SOCI_ID'].nunique() / abandonador['SOCI_SOCI_ID'].nunique() * 100)\n",
    "c = int(volvieron_subclase_2['SOCI_SOCI_ID'].nunique() / abandonador['SOCI_SOCI_ID'].nunique() * 100)\n",
    "d = str(resumen_vinieron_2024_2.loc[:3, 'SUB_NAME'].values).replace('[', '').replace(']', '')\n",
    "\n",
    "print(f\"Los segmentos de {ofertata} fueron generados el {fecha_ofertata}\")\n",
    "print(\"\")\n",
    "print(\"---- Abandonadores\")\n",
    "print(\"\")\n",
    "print(f\"Comprende clientes que en los ultimos 30 dias no vengan a TATA y tengan Score 4 o 5 en la subclase\")\n",
    "print(f\"De los {a} clientes que cumplen dicho criterio, un {b}% volvieron a TATA luego del {ofertata}\")\n",
    "print(\"\")\n",
    "print(f\"Asimismo, de los {a} clientes, un {c}% volvieron a TATA luego del {ofertata} y compraron la subclase que se les promociono, siendo {d} las mejores subclases\")"
   ],
   "metadata": {
    "collapsed": false
   }
  },
  {
   "cell_type": "markdown",
   "source": [
    "## Venta y GB1"
   ],
   "metadata": {
    "collapsed": false
   }
  },
  {
   "cell_type": "code",
   "execution_count": 57,
   "outputs": [
    {
     "name": "stdout",
     "output_type": "stream",
     "text": [
      "Ventas en Miles: 84\n",
      "GB1 en Miles: 16\n"
     ]
    }
   ],
   "source": [
    "query = '''\n",
    "SELECT\n",
    "    FFM.SOCI_SOCI_ID,\n",
    "    FFM.SOCI_SOCI_ID || SUB.SUBCLASE AS K,\n",
    "    SUM(FV.VNTA_IMPORTE_SIN_IVA) AS VENTAS,\n",
    "    SUM(FV.VNTA_IMPORTE_SIN_IVA) - SUM(FV.VNTA_UNIDADES * FV.VNTA_COSTO_PROM_POND) AS GB1\n",
    "FROM\n",
    "    MSTRDB.DWH.FT_FDLN_MOVIMIENTOS AS FFM\n",
    "    INNER JOIN MSTRDB.DWH.FT_VENTAS AS FV ON FV.TICKET = FFM.TICKET\n",
    "    INNER JOIN MSTRDB.DWH.LU_ARTC_ARTICULO AS LAA ON LAA.ARTC_ARTC_ID = FV.ARTC_ARTC_ID\n",
    "    INNER JOIN MSTRDB.DWH.ITEM_MASTER AS IM ON IM.ITEM = LAA.ORIN\n",
    "    INNER JOIN MSTRDB.DWH.SUBCLASS AS SUB ON SUB.SUBCLASE = IM.SUBCLASE\n",
    "WHERE\n",
    "    FFM.TIEM_DIA_ID BETWEEN '{fecha_snow}' AND DATEADD(DAY, 7, '{fecha_snow}')\n",
    "    AND FFM.GEOG_LOCL_ID IN (SELECT GEOG_LOCL_ID FROM MSTRDB.DWH.LU_GEOG_LOCAL WHERE GEOG_UNNG_ID = 2)\n",
    "    AND SUB.SUBCLASE IN {subclases_snow}\n",
    "GROUP BY\n",
    "    ALL\n",
    "'''\n",
    "\n",
    "cursor.execute(query.format(\n",
    "    subclases_snow = tuple(abandonador['SUBCLASE'].unique()),\n",
    "    fecha_snow = fecha_ofertata\n",
    "    ))\n",
    "ventas_segm_5 = cursor.fetch_pandas_all()\n",
    "\n",
    "ventas_segm_5 = ventas_segm_5[ventas_segm_5['K'].isin(abandonador['K'])]\n",
    "\n",
    "print(f\"Ventas en Miles: {int(round(ventas_segm_5['VENTAS'].sum() / 1000, 0))}\")\n",
    "print(f\"GB1 en Miles: {int(round(ventas_segm_5['GB1'].sum() / 1000, 0))}\")"
   ],
   "metadata": {
    "collapsed": false
   }
  },
  {
   "cell_type": "markdown",
   "source": [
    "# Activos"
   ],
   "metadata": {
    "collapsed": false
   }
  },
  {
   "cell_type": "code",
   "execution_count": 89,
   "outputs": [],
   "source": [
    "# Para cada categoria (subclase) son los clientes activos que no compran la subclase y tienen score 5"
   ],
   "metadata": {
    "collapsed": false
   }
  },
  {
   "cell_type": "code",
   "execution_count": 90,
   "outputs": [],
   "source": [
    "activo = df[df['PERFIL_CLIENTE'] == 'ACTIVO']\n",
    "activo['K'] = activo['SOCI_SOCI_ID'].astype(str) + activo['SUBCLASE'].astype(str)"
   ],
   "metadata": {
    "collapsed": false
   }
  },
  {
   "cell_type": "code",
   "execution_count": 91,
   "outputs": [
    {
     "data": {
      "text/plain": "array([1700020001, 1000030001, 4000030002, 8900060002, 1200010004,\n       1100010006], dtype=int64)"
     },
     "execution_count": 91,
     "metadata": {},
     "output_type": "execute_result"
    }
   ],
   "source": [
    "activo['SUBCLASE'].unique()"
   ],
   "metadata": {
    "collapsed": false
   }
  },
  {
   "cell_type": "code",
   "execution_count": 92,
   "outputs": [
    {
     "data": {
      "text/plain": "               TICKET  SOCI_SOCI_ID    SUBCLASE\n0  202402169583354439        407266  1200010004\n1  202402169583354439        407266  8900060002",
      "text/html": "<div>\n<style scoped>\n    .dataframe tbody tr th:only-of-type {\n        vertical-align: middle;\n    }\n\n    .dataframe tbody tr th {\n        vertical-align: top;\n    }\n\n    .dataframe thead th {\n        text-align: right;\n    }\n</style>\n<table border=\"1\" class=\"dataframe\">\n  <thead>\n    <tr style=\"text-align: right;\">\n      <th></th>\n      <th>TICKET</th>\n      <th>SOCI_SOCI_ID</th>\n      <th>SUBCLASE</th>\n    </tr>\n  </thead>\n  <tbody>\n    <tr>\n      <th>0</th>\n      <td>202402169583354439</td>\n      <td>407266</td>\n      <td>1200010004</td>\n    </tr>\n    <tr>\n      <th>1</th>\n      <td>202402169583354439</td>\n      <td>407266</td>\n      <td>8900060002</td>\n    </tr>\n  </tbody>\n</table>\n</div>"
     },
     "execution_count": 92,
     "metadata": {},
     "output_type": "execute_result"
    }
   ],
   "source": [
    "query = '''\n",
    "SELECT\n",
    "    FFM.TICKET,\n",
    "    FFM.SOCI_SOCI_ID,\n",
    "    SUB.SUBCLASE\n",
    "FROM\n",
    "    MSTRDB.DWH.FT_VENTAS AS FV\n",
    "    INNER JOIN MSTRDB.DWH.FT_FDLN_MOVIMIENTOS AS FFM ON FV.TICKET = FFM.TICKET\n",
    "    INNER JOIN MSTRDB.DWH.LU_ARTC_ARTICULO AS LAA ON FV.ARTC_ARTC_ID = LAA.ARTC_ARTC_ID\n",
    "    INNER JOIN MSTRDB.DWH.ITEM_MASTER AS IM ON IM.ITEM = LAA.ORIN\n",
    "    INNER JOIN MSTRDB.DWH.SUBCLASS AS SUB ON SUB.SUBCLASE = IM.SUBCLASE\n",
    "WHERE\n",
    "    FFM.TIEM_DIA_ID BETWEEN '{fecha_snow}' AND DATEADD(DAY, 7, '{fecha_snow}')\n",
    "    AND SUB.SUBCLASE IN {subclases_snow}\n",
    "'''\n",
    "\n",
    "cursor.execute(query.format(\n",
    "    subclases_snow = tuple(abandonador['SUBCLASE'].unique()),\n",
    "    fecha_snow = fecha_ofertata\n",
    "))\n",
    "volvieron_subclase_segm_3 = cursor.fetch_pandas_all()\n",
    "\n",
    "volvieron_subclase_segm_3.head(2)"
   ],
   "metadata": {
    "collapsed": false
   }
  },
  {
   "cell_type": "code",
   "execution_count": 93,
   "outputs": [
    {
     "name": "stdout",
     "output_type": "stream",
     "text": [
      "96553\n",
      "49747\n",
      "27632\n"
     ]
    }
   ],
   "source": [
    "print(volvieron_subclase_segm_3.shape[0])\n",
    "volvieron_subclase_segm_3_version_2 = volvieron_subclase_segm_3[(volvieron_subclase_segm_3['SOCI_SOCI_ID'].isin(activo['SOCI_SOCI_ID'])) & (volvieron_subclase_segm_3['SUBCLASE'].isin(activo['SUBCLASE']))]\n",
    "print(volvieron_subclase_segm_3_version_2.shape[0])\n",
    "print(volvieron_subclase_segm_3_version_2['SOCI_SOCI_ID'].nunique())"
   ],
   "metadata": {
    "collapsed": false
   }
  },
  {
   "cell_type": "code",
   "execution_count": 101,
   "outputs": [
    {
     "data": {
      "text/plain": "                                SUB_NAME    SUBCLASE  COMPRARON  IMPACTADOS  \\\n4                  JAMON COCIDO AL CORTE  4000030002       9165       27662   \n2                   MAYONESA TRADICIONAL  1200010004       5875       20091   \n3                               AL HUEVO  1700020001       6649       23654   \n5  LIMPIADORES LIQUIDOS MULTISUPERFICIES  8900060002       5659       25114   \n1                                   SOJA  1100010006       5178       27511   \n0                               BONDIOLA  1000030001       4067       33772   \n\n   RATIO  \n4     33  \n2     29  \n3     28  \n5     22  \n1     18  \n0     12  ",
      "text/html": "<div>\n<style scoped>\n    .dataframe tbody tr th:only-of-type {\n        vertical-align: middle;\n    }\n\n    .dataframe tbody tr th {\n        vertical-align: top;\n    }\n\n    .dataframe thead th {\n        text-align: right;\n    }\n</style>\n<table border=\"1\" class=\"dataframe\">\n  <thead>\n    <tr style=\"text-align: right;\">\n      <th></th>\n      <th>SUB_NAME</th>\n      <th>SUBCLASE</th>\n      <th>COMPRARON</th>\n      <th>IMPACTADOS</th>\n      <th>RATIO</th>\n    </tr>\n  </thead>\n  <tbody>\n    <tr>\n      <th>4</th>\n      <td>JAMON COCIDO AL CORTE</td>\n      <td>4000030002</td>\n      <td>9165</td>\n      <td>27662</td>\n      <td>33</td>\n    </tr>\n    <tr>\n      <th>2</th>\n      <td>MAYONESA TRADICIONAL</td>\n      <td>1200010004</td>\n      <td>5875</td>\n      <td>20091</td>\n      <td>29</td>\n    </tr>\n    <tr>\n      <th>3</th>\n      <td>AL HUEVO</td>\n      <td>1700020001</td>\n      <td>6649</td>\n      <td>23654</td>\n      <td>28</td>\n    </tr>\n    <tr>\n      <th>5</th>\n      <td>LIMPIADORES LIQUIDOS MULTISUPERFICIES</td>\n      <td>8900060002</td>\n      <td>5659</td>\n      <td>25114</td>\n      <td>22</td>\n    </tr>\n    <tr>\n      <th>1</th>\n      <td>SOJA</td>\n      <td>1100010006</td>\n      <td>5178</td>\n      <td>27511</td>\n      <td>18</td>\n    </tr>\n    <tr>\n      <th>0</th>\n      <td>BONDIOLA</td>\n      <td>1000030001</td>\n      <td>4067</td>\n      <td>33772</td>\n      <td>12</td>\n    </tr>\n  </tbody>\n</table>\n</div>"
     },
     "execution_count": 101,
     "metadata": {},
     "output_type": "execute_result"
    }
   ],
   "source": [
    "# Compraron\n",
    "volvieron_subclase_segm_3_version_2_resumen = volvieron_subclase_segm_3_version_2.groupby('SUBCLASE')['SOCI_SOCI_ID'].nunique().reset_index()\n",
    "volvieron_subclase_segm_3_version_2_resumen.rename({'SOCI_SOCI_ID':'COMPRARON'}, axis = 1, inplace = True)\n",
    "\n",
    "# Impactados\n",
    "impactados_segm_3 = activo.groupby('SUBCLASE')['SOCI_SOCI_ID'].nunique().reset_index()\n",
    "impactados_segm_3.rename({'SOCI_SOCI_ID':'IMPACTADOS'}, axis = 1, inplace = True)\n",
    "\n",
    "# Consolido\n",
    "volvieron_subclase_segm_3_version_2_resumen = volvieron_subclase_segm_3_version_2_resumen.merge(impactados_segm_3, on = 'SUBCLASE', how = 'inner')\n",
    "volvieron_subclase_segm_3_version_2_resumen['RATIO'] = (volvieron_subclase_segm_3_version_2_resumen['COMPRARON'] / volvieron_subclase_segm_3_version_2_resumen['IMPACTADOS'] * 100).astype(int)\n",
    "\n",
    "volvieron_subclase_segm_3_version_2_resumen = volvieron_subclase_segm_3_version_2_resumen.merge(df[['SUB_NAME', 'SUBCLASE']].drop_duplicates(), on = 'SUBCLASE', how = 'inner')\n",
    "\n",
    "columns = volvieron_subclase_segm_3_version_2_resumen.columns.tolist()\n",
    "new_columns = [columns[-1]] + columns[:-1]\n",
    "volvieron_subclase_segm_3_version_2_resumen = volvieron_subclase_segm_3_version_2_resumen[new_columns]\n",
    "\n",
    "volvieron_subclase_segm_3_version_2_resumen.sort_values(by = 'RATIO', ascending = False, inplace = True)\n",
    "volvieron_subclase_segm_3_version_2_resumen"
   ],
   "metadata": {
    "collapsed": false
   }
  },
  {
   "cell_type": "code",
   "execution_count": 103,
   "outputs": [
    {
     "name": "stdout",
     "output_type": "stream",
     "text": [
      "---- Activos\n",
      "\n",
      "Comprende a los clientes activos que no compran la subclase y tienen score 5 en la misma\n",
      "\n",
      "De los 157804 clientes que cumplen dicho criterio, un 17% volvieron a TATA luego del Ofertata 7 y compraron la subclase que se les promociono, siendo 'JAMON COCIDO AL CORTE' 'MAYONESA TRADICIONAL' 'AL HUEVO' las mejores subclases\n"
     ]
    }
   ],
   "source": [
    "a = activo['SOCI_SOCI_ID'].nunique()\n",
    "b = int(volvieron_subclase_segm_3_version_2['SOCI_SOCI_ID'].nunique() / activo['SOCI_SOCI_ID'].nunique() * 100)\n",
    "c = str(volvieron_subclase_segm_3_version_2_resumen.loc[:3, 'SUB_NAME'].values).replace('[', '').replace(']', '')\n",
    "\n",
    "print(\"---- Activos\")\n",
    "print(\"\")\n",
    "print(f\"Comprende a los clientes activos que no compran la subclase y tienen score 5 en la misma\")\n",
    "print(\"\")\n",
    "print(f\"De los {a} clientes que cumplen dicho criterio, un {b}% volvieron a TATA luego del {ofertata} y compraron la subclase que se les promociono, siendo {c} las mejores subclases\")"
   ],
   "metadata": {
    "collapsed": false
   }
  },
  {
   "cell_type": "markdown",
   "source": [
    "## Venta y GB1"
   ],
   "metadata": {
    "collapsed": false
   }
  },
  {
   "cell_type": "code",
   "execution_count": 109,
   "outputs": [
    {
     "name": "stdout",
     "output_type": "stream",
     "text": [
      "Ventas en Miles: 347\n",
      "GB1 en Miles: 56\n"
     ]
    }
   ],
   "source": [
    "query = '''\n",
    "SELECT\n",
    "    FFM.SOCI_SOCI_ID,\n",
    "    FFM.SOCI_SOCI_ID || SUB.SUBCLASE AS K,\n",
    "    SUM(FV.VNTA_IMPORTE_SIN_IVA) AS VENTAS,\n",
    "    SUM(FV.VNTA_IMPORTE_SIN_IVA) - SUM(FV.VNTA_UNIDADES * FV.VNTA_COSTO_PROM_POND) AS GB1\n",
    "FROM\n",
    "    MSTRDB.DWH.FT_FDLN_MOVIMIENTOS AS FFM\n",
    "    INNER JOIN MSTRDB.DWH.FT_VENTAS AS FV ON FV.TICKET = FFM.TICKET\n",
    "    INNER JOIN MSTRDB.DWH.LU_ARTC_ARTICULO AS LAA ON LAA.ARTC_ARTC_ID = FV.ARTC_ARTC_ID\n",
    "    INNER JOIN MSTRDB.DWH.ITEM_MASTER AS IM ON IM.ITEM = LAA.ORIN\n",
    "    INNER JOIN MSTRDB.DWH.SUBCLASS AS SUB ON SUB.SUBCLASE = IM.SUBCLASE\n",
    "WHERE\n",
    "    FFM.TIEM_DIA_ID BETWEEN '{fecha_snow}' AND DATEADD(DAY, 7, '{fecha_snow}')\n",
    "    AND FFM.GEOG_LOCL_ID IN (SELECT GEOG_LOCL_ID FROM MSTRDB.DWH.LU_GEOG_LOCAL WHERE GEOG_UNNG_ID = 2)\n",
    "    AND SUB.SUBCLASE IN {subclases_snow}\n",
    "GROUP BY\n",
    "    ALL\n",
    "'''\n",
    "\n",
    "cursor.execute(query.format(\n",
    "    subclases_snow = tuple(abandonador['SUBCLASE'].unique()),\n",
    "    fecha_snow = fecha_ofertata\n",
    "    ))\n",
    "ventas_segm_3 = cursor.fetch_pandas_all()\n",
    "\n",
    "ventas_segm_3 = ventas_segm_3[ventas_segm_3['K'].isin(activo['K'])]\n",
    "\n",
    "print(f\"Ventas en Miles: {int(round(ventas_segm_3['VENTAS'].sum() / 1000, 0))}\")\n",
    "print(f\"GB1 en Miles: {int(round(ventas_segm_3['GB1'].sum() / 1000, 0))}\")"
   ],
   "metadata": {
    "collapsed": false
   }
  },
  {
   "cell_type": "markdown",
   "source": [
    "# Fin"
   ],
   "metadata": {
    "collapsed": false
   },
   "execution_count": 1
  }
 ],
 "metadata": {
  "colab": {
   "collapsed_sections": [],
   "provenance": []
  },
  "kernelspec": {
   "display_name": "Python 3.9.12 ('env')",
   "language": "python",
   "name": "python3"
  },
  "language_info": {
   "codemirror_mode": {
    "name": "ipython",
    "version": 3
   },
   "file_extension": ".py",
   "mimetype": "text/x-python",
   "name": "python",
   "nbconvert_exporter": "python",
   "pygments_lexer": "ipython3",
   "version": "3.9.12"
  },
  "orig_nbformat": 4,
  "vscode": {
   "interpreter": {
    "hash": "1c19c5efd8f4b93ccbd4006c6f9f93fa19f57b77bfb4a2e5dfb55a2b8dd9ae6c"
   }
  }
 },
 "nbformat": 4,
 "nbformat_minor": 0
}
