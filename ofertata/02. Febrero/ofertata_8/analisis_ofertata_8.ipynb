{
 "cells": [
  {
   "cell_type": "markdown",
   "source": [
    "# Importamos librerias"
   ],
   "metadata": {
    "collapsed": false
   }
  },
  {
   "cell_type": "code",
   "execution_count": 1,
   "metadata": {
    "id": "tKk581G_hMT0"
   },
   "outputs": [],
   "source": [
    "import pandas as pd\n",
    "import numpy as np\n",
    "import os\n",
    "import snowflake.connector\n",
    "import json\n",
    "from snowflake.connector.pandas_tools import write_pandas\n",
    "from datetime import datetime\n",
    "from datetime import timedelta\n",
    "from dateutil.relativedelta import relativedelta\n",
    "pd.options.mode.chained_assignment = None"
   ]
  },
  {
   "cell_type": "code",
   "execution_count": 2,
   "metadata": {
    "colab": {
     "base_uri": "https://localhost:8080/"
    },
    "id": "ChvQTwl1D-Ls",
    "outputId": "351b443f-8ebf-4a34-f7ba-93fb012f5082"
   },
   "outputs": [
    {
     "name": "stdout",
     "output_type": "stream",
     "text": [
      "Connected\n"
     ]
    }
   ],
   "source": [
    "while True:\n",
    "    try:\n",
    "\n",
    "        f = open('credentials.json')\n",
    "        data_pass = json.load(f)\n",
    "\n",
    "        pass_ = input(\"INGRESAR PASSCODE:\")\n",
    "\n",
    "        ctx = snowflake.connector.connect(\n",
    "            user = data_pass['snow']['USER'],\n",
    "            password = data_pass['snow']['PASS'],\n",
    "            account = data_pass['snow']['ACCOUNT'],\n",
    "            passcode = pass_,\n",
    "            database = 'SANDBOX_PLUS',\n",
    "            schema = 'DWH'\n",
    "        )\n",
    "\n",
    "        cursor = ctx.cursor()\n",
    "\n",
    "        print('Connected')\n",
    "\n",
    "        break\n",
    "\n",
    "    except:\n",
    "        print('Incorrect Password - provide again')"
   ]
  },
  {
   "cell_type": "markdown",
   "source": [
    "# Segmentos"
   ],
   "metadata": {
    "collapsed": false
   }
  },
  {
   "cell_type": "code",
   "execution_count": 5,
   "outputs": [
    {
     "data": {
      "text/plain": "     OFERTATA       FECHA PERFIL_CLIENTE  SOCI_SOCI_ID    SUBCLASE  \\\n0  Ofertata 8  2024-02-22    ABANDONADOR        969663  1800010007   \n1  Ofertata 8  2024-02-22    ABANDONADOR       1370248  1800010007   \n\n      SUB_NAME  \n0  NO RELLENAS  \n1  NO RELLENAS  ",
      "text/html": "<div>\n<style scoped>\n    .dataframe tbody tr th:only-of-type {\n        vertical-align: middle;\n    }\n\n    .dataframe tbody tr th {\n        vertical-align: top;\n    }\n\n    .dataframe thead th {\n        text-align: right;\n    }\n</style>\n<table border=\"1\" class=\"dataframe\">\n  <thead>\n    <tr style=\"text-align: right;\">\n      <th></th>\n      <th>OFERTATA</th>\n      <th>FECHA</th>\n      <th>PERFIL_CLIENTE</th>\n      <th>SOCI_SOCI_ID</th>\n      <th>SUBCLASE</th>\n      <th>SUB_NAME</th>\n    </tr>\n  </thead>\n  <tbody>\n    <tr>\n      <th>0</th>\n      <td>Ofertata 8</td>\n      <td>2024-02-22</td>\n      <td>ABANDONADOR</td>\n      <td>969663</td>\n      <td>1800010007</td>\n      <td>NO RELLENAS</td>\n    </tr>\n    <tr>\n      <th>1</th>\n      <td>Ofertata 8</td>\n      <td>2024-02-22</td>\n      <td>ABANDONADOR</td>\n      <td>1370248</td>\n      <td>1800010007</td>\n      <td>NO RELLENAS</td>\n    </tr>\n  </tbody>\n</table>\n</div>"
     },
     "execution_count": 5,
     "metadata": {},
     "output_type": "execute_result"
    }
   ],
   "source": [
    "query = '''\n",
    "SELECT\n",
    "    DISTINCT\n",
    "    SO.OFERTATA,\n",
    "    SO.FECHA,\n",
    "    SO.PERFIL_CLIENTE,\n",
    "    SO.SOCI_SOCI_ID,\n",
    "    SO.SUBCLASE,\n",
    "    SUB.SUB_NAME\n",
    "FROM\n",
    "    SANDBOX_PLUS.DWH.SEGMENTOS_OFERTATA AS SO\n",
    "    INNER JOIN MSTRDB.DWH.SUBCLASS AS SUB ON SUB.SUBCLASE = SO.SUBCLASE\n",
    "WHERE\n",
    "    SO.OFERTATA ILIKE '%8%'\n",
    "'''\n",
    "\n",
    "cursor.execute(query)\n",
    "df = cursor.fetch_pandas_all()\n",
    "df.head(2)"
   ],
   "metadata": {
    "collapsed": false
   }
  },
  {
   "cell_type": "code",
   "execution_count": 6,
   "outputs": [
    {
     "data": {
      "text/plain": "datetime.date(2024, 2, 22)"
     },
     "execution_count": 6,
     "metadata": {},
     "output_type": "execute_result"
    }
   ],
   "source": [
    "fecha_ofertata = df.loc[0, 'FECHA']\n",
    "fecha_ofertata"
   ],
   "metadata": {
    "collapsed": false
   }
  },
  {
   "cell_type": "code",
   "execution_count": 7,
   "outputs": [
    {
     "data": {
      "text/plain": "'Ofertata 8'"
     },
     "execution_count": 7,
     "metadata": {},
     "output_type": "execute_result"
    }
   ],
   "source": [
    "ofertata = df.loc[0, 'OFERTATA']\n",
    "ofertata"
   ],
   "metadata": {
    "collapsed": false
   }
  },
  {
   "cell_type": "code",
   "execution_count": 8,
   "outputs": [
    {
     "data": {
      "text/plain": "ABANDONADOR    353719\nACTIVO         153153\nName: PERFIL_CLIENTE, dtype: int64"
     },
     "execution_count": 8,
     "metadata": {},
     "output_type": "execute_result"
    }
   ],
   "source": [
    "df['PERFIL_CLIENTE'].value_counts()"
   ],
   "metadata": {
    "collapsed": false
   }
  },
  {
   "cell_type": "markdown",
   "source": [
    "# Abandonadores"
   ],
   "metadata": {
    "collapsed": false
   }
  },
  {
   "cell_type": "code",
   "execution_count": 9,
   "outputs": [],
   "source": [
    "# Clientes que en el ultimo mes no vengan a tata y tengan Score 5 en la subclase"
   ],
   "metadata": {
    "collapsed": false
   }
  },
  {
   "cell_type": "code",
   "execution_count": 10,
   "outputs": [
    {
     "data": {
      "text/plain": "     OFERTATA       FECHA PERFIL_CLIENTE  SOCI_SOCI_ID    SUBCLASE  \\\n0  Ofertata 8  2024-02-22    ABANDONADOR        969663  1800010007   \n1  Ofertata 8  2024-02-22    ABANDONADOR       1370248  1800010007   \n\n      SUB_NAME                  K  \n0  NO RELLENAS   9696631800010007  \n1  NO RELLENAS  13702481800010007  ",
      "text/html": "<div>\n<style scoped>\n    .dataframe tbody tr th:only-of-type {\n        vertical-align: middle;\n    }\n\n    .dataframe tbody tr th {\n        vertical-align: top;\n    }\n\n    .dataframe thead th {\n        text-align: right;\n    }\n</style>\n<table border=\"1\" class=\"dataframe\">\n  <thead>\n    <tr style=\"text-align: right;\">\n      <th></th>\n      <th>OFERTATA</th>\n      <th>FECHA</th>\n      <th>PERFIL_CLIENTE</th>\n      <th>SOCI_SOCI_ID</th>\n      <th>SUBCLASE</th>\n      <th>SUB_NAME</th>\n      <th>K</th>\n    </tr>\n  </thead>\n  <tbody>\n    <tr>\n      <th>0</th>\n      <td>Ofertata 8</td>\n      <td>2024-02-22</td>\n      <td>ABANDONADOR</td>\n      <td>969663</td>\n      <td>1800010007</td>\n      <td>NO RELLENAS</td>\n      <td>9696631800010007</td>\n    </tr>\n    <tr>\n      <th>1</th>\n      <td>Ofertata 8</td>\n      <td>2024-02-22</td>\n      <td>ABANDONADOR</td>\n      <td>1370248</td>\n      <td>1800010007</td>\n      <td>NO RELLENAS</td>\n      <td>13702481800010007</td>\n    </tr>\n  </tbody>\n</table>\n</div>"
     },
     "execution_count": 10,
     "metadata": {},
     "output_type": "execute_result"
    }
   ],
   "source": [
    "abandonador = df[df['PERFIL_CLIENTE'] == 'ABANDONADOR']\n",
    "abandonador['K'] = abandonador['SOCI_SOCI_ID'].astype(str) + abandonador['SUBCLASE'].astype(str)\n",
    "abandonador.head(2)"
   ],
   "metadata": {
    "collapsed": false
   }
  },
  {
   "cell_type": "markdown",
   "source": [
    "## Impactados"
   ],
   "metadata": {
    "collapsed": false
   }
  },
  {
   "cell_type": "markdown",
   "source": [
    "### A. Vinieron a TATA"
   ],
   "metadata": {
    "collapsed": false
   }
  },
  {
   "cell_type": "code",
   "execution_count": 11,
   "outputs": [
    {
     "name": "stdout",
     "output_type": "stream",
     "text": [
      "14503\n"
     ]
    },
    {
     "data": {
      "text/plain": "     SOCI_SOCI_ID\n12        1684804\n138        388988",
      "text/html": "<div>\n<style scoped>\n    .dataframe tbody tr th:only-of-type {\n        vertical-align: middle;\n    }\n\n    .dataframe tbody tr th {\n        vertical-align: top;\n    }\n\n    .dataframe thead th {\n        text-align: right;\n    }\n</style>\n<table border=\"1\" class=\"dataframe\">\n  <thead>\n    <tr style=\"text-align: right;\">\n      <th></th>\n      <th>SOCI_SOCI_ID</th>\n    </tr>\n  </thead>\n  <tbody>\n    <tr>\n      <th>12</th>\n      <td>1684804</td>\n    </tr>\n    <tr>\n      <th>138</th>\n      <td>388988</td>\n    </tr>\n  </tbody>\n</table>\n</div>"
     },
     "execution_count": 11,
     "metadata": {},
     "output_type": "execute_result"
    }
   ],
   "source": [
    "query = '''\n",
    "SELECT\n",
    "    DISTINCT FFM.SOCI_SOCI_ID\n",
    "FROM\n",
    "    MSTRDB.DWH.FT_FDLN_MOVIMIENTOS AS FFM\n",
    "WHERE\n",
    "    FFM.TIEM_DIA_ID BETWEEN '{fecha_snow}' AND DATEADD(DAY, 7, '{fecha_snow}')\n",
    "    AND FFM.GEOG_LOCL_ID IN (SELECT GEOG_LOCL_ID FROM MSTRDB.DWH.LU_GEOG_LOCAL WHERE GEOG_UNNG_ID = 2)\n",
    "'''\n",
    "\n",
    "cursor.execute(query.format(fecha_snow = fecha_ofertata))\n",
    "volvieron_general = cursor.fetch_pandas_all()\n",
    "volvieron_general = volvieron_general[volvieron_general['SOCI_SOCI_ID'].isin(abandonador['SOCI_SOCI_ID'])]\n",
    "print(volvieron_general['SOCI_SOCI_ID'].nunique())\n",
    "volvieron_general.head(2)"
   ],
   "metadata": {
    "collapsed": false
   }
  },
  {
   "cell_type": "markdown",
   "source": [
    "### B. Vinieron en 2024 y consumieron alguna de las SUBCLASE"
   ],
   "metadata": {
    "collapsed": false
   }
  },
  {
   "cell_type": "code",
   "execution_count": 12,
   "outputs": [
    {
     "data": {
      "text/plain": "               TICKET  SOCI_SOCI_ID   SUBCLASE\n0  202402241408266265        164067  200010002\n1  202402241408266230        978610  200010002",
      "text/html": "<div>\n<style scoped>\n    .dataframe tbody tr th:only-of-type {\n        vertical-align: middle;\n    }\n\n    .dataframe tbody tr th {\n        vertical-align: top;\n    }\n\n    .dataframe thead th {\n        text-align: right;\n    }\n</style>\n<table border=\"1\" class=\"dataframe\">\n  <thead>\n    <tr style=\"text-align: right;\">\n      <th></th>\n      <th>TICKET</th>\n      <th>SOCI_SOCI_ID</th>\n      <th>SUBCLASE</th>\n    </tr>\n  </thead>\n  <tbody>\n    <tr>\n      <th>0</th>\n      <td>202402241408266265</td>\n      <td>164067</td>\n      <td>200010002</td>\n    </tr>\n    <tr>\n      <th>1</th>\n      <td>202402241408266230</td>\n      <td>978610</td>\n      <td>200010002</td>\n    </tr>\n  </tbody>\n</table>\n</div>"
     },
     "execution_count": 12,
     "metadata": {},
     "output_type": "execute_result"
    }
   ],
   "source": [
    "query = '''\n",
    "SELECT\n",
    "    FFM.TICKET,\n",
    "    FFM.SOCI_SOCI_ID,\n",
    "    SUB.SUBCLASE\n",
    "FROM\n",
    "    MSTRDB.DWH.FT_VENTAS AS FV\n",
    "    INNER JOIN MSTRDB.DWH.FT_FDLN_MOVIMIENTOS AS FFM ON FV.TICKET = FFM.TICKET\n",
    "    INNER JOIN MSTRDB.DWH.LU_ARTC_ARTICULO AS LAA ON FV.ARTC_ARTC_ID = LAA.ARTC_ARTC_ID\n",
    "    INNER JOIN MSTRDB.DWH.ITEM_MASTER AS IM ON IM.ITEM = LAA.ORIN\n",
    "    INNER JOIN MSTRDB.DWH.SUBCLASS AS SUB ON SUB.SUBCLASE = IM.SUBCLASE\n",
    "WHERE\n",
    "    SUB.SUBCLASE IN {subclases_snow}\n",
    "    AND FFM.TIEM_DIA_ID BETWEEN '{fecha_snow}' AND DATEADD(DAY, 7, '{fecha_snow}')\n",
    "'''\n",
    "\n",
    "cursor.execute(query.format(\n",
    "    subclases_snow = tuple(abandonador['SUBCLASE'].unique()),\n",
    "    fecha_snow = fecha_ofertata\n",
    "    ))\n",
    "volvieron_subclase = cursor.fetch_pandas_all()\n",
    "\n",
    "volvieron_subclase.head(2)"
   ],
   "metadata": {
    "collapsed": false
   }
  },
  {
   "cell_type": "code",
   "execution_count": 13,
   "outputs": [
    {
     "name": "stdout",
     "output_type": "stream",
     "text": [
      "202618\n",
      "6600\n",
      "3539\n"
     ]
    }
   ],
   "source": [
    "print(volvieron_subclase.shape[0])\n",
    "volvieron_subclase_2 = volvieron_subclase[(volvieron_subclase['SOCI_SOCI_ID'].isin(abandonador['SOCI_SOCI_ID'])) & (volvieron_subclase['SUBCLASE'].isin(abandonador['SUBCLASE']))]\n",
    "print(volvieron_subclase_2.shape[0])\n",
    "print(volvieron_subclase_2['SOCI_SOCI_ID'].nunique())"
   ],
   "metadata": {
    "collapsed": false
   }
  },
  {
   "cell_type": "code",
   "execution_count": 14,
   "outputs": [
    {
     "data": {
      "text/plain": "                                SUB_NAME    SUBCLASE  COMPRARON  IMPACTADOS  \\\n3                            NO RELLENAS  1800010007       1525       50841   \n0                           AGUA CON GAS   200010001        493       48967   \n1                           AGUA SIN GAS   200010002        885       49010   \n2                                 CANOLA  1100010002        287       53079   \n4                    ARTESANALES SALADAS  1800020002        263       48376   \n5         HAMBURGUESAS VACUNA INDIVIDUAL  2900020002        360       50013   \n6  JABONES DETERGENTE LIQUIDOS PARA ROPA  8800030003        517       53433   \n\n   RATIO  \n3      2  \n0      1  \n1      1  \n2      0  \n4      0  \n5      0  \n6      0  ",
      "text/html": "<div>\n<style scoped>\n    .dataframe tbody tr th:only-of-type {\n        vertical-align: middle;\n    }\n\n    .dataframe tbody tr th {\n        vertical-align: top;\n    }\n\n    .dataframe thead th {\n        text-align: right;\n    }\n</style>\n<table border=\"1\" class=\"dataframe\">\n  <thead>\n    <tr style=\"text-align: right;\">\n      <th></th>\n      <th>SUB_NAME</th>\n      <th>SUBCLASE</th>\n      <th>COMPRARON</th>\n      <th>IMPACTADOS</th>\n      <th>RATIO</th>\n    </tr>\n  </thead>\n  <tbody>\n    <tr>\n      <th>3</th>\n      <td>NO RELLENAS</td>\n      <td>1800010007</td>\n      <td>1525</td>\n      <td>50841</td>\n      <td>2</td>\n    </tr>\n    <tr>\n      <th>0</th>\n      <td>AGUA CON GAS</td>\n      <td>200010001</td>\n      <td>493</td>\n      <td>48967</td>\n      <td>1</td>\n    </tr>\n    <tr>\n      <th>1</th>\n      <td>AGUA SIN GAS</td>\n      <td>200010002</td>\n      <td>885</td>\n      <td>49010</td>\n      <td>1</td>\n    </tr>\n    <tr>\n      <th>2</th>\n      <td>CANOLA</td>\n      <td>1100010002</td>\n      <td>287</td>\n      <td>53079</td>\n      <td>0</td>\n    </tr>\n    <tr>\n      <th>4</th>\n      <td>ARTESANALES SALADAS</td>\n      <td>1800020002</td>\n      <td>263</td>\n      <td>48376</td>\n      <td>0</td>\n    </tr>\n    <tr>\n      <th>5</th>\n      <td>HAMBURGUESAS VACUNA INDIVIDUAL</td>\n      <td>2900020002</td>\n      <td>360</td>\n      <td>50013</td>\n      <td>0</td>\n    </tr>\n    <tr>\n      <th>6</th>\n      <td>JABONES DETERGENTE LIQUIDOS PARA ROPA</td>\n      <td>8800030003</td>\n      <td>517</td>\n      <td>53433</td>\n      <td>0</td>\n    </tr>\n  </tbody>\n</table>\n</div>"
     },
     "execution_count": 14,
     "metadata": {},
     "output_type": "execute_result"
    }
   ],
   "source": [
    "# Compraron\n",
    "resumen_vinieron_2024_2 = volvieron_subclase_2.groupby('SUBCLASE')['SOCI_SOCI_ID'].nunique().reset_index()\n",
    "resumen_vinieron_2024_2.rename({'SOCI_SOCI_ID':'COMPRARON'}, axis = 1, inplace = True)\n",
    "\n",
    "# Impactados\n",
    "impactados_segm_5 = abandonador.groupby('SUBCLASE')['SOCI_SOCI_ID'].nunique().reset_index()\n",
    "impactados_segm_5.rename({'SOCI_SOCI_ID':'IMPACTADOS'}, axis = 1, inplace = True)\n",
    "\n",
    "# Consolido\n",
    "resumen_vinieron_2024_2 = resumen_vinieron_2024_2.merge(impactados_segm_5, on = 'SUBCLASE', how = 'inner')\n",
    "resumen_vinieron_2024_2['RATIO'] = (resumen_vinieron_2024_2['COMPRARON'] / resumen_vinieron_2024_2['IMPACTADOS'] * 100).astype(int)\n",
    "\n",
    "resumen_vinieron_2024_2 = resumen_vinieron_2024_2.merge(df[['SUB_NAME', 'SUBCLASE']].drop_duplicates(), on = 'SUBCLASE', how = 'inner')\n",
    "\n",
    "columns = resumen_vinieron_2024_2.columns.tolist()\n",
    "new_columns = [columns[-1]] + columns[:-1]\n",
    "resumen_vinieron_2024_2 = resumen_vinieron_2024_2[new_columns]\n",
    "\n",
    "resumen_vinieron_2024_2.sort_values(by = 'RATIO', ascending = False, inplace = True)\n",
    "resumen_vinieron_2024_2"
   ],
   "metadata": {
    "collapsed": false
   }
  },
  {
   "cell_type": "code",
   "execution_count": 26,
   "outputs": [
    {
     "data": {
      "text/plain": "3     NO RELLENAS\n0    AGUA CON GAS\n1    AGUA SIN GAS\nName: SUB_NAME, dtype: object"
     },
     "execution_count": 26,
     "metadata": {},
     "output_type": "execute_result"
    }
   ],
   "source": [
    "resumen_vinieron_2024_2.loc[:, 'SUB_NAME'].iloc[:3, ]"
   ],
   "metadata": {
    "collapsed": false
   }
  },
  {
   "cell_type": "markdown",
   "source": [
    "### Conclusiones Impactados"
   ],
   "metadata": {
    "collapsed": false
   }
  },
  {
   "cell_type": "code",
   "execution_count": 27,
   "outputs": [
    {
     "name": "stdout",
     "output_type": "stream",
     "text": [
      "Los segmentos de Ofertata 8 fueron generados el 2024-02-22\n",
      "\n",
      "---- Abandonadores\n",
      "\n",
      "Comprende clientes que en los ultimos 30 dias no vengan a TATA y tengan Score 4 o 5 en la subclase\n",
      "De los 165793 clientes que cumplen dicho criterio, un 8% volvieron a TATA luego del Ofertata 8\n",
      "\n",
      "Asimismo, de los 165793 clientes, un 2% volvieron a TATA luego del Ofertata 8 y compraron la subclase que se les promociono, siendo 'NO RELLENAS' 'AGUA CON GAS' 'AGUA SIN GAS' las mejores subclases\n"
     ]
    }
   ],
   "source": [
    "a = abandonador['SOCI_SOCI_ID'].nunique()\n",
    "b = int(volvieron_general['SOCI_SOCI_ID'].nunique() / abandonador['SOCI_SOCI_ID'].nunique() * 100)\n",
    "c = int(volvieron_subclase_2['SOCI_SOCI_ID'].nunique() / abandonador['SOCI_SOCI_ID'].nunique() * 100)\n",
    "d = str(resumen_vinieron_2024_2.loc[:, 'SUB_NAME'].iloc[:3, ].values).replace('[', '').replace(']', '')\n",
    "\n",
    "print(f\"Los segmentos de {ofertata} fueron generados el {fecha_ofertata}\")\n",
    "print(\"\")\n",
    "print(\"---- Abandonadores\")\n",
    "print(\"\")\n",
    "print(f\"Comprende clientes que en los ultimos 30 dias no vengan a TATA y tengan Score 4 o 5 en la subclase\")\n",
    "print(f\"De los {a} clientes que cumplen dicho criterio, un {b}% volvieron a TATA luego del {ofertata}\")\n",
    "print(\"\")\n",
    "print(f\"Asimismo, de los {a} clientes, un {c}% volvieron a TATA luego del {ofertata} y compraron la subclase que se les promociono, siendo {d} las mejores subclases\")"
   ],
   "metadata": {
    "collapsed": false
   }
  },
  {
   "cell_type": "markdown",
   "source": [
    "## Venta y GB1"
   ],
   "metadata": {
    "collapsed": false
   }
  },
  {
   "cell_type": "code",
   "execution_count": 28,
   "outputs": [
    {
     "name": "stdout",
     "output_type": "stream",
     "text": [
      "Ventas en Miles: 92\n",
      "GB1 en Miles: 19\n"
     ]
    }
   ],
   "source": [
    "query = '''\n",
    "SELECT\n",
    "    FFM.SOCI_SOCI_ID,\n",
    "    FFM.SOCI_SOCI_ID || SUB.SUBCLASE AS K,\n",
    "    SUM(FV.VNTA_IMPORTE_SIN_IVA) AS VENTAS,\n",
    "    SUM(FV.VNTA_IMPORTE_SIN_IVA) - SUM(FV.VNTA_UNIDADES * FV.VNTA_COSTO_PROM_POND) AS GB1\n",
    "FROM\n",
    "    MSTRDB.DWH.FT_FDLN_MOVIMIENTOS AS FFM\n",
    "    INNER JOIN MSTRDB.DWH.FT_VENTAS AS FV ON FV.TICKET = FFM.TICKET\n",
    "    INNER JOIN MSTRDB.DWH.LU_ARTC_ARTICULO AS LAA ON LAA.ARTC_ARTC_ID = FV.ARTC_ARTC_ID\n",
    "    INNER JOIN MSTRDB.DWH.ITEM_MASTER AS IM ON IM.ITEM = LAA.ORIN\n",
    "    INNER JOIN MSTRDB.DWH.SUBCLASS AS SUB ON SUB.SUBCLASE = IM.SUBCLASE\n",
    "WHERE\n",
    "    FFM.TIEM_DIA_ID BETWEEN '{fecha_snow}' AND DATEADD(DAY, 7, '{fecha_snow}')\n",
    "    AND FFM.GEOG_LOCL_ID IN (SELECT GEOG_LOCL_ID FROM MSTRDB.DWH.LU_GEOG_LOCAL WHERE GEOG_UNNG_ID = 2)\n",
    "    AND SUB.SUBCLASE IN {subclases_snow}\n",
    "GROUP BY\n",
    "    ALL\n",
    "'''\n",
    "\n",
    "cursor.execute(query.format(\n",
    "    subclases_snow = tuple(abandonador['SUBCLASE'].unique()),\n",
    "    fecha_snow = fecha_ofertata\n",
    "    ))\n",
    "ventas_segm_5 = cursor.fetch_pandas_all()\n",
    "\n",
    "ventas_segm_5 = ventas_segm_5[ventas_segm_5['K'].isin(abandonador['K'])]\n",
    "\n",
    "print(f\"Ventas en Miles: {int(round(ventas_segm_5['VENTAS'].sum() / 1000, 0))}\")\n",
    "print(f\"GB1 en Miles: {int(round(ventas_segm_5['GB1'].sum() / 1000, 0))}\")"
   ],
   "metadata": {
    "collapsed": false
   }
  },
  {
   "cell_type": "markdown",
   "source": [
    "# Activos"
   ],
   "metadata": {
    "collapsed": false
   }
  },
  {
   "cell_type": "code",
   "execution_count": 29,
   "outputs": [],
   "source": [
    "# Para cada categoria (subclase) son los clientes activos que no compran la subclase y tienen score 5"
   ],
   "metadata": {
    "collapsed": false
   }
  },
  {
   "cell_type": "code",
   "execution_count": 30,
   "outputs": [],
   "source": [
    "activo = df[df['PERFIL_CLIENTE'] == 'ACTIVO']\n",
    "activo['K'] = activo['SOCI_SOCI_ID'].astype(str) + activo['SUBCLASE'].astype(str)"
   ],
   "metadata": {
    "collapsed": false
   }
  },
  {
   "cell_type": "code",
   "execution_count": 31,
   "outputs": [
    {
     "data": {
      "text/plain": "array([8800030003, 1800010007, 1800020002,  200010001, 1100010002,\n        200010002, 2900020002], dtype=int64)"
     },
     "execution_count": 31,
     "metadata": {},
     "output_type": "execute_result"
    }
   ],
   "source": [
    "activo['SUBCLASE'].unique()"
   ],
   "metadata": {
    "collapsed": false
   }
  },
  {
   "cell_type": "code",
   "execution_count": 32,
   "outputs": [
    {
     "data": {
      "text/plain": "              TICKET  SOCI_SOCI_ID    SUBCLASE\n0  20240224884294620         48146  1800010007\n1   2024022497804918        450450  1800010007",
      "text/html": "<div>\n<style scoped>\n    .dataframe tbody tr th:only-of-type {\n        vertical-align: middle;\n    }\n\n    .dataframe tbody tr th {\n        vertical-align: top;\n    }\n\n    .dataframe thead th {\n        text-align: right;\n    }\n</style>\n<table border=\"1\" class=\"dataframe\">\n  <thead>\n    <tr style=\"text-align: right;\">\n      <th></th>\n      <th>TICKET</th>\n      <th>SOCI_SOCI_ID</th>\n      <th>SUBCLASE</th>\n    </tr>\n  </thead>\n  <tbody>\n    <tr>\n      <th>0</th>\n      <td>20240224884294620</td>\n      <td>48146</td>\n      <td>1800010007</td>\n    </tr>\n    <tr>\n      <th>1</th>\n      <td>2024022497804918</td>\n      <td>450450</td>\n      <td>1800010007</td>\n    </tr>\n  </tbody>\n</table>\n</div>"
     },
     "execution_count": 32,
     "metadata": {},
     "output_type": "execute_result"
    }
   ],
   "source": [
    "query = '''\n",
    "SELECT\n",
    "    FFM.TICKET,\n",
    "    FFM.SOCI_SOCI_ID,\n",
    "    SUB.SUBCLASE\n",
    "FROM\n",
    "    MSTRDB.DWH.FT_VENTAS AS FV\n",
    "    INNER JOIN MSTRDB.DWH.FT_FDLN_MOVIMIENTOS AS FFM ON FV.TICKET = FFM.TICKET\n",
    "    INNER JOIN MSTRDB.DWH.LU_ARTC_ARTICULO AS LAA ON FV.ARTC_ARTC_ID = LAA.ARTC_ARTC_ID\n",
    "    INNER JOIN MSTRDB.DWH.ITEM_MASTER AS IM ON IM.ITEM = LAA.ORIN\n",
    "    INNER JOIN MSTRDB.DWH.SUBCLASS AS SUB ON SUB.SUBCLASE = IM.SUBCLASE\n",
    "WHERE\n",
    "    FFM.TIEM_DIA_ID BETWEEN '{fecha_snow}' AND DATEADD(DAY, 7, '{fecha_snow}')\n",
    "    AND SUB.SUBCLASE IN {subclases_snow}\n",
    "'''\n",
    "\n",
    "cursor.execute(query.format(\n",
    "    subclases_snow = tuple(abandonador['SUBCLASE'].unique()),\n",
    "    fecha_snow = fecha_ofertata\n",
    "))\n",
    "volvieron_subclase_segm_3 = cursor.fetch_pandas_all()\n",
    "\n",
    "volvieron_subclase_segm_3.head(2)"
   ],
   "metadata": {
    "collapsed": false
   }
  },
  {
   "cell_type": "code",
   "execution_count": 33,
   "outputs": [
    {
     "name": "stdout",
     "output_type": "stream",
     "text": [
      "202618\n",
      "105699\n",
      "41949\n"
     ]
    }
   ],
   "source": [
    "print(volvieron_subclase_segm_3.shape[0])\n",
    "volvieron_subclase_segm_3_version_2 = volvieron_subclase_segm_3[(volvieron_subclase_segm_3['SOCI_SOCI_ID'].isin(activo['SOCI_SOCI_ID'])) & (volvieron_subclase_segm_3['SUBCLASE'].isin(activo['SUBCLASE']))]\n",
    "print(volvieron_subclase_segm_3_version_2.shape[0])\n",
    "print(volvieron_subclase_segm_3_version_2['SOCI_SOCI_ID'].nunique())"
   ],
   "metadata": {
    "collapsed": false
   }
  },
  {
   "cell_type": "code",
   "execution_count": 34,
   "outputs": [
    {
     "data": {
      "text/plain": "                                SUB_NAME    SUBCLASE  COMPRARON  IMPACTADOS  \\\n3                            NO RELLENAS  1800010007      16679       15040   \n1                           AGUA SIN GAS   200010002      13294       17743   \n0                           AGUA CON GAS   200010001       8015       21875   \n5         HAMBURGUESAS VACUNA INDIVIDUAL  2900020002       7065       23060   \n6  JABONES DETERGENTE LIQUIDOS PARA ROPA  8800030003       6022       23731   \n4                    ARTESANALES SALADAS  1800020002       4702       23295   \n2                                 CANOLA  1100010002       3818       28409   \n\n   RATIO  \n3    110  \n1     74  \n0     36  \n5     30  \n6     25  \n4     20  \n2     13  ",
      "text/html": "<div>\n<style scoped>\n    .dataframe tbody tr th:only-of-type {\n        vertical-align: middle;\n    }\n\n    .dataframe tbody tr th {\n        vertical-align: top;\n    }\n\n    .dataframe thead th {\n        text-align: right;\n    }\n</style>\n<table border=\"1\" class=\"dataframe\">\n  <thead>\n    <tr style=\"text-align: right;\">\n      <th></th>\n      <th>SUB_NAME</th>\n      <th>SUBCLASE</th>\n      <th>COMPRARON</th>\n      <th>IMPACTADOS</th>\n      <th>RATIO</th>\n    </tr>\n  </thead>\n  <tbody>\n    <tr>\n      <th>3</th>\n      <td>NO RELLENAS</td>\n      <td>1800010007</td>\n      <td>16679</td>\n      <td>15040</td>\n      <td>110</td>\n    </tr>\n    <tr>\n      <th>1</th>\n      <td>AGUA SIN GAS</td>\n      <td>200010002</td>\n      <td>13294</td>\n      <td>17743</td>\n      <td>74</td>\n    </tr>\n    <tr>\n      <th>0</th>\n      <td>AGUA CON GAS</td>\n      <td>200010001</td>\n      <td>8015</td>\n      <td>21875</td>\n      <td>36</td>\n    </tr>\n    <tr>\n      <th>5</th>\n      <td>HAMBURGUESAS VACUNA INDIVIDUAL</td>\n      <td>2900020002</td>\n      <td>7065</td>\n      <td>23060</td>\n      <td>30</td>\n    </tr>\n    <tr>\n      <th>6</th>\n      <td>JABONES DETERGENTE LIQUIDOS PARA ROPA</td>\n      <td>8800030003</td>\n      <td>6022</td>\n      <td>23731</td>\n      <td>25</td>\n    </tr>\n    <tr>\n      <th>4</th>\n      <td>ARTESANALES SALADAS</td>\n      <td>1800020002</td>\n      <td>4702</td>\n      <td>23295</td>\n      <td>20</td>\n    </tr>\n    <tr>\n      <th>2</th>\n      <td>CANOLA</td>\n      <td>1100010002</td>\n      <td>3818</td>\n      <td>28409</td>\n      <td>13</td>\n    </tr>\n  </tbody>\n</table>\n</div>"
     },
     "execution_count": 34,
     "metadata": {},
     "output_type": "execute_result"
    }
   ],
   "source": [
    "# Compraron\n",
    "volvieron_subclase_segm_3_version_2_resumen = volvieron_subclase_segm_3_version_2.groupby('SUBCLASE')['SOCI_SOCI_ID'].nunique().reset_index()\n",
    "volvieron_subclase_segm_3_version_2_resumen.rename({'SOCI_SOCI_ID':'COMPRARON'}, axis = 1, inplace = True)\n",
    "\n",
    "# Impactados\n",
    "impactados_segm_3 = activo.groupby('SUBCLASE')['SOCI_SOCI_ID'].nunique().reset_index()\n",
    "impactados_segm_3.rename({'SOCI_SOCI_ID':'IMPACTADOS'}, axis = 1, inplace = True)\n",
    "\n",
    "# Consolido\n",
    "volvieron_subclase_segm_3_version_2_resumen = volvieron_subclase_segm_3_version_2_resumen.merge(impactados_segm_3, on = 'SUBCLASE', how = 'inner')\n",
    "volvieron_subclase_segm_3_version_2_resumen['RATIO'] = (volvieron_subclase_segm_3_version_2_resumen['COMPRARON'] / volvieron_subclase_segm_3_version_2_resumen['IMPACTADOS'] * 100).astype(int)\n",
    "\n",
    "volvieron_subclase_segm_3_version_2_resumen = volvieron_subclase_segm_3_version_2_resumen.merge(df[['SUB_NAME', 'SUBCLASE']].drop_duplicates(), on = 'SUBCLASE', how = 'inner')\n",
    "\n",
    "columns = volvieron_subclase_segm_3_version_2_resumen.columns.tolist()\n",
    "new_columns = [columns[-1]] + columns[:-1]\n",
    "volvieron_subclase_segm_3_version_2_resumen = volvieron_subclase_segm_3_version_2_resumen[new_columns]\n",
    "\n",
    "volvieron_subclase_segm_3_version_2_resumen.sort_values(by = 'RATIO', ascending = False, inplace = True)\n",
    "volvieron_subclase_segm_3_version_2_resumen"
   ],
   "metadata": {
    "collapsed": false
   }
  },
  {
   "cell_type": "code",
   "execution_count": 36,
   "outputs": [
    {
     "name": "stdout",
     "output_type": "stream",
     "text": [
      "---- Activos\n",
      "\n",
      "Comprende a los clientes activos que no compran la subclase y tienen score 5 en la misma\n",
      "\n",
      "De los 153153 clientes que cumplen dicho criterio, un 27% volvieron a TATA luego del Ofertata 8 y compraron la subclase que se les promociono, siendo 'NO RELLENAS' 'AGUA SIN GAS' 'AGUA CON GAS' las mejores subclases\n"
     ]
    }
   ],
   "source": [
    "a = activo['SOCI_SOCI_ID'].nunique()\n",
    "b = int(volvieron_subclase_segm_3_version_2['SOCI_SOCI_ID'].nunique() / activo['SOCI_SOCI_ID'].nunique() * 100)\n",
    "c = str(volvieron_subclase_segm_3_version_2_resumen.loc[:, 'SUB_NAME'].iloc[:3, ].values).replace('[', '').replace(']', '')\n",
    "\n",
    "print(\"---- Activos\")\n",
    "print(\"\")\n",
    "print(f\"Comprende a los clientes activos que no compran la subclase y tienen score 5 en la misma\")\n",
    "print(\"\")\n",
    "print(f\"De los {a} clientes que cumplen dicho criterio, un {b}% volvieron a TATA luego del {ofertata} y compraron la subclase que se les promociono, siendo {c} las mejores subclases\")"
   ],
   "metadata": {
    "collapsed": false
   }
  },
  {
   "cell_type": "markdown",
   "source": [
    "## Venta y GB1"
   ],
   "metadata": {
    "collapsed": false
   }
  },
  {
   "cell_type": "code",
   "execution_count": 37,
   "outputs": [
    {
     "name": "stdout",
     "output_type": "stream",
     "text": [
      "Ventas en Miles: 356\n",
      "GB1 en Miles: 63\n"
     ]
    }
   ],
   "source": [
    "query = '''\n",
    "SELECT\n",
    "    FFM.SOCI_SOCI_ID,\n",
    "    FFM.SOCI_SOCI_ID || SUB.SUBCLASE AS K,\n",
    "    SUM(FV.VNTA_IMPORTE_SIN_IVA) AS VENTAS,\n",
    "    SUM(FV.VNTA_IMPORTE_SIN_IVA) - SUM(FV.VNTA_UNIDADES * FV.VNTA_COSTO_PROM_POND) AS GB1\n",
    "FROM\n",
    "    MSTRDB.DWH.FT_FDLN_MOVIMIENTOS AS FFM\n",
    "    INNER JOIN MSTRDB.DWH.FT_VENTAS AS FV ON FV.TICKET = FFM.TICKET\n",
    "    INNER JOIN MSTRDB.DWH.LU_ARTC_ARTICULO AS LAA ON LAA.ARTC_ARTC_ID = FV.ARTC_ARTC_ID\n",
    "    INNER JOIN MSTRDB.DWH.ITEM_MASTER AS IM ON IM.ITEM = LAA.ORIN\n",
    "    INNER JOIN MSTRDB.DWH.SUBCLASS AS SUB ON SUB.SUBCLASE = IM.SUBCLASE\n",
    "WHERE\n",
    "    FFM.TIEM_DIA_ID BETWEEN '{fecha_snow}' AND DATEADD(DAY, 7, '{fecha_snow}')\n",
    "    AND FFM.GEOG_LOCL_ID IN (SELECT GEOG_LOCL_ID FROM MSTRDB.DWH.LU_GEOG_LOCAL WHERE GEOG_UNNG_ID = 2)\n",
    "    AND SUB.SUBCLASE IN {subclases_snow}\n",
    "GROUP BY\n",
    "    ALL\n",
    "'''\n",
    "\n",
    "cursor.execute(query.format(\n",
    "    subclases_snow = tuple(abandonador['SUBCLASE'].unique()),\n",
    "    fecha_snow = fecha_ofertata\n",
    "    ))\n",
    "ventas_segm_3 = cursor.fetch_pandas_all()\n",
    "\n",
    "ventas_segm_3 = ventas_segm_3[ventas_segm_3['K'].isin(activo['K'])]\n",
    "\n",
    "print(f\"Ventas en Miles: {int(round(ventas_segm_3['VENTAS'].sum() / 1000, 0))}\")\n",
    "print(f\"GB1 en Miles: {int(round(ventas_segm_3['GB1'].sum() / 1000, 0))}\")"
   ],
   "metadata": {
    "collapsed": false
   }
  },
  {
   "cell_type": "markdown",
   "source": [
    "# Fin"
   ],
   "metadata": {
    "collapsed": false
   },
   "execution_count": 1
  }
 ],
 "metadata": {
  "colab": {
   "collapsed_sections": [],
   "provenance": []
  },
  "kernelspec": {
   "display_name": "Python 3.9.12 ('env')",
   "language": "python",
   "name": "python3"
  },
  "language_info": {
   "codemirror_mode": {
    "name": "ipython",
    "version": 3
   },
   "file_extension": ".py",
   "mimetype": "text/x-python",
   "name": "python",
   "nbconvert_exporter": "python",
   "pygments_lexer": "ipython3",
   "version": "3.9.12"
  },
  "orig_nbformat": 4,
  "vscode": {
   "interpreter": {
    "hash": "1c19c5efd8f4b93ccbd4006c6f9f93fa19f57b77bfb4a2e5dfb55a2b8dd9ae6c"
   }
  }
 },
 "nbformat": 4,
 "nbformat_minor": 0
}
