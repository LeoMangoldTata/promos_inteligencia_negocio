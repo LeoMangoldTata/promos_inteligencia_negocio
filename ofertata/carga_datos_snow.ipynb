{
 "cells": [
  {
   "cell_type": "markdown",
   "source": [
    "# Importamos librerias"
   ],
   "metadata": {
    "collapsed": false
   }
  },
  {
   "cell_type": "code",
   "execution_count": 1,
   "metadata": {
    "id": "tKk581G_hMT0"
   },
   "outputs": [],
   "source": [
    "import pandas as pd\n",
    "import numpy as np\n",
    "import snowflake.connector\n",
    "import json\n",
    "from snowflake.connector.pandas_tools import write_pandas\n",
    "from datetime import datetime\n",
    "from datetime import timedelta\n",
    "from dateutil.relativedelta import relativedelta\n",
    "import os\n",
    "pd.options.mode.chained_assignment = None"
   ]
  },
  {
   "cell_type": "code",
   "execution_count": 11,
   "metadata": {
    "colab": {
     "base_uri": "https://localhost:8080/"
    },
    "id": "ChvQTwl1D-Ls",
    "outputId": "351b443f-8ebf-4a34-f7ba-93fb012f5082"
   },
   "outputs": [
    {
     "name": "stdout",
     "output_type": "stream",
     "text": [
      "Connected\n"
     ]
    }
   ],
   "source": [
    "while True:\n",
    "    try:\n",
    "\n",
    "        f = open('credentials.json')\n",
    "        data_pass = json.load(f)\n",
    "\n",
    "        pass_ = input(\"INGRESAR PASSCODE:\")\n",
    "\n",
    "        ctx = snowflake.connector.connect(\n",
    "            user = data_pass['snow']['USER'],\n",
    "            password = data_pass['snow']['PASS'],\n",
    "            account = data_pass['snow']['ACCOUNT'],\n",
    "            passcode = pass_,\n",
    "            database = 'SANDBOX_PLUS',\n",
    "            schema = 'DWH'\n",
    "        )\n",
    "\n",
    "        cursor = ctx.cursor()\n",
    "\n",
    "        print('Connected')\n",
    "\n",
    "        break\n",
    "\n",
    "    except:\n",
    "        print('Incorrect Password - provide again')"
   ]
  },
  {
   "cell_type": "markdown",
   "source": [
    "# Ofertata 1"
   ],
   "metadata": {
    "collapsed": false
   }
  },
  {
   "cell_type": "code",
   "execution_count": 50,
   "outputs": [
    {
     "name": "stdout",
     "output_type": "stream",
     "text": [
      "1922214\n"
     ]
    },
    {
     "data": {
      "text/plain": "              SUB_NAME   SUBCLASE      MARCA  SOCI_SOCI_ID CLIE_TIPO_DOC  \\\n0  CERVEZAS NACIONALES  100020003  ZILLERTAL       1435874             C   \n1  CERVEZAS NACIONALES  100020003  ZILLERTAL       1435742             C   \n\n  CLIE_CLIE_NDOC ULTIMOS_4   CELULAR CORREO PERFIL_CLIENTE    OFERTATA  \\\n0       51992781   CI:2781  94324545    NaN         ACTIVO  Ofertata 1   \n1       19630478   CI:0478  96067283    NaN         ACTIVO  Ofertata 1   \n\n        FECHA  \n0  2024-01-04  \n1  2024-01-04  ",
      "text/html": "<div>\n<style scoped>\n    .dataframe tbody tr th:only-of-type {\n        vertical-align: middle;\n    }\n\n    .dataframe tbody tr th {\n        vertical-align: top;\n    }\n\n    .dataframe thead th {\n        text-align: right;\n    }\n</style>\n<table border=\"1\" class=\"dataframe\">\n  <thead>\n    <tr style=\"text-align: right;\">\n      <th></th>\n      <th>SUB_NAME</th>\n      <th>SUBCLASE</th>\n      <th>MARCA</th>\n      <th>SOCI_SOCI_ID</th>\n      <th>CLIE_TIPO_DOC</th>\n      <th>CLIE_CLIE_NDOC</th>\n      <th>ULTIMOS_4</th>\n      <th>CELULAR</th>\n      <th>CORREO</th>\n      <th>PERFIL_CLIENTE</th>\n      <th>OFERTATA</th>\n      <th>FECHA</th>\n    </tr>\n  </thead>\n  <tbody>\n    <tr>\n      <th>0</th>\n      <td>CERVEZAS NACIONALES</td>\n      <td>100020003</td>\n      <td>ZILLERTAL</td>\n      <td>1435874</td>\n      <td>C</td>\n      <td>51992781</td>\n      <td>CI:2781</td>\n      <td>94324545</td>\n      <td>NaN</td>\n      <td>ACTIVO</td>\n      <td>Ofertata 1</td>\n      <td>2024-01-04</td>\n    </tr>\n    <tr>\n      <th>1</th>\n      <td>CERVEZAS NACIONALES</td>\n      <td>100020003</td>\n      <td>ZILLERTAL</td>\n      <td>1435742</td>\n      <td>C</td>\n      <td>19630478</td>\n      <td>CI:0478</td>\n      <td>96067283</td>\n      <td>NaN</td>\n      <td>ACTIVO</td>\n      <td>Ofertata 1</td>\n      <td>2024-01-04</td>\n    </tr>\n  </tbody>\n</table>\n</div>"
     },
     "execution_count": 50,
     "metadata": {},
     "output_type": "execute_result"
    }
   ],
   "source": [
    "folder_path = 'C:\\\\Users\\\\leonardo.mangold\\\\PycharmProjects\\\\promos_inteligencia_negocio\\\\ofertata\\\\01. Enero\\\\ofertata_1'\n",
    "\n",
    "# Get a list of all files in the folder\n",
    "files = os.listdir(folder_path)\n",
    "\n",
    "\n",
    "csv_files = [file for file in files if file.endswith('.csv')]\n",
    "\n",
    "ofertata_1 = pd.DataFrame()\n",
    "\n",
    "for csv_file in csv_files:\n",
    "    file_path = os.path.join(folder_path, csv_file)\n",
    "\n",
    "    df_aux = pd.read_csv(file_path, dtype = {'CLIE_CLIE_NDOC':str,\n",
    "                                             'CELULAR':str})\n",
    "    df_aux['PERFIL_CLIENTE'] = csv_file.split('.')[0]\n",
    "    ofertata_1 = pd.concat([ofertata_1, df_aux])\n",
    "\n",
    "\n",
    "perfil_cliente_dict = {'Segm 3':'ACTIVO', 'Segm 5':'ABANDONADOR'}\n",
    "ofertata_1['PERFIL_CLIENTE'] = ofertata_1['PERFIL_CLIENTE'].map(perfil_cliente_dict)\n",
    "ofertata_1['OFERTATA'] = 'Ofertata 1'\n",
    "ofertata_1['FECHA'] = '2024-01-04'\n",
    "\n",
    "print(ofertata_1.shape[0])\n",
    "ofertata_1.head(2)"
   ],
   "metadata": {
    "collapsed": false
   }
  },
  {
   "cell_type": "markdown",
   "source": [
    "# Ofertata 4"
   ],
   "metadata": {
    "collapsed": false
   }
  },
  {
   "cell_type": "code",
   "execution_count": 48,
   "outputs": [
    {
     "name": "stdout",
     "output_type": "stream",
     "text": [
      "315328\n"
     ]
    },
    {
     "data": {
      "text/plain": "   SOCI_SOCI_ID    SUBCLASE                 CORREO   CELULAR  \\\n0        738541  2700020001  patovivi803@gmail.com  95848778   \n1        725504  2700020001                    NaN  99351289   \n\n           SUB_NAME CLIE_TIPO_DOC CLIE_CLIE_NDOC PERFIL_CLIENTE    OFERTATA  \\\n0  A BASE DE TOMATE             C       46407781         ACTIVO  Ofertata 4   \n1  A BASE DE TOMATE             C       30642589         ACTIVO  Ofertata 4   \n\n        FECHA  \n0  2024-01-25  \n1  2024-01-25  ",
      "text/html": "<div>\n<style scoped>\n    .dataframe tbody tr th:only-of-type {\n        vertical-align: middle;\n    }\n\n    .dataframe tbody tr th {\n        vertical-align: top;\n    }\n\n    .dataframe thead th {\n        text-align: right;\n    }\n</style>\n<table border=\"1\" class=\"dataframe\">\n  <thead>\n    <tr style=\"text-align: right;\">\n      <th></th>\n      <th>SOCI_SOCI_ID</th>\n      <th>SUBCLASE</th>\n      <th>CORREO</th>\n      <th>CELULAR</th>\n      <th>SUB_NAME</th>\n      <th>CLIE_TIPO_DOC</th>\n      <th>CLIE_CLIE_NDOC</th>\n      <th>PERFIL_CLIENTE</th>\n      <th>OFERTATA</th>\n      <th>FECHA</th>\n    </tr>\n  </thead>\n  <tbody>\n    <tr>\n      <th>0</th>\n      <td>738541</td>\n      <td>2700020001</td>\n      <td>patovivi803@gmail.com</td>\n      <td>95848778</td>\n      <td>A BASE DE TOMATE</td>\n      <td>C</td>\n      <td>46407781</td>\n      <td>ACTIVO</td>\n      <td>Ofertata 4</td>\n      <td>2024-01-25</td>\n    </tr>\n    <tr>\n      <th>1</th>\n      <td>725504</td>\n      <td>2700020001</td>\n      <td>NaN</td>\n      <td>99351289</td>\n      <td>A BASE DE TOMATE</td>\n      <td>C</td>\n      <td>30642589</td>\n      <td>ACTIVO</td>\n      <td>Ofertata 4</td>\n      <td>2024-01-25</td>\n    </tr>\n  </tbody>\n</table>\n</div>"
     },
     "execution_count": 46,
     "metadata": {},
     "output_type": "execute_result"
    },
    {
     "name": "stdout",
     "output_type": "stream",
     "text": [
      "315328\n"
     ]
    },
    {
     "data": {
      "text/plain": "   SOCI_SOCI_ID    SUBCLASE                 CORREO   CELULAR  \\\n0        738541  2700020001  patovivi803@gmail.com  95848778   \n1        725504  2700020001                    NaN  99351289   \n\n           SUB_NAME CLIE_TIPO_DOC CLIE_CLIE_NDOC PERFIL_CLIENTE    OFERTATA  \\\n0  A BASE DE TOMATE             C       46407781         ACTIVO  Ofertata 4   \n1  A BASE DE TOMATE             C       30642589         ACTIVO  Ofertata 4   \n\n        FECHA  \n0  2024-01-25  \n1  2024-01-25  ",
      "text/html": "<div>\n<style scoped>\n    .dataframe tbody tr th:only-of-type {\n        vertical-align: middle;\n    }\n\n    .dataframe tbody tr th {\n        vertical-align: top;\n    }\n\n    .dataframe thead th {\n        text-align: right;\n    }\n</style>\n<table border=\"1\" class=\"dataframe\">\n  <thead>\n    <tr style=\"text-align: right;\">\n      <th></th>\n      <th>SOCI_SOCI_ID</th>\n      <th>SUBCLASE</th>\n      <th>CORREO</th>\n      <th>CELULAR</th>\n      <th>SUB_NAME</th>\n      <th>CLIE_TIPO_DOC</th>\n      <th>CLIE_CLIE_NDOC</th>\n      <th>PERFIL_CLIENTE</th>\n      <th>OFERTATA</th>\n      <th>FECHA</th>\n    </tr>\n  </thead>\n  <tbody>\n    <tr>\n      <th>0</th>\n      <td>738541</td>\n      <td>2700020001</td>\n      <td>patovivi803@gmail.com</td>\n      <td>95848778</td>\n      <td>A BASE DE TOMATE</td>\n      <td>C</td>\n      <td>46407781</td>\n      <td>ACTIVO</td>\n      <td>Ofertata 4</td>\n      <td>2024-01-25</td>\n    </tr>\n    <tr>\n      <th>1</th>\n      <td>725504</td>\n      <td>2700020001</td>\n      <td>NaN</td>\n      <td>99351289</td>\n      <td>A BASE DE TOMATE</td>\n      <td>C</td>\n      <td>30642589</td>\n      <td>ACTIVO</td>\n      <td>Ofertata 4</td>\n      <td>2024-01-25</td>\n    </tr>\n  </tbody>\n</table>\n</div>"
     },
     "execution_count": 48,
     "metadata": {},
     "output_type": "execute_result"
    }
   ],
   "source": [
    "folder_path = 'C:\\\\Users\\\\leonardo.mangold\\\\PycharmProjects\\\\promos_inteligencia_negocio\\\\ofertata\\\\01. Enero\\\\ofertata_4'\n",
    "\n",
    "\n",
    "query = '''\n",
    "SELECT\n",
    "    SOCI_SOCI_ID,\n",
    "    CLIE_TIPO_DOC,\n",
    "    CLIE_CLIE_NDOC\n",
    "FROM\n",
    "    MSTRDB.DWH.LU_CLIE_CLIENTE\n",
    "'''\n",
    "\n",
    "cursor.execute(query)\n",
    "socios_snow = cursor.fetch_pandas_all()\n",
    "\n",
    "# Get a list of all files in the folder\n",
    "files = os.listdir(folder_path)\n",
    "\n",
    "excel_files = [file for file in files if file.endswith(('.xls', '.xlsx')) and file != 'Ofertas redes OFERTATA 4 (1).xlsx']\n",
    "\n",
    "ofertata_4 = pd.DataFrame()\n",
    "\n",
    "for excel_file in excel_files:\n",
    "    file_path = os.path.join(folder_path, excel_file)\n",
    "\n",
    "    df_aux = pd.read_excel(file_path, dtype = {'CELULAR':str})\n",
    "    df_aux = df_aux.merge(socios_snow, on = 'SOCI_SOCI_ID', how = 'left')\n",
    "    df_aux['PERFIL_CLIENTE'] = excel_file.split(' -')[0].split(', ')[1]\n",
    "    ofertata_4 = pd.concat([ofertata_4, df_aux])\n",
    "\n",
    "perfil_cliente_dict = {'S3':'ACTIVO', 'S5':'ABANDONADOR'}\n",
    "ofertata_4['PERFIL_CLIENTE'] = ofertata_4['PERFIL_CLIENTE'].map(perfil_cliente_dict)\n",
    "ofertata_4['OFERTATA'] = 'Ofertata 4'\n",
    "ofertata_4['FECHA'] = '2024-01-25'\n",
    "\n",
    "print(ofertata_4.shape[0])\n",
    "ofertata_4.head(2)"
   ],
   "metadata": {
    "collapsed": false
   }
  },
  {
   "cell_type": "markdown",
   "source": [
    "# Ofertata 7"
   ],
   "metadata": {
    "collapsed": false
   }
  },
  {
   "cell_type": "code",
   "execution_count": 45,
   "outputs": [
    {
     "name": "stdout",
     "output_type": "stream",
     "text": [
      "302581\n"
     ]
    },
    {
     "data": {
      "text/plain": "   SOCI_SOCI_ID    SUBCLASE CORREO   CELULAR  SUB_NAME CLIE_TIPO_DOC  \\\n0        902735  1700020001    NaN  91214878  AL HUEVO             C   \n1        962847  1700020001    NaN  94568445  AL HUEVO             C   \n\n  CLIE_CLIE_NDOC PERFIL_CLIENTE    OFERTATA       FECHA  \n0       41906936    ABANDONADOR  Ofertata 7  2024-02-15  \n1       41312298    ABANDONADOR  Ofertata 7  2024-02-15  ",
      "text/html": "<div>\n<style scoped>\n    .dataframe tbody tr th:only-of-type {\n        vertical-align: middle;\n    }\n\n    .dataframe tbody tr th {\n        vertical-align: top;\n    }\n\n    .dataframe thead th {\n        text-align: right;\n    }\n</style>\n<table border=\"1\" class=\"dataframe\">\n  <thead>\n    <tr style=\"text-align: right;\">\n      <th></th>\n      <th>SOCI_SOCI_ID</th>\n      <th>SUBCLASE</th>\n      <th>CORREO</th>\n      <th>CELULAR</th>\n      <th>SUB_NAME</th>\n      <th>CLIE_TIPO_DOC</th>\n      <th>CLIE_CLIE_NDOC</th>\n      <th>PERFIL_CLIENTE</th>\n      <th>OFERTATA</th>\n      <th>FECHA</th>\n    </tr>\n  </thead>\n  <tbody>\n    <tr>\n      <th>0</th>\n      <td>902735</td>\n      <td>1700020001</td>\n      <td>NaN</td>\n      <td>91214878</td>\n      <td>AL HUEVO</td>\n      <td>C</td>\n      <td>41906936</td>\n      <td>ABANDONADOR</td>\n      <td>Ofertata 7</td>\n      <td>2024-02-15</td>\n    </tr>\n    <tr>\n      <th>1</th>\n      <td>962847</td>\n      <td>1700020001</td>\n      <td>NaN</td>\n      <td>94568445</td>\n      <td>AL HUEVO</td>\n      <td>C</td>\n      <td>41312298</td>\n      <td>ABANDONADOR</td>\n      <td>Ofertata 7</td>\n      <td>2024-02-15</td>\n    </tr>\n  </tbody>\n</table>\n</div>"
     },
     "execution_count": 45,
     "metadata": {},
     "output_type": "execute_result"
    }
   ],
   "source": [
    "folder_path = 'C:\\\\Users\\\\leonardo.mangold\\\\PycharmProjects\\\\promos_inteligencia_negocio\\\\ofertata\\\\02. Febrero\\\\ofertata_7'\n",
    "\n",
    "\n",
    "query = '''\n",
    "SELECT\n",
    "    SOCI_SOCI_ID,\n",
    "    CLIE_TIPO_DOC,\n",
    "    CLIE_CLIE_NDOC\n",
    "FROM\n",
    "    MSTRDB.DWH.LU_CLIE_CLIENTE\n",
    "'''\n",
    "\n",
    "cursor.execute(query)\n",
    "socios_snow = cursor.fetch_pandas_all()\n",
    "\n",
    "# Get a list of all files in the folder\n",
    "files = os.listdir(folder_path)\n",
    "\n",
    "excel_files = [file for file in files if file.endswith(('.xls', '.xlsx'))]\n",
    "\n",
    "ofertata_7 = pd.DataFrame()\n",
    "\n",
    "for excel_file in excel_files:\n",
    "    file_path = os.path.join(folder_path, excel_file)\n",
    "\n",
    "    df_aux = pd.read_excel(file_path, dtype = {'CELULAR':str})\n",
    "    df_aux = df_aux.merge(socios_snow, on = 'SOCI_SOCI_ID', how = 'left')\n",
    "    df_aux['PERFIL_CLIENTE'] = excel_file.split(' ')[1]\n",
    "    ofertata_7 = pd.concat([ofertata_7, df_aux])\n",
    "\n",
    "perfil_cliente_dict = {'Activos':'ACTIVO', 'Abandonadores':'ABANDONADOR'}\n",
    "ofertata_7['PERFIL_CLIENTE'] = ofertata_7['PERFIL_CLIENTE'].map(perfil_cliente_dict)\n",
    "ofertata_7['OFERTATA'] = 'Ofertata 7'\n",
    "ofertata_7['FECHA'] = '2024-02-15'\n",
    "\n",
    "print(ofertata_7.shape[0])\n",
    "ofertata_7.head(2)"
   ],
   "metadata": {
    "collapsed": false
   }
  },
  {
   "cell_type": "markdown",
   "source": [
    "# Cargo SNOW"
   ],
   "metadata": {
    "collapsed": false
   }
  },
  {
   "cell_type": "code",
   "execution_count": 54,
   "outputs": [],
   "source": [
    "df = pd.concat([\n",
    "    ofertata_1[['OFERTATA', 'FECHA', 'SUBCLASE', 'PERFIL_CLIENTE', 'SOCI_SOCI_ID', 'CLIE_TIPO_DOC', 'CLIE_CLIE_NDOC', 'CORREO', 'CELULAR']],\n",
    "    ofertata_4[['OFERTATA', 'FECHA', 'SUBCLASE', 'PERFIL_CLIENTE', 'SOCI_SOCI_ID', 'CLIE_TIPO_DOC', 'CLIE_CLIE_NDOC', 'CORREO', 'CELULAR']],\n",
    "    ofertata_7[['OFERTATA', 'FECHA', 'SUBCLASE', 'PERFIL_CLIENTE', 'SOCI_SOCI_ID', 'CLIE_TIPO_DOC', 'CLIE_CLIE_NDOC', 'CORREO', 'CELULAR']]\n",
    "    ])"
   ],
   "metadata": {
    "collapsed": false
   }
  },
  {
   "cell_type": "code",
   "execution_count": 55,
   "outputs": [
    {
     "name": "stdout",
     "output_type": "stream",
     "text": [
      "listo\n"
     ]
    }
   ],
   "source": [
    "success, nchunks, nrows, _ = write_pandas(ctx,\n",
    "    df, table_name='SEGMENTOS_OFERTATA', database= 'SANDBOX_PLUS', schema = 'DWH')\n",
    "print('listo')"
   ],
   "metadata": {
    "collapsed": false
   }
  },
  {
   "cell_type": "markdown",
   "source": [
    "# Fin"
   ],
   "metadata": {
    "collapsed": false
   },
   "execution_count": 1
  },
  {
   "cell_type": "markdown",
   "source": [],
   "metadata": {
    "collapsed": false
   }
  }
 ],
 "metadata": {
  "colab": {
   "collapsed_sections": [],
   "provenance": []
  },
  "kernelspec": {
   "display_name": "Python 3.9.12 ('env')",
   "language": "python",
   "name": "python3"
  },
  "language_info": {
   "codemirror_mode": {
    "name": "ipython",
    "version": 3
   },
   "file_extension": ".py",
   "mimetype": "text/x-python",
   "name": "python",
   "nbconvert_exporter": "python",
   "pygments_lexer": "ipython3",
   "version": "3.9.12"
  },
  "orig_nbformat": 4,
  "vscode": {
   "interpreter": {
    "hash": "1c19c5efd8f4b93ccbd4006c6f9f93fa19f57b77bfb4a2e5dfb55a2b8dd9ae6c"
   }
  }
 },
 "nbformat": 4,
 "nbformat_minor": 0
}
