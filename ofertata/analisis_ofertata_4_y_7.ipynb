{
 "cells": [
  {
   "cell_type": "markdown",
   "source": [
    "# Notas"
   ],
   "metadata": {
    "collapsed": false
   }
  },
  {
   "cell_type": "code",
   "execution_count": null,
   "outputs": [],
   "source": [
    "# Para los clientes de Locales Frontera que fueron impactados por los Ofertatas 4 y 7 buscamos\n",
    "# Entender su comportamiento (frecuencia, RFM, consumo) previo al impacto\n",
    "# Si se comportaron de acuerdo a lo esperado por la promo"
   ],
   "metadata": {
    "collapsed": false
   }
  },
  {
   "cell_type": "markdown",
   "source": [
    "# Importamos librerias"
   ],
   "metadata": {
    "collapsed": false
   }
  },
  {
   "cell_type": "code",
   "execution_count": 2,
   "metadata": {
    "id": "tKk581G_hMT0"
   },
   "outputs": [],
   "source": [
    "import pandas as pd\n",
    "import numpy as np\n",
    "import snowflake.connector\n",
    "import json\n",
    "from snowflake.connector.pandas_tools import write_pandas\n",
    "from datetime import datetime\n",
    "from datetime import timedelta\n",
    "from dateutil.relativedelta import relativedelta\n",
    "import os\n",
    "pd.options.mode.chained_assignment = None"
   ]
  },
  {
   "cell_type": "code",
   "execution_count": 3,
   "metadata": {
    "colab": {
     "base_uri": "https://localhost:8080/"
    },
    "id": "ChvQTwl1D-Ls",
    "outputId": "351b443f-8ebf-4a34-f7ba-93fb012f5082"
   },
   "outputs": [
    {
     "name": "stdout",
     "output_type": "stream",
     "text": [
      "Connected\n"
     ]
    }
   ],
   "source": [
    "while True:\n",
    "    try:\n",
    "\n",
    "        f = open('credentials.json')\n",
    "        data_pass = json.load(f)\n",
    "\n",
    "        pass_ = input(\"INGRESAR PASSCODE:\")\n",
    "\n",
    "        ctx = snowflake.connector.connect(\n",
    "            user = data_pass['snow']['USER'],\n",
    "            password = data_pass['snow']['PASS'],\n",
    "            account = data_pass['snow']['ACCOUNT'],\n",
    "            passcode = pass_,\n",
    "            database = 'SANDBOX_PLUS',\n",
    "            schema = 'DWH'\n",
    "        )\n",
    "\n",
    "        cursor = ctx.cursor()\n",
    "\n",
    "        print('Connected')\n",
    "\n",
    "        break\n",
    "\n",
    "    except:\n",
    "        print('Incorrect Password - provide again')"
   ]
  },
  {
   "cell_type": "markdown",
   "source": [
    "# Clientes Frontera"
   ],
   "metadata": {
    "collapsed": false
   }
  },
  {
   "cell_type": "code",
   "execution_count": 15,
   "outputs": [
    {
     "name": "stdout",
     "output_type": "stream",
     "text": [
      "343762\n"
     ]
    },
    {
     "data": {
      "text/plain": "     OFERTATA       FECHA    SUBCLASE PERFIL_CLIENTE SOCI_SOCI_ID  \\\n0  Ofertata 4  2024-01-25  1500030002         ACTIVO       100943   \n1  Ofertata 4  2024-01-25  1600090003         ACTIVO        99234   \n\n  CLIE_TIPO_DOC CLIE_CLIE_NDOC                        CORREO   CELULAR  \n0             C       39201653  ileanalallanes79@hotmail.com  96122860  \n1             C       48627175       micalamarca07@gmail.com  99862459  ",
      "text/html": "<div>\n<style scoped>\n    .dataframe tbody tr th:only-of-type {\n        vertical-align: middle;\n    }\n\n    .dataframe tbody tr th {\n        vertical-align: top;\n    }\n\n    .dataframe thead th {\n        text-align: right;\n    }\n</style>\n<table border=\"1\" class=\"dataframe\">\n  <thead>\n    <tr style=\"text-align: right;\">\n      <th></th>\n      <th>OFERTATA</th>\n      <th>FECHA</th>\n      <th>SUBCLASE</th>\n      <th>PERFIL_CLIENTE</th>\n      <th>SOCI_SOCI_ID</th>\n      <th>CLIE_TIPO_DOC</th>\n      <th>CLIE_CLIE_NDOC</th>\n      <th>CORREO</th>\n      <th>CELULAR</th>\n    </tr>\n  </thead>\n  <tbody>\n    <tr>\n      <th>0</th>\n      <td>Ofertata 4</td>\n      <td>2024-01-25</td>\n      <td>1500030002</td>\n      <td>ACTIVO</td>\n      <td>100943</td>\n      <td>C</td>\n      <td>39201653</td>\n      <td>ileanalallanes79@hotmail.com</td>\n      <td>96122860</td>\n    </tr>\n    <tr>\n      <th>1</th>\n      <td>Ofertata 4</td>\n      <td>2024-01-25</td>\n      <td>1600090003</td>\n      <td>ACTIVO</td>\n      <td>99234</td>\n      <td>C</td>\n      <td>48627175</td>\n      <td>micalamarca07@gmail.com</td>\n      <td>99862459</td>\n    </tr>\n  </tbody>\n</table>\n</div>"
     },
     "execution_count": 15,
     "metadata": {},
     "output_type": "execute_result"
    }
   ],
   "source": [
    "query = '''\n",
    "WITH LOCAL_DOMINANTE AS\n",
    "    (\n",
    "    SELECT\n",
    "        DISTINCT\n",
    "        SOCI_SOCI_ID,\n",
    "        DOMINANTE,\n",
    "        GEOG_LOCL_DESC\n",
    "    FROM\n",
    "        (\n",
    "        SELECT\n",
    "            FFM.SOCI_SOCI_ID,\n",
    "            LGL.GEOG_LOCL_COD AS DOMINANTE,\n",
    "            LGL.GEOG_LOCL_DESC,\n",
    "            SUM(FV.VNTA_IMPORTE_SIN_IVA) AS VENTAS,\n",
    "            ROW_NUMBER() OVER (PARTITION BY SOCI_SOCI_ID ORDER BY VENTAS DESC) AS RNK\n",
    "        FROM\n",
    "            MSTRDB.DWH.FT_VENTAS AS FV\n",
    "            INNER JOIN MSTRDB.DWH.FT_FDLN_MOVIMIENTOS AS FFM ON FV.TICKET = FFM.TICKET\n",
    "            INNER JOIN MSTRDB.DWH.LU_GEOG_LOCAL AS LGL ON FV.GEOG_LOCL_ID = LGL.GEOG_LOCL_ID\n",
    "            INNER JOIN MSTRDB.DWH.LU_GEOG_DEPTO AS LGD ON LGD.GEOG_DPTO_ID = LGL.GEOG_DPTO_ID\n",
    "            INNER JOIN MSTRDB.DWH.LU_ARTC_ARTICULO AS LAA ON LAA.ARTC_ARTC_ID = FV.ARTC_ARTC_ID\n",
    "        WHERE\n",
    "            FV.TIEM_DIA_ID BETWEEN  DATEADD(MONTH, -6, CURRENT_DATE()) AND CURRENT_DATE()\n",
    "            AND LGL.GEOG_UNNG_ID = 2\n",
    "            AND LAA.ARTC_SECC_ID <> 42\n",
    "            AND FFM.FDLN_MOVT_TIPO LIKE '%RP%'\n",
    "        GROUP BY\n",
    "            ALL\n",
    "        )\n",
    "    WHERE\n",
    "        RNK = 1\n",
    "        AND DOMINANTE IN (111, 152, 156, 158, 159, 160, 161, 162, 316, 125, 127, 317)\n",
    "    )\n",
    "\n",
    "SELECT\n",
    "    *\n",
    "FROM\n",
    "    SANDBOX_PLUS.DWH.SEGMENTOS_OFERTATA\n",
    "WHERE\n",
    "    SOCI_SOCI_ID IN (SELECT SOCI_SOCI_ID FROM LOCAL_DOMINANTE)\n",
    "'''\n",
    "\n",
    "cursor.execute(query)\n",
    "clientes = cursor.fetch_pandas_all()\n",
    "\n",
    "clientes['SOCI_SOCI_ID'] = clientes['SOCI_SOCI_ID'].astype(str)\n",
    "print(clientes.shape[0])\n",
    "clientes.head(2)"
   ],
   "metadata": {
    "collapsed": false
   }
  },
  {
   "cell_type": "markdown",
   "source": [
    "# 1. Comportamiento"
   ],
   "metadata": {
    "collapsed": false
   }
  },
  {
   "cell_type": "code",
   "execution_count": 99,
   "outputs": [
    {
     "name": "stdout",
     "output_type": "stream",
     "text": [
      "19013822\n"
     ]
    },
    {
     "data": {
      "text/plain": "   PERIODO SOCI_SOCI_ID              TICKET  VENTA_CON_IVA  VENTA_SIN_IVA  \\\n0  2023-01       327052  202301142483377784          30.44          27.67   \n1  2023-01       112413  202301142482389257          49.85          45.32   \n\n       COSTO  \n0  20.382826  \n1  25.564332  ",
      "text/html": "<div>\n<style scoped>\n    .dataframe tbody tr th:only-of-type {\n        vertical-align: middle;\n    }\n\n    .dataframe tbody tr th {\n        vertical-align: top;\n    }\n\n    .dataframe thead th {\n        text-align: right;\n    }\n</style>\n<table border=\"1\" class=\"dataframe\">\n  <thead>\n    <tr style=\"text-align: right;\">\n      <th></th>\n      <th>PERIODO</th>\n      <th>SOCI_SOCI_ID</th>\n      <th>TICKET</th>\n      <th>VENTA_CON_IVA</th>\n      <th>VENTA_SIN_IVA</th>\n      <th>COSTO</th>\n    </tr>\n  </thead>\n  <tbody>\n    <tr>\n      <th>0</th>\n      <td>2023-01</td>\n      <td>327052</td>\n      <td>202301142483377784</td>\n      <td>30.44</td>\n      <td>27.67</td>\n      <td>20.382826</td>\n    </tr>\n    <tr>\n      <th>1</th>\n      <td>2023-01</td>\n      <td>112413</td>\n      <td>202301142482389257</td>\n      <td>49.85</td>\n      <td>45.32</td>\n      <td>25.564332</td>\n    </tr>\n  </tbody>\n</table>\n</div>"
     },
     "execution_count": 99,
     "metadata": {},
     "output_type": "execute_result"
    }
   ],
   "source": [
    "query = '''\n",
    "WITH LOCAL_DOMINANTE AS\n",
    "    (\n",
    "    SELECT\n",
    "        DISTINCT\n",
    "        SOCI_SOCI_ID,\n",
    "        DOMINANTE,\n",
    "        GEOG_LOCL_DESC\n",
    "    FROM\n",
    "        (\n",
    "        SELECT\n",
    "            FFM.SOCI_SOCI_ID,\n",
    "            LGL.GEOG_LOCL_COD AS DOMINANTE,\n",
    "            LGL.GEOG_LOCL_DESC,\n",
    "            SUM(FV.VNTA_IMPORTE_SIN_IVA) AS VENTAS,\n",
    "            ROW_NUMBER() OVER (PARTITION BY SOCI_SOCI_ID ORDER BY VENTAS DESC) AS RNK\n",
    "        FROM\n",
    "            MSTRDB.DWH.FT_VENTAS AS FV\n",
    "            INNER JOIN MSTRDB.DWH.FT_FDLN_MOVIMIENTOS AS FFM ON FV.TICKET = FFM.TICKET\n",
    "            INNER JOIN MSTRDB.DWH.LU_GEOG_LOCAL AS LGL ON FV.GEOG_LOCL_ID = LGL.GEOG_LOCL_ID\n",
    "            INNER JOIN MSTRDB.DWH.LU_GEOG_DEPTO AS LGD ON LGD.GEOG_DPTO_ID = LGL.GEOG_DPTO_ID\n",
    "            INNER JOIN MSTRDB.DWH.LU_ARTC_ARTICULO AS LAA ON LAA.ARTC_ARTC_ID = FV.ARTC_ARTC_ID\n",
    "        WHERE\n",
    "            FV.TIEM_DIA_ID BETWEEN  DATEADD(MONTH, -6, CURRENT_DATE()) AND CURRENT_DATE()\n",
    "            AND LGL.GEOG_UNNG_ID = 2\n",
    "            AND LAA.ARTC_SECC_ID <> 42\n",
    "            AND FFM.FDLN_MOVT_TIPO LIKE '%RP%'\n",
    "        GROUP BY\n",
    "            ALL\n",
    "        )\n",
    "    WHERE\n",
    "        RNK = 1\n",
    "        AND DOMINANTE IN (111, 152, 156, 158, 159, 160, 161, 162, 316, 125, 127, 317)\n",
    "    ),\n",
    "\n",
    "IMPACTADOS_FRONTERA AS\n",
    "    (\n",
    "    SELECT\n",
    "        DISTINCT SOCI_SOCI_ID\n",
    "    FROM\n",
    "        SANDBOX_PLUS.DWH.SEGMENTOS_OFERTATA\n",
    "    WHERE\n",
    "        SOCI_SOCI_ID IN (SELECT SOCI_SOCI_ID FROM LOCAL_DOMINANTE)\n",
    "    )\n",
    "\n",
    "SELECT\n",
    "    TO_VARCHAR(FFM.TIEM_DIA_ID, 'YYYY-MM') AS PERIODO,\n",
    "    FFM.SOCI_SOCI_ID,\n",
    "    FV.TICKET,\n",
    "    FV.VNTA_IMPORTE_CON_IVA AS VENTA_CON_IVA,\n",
    "    FV.VNTA_IMPORTE_SIN_IVA AS VENTA_SIN_IVA,\n",
    "    FV.VNTA_UNIDADES * FV.VNTA_COSTO_PROM_POND AS COSTO\n",
    "FROM\n",
    "    MSTRDB.DWH.FT_VENTAS AS FV\n",
    "    INNER JOIN MSTRDB.DWH.FT_FDLN_MOVIMIENTOS AS FFM ON FFM.TICKET = FV.TICKET\n",
    "WHERE\n",
    "    FFM.FDLN_MOVT_TIPO ILIKE '%RP%'\n",
    "    AND FFM.GEOG_LOCL_ID IN (SELECT GEOG_LOCL_ID FROM MSTRDB.DWH.LU_GEOG_LOCAL WHERE GEOG_UNNG_ID = 2)\n",
    "    AND YEAR(FFM.TIEM_DIA_ID) = 2023\n",
    "    AND FFM.SOCI_SOCI_ID IN (SELECT * FROM IMPACTADOS_FRONTERA)\n",
    "'''\n",
    "\n",
    "cursor.execute(query)\n",
    "comp = cursor.fetch_pandas_all()\n",
    "\n",
    "comp['SOCI_SOCI_ID'] = comp['SOCI_SOCI_ID'].astype(str)\n",
    "print(comp.shape[0])\n",
    "comp.head(2)"
   ],
   "metadata": {
    "collapsed": false
   }
  },
  {
   "cell_type": "code",
   "execution_count": 103,
   "outputs": [
    {
     "data": {
      "text/plain": "3050.9975"
     },
     "execution_count": 103,
     "metadata": {},
     "output_type": "execute_result"
    }
   ],
   "source": [
    "# Consumo\n",
    "consumo = comp.groupby(['SOCI_SOCI_ID', 'PERIODO'])['VENTA_CON_IVA'].sum().reset_index()\n",
    "consumo = consumo.groupby(['PERIODO'])['VENTA_CON_IVA'].median().reset_index()\n",
    "consumo['VENTA_CON_IVA'].median()"
   ],
   "metadata": {
    "collapsed": false
   }
  },
  {
   "cell_type": "code",
   "execution_count": 106,
   "outputs": [
    {
     "data": {
      "text/plain": "4.0"
     },
     "execution_count": 106,
     "metadata": {},
     "output_type": "execute_result"
    }
   ],
   "source": [
    "# Frecuencia\n",
    "frecuencia = comp.groupby(['SOCI_SOCI_ID', 'PERIODO'])['TICKET'].nunique().reset_index()\n",
    "frecuencia = frecuencia.groupby(['PERIODO'])['TICKET'].median().reset_index()\n",
    "frecuencia['TICKET'].median()"
   ],
   "metadata": {
    "collapsed": false
   }
  },
  {
   "cell_type": "code",
   "execution_count": null,
   "outputs": [],
   "source": [
    "# GB1 Porcentual\n",
    "frecuencia = comp.groupby(['SOCI_SOCI_ID', 'PERIODO'])['TICKET'].nunique().reset_index()\n",
    "frecuencia = frecuencia.groupby(['PERIODO'])['TICKET'].median().reset_index()\n",
    "frecuencia['TICKET'].median()"
   ],
   "metadata": {
    "collapsed": false
   }
  },
  {
   "cell_type": "markdown",
   "source": [
    "# Impacto Ofertata"
   ],
   "metadata": {
    "collapsed": false
   }
  },
  {
   "cell_type": "code",
   "execution_count": 108,
   "outputs": [
    {
     "data": {
      "text/plain": "21"
     },
     "execution_count": 108,
     "metadata": {},
     "output_type": "execute_result"
    }
   ],
   "source": [
    "int(((comp['VENTA_SIN_IVA'].sum() - comp['COSTO'].sum()) / comp['VENTA_SIN_IVA'].sum()) * 100)"
   ],
   "metadata": {
    "collapsed": false
   }
  },
  {
   "cell_type": "code",
   "execution_count": 67,
   "outputs": [
    {
     "name": "stdout",
     "output_type": "stream",
     "text": [
      "1827055\n"
     ]
    },
    {
     "data": {
      "text/plain": "  TIEM_DIA_ID SOCI_SOCI_ID    SUBCLASE\n0  2024-01-04       166295  2500050001\n1  2024-01-04        84825  6300030002",
      "text/html": "<div>\n<style scoped>\n    .dataframe tbody tr th:only-of-type {\n        vertical-align: middle;\n    }\n\n    .dataframe tbody tr th {\n        vertical-align: top;\n    }\n\n    .dataframe thead th {\n        text-align: right;\n    }\n</style>\n<table border=\"1\" class=\"dataframe\">\n  <thead>\n    <tr style=\"text-align: right;\">\n      <th></th>\n      <th>TIEM_DIA_ID</th>\n      <th>SOCI_SOCI_ID</th>\n      <th>SUBCLASE</th>\n    </tr>\n  </thead>\n  <tbody>\n    <tr>\n      <th>0</th>\n      <td>2024-01-04</td>\n      <td>166295</td>\n      <td>2500050001</td>\n    </tr>\n    <tr>\n      <th>1</th>\n      <td>2024-01-04</td>\n      <td>84825</td>\n      <td>6300030002</td>\n    </tr>\n  </tbody>\n</table>\n</div>"
     },
     "execution_count": 67,
     "metadata": {},
     "output_type": "execute_result"
    }
   ],
   "source": [
    "query = '''\n",
    "WITH LOCAL_DOMINANTE AS\n",
    "    (\n",
    "    SELECT\n",
    "        DISTINCT\n",
    "        SOCI_SOCI_ID,\n",
    "        DOMINANTE,\n",
    "        GEOG_LOCL_DESC\n",
    "    FROM\n",
    "        (\n",
    "        SELECT\n",
    "            FFM.SOCI_SOCI_ID,\n",
    "            LGL.GEOG_LOCL_COD AS DOMINANTE,\n",
    "            LGL.GEOG_LOCL_DESC,\n",
    "            SUM(FV.VNTA_IMPORTE_SIN_IVA) AS VENTAS,\n",
    "            ROW_NUMBER() OVER (PARTITION BY SOCI_SOCI_ID ORDER BY VENTAS DESC) AS RNK\n",
    "        FROM\n",
    "            MSTRDB.DWH.FT_VENTAS AS FV\n",
    "            INNER JOIN MSTRDB.DWH.FT_FDLN_MOVIMIENTOS AS FFM ON FV.TICKET = FFM.TICKET\n",
    "            INNER JOIN MSTRDB.DWH.LU_GEOG_LOCAL AS LGL ON FV.GEOG_LOCL_ID = LGL.GEOG_LOCL_ID\n",
    "            INNER JOIN MSTRDB.DWH.LU_GEOG_DEPTO AS LGD ON LGD.GEOG_DPTO_ID = LGL.GEOG_DPTO_ID\n",
    "            INNER JOIN MSTRDB.DWH.LU_ARTC_ARTICULO AS LAA ON LAA.ARTC_ARTC_ID = FV.ARTC_ARTC_ID\n",
    "        WHERE\n",
    "            FV.TIEM_DIA_ID BETWEEN  DATEADD(MONTH, -6, CURRENT_DATE()) AND CURRENT_DATE()\n",
    "            AND LGL.GEOG_UNNG_ID = 2\n",
    "            AND LAA.ARTC_SECC_ID <> 42\n",
    "            AND FFM.FDLN_MOVT_TIPO LIKE '%RP%'\n",
    "        GROUP BY\n",
    "            ALL\n",
    "        )\n",
    "    WHERE\n",
    "        RNK = 1\n",
    "        AND DOMINANTE IN (111, 152, 156, 158, 159, 160, 161, 162, 316, 125, 127, 317)\n",
    "    ),\n",
    "\n",
    "IMPACTADOS_FRONTERA AS\n",
    "    (\n",
    "    SELECT\n",
    "        DISTINCT SOCI_SOCI_ID\n",
    "    FROM\n",
    "        SANDBOX_PLUS.DWH.SEGMENTOS_OFERTATA\n",
    "    WHERE\n",
    "        SOCI_SOCI_ID IN (SELECT SOCI_SOCI_ID FROM LOCAL_DOMINANTE)\n",
    "    )\n",
    "\n",
    "SELECT\n",
    "    DISTINCT\n",
    "    FFM.TIEM_DIA_ID,\n",
    "    FFM.SOCI_SOCI_ID,\n",
    "    IM.SUBCLASE\n",
    "FROM\n",
    "    MSTRDB.DWH.FT_VENTAS AS FV\n",
    "    INNER JOIN MSTRDB.DWH.FT_FDLN_MOVIMIENTOS AS FFM ON FFM.TICKET = FV.TICKET\n",
    "    INNER JOIN MSTRDB.DWH.LU_ARTC_ARTICULO AS LAA ON FV.ARTC_ARTC_ID = LAA.ARTC_ARTC_ID\n",
    "    INNER JOIN MSTRDB.DWH.ITEM_MASTER AS IM ON IM.ITEM = LAA.ORIN\n",
    "WHERE\n",
    "    FFM.FDLN_MOVT_TIPO ILIKE '%RP%'\n",
    "    AND FFM.GEOG_LOCL_ID IN (SELECT GEOG_LOCL_ID FROM MSTRDB.DWH.LU_GEOG_LOCAL WHERE GEOG_UNNG_ID = 2)\n",
    "    AND FFM.TIEM_DIA_ID >= '2024-01-04'\n",
    "    AND FFM.SOCI_SOCI_ID IN (SELECT * FROM IMPACTADOS_FRONTERA)\n",
    "'''\n",
    "\n",
    "cursor.execute(query)\n",
    "trans = cursor.fetch_pandas_all()\n",
    "\n",
    "trans['SOCI_SOCI_ID'] = trans['SOCI_SOCI_ID'].astype(str)\n",
    "print(trans.shape[0])\n",
    "trans.head(2)"
   ],
   "metadata": {
    "collapsed": false
   }
  },
  {
   "cell_type": "code",
   "execution_count": 68,
   "outputs": [],
   "source": [
    "trans_2 = trans[trans['SUBCLASE'].isin(clientes['SUBCLASE'].unique())]"
   ],
   "metadata": {
    "collapsed": false
   }
  },
  {
   "cell_type": "markdown",
   "source": [
    "## Clientes Activos - compraron la subclase?"
   ],
   "metadata": {
    "collapsed": false
   }
  },
  {
   "cell_type": "code",
   "execution_count": 69,
   "outputs": [
    {
     "data": {
      "text/plain": "         OFERTATA       FECHA    SUBCLASE PERFIL_CLIENTE SOCI_SOCI_ID  \\\n0      Ofertata 1  2024-01-04  1900010003         ACTIVO       241313   \n18026  Ofertata 1  2024-01-04  8800030003         ACTIVO       241313   \n\n      TIEM_DIA_ID  \n0      2024-02-17  \n18026  2024-01-07  ",
      "text/html": "<div>\n<style scoped>\n    .dataframe tbody tr th:only-of-type {\n        vertical-align: middle;\n    }\n\n    .dataframe tbody tr th {\n        vertical-align: top;\n    }\n\n    .dataframe thead th {\n        text-align: right;\n    }\n</style>\n<table border=\"1\" class=\"dataframe\">\n  <thead>\n    <tr style=\"text-align: right;\">\n      <th></th>\n      <th>OFERTATA</th>\n      <th>FECHA</th>\n      <th>SUBCLASE</th>\n      <th>PERFIL_CLIENTE</th>\n      <th>SOCI_SOCI_ID</th>\n      <th>TIEM_DIA_ID</th>\n    </tr>\n  </thead>\n  <tbody>\n    <tr>\n      <th>0</th>\n      <td>Ofertata 1</td>\n      <td>2024-01-04</td>\n      <td>1900010003</td>\n      <td>ACTIVO</td>\n      <td>241313</td>\n      <td>2024-02-17</td>\n    </tr>\n    <tr>\n      <th>18026</th>\n      <td>Ofertata 1</td>\n      <td>2024-01-04</td>\n      <td>8800030003</td>\n      <td>ACTIVO</td>\n      <td>241313</td>\n      <td>2024-01-07</td>\n    </tr>\n  </tbody>\n</table>\n</div>"
     },
     "execution_count": 69,
     "metadata": {},
     "output_type": "execute_result"
    }
   ],
   "source": [
    "activos = clientes[clientes['PERFIL_CLIENTE'] == 'ACTIVO'].merge(trans_2, on = ['SUBCLASE', 'SOCI_SOCI_ID'], how = 'inner')\n",
    "activos.drop(['CLIE_TIPO_DOC', 'CLIE_CLIE_NDOC', 'CORREO', 'CELULAR'], axis = 1, inplace = True)\n",
    "activos = activos[activos['FECHA'] < activos['TIEM_DIA_ID']]\n",
    "activos[activos['SOCI_SOCI_ID'] == '241313']"
   ],
   "metadata": {
    "collapsed": false
   }
  },
  {
   "cell_type": "markdown",
   "source": [
    "## Comentarios"
   ],
   "metadata": {
    "collapsed": false
   }
  },
  {
   "cell_type": "code",
   "execution_count": 70,
   "outputs": [
    {
     "name": "stdout",
     "output_type": "stream",
     "text": [
      "Tenemos dos criterios de segmentacion:\n",
      "\n",
      "A. Segmento Activos\n",
      "Para cada categoria (subclase) son los Clientes activos que no compran la subclase y tienen score 5\n",
      "\n",
      "Con los Ofertata 1, 4 y 7 hemos impactado a unos 38055 Clientes con las subclases destacadas, siendo el total de impactos de 273216.\n",
      "Luego de ser impactados, unos 13663 Clientes han realizado 33638 compras de las subclases que se les promocionó.\n",
      "\n",
      "Compras / Impactos --> 12%\n",
      "Clientes que compraron / Impactados --> 36%\n"
     ]
    }
   ],
   "source": [
    "a = clientes[clientes['PERFIL_CLIENTE'] == 'ACTIVO'].shape[0]\n",
    "b = clientes[clientes['PERFIL_CLIENTE'] == 'ACTIVO']['SOCI_SOCI_ID'].nunique()\n",
    "c = activos.shape[0]\n",
    "d = activos['SOCI_SOCI_ID'].nunique()\n",
    "e = int(round(((c / a) * 100), 0))\n",
    "f = int(round(((d / b) * 100), 0))\n",
    "\n",
    "print('Tenemos dos criterios de segmentacion:')\n",
    "print('')\n",
    "print('A. Segmento Activos')\n",
    "print('Para cada categoria (subclase) son los Clientes activos que no compran la subclase y tienen score 5')\n",
    "print('')\n",
    "print(f'Con los Ofertata 1, 4 y 7 hemos impactado a unos {b} Clientes con las subclases destacadas, siendo el total de impactos de {a}.')\n",
    "print(f'Luego de ser impactados, unos {d} Clientes han realizado {c} compras de las subclases que se les promocionó.')\n",
    "print('')\n",
    "print(f'Compras / Impactos --> {e}%')\n",
    "print(f'Clientes que compraron / Impactados --> {f}%')"
   ],
   "metadata": {
    "collapsed": false
   }
  },
  {
   "cell_type": "markdown",
   "source": [
    "## Clientes Abandonadores"
   ],
   "metadata": {
    "collapsed": false
   }
  },
  {
   "cell_type": "markdown",
   "source": [
    "### Volvieron a TATA?"
   ],
   "metadata": {
    "collapsed": false
   }
  },
  {
   "cell_type": "code",
   "execution_count": 80,
   "outputs": [],
   "source": [
    "abandonador_2 = clientes[clientes['PERFIL_CLIENTE'] == 'ABANDONADOR']\n",
    "\n",
    "g = abandonador_2['SOCI_SOCI_ID'].nunique()\n",
    "h = trans[trans['SOCI_SOCI_ID'].isin(abandonador_2['SOCI_SOCI_ID'])]['SOCI_SOCI_ID'].nunique()\n",
    "i = int(round(((h / g) * 100), 0))"
   ],
   "metadata": {
    "collapsed": false
   }
  },
  {
   "cell_type": "markdown",
   "source": [
    "### Volvieron y consumieron la subclase que se les promociono"
   ],
   "metadata": {
    "collapsed": false
   }
  },
  {
   "cell_type": "code",
   "execution_count": 89,
   "outputs": [
    {
     "data": {
      "text/plain": "     OFERTATA       FECHA    SUBCLASE PERFIL_CLIENTE SOCI_SOCI_ID TIEM_DIA_ID\n8  Ofertata 1  2024-01-04  8800030003    ABANDONADOR        54490  2024-01-30\n9  Ofertata 1  2024-01-04  7600060004    ABANDONADOR        54490  2024-01-30",
      "text/html": "<div>\n<style scoped>\n    .dataframe tbody tr th:only-of-type {\n        vertical-align: middle;\n    }\n\n    .dataframe tbody tr th {\n        vertical-align: top;\n    }\n\n    .dataframe thead th {\n        text-align: right;\n    }\n</style>\n<table border=\"1\" class=\"dataframe\">\n  <thead>\n    <tr style=\"text-align: right;\">\n      <th></th>\n      <th>OFERTATA</th>\n      <th>FECHA</th>\n      <th>SUBCLASE</th>\n      <th>PERFIL_CLIENTE</th>\n      <th>SOCI_SOCI_ID</th>\n      <th>TIEM_DIA_ID</th>\n    </tr>\n  </thead>\n  <tbody>\n    <tr>\n      <th>8</th>\n      <td>Ofertata 1</td>\n      <td>2024-01-04</td>\n      <td>8800030003</td>\n      <td>ABANDONADOR</td>\n      <td>54490</td>\n      <td>2024-01-30</td>\n    </tr>\n    <tr>\n      <th>9</th>\n      <td>Ofertata 1</td>\n      <td>2024-01-04</td>\n      <td>7600060004</td>\n      <td>ABANDONADOR</td>\n      <td>54490</td>\n      <td>2024-01-30</td>\n    </tr>\n  </tbody>\n</table>\n</div>"
     },
     "execution_count": 89,
     "metadata": {},
     "output_type": "execute_result"
    }
   ],
   "source": [
    "abandonador_1 = clientes[clientes['PERFIL_CLIENTE'] == 'ABANDONADOR'].merge(trans_2, on = ['SUBCLASE', 'SOCI_SOCI_ID'], how = 'inner')\n",
    "abandonador_1.drop(['CLIE_TIPO_DOC', 'CLIE_CLIE_NDOC', 'CORREO', 'CELULAR'], axis = 1, inplace = True)\n",
    "abandonador_1 = abandonador_1[abandonador_1['FECHA'] < abandonador_1['TIEM_DIA_ID']]\n",
    "abandonador_1\n",
    "abandonador_1[abandonador_1['SOCI_SOCI_ID'] == '54490']"
   ],
   "metadata": {
    "collapsed": false
   }
  },
  {
   "cell_type": "code",
   "execution_count": 96,
   "outputs": [],
   "source": [
    "j = abandonador_1['SOCI_SOCI_ID'].nunique()\n",
    "k = int(round(((j / g) * 100), 0))"
   ],
   "metadata": {
    "collapsed": false
   }
  },
  {
   "cell_type": "code",
   "execution_count": 97,
   "outputs": [
    {
     "name": "stdout",
     "output_type": "stream",
     "text": [
      "B. Segmento Abandonador\n",
      "Clientes que en el último mes no vengan a TATA y tengan Score 5 en la subclase\n",
      "\n",
      "Parte B.1. Clientes abandonadores que volvieron a TATA (en general)\n",
      "Fueron impactados 22522 Clientes abandonadores, de los cuales volvieron a TATA unos 10806, es decir un 48%\n",
      "\n",
      "Parte B.2. Clientes abandonadores que volvieron a TATA y consumieron las subclases promocionadas\n",
      "Fueron impactados 22522 Clientes abandonadores, de los cuales volvieron a TATA (y consumieron la subclase propocionada) unos 1141, es decir un 5%\n"
     ]
    }
   ],
   "source": [
    "print('B. Segmento Abandonador')\n",
    "print('Clientes que en el último mes no vengan a TATA y tengan Score 5 en la subclase')\n",
    "print('')\n",
    "print('Parte B.1. Clientes abandonadores que volvieron a TATA (en general)')\n",
    "print(f'Fueron impactados {g} Clientes abandonadores, de los cuales volvieron a TATA unos {h}, es decir un {i}%')\n",
    "print('')\n",
    "print('Parte B.2. Clientes abandonadores que volvieron a TATA y consumieron las subclases promocionadas')\n",
    "print(f'Fueron impactados {g} Clientes abandonadores, de los cuales volvieron a TATA (y consumieron la subclase propocionada) unos {j}, es decir un {k}%')"
   ],
   "metadata": {
    "collapsed": false
   }
  },
  {
   "cell_type": "code",
   "execution_count": null,
   "outputs": [],
   "source": [],
   "metadata": {
    "collapsed": false
   }
  },
  {
   "cell_type": "code",
   "execution_count": null,
   "outputs": [],
   "source": [],
   "metadata": {
    "collapsed": false
   }
  },
  {
   "cell_type": "code",
   "execution_count": null,
   "outputs": [],
   "source": [],
   "metadata": {
    "collapsed": false
   }
  },
  {
   "cell_type": "code",
   "execution_count": null,
   "outputs": [],
   "source": [],
   "metadata": {
    "collapsed": false
   }
  },
  {
   "cell_type": "markdown",
   "source": [
    "# Fin"
   ],
   "metadata": {
    "collapsed": false
   },
   "execution_count": 1
  }
 ],
 "metadata": {
  "colab": {
   "collapsed_sections": [],
   "provenance": []
  },
  "kernelspec": {
   "display_name": "Python 3.9.12 ('env')",
   "language": "python",
   "name": "python3"
  },
  "language_info": {
   "codemirror_mode": {
    "name": "ipython",
    "version": 3
   },
   "file_extension": ".py",
   "mimetype": "text/x-python",
   "name": "python",
   "nbconvert_exporter": "python",
   "pygments_lexer": "ipython3",
   "version": "3.9.12"
  },
  "orig_nbformat": 4,
  "vscode": {
   "interpreter": {
    "hash": "1c19c5efd8f4b93ccbd4006c6f9f93fa19f57b77bfb4a2e5dfb55a2b8dd9ae6c"
   }
  }
 },
 "nbformat": 4,
 "nbformat_minor": 0
}
