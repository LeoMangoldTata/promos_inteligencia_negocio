{
 "cells": [
  {
   "cell_type": "markdown",
   "source": [
    "# Importamos librerias"
   ],
   "metadata": {
    "collapsed": false
   }
  },
  {
   "cell_type": "code",
   "execution_count": 1,
   "metadata": {
    "id": "tKk581G_hMT0"
   },
   "outputs": [],
   "source": [
    "import pandas as pd\n",
    "import numpy as np\n",
    "import os\n",
    "import snowflake.connector\n",
    "import json\n",
    "from snowflake.connector.pandas_tools import write_pandas\n",
    "from datetime import datetime\n",
    "from datetime import timedelta\n",
    "from dateutil.relativedelta import relativedelta\n",
    "pd.options.mode.chained_assignment = None"
   ]
  },
  {
   "cell_type": "code",
   "execution_count": 2,
   "metadata": {
    "colab": {
     "base_uri": "https://localhost:8080/"
    },
    "id": "ChvQTwl1D-Ls",
    "outputId": "351b443f-8ebf-4a34-f7ba-93fb012f5082"
   },
   "outputs": [
    {
     "name": "stdout",
     "output_type": "stream",
     "text": [
      "Connected\n"
     ]
    }
   ],
   "source": [
    "while True:\n",
    "    try:\n",
    "\n",
    "        f = open('credentials.json')\n",
    "        data_pass = json.load(f)\n",
    "\n",
    "        pass_ = input(\"INGRESAR PASSCODE:\")\n",
    "\n",
    "        ctx = snowflake.connector.connect(\n",
    "            user = data_pass['snow']['USER'],\n",
    "            password = data_pass['snow']['PASS'],\n",
    "            account = data_pass['snow']['ACCOUNT'],\n",
    "            passcode = pass_,\n",
    "            database = 'SANDBOX_PLUS',\n",
    "            schema = 'DWH'\n",
    "        )\n",
    "\n",
    "        cursor = ctx.cursor()\n",
    "\n",
    "        print('Connected')\n",
    "\n",
    "        break\n",
    "\n",
    "    except:\n",
    "        print('Incorrect Password - provide again')"
   ]
  },
  {
   "cell_type": "markdown",
   "source": [
    "# Segmento 5"
   ],
   "metadata": {
    "collapsed": false
   }
  },
  {
   "cell_type": "code",
   "execution_count": 42,
   "outputs": [],
   "source": [
    "# Clientes que en el ultimo mes no vengan a tata y tengan Score 5 en la subclase"
   ],
   "metadata": {
    "collapsed": false
   }
  },
  {
   "cell_type": "code",
   "execution_count": 43,
   "outputs": [
    {
     "data": {
      "text/plain": "           SUB_NAME    SUBCLASE  MARCA  SOCI_SOCI_ID CLIE_TIPO_DOC  \\\n0  HELADOS 2 LITROS  3200010002  CRUFI        424169             C   \n1  HELADOS 2 LITROS  3200010002  CRUFI        359467             C   \n\n   CLIE_CLIE_NDOC ULTIMOS_4   CELULAR CORREO  \n0      33913931.0   CI:3931  99361891    NaN  \n1      33947099.0   CI:7099  99481357    NaN  ",
      "text/html": "<div>\n<style scoped>\n    .dataframe tbody tr th:only-of-type {\n        vertical-align: middle;\n    }\n\n    .dataframe tbody tr th {\n        vertical-align: top;\n    }\n\n    .dataframe thead th {\n        text-align: right;\n    }\n</style>\n<table border=\"1\" class=\"dataframe\">\n  <thead>\n    <tr style=\"text-align: right;\">\n      <th></th>\n      <th>SUB_NAME</th>\n      <th>SUBCLASE</th>\n      <th>MARCA</th>\n      <th>SOCI_SOCI_ID</th>\n      <th>CLIE_TIPO_DOC</th>\n      <th>CLIE_CLIE_NDOC</th>\n      <th>ULTIMOS_4</th>\n      <th>CELULAR</th>\n      <th>CORREO</th>\n    </tr>\n  </thead>\n  <tbody>\n    <tr>\n      <th>0</th>\n      <td>HELADOS 2 LITROS</td>\n      <td>3200010002</td>\n      <td>CRUFI</td>\n      <td>424169</td>\n      <td>C</td>\n      <td>33913931.0</td>\n      <td>CI:3931</td>\n      <td>99361891</td>\n      <td>NaN</td>\n    </tr>\n    <tr>\n      <th>1</th>\n      <td>HELADOS 2 LITROS</td>\n      <td>3200010002</td>\n      <td>CRUFI</td>\n      <td>359467</td>\n      <td>C</td>\n      <td>33947099.0</td>\n      <td>CI:7099</td>\n      <td>99481357</td>\n      <td>NaN</td>\n    </tr>\n  </tbody>\n</table>\n</div>"
     },
     "execution_count": 43,
     "metadata": {},
     "output_type": "execute_result"
    }
   ],
   "source": [
    "df = pd.read_csv('Segm 5.csv')\n",
    "df.head(2)"
   ],
   "metadata": {
    "collapsed": false
   }
  },
  {
   "cell_type": "code",
   "execution_count": 44,
   "outputs": [
    {
     "data": {
      "text/plain": "('HELADOS 2 LITROS',\n 'YOGURES BEBIBLES ENTERO',\n 'PACKS',\n 'JABONES DETERGENTE LIQUIDOS PARA ROPA',\n 'PAPAS FRITAS EN BOLSA',\n 'PAPAS CONGELADAS',\n 'PAPEL HIGIENICO HOJA DOBLE Y TRIPLE',\n 'LECHE ESPECIALES',\n 'CHOCOLATADA',\n 'PANALES VALUE',\n 'QUESO SANDWICH AL CORTE',\n 'CERVEZAS NACIONALES',\n 'JAMON COCIDO AL CORTE')"
     },
     "execution_count": 44,
     "metadata": {},
     "output_type": "execute_result"
    }
   ],
   "source": [
    "tuple(df['SUB_NAME'].unique())"
   ],
   "metadata": {
    "collapsed": false
   }
  },
  {
   "cell_type": "markdown",
   "source": [
    "## A. Vinieron en 2024 a TATA"
   ],
   "metadata": {
    "collapsed": false
   }
  },
  {
   "cell_type": "code",
   "execution_count": 45,
   "outputs": [
    {
     "data": {
      "text/plain": "   SOCI_SOCI_ID\n0       1258476\n1       1589302",
      "text/html": "<div>\n<style scoped>\n    .dataframe tbody tr th:only-of-type {\n        vertical-align: middle;\n    }\n\n    .dataframe tbody tr th {\n        vertical-align: top;\n    }\n\n    .dataframe thead th {\n        text-align: right;\n    }\n</style>\n<table border=\"1\" class=\"dataframe\">\n  <thead>\n    <tr style=\"text-align: right;\">\n      <th></th>\n      <th>SOCI_SOCI_ID</th>\n    </tr>\n  </thead>\n  <tbody>\n    <tr>\n      <th>0</th>\n      <td>1258476</td>\n    </tr>\n    <tr>\n      <th>1</th>\n      <td>1589302</td>\n    </tr>\n  </tbody>\n</table>\n</div>"
     },
     "execution_count": 45,
     "metadata": {},
     "output_type": "execute_result"
    }
   ],
   "source": [
    "query = '''\n",
    "SELECT\n",
    "    DISTINCT FFM.SOCI_SOCI_ID\n",
    "FROM\n",
    "    MSTRDB.DWH.FT_FDLN_MOVIMIENTOS AS FFM\n",
    "WHERE\n",
    "    YEAR(FFM.TIEM_DIA_ID) = 2024\n",
    "    AND FFM.GEOG_LOCL_ID IN (SELECT GEOG_LOCL_ID FROM MSTRDB.DWH.LU_GEOG_LOCAL WHERE GEOG_UNNG_ID = 2)\n",
    "'''\n",
    "\n",
    "cursor.execute(query)\n",
    "vinieron_2024 = cursor.fetch_pandas_all()\n",
    "vinieron_2024.head(2)"
   ],
   "metadata": {
    "collapsed": false
   }
  },
  {
   "cell_type": "markdown",
   "source": [
    "## B. Vinieron en 2024 y consumieron alguna de las SUBCLASE"
   ],
   "metadata": {
    "collapsed": false
   }
  },
  {
   "cell_type": "code",
   "execution_count": 46,
   "outputs": [
    {
     "data": {
      "text/plain": "                TICKET  SOCI_SOCI_ID                 SUB_NAME\n20  202401083031150270         49028  YOGURES BEBIBLES ENTERO\n35   20240108806953764        338318  YOGURES BEBIBLES ENTERO",
      "text/html": "<div>\n<style scoped>\n    .dataframe tbody tr th:only-of-type {\n        vertical-align: middle;\n    }\n\n    .dataframe tbody tr th {\n        vertical-align: top;\n    }\n\n    .dataframe thead th {\n        text-align: right;\n    }\n</style>\n<table border=\"1\" class=\"dataframe\">\n  <thead>\n    <tr style=\"text-align: right;\">\n      <th></th>\n      <th>TICKET</th>\n      <th>SOCI_SOCI_ID</th>\n      <th>SUB_NAME</th>\n    </tr>\n  </thead>\n  <tbody>\n    <tr>\n      <th>20</th>\n      <td>202401083031150270</td>\n      <td>49028</td>\n      <td>YOGURES BEBIBLES ENTERO</td>\n    </tr>\n    <tr>\n      <th>35</th>\n      <td>20240108806953764</td>\n      <td>338318</td>\n      <td>YOGURES BEBIBLES ENTERO</td>\n    </tr>\n  </tbody>\n</table>\n</div>"
     },
     "execution_count": 46,
     "metadata": {},
     "output_type": "execute_result"
    }
   ],
   "source": [
    "query = '''\n",
    "SELECT\n",
    "    FFM.TICKET,\n",
    "    FFM.SOCI_SOCI_ID,\n",
    "    SUB.SUB_NAME\n",
    "FROM\n",
    "    MSTRDB.DWH.FT_VENTAS AS FV\n",
    "    INNER JOIN MSTRDB.DWH.FT_FDLN_MOVIMIENTOS AS FFM ON FV.TICKET = FFM.TICKET\n",
    "    INNER JOIN MSTRDB.DWH.LU_ARTC_ARTICULO AS LAA ON FV.ARTC_ARTC_ID = LAA.ARTC_ARTC_ID\n",
    "    INNER JOIN MSTRDB.DWH.ITEM_MASTER AS IM ON IM.ITEM = LAA.ORIN\n",
    "    INNER JOIN MSTRDB.DWH.SUBCLASS AS SUB ON SUB.SUBCLASE = IM.SUBCLASE\n",
    "WHERE\n",
    "    SUB.SUB_NAME IN {subclases_snow}\n",
    "    AND YEAR(FFM.TIEM_DIA_ID) = 2024\n",
    "'''\n",
    "\n",
    "cursor.execute(query.format(subclases_snow = tuple(df['SUB_NAME'].unique())))\n",
    "vinieron_2024_2 = cursor.fetch_pandas_all()\n",
    "\n",
    "vinieron_2024_2 = vinieron_2024_2[vinieron_2024_2['SOCI_SOCI_ID'].isin(df['SOCI_SOCI_ID'])]\n",
    "\n",
    "vinieron_2024_2.head(2)"
   ],
   "metadata": {
    "collapsed": false
   }
  },
  {
   "cell_type": "code",
   "execution_count": 47,
   "outputs": [
    {
     "data": {
      "text/plain": "                                 SUB_NAME  SOCI_SOCI_ID\n12                YOGURES BEBIBLES ENTERO           582\n9                   PAPAS FRITAS EN BOLSA           456\n1                             CHOCOLATADA           428\n4                   JAMON COCIDO AL CORTE           406\n6                                   PACKS           346\n11                QUESO SANDWICH AL CORTE           286\n3   JABONES DETERGENTE LIQUIDOS PARA ROPA           245\n10    PAPEL HIGIENICO HOJA DOBLE Y TRIPLE           219\n8                        PAPAS CONGELADAS           215\n0                     CERVEZAS NACIONALES           186\n2                        HELADOS 2 LITROS           111\n5                        LECHE ESPECIALES            99\n7                           PANALES VALUE            35",
      "text/html": "<div>\n<style scoped>\n    .dataframe tbody tr th:only-of-type {\n        vertical-align: middle;\n    }\n\n    .dataframe tbody tr th {\n        vertical-align: top;\n    }\n\n    .dataframe thead th {\n        text-align: right;\n    }\n</style>\n<table border=\"1\" class=\"dataframe\">\n  <thead>\n    <tr style=\"text-align: right;\">\n      <th></th>\n      <th>SUB_NAME</th>\n      <th>SOCI_SOCI_ID</th>\n    </tr>\n  </thead>\n  <tbody>\n    <tr>\n      <th>12</th>\n      <td>YOGURES BEBIBLES ENTERO</td>\n      <td>582</td>\n    </tr>\n    <tr>\n      <th>9</th>\n      <td>PAPAS FRITAS EN BOLSA</td>\n      <td>456</td>\n    </tr>\n    <tr>\n      <th>1</th>\n      <td>CHOCOLATADA</td>\n      <td>428</td>\n    </tr>\n    <tr>\n      <th>4</th>\n      <td>JAMON COCIDO AL CORTE</td>\n      <td>406</td>\n    </tr>\n    <tr>\n      <th>6</th>\n      <td>PACKS</td>\n      <td>346</td>\n    </tr>\n    <tr>\n      <th>11</th>\n      <td>QUESO SANDWICH AL CORTE</td>\n      <td>286</td>\n    </tr>\n    <tr>\n      <th>3</th>\n      <td>JABONES DETERGENTE LIQUIDOS PARA ROPA</td>\n      <td>245</td>\n    </tr>\n    <tr>\n      <th>10</th>\n      <td>PAPEL HIGIENICO HOJA DOBLE Y TRIPLE</td>\n      <td>219</td>\n    </tr>\n    <tr>\n      <th>8</th>\n      <td>PAPAS CONGELADAS</td>\n      <td>215</td>\n    </tr>\n    <tr>\n      <th>0</th>\n      <td>CERVEZAS NACIONALES</td>\n      <td>186</td>\n    </tr>\n    <tr>\n      <th>2</th>\n      <td>HELADOS 2 LITROS</td>\n      <td>111</td>\n    </tr>\n    <tr>\n      <th>5</th>\n      <td>LECHE ESPECIALES</td>\n      <td>99</td>\n    </tr>\n    <tr>\n      <th>7</th>\n      <td>PANALES VALUE</td>\n      <td>35</td>\n    </tr>\n  </tbody>\n</table>\n</div>"
     },
     "execution_count": 47,
     "metadata": {},
     "output_type": "execute_result"
    }
   ],
   "source": [
    "resumen_vinieron_2024_2 = vinieron_2024_2.groupby('SUB_NAME')['SOCI_SOCI_ID'].nunique().reset_index()\n",
    "resumen_vinieron_2024_2.sort_values(by = 'SOCI_SOCI_ID', ascending = False)"
   ],
   "metadata": {
    "collapsed": false
   }
  },
  {
   "cell_type": "code",
   "execution_count": 48,
   "outputs": [
    {
     "data": {
      "text/plain": "4"
     },
     "execution_count": 48,
     "metadata": {},
     "output_type": "execute_result"
    }
   ],
   "source": [
    "int(round(vinieron_2024_2[vinieron_2024_2['SOCI_SOCI_ID'].isin(df['SOCI_SOCI_ID'])]['SOCI_SOCI_ID'].nunique() / df['SOCI_SOCI_ID'].nunique() * 100, 0))"
   ],
   "metadata": {
    "collapsed": false
   }
  },
  {
   "cell_type": "code",
   "execution_count": 49,
   "outputs": [
    {
     "name": "stdout",
     "output_type": "stream",
     "text": [
      "El Segmento 5 comprende clientes que en el ultimo mes no vengan a TATA y tengan Score 5 en la subclase. \n",
      "De los 68557 clientes que cumplen dicho criterio, un 13% volvieron a TATA en el 2024\n",
      "De los mismos, un 4% volvio en 2024 y consumio alguna de las SUBCLASES ofrecidas, siendo YOGURES BEBIBLES ENTERO, CHOCOLATADA , JAMON COCIDO AL CORTE y PAPAS FRITAS EN BOLSA las categorias mas demandadas\n"
     ]
    }
   ],
   "source": [
    "df['SOCI_SOCI_ID'].nunique()\n",
    "vinieron_2024[vinieron_2024['SOCI_SOCI_ID'].isin(df['SOCI_SOCI_ID'])]['SOCI_SOCI_ID'].nunique()\n",
    "\n",
    "print(f\"El Segmento 5 comprende clientes que en el ultimo mes no vengan a TATA y tengan Score 5 en la subclase. \\nDe los {df['SOCI_SOCI_ID'].nunique()} clientes que cumplen dicho criterio, un {int(round(vinieron_2024[vinieron_2024['SOCI_SOCI_ID'].isin(df['SOCI_SOCI_ID'])]['SOCI_SOCI_ID'].nunique() / df['SOCI_SOCI_ID'].nunique() * 100, 0))}% volvieron a TATA en el 2024\\nDe los mismos, un {int(round(vinieron_2024_2[vinieron_2024_2['SOCI_SOCI_ID'].isin(df['SOCI_SOCI_ID'])]['SOCI_SOCI_ID'].nunique() / df['SOCI_SOCI_ID'].nunique() * 100, 0))}% volvio en 2024 y consumio alguna de las SUBCLASES ofrecidas, siendo YOGURES BEBIBLES ENTERO, CHOCOLATADA , JAMON COCIDO AL CORTE y PAPAS FRITAS EN BOLSA las categorias mas demandadas\")"
   ],
   "metadata": {
    "collapsed": false
   }
  },
  {
   "cell_type": "markdown",
   "source": [
    "## Venta y GB1"
   ],
   "metadata": {
    "collapsed": false
   }
  },
  {
   "cell_type": "code",
   "execution_count": 50,
   "outputs": [
    {
     "data": {
      "text/plain": "     VENTAS            GB1\n0  584571.8  159816.881116",
      "text/html": "<div>\n<style scoped>\n    .dataframe tbody tr th:only-of-type {\n        vertical-align: middle;\n    }\n\n    .dataframe tbody tr th {\n        vertical-align: top;\n    }\n\n    .dataframe thead th {\n        text-align: right;\n    }\n</style>\n<table border=\"1\" class=\"dataframe\">\n  <thead>\n    <tr style=\"text-align: right;\">\n      <th></th>\n      <th>VENTAS</th>\n      <th>GB1</th>\n    </tr>\n  </thead>\n  <tbody>\n    <tr>\n      <th>0</th>\n      <td>584571.8</td>\n      <td>159816.881116</td>\n    </tr>\n  </tbody>\n</table>\n</div>"
     },
     "execution_count": 50,
     "metadata": {},
     "output_type": "execute_result"
    }
   ],
   "source": [
    "query = '''\n",
    "SELECT\n",
    "    SUM(FV.VNTA_IMPORTE_SIN_IVA) AS VENTAS,\n",
    "    SUM(FV.VNTA_IMPORTE_SIN_IVA) - SUM(FV.VNTA_UNIDADES * FV.VNTA_COSTO_PROM_POND) AS GB1\n",
    "FROM\n",
    "    MSTRDB.DWH.FT_FDLN_MOVIMIENTOS AS FFM\n",
    "    INNER JOIN MSTRDB.DWH.FT_VENTAS AS FV ON FV.TICKET = FFM.TICKET\n",
    "    INNER JOIN MSTRDB.DWH.LU_ARTC_ARTICULO AS LAA ON LAA.ARTC_ARTC_ID = FV.ARTC_ARTC_ID\n",
    "    INNER JOIN MSTRDB.DWH.ITEM_MASTER AS IM ON IM.ITEM = LAA.ORIN\n",
    "    INNER JOIN MSTRDB.DWH.SUBCLASS AS SUB ON SUB.SUBCLASE = IM.SUBCLASE\n",
    "WHERE\n",
    "    YEAR(FFM.TIEM_DIA_ID) = 2024\n",
    "    AND FFM.GEOG_LOCL_ID IN (SELECT GEOG_LOCL_ID FROM MSTRDB.DWH.LU_GEOG_LOCAL WHERE GEOG_UNNG_ID = 2)\n",
    "    AND SUB.SUB_NAME IN {subclases_query}\n",
    "    AND FFM.SOCI_SOCI_ID IN {socios_query}\n",
    "'''\n",
    "\n",
    "cursor.execute(query.format(\n",
    "    socios_query = tuple(vinieron_2024[vinieron_2024['SOCI_SOCI_ID'].isin(df['SOCI_SOCI_ID'])]['SOCI_SOCI_ID'].unique()),\n",
    "    subclases_query = tuple(df['SUB_NAME'].unique())\n",
    "    ))\n",
    "ventas_segm_5 = cursor.fetch_pandas_all()\n",
    "\n",
    "ventas_segm_5"
   ],
   "metadata": {
    "collapsed": false
   }
  },
  {
   "cell_type": "code",
   "execution_count": null,
   "outputs": [],
   "source": [
    "584.571\n",
    "159.816"
   ],
   "metadata": {
    "collapsed": false
   }
  },
  {
   "cell_type": "markdown",
   "source": [
    "# Segmento 3"
   ],
   "metadata": {
    "collapsed": false
   }
  },
  {
   "cell_type": "code",
   "execution_count": null,
   "outputs": [],
   "source": [
    "# Para cada categoria (subclase) son los Clientes activos que no compran la subclase y tienen score 5"
   ],
   "metadata": {
    "collapsed": false
   }
  },
  {
   "cell_type": "code",
   "execution_count": 62,
   "outputs": [
    {
     "name": "stdout",
     "output_type": "stream",
     "text": [
      "1442018\n"
     ]
    },
    {
     "data": {
      "text/plain": "                  SUB_NAME    SUBCLASE   MARCA  SOCI_SOCI_ID CLIE_TIPO_DOC  \\\n0  YOGURES BEBIBLES ENTERO  7900010002  BIOTOP        116021             C   \n1  YOGURES BEBIBLES ENTERO  7900010002  BIOTOP        162888             C   \n\n   CLIE_CLIE_NDOC ULTIMOS_4     CELULAR CORREO  \n0        36817568   CI:7568  94346637.0    NaN  \n1        36848050   CI:8050  99166458.0    NaN  ",
      "text/html": "<div>\n<style scoped>\n    .dataframe tbody tr th:only-of-type {\n        vertical-align: middle;\n    }\n\n    .dataframe tbody tr th {\n        vertical-align: top;\n    }\n\n    .dataframe thead th {\n        text-align: right;\n    }\n</style>\n<table border=\"1\" class=\"dataframe\">\n  <thead>\n    <tr style=\"text-align: right;\">\n      <th></th>\n      <th>SUB_NAME</th>\n      <th>SUBCLASE</th>\n      <th>MARCA</th>\n      <th>SOCI_SOCI_ID</th>\n      <th>CLIE_TIPO_DOC</th>\n      <th>CLIE_CLIE_NDOC</th>\n      <th>ULTIMOS_4</th>\n      <th>CELULAR</th>\n      <th>CORREO</th>\n    </tr>\n  </thead>\n  <tbody>\n    <tr>\n      <th>0</th>\n      <td>YOGURES BEBIBLES ENTERO</td>\n      <td>7900010002</td>\n      <td>BIOTOP</td>\n      <td>116021</td>\n      <td>C</td>\n      <td>36817568</td>\n      <td>CI:7568</td>\n      <td>94346637.0</td>\n      <td>NaN</td>\n    </tr>\n    <tr>\n      <th>1</th>\n      <td>YOGURES BEBIBLES ENTERO</td>\n      <td>7900010002</td>\n      <td>BIOTOP</td>\n      <td>162888</td>\n      <td>C</td>\n      <td>36848050</td>\n      <td>CI:8050</td>\n      <td>99166458.0</td>\n      <td>NaN</td>\n    </tr>\n  </tbody>\n</table>\n</div>"
     },
     "execution_count": 62,
     "metadata": {},
     "output_type": "execute_result"
    }
   ],
   "source": [
    "all_files = os.listdir()\n",
    "\n",
    "files = [file for file in all_files if 'Segm 3.1' in file and file.endswith('.csv')]\n",
    "\n",
    "df_2 = pd.DataFrame()\n",
    "\n",
    "for file in files:\n",
    "    df_aux = pd.read_csv(file)\n",
    "    df_2 = pd.concat([df_aux, df_2], ignore_index=True)\n",
    "print(df_2.shape[0])\n",
    "df_2.head(2)"
   ],
   "metadata": {
    "collapsed": false
   }
  },
  {
   "cell_type": "code",
   "execution_count": 63,
   "outputs": [
    {
     "data": {
      "text/plain": "               TICKET  SOCI_SOCI_ID          SUB_NAME\n0  202401043481340497        342781  PAPAS CONGELADAS\n1  202401043481340497        342781  PAPAS CONGELADAS",
      "text/html": "<div>\n<style scoped>\n    .dataframe tbody tr th:only-of-type {\n        vertical-align: middle;\n    }\n\n    .dataframe tbody tr th {\n        vertical-align: top;\n    }\n\n    .dataframe thead th {\n        text-align: right;\n    }\n</style>\n<table border=\"1\" class=\"dataframe\">\n  <thead>\n    <tr style=\"text-align: right;\">\n      <th></th>\n      <th>TICKET</th>\n      <th>SOCI_SOCI_ID</th>\n      <th>SUB_NAME</th>\n    </tr>\n  </thead>\n  <tbody>\n    <tr>\n      <th>0</th>\n      <td>202401043481340497</td>\n      <td>342781</td>\n      <td>PAPAS CONGELADAS</td>\n    </tr>\n    <tr>\n      <th>1</th>\n      <td>202401043481340497</td>\n      <td>342781</td>\n      <td>PAPAS CONGELADAS</td>\n    </tr>\n  </tbody>\n</table>\n</div>"
     },
     "execution_count": 63,
     "metadata": {},
     "output_type": "execute_result"
    }
   ],
   "source": [
    "query = '''\n",
    "SELECT\n",
    "    FFM.TICKET,\n",
    "    FFM.SOCI_SOCI_ID,\n",
    "    SUB.SUB_NAME\n",
    "FROM\n",
    "    MSTRDB.DWH.FT_VENTAS AS FV\n",
    "    INNER JOIN MSTRDB.DWH.FT_FDLN_MOVIMIENTOS AS FFM ON FV.TICKET = FFM.TICKET\n",
    "    INNER JOIN MSTRDB.DWH.LU_ARTC_ARTICULO AS LAA ON FV.ARTC_ARTC_ID = LAA.ARTC_ARTC_ID\n",
    "    INNER JOIN MSTRDB.DWH.ITEM_MASTER AS IM ON IM.ITEM = LAA.ORIN\n",
    "    INNER JOIN MSTRDB.DWH.SUBCLASS AS SUB ON SUB.SUBCLASE = IM.SUBCLASE\n",
    "WHERE\n",
    "    SUB.SUB_NAME IN {subclases_snow}\n",
    "    AND YEAR(FFM.TIEM_DIA_ID) = 2024\n",
    "'''\n",
    "\n",
    "cursor.execute(query.format(\n",
    "    subclases_snow = tuple(df_2['SUB_NAME'].unique())\n",
    "    ))\n",
    "vinieron_2024_3 = cursor.fetch_pandas_all()\n",
    "\n",
    "vinieron_2024_3 = vinieron_2024_3[vinieron_2024_3['SOCI_SOCI_ID'].isin(df_2['SOCI_SOCI_ID'])]\n",
    "\n",
    "vinieron_2024_3.head(2)"
   ],
   "metadata": {
    "collapsed": false
   }
  },
  {
   "cell_type": "code",
   "execution_count": 64,
   "outputs": [
    {
     "data": {
      "text/plain": "73540"
     },
     "execution_count": 64,
     "metadata": {},
     "output_type": "execute_result"
    }
   ],
   "source": [
    "vinieron_2024_3['SOCI_SOCI_ID'].nunique()"
   ],
   "metadata": {
    "collapsed": false
   }
  },
  {
   "cell_type": "code",
   "execution_count": 65,
   "outputs": [
    {
     "data": {
      "text/plain": "                                 SUB_NAME  SOCI_SOCI_ID\n12                YOGURES BEBIBLES ENTERO         25108\n4                   JAMON COCIDO AL CORTE         16848\n1                             CHOCOLATADA         15861\n9                   PAPAS FRITAS EN BOLSA         13763\n11                QUESO SANDWICH AL CORTE         11439\n6                                   PACKS         10984\n3   JABONES DETERGENTE LIQUIDOS PARA ROPA          8909\n10    PAPEL HIGIENICO HOJA DOBLE Y TRIPLE          8112\n8                        PAPAS CONGELADAS          7180\n0                     CERVEZAS NACIONALES          6478\n5                        LECHE ESPECIALES          5103\n2                        HELADOS 2 LITROS          4609\n7                           PANALES VALUE           884",
      "text/html": "<div>\n<style scoped>\n    .dataframe tbody tr th:only-of-type {\n        vertical-align: middle;\n    }\n\n    .dataframe tbody tr th {\n        vertical-align: top;\n    }\n\n    .dataframe thead th {\n        text-align: right;\n    }\n</style>\n<table border=\"1\" class=\"dataframe\">\n  <thead>\n    <tr style=\"text-align: right;\">\n      <th></th>\n      <th>SUB_NAME</th>\n      <th>SOCI_SOCI_ID</th>\n    </tr>\n  </thead>\n  <tbody>\n    <tr>\n      <th>12</th>\n      <td>YOGURES BEBIBLES ENTERO</td>\n      <td>25108</td>\n    </tr>\n    <tr>\n      <th>4</th>\n      <td>JAMON COCIDO AL CORTE</td>\n      <td>16848</td>\n    </tr>\n    <tr>\n      <th>1</th>\n      <td>CHOCOLATADA</td>\n      <td>15861</td>\n    </tr>\n    <tr>\n      <th>9</th>\n      <td>PAPAS FRITAS EN BOLSA</td>\n      <td>13763</td>\n    </tr>\n    <tr>\n      <th>11</th>\n      <td>QUESO SANDWICH AL CORTE</td>\n      <td>11439</td>\n    </tr>\n    <tr>\n      <th>6</th>\n      <td>PACKS</td>\n      <td>10984</td>\n    </tr>\n    <tr>\n      <th>3</th>\n      <td>JABONES DETERGENTE LIQUIDOS PARA ROPA</td>\n      <td>8909</td>\n    </tr>\n    <tr>\n      <th>10</th>\n      <td>PAPEL HIGIENICO HOJA DOBLE Y TRIPLE</td>\n      <td>8112</td>\n    </tr>\n    <tr>\n      <th>8</th>\n      <td>PAPAS CONGELADAS</td>\n      <td>7180</td>\n    </tr>\n    <tr>\n      <th>0</th>\n      <td>CERVEZAS NACIONALES</td>\n      <td>6478</td>\n    </tr>\n    <tr>\n      <th>5</th>\n      <td>LECHE ESPECIALES</td>\n      <td>5103</td>\n    </tr>\n    <tr>\n      <th>2</th>\n      <td>HELADOS 2 LITROS</td>\n      <td>4609</td>\n    </tr>\n    <tr>\n      <th>7</th>\n      <td>PANALES VALUE</td>\n      <td>884</td>\n    </tr>\n  </tbody>\n</table>\n</div>"
     },
     "execution_count": 65,
     "metadata": {},
     "output_type": "execute_result"
    }
   ],
   "source": [
    "resumen_vinieron_2024_3 = vinieron_2024_3.groupby('SUB_NAME')['SOCI_SOCI_ID'].nunique().reset_index()\n",
    "resumen_vinieron_2024_3.sort_values(by = 'SOCI_SOCI_ID', ascending = False)"
   ],
   "metadata": {
    "collapsed": false
   }
  },
  {
   "cell_type": "code",
   "execution_count": 68,
   "outputs": [
    {
     "name": "stdout",
     "output_type": "stream",
     "text": [
      "El Segmento 3 comprende clientes activos que no compran la subclase y tienen score 5. \n",
      "De los 203698 clientes que cumplen dicho criterio, un 36% volvio en 2024 y consumio alguna de las SUBCLASES ofrecidas, siendo YOGURES BEBIBLES ENTERO, JAMON COCIDO AL CORTE, CHOCOLATADA y PAPAS FRITAS EN BOLSA las categorias mas demandadas\n"
     ]
    }
   ],
   "source": [
    "print(f\"El Segmento 3 comprende clientes activos que no compran la subclase y tienen score 5. \\nDe los {df_2['SOCI_SOCI_ID'].nunique()} clientes que cumplen dicho criterio, un {int(round(vinieron_2024_3[vinieron_2024_3['SOCI_SOCI_ID'].isin(df_2['SOCI_SOCI_ID'])]['SOCI_SOCI_ID'].nunique() / df_2['SOCI_SOCI_ID'].nunique() * 100, 0))}% volvio en 2024 y consumio alguna de las SUBCLASES ofrecidas, siendo YOGURES BEBIBLES ENTERO, JAMON COCIDO AL CORTE, CHOCOLATADA y PAPAS FRITAS EN BOLSA las categorias mas demandadas\")"
   ],
   "metadata": {
    "collapsed": false
   }
  },
  {
   "cell_type": "code",
   "execution_count": 67,
   "outputs": [
    {
     "data": {
      "text/plain": "203698"
     },
     "execution_count": 67,
     "metadata": {},
     "output_type": "execute_result"
    }
   ],
   "source": [
    "df_2['SOCI_SOCI_ID'].nunique()\n",
    "#vinieron_2024_3[vinieron_2024_3['SOCI_SOCI_ID'].isin(df['SOCI_SOCI_ID'])]['SOCI_SOCI_ID'].nunique()"
   ],
   "metadata": {
    "collapsed": false
   }
  },
  {
   "cell_type": "markdown",
   "source": [
    "## Venta y GB1"
   ],
   "metadata": {
    "collapsed": false
   }
  },
  {
   "cell_type": "code",
   "execution_count": 71,
   "outputs": [
    {
     "data": {
      "text/plain": "                SUB_NAME  SOCI_SOCI_ID  VENTAS       GB1\n0  PAPAS FRITAS EN BOLSA       1736213  122.13   34.2537\n1       PAPAS CONGELADAS        295351  734.43  263.4377",
      "text/html": "<div>\n<style scoped>\n    .dataframe tbody tr th:only-of-type {\n        vertical-align: middle;\n    }\n\n    .dataframe tbody tr th {\n        vertical-align: top;\n    }\n\n    .dataframe thead th {\n        text-align: right;\n    }\n</style>\n<table border=\"1\" class=\"dataframe\">\n  <thead>\n    <tr style=\"text-align: right;\">\n      <th></th>\n      <th>SUB_NAME</th>\n      <th>SOCI_SOCI_ID</th>\n      <th>VENTAS</th>\n      <th>GB1</th>\n    </tr>\n  </thead>\n  <tbody>\n    <tr>\n      <th>0</th>\n      <td>PAPAS FRITAS EN BOLSA</td>\n      <td>1736213</td>\n      <td>122.13</td>\n      <td>34.2537</td>\n    </tr>\n    <tr>\n      <th>1</th>\n      <td>PAPAS CONGELADAS</td>\n      <td>295351</td>\n      <td>734.43</td>\n      <td>263.4377</td>\n    </tr>\n  </tbody>\n</table>\n</div>"
     },
     "execution_count": 71,
     "metadata": {},
     "output_type": "execute_result"
    }
   ],
   "source": [
    "query = '''\n",
    "SELECT\n",
    "    SUB.SUB_NAME,\n",
    "    FFM.SOCI_SOCI_ID,\n",
    "    SUM(FV.VNTA_IMPORTE_SIN_IVA) AS VENTAS,\n",
    "    SUM(FV.VNTA_IMPORTE_SIN_IVA) - SUM(FV.VNTA_UNIDADES * FV.VNTA_COSTO_PROM_POND) AS GB1\n",
    "FROM\n",
    "    MSTRDB.DWH.FT_FDLN_MOVIMIENTOS AS FFM\n",
    "    INNER JOIN MSTRDB.DWH.FT_VENTAS AS FV ON FV.TICKET = FFM.TICKET\n",
    "    INNER JOIN MSTRDB.DWH.LU_ARTC_ARTICULO AS LAA ON LAA.ARTC_ARTC_ID = FV.ARTC_ARTC_ID\n",
    "    INNER JOIN MSTRDB.DWH.ITEM_MASTER AS IM ON IM.ITEM = LAA.ORIN\n",
    "    INNER JOIN MSTRDB.DWH.SUBCLASS AS SUB ON SUB.SUBCLASE = IM.SUBCLASE\n",
    "WHERE\n",
    "    YEAR(FFM.TIEM_DIA_ID) = 2024\n",
    "    AND FFM.GEOG_LOCL_ID IN (SELECT GEOG_LOCL_ID FROM MSTRDB.DWH.LU_GEOG_LOCAL WHERE GEOG_UNNG_ID = 2)\n",
    "    AND SUB.SUB_NAME IN {subclases_query}\n",
    "GROUP BY\n",
    "    ALL\n",
    "'''\n",
    "\n",
    "cursor.execute(query.format(\n",
    "    subclases_query = tuple(df_2['SUB_NAME'].unique())\n",
    "    ))\n",
    "ventas_segm_3 = cursor.fetch_pandas_all()\n",
    "ventas_segm_3.head(2)"
   ],
   "metadata": {
    "collapsed": false
   }
  },
  {
   "cell_type": "code",
   "execution_count": 72,
   "outputs": [
    {
     "data": {
      "text/plain": "13"
     },
     "execution_count": 72,
     "metadata": {},
     "output_type": "execute_result"
    }
   ],
   "source": [
    "ventas_segm_3['SUB_NAME'].nunique()"
   ],
   "metadata": {
    "collapsed": false
   }
  },
  {
   "cell_type": "code",
   "execution_count": 78,
   "outputs": [
    {
     "name": "stdout",
     "output_type": "stream",
     "text": [
      "PAPAS FRITAS EN BOLSA\n",
      "PAPAS CONGELADAS\n",
      "YOGURES BEBIBLES ENTERO\n",
      "JAMON COCIDO AL CORTE\n",
      "QUESO SANDWICH AL CORTE\n",
      "PAPEL HIGIENICO HOJA DOBLE Y TRIPLE\n",
      "PACKS\n",
      "LECHE ESPECIALES\n",
      "CERVEZAS NACIONALES\n",
      "HELADOS 2 LITROS\n",
      "CHOCOLATADA\n",
      "JABONES DETERGENTE LIQUIDOS PARA ROPA\n",
      "PANALES VALUE\n",
      "Ventas --> 7439696\n",
      "GB1 --> 2616892\n"
     ]
    }
   ],
   "source": [
    "ventas_segm_3_2 = pd.DataFrame()\n",
    "for i in ventas_segm_3['SUB_NAME'].unique():\n",
    "    print(i)\n",
    "    clientes = tuple(df_2['SOCI_SOCI_ID'][df_2['SUB_NAME'] == i])\n",
    "    df_aux = ventas_segm_3[(ventas_segm_3['SUB_NAME'] == i) & (ventas_segm_3['SOCI_SOCI_ID'].isin(clientes))]\n",
    "    ventas_segm_3_2 = pd.concat([ventas_segm_3_2, df_aux])\n",
    "print(f\"Ventas --> {round(ventas_segm_3_2['VENTAS'].sum())}\")\n",
    "print(f\"GB1 --> {round(ventas_segm_3_2['GB1'].sum())}\")"
   ],
   "metadata": {
    "collapsed": false
   }
  },
  {
   "cell_type": "code",
   "execution_count": null,
   "outputs": [],
   "source": [],
   "metadata": {
    "collapsed": false
   }
  },
  {
   "cell_type": "markdown",
   "source": [
    "# Fin"
   ],
   "metadata": {
    "collapsed": false
   },
   "execution_count": 1
  }
 ],
 "metadata": {
  "colab": {
   "collapsed_sections": [],
   "provenance": []
  },
  "kernelspec": {
   "display_name": "Python 3.9.12 ('env')",
   "language": "python",
   "name": "python3"
  },
  "language_info": {
   "codemirror_mode": {
    "name": "ipython",
    "version": 3
   },
   "file_extension": ".py",
   "mimetype": "text/x-python",
   "name": "python",
   "nbconvert_exporter": "python",
   "pygments_lexer": "ipython3",
   "version": "3.9.12"
  },
  "orig_nbformat": 4,
  "vscode": {
   "interpreter": {
    "hash": "1c19c5efd8f4b93ccbd4006c6f9f93fa19f57b77bfb4a2e5dfb55a2b8dd9ae6c"
   }
  }
 },
 "nbformat": 4,
 "nbformat_minor": 0
}
