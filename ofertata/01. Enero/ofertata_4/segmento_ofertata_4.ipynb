{
 "cells": [
  {
   "cell_type": "markdown",
   "source": [
    "# Importamos librerias"
   ],
   "metadata": {
    "collapsed": false
   }
  },
  {
   "cell_type": "code",
   "execution_count": 2,
   "metadata": {
    "id": "tKk581G_hMT0"
   },
   "outputs": [],
   "source": [
    "import pandas as pd\n",
    "import numpy as np\n",
    "import os\n",
    "import snowflake.connector\n",
    "import json\n",
    "from snowflake.connector.pandas_tools import write_pandas\n",
    "from datetime import datetime\n",
    "from datetime import timedelta\n",
    "from dateutil.relativedelta import relativedelta\n",
    "pd.options.mode.chained_assignment = None"
   ]
  },
  {
   "cell_type": "code",
   "execution_count": 3,
   "metadata": {
    "colab": {
     "base_uri": "https://localhost:8080/"
    },
    "id": "ChvQTwl1D-Ls",
    "outputId": "351b443f-8ebf-4a34-f7ba-93fb012f5082"
   },
   "outputs": [
    {
     "name": "stdout",
     "output_type": "stream",
     "text": [
      "Connected\n"
     ]
    }
   ],
   "source": [
    "while True:\n",
    "    try:\n",
    "\n",
    "        f = open('credentials.json')\n",
    "        data_pass = json.load(f)\n",
    "\n",
    "        pass_ = input(\"INGRESAR PASSCODE:\")\n",
    "\n",
    "        ctx = snowflake.connector.connect(\n",
    "            user = data_pass['snow']['USER'],\n",
    "            password = data_pass['snow']['PASS'],\n",
    "            account = data_pass['snow']['ACCOUNT'],\n",
    "            passcode = pass_,\n",
    "            database = 'SANDBOX_PLUS',\n",
    "            schema = 'DWH'\n",
    "        )\n",
    "\n",
    "        cursor = ctx.cursor()\n",
    "\n",
    "        print('Connected')\n",
    "\n",
    "        break\n",
    "\n",
    "    except:\n",
    "        print('Incorrect Password - provide again')"
   ]
  },
  {
   "cell_type": "markdown",
   "source": [
    "# Subclases"
   ],
   "metadata": {
    "collapsed": false
   }
  },
  {
   "cell_type": "code",
   "execution_count": 4,
   "outputs": [
    {
     "data": {
      "text/plain": "            SUB_NAME    SUBCLASE\n0           CUADRADA   500040002\n1  YERBA TRADICIONAL  1600090003",
      "text/html": "<div>\n<style scoped>\n    .dataframe tbody tr th:only-of-type {\n        vertical-align: middle;\n    }\n\n    .dataframe tbody tr th {\n        vertical-align: top;\n    }\n\n    .dataframe thead th {\n        text-align: right;\n    }\n</style>\n<table border=\"1\" class=\"dataframe\">\n  <thead>\n    <tr style=\"text-align: right;\">\n      <th></th>\n      <th>SUB_NAME</th>\n      <th>SUBCLASE</th>\n    </tr>\n  </thead>\n  <tbody>\n    <tr>\n      <th>0</th>\n      <td>CUADRADA</td>\n      <td>500040002</td>\n    </tr>\n    <tr>\n      <th>1</th>\n      <td>YERBA TRADICIONAL</td>\n      <td>1600090003</td>\n    </tr>\n  </tbody>\n</table>\n</div>"
     },
     "execution_count": 4,
     "metadata": {},
     "output_type": "execute_result"
    }
   ],
   "source": [
    "query = '''\n",
    "SELECT\n",
    "    DISTINCT\n",
    "    SUB.SUB_NAME,\n",
    "    SUB.SUBCLASE\n",
    "FROM\n",
    "    MSTRDB.DWH.LU_ARTC_ARTICULO AS LAA\n",
    "    INNER JOIN MSTRDB.DWH.ITEM_MASTER AS IM ON IM.ITEM = LAA.ORIN\n",
    "    INNER JOIN MSTRDB.DWH.SUBCLASS AS SUB ON SUB.SUBCLASE = IM.SUBCLASE\n",
    "WHERE\n",
    "    LAA.ARTC_ARTC_COD IN ('259559000', '259559000', '250443000', '254878000', '240635000', '252351000', '259512000', '340343000')\n",
    "    AND SUB.SUB_NAME NOT ILIKE '%NO%ESPECIFICADO%'\n",
    "'''\n",
    "\n",
    "cursor.execute(query)\n",
    "subclases = cursor.fetch_pandas_all()\n",
    "subclases.head(2)"
   ],
   "metadata": {
    "collapsed": false
   }
  },
  {
   "cell_type": "markdown",
   "source": [
    "# Segmento 5"
   ],
   "metadata": {
    "collapsed": false
   }
  },
  {
   "cell_type": "code",
   "execution_count": 42,
   "outputs": [],
   "source": [
    "# Clientes que en el ultimo mes no vengan a tata y tengan Score 5 en la subclase"
   ],
   "metadata": {
    "collapsed": false
   }
  },
  {
   "cell_type": "code",
   "execution_count": 10,
   "outputs": [
    {
     "data": {
      "text/plain": "('500040002',\n '1600090003',\n '100020002',\n '1500030002',\n '2700020001',\n '1500050001')"
     },
     "execution_count": 10,
     "metadata": {},
     "output_type": "execute_result"
    }
   ],
   "source": [
    "tuple(subclases['SUBCLASE'].astype(str))"
   ],
   "metadata": {
    "collapsed": false
   }
  },
  {
   "cell_type": "code",
   "execution_count": 25,
   "outputs": [
    {
     "name": "stdout",
     "output_type": "stream",
     "text": [
      "150933\n"
     ]
    },
    {
     "data": {
      "text/plain": "   SOCI_SOCI_ID    SUBCLASE                       CORREO   CELULAR  \\\n0       2053073   100020002  joaquincocaro2019@gmail.com  92923983   \n1        654797  1500050001       lauraolaza75@gmail.com  99300560   \n\n              SUB_NAME  \n0  CERVEZAS IMPORTADAS  \n1                 ATUN  ",
      "text/html": "<div>\n<style scoped>\n    .dataframe tbody tr th:only-of-type {\n        vertical-align: middle;\n    }\n\n    .dataframe tbody tr th {\n        vertical-align: top;\n    }\n\n    .dataframe thead th {\n        text-align: right;\n    }\n</style>\n<table border=\"1\" class=\"dataframe\">\n  <thead>\n    <tr style=\"text-align: right;\">\n      <th></th>\n      <th>SOCI_SOCI_ID</th>\n      <th>SUBCLASE</th>\n      <th>CORREO</th>\n      <th>CELULAR</th>\n      <th>SUB_NAME</th>\n    </tr>\n  </thead>\n  <tbody>\n    <tr>\n      <th>0</th>\n      <td>2053073</td>\n      <td>100020002</td>\n      <td>joaquincocaro2019@gmail.com</td>\n      <td>92923983</td>\n      <td>CERVEZAS IMPORTADAS</td>\n    </tr>\n    <tr>\n      <th>1</th>\n      <td>654797</td>\n      <td>1500050001</td>\n      <td>lauraolaza75@gmail.com</td>\n      <td>99300560</td>\n      <td>ATUN</td>\n    </tr>\n  </tbody>\n</table>\n</div>"
     },
     "execution_count": 25,
     "metadata": {},
     "output_type": "execute_result"
    }
   ],
   "source": [
    "query = '''\n",
    "WITH VINIERON AS\n",
    "    (\n",
    "    SELECT\n",
    "        DISTINCT SOCI_SOCI_ID\n",
    "    FROM\n",
    "        MSTRDB.DWH.FT_FDLN_MOVIMIENTOS\n",
    "    WHERE\n",
    "        GEOG_LOCL_ID IN (SELECT GEOG_LOCL_ID FROM MSTRDB.DWH.LU_GEOG_LOCAL WHERE GEOG_UNNG_ID = 2)\n",
    "        AND TIEM_DIA_ID >= DATEADD(MONTH, -1, CURRENT_DATE)\n",
    "    )\n",
    "\n",
    "SELECT\n",
    "    SOCI_SOCI_ID,\n",
    "    SUBCLASE,\n",
    "    CORREO,\n",
    "    CELULAR\n",
    "FROM\n",
    "    (\n",
    "    SELECT\n",
    "        LSS.SOCI_SOCI_ID,\n",
    "        LSS.SUBCLASE,\n",
    "        CONT.CORREO,\n",
    "        CONT.CELULAR,\n",
    "        ROW_NUMBER() OVER(PARTITION BY LSS.SOCI_SOCI_ID ORDER BY LSS.SOCI_SOCI_ID) AS R\n",
    "    FROM\n",
    "        BIZMETRIKS.DWH.LU_SCORING_SUBCLASE AS LSS\n",
    "        INNER JOIN SANDBOX_PLUS.DWH.CONTACTABLES_2 AS CONT ON LSS.SOCI_SOCI_ID = CONT.SOCI_SOCI_ID\n",
    "    WHERE\n",
    "        LSS.SOCI_SOCI_ID NOT IN (SELECT * FROM VINIERON)\n",
    "        AND LSS.SCORE >= 4\n",
    "        AND LSS.SUBCLASE IN {subclases_snow}\n",
    "    )\n",
    "WHERE\n",
    "    R = 1\n",
    "'''\n",
    "\n",
    "cursor.execute(query.format(subclases_snow = tuple(subclases['SUBCLASE'].astype(str))))\n",
    "segm_5 = cursor.fetch_pandas_all()\n",
    "\n",
    "segm_5 = segm_5.merge(subclases, on = 'SUBCLASE', how = 'left')\n",
    "\n",
    "print(segm_5.shape[0])\n",
    "segm_5.head(2)"
   ],
   "metadata": {
    "collapsed": false
   }
  },
  {
   "cell_type": "markdown",
   "source": [
    "# Segmento 3"
   ],
   "metadata": {
    "collapsed": false
   }
  },
  {
   "cell_type": "code",
   "execution_count": null,
   "outputs": [],
   "source": [
    "# Para cada categoria (subclase) son los Clientes activos que no compran la subclase y tienen score 5"
   ],
   "metadata": {
    "collapsed": false
   }
  },
  {
   "cell_type": "code",
   "execution_count": 27,
   "outputs": [
    {
     "name": "stdout",
     "output_type": "stream",
     "text": [
      "164395\n"
     ]
    },
    {
     "data": {
      "text/plain": "   SOCI_SOCI_ID    SUBCLASE CORREO   CELULAR           SUB_NAME\n0        313232  1600090003   None      None  YERBA TRADICIONAL\n1        748034  1600090003   None  99745070  YERBA TRADICIONAL",
      "text/html": "<div>\n<style scoped>\n    .dataframe tbody tr th:only-of-type {\n        vertical-align: middle;\n    }\n\n    .dataframe tbody tr th {\n        vertical-align: top;\n    }\n\n    .dataframe thead th {\n        text-align: right;\n    }\n</style>\n<table border=\"1\" class=\"dataframe\">\n  <thead>\n    <tr style=\"text-align: right;\">\n      <th></th>\n      <th>SOCI_SOCI_ID</th>\n      <th>SUBCLASE</th>\n      <th>CORREO</th>\n      <th>CELULAR</th>\n      <th>SUB_NAME</th>\n    </tr>\n  </thead>\n  <tbody>\n    <tr>\n      <th>0</th>\n      <td>313232</td>\n      <td>1600090003</td>\n      <td>None</td>\n      <td>None</td>\n      <td>YERBA TRADICIONAL</td>\n    </tr>\n    <tr>\n      <th>1</th>\n      <td>748034</td>\n      <td>1600090003</td>\n      <td>None</td>\n      <td>99745070</td>\n      <td>YERBA TRADICIONAL</td>\n    </tr>\n  </tbody>\n</table>\n</div>"
     },
     "execution_count": 27,
     "metadata": {},
     "output_type": "execute_result"
    }
   ],
   "source": [
    "query = '''\n",
    "WITH ACTIVOS AS\n",
    "    (\n",
    "    SELECT\n",
    "        DISTINCT SOCI_SOCI_ID\n",
    "    FROM\n",
    "        MSTRDB.DWH.FT_FDLN_MOVIMIENTOS\n",
    "    WHERE\n",
    "        GEOG_LOCL_ID IN (SELECT GEOG_LOCL_ID FROM MSTRDB.DWH.LU_GEOG_LOCAL WHERE GEOG_UNNG_ID = 2)\n",
    "        AND TIEM_DIA_ID >= DATEADD(MONTH, -1, CURRENT_DATE)\n",
    "    ),\n",
    "\n",
    "COMPRAS_SUBCLASES AS\n",
    "    (\n",
    "    SELECT\n",
    "        DISTINCT\n",
    "        FFM.SOCI_SOCI_ID || ' - ' || IM.SUBCLASE AS KEY\n",
    "    FROM\n",
    "        MSTRDB.DWH.FT_FDLN_MOVIMIENTOS AS FFM\n",
    "        INNER JOIN MSTRDB.DWH.FT_VENTAS AS FV ON FV.TICKET = FFM.TICKET\n",
    "        INNER JOIN MSTRDB.DWH.LU_ARTC_ARTICULO AS LAA ON FV.ARTC_ARTC_ID = LAA.ARTC_ARTC_ID\n",
    "        INNER JOIN MSTRDB.DWH.ITEM_MASTER AS IM ON IM.ITEM = LAA.ORIN\n",
    "    WHERE\n",
    "        FFM.GEOG_LOCL_ID IN (SELECT GEOG_LOCL_ID FROM MSTRDB.DWH.LU_GEOG_LOCAL WHERE GEOG_UNNG_ID = 2)\n",
    "        AND FFM.TIEM_DIA_ID >= DATEADD(MONTH, -3, CURRENT_DATE)\n",
    "    )\n",
    "\n",
    "\n",
    "SELECT\n",
    "    SOCI_SOCI_ID,\n",
    "    SUBCLASE,\n",
    "    CORREO,\n",
    "    CELULAR\n",
    "FROM\n",
    "    (\n",
    "    SELECT\n",
    "        LSS.SOCI_SOCI_ID,\n",
    "        LSS.SUBCLASE,\n",
    "        CONT.CORREO,\n",
    "        CONT.CELULAR,\n",
    "        ROW_NUMBER() OVER(PARTITION BY LSS.SOCI_SOCI_ID ORDER BY LSS.SOCI_SOCI_ID) AS R\n",
    "    FROM\n",
    "        BIZMETRIKS.DWH.LU_SCORING_SUBCLASE AS LSS\n",
    "        INNER JOIN SANDBOX_PLUS.DWH.CONTACTABLES_2 AS CONT ON LSS.SOCI_SOCI_ID = CONT.SOCI_SOCI_ID\n",
    "    WHERE\n",
    "        LSS.SOCI_SOCI_ID IN (SELECT * FROM ACTIVOS)\n",
    "        AND LSS.SCORE = 5\n",
    "        AND LSS.SUBCLASE IN {subclases_snow}\n",
    "        AND LSS.SOCI_SOCI_ID || ' - ' || LSS.SUBCLASE NOT IN (SELECT * FROM COMPRAS_SUBCLASES)\n",
    "    )\n",
    "WHERE\n",
    "    R = 1\n",
    "'''\n",
    "\n",
    "cursor.execute(query.format(subclases_snow = tuple(subclases['SUBCLASE'].astype(str))))\n",
    "segm_3 = cursor.fetch_pandas_all()\n",
    "\n",
    "segm_3 = segm_3.merge(subclases, on = 'SUBCLASE', how = 'left')\n",
    "\n",
    "print(segm_3.shape[0])\n",
    "segm_3.head(2)"
   ],
   "metadata": {
    "collapsed": false
   }
  },
  {
   "cell_type": "markdown",
   "source": [
    "# Excels"
   ],
   "metadata": {
    "collapsed": false
   }
  },
  {
   "cell_type": "code",
   "execution_count": 28,
   "outputs": [
    {
     "name": "stdout",
     "output_type": "stream",
     "text": [
      "YERBA TRADICIONAL\n",
      "ATUN\n",
      "CERVEZAS IMPORTADAS\n",
      "A BASE DE TOMATE\n",
      "DURAZNOS REGULARES\n",
      "CUADRADA\n"
     ]
    }
   ],
   "source": [
    "for i in segm_3['SUB_NAME'].unique():\n",
    "    print(i)\n",
    "    df_aux = segm_3[segm_3['SUB_NAME'] == i]\n",
    "    df_aux.to_excel(f'Ofertata 4, S3 - {i}.xlsx', index = False)"
   ],
   "metadata": {
    "collapsed": false
   }
  },
  {
   "cell_type": "code",
   "execution_count": 29,
   "outputs": [
    {
     "name": "stdout",
     "output_type": "stream",
     "text": [
      "CERVEZAS IMPORTADAS\n",
      "ATUN\n",
      "A BASE DE TOMATE\n",
      "YERBA TRADICIONAL\n",
      "CUADRADA\n",
      "DURAZNOS REGULARES\n"
     ]
    }
   ],
   "source": [
    "for i in segm_5['SUB_NAME'].unique():\n",
    "    print(i)\n",
    "    df_aux = segm_5[segm_5['SUB_NAME'] == i]\n",
    "    df_aux.to_excel(f'Ofertata 4, S5 - {i}.xlsx', index = False)"
   ],
   "metadata": {
    "collapsed": false
   }
  },
  {
   "cell_type": "markdown",
   "source": [
    "# Fin"
   ],
   "metadata": {
    "collapsed": false
   },
   "execution_count": 1
  }
 ],
 "metadata": {
  "colab": {
   "collapsed_sections": [],
   "provenance": []
  },
  "kernelspec": {
   "display_name": "Python 3.9.12 ('env')",
   "language": "python",
   "name": "python3"
  },
  "language_info": {
   "codemirror_mode": {
    "name": "ipython",
    "version": 3
   },
   "file_extension": ".py",
   "mimetype": "text/x-python",
   "name": "python",
   "nbconvert_exporter": "python",
   "pygments_lexer": "ipython3",
   "version": "3.9.12"
  },
  "orig_nbformat": 4,
  "vscode": {
   "interpreter": {
    "hash": "1c19c5efd8f4b93ccbd4006c6f9f93fa19f57b77bfb4a2e5dfb55a2b8dd9ae6c"
   }
  }
 },
 "nbformat": 4,
 "nbformat_minor": 0
}
