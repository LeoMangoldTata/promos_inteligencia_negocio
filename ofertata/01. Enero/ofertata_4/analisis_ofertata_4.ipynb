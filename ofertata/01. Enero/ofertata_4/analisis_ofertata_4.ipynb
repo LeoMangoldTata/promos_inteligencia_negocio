{
 "cells": [
  {
   "cell_type": "markdown",
   "source": [
    "# Importamos librerias"
   ],
   "metadata": {
    "collapsed": false
   }
  },
  {
   "cell_type": "code",
   "execution_count": 1,
   "metadata": {
    "id": "tKk581G_hMT0"
   },
   "outputs": [],
   "source": [
    "import pandas as pd\n",
    "import numpy as np\n",
    "import os\n",
    "import snowflake.connector\n",
    "import json\n",
    "from snowflake.connector.pandas_tools import write_pandas\n",
    "from datetime import datetime\n",
    "from datetime import timedelta\n",
    "from dateutil.relativedelta import relativedelta\n",
    "pd.options.mode.chained_assignment = None"
   ]
  },
  {
   "cell_type": "code",
   "execution_count": 2,
   "metadata": {
    "colab": {
     "base_uri": "https://localhost:8080/"
    },
    "id": "ChvQTwl1D-Ls",
    "outputId": "351b443f-8ebf-4a34-f7ba-93fb012f5082"
   },
   "outputs": [
    {
     "name": "stdout",
     "output_type": "stream",
     "text": [
      "Connected\n"
     ]
    }
   ],
   "source": [
    "while True:\n",
    "    try:\n",
    "\n",
    "        f = open('credentials.json')\n",
    "        data_pass = json.load(f)\n",
    "\n",
    "        pass_ = input(\"INGRESAR PASSCODE:\")\n",
    "\n",
    "        ctx = snowflake.connector.connect(\n",
    "            user = data_pass['snow']['USER'],\n",
    "            password = data_pass['snow']['PASS'],\n",
    "            account = data_pass['snow']['ACCOUNT'],\n",
    "            passcode = pass_,\n",
    "            database = 'SANDBOX_PLUS',\n",
    "            schema = 'DWH'\n",
    "        )\n",
    "\n",
    "        cursor = ctx.cursor()\n",
    "\n",
    "        print('Connected')\n",
    "\n",
    "        break\n",
    "\n",
    "    except:\n",
    "        print('Incorrect Password - provide again')"
   ]
  },
  {
   "cell_type": "markdown",
   "source": [
    "# Segmentos"
   ],
   "metadata": {
    "collapsed": false
   }
  },
  {
   "cell_type": "code",
   "execution_count": 3,
   "outputs": [
    {
     "data": {
      "text/plain": "   SOCI_SOCI_ID    SUBCLASE                 CORREO     CELULAR  \\\n0        738541  2700020001  patovivi803@gmail.com  95848778.0   \n1        725504  2700020001                    NaN  99351289.0   \n\n           SUB_NAME SEGMENTO  \n0  A BASE DE TOMATE       S3  \n1  A BASE DE TOMATE       S3  ",
      "text/html": "<div>\n<style scoped>\n    .dataframe tbody tr th:only-of-type {\n        vertical-align: middle;\n    }\n\n    .dataframe tbody tr th {\n        vertical-align: top;\n    }\n\n    .dataframe thead th {\n        text-align: right;\n    }\n</style>\n<table border=\"1\" class=\"dataframe\">\n  <thead>\n    <tr style=\"text-align: right;\">\n      <th></th>\n      <th>SOCI_SOCI_ID</th>\n      <th>SUBCLASE</th>\n      <th>CORREO</th>\n      <th>CELULAR</th>\n      <th>SUB_NAME</th>\n      <th>SEGMENTO</th>\n    </tr>\n  </thead>\n  <tbody>\n    <tr>\n      <th>0</th>\n      <td>738541</td>\n      <td>2700020001</td>\n      <td>patovivi803@gmail.com</td>\n      <td>95848778.0</td>\n      <td>A BASE DE TOMATE</td>\n      <td>S3</td>\n    </tr>\n    <tr>\n      <th>1</th>\n      <td>725504</td>\n      <td>2700020001</td>\n      <td>NaN</td>\n      <td>99351289.0</td>\n      <td>A BASE DE TOMATE</td>\n      <td>S3</td>\n    </tr>\n  </tbody>\n</table>\n</div>"
     },
     "execution_count": 3,
     "metadata": {},
     "output_type": "execute_result"
    }
   ],
   "source": [
    "all_files = os.listdir()\n",
    "\n",
    "excel_files = [file for file in all_files if 'Ofertata' in file and file.endswith('.xlsx')]\n",
    "\n",
    "df = pd.DataFrame()\n",
    "for file in excel_files:\n",
    "    df_aux = pd.read_excel(file)\n",
    "    df_aux['SEGMENTO'] = file.split(' - ')[0].split(', ')[1]\n",
    "    df = pd.concat([df, df_aux])\n",
    "\n",
    "df.head(2)"
   ],
   "metadata": {
    "collapsed": false
   }
  },
  {
   "cell_type": "code",
   "execution_count": 4,
   "outputs": [
    {
     "data": {
      "text/plain": "S3    164395\nS5    150933\nName: SEGMENTO, dtype: int64"
     },
     "execution_count": 4,
     "metadata": {},
     "output_type": "execute_result"
    }
   ],
   "source": [
    "df['SEGMENTO'].value_counts()"
   ],
   "metadata": {
    "collapsed": false
   }
  },
  {
   "cell_type": "markdown",
   "source": [
    "# Segmento 5"
   ],
   "metadata": {
    "collapsed": false
   }
  },
  {
   "cell_type": "code",
   "execution_count": 5,
   "outputs": [],
   "source": [
    "# Clientes que en el ultimo mes no vengan a tata y tengan Score 5 en la subclase"
   ],
   "metadata": {
    "collapsed": false
   }
  },
  {
   "cell_type": "code",
   "execution_count": 48,
   "outputs": [],
   "source": [
    "segm_5 = df[df['SEGMENTO'] == 'S5']\n",
    "segm_5['K'] = segm_5['SOCI_SOCI_ID'].astype(str) + segm_5['SUBCLASE'].astype(str)"
   ],
   "metadata": {
    "collapsed": false
   }
  },
  {
   "cell_type": "code",
   "execution_count": 7,
   "outputs": [
    {
     "data": {
      "text/plain": "array(['A BASE DE TOMATE', 'ATUN', 'CERVEZAS IMPORTADAS', 'CUADRADA',\n       'DURAZNOS REGULARES', 'YERBA TRADICIONAL'], dtype=object)"
     },
     "execution_count": 7,
     "metadata": {},
     "output_type": "execute_result"
    }
   ],
   "source": [
    "segm_5['SUB_NAME'].unique()"
   ],
   "metadata": {
    "collapsed": false
   }
  },
  {
   "cell_type": "markdown",
   "source": [
    "## Impactados"
   ],
   "metadata": {
    "collapsed": false
   }
  },
  {
   "cell_type": "markdown",
   "source": [
    "### A. Vinieron a TATA"
   ],
   "metadata": {
    "collapsed": false
   }
  },
  {
   "cell_type": "code",
   "execution_count": 8,
   "outputs": [
    {
     "name": "stdout",
     "output_type": "stream",
     "text": [
      "21891\n"
     ]
    },
    {
     "data": {
      "text/plain": "     SOCI_SOCI_ID\n30         152371\n106        324014",
      "text/html": "<div>\n<style scoped>\n    .dataframe tbody tr th:only-of-type {\n        vertical-align: middle;\n    }\n\n    .dataframe tbody tr th {\n        vertical-align: top;\n    }\n\n    .dataframe thead th {\n        text-align: right;\n    }\n</style>\n<table border=\"1\" class=\"dataframe\">\n  <thead>\n    <tr style=\"text-align: right;\">\n      <th></th>\n      <th>SOCI_SOCI_ID</th>\n    </tr>\n  </thead>\n  <tbody>\n    <tr>\n      <th>30</th>\n      <td>152371</td>\n    </tr>\n    <tr>\n      <th>106</th>\n      <td>324014</td>\n    </tr>\n  </tbody>\n</table>\n</div>"
     },
     "execution_count": 8,
     "metadata": {},
     "output_type": "execute_result"
    }
   ],
   "source": [
    "query = '''\n",
    "SELECT\n",
    "    DISTINCT FFM.SOCI_SOCI_ID\n",
    "FROM\n",
    "    MSTRDB.DWH.FT_FDLN_MOVIMIENTOS AS FFM\n",
    "WHERE\n",
    "    FFM.TIEM_DIA_ID > '2024-01-24'\n",
    "    AND FFM.GEOG_LOCL_ID IN (SELECT GEOG_LOCL_ID FROM MSTRDB.DWH.LU_GEOG_LOCAL WHERE GEOG_UNNG_ID = 2)\n",
    "'''\n",
    "\n",
    "cursor.execute(query)\n",
    "volvieron_general = cursor.fetch_pandas_all()\n",
    "volvieron_general = volvieron_general[volvieron_general['SOCI_SOCI_ID'].isin(segm_5['SOCI_SOCI_ID'])]\n",
    "print(volvieron_general['SOCI_SOCI_ID'].nunique())\n",
    "volvieron_general.head(2)"
   ],
   "metadata": {
    "collapsed": false
   }
  },
  {
   "cell_type": "markdown",
   "source": [
    "### B. Vinieron en 2024 y consumieron alguna de las SUBCLASE"
   ],
   "metadata": {
    "collapsed": false
   }
  },
  {
   "cell_type": "code",
   "execution_count": 9,
   "outputs": [
    {
     "data": {
      "text/plain": "             TICKET  SOCI_SOCI_ID SUB_NAME\n0  2024012830383345        415855     ATUN\n1   202401283033656       2166376     ATUN",
      "text/html": "<div>\n<style scoped>\n    .dataframe tbody tr th:only-of-type {\n        vertical-align: middle;\n    }\n\n    .dataframe tbody tr th {\n        vertical-align: top;\n    }\n\n    .dataframe thead th {\n        text-align: right;\n    }\n</style>\n<table border=\"1\" class=\"dataframe\">\n  <thead>\n    <tr style=\"text-align: right;\">\n      <th></th>\n      <th>TICKET</th>\n      <th>SOCI_SOCI_ID</th>\n      <th>SUB_NAME</th>\n    </tr>\n  </thead>\n  <tbody>\n    <tr>\n      <th>0</th>\n      <td>2024012830383345</td>\n      <td>415855</td>\n      <td>ATUN</td>\n    </tr>\n    <tr>\n      <th>1</th>\n      <td>202401283033656</td>\n      <td>2166376</td>\n      <td>ATUN</td>\n    </tr>\n  </tbody>\n</table>\n</div>"
     },
     "execution_count": 9,
     "metadata": {},
     "output_type": "execute_result"
    }
   ],
   "source": [
    "query = '''\n",
    "SELECT\n",
    "    FFM.TICKET,\n",
    "    FFM.SOCI_SOCI_ID,\n",
    "    SUB.SUB_NAME\n",
    "FROM\n",
    "    MSTRDB.DWH.FT_VENTAS AS FV\n",
    "    INNER JOIN MSTRDB.DWH.FT_FDLN_MOVIMIENTOS AS FFM ON FV.TICKET = FFM.TICKET\n",
    "    INNER JOIN MSTRDB.DWH.LU_ARTC_ARTICULO AS LAA ON FV.ARTC_ARTC_ID = LAA.ARTC_ARTC_ID\n",
    "    INNER JOIN MSTRDB.DWH.ITEM_MASTER AS IM ON IM.ITEM = LAA.ORIN\n",
    "    INNER JOIN MSTRDB.DWH.SUBCLASS AS SUB ON SUB.SUBCLASE = IM.SUBCLASE\n",
    "WHERE\n",
    "    SUB.SUB_NAME IN {subclases_snow}\n",
    "    AND FFM.TIEM_DIA_ID > '2024-01-24'\n",
    "'''\n",
    "\n",
    "cursor.execute(query.format(subclases_snow = tuple(segm_5['SUB_NAME'].unique())))\n",
    "volvieron_subclase = cursor.fetch_pandas_all()\n",
    "\n",
    "volvieron_subclase.head(2)"
   ],
   "metadata": {
    "collapsed": false
   }
  },
  {
   "cell_type": "code",
   "execution_count": 10,
   "outputs": [
    {
     "name": "stdout",
     "output_type": "stream",
     "text": [
      "247454\n",
      "11001\n",
      "5275\n"
     ]
    }
   ],
   "source": [
    "print(volvieron_subclase.shape[0])\n",
    "volvieron_subclase_2 = volvieron_subclase[(volvieron_subclase['SOCI_SOCI_ID'].isin(segm_5['SOCI_SOCI_ID'])) & (volvieron_subclase['SUB_NAME'].isin(segm_5['SUB_NAME']))]\n",
    "print(volvieron_subclase_2.shape[0])\n",
    "print(volvieron_subclase_2['SOCI_SOCI_ID'].nunique())"
   ],
   "metadata": {
    "collapsed": false
   }
  },
  {
   "cell_type": "code",
   "execution_count": 11,
   "outputs": [
    {
     "data": {
      "text/plain": "              SUB_NAME  COMPRARON  IMPACTADOS  RATIO\n1                 ATUN       2290       22103     10\n5    YERBA TRADICIONAL       1943       24599      7\n2  CERVEZAS IMPORTADAS       1103       26027      4\n4   DURAZNOS REGULARES        637       23286      2\n0     A BASE DE TOMATE        318       23956      1\n3             CUADRADA        290       30962      0",
      "text/html": "<div>\n<style scoped>\n    .dataframe tbody tr th:only-of-type {\n        vertical-align: middle;\n    }\n\n    .dataframe tbody tr th {\n        vertical-align: top;\n    }\n\n    .dataframe thead th {\n        text-align: right;\n    }\n</style>\n<table border=\"1\" class=\"dataframe\">\n  <thead>\n    <tr style=\"text-align: right;\">\n      <th></th>\n      <th>SUB_NAME</th>\n      <th>COMPRARON</th>\n      <th>IMPACTADOS</th>\n      <th>RATIO</th>\n    </tr>\n  </thead>\n  <tbody>\n    <tr>\n      <th>1</th>\n      <td>ATUN</td>\n      <td>2290</td>\n      <td>22103</td>\n      <td>10</td>\n    </tr>\n    <tr>\n      <th>5</th>\n      <td>YERBA TRADICIONAL</td>\n      <td>1943</td>\n      <td>24599</td>\n      <td>7</td>\n    </tr>\n    <tr>\n      <th>2</th>\n      <td>CERVEZAS IMPORTADAS</td>\n      <td>1103</td>\n      <td>26027</td>\n      <td>4</td>\n    </tr>\n    <tr>\n      <th>4</th>\n      <td>DURAZNOS REGULARES</td>\n      <td>637</td>\n      <td>23286</td>\n      <td>2</td>\n    </tr>\n    <tr>\n      <th>0</th>\n      <td>A BASE DE TOMATE</td>\n      <td>318</td>\n      <td>23956</td>\n      <td>1</td>\n    </tr>\n    <tr>\n      <th>3</th>\n      <td>CUADRADA</td>\n      <td>290</td>\n      <td>30962</td>\n      <td>0</td>\n    </tr>\n  </tbody>\n</table>\n</div>"
     },
     "execution_count": 11,
     "metadata": {},
     "output_type": "execute_result"
    }
   ],
   "source": [
    "# Compraron\n",
    "resumen_vinieron_2024_2 = volvieron_subclase_2.groupby('SUB_NAME')['SOCI_SOCI_ID'].nunique().reset_index()\n",
    "resumen_vinieron_2024_2.rename({'SOCI_SOCI_ID':'COMPRARON'}, axis = 1, inplace = True)\n",
    "\n",
    "# Impactados\n",
    "impactados_segm_5 = segm_5.groupby('SUB_NAME')['SOCI_SOCI_ID'].nunique().reset_index()\n",
    "impactados_segm_5.rename({'SOCI_SOCI_ID':'IMPACTADOS'}, axis = 1, inplace = True)\n",
    "\n",
    "# Consolido\n",
    "resumen_vinieron_2024_2 = resumen_vinieron_2024_2.merge(impactados_segm_5, on = 'SUB_NAME', how = 'inner')\n",
    "resumen_vinieron_2024_2['RATIO'] = (resumen_vinieron_2024_2['COMPRARON'] / resumen_vinieron_2024_2['IMPACTADOS'] * 100).astype(int)\n",
    "resumen_vinieron_2024_2.sort_values(by = 'RATIO', ascending = False)"
   ],
   "metadata": {
    "collapsed": false
   }
  },
  {
   "cell_type": "markdown",
   "source": [
    "### Conclusiones Impactados"
   ],
   "metadata": {
    "collapsed": false
   }
  },
  {
   "cell_type": "code",
   "execution_count": 12,
   "outputs": [
    {
     "name": "stdout",
     "output_type": "stream",
     "text": [
      "Los segmentos de Ofertata 4 fueron generados el 24/01/2024\n",
      "\n",
      "---- Segmento 5\n",
      "\n",
      "Comprende clientes que en los ultimos 30 dias no vengan a TATA (25/12/2023 - 24/01/2024) y tengan Score 5 en la subclase\n",
      "De los 150933 clientes que cumplen dicho criterio, un 14% volvieron a TATA luego del Ofertata 4 (25/01/2024 en adelante)\n",
      "\n",
      "Asimismo, de los 150933 clientes, un 3% volvieron a TATA luego del Ofertata 4 (25/01/2024 en adelante) Y compraron la subclase que se les promociono, siendo ATUN y YERBA TRADICIONAL las mejores subclases\n"
     ]
    }
   ],
   "source": [
    "a = segm_5['SOCI_SOCI_ID'].nunique()\n",
    "b = int(volvieron_general['SOCI_SOCI_ID'].nunique() / segm_5['SOCI_SOCI_ID'].nunique() * 100)\n",
    "c = int(volvieron_subclase_2['SOCI_SOCI_ID'].nunique() / segm_5['SOCI_SOCI_ID'].nunique() * 100)\n",
    "\n",
    "print(\"Los segmentos de Ofertata 4 fueron generados el 24/01/2024\")\n",
    "print(\"\")\n",
    "print(\"---- Segmento 5\")\n",
    "print(\"\")\n",
    "print(f\"Comprende clientes que en los ultimos 30 dias no vengan a TATA (25/12/2023 - 24/01/2024) y tengan Score 5 en la subclase\")\n",
    "print(f\"De los {a} clientes que cumplen dicho criterio, un {b}% volvieron a TATA luego del Ofertata 4 (25/01/2024 en adelante)\")\n",
    "print(\"\")\n",
    "print(f\"Asimismo, de los {a} clientes, un {c}% volvieron a TATA luego del Ofertata 4 (25/01/2024 en adelante) Y compraron la subclase que se les promociono, siendo ATUN y YERBA TRADICIONAL las mejores subclases\")"
   ],
   "metadata": {
    "collapsed": false
   }
  },
  {
   "cell_type": "markdown",
   "source": [
    "## Venta y GB1"
   ],
   "metadata": {
    "collapsed": false
   }
  },
  {
   "cell_type": "code",
   "execution_count": 50,
   "outputs": [
    {
     "name": "stdout",
     "output_type": "stream",
     "text": [
      "Ventas en Miles: 140\n",
      "GB1 en Miles: 26\n"
     ]
    }
   ],
   "source": [
    "query = '''\n",
    "SELECT\n",
    "    FFM.SOCI_SOCI_ID,\n",
    "    FFM.SOCI_SOCI_ID || SUB.SUBCLASE AS K,\n",
    "    SUM(FV.VNTA_IMPORTE_SIN_IVA) AS VENTAS,\n",
    "    SUM(FV.VNTA_IMPORTE_SIN_IVA) - SUM(FV.VNTA_UNIDADES * FV.VNTA_COSTO_PROM_POND) AS GB1\n",
    "FROM\n",
    "    MSTRDB.DWH.FT_FDLN_MOVIMIENTOS AS FFM\n",
    "    INNER JOIN MSTRDB.DWH.FT_VENTAS AS FV ON FV.TICKET = FFM.TICKET\n",
    "    INNER JOIN MSTRDB.DWH.LU_ARTC_ARTICULO AS LAA ON LAA.ARTC_ARTC_ID = FV.ARTC_ARTC_ID\n",
    "    INNER JOIN MSTRDB.DWH.ITEM_MASTER AS IM ON IM.ITEM = LAA.ORIN\n",
    "    INNER JOIN MSTRDB.DWH.SUBCLASS AS SUB ON SUB.SUBCLASE = IM.SUBCLASE\n",
    "WHERE\n",
    "    FFM.TIEM_DIA_ID BETWEEN '2024-01-24' AND '2024-01-31'\n",
    "    AND FFM.GEOG_LOCL_ID IN (SELECT GEOG_LOCL_ID FROM MSTRDB.DWH.LU_GEOG_LOCAL WHERE GEOG_UNNG_ID = 2)\n",
    "    AND SUB.SUB_NAME IN {subclases_query}\n",
    "GROUP BY\n",
    "    ALL\n",
    "'''\n",
    "\n",
    "cursor.execute(query.format(\n",
    "    subclases_query = tuple(segm_5['SUB_NAME'].unique())\n",
    "    ))\n",
    "ventas_segm_5 = cursor.fetch_pandas_all()\n",
    "\n",
    "ventas_segm_5 = ventas_segm_5[ventas_segm_5['K'].isin(segm_5['K'])]\n",
    "\n",
    "print(f\"Ventas en Miles: {int(round(ventas_segm_5['VENTAS'].sum() / 1000, 0))}\")\n",
    "print(f\"GB1 en Miles: {int(round(ventas_segm_5['GB1'].sum() / 1000, 0))}\")"
   ],
   "metadata": {
    "collapsed": false
   }
  },
  {
   "cell_type": "markdown",
   "source": [
    "# Segmento 3"
   ],
   "metadata": {
    "collapsed": false
   }
  },
  {
   "cell_type": "code",
   "execution_count": 34,
   "outputs": [],
   "source": [
    "# Para cada categoria (subclase) son los clientes activos que no compran la subclase y tienen score 5"
   ],
   "metadata": {
    "collapsed": false
   }
  },
  {
   "cell_type": "code",
   "execution_count": 35,
   "outputs": [],
   "source": [
    "segm_3 = df[df['SEGMENTO'] == 'S3']\n",
    "segm_3['K'] = segm_3['SOCI_SOCI_ID'].astype(str) + segm_3['SUBCLASE'].astype(str)"
   ],
   "metadata": {
    "collapsed": false
   }
  },
  {
   "cell_type": "code",
   "execution_count": 36,
   "outputs": [
    {
     "data": {
      "text/plain": "array(['A BASE DE TOMATE', 'ATUN', 'CERVEZAS IMPORTADAS', 'CUADRADA',\n       'DURAZNOS REGULARES', 'YERBA TRADICIONAL'], dtype=object)"
     },
     "execution_count": 36,
     "metadata": {},
     "output_type": "execute_result"
    }
   ],
   "source": [
    "segm_3['SUB_NAME'].unique()"
   ],
   "metadata": {
    "collapsed": false
   }
  },
  {
   "cell_type": "code",
   "execution_count": 37,
   "outputs": [
    {
     "data": {
      "text/plain": "             TICKET  SOCI_SOCI_ID SUB_NAME\n0  2024012830383345        415855     ATUN\n1   202401283033656       2166376     ATUN",
      "text/html": "<div>\n<style scoped>\n    .dataframe tbody tr th:only-of-type {\n        vertical-align: middle;\n    }\n\n    .dataframe tbody tr th {\n        vertical-align: top;\n    }\n\n    .dataframe thead th {\n        text-align: right;\n    }\n</style>\n<table border=\"1\" class=\"dataframe\">\n  <thead>\n    <tr style=\"text-align: right;\">\n      <th></th>\n      <th>TICKET</th>\n      <th>SOCI_SOCI_ID</th>\n      <th>SUB_NAME</th>\n    </tr>\n  </thead>\n  <tbody>\n    <tr>\n      <th>0</th>\n      <td>2024012830383345</td>\n      <td>415855</td>\n      <td>ATUN</td>\n    </tr>\n    <tr>\n      <th>1</th>\n      <td>202401283033656</td>\n      <td>2166376</td>\n      <td>ATUN</td>\n    </tr>\n  </tbody>\n</table>\n</div>"
     },
     "execution_count": 37,
     "metadata": {},
     "output_type": "execute_result"
    }
   ],
   "source": [
    "query = '''\n",
    "SELECT\n",
    "    FFM.TICKET,\n",
    "    FFM.SOCI_SOCI_ID,\n",
    "    SUB.SUB_NAME\n",
    "FROM\n",
    "    MSTRDB.DWH.FT_VENTAS AS FV\n",
    "    INNER JOIN MSTRDB.DWH.FT_FDLN_MOVIMIENTOS AS FFM ON FV.TICKET = FFM.TICKET\n",
    "    INNER JOIN MSTRDB.DWH.LU_ARTC_ARTICULO AS LAA ON FV.ARTC_ARTC_ID = LAA.ARTC_ARTC_ID\n",
    "    INNER JOIN MSTRDB.DWH.ITEM_MASTER AS IM ON IM.ITEM = LAA.ORIN\n",
    "    INNER JOIN MSTRDB.DWH.SUBCLASS AS SUB ON SUB.SUBCLASE = IM.SUBCLASE\n",
    "WHERE\n",
    "    SUB.SUB_NAME IN {subclases_snow}\n",
    "    AND FFM.TIEM_DIA_ID > '2024-01-24'\n",
    "'''\n",
    "\n",
    "cursor.execute(query.format(subclases_snow = tuple(segm_3['SUB_NAME'].unique())))\n",
    "volvieron_subclase_segm_3 = cursor.fetch_pandas_all()\n",
    "\n",
    "volvieron_subclase_segm_3.head(2)"
   ],
   "metadata": {
    "collapsed": false
   }
  },
  {
   "cell_type": "code",
   "execution_count": 38,
   "outputs": [
    {
     "name": "stdout",
     "output_type": "stream",
     "text": [
      "247454\n",
      "121836\n",
      "46443\n"
     ]
    }
   ],
   "source": [
    "print(volvieron_subclase_segm_3.shape[0])\n",
    "volvieron_subclase_segm_3_version_2 = volvieron_subclase_segm_3[(volvieron_subclase_segm_3['SOCI_SOCI_ID'].isin(segm_3['SOCI_SOCI_ID'])) & (volvieron_subclase_segm_3['SUB_NAME'].isin(segm_3['SUB_NAME']))]\n",
    "print(volvieron_subclase_segm_3_version_2.shape[0])\n",
    "print(volvieron_subclase_segm_3_version_2['SOCI_SOCI_ID'].nunique())"
   ],
   "metadata": {
    "collapsed": false
   }
  },
  {
   "cell_type": "code",
   "execution_count": 39,
   "outputs": [
    {
     "data": {
      "text/plain": "              SUB_NAME  COMPRARON  IMPACTADOS  RATIO\n1                 ATUN      19701       19974     98\n5    YERBA TRADICIONAL      18758       20803     90\n2  CERVEZAS IMPORTADAS      11496       28013     41\n4   DURAZNOS REGULARES       6392       28034     22\n0     A BASE DE TOMATE       3964       32388     12\n3             CUADRADA       3701       35183     10",
      "text/html": "<div>\n<style scoped>\n    .dataframe tbody tr th:only-of-type {\n        vertical-align: middle;\n    }\n\n    .dataframe tbody tr th {\n        vertical-align: top;\n    }\n\n    .dataframe thead th {\n        text-align: right;\n    }\n</style>\n<table border=\"1\" class=\"dataframe\">\n  <thead>\n    <tr style=\"text-align: right;\">\n      <th></th>\n      <th>SUB_NAME</th>\n      <th>COMPRARON</th>\n      <th>IMPACTADOS</th>\n      <th>RATIO</th>\n    </tr>\n  </thead>\n  <tbody>\n    <tr>\n      <th>1</th>\n      <td>ATUN</td>\n      <td>19701</td>\n      <td>19974</td>\n      <td>98</td>\n    </tr>\n    <tr>\n      <th>5</th>\n      <td>YERBA TRADICIONAL</td>\n      <td>18758</td>\n      <td>20803</td>\n      <td>90</td>\n    </tr>\n    <tr>\n      <th>2</th>\n      <td>CERVEZAS IMPORTADAS</td>\n      <td>11496</td>\n      <td>28013</td>\n      <td>41</td>\n    </tr>\n    <tr>\n      <th>4</th>\n      <td>DURAZNOS REGULARES</td>\n      <td>6392</td>\n      <td>28034</td>\n      <td>22</td>\n    </tr>\n    <tr>\n      <th>0</th>\n      <td>A BASE DE TOMATE</td>\n      <td>3964</td>\n      <td>32388</td>\n      <td>12</td>\n    </tr>\n    <tr>\n      <th>3</th>\n      <td>CUADRADA</td>\n      <td>3701</td>\n      <td>35183</td>\n      <td>10</td>\n    </tr>\n  </tbody>\n</table>\n</div>"
     },
     "execution_count": 39,
     "metadata": {},
     "output_type": "execute_result"
    }
   ],
   "source": [
    "# Compraron\n",
    "volvieron_subclase_segm_3_version_2_resumen = volvieron_subclase_segm_3_version_2.groupby('SUB_NAME')['SOCI_SOCI_ID'].nunique().reset_index()\n",
    "volvieron_subclase_segm_3_version_2_resumen.rename({'SOCI_SOCI_ID':'COMPRARON'}, axis = 1, inplace = True)\n",
    "\n",
    "# Impactados\n",
    "impactados_segm_3 = segm_3.groupby('SUB_NAME')['SOCI_SOCI_ID'].nunique().reset_index()\n",
    "impactados_segm_3.rename({'SOCI_SOCI_ID':'IMPACTADOS'}, axis = 1, inplace = True)\n",
    "\n",
    "# Consolido\n",
    "volvieron_subclase_segm_3_version_2_resumen = volvieron_subclase_segm_3_version_2_resumen.merge(impactados_segm_3, on = 'SUB_NAME', how = 'inner')\n",
    "volvieron_subclase_segm_3_version_2_resumen['RATIO'] = (volvieron_subclase_segm_3_version_2_resumen['COMPRARON'] / volvieron_subclase_segm_3_version_2_resumen['IMPACTADOS'] * 100).astype(int)\n",
    "volvieron_subclase_segm_3_version_2_resumen.sort_values(by = 'RATIO', ascending = False)"
   ],
   "metadata": {
    "collapsed": false
   }
  },
  {
   "cell_type": "code",
   "execution_count": 40,
   "outputs": [
    {
     "name": "stdout",
     "output_type": "stream",
     "text": [
      "---- Segmento 3\n",
      "\n",
      "El Segmento 3 comprende a los clientes activos que no compran la subclase y tienen score 5 en la misma\n",
      "\n",
      "De los 164395 clientes que cumplen dicho criterio, un 28% volvieron a TATA luego del Ofertata 4 (25/01/2024 en adelante) Y compraron la subclase que se les promociono, siendo ATUN y YERBA TRADICIONAL las mejores subclases\n"
     ]
    }
   ],
   "source": [
    "a = segm_3['SOCI_SOCI_ID'].nunique()\n",
    "b = int(volvieron_subclase_segm_3_version_2['SOCI_SOCI_ID'].nunique() / segm_3['SOCI_SOCI_ID'].nunique() * 100)\n",
    "\n",
    "print(\"---- Segmento 3\")\n",
    "print(\"\")\n",
    "print(f\"El Segmento 3 comprende a los clientes activos que no compran la subclase y tienen score 5 en la misma\")\n",
    "print(\"\")\n",
    "print(f\"De los {a} clientes que cumplen dicho criterio, un {b}% volvieron a TATA luego del Ofertata 4 (25/01/2024 en adelante) Y compraron la subclase que se les promociono, siendo ATUN y YERBA TRADICIONAL las mejores subclases\")"
   ],
   "metadata": {
    "collapsed": false
   }
  },
  {
   "cell_type": "markdown",
   "source": [
    "## Venta y GB1"
   ],
   "metadata": {
    "collapsed": false
   }
  },
  {
   "cell_type": "code",
   "execution_count": 47,
   "outputs": [
    {
     "name": "stdout",
     "output_type": "stream",
     "text": [
      "Ventas en Miles: 482\n",
      "GB1 en Miles: 69\n"
     ]
    }
   ],
   "source": [
    "query = '''\n",
    "SELECT\n",
    "    FFM.SOCI_SOCI_ID,\n",
    "    FFM.SOCI_SOCI_ID || SUB.SUBCLASE AS K,\n",
    "    SUM(FV.VNTA_IMPORTE_SIN_IVA) AS VENTAS,\n",
    "    SUM(FV.VNTA_IMPORTE_SIN_IVA) - SUM(FV.VNTA_UNIDADES * FV.VNTA_COSTO_PROM_POND) AS GB1\n",
    "FROM\n",
    "    MSTRDB.DWH.FT_FDLN_MOVIMIENTOS AS FFM\n",
    "    INNER JOIN MSTRDB.DWH.FT_VENTAS AS FV ON FV.TICKET = FFM.TICKET\n",
    "    INNER JOIN MSTRDB.DWH.LU_ARTC_ARTICULO AS LAA ON LAA.ARTC_ARTC_ID = FV.ARTC_ARTC_ID\n",
    "    INNER JOIN MSTRDB.DWH.ITEM_MASTER AS IM ON IM.ITEM = LAA.ORIN\n",
    "    INNER JOIN MSTRDB.DWH.SUBCLASS AS SUB ON SUB.SUBCLASE = IM.SUBCLASE\n",
    "WHERE\n",
    "    FFM.TIEM_DIA_ID BETWEEN '2024-01-24' AND '2024-01-31'\n",
    "    AND FFM.GEOG_LOCL_ID IN (SELECT GEOG_LOCL_ID FROM MSTRDB.DWH.LU_GEOG_LOCAL WHERE GEOG_UNNG_ID = 2)\n",
    "    AND SUB.SUB_NAME IN {subclases_query}\n",
    "GROUP BY\n",
    "    ALL\n",
    "'''\n",
    "\n",
    "cursor.execute(query.format(\n",
    "    subclases_query = tuple(segm_3['SUB_NAME'].unique())\n",
    "    ))\n",
    "ventas_segm_3 = cursor.fetch_pandas_all()\n",
    "\n",
    "ventas_segm_3 = ventas_segm_3[ventas_segm_3['K'].isin(segm_3['K'])]\n",
    "\n",
    "print(f\"Ventas en Miles: {int(round(ventas_segm_3['VENTAS'].sum() / 1000, 0))}\")\n",
    "print(f\"GB1 en Miles: {int(round(ventas_segm_3['GB1'].sum() / 1000, 0))}\")"
   ],
   "metadata": {
    "collapsed": false
   }
  },
  {
   "cell_type": "code",
   "execution_count": 41,
   "outputs": [],
   "source": [],
   "metadata": {
    "collapsed": false
   }
  },
  {
   "cell_type": "markdown",
   "source": [
    "# Fin"
   ],
   "metadata": {
    "collapsed": false
   },
   "execution_count": 1
  }
 ],
 "metadata": {
  "colab": {
   "collapsed_sections": [],
   "provenance": []
  },
  "kernelspec": {
   "display_name": "Python 3.9.12 ('env')",
   "language": "python",
   "name": "python3"
  },
  "language_info": {
   "codemirror_mode": {
    "name": "ipython",
    "version": 3
   },
   "file_extension": ".py",
   "mimetype": "text/x-python",
   "name": "python",
   "nbconvert_exporter": "python",
   "pygments_lexer": "ipython3",
   "version": "3.9.12"
  },
  "orig_nbformat": 4,
  "vscode": {
   "interpreter": {
    "hash": "1c19c5efd8f4b93ccbd4006c6f9f93fa19f57b77bfb4a2e5dfb55a2b8dd9ae6c"
   }
  }
 },
 "nbformat": 4,
 "nbformat_minor": 0
}
