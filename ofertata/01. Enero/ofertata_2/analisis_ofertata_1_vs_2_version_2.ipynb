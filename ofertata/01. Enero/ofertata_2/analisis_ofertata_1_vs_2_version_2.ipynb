{
 "cells": [
  {
   "cell_type": "markdown",
   "source": [
    "# Importamos librerias"
   ],
   "metadata": {
    "collapsed": false
   }
  },
  {
   "cell_type": "code",
   "execution_count": 1,
   "metadata": {
    "id": "tKk581G_hMT0"
   },
   "outputs": [],
   "source": [
    "import pandas as pd\n",
    "import numpy as np\n",
    "import os\n",
    "import snowflake.connector\n",
    "import json\n",
    "from snowflake.connector.pandas_tools import write_pandas\n",
    "from datetime import datetime\n",
    "from datetime import timedelta\n",
    "from dateutil.relativedelta import relativedelta\n",
    "pd.options.mode.chained_assignment = None"
   ]
  },
  {
   "cell_type": "code",
   "execution_count": 2,
   "metadata": {
    "colab": {
     "base_uri": "https://localhost:8080/"
    },
    "id": "ChvQTwl1D-Ls",
    "outputId": "351b443f-8ebf-4a34-f7ba-93fb012f5082"
   },
   "outputs": [
    {
     "name": "stdout",
     "output_type": "stream",
     "text": [
      "Incorrect Password - provide again\n",
      "Connected\n"
     ]
    }
   ],
   "source": [
    "while True:\n",
    "    try:\n",
    "\n",
    "        f = open('credentials.json')\n",
    "        data_pass = json.load(f)\n",
    "\n",
    "        pass_ = input(\"INGRESAR PASSCODE:\")\n",
    "\n",
    "        ctx = snowflake.connector.connect(\n",
    "            user = data_pass['snow']['USER'],\n",
    "            password = data_pass['snow']['PASS'],\n",
    "            account = data_pass['snow']['ACCOUNT'],\n",
    "            passcode = pass_,\n",
    "            database = 'SANDBOX_PLUS',\n",
    "            schema = 'DWH'\n",
    "        )\n",
    "\n",
    "        cursor = ctx.cursor()\n",
    "\n",
    "        print('Connected')\n",
    "\n",
    "        break\n",
    "\n",
    "    except:\n",
    "        print('Incorrect Password - provide again')"
   ]
  },
  {
   "cell_type": "markdown",
   "source": [
    "# Ofertata 1"
   ],
   "metadata": {
    "collapsed": false
   }
  },
  {
   "cell_type": "code",
   "execution_count": 81,
   "outputs": [
    {
     "name": "stdout",
     "output_type": "stream",
     "text": [
      "1922214\n"
     ]
    },
    {
     "data": {
      "text/plain": "           SUB_NAME    SUBCLASE  MARCA  SOCI_SOCI_ID CLIE_TIPO_DOC  \\\n0  HELADOS 2 LITROS  3200010002  CRUFI        424169             C   \n1  HELADOS 2 LITROS  3200010002  CRUFI        359467             C   \n\n   CLIE_CLIE_NDOC ULTIMOS_4     CELULAR CORREO SEGMENTO  \n0      33913931.0   CI:3931  99361891.0    NaN   Segm 5  \n1      33947099.0   CI:7099  99481357.0    NaN   Segm 5  ",
      "text/html": "<div>\n<style scoped>\n    .dataframe tbody tr th:only-of-type {\n        vertical-align: middle;\n    }\n\n    .dataframe tbody tr th {\n        vertical-align: top;\n    }\n\n    .dataframe thead th {\n        text-align: right;\n    }\n</style>\n<table border=\"1\" class=\"dataframe\">\n  <thead>\n    <tr style=\"text-align: right;\">\n      <th></th>\n      <th>SUB_NAME</th>\n      <th>SUBCLASE</th>\n      <th>MARCA</th>\n      <th>SOCI_SOCI_ID</th>\n      <th>CLIE_TIPO_DOC</th>\n      <th>CLIE_CLIE_NDOC</th>\n      <th>ULTIMOS_4</th>\n      <th>CELULAR</th>\n      <th>CORREO</th>\n      <th>SEGMENTO</th>\n    </tr>\n  </thead>\n  <tbody>\n    <tr>\n      <th>0</th>\n      <td>HELADOS 2 LITROS</td>\n      <td>3200010002</td>\n      <td>CRUFI</td>\n      <td>424169</td>\n      <td>C</td>\n      <td>33913931.0</td>\n      <td>CI:3931</td>\n      <td>99361891.0</td>\n      <td>NaN</td>\n      <td>Segm 5</td>\n    </tr>\n    <tr>\n      <th>1</th>\n      <td>HELADOS 2 LITROS</td>\n      <td>3200010002</td>\n      <td>CRUFI</td>\n      <td>359467</td>\n      <td>C</td>\n      <td>33947099.0</td>\n      <td>CI:7099</td>\n      <td>99481357.0</td>\n      <td>NaN</td>\n      <td>Segm 5</td>\n    </tr>\n  </tbody>\n</table>\n</div>"
     },
     "execution_count": 81,
     "metadata": {},
     "output_type": "execute_result"
    }
   ],
   "source": [
    "directory_path = r'C:\\Users\\leonardo.mangold\\PycharmProjects\\promos_inteligencia_negocio\\pedidos_fede\\01. Enero\\ofertata_1'\n",
    "\n",
    "all_files = os.listdir(directory_path)\n",
    "\n",
    "files = [file for file in all_files if file.endswith('.csv')]\n",
    "segmento_ofertata_1 = pd.DataFrame()\n",
    "\n",
    "for file in files:\n",
    "    df_aux = pd.read_csv(f\"C:\\\\Users\\\\leonardo.mangold\\\\PycharmProjects\\\\promos_inteligencia_negocio\\\\pedidos_fede\\\\01. Enero\\\\ofertata_1\\\\{file}\")\n",
    "    df_aux['SEGMENTO'] = file.split('.')[0]\n",
    "    segmento_ofertata_1 = pd.concat([df_aux, segmento_ofertata_1], ignore_index=True)\n",
    "print(segmento_ofertata_1.shape[0])\n",
    "segmento_ofertata_1.head(2)"
   ],
   "metadata": {
    "collapsed": false
   }
  },
  {
   "cell_type": "code",
   "execution_count": 82,
   "outputs": [
    {
     "data": {
      "text/plain": "Segm 3    1442018\nSegm 5     480196\nName: SEGMENTO, dtype: int64"
     },
     "execution_count": 82,
     "metadata": {},
     "output_type": "execute_result"
    }
   ],
   "source": [
    "segmento_ofertata_1['SEGMENTO'].value_counts()"
   ],
   "metadata": {
    "collapsed": false
   }
  },
  {
   "cell_type": "code",
   "execution_count": 83,
   "outputs": [
    {
     "data": {
      "text/plain": "  SEGMENTO  SOCI_SOCI_ID\n0   Segm 3        203698\n1   Segm 5         68557",
      "text/html": "<div>\n<style scoped>\n    .dataframe tbody tr th:only-of-type {\n        vertical-align: middle;\n    }\n\n    .dataframe tbody tr th {\n        vertical-align: top;\n    }\n\n    .dataframe thead th {\n        text-align: right;\n    }\n</style>\n<table border=\"1\" class=\"dataframe\">\n  <thead>\n    <tr style=\"text-align: right;\">\n      <th></th>\n      <th>SEGMENTO</th>\n      <th>SOCI_SOCI_ID</th>\n    </tr>\n  </thead>\n  <tbody>\n    <tr>\n      <th>0</th>\n      <td>Segm 3</td>\n      <td>203698</td>\n    </tr>\n    <tr>\n      <th>1</th>\n      <td>Segm 5</td>\n      <td>68557</td>\n    </tr>\n  </tbody>\n</table>\n</div>"
     },
     "execution_count": 83,
     "metadata": {},
     "output_type": "execute_result"
    }
   ],
   "source": [
    "# Impactados unicos por Segmento\n",
    "segmento_ofertata_1.groupby('SEGMENTO')['SOCI_SOCI_ID'].nunique().reset_index()"
   ],
   "metadata": {
    "collapsed": false
   }
  },
  {
   "cell_type": "code",
   "execution_count": 104,
   "outputs": [
    {
     "data": {
      "text/plain": "242662"
     },
     "execution_count": 104,
     "metadata": {},
     "output_type": "execute_result"
    }
   ],
   "source": [
    "segmento_ofertata_1['SOCI_SOCI_ID'].nunique()"
   ],
   "metadata": {
    "collapsed": false
   }
  },
  {
   "cell_type": "code",
   "execution_count": 84,
   "outputs": [
    {
     "name": "stdout",
     "output_type": "stream",
     "text": [
      "94042\n"
     ]
    },
    {
     "data": {
      "text/plain": "      SUBCLASE              TICKET  SOCI_SOCI_ID   VENTA      GB1 OFERTATA\n0   3000020002  202401093181275376        206429  282.79  87.4102        1\n22  7600060004   20240109495497680        288481   69.00   8.2400        1",
      "text/html": "<div>\n<style scoped>\n    .dataframe tbody tr th:only-of-type {\n        vertical-align: middle;\n    }\n\n    .dataframe tbody tr th {\n        vertical-align: top;\n    }\n\n    .dataframe thead th {\n        text-align: right;\n    }\n</style>\n<table border=\"1\" class=\"dataframe\">\n  <thead>\n    <tr style=\"text-align: right;\">\n      <th></th>\n      <th>SUBCLASE</th>\n      <th>TICKET</th>\n      <th>SOCI_SOCI_ID</th>\n      <th>VENTA</th>\n      <th>GB1</th>\n      <th>OFERTATA</th>\n    </tr>\n  </thead>\n  <tbody>\n    <tr>\n      <th>0</th>\n      <td>3000020002</td>\n      <td>202401093181275376</td>\n      <td>206429</td>\n      <td>282.79</td>\n      <td>87.4102</td>\n      <td>1</td>\n    </tr>\n    <tr>\n      <th>22</th>\n      <td>7600060004</td>\n      <td>20240109495497680</td>\n      <td>288481</td>\n      <td>69.00</td>\n      <td>8.2400</td>\n      <td>1</td>\n    </tr>\n  </tbody>\n</table>\n</div>"
     },
     "execution_count": 84,
     "metadata": {},
     "output_type": "execute_result"
    }
   ],
   "source": [
    "query = '''\n",
    "SELECT\n",
    "    IM.SUBCLASE,\n",
    "    FV.TICKET,\n",
    "    FFM.SOCI_SOCI_ID,\n",
    "    SUM(FV.VNTA_IMPORTE_SIN_IVA) AS VENTA,\n",
    "    SUM(FV.VNTA_IMPORTE_SIN_IVA) - SUM(FV.VNTA_COSTO_PROM_POND * FV.VNTA_UNIDADES) AS GB1\n",
    "FROM\n",
    "    MSTRDB.DWH.FT_VENTAS AS FV\n",
    "    INNER JOIN MSTRDB.DWH.LU_ARTC_ARTICULO AS LAA ON FV.ARTC_ARTC_ID = LAA.ARTC_ARTC_ID\n",
    "    INNER JOIN MSTRDB.DWH.FT_FDLN_MOVIMIENTOS AS FFM ON FFM.TICKET = FV.TICKET\n",
    "    INNER JOIN MSTRDB.DWH.ITEM_MASTER AS IM ON IM.ITEM = LAA.ORIN\n",
    "WHERE\n",
    "    FV.TIEM_DIA_ID BETWEEN '{inicio_sql}' AND '{fin_sql}'\n",
    "GROUP BY\n",
    "    ALL\n",
    "'''\n",
    "\n",
    "ofertata_1_inicio = '2024-01-04'\n",
    "ofertata_1_fin = '2024-01-10'\n",
    "ofertata_1_label = 'Ofertata 1'\n",
    "\n",
    "cursor.execute(query.format(\n",
    "    inicio_sql = ofertata_1_inicio,\n",
    "    fin_sql = ofertata_1_fin\n",
    "))\n",
    "\n",
    "ofertata_1 = cursor.fetch_pandas_all()\n",
    "ofertata_1['OFERTATA'] = '1'\n",
    "\n",
    "# Me quedo con los movimientos del segmento cuando hayan comprado la subclase que les quise impactar\n",
    "\n",
    "ofertata_1 = ofertata_1[(ofertata_1['SUBCLASE'].isin(segmento_ofertata_1['SUBCLASE'])) & (ofertata_1['SOCI_SOCI_ID'].isin(segmento_ofertata_1['SOCI_SOCI_ID']))]\n",
    "\n",
    "print(ofertata_1.shape[0])\n",
    "ofertata_1.head(2)"
   ],
   "metadata": {
    "collapsed": false
   }
  },
  {
   "cell_type": "code",
   "execution_count": 85,
   "outputs": [
    {
     "data": {
      "text/plain": "  OFERTATA  VENTA MM  GB1 MM  TICKETS M  CLIENTES M\n0        1      12.3     3.3       73.8        50.9",
      "text/html": "<div>\n<style scoped>\n    .dataframe tbody tr th:only-of-type {\n        vertical-align: middle;\n    }\n\n    .dataframe tbody tr th {\n        vertical-align: top;\n    }\n\n    .dataframe thead th {\n        text-align: right;\n    }\n</style>\n<table border=\"1\" class=\"dataframe\">\n  <thead>\n    <tr style=\"text-align: right;\">\n      <th></th>\n      <th>OFERTATA</th>\n      <th>VENTA MM</th>\n      <th>GB1 MM</th>\n      <th>TICKETS M</th>\n      <th>CLIENTES M</th>\n    </tr>\n  </thead>\n  <tbody>\n    <tr>\n      <th>0</th>\n      <td>1</td>\n      <td>12.3</td>\n      <td>3.3</td>\n      <td>73.8</td>\n      <td>50.9</td>\n    </tr>\n  </tbody>\n</table>\n</div>"
     },
     "execution_count": 85,
     "metadata": {},
     "output_type": "execute_result"
    }
   ],
   "source": [
    "ofertata_1_grouped = ofertata_1.groupby('OFERTATA').agg(\n",
    "    {'VENTA': 'sum',\n",
    "     'GB1': 'sum',\n",
    "     'TICKET': 'nunique',\n",
    "     'SOCI_SOCI_ID':'nunique'\n",
    "     }).reset_index()\n",
    "\n",
    "ofertata_1_grouped['VENTA'] = round(ofertata_1_grouped['VENTA'] / 1000000, 1)\n",
    "ofertata_1_grouped['GB1'] = round(ofertata_1_grouped['GB1'] / 1000000, 1)\n",
    "ofertata_1_grouped['TICKET'] = round(ofertata_1_grouped['TICKET'] / 1000, 1)\n",
    "ofertata_1_grouped['SOCI_SOCI_ID'] = round(ofertata_1_grouped['SOCI_SOCI_ID'] / 1000, 1)\n",
    "\n",
    "ofertata_1_grouped.rename({'TICKET': 'TICKETS M',\n",
    "                           'SOCI_SOCI_ID':'CLIENTES M',\n",
    "                           'VENTA':'VENTA MM',\n",
    "                           'GB1':'GB1 MM'\n",
    "                           }, axis=1, inplace=True)\n",
    "\n",
    "ofertata_1_grouped"
   ],
   "metadata": {
    "collapsed": false
   }
  },
  {
   "cell_type": "markdown",
   "source": [
    "# Ofertata 2"
   ],
   "metadata": {
    "collapsed": false
   }
  },
  {
   "cell_type": "code",
   "execution_count": 86,
   "outputs": [],
   "source": [
    "# En ofertata 2 no hubo segmento. Por eso: en base a los que compraron en ofertata 2, ver cuanta gente hubiera caido en los segmentos 3 y 5"
   ],
   "metadata": {
    "collapsed": false
   }
  },
  {
   "cell_type": "markdown",
   "source": [
    "## Subclases"
   ],
   "metadata": {
    "collapsed": false
   },
   "execution_count": 10
  },
  {
   "cell_type": "code",
   "execution_count": 87,
   "outputs": [
    {
     "data": {
      "text/plain": "     SUBCLASE\n0  4000030002\n1   100020002",
      "text/html": "<div>\n<style scoped>\n    .dataframe tbody tr th:only-of-type {\n        vertical-align: middle;\n    }\n\n    .dataframe tbody tr th {\n        vertical-align: top;\n    }\n\n    .dataframe thead th {\n        text-align: right;\n    }\n</style>\n<table border=\"1\" class=\"dataframe\">\n  <thead>\n    <tr style=\"text-align: right;\">\n      <th></th>\n      <th>SUBCLASE</th>\n    </tr>\n  </thead>\n  <tbody>\n    <tr>\n      <th>0</th>\n      <td>4000030002</td>\n    </tr>\n    <tr>\n      <th>1</th>\n      <td>100020002</td>\n    </tr>\n  </tbody>\n</table>\n</div>"
     },
     "execution_count": 87,
     "metadata": {},
     "output_type": "execute_result"
    }
   ],
   "source": [
    "query = '''\n",
    "SELECT\n",
    "    DISTINCT IM.SUBCLASE\n",
    "FROM\n",
    "    MSTRDB.DWH.LU_ARTC_ARTICULO AS LAA\n",
    "    INNER JOIN MSTRDB.DWH.ITEM_MASTER AS IM ON IM.ITEM = LAA.ORIN\n",
    "WHERE\n",
    "    LAA.ORIN IN\n",
    "    (\n",
    "    '1000050223', '1000052025', '1000052026', '1000050604', '1000051793', '1000050430', '1000052904', '1000055018', '1000054557', '1000054561', '1000054554', '1000115080', '1000050183', '1000057475', '1000157003', '1000300431', '1000056430', '1000056460', '1000056444', '1000047820', '1000047821', '1000293393', '1000293392', '1000293399', '1000047464', '1000047463', '1000059577', '1000099194', '1000099195', '1000099197', '1000099200', '1000025827', '1000361491', '1000041840', '1000041838', '1000041824', '1000041839', '1000037657'\n",
    "    )\n",
    "'''\n",
    "cursor.execute(query)\n",
    "subclases_ofertata_2 = cursor.fetch_pandas_all()\n",
    "subclases_ofertata_2.head(2)"
   ],
   "metadata": {
    "collapsed": false
   }
  },
  {
   "cell_type": "markdown",
   "source": [
    "## Movimientos"
   ],
   "metadata": {
    "collapsed": false
   }
  },
  {
   "cell_type": "code",
   "execution_count": 88,
   "outputs": [
    {
     "name": "stdout",
     "output_type": "stream",
     "text": [
      "312280\n"
     ]
    },
    {
     "data": {
      "text/plain": "     SUBCLASE              TICKET  SOCI_SOCI_ID   VENTA      GB1 OFERTATA\n0  1500050001   20240114961905484        219544   96.76 -42.1504        2\n1  1600090003  202401142083320442        456955  167.27  27.4100        2",
      "text/html": "<div>\n<style scoped>\n    .dataframe tbody tr th:only-of-type {\n        vertical-align: middle;\n    }\n\n    .dataframe tbody tr th {\n        vertical-align: top;\n    }\n\n    .dataframe thead th {\n        text-align: right;\n    }\n</style>\n<table border=\"1\" class=\"dataframe\">\n  <thead>\n    <tr style=\"text-align: right;\">\n      <th></th>\n      <th>SUBCLASE</th>\n      <th>TICKET</th>\n      <th>SOCI_SOCI_ID</th>\n      <th>VENTA</th>\n      <th>GB1</th>\n      <th>OFERTATA</th>\n    </tr>\n  </thead>\n  <tbody>\n    <tr>\n      <th>0</th>\n      <td>1500050001</td>\n      <td>20240114961905484</td>\n      <td>219544</td>\n      <td>96.76</td>\n      <td>-42.1504</td>\n      <td>2</td>\n    </tr>\n    <tr>\n      <th>1</th>\n      <td>1600090003</td>\n      <td>202401142083320442</td>\n      <td>456955</td>\n      <td>167.27</td>\n      <td>27.4100</td>\n      <td>2</td>\n    </tr>\n  </tbody>\n</table>\n</div>"
     },
     "execution_count": 88,
     "metadata": {},
     "output_type": "execute_result"
    }
   ],
   "source": [
    "query = '''\n",
    "SELECT\n",
    "    IM.SUBCLASE,\n",
    "    FV.TICKET,\n",
    "    FFM.SOCI_SOCI_ID,\n",
    "    SUM(FV.VNTA_IMPORTE_SIN_IVA) AS VENTA,\n",
    "    SUM(FV.VNTA_IMPORTE_SIN_IVA) - SUM(FV.VNTA_COSTO_PROM_POND * FV.VNTA_UNIDADES) AS GB1\n",
    "FROM\n",
    "    MSTRDB.DWH.FT_VENTAS AS FV\n",
    "    INNER JOIN MSTRDB.DWH.LU_ARTC_ARTICULO AS LAA ON FV.ARTC_ARTC_ID = LAA.ARTC_ARTC_ID\n",
    "    INNER JOIN MSTRDB.DWH.FT_FDLN_MOVIMIENTOS AS FFM ON FFM.TICKET = FV.TICKET\n",
    "    INNER JOIN MSTRDB.DWH.ITEM_MASTER AS IM ON IM.ITEM = LAA.ORIN\n",
    "WHERE\n",
    "    FV.TIEM_DIA_ID BETWEEN '{inicio_sql}' AND '{fin_sql}'\n",
    "    AND IM.SUBCLASE IN {subclases_snow}\n",
    "GROUP BY\n",
    "    ALL\n",
    "'''\n",
    "\n",
    "ofertata_2_inicio = '2024-01-11'\n",
    "ofertata_2_fin = '2024-01-17'\n",
    "ofertata_2_label = 'Ofertata 2'\n",
    "\n",
    "cursor.execute(query.format(\n",
    "    inicio_sql = ofertata_2_inicio,\n",
    "    fin_sql = ofertata_2_fin,\n",
    "    subclases_snow = tuple(subclases_ofertata_2['SUBCLASE'].astype(str))\n",
    "))\n",
    "\n",
    "ofertata_2 = cursor.fetch_pandas_all()\n",
    "ofertata_2['OFERTATA'] = '2'\n",
    "\n",
    "print(ofertata_2.shape[0])\n",
    "ofertata_2.head(2)"
   ],
   "metadata": {
    "collapsed": false
   }
  },
  {
   "cell_type": "markdown",
   "source": [
    "## Segmentos"
   ],
   "metadata": {
    "collapsed": false
   }
  },
  {
   "cell_type": "markdown",
   "source": [
    "### Segmento 3"
   ],
   "metadata": {
    "collapsed": false
   }
  },
  {
   "cell_type": "code",
   "execution_count": 89,
   "outputs": [],
   "source": [
    "# Para cada categoria (subclase) son los Clientes activos que no compran la subclase y tienen score 5"
   ],
   "metadata": {
    "collapsed": false
   }
  },
  {
   "cell_type": "code",
   "execution_count": 90,
   "outputs": [
    {
     "data": {
      "text/plain": "   SOCI_SOCI_ID    SUBCLASE                    K\n0        125375  1600090003  125375 - 1600090003\n1        125375   200050003   125375 - 200050003",
      "text/html": "<div>\n<style scoped>\n    .dataframe tbody tr th:only-of-type {\n        vertical-align: middle;\n    }\n\n    .dataframe tbody tr th {\n        vertical-align: top;\n    }\n\n    .dataframe thead th {\n        text-align: right;\n    }\n</style>\n<table border=\"1\" class=\"dataframe\">\n  <thead>\n    <tr style=\"text-align: right;\">\n      <th></th>\n      <th>SOCI_SOCI_ID</th>\n      <th>SUBCLASE</th>\n      <th>K</th>\n    </tr>\n  </thead>\n  <tbody>\n    <tr>\n      <th>0</th>\n      <td>125375</td>\n      <td>1600090003</td>\n      <td>125375 - 1600090003</td>\n    </tr>\n    <tr>\n      <th>1</th>\n      <td>125375</td>\n      <td>200050003</td>\n      <td>125375 - 200050003</td>\n    </tr>\n  </tbody>\n</table>\n</div>"
     },
     "execution_count": 90,
     "metadata": {},
     "output_type": "execute_result"
    }
   ],
   "source": [
    "# Parte 1. Traigo los clientes activos que tienen score 5 en las subclases\n",
    "query = '''\n",
    "WITH ACTIVOS AS\n",
    "    (\n",
    "    SELECT\n",
    "        DISTINCT SOCI_SOCI_ID\n",
    "    FROM\n",
    "        MSTRDB.DWH.FT_FDLN_MOVIMIENTOS\n",
    "    WHERE\n",
    "        GEOG_LOCL_ID IN (SELECT GEOG_LOCL_ID FROM MSTRDB.DWH.LU_GEOG_LOCAL WHERE GEOG_UNNG_ID = 2)\n",
    "        AND TIEM_DIA_ID >= DATEADD(MONTH, -1, CURRENT_DATE)\n",
    "    )\n",
    "\n",
    "SELECT\n",
    "    SOCI_SOCI_ID,\n",
    "    SUBCLASE\n",
    "FROM\n",
    "    BIZMETRIKS.DWH.LU_SCORING_SUBCLASE\n",
    "WHERE\n",
    "    SOCI_SOCI_ID IN (SELECT * FROM ACTIVOS)\n",
    "    AND SCORE = 5\n",
    "    AND SUBCLASE IN {subclases_snow}\n",
    "'''\n",
    "\n",
    "cursor.execute(query.format(subclases_snow = tuple(ofertata_2['SUBCLASE'].unique().astype(str))))\n",
    "segm_3_1 = cursor.fetch_pandas_all()\n",
    "segm_3_1['K'] = segm_3_1['SOCI_SOCI_ID'].astype(str) + ' - ' + segm_3_1['SUBCLASE'].astype(str)\n",
    "segm_3_1.head(2)"
   ],
   "metadata": {
    "collapsed": false
   }
  },
  {
   "cell_type": "code",
   "execution_count": 91,
   "outputs": [
    {
     "data": {
      "text/plain": "   SOCI_SOCI_ID    SUBCLASE                    K\n0        156608  8900050004  156608 - 8900050004\n1        191850  7900010002  191850 - 7900010002",
      "text/html": "<div>\n<style scoped>\n    .dataframe tbody tr th:only-of-type {\n        vertical-align: middle;\n    }\n\n    .dataframe tbody tr th {\n        vertical-align: top;\n    }\n\n    .dataframe thead th {\n        text-align: right;\n    }\n</style>\n<table border=\"1\" class=\"dataframe\">\n  <thead>\n    <tr style=\"text-align: right;\">\n      <th></th>\n      <th>SOCI_SOCI_ID</th>\n      <th>SUBCLASE</th>\n      <th>K</th>\n    </tr>\n  </thead>\n  <tbody>\n    <tr>\n      <th>0</th>\n      <td>156608</td>\n      <td>8900050004</td>\n      <td>156608 - 8900050004</td>\n    </tr>\n    <tr>\n      <th>1</th>\n      <td>191850</td>\n      <td>7900010002</td>\n      <td>191850 - 7900010002</td>\n    </tr>\n  </tbody>\n</table>\n</div>"
     },
     "execution_count": 91,
     "metadata": {},
     "output_type": "execute_result"
    }
   ],
   "source": [
    "# Parte 2. Traigo los clientes compraron las subclases\n",
    "query = '''\n",
    "SELECT\n",
    "    DISTINCT\n",
    "    FFM.SOCI_SOCI_ID,\n",
    "    IM.SUBCLASE\n",
    "FROM\n",
    "    MSTRDB.DWH.FT_FDLN_MOVIMIENTOS AS FFM\n",
    "    INNER JOIN MSTRDB.DWH.FT_VENTAS AS FV ON FV.TICKET = FFM.TICKET\n",
    "    INNER JOIN MSTRDB.DWH.LU_ARTC_ARTICULO AS LAA ON FV.ARTC_ARTC_ID = LAA.ARTC_ARTC_ID\n",
    "    INNER JOIN MSTRDB.DWH.ITEM_MASTER AS IM ON IM.ITEM = LAA.ORIN\n",
    "WHERE\n",
    "    FFM.GEOG_LOCL_ID IN (SELECT GEOG_LOCL_ID FROM MSTRDB.DWH.LU_GEOG_LOCAL WHERE GEOG_UNNG_ID = 2)\n",
    "    AND FFM.TIEM_DIA_ID >= DATEADD(MONTH, -1, CURRENT_DATE)\n",
    "    AND IM.SUBCLASE IN {subclases_snow}\n",
    "'''\n",
    "\n",
    "cursor.execute(query.format(subclases_snow = tuple(ofertata_2['SUBCLASE'].unique().astype(str))))\n",
    "segm_3_2 = cursor.fetch_pandas_all()\n",
    "segm_3_2['K'] = segm_3_2['SOCI_SOCI_ID'].astype(str) + ' - ' + segm_3_2['SUBCLASE'].astype(str)\n",
    "segm_3_2.head(2)"
   ],
   "metadata": {
    "collapsed": false
   }
  },
  {
   "cell_type": "code",
   "execution_count": 92,
   "outputs": [],
   "source": [
    "# Consolido\n",
    "\n",
    "# Me quedo con los clientes activos con score 5 en las subclases (segm_3_1) que no hayn comprado las sublcases\n",
    "\n",
    "segm_3 = segm_3_1[~segm_3_1['K'].isin(segm_3_2['K'])]"
   ],
   "metadata": {
    "collapsed": false
   }
  },
  {
   "cell_type": "markdown",
   "source": [
    "### Segmento 5"
   ],
   "metadata": {
    "collapsed": false
   }
  },
  {
   "cell_type": "code",
   "execution_count": 93,
   "outputs": [],
   "source": [
    "# Clientes que en el ultimo mes no vengan a tata y tengan Score 5 en la subclase"
   ],
   "metadata": {
    "collapsed": false
   }
  },
  {
   "cell_type": "code",
   "execution_count": 94,
   "outputs": [
    {
     "data": {
      "text/plain": "   SOCI_SOCI_ID     SUBCLASE\n0       1703642  10000030001\n1       1703642   2900020002",
      "text/html": "<div>\n<style scoped>\n    .dataframe tbody tr th:only-of-type {\n        vertical-align: middle;\n    }\n\n    .dataframe tbody tr th {\n        vertical-align: top;\n    }\n\n    .dataframe thead th {\n        text-align: right;\n    }\n</style>\n<table border=\"1\" class=\"dataframe\">\n  <thead>\n    <tr style=\"text-align: right;\">\n      <th></th>\n      <th>SOCI_SOCI_ID</th>\n      <th>SUBCLASE</th>\n    </tr>\n  </thead>\n  <tbody>\n    <tr>\n      <th>0</th>\n      <td>1703642</td>\n      <td>10000030001</td>\n    </tr>\n    <tr>\n      <th>1</th>\n      <td>1703642</td>\n      <td>2900020002</td>\n    </tr>\n  </tbody>\n</table>\n</div>"
     },
     "execution_count": 94,
     "metadata": {},
     "output_type": "execute_result"
    }
   ],
   "source": [
    "query = '''\n",
    "WITH ACTIVOS AS\n",
    "    (\n",
    "    SELECT\n",
    "        DISTINCT SOCI_SOCI_ID\n",
    "    FROM\n",
    "        MSTRDB.DWH.FT_FDLN_MOVIMIENTOS\n",
    "    WHERE\n",
    "        GEOG_LOCL_ID IN (SELECT GEOG_LOCL_ID FROM MSTRDB.DWH.LU_GEOG_LOCAL WHERE GEOG_UNNG_ID = 2)\n",
    "        AND TIEM_DIA_ID >= DATEADD(MONTH, -1, CURRENT_DATE)\n",
    "    )\n",
    "\n",
    "SELECT\n",
    "    SOCI_SOCI_ID,\n",
    "    SUBCLASE\n",
    "FROM\n",
    "    BIZMETRIKS.DWH.LU_SCORING_SUBCLASE\n",
    "WHERE\n",
    "    SOCI_SOCI_ID NOT IN (SELECT * FROM ACTIVOS)\n",
    "    AND SCORE = 5\n",
    "    AND SUBCLASE IN {subclases_snow}\n",
    "'''\n",
    "\n",
    "cursor.execute(query.format(subclases_snow = tuple(ofertata_2['SUBCLASE'].unique().astype(str))))\n",
    "segm_5 = cursor.fetch_pandas_all()\n",
    "segm_5.head(2)"
   ],
   "metadata": {
    "collapsed": false
   }
  },
  {
   "cell_type": "markdown",
   "source": [
    "### Ambos"
   ],
   "metadata": {
    "collapsed": false
   }
  },
  {
   "cell_type": "code",
   "execution_count": 95,
   "outputs": [],
   "source": [
    "segmento_ofertata_2 = pd.concat([segm_3[['SOCI_SOCI_ID', 'SUBCLASE']], segm_5]).drop_duplicates()"
   ],
   "metadata": {
    "collapsed": false
   }
  },
  {
   "cell_type": "code",
   "execution_count": 106,
   "outputs": [
    {
     "data": {
      "text/plain": "341042"
     },
     "execution_count": 106,
     "metadata": {},
     "output_type": "execute_result"
    }
   ],
   "source": [
    "segmento_ofertata_2['SOCI_SOCI_ID'].nunique()"
   ],
   "metadata": {
    "collapsed": false
   }
  },
  {
   "cell_type": "code",
   "execution_count": 96,
   "outputs": [
    {
     "data": {
      "text/plain": "     SUBCLASE              TICKET  SOCI_SOCI_ID   VENTA        GB1 OFERTATA\n1  1600090003  202401142083320442        456955  167.27  27.410000        2\n2  4000030002  202401147482428740         44725  101.66  33.625999        2",
      "text/html": "<div>\n<style scoped>\n    .dataframe tbody tr th:only-of-type {\n        vertical-align: middle;\n    }\n\n    .dataframe tbody tr th {\n        vertical-align: top;\n    }\n\n    .dataframe thead th {\n        text-align: right;\n    }\n</style>\n<table border=\"1\" class=\"dataframe\">\n  <thead>\n    <tr style=\"text-align: right;\">\n      <th></th>\n      <th>SUBCLASE</th>\n      <th>TICKET</th>\n      <th>SOCI_SOCI_ID</th>\n      <th>VENTA</th>\n      <th>GB1</th>\n      <th>OFERTATA</th>\n    </tr>\n  </thead>\n  <tbody>\n    <tr>\n      <th>1</th>\n      <td>1600090003</td>\n      <td>202401142083320442</td>\n      <td>456955</td>\n      <td>167.27</td>\n      <td>27.410000</td>\n      <td>2</td>\n    </tr>\n    <tr>\n      <th>2</th>\n      <td>4000030002</td>\n      <td>202401147482428740</td>\n      <td>44725</td>\n      <td>101.66</td>\n      <td>33.625999</td>\n      <td>2</td>\n    </tr>\n  </tbody>\n</table>\n</div>"
     },
     "execution_count": 96,
     "metadata": {},
     "output_type": "execute_result"
    }
   ],
   "source": [
    "ofertata_2 = ofertata_2[(ofertata_2['SUBCLASE'].isin(segmento_ofertata_2['SUBCLASE'])) & (ofertata_2['SOCI_SOCI_ID'].isin(segmento_ofertata_2['SOCI_SOCI_ID']))]\n",
    "ofertata_2.head(2)"
   ],
   "metadata": {
    "collapsed": false
   }
  },
  {
   "cell_type": "code",
   "execution_count": 98,
   "outputs": [
    {
     "data": {
      "text/plain": "  OFERTATA  VENTA MM  GB1 MM  TICKETS M  CLIENTES M\n0        2      28.1     5.8      135.4        85.1",
      "text/html": "<div>\n<style scoped>\n    .dataframe tbody tr th:only-of-type {\n        vertical-align: middle;\n    }\n\n    .dataframe tbody tr th {\n        vertical-align: top;\n    }\n\n    .dataframe thead th {\n        text-align: right;\n    }\n</style>\n<table border=\"1\" class=\"dataframe\">\n  <thead>\n    <tr style=\"text-align: right;\">\n      <th></th>\n      <th>OFERTATA</th>\n      <th>VENTA MM</th>\n      <th>GB1 MM</th>\n      <th>TICKETS M</th>\n      <th>CLIENTES M</th>\n    </tr>\n  </thead>\n  <tbody>\n    <tr>\n      <th>0</th>\n      <td>2</td>\n      <td>28.1</td>\n      <td>5.8</td>\n      <td>135.4</td>\n      <td>85.1</td>\n    </tr>\n  </tbody>\n</table>\n</div>"
     },
     "execution_count": 98,
     "metadata": {},
     "output_type": "execute_result"
    }
   ],
   "source": [
    "ofertata_2_grouped = ofertata_2.groupby('OFERTATA').agg(\n",
    "    {'VENTA': 'sum',\n",
    "     'GB1': 'sum',\n",
    "     'TICKET': 'nunique',\n",
    "     'SOCI_SOCI_ID':'nunique'\n",
    "     }).reset_index()\n",
    "\n",
    "ofertata_2_grouped['VENTA'] = round(ofertata_2_grouped['VENTA'] / 1000000, 1)\n",
    "ofertata_2_grouped['GB1'] = round(ofertata_2_grouped['GB1'] / 1000000, 1)\n",
    "ofertata_2_grouped['TICKET'] = round(ofertata_2_grouped['TICKET'] / 1000, 1)\n",
    "ofertata_2_grouped['SOCI_SOCI_ID'] = round(ofertata_2_grouped['SOCI_SOCI_ID'] / 1000, 1)\n",
    "\n",
    "ofertata_2_grouped.rename({'TICKET': 'TICKETS M',\n",
    "                           'SOCI_SOCI_ID':'CLIENTES M',\n",
    "                           'VENTA':'VENTA MM',\n",
    "                           'GB1':'GB1 MM'\n",
    "                           }, axis=1, inplace=True)\n",
    "\n",
    "ofertata_2_grouped"
   ],
   "metadata": {
    "collapsed": false
   }
  },
  {
   "cell_type": "code",
   "execution_count": 99,
   "outputs": [
    {
     "data": {
      "text/plain": "  OFERTATA  VENTA MM  GB1 MM  TICKETS M  CLIENTES M\n0        1      12.3     3.3       73.8        50.9\n0        2      28.1     5.8      135.4        85.1",
      "text/html": "<div>\n<style scoped>\n    .dataframe tbody tr th:only-of-type {\n        vertical-align: middle;\n    }\n\n    .dataframe tbody tr th {\n        vertical-align: top;\n    }\n\n    .dataframe thead th {\n        text-align: right;\n    }\n</style>\n<table border=\"1\" class=\"dataframe\">\n  <thead>\n    <tr style=\"text-align: right;\">\n      <th></th>\n      <th>OFERTATA</th>\n      <th>VENTA MM</th>\n      <th>GB1 MM</th>\n      <th>TICKETS M</th>\n      <th>CLIENTES M</th>\n    </tr>\n  </thead>\n  <tbody>\n    <tr>\n      <th>0</th>\n      <td>1</td>\n      <td>12.3</td>\n      <td>3.3</td>\n      <td>73.8</td>\n      <td>50.9</td>\n    </tr>\n    <tr>\n      <th>0</th>\n      <td>2</td>\n      <td>28.1</td>\n      <td>5.8</td>\n      <td>135.4</td>\n      <td>85.1</td>\n    </tr>\n  </tbody>\n</table>\n</div>"
     },
     "execution_count": 99,
     "metadata": {},
     "output_type": "execute_result"
    }
   ],
   "source": [
    "pd.concat([ofertata_1_grouped, ofertata_2_grouped])"
   ],
   "metadata": {
    "collapsed": false
   }
  },
  {
   "cell_type": "code",
   "execution_count": 101,
   "outputs": [
    {
     "data": {
      "text/plain": "13"
     },
     "execution_count": 101,
     "metadata": {},
     "output_type": "execute_result"
    }
   ],
   "source": [
    "ofertata_1['SUBCLASE'].nunique()"
   ],
   "metadata": {
    "collapsed": false
   }
  },
  {
   "cell_type": "code",
   "execution_count": 102,
   "outputs": [
    {
     "data": {
      "text/plain": "22"
     },
     "execution_count": 102,
     "metadata": {},
     "output_type": "execute_result"
    }
   ],
   "source": [
    "ofertata_2['SUBCLASE'].nunique()"
   ],
   "metadata": {
    "collapsed": false
   }
  },
  {
   "cell_type": "markdown",
   "source": [
    "# Fin"
   ],
   "metadata": {
    "collapsed": false
   },
   "execution_count": 1
  }
 ],
 "metadata": {
  "colab": {
   "collapsed_sections": [],
   "provenance": []
  },
  "kernelspec": {
   "display_name": "Python 3.9.12 ('env')",
   "language": "python",
   "name": "python3"
  },
  "language_info": {
   "codemirror_mode": {
    "name": "ipython",
    "version": 3
   },
   "file_extension": ".py",
   "mimetype": "text/x-python",
   "name": "python",
   "nbconvert_exporter": "python",
   "pygments_lexer": "ipython3",
   "version": "3.9.12"
  },
  "orig_nbformat": 4,
  "vscode": {
   "interpreter": {
    "hash": "1c19c5efd8f4b93ccbd4006c6f9f93fa19f57b77bfb4a2e5dfb55a2b8dd9ae6c"
   }
  }
 },
 "nbformat": 4,
 "nbformat_minor": 0
}
