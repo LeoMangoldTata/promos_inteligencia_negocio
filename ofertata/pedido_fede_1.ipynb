{
 "cells": [
  {
   "cell_type": "markdown",
   "source": [
    "# Importamos librerias"
   ],
   "metadata": {
    "collapsed": false
   }
  },
  {
   "cell_type": "code",
   "execution_count": 1,
   "metadata": {
    "id": "uLY0cajXhEhy"
   },
   "outputs": [],
   "source": [
    "#pip install snowflake-connector-python==2.7.6"
   ]
  },
  {
   "cell_type": "code",
   "execution_count": 2,
   "metadata": {
    "id": "tKk581G_hMT0"
   },
   "outputs": [],
   "source": [
    "import pandas as pd\n",
    "import numpy as np\n",
    "import snowflake.connector\n",
    "import json\n",
    "from snowflake.connector.pandas_tools import write_pandas\n",
    "from datetime import datetime\n",
    "from datetime import timedelta\n",
    "from dateutil.relativedelta import relativedelta\n",
    "pd.options.mode.chained_assignment = None"
   ]
  },
  {
   "cell_type": "code",
   "execution_count": 3,
   "metadata": {
    "colab": {
     "base_uri": "https://localhost:8080/"
    },
    "id": "ChvQTwl1D-Ls",
    "outputId": "351b443f-8ebf-4a34-f7ba-93fb012f5082"
   },
   "outputs": [
    {
     "name": "stdout",
     "output_type": "stream",
     "text": [
      "Connected\n"
     ]
    }
   ],
   "source": [
    "while True:\n",
    "    try:\n",
    "\n",
    "        f = open('credentials.json')\n",
    "        data_pass = json.load(f)\n",
    "\n",
    "        pass_ = input(\"INGRESAR PASSCODE:\")\n",
    "\n",
    "        ctx = snowflake.connector.connect(\n",
    "            user = data_pass['snow']['USER'],\n",
    "            password = data_pass['snow']['PASS'],\n",
    "            account = data_pass['snow']['ACCOUNT'],\n",
    "            passcode = pass_,\n",
    "            database = 'SANDBOX_PLUS',\n",
    "            schema = 'DWH'\n",
    "        )\n",
    "\n",
    "        cursor = ctx.cursor()\n",
    "\n",
    "        print('Connected')\n",
    "\n",
    "        break\n",
    "\n",
    "    except:\n",
    "        print('Incorrect Password - provide again')\n",
    "\n",
    "    print('Correct Password - connected to SNOWFLAKE')"
   ]
  },
  {
   "cell_type": "code",
   "execution_count": 223,
   "outputs": [
    {
     "data": {
      "text/plain": "  GROUP_NAME         DEPT_NAME        ITEM  \\\n0    BEBIDAS  BEB. ALCOHOLICAS  1000048327   \n1    BEBIDAS  BEB. ALCOHOLICAS  1000048614   \n\n                                      ARTC_ARTC_DESC DAR DE BAJA  \\\n0                    CERVEZA SCHNEIDER LATA 473.00 U       FALSE   \n1  VINO FINO BLANCO RESERVADO CONCHA Y TORO SAUVI...       FALSE   \n\n   TICKETS_CADA_1000  UNIDADES_TY VTA_SIN_IVA_TY  NUMERO_LOCALES_ACTIVOS  \\\n0              1.790      17507.0    $989,252.30                      95   \n1              0.145        556.0    $112,688.70                       4   \n\n   PROMOS_DISTINTAS_3M  \n0                    1  \n1                    0  ",
      "text/html": "<div>\n<style scoped>\n    .dataframe tbody tr th:only-of-type {\n        vertical-align: middle;\n    }\n\n    .dataframe tbody tr th {\n        vertical-align: top;\n    }\n\n    .dataframe thead th {\n        text-align: right;\n    }\n</style>\n<table border=\"1\" class=\"dataframe\">\n  <thead>\n    <tr style=\"text-align: right;\">\n      <th></th>\n      <th>GROUP_NAME</th>\n      <th>DEPT_NAME</th>\n      <th>ITEM</th>\n      <th>ARTC_ARTC_DESC</th>\n      <th>DAR DE BAJA</th>\n      <th>TICKETS_CADA_1000</th>\n      <th>UNIDADES_TY</th>\n      <th>VTA_SIN_IVA_TY</th>\n      <th>NUMERO_LOCALES_ACTIVOS</th>\n      <th>PROMOS_DISTINTAS_3M</th>\n    </tr>\n  </thead>\n  <tbody>\n    <tr>\n      <th>0</th>\n      <td>BEBIDAS</td>\n      <td>BEB. ALCOHOLICAS</td>\n      <td>1000048327</td>\n      <td>CERVEZA SCHNEIDER LATA 473.00 U</td>\n      <td>FALSE</td>\n      <td>1.790</td>\n      <td>17507.0</td>\n      <td>$989,252.30</td>\n      <td>95</td>\n      <td>1</td>\n    </tr>\n    <tr>\n      <th>1</th>\n      <td>BEBIDAS</td>\n      <td>BEB. ALCOHOLICAS</td>\n      <td>1000048614</td>\n      <td>VINO FINO BLANCO RESERVADO CONCHA Y TORO SAUVI...</td>\n      <td>FALSE</td>\n      <td>0.145</td>\n      <td>556.0</td>\n      <td>$112,688.70</td>\n      <td>4</td>\n      <td>0</td>\n    </tr>\n  </tbody>\n</table>\n</div>"
     },
     "execution_count": 223,
     "metadata": {},
     "output_type": "execute_result"
    }
   ],
   "source": [
    "# url = 'https://docs.google.com/spreadsheets/d/1ShQ5G-iKtpxHwcHAIP5aO-CGZsInpOLKZXKV_LzTDY8/export?format=csv'\n",
    "# df_1 = pd.read_csv(url, dtype = {'ITEM':str})\n",
    "# df_1.head(2)"
   ],
   "metadata": {
    "collapsed": false
   }
  },
  {
   "cell_type": "markdown",
   "source": [
    "# Clase & Subclase"
   ],
   "metadata": {
    "collapsed": false
   }
  },
  {
   "cell_type": "code",
   "execution_count": 245,
   "outputs": [
    {
     "data": {
      "text/plain": "     CLASS_NAME      SUB_NAME        ITEM\n0     TOMATADOS  CONCENTRADOS  1000051749\n1  OTROS SNACKS       PALITOS  1000053404",
      "text/html": "<div>\n<style scoped>\n    .dataframe tbody tr th:only-of-type {\n        vertical-align: middle;\n    }\n\n    .dataframe tbody tr th {\n        vertical-align: top;\n    }\n\n    .dataframe thead th {\n        text-align: right;\n    }\n</style>\n<table border=\"1\" class=\"dataframe\">\n  <thead>\n    <tr style=\"text-align: right;\">\n      <th></th>\n      <th>CLASS_NAME</th>\n      <th>SUB_NAME</th>\n      <th>ITEM</th>\n    </tr>\n  </thead>\n  <tbody>\n    <tr>\n      <th>0</th>\n      <td>TOMATADOS</td>\n      <td>CONCENTRADOS</td>\n      <td>1000051749</td>\n    </tr>\n    <tr>\n      <th>1</th>\n      <td>OTROS SNACKS</td>\n      <td>PALITOS</td>\n      <td>1000053404</td>\n    </tr>\n  </tbody>\n</table>\n</div>"
     },
     "execution_count": 245,
     "metadata": {},
     "output_type": "execute_result"
    }
   ],
   "source": [
    "query = '''\n",
    "SELECT\n",
    "    CLA.CLASS_NAME,\n",
    "    SUB.SUB_NAME,\n",
    "    IM.ITEM\n",
    "FROM\n",
    "    MSTRDB.DWH.ITEM_MASTER AS IM\n",
    "    INNER JOIN MSTRDB.DWH.SUBCLASS AS SUB ON SUB.SUBCLASE = IM.SUBCLASE\n",
    "    INNER JOIN MSTRDB.DWH.CLASS AS CLA ON CLA.CLASE = IM.CLASE\n",
    "WHERE\n",
    "    IM.ITEM IN {articulos}\n",
    "'''\n",
    "\n",
    "cursor.execute(query.format(articulos = tuple(df_1['ITEM'])))\n",
    "cla_sub = cursor.fetch_pandas_all()\n",
    "cla_sub.head(2)"
   ],
   "metadata": {
    "collapsed": false
   }
  },
  {
   "cell_type": "code",
   "execution_count": 225,
   "outputs": [
    {
     "data": {
      "text/plain": "  GROUP_NAME         DEPT_NAME        ITEM  \\\n0    BEBIDAS  BEB. ALCOHOLICAS  1000048327   \n1    BEBIDAS  BEB. ALCOHOLICAS  1000048614   \n\n                                      ARTC_ARTC_DESC DAR DE BAJA  \\\n0                    CERVEZA SCHNEIDER LATA 473.00 U       FALSE   \n1  VINO FINO BLANCO RESERVADO CONCHA Y TORO SAUVI...       FALSE   \n\n   TICKETS_CADA_1000  UNIDADES_TY VTA_SIN_IVA_TY  NUMERO_LOCALES_ACTIVOS  \\\n0              1.790      17507.0    $989,252.30                      95   \n1              0.145        556.0    $112,688.70                       4   \n\n   PROMOS_DISTINTAS_3M   CLASS_NAME                  SUB_NAME  \n0                    1     CERVEZAS       CERVEZAS IMPORTADAS  \n1                    0  VINOS FINOS  BLANCO FINO CONSIGNACIÓN  ",
      "text/html": "<div>\n<style scoped>\n    .dataframe tbody tr th:only-of-type {\n        vertical-align: middle;\n    }\n\n    .dataframe tbody tr th {\n        vertical-align: top;\n    }\n\n    .dataframe thead th {\n        text-align: right;\n    }\n</style>\n<table border=\"1\" class=\"dataframe\">\n  <thead>\n    <tr style=\"text-align: right;\">\n      <th></th>\n      <th>GROUP_NAME</th>\n      <th>DEPT_NAME</th>\n      <th>ITEM</th>\n      <th>ARTC_ARTC_DESC</th>\n      <th>DAR DE BAJA</th>\n      <th>TICKETS_CADA_1000</th>\n      <th>UNIDADES_TY</th>\n      <th>VTA_SIN_IVA_TY</th>\n      <th>NUMERO_LOCALES_ACTIVOS</th>\n      <th>PROMOS_DISTINTAS_3M</th>\n      <th>CLASS_NAME</th>\n      <th>SUB_NAME</th>\n    </tr>\n  </thead>\n  <tbody>\n    <tr>\n      <th>0</th>\n      <td>BEBIDAS</td>\n      <td>BEB. ALCOHOLICAS</td>\n      <td>1000048327</td>\n      <td>CERVEZA SCHNEIDER LATA 473.00 U</td>\n      <td>FALSE</td>\n      <td>1.790</td>\n      <td>17507.0</td>\n      <td>$989,252.30</td>\n      <td>95</td>\n      <td>1</td>\n      <td>CERVEZAS</td>\n      <td>CERVEZAS IMPORTADAS</td>\n    </tr>\n    <tr>\n      <th>1</th>\n      <td>BEBIDAS</td>\n      <td>BEB. ALCOHOLICAS</td>\n      <td>1000048614</td>\n      <td>VINO FINO BLANCO RESERVADO CONCHA Y TORO SAUVI...</td>\n      <td>FALSE</td>\n      <td>0.145</td>\n      <td>556.0</td>\n      <td>$112,688.70</td>\n      <td>4</td>\n      <td>0</td>\n      <td>VINOS FINOS</td>\n      <td>BLANCO FINO CONSIGNACIÓN</td>\n    </tr>\n  </tbody>\n</table>\n</div>"
     },
     "execution_count": 225,
     "metadata": {},
     "output_type": "execute_result"
    }
   ],
   "source": [
    "# df_1 = df_1.merge(cla_sub, on = 'ITEM', how = 'inner')\n",
    "# df_1.head(2)"
   ],
   "metadata": {
    "collapsed": false
   }
  },
  {
   "cell_type": "markdown",
   "source": [
    "# Fuente 1: TICKETS_CADA_1000 / UNIDADES_TY / VTA_SIN_IVA_TY"
   ],
   "metadata": {
    "collapsed": false
   }
  },
  {
   "cell_type": "code",
   "execution_count": 247,
   "outputs": [
    {
     "data": {
      "text/plain": "         ORIN  TICKETS_CADA_1000  UNIDADES_TY  VTA_SIN_IVA_TY\n0  1000008406                NaN          NaN             NaN\n1  1000008406                NaN          NaN             NaN",
      "text/html": "<div>\n<style scoped>\n    .dataframe tbody tr th:only-of-type {\n        vertical-align: middle;\n    }\n\n    .dataframe tbody tr th {\n        vertical-align: top;\n    }\n\n    .dataframe thead th {\n        text-align: right;\n    }\n</style>\n<table border=\"1\" class=\"dataframe\">\n  <thead>\n    <tr style=\"text-align: right;\">\n      <th></th>\n      <th>ORIN</th>\n      <th>TICKETS_CADA_1000</th>\n      <th>UNIDADES_TY</th>\n      <th>VTA_SIN_IVA_TY</th>\n    </tr>\n  </thead>\n  <tbody>\n    <tr>\n      <th>0</th>\n      <td>1000008406</td>\n      <td>NaN</td>\n      <td>NaN</td>\n      <td>NaN</td>\n    </tr>\n    <tr>\n      <th>1</th>\n      <td>1000008406</td>\n      <td>NaN</td>\n      <td>NaN</td>\n      <td>NaN</td>\n    </tr>\n  </tbody>\n</table>\n</div>"
     },
     "execution_count": 247,
     "metadata": {},
     "output_type": "execute_result"
    }
   ],
   "source": [
    "query = '''\n",
    "SELECT\n",
    "    ORIN,\n",
    "    TICKETS_CADA_1000,\n",
    "    UNIDADES_TY,\n",
    "    VTA_SIN_IVA_TY\n",
    "FROM\n",
    "    SANDBOX_PLUS.DWH.MAESTRO_PRODUCTOS_HIST\n",
    "WHERE\n",
    "    MES = '2023-11-01'\n",
    "'''\n",
    "\n",
    "cursor.execute(query)\n",
    "fuente_1 = cursor.fetch_pandas_all()\n",
    "fuente_1.head(2)"
   ],
   "metadata": {
    "collapsed": false
   }
  },
  {
   "cell_type": "code",
   "execution_count": 248,
   "outputs": [
    {
     "name": "stderr",
     "output_type": "stream",
     "text": [
      "C:\\Users\\leonardo.mangold\\AppData\\Local\\Temp\\ipykernel_18764\\2056627805.py:1: FutureWarning: Indexing with multiple keys (implicitly converted to a tuple of keys) will be deprecated, use a list instead.\n",
      "  fuente_2 = fuente_1.groupby(['ORIN'])['TICKETS_CADA_1000', 'UNIDADES_TY', 'VTA_SIN_IVA_TY'].agg({'TICKETS_CADA_1000':'median', 'UNIDADES_TY':'sum', 'VTA_SIN_IVA_TY':'sum'}).reset_index()\n"
     ]
    },
    {
     "data": {
      "text/plain": "         ORIN  TICKETS_CADA_1000  UNIDADES_TY  VTA_SIN_IVA_TY\n0  1000002394                NaN          0.0             0.0\n1  1000005515                0.0          0.0             0.0",
      "text/html": "<div>\n<style scoped>\n    .dataframe tbody tr th:only-of-type {\n        vertical-align: middle;\n    }\n\n    .dataframe tbody tr th {\n        vertical-align: top;\n    }\n\n    .dataframe thead th {\n        text-align: right;\n    }\n</style>\n<table border=\"1\" class=\"dataframe\">\n  <thead>\n    <tr style=\"text-align: right;\">\n      <th></th>\n      <th>ORIN</th>\n      <th>TICKETS_CADA_1000</th>\n      <th>UNIDADES_TY</th>\n      <th>VTA_SIN_IVA_TY</th>\n    </tr>\n  </thead>\n  <tbody>\n    <tr>\n      <th>0</th>\n      <td>1000002394</td>\n      <td>NaN</td>\n      <td>0.0</td>\n      <td>0.0</td>\n    </tr>\n    <tr>\n      <th>1</th>\n      <td>1000005515</td>\n      <td>0.0</td>\n      <td>0.0</td>\n      <td>0.0</td>\n    </tr>\n  </tbody>\n</table>\n</div>"
     },
     "execution_count": 248,
     "metadata": {},
     "output_type": "execute_result"
    }
   ],
   "source": [
    "# # fuente_2 = fuente_1.groupby(['ORIN'])['TICKETS_CADA_1000', 'UNIDADES_TY', 'VTA_SIN_IVA_TY'].agg({'TICKETS_CADA_1000':'median', 'UNIDADES_TY':'sum', 'VTA_SIN_IVA_TY':'sum'}).reset_index()\n",
    "# fuente_2.head(2)"
   ],
   "metadata": {
    "collapsed": false
   }
  },
  {
   "cell_type": "code",
   "execution_count": 251,
   "outputs": [
    {
     "name": "stdout",
     "output_type": "stream",
     "text": [
      "305\n"
     ]
    },
    {
     "data": {
      "text/plain": "  GROUP_NAME         DEPT_NAME        ITEM  \\\n0    BEBIDAS  BEB. ALCOHOLICAS  1000048327   \n1    BEBIDAS  BEB. ALCOHOLICAS  1000048614   \n\n                                      ARTC_ARTC_DESC DAR DE BAJA  \\\n0                    CERVEZA SCHNEIDER LATA 473.00 U       FALSE   \n1  VINO FINO BLANCO RESERVADO CONCHA Y TORO SAUVI...       FALSE   \n\n   TICKETS_CADA_1000_x  UNIDADES_TY_x VTA_SIN_IVA_TY_x  \\\n0                1.790        17507.0      $989,252.30   \n1                0.145          556.0      $112,688.70   \n\n   NUMERO_LOCALES_ACTIVOS  PROMOS_DISTINTAS_3M  ...                  SUB_NAME  \\\n0                      95                    1  ...       CERVEZAS IMPORTADAS   \n1                       4                    0  ...  BLANCO FINO CONSIGNACIÓN   \n\n  R_DEPT_NAME  R_CLASE  R_SUBCLASE      ORIN_x    CANASTA      ORIN_y  \\\n0         5.0      5.0         3.0  1000048327  referente  1000048327   \n1        77.0      6.0         2.0  1000048614  referente  1000048614   \n\n  TICKETS_CADA_1000_y  UNIDADES_TY_y  VTA_SIN_IVA_TY_y  \n0               1.790        17507.0         989252.26  \n1               0.145          556.0         112688.71  \n\n[2 rows x 21 columns]",
      "text/html": "<div>\n<style scoped>\n    .dataframe tbody tr th:only-of-type {\n        vertical-align: middle;\n    }\n\n    .dataframe tbody tr th {\n        vertical-align: top;\n    }\n\n    .dataframe thead th {\n        text-align: right;\n    }\n</style>\n<table border=\"1\" class=\"dataframe\">\n  <thead>\n    <tr style=\"text-align: right;\">\n      <th></th>\n      <th>GROUP_NAME</th>\n      <th>DEPT_NAME</th>\n      <th>ITEM</th>\n      <th>ARTC_ARTC_DESC</th>\n      <th>DAR DE BAJA</th>\n      <th>TICKETS_CADA_1000_x</th>\n      <th>UNIDADES_TY_x</th>\n      <th>VTA_SIN_IVA_TY_x</th>\n      <th>NUMERO_LOCALES_ACTIVOS</th>\n      <th>PROMOS_DISTINTAS_3M</th>\n      <th>...</th>\n      <th>SUB_NAME</th>\n      <th>R_DEPT_NAME</th>\n      <th>R_CLASE</th>\n      <th>R_SUBCLASE</th>\n      <th>ORIN_x</th>\n      <th>CANASTA</th>\n      <th>ORIN_y</th>\n      <th>TICKETS_CADA_1000_y</th>\n      <th>UNIDADES_TY_y</th>\n      <th>VTA_SIN_IVA_TY_y</th>\n    </tr>\n  </thead>\n  <tbody>\n    <tr>\n      <th>0</th>\n      <td>BEBIDAS</td>\n      <td>BEB. ALCOHOLICAS</td>\n      <td>1000048327</td>\n      <td>CERVEZA SCHNEIDER LATA 473.00 U</td>\n      <td>FALSE</td>\n      <td>1.790</td>\n      <td>17507.0</td>\n      <td>$989,252.30</td>\n      <td>95</td>\n      <td>1</td>\n      <td>...</td>\n      <td>CERVEZAS IMPORTADAS</td>\n      <td>5.0</td>\n      <td>5.0</td>\n      <td>3.0</td>\n      <td>1000048327</td>\n      <td>referente</td>\n      <td>1000048327</td>\n      <td>1.790</td>\n      <td>17507.0</td>\n      <td>989252.26</td>\n    </tr>\n    <tr>\n      <th>1</th>\n      <td>BEBIDAS</td>\n      <td>BEB. ALCOHOLICAS</td>\n      <td>1000048614</td>\n      <td>VINO FINO BLANCO RESERVADO CONCHA Y TORO SAUVI...</td>\n      <td>FALSE</td>\n      <td>0.145</td>\n      <td>556.0</td>\n      <td>$112,688.70</td>\n      <td>4</td>\n      <td>0</td>\n      <td>...</td>\n      <td>BLANCO FINO CONSIGNACIÓN</td>\n      <td>77.0</td>\n      <td>6.0</td>\n      <td>2.0</td>\n      <td>1000048614</td>\n      <td>referente</td>\n      <td>1000048614</td>\n      <td>0.145</td>\n      <td>556.0</td>\n      <td>112688.71</td>\n    </tr>\n  </tbody>\n</table>\n<p>2 rows × 21 columns</p>\n</div>"
     },
     "execution_count": 251,
     "metadata": {},
     "output_type": "execute_result"
    }
   ],
   "source": [
    "# # df_2 = df_1.merge(fuente_2, left_on = 'ITEM', right_on = 'ORIN', how = 'left')\n",
    "# print(df_2.shape[0])\n",
    "# df_2.head(2)"
   ],
   "metadata": {
    "collapsed": false
   }
  },
  {
   "cell_type": "markdown",
   "source": [
    "# Fuente 2: NUMERO_LOCALES_ACTIVOS"
   ],
   "metadata": {
    "collapsed": false
   }
  },
  {
   "cell_type": "code",
   "execution_count": 229,
   "outputs": [],
   "source": [
    "# # query = '''\n",
    "# SELECT\n",
    "#     LAA.ORIN,\n",
    "#     COUNT(DISTINCT FS.GEOG_LOCL_ID) AS NUMERO_LOCALES_ACTIVOS\n",
    "# FROM\n",
    "#     MSTRDB.DWH.FT_STOCK AS FS\n",
    "#     INNER JOIN MSTRDB.DWH.LU_ARTC_ARTICULO AS LAA ON LAA.ARTC_ARTC_ID = FS.ARTC_ARTC_ID\n",
    "# WHERE\n",
    "#     FS.TIEM_DIA_ID = CURRENT_DATE() - 1\n",
    "#     AND FS.STCK_ARTC_ACTIVO = 1\n",
    "#     AND ORIN IN {articulos}\n",
    "# GROUP BY\n",
    "#     ALL\n",
    "# '''\n",
    "#\n",
    "# tuple_1 = tuple(df_1['ITEM'])\n",
    "# new_tuple = tuple(str(item) for item in tuple_1)\n",
    "#\n",
    "# cursor.execute(query.format(articulos = new_tuple))\n",
    "# fuente_2 = cursor.fetch_pandas_all()\n",
    "# fuente_2.head(2)"
   ],
   "metadata": {
    "collapsed": false
   }
  },
  {
   "cell_type": "code",
   "execution_count": 230,
   "outputs": [],
   "source": [
    "# # df_3 = df_2.merge(fuente_2, on = 'ORIN', how = 'left')\n",
    "# df_3['NUMERO_LOCALES_ACTIVOS'].fillna(0, inplace = True)\n",
    "# print(df_3.shape[0])\n",
    "# df_3.drop(['ORIN'], axis = 1, inplace = True)\n",
    "# df_3.head(2)"
   ],
   "metadata": {
    "collapsed": false
   }
  },
  {
   "cell_type": "markdown",
   "source": [
    "# Fuente 3: PROMOS_DISTINTAS_3M"
   ],
   "metadata": {
    "collapsed": false
   }
  },
  {
   "cell_type": "code",
   "execution_count": 231,
   "outputs": [],
   "source": [
    "# # query = '''\n",
    "# SELECT\n",
    "#     LPTO.*,\n",
    "#     LPE.EVENTO_DESC,\n",
    "#     LPE.EVENTO_ID,\n",
    "#     FP.PROM_FECHA_INICIO AS INICIO,\n",
    "#     FP.PROM_FECHA_FIN AS FIN,\n",
    "#     CLA.CLASE,\n",
    "#     CLA.CLASS_NAME,\n",
    "#     SUB.SUBCLASE,\n",
    "#     SUB.SUB_NAME,\n",
    "#     LAA.ORIN,\n",
    "#     LAA.ARTC_ARTC_DESC,\n",
    "#     FP.GEOG_LOCL_ID,\n",
    "#     LGL.GEOG_LOCL_COD,\n",
    "#     LGL.GEOG_LOCL_DESC\n",
    "# FROM\n",
    "#     MSTRDB.DWH.FT_PROMOS AS FP\n",
    "#     INNER JOIN MSTRDB.DWH.LU_PROM_EVENTO AS LPE ON LPE.EVENTO_ID = FP.EVENTO_ID\n",
    "#     INNER JOIN MSTRDB.DWH.LU_PROM_TIPO_OFERTA AS LPTO ON LPTO.TIPO_OFERTA_ID = LPE.TIPO_OFERTA_ID\n",
    "#     INNER JOIN MSTRDB.DWH.LU_ARTC_ARTICULO AS LAA ON LAA.ARTC_ARTC_ID = FP.ARTC_ARTC_ID\n",
    "#     INNER JOIN MSTRDB.DWH.LU_GEOG_LOCAL AS LGL ON LGL.GEOG_LOCL_ID = FP.GEOG_LOCL_ID\n",
    "#     INNER JOIN MSTRDB.DWH.ITEM_MASTER AS IM ON IM.ITEM = LAA.ORIN\n",
    "#     INNER JOIN MSTRDB.DWH.CLASS AS CLA ON CLA.CLASE = IM.CLASE\n",
    "#     INNER JOIN MSTRDB.DWH.SUBCLASS AS SUB ON SUB.SUBCLASE = IM.SUBCLASE\n",
    "# WHERE\n",
    "#     LPTO.TIPO_OFERTA_ID IN (10, 11, 12)\n",
    "#     AND (TO_VARCHAR(FP.PROM_FECHA_INICIO, 'YYYY-MM')) IN ('2023-09', '2023-10', '2023-11')\n",
    "# '''\n",
    "#\n",
    "# cursor.execute(query)\n",
    "# fuente_3 = cursor.fetch_pandas_all()\n",
    "# fuente_3.head(2)"
   ],
   "metadata": {
    "collapsed": false
   }
  },
  {
   "cell_type": "code",
   "execution_count": 232,
   "outputs": [],
   "source": [
    "# # fuente_3_parte_2 = fuente_3.groupby('ORIN')['EVENTO_DESC'].nunique().reset_index()\n",
    "# fuente_3_parte_2.rename({'EVENTO_DESC':'PROMOS_DISTINTAS_3M'}, axis = 1, inplace = True)\n",
    "# df_4 = df_3.merge(fuente_3_parte_2, left_on = 'ITEM', right_on = 'ORIN', how = 'left')\n",
    "# df_4['PROMOS_DISTINTAS_3M'].fillna(0, inplace = True)\n",
    "# df_4.drop(['ORIN'], axis = 1, inplace = True)\n",
    "# print(df_4.shape[0])\n",
    "# df_4.head(2)"
   ],
   "metadata": {
    "collapsed": false
   }
  },
  {
   "cell_type": "code",
   "execution_count": 233,
   "outputs": [],
   "source": [
    "# # df_4.to_excel('s.xlsx', index = False)"
   ],
   "metadata": {
    "collapsed": false
   }
  },
  {
   "cell_type": "markdown",
   "source": [
    "# Fuente 4: Rankings"
   ],
   "metadata": {
    "collapsed": false
   }
  },
  {
   "cell_type": "code",
   "execution_count": 234,
   "outputs": [
    {
     "data": {
      "text/plain": "    GROUP_NAME DEPT_NAME   CLASE    SUBCLASE ARTC_ARTC_COD        ORIN  \\\n0  COMESTIBLES  ADEREZOS  120003  1200030003     251295000  1000178772   \n1      LACTEOS   YOGURES  790001  7900010002     230553000  1000348161   \n\n                                          PRODUCTO     VENTAS  \n0                    VINAGRE DE ALCOHOL TATA 1L. 1  385208.77  \n1  YOGUR YOGURISIMO NATURAL SACHET 1.2 LT. NATURAL  159497.58  ",
      "text/html": "<div>\n<style scoped>\n    .dataframe tbody tr th:only-of-type {\n        vertical-align: middle;\n    }\n\n    .dataframe tbody tr th {\n        vertical-align: top;\n    }\n\n    .dataframe thead th {\n        text-align: right;\n    }\n</style>\n<table border=\"1\" class=\"dataframe\">\n  <thead>\n    <tr style=\"text-align: right;\">\n      <th></th>\n      <th>GROUP_NAME</th>\n      <th>DEPT_NAME</th>\n      <th>CLASE</th>\n      <th>SUBCLASE</th>\n      <th>ARTC_ARTC_COD</th>\n      <th>ORIN</th>\n      <th>PRODUCTO</th>\n      <th>VENTAS</th>\n    </tr>\n  </thead>\n  <tbody>\n    <tr>\n      <th>0</th>\n      <td>COMESTIBLES</td>\n      <td>ADEREZOS</td>\n      <td>120003</td>\n      <td>1200030003</td>\n      <td>251295000</td>\n      <td>1000178772</td>\n      <td>VINAGRE DE ALCOHOL TATA 1L. 1</td>\n      <td>385208.77</td>\n    </tr>\n    <tr>\n      <th>1</th>\n      <td>LACTEOS</td>\n      <td>YOGURES</td>\n      <td>790001</td>\n      <td>7900010002</td>\n      <td>230553000</td>\n      <td>1000348161</td>\n      <td>YOGUR YOGURISIMO NATURAL SACHET 1.2 LT. NATURAL</td>\n      <td>159497.58</td>\n    </tr>\n  </tbody>\n</table>\n</div>"
     },
     "execution_count": 234,
     "metadata": {},
     "output_type": "execute_result"
    }
   ],
   "source": [
    "# query = '''\n",
    "WITH SUBCLASES AS\n",
    "    (\n",
    "    SELECT\n",
    "        DISTINCT SUBCLASE\n",
    "    FROM\n",
    "        MSTRDB.DWH.LU_ARTC_ARTICULO AS LAA\n",
    "        INNER JOIN MSTRDB.DWH.ITEM_MASTER AS IM ON LAA.ORIN = IM.ITEM\n",
    "    WHERE\n",
    "        LAA.ORIN IN {articulos}\n",
    "    )\n",
    "\n",
    "SELECT\n",
    "    GRO.GROUP_NAME,\n",
    "    DEPS.DEPT_NAME,\n",
    "    IM.CLASE,\n",
    "    IM.SUBCLASE,\n",
    "    LAA.ARTC_ARTC_COD,\n",
    "    LAA.ORIN,\n",
    "    LAA.ARTC_ARTC_DESC AS PRODUCTO,\n",
    "    SUM(FV.VNTA_IMPORTE_SIN_IVA) AS VENTAS\n",
    "FROM\n",
    "    MSTRDB.DWH.LU_ARTC_ARTICULO AS LAA\n",
    "    INNER JOIN MSTRDB.DWH.ITEM_MASTER AS IM ON LAA.ORIN = IM.ITEM\n",
    "    INNER JOIN MSTRDB.DWH.SUBCLASS AS SUB ON SUB.SUBCLASE = IM.SUBCLASE\n",
    "    INNER JOIN MSTRDB.DWH.CLASS AS CLA ON CLA.CLASE = IM.CLASE\n",
    "    INNER JOIN MSTRDB.DWH.DEPS AS DEPS ON DEPS.DEPT = IM.DEPT\n",
    "    INNER JOIN MSTRDB.DWH.GROUPS AS GRO ON GRO.GROUP_NO = DEPS.GROUP_NO\n",
    "    INNER JOIN MSTRDB.DWH.FT_VENTAS AS FV ON FV.ARTC_ARTC_ID = LAA.ARTC_ARTC_ID\n",
    "WHERE\n",
    "    IM.SUBCLASE IN (SELECT * FROM SUBCLASES)\n",
    "    AND FV.TIEM_DIA_ID >= DATEADD(MONTH, -1, CURRENT_DATE())\n",
    "GROUP BY\n",
    "    ALL\n",
    "'''\n",
    "\n",
    "tuple_1 = tuple(df_1['ITEM'])\n",
    "new_tuple = tuple(str(item) for item in tuple_1)\n",
    "\n",
    "cursor.execute(query.format(articulos = new_tuple))\n",
    "rankings = cursor.fetch_pandas_all()\n",
    "rankings.head(2)"
   ],
   "metadata": {
    "collapsed": false
   }
  },
  {
   "cell_type": "markdown",
   "source": [
    "## Ranking 1: DEPT_NAME"
   ],
   "metadata": {
    "collapsed": false
   }
  },
  {
   "cell_type": "code",
   "execution_count": 235,
   "outputs": [],
   "source": [
    "# rankings.sort_values(by=['DEPT_NAME', 'VENTAS'], ascending=[True, False], inplace=True)\n",
    "\n",
    "rankings['R_DEPT_NAME'] = rankings.groupby('DEPT_NAME').cumcount() + 1"
   ],
   "metadata": {
    "collapsed": false
   }
  },
  {
   "cell_type": "markdown",
   "source": [
    "## Ranking 2: CLASE"
   ],
   "metadata": {
    "collapsed": false
   }
  },
  {
   "cell_type": "code",
   "execution_count": 236,
   "outputs": [],
   "source": [
    "# rankings.sort_values(by = ['CLASE', 'VENTAS'], ascending = [True, False], inplace = True)\n",
    "rankings['R_CLASE'] = rankings.groupby('CLASE').cumcount() + 1"
   ],
   "metadata": {
    "collapsed": false
   }
  },
  {
   "cell_type": "markdown",
   "source": [
    "## Ranking 3: SUBCLASE"
   ],
   "metadata": {
    "collapsed": false
   }
  },
  {
   "cell_type": "code",
   "execution_count": 237,
   "outputs": [],
   "source": [
    "# rankings.sort_values(by = ['SUBCLASE', 'VENTAS'], ascending = [True, False], inplace = True)\n",
    "rankings['R_SUBCLASE'] = rankings.groupby('SUBCLASE').cumcount() + 1"
   ],
   "metadata": {
    "collapsed": false
   }
  },
  {
   "cell_type": "code",
   "execution_count": 238,
   "outputs": [],
   "source": [
    "# df_1 = df_1.merge(rankings[['ORIN', 'R_DEPT_NAME', 'R_CLASE', 'R_SUBCLASE']], left_on = 'ITEM', right_on = 'ORIN', how = 'left')\n",
    "df_1.drop(['ORIN'], axis = 1, inplace = True)"
   ],
   "metadata": {
    "collapsed": false
   }
  },
  {
   "cell_type": "code",
   "execution_count": 239,
   "outputs": [],
   "source": [
    "# # for i in ['R_DEPT_NAME', 'R_CLASE', 'R_SUBCLASE']:\n",
    "#     df_1[i] = df_1[i].astype(int)"
   ],
   "metadata": {
    "collapsed": false
   }
  },
  {
   "cell_type": "markdown",
   "source": [
    "# Canasta"
   ],
   "metadata": {
    "collapsed": false
   }
  },
  {
   "cell_type": "code",
   "execution_count": 240,
   "outputs": [
    {
     "data": {
      "text/plain": "         ORIN    CANASTA\n0  1000172664  referente\n1  1000349462  referente",
      "text/html": "<div>\n<style scoped>\n    .dataframe tbody tr th:only-of-type {\n        vertical-align: middle;\n    }\n\n    .dataframe tbody tr th {\n        vertical-align: top;\n    }\n\n    .dataframe thead th {\n        text-align: right;\n    }\n</style>\n<table border=\"1\" class=\"dataframe\">\n  <thead>\n    <tr style=\"text-align: right;\">\n      <th></th>\n      <th>ORIN</th>\n      <th>CANASTA</th>\n    </tr>\n  </thead>\n  <tbody>\n    <tr>\n      <th>0</th>\n      <td>1000172664</td>\n      <td>referente</td>\n    </tr>\n    <tr>\n      <th>1</th>\n      <td>1000349462</td>\n      <td>referente</td>\n    </tr>\n  </tbody>\n</table>\n</div>"
     },
     "execution_count": 240,
     "metadata": {},
     "output_type": "execute_result"
    }
   ],
   "source": [
    "# query = '''\n",
    "SELECT\n",
    "    DISTINCT\n",
    "    ORIN,\n",
    "    CANASTA\n",
    "FROM\n",
    "    (\n",
    "    SELECT\n",
    "        *\n",
    "    FROM\n",
    "        SANDBOX_PLUS.DWH.MAESTRO_PRODUCTOS_HIST\n",
    "    WHERE\n",
    "        MES = (SELECT MAX(MES) FROM SANDBOX_PLUS.DWH.MAESTRO_PRODUCTOS_HIST)\n",
    "    )\n",
    "WHERE\n",
    "    ORIN IN {articulos}\n",
    "'''\n",
    "\n",
    "cursor.execute(query.format(articulos = tuple(df_1['ITEM'])))\n",
    "canasta = cursor.fetch_pandas_all()\n",
    "canasta.head(2)"
   ],
   "metadata": {
    "collapsed": false
   }
  },
  {
   "cell_type": "code",
   "execution_count": 241,
   "outputs": [
    {
     "data": {
      "text/plain": "Empty DataFrame\nColumns: [ORIN, CANASTA]\nIndex: []",
      "text/html": "<div>\n<style scoped>\n    .dataframe tbody tr th:only-of-type {\n        vertical-align: middle;\n    }\n\n    .dataframe tbody tr th {\n        vertical-align: top;\n    }\n\n    .dataframe thead th {\n        text-align: right;\n    }\n</style>\n<table border=\"1\" class=\"dataframe\">\n  <thead>\n    <tr style=\"text-align: right;\">\n      <th></th>\n      <th>ORIN</th>\n      <th>CANASTA</th>\n    </tr>\n  </thead>\n  <tbody>\n  </tbody>\n</table>\n</div>"
     },
     "execution_count": 241,
     "metadata": {},
     "output_type": "execute_result"
    }
   ],
   "source": [
    "# a = canasta.groupby('ORIN')['CANASTA'].nunique().reset_index()\n",
    "a[a['CANASTA'] > 1]"
   ],
   "metadata": {
    "collapsed": false
   }
  },
  {
   "cell_type": "code",
   "execution_count": 242,
   "outputs": [
    {
     "data": {
      "text/plain": "  GROUP_NAME         DEPT_NAME        ITEM  \\\n0    BEBIDAS  BEB. ALCOHOLICAS  1000048327   \n1    BEBIDAS  BEB. ALCOHOLICAS  1000048614   \n\n                                      ARTC_ARTC_DESC DAR DE BAJA  \\\n0                    CERVEZA SCHNEIDER LATA 473.00 U       FALSE   \n1  VINO FINO BLANCO RESERVADO CONCHA Y TORO SAUVI...       FALSE   \n\n   TICKETS_CADA_1000  UNIDADES_TY VTA_SIN_IVA_TY  NUMERO_LOCALES_ACTIVOS  \\\n0              1.790      17507.0    $989,252.30                      95   \n1              0.145        556.0    $112,688.70                       4   \n\n   PROMOS_DISTINTAS_3M   CLASS_NAME                  SUB_NAME  R_DEPT_NAME  \\\n0                    1     CERVEZAS       CERVEZAS IMPORTADAS          5.0   \n1                    0  VINOS FINOS  BLANCO FINO CONSIGNACIÓN         77.0   \n\n   R_CLASE  R_SUBCLASE        ORIN    CANASTA  \n0      5.0         3.0  1000048327  referente  \n1      6.0         2.0  1000048614  referente  ",
      "text/html": "<div>\n<style scoped>\n    .dataframe tbody tr th:only-of-type {\n        vertical-align: middle;\n    }\n\n    .dataframe tbody tr th {\n        vertical-align: top;\n    }\n\n    .dataframe thead th {\n        text-align: right;\n    }\n</style>\n<table border=\"1\" class=\"dataframe\">\n  <thead>\n    <tr style=\"text-align: right;\">\n      <th></th>\n      <th>GROUP_NAME</th>\n      <th>DEPT_NAME</th>\n      <th>ITEM</th>\n      <th>ARTC_ARTC_DESC</th>\n      <th>DAR DE BAJA</th>\n      <th>TICKETS_CADA_1000</th>\n      <th>UNIDADES_TY</th>\n      <th>VTA_SIN_IVA_TY</th>\n      <th>NUMERO_LOCALES_ACTIVOS</th>\n      <th>PROMOS_DISTINTAS_3M</th>\n      <th>CLASS_NAME</th>\n      <th>SUB_NAME</th>\n      <th>R_DEPT_NAME</th>\n      <th>R_CLASE</th>\n      <th>R_SUBCLASE</th>\n      <th>ORIN</th>\n      <th>CANASTA</th>\n    </tr>\n  </thead>\n  <tbody>\n    <tr>\n      <th>0</th>\n      <td>BEBIDAS</td>\n      <td>BEB. ALCOHOLICAS</td>\n      <td>1000048327</td>\n      <td>CERVEZA SCHNEIDER LATA 473.00 U</td>\n      <td>FALSE</td>\n      <td>1.790</td>\n      <td>17507.0</td>\n      <td>$989,252.30</td>\n      <td>95</td>\n      <td>1</td>\n      <td>CERVEZAS</td>\n      <td>CERVEZAS IMPORTADAS</td>\n      <td>5.0</td>\n      <td>5.0</td>\n      <td>3.0</td>\n      <td>1000048327</td>\n      <td>referente</td>\n    </tr>\n    <tr>\n      <th>1</th>\n      <td>BEBIDAS</td>\n      <td>BEB. ALCOHOLICAS</td>\n      <td>1000048614</td>\n      <td>VINO FINO BLANCO RESERVADO CONCHA Y TORO SAUVI...</td>\n      <td>FALSE</td>\n      <td>0.145</td>\n      <td>556.0</td>\n      <td>$112,688.70</td>\n      <td>4</td>\n      <td>0</td>\n      <td>VINOS FINOS</td>\n      <td>BLANCO FINO CONSIGNACIÓN</td>\n      <td>77.0</td>\n      <td>6.0</td>\n      <td>2.0</td>\n      <td>1000048614</td>\n      <td>referente</td>\n    </tr>\n  </tbody>\n</table>\n</div>"
     },
     "execution_count": 242,
     "metadata": {},
     "output_type": "execute_result"
    }
   ],
   "source": [
    "# df_1 = df_1.merge(canasta, left_on = 'ITEM', right_on = 'ORIN', how = 'left')\n",
    "df_1.head(2)"
   ],
   "metadata": {
    "collapsed": false
   }
  },
  {
   "cell_type": "code",
   "execution_count": 243,
   "outputs": [],
   "source": [
    "# df_1.to_excel('s.xlsx', index = False)"
   ],
   "metadata": {
    "collapsed": false
   }
  },
  {
   "cell_type": "code",
   "execution_count": 244,
   "outputs": [
    {
     "data": {
      "text/plain": "(305, 17)"
     },
     "execution_count": 244,
     "metadata": {},
     "output_type": "execute_result"
    }
   ],
   "source": [
    "# df_1.shape"
   ],
   "metadata": {
    "collapsed": false
   }
  },
  {
   "cell_type": "markdown",
   "source": [
    "# Fin"
   ],
   "metadata": {
    "collapsed": false
   },
   "execution_count": 1
  }
 ],
 "metadata": {
  "colab": {
   "collapsed_sections": [],
   "provenance": []
  },
  "kernelspec": {
   "display_name": "Python 3.9.12 ('env')",
   "language": "python",
   "name": "python3"
  },
  "language_info": {
   "codemirror_mode": {
    "name": "ipython",
    "version": 3
   },
   "file_extension": ".py",
   "mimetype": "text/x-python",
   "name": "python",
   "nbconvert_exporter": "python",
   "pygments_lexer": "ipython3",
   "version": "3.9.12"
  },
  "orig_nbformat": 4,
  "vscode": {
   "interpreter": {
    "hash": "1c19c5efd8f4b93ccbd4006c6f9f93fa19f57b77bfb4a2e5dfb55a2b8dd9ae6c"
   }
  }
 },
 "nbformat": 4,
 "nbformat_minor": 0
}
