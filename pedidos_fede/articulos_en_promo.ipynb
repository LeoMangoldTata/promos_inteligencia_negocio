{
 "cells": [
  {
   "cell_type": "markdown",
   "source": [
    "# Importamos librerias"
   ],
   "metadata": {
    "collapsed": false
   }
  },
  {
   "cell_type": "code",
   "execution_count": 3,
   "metadata": {
    "id": "tKk581G_hMT0"
   },
   "outputs": [],
   "source": [
    "import pandas as pd\n",
    "import numpy as np\n",
    "import snowflake.connector\n",
    "import json\n",
    "from snowflake.connector.pandas_tools import write_pandas\n",
    "from datetime import datetime\n",
    "from datetime import timedelta\n",
    "from dateutil.relativedelta import relativedelta\n",
    "pd.options.mode.chained_assignment = None"
   ]
  },
  {
   "cell_type": "code",
   "execution_count": 4,
   "metadata": {
    "colab": {
     "base_uri": "https://localhost:8080/"
    },
    "id": "ChvQTwl1D-Ls",
    "outputId": "351b443f-8ebf-4a34-f7ba-93fb012f5082"
   },
   "outputs": [
    {
     "name": "stdout",
     "output_type": "stream",
     "text": [
      "Connected\n"
     ]
    }
   ],
   "source": [
    "while True:\n",
    "    try:\n",
    "\n",
    "        f = open('credentials.json')\n",
    "        data_pass = json.load(f)\n",
    "\n",
    "        pass_ = input(\"INGRESAR PASSCODE:\")\n",
    "\n",
    "        ctx = snowflake.connector.connect(\n",
    "            user = data_pass['snow']['USER'],\n",
    "            password = data_pass['snow']['PASS'],\n",
    "            account = data_pass['snow']['ACCOUNT'],\n",
    "            passcode = pass_,\n",
    "            database = 'SANDBOX_PLUS',\n",
    "            schema = 'DWH'\n",
    "        )\n",
    "\n",
    "        cursor = ctx.cursor()\n",
    "\n",
    "        print('Connected')\n",
    "\n",
    "        break\n",
    "\n",
    "    except:\n",
    "        print('Incorrect Password - provide again')\n",
    "\n",
    "    print('Correct Password - connected to SNOWFLAKE')"
   ]
  },
  {
   "cell_type": "markdown",
   "source": [
    "# Stock"
   ],
   "metadata": {
    "collapsed": false
   }
  },
  {
   "cell_type": "code",
   "execution_count": 5,
   "outputs": [
    {
     "data": {
      "text/plain": "('244746000',\n '235219000',\n '230130000',\n '254840000',\n '258567000',\n '245981000',\n '260668000',\n '258556000',\n '260669000',\n '252289000',\n '240103000',\n '250879000',\n '231713000',\n '141496000',\n '250204000',\n '250609000',\n '236405000',\n '252142000',\n '330482000')"
     },
     "execution_count": 5,
     "metadata": {},
     "output_type": "execute_result"
    }
   ],
   "source": [
    "articulos = tuple(['244746000', '235219000', '230130000', '254840000', '258567000', '245981000', '260668000', '258556000', '260669000', '252289000', '240103000', '250879000', '231713000', '141496000', '250204000', '250609000', '236405000', '252142000', '330482000'])\n",
    "articulos"
   ],
   "metadata": {
    "collapsed": false
   }
  },
  {
   "cell_type": "code",
   "execution_count": 6,
   "outputs": [
    {
     "data": {
      "text/plain": "  ARTC_ARTC_COD        ORIN                            ARTC_ARTC_DESC  \\\n0     252142000  1000051653      CHOCLO EN GRANO ODERICH LATA 300 G 1   \n1     258567000  1000054084  SALSA DE TOMATE OLIVE BARILLA 400.00 G 1   \n\n   UNIDADES  \n0    1030.0  \n1    1261.0  ",
      "text/html": "<div>\n<style scoped>\n    .dataframe tbody tr th:only-of-type {\n        vertical-align: middle;\n    }\n\n    .dataframe tbody tr th {\n        vertical-align: top;\n    }\n\n    .dataframe thead th {\n        text-align: right;\n    }\n</style>\n<table border=\"1\" class=\"dataframe\">\n  <thead>\n    <tr style=\"text-align: right;\">\n      <th></th>\n      <th>ARTC_ARTC_COD</th>\n      <th>ORIN</th>\n      <th>ARTC_ARTC_DESC</th>\n      <th>UNIDADES</th>\n    </tr>\n  </thead>\n  <tbody>\n    <tr>\n      <th>0</th>\n      <td>252142000</td>\n      <td>1000051653</td>\n      <td>CHOCLO EN GRANO ODERICH LATA 300 G 1</td>\n      <td>1030.0</td>\n    </tr>\n    <tr>\n      <th>1</th>\n      <td>258567000</td>\n      <td>1000054084</td>\n      <td>SALSA DE TOMATE OLIVE BARILLA 400.00 G 1</td>\n      <td>1261.0</td>\n    </tr>\n  </tbody>\n</table>\n</div>"
     },
     "execution_count": 6,
     "metadata": {},
     "output_type": "execute_result"
    }
   ],
   "source": [
    "query = '''\n",
    "    SELECT\n",
    "        --LGL.GEOG_LOCL_COD,\n",
    "        --LGL.GEOG_LOCL_DESC,\n",
    "        LAA.ARTC_ARTC_COD,\n",
    "        LAA.ORIN,\n",
    "        LAA.ARTC_ARTC_DESC,\n",
    "        SUM(FS.STCK_UNIDADES) AS UNIDADES\n",
    "    FROM\n",
    "        MSTRDB.DWH.FT_STOCK AS FS\n",
    "        INNER JOIN MSTRDB.DWH.LU_ARTC_ARTICULO AS LAA ON LAA.ARTC_ARTC_ID = FS.ARTC_ARTC_ID\n",
    "        INNER JOIN MSTRDB.DWH.LU_GEOG_LOCAL AS LGL ON LGL.GEOG_LOCL_ID = FS.GEOG_LOCL_ID\n",
    "    WHERE\n",
    "        FS.TIEM_DIA_ID = CURRENT_DATE - 1\n",
    "        AND LAA.ARTC_ARTC_COD IN {articulos_snow}\n",
    "    GROUP BY\n",
    "        ALL\n",
    "'''\n",
    "\n",
    "cursor.execute(query.format(articulos_snow = articulos))\n",
    "df = cursor.fetch_pandas_all()\n",
    "df.head(2)"
   ],
   "metadata": {
    "collapsed": false
   }
  },
  {
   "cell_type": "markdown",
   "source": [
    "# En Promo"
   ],
   "metadata": {
    "collapsed": false
   }
  },
  {
   "cell_type": "code",
   "execution_count": 7,
   "outputs": [
    {
     "data": {
      "text/plain": "                         EVENTO_DESC        ORIN\n0         Carnaval2024 - 09/02_18/02  1000054863\n1  OfertataFebrero052024-01/02_07/02  1000049220",
      "text/html": "<div>\n<style scoped>\n    .dataframe tbody tr th:only-of-type {\n        vertical-align: middle;\n    }\n\n    .dataframe tbody tr th {\n        vertical-align: top;\n    }\n\n    .dataframe thead th {\n        text-align: right;\n    }\n</style>\n<table border=\"1\" class=\"dataframe\">\n  <thead>\n    <tr style=\"text-align: right;\">\n      <th></th>\n      <th>EVENTO_DESC</th>\n      <th>ORIN</th>\n    </tr>\n  </thead>\n  <tbody>\n    <tr>\n      <th>0</th>\n      <td>Carnaval2024 - 09/02_18/02</td>\n      <td>1000054863</td>\n    </tr>\n    <tr>\n      <th>1</th>\n      <td>OfertataFebrero052024-01/02_07/02</td>\n      <td>1000049220</td>\n    </tr>\n  </tbody>\n</table>\n</div>"
     },
     "execution_count": 7,
     "metadata": {},
     "output_type": "execute_result"
    }
   ],
   "source": [
    "query = '''\n",
    "SELECT\n",
    "    DISTINCT\n",
    "    EVENTO_DESC,\n",
    "    ORIN\n",
    "FROM\n",
    "    (\n",
    "    SELECT\n",
    "        LPTO.*,\n",
    "        LPE.EVENTO_DESC,\n",
    "        FP.PROM_FECHA_INICIO AS INICIO,\n",
    "        FP.PROM_FECHA_FIN AS FIN,\n",
    "        LAA.ORIN,\n",
    "        LAA.ARTC_ARTC_COD,\n",
    "        LAA.ARTC_ARTC_DESC\n",
    "    FROM\n",
    "        MSTRDB.DWH.FT_PROMOS AS FP\n",
    "        INNER JOIN MSTRDB.DWH.LU_PROM_EVENTO AS LPE ON LPE.EVENTO_ID = FP.EVENTO_ID\n",
    "        INNER JOIN MSTRDB.DWH.LU_PROM_TIPO_OFERTA AS LPTO ON LPTO.TIPO_OFERTA_ID = LPE.TIPO_OFERTA_ID\n",
    "        INNER JOIN MSTRDB.DWH.LU_ARTC_ARTICULO AS LAA ON LAA.ARTC_ARTC_ID = FP.ARTC_ARTC_ID\n",
    "    WHERE\n",
    "        YEAR(FP.PROM_FECHA_FIN) = 2024\n",
    "        AND FP.PROM_FECHA_INICIO > CURRENT_DATE\n",
    "        --AND EVENTO_DESC ILIKE '%OFERTATA%'\n",
    "        AND LAA.ARTC_ARTC_COD IN {articulos_snow}\n",
    "    )\n",
    "'''\n",
    "\n",
    "cursor.execute(query.format(articulos_snow = articulos))\n",
    "ofertas = cursor.fetch_pandas_all()\n",
    "ofertas.head(2)"
   ],
   "metadata": {
    "collapsed": false
   }
  },
  {
   "cell_type": "code",
   "execution_count": 8,
   "outputs": [
    {
     "data": {
      "text/plain": "         ORIN                                        EVENTO_DESC\n0  1000047654  OfertataEnero042024-25/01_31/01OfertataFebrero...\n1  1000048181               Especial Cervezas 2024 - 08/02_14/02\n2  1000049220  OfertataFebrero052024-01/02_07/02Especial Cerv...\n3  1000050785                  OfertataFebrero062024-08/02_14/02\n4  1000054862                  OfertataFebrero062024-08/02_14/02\n5  1000054863  Carnaval2024 - 09/02_18/02OfertataFebrero06202...\n6  1000221905  OfertataEnero042024-25/01_31/01Carnaval2024 - ...",
      "text/html": "<div>\n<style scoped>\n    .dataframe tbody tr th:only-of-type {\n        vertical-align: middle;\n    }\n\n    .dataframe tbody tr th {\n        vertical-align: top;\n    }\n\n    .dataframe thead th {\n        text-align: right;\n    }\n</style>\n<table border=\"1\" class=\"dataframe\">\n  <thead>\n    <tr style=\"text-align: right;\">\n      <th></th>\n      <th>ORIN</th>\n      <th>EVENTO_DESC</th>\n    </tr>\n  </thead>\n  <tbody>\n    <tr>\n      <th>0</th>\n      <td>1000047654</td>\n      <td>OfertataEnero042024-25/01_31/01OfertataFebrero...</td>\n    </tr>\n    <tr>\n      <th>1</th>\n      <td>1000048181</td>\n      <td>Especial Cervezas 2024 - 08/02_14/02</td>\n    </tr>\n    <tr>\n      <th>2</th>\n      <td>1000049220</td>\n      <td>OfertataFebrero052024-01/02_07/02Especial Cerv...</td>\n    </tr>\n    <tr>\n      <th>3</th>\n      <td>1000050785</td>\n      <td>OfertataFebrero062024-08/02_14/02</td>\n    </tr>\n    <tr>\n      <th>4</th>\n      <td>1000054862</td>\n      <td>OfertataFebrero062024-08/02_14/02</td>\n    </tr>\n    <tr>\n      <th>5</th>\n      <td>1000054863</td>\n      <td>Carnaval2024 - 09/02_18/02OfertataFebrero06202...</td>\n    </tr>\n    <tr>\n      <th>6</th>\n      <td>1000221905</td>\n      <td>OfertataEnero042024-25/01_31/01Carnaval2024 - ...</td>\n    </tr>\n  </tbody>\n</table>\n</div>"
     },
     "execution_count": 8,
     "metadata": {},
     "output_type": "execute_result"
    }
   ],
   "source": [
    "ofertas_2 = ofertas.groupby('ORIN')['EVENTO_DESC'].sum().reset_index()\n",
    "ofertas_2"
   ],
   "metadata": {
    "collapsed": false
   }
  },
  {
   "cell_type": "markdown",
   "source": [
    "# Venta Proyectada"
   ],
   "metadata": {
    "collapsed": false
   }
  },
  {
   "cell_type": "code",
   "execution_count": 9,
   "outputs": [
    {
     "data": {
      "text/plain": "         ORIN  PRONOSTICO_VENTA\n0  1000049626             11778\n1  1000051732             14532",
      "text/html": "<div>\n<style scoped>\n    .dataframe tbody tr th:only-of-type {\n        vertical-align: middle;\n    }\n\n    .dataframe tbody tr th {\n        vertical-align: top;\n    }\n\n    .dataframe thead th {\n        text-align: right;\n    }\n</style>\n<table border=\"1\" class=\"dataframe\">\n  <thead>\n    <tr style=\"text-align: right;\">\n      <th></th>\n      <th>ORIN</th>\n      <th>PRONOSTICO_VENTA</th>\n    </tr>\n  </thead>\n  <tbody>\n    <tr>\n      <th>0</th>\n      <td>1000049626</td>\n      <td>11778</td>\n    </tr>\n    <tr>\n      <th>1</th>\n      <td>1000051732</td>\n      <td>14532</td>\n    </tr>\n  </tbody>\n</table>\n</div>"
     },
     "execution_count": 9,
     "metadata": {},
     "output_type": "execute_result"
    }
   ],
   "source": [
    "query = '''\n",
    "SELECT\n",
    "    LAA.ORIN,\n",
    "    SUM(FP.PRONOSTICO_VENTA) AS PRONOSTICO_VENTA\n",
    "FROM\n",
    "    MSTRDB.DWH.FT_PROMOS AS FP\n",
    "    INNER JOIN MSTRDB.DWH.LU_ARTC_ARTICULO AS LAA ON FP.ARTC_ARTC_ID = LAA.ARTC_ARTC_ID\n",
    "WHERE\n",
    "    YEAR(FP.PROM_FECHA_INICIO) = 2024\n",
    "        AND LAA.ARTC_ARTC_COD IN {articulos_snow}\n",
    "GROUP BY\n",
    "    ALL\n",
    "'''\n",
    "\n",
    "cursor.execute(query.format(articulos_snow = articulos))\n",
    "venta_proyectada = cursor.fetch_pandas_all()\n",
    "venta_proyectada.head(2)"
   ],
   "metadata": {
    "collapsed": false
   }
  },
  {
   "cell_type": "markdown",
   "source": [
    "# Consolido"
   ],
   "metadata": {
    "collapsed": false
   }
  },
  {
   "cell_type": "code",
   "execution_count": 10,
   "outputs": [
    {
     "data": {
      "text/plain": "   ARTC_ARTC_COD        ORIN  \\\n0      252142000  1000051653   \n1      258567000  1000054084   \n2      260669000  1000054863   \n3      235219000  1000047733   \n4      252289000  1000051732   \n5      260668000  1000054862   \n6      236405000  1000047897   \n7      250204000  1000050274   \n8      330482000  1000170088   \n9      240103000  1000048181   \n10     244746000  1000049220   \n11     231713000  1000047654   \n12     250879000  1000050785   \n13     250609000  1000050590   \n14     230130000  1000408185   \n15     254840000  1000455971   \n16     245981000  1000049626   \n17     258556000  1000054073   \n18     141496000  1000221905   \n\n                                       ARTC_ARTC_DESC  UNIDADES  \\\n0                CHOCLO EN GRANO ODERICH LATA 300 G 1    1030.0   \n1            SALSA DE TOMATE OLIVE BARILLA 400.00 G 1    1261.0   \n2           ALFAJOR CHOCOLATE PORTEZUELO PACK 6.00 U.   25634.0   \n3             LECHE DESLACTOSADA PARMALAT 1 L NATURAL    4832.0   \n4        PULPA DE TOMATES TAMIZADA COLOLO 1020.00 G 1    4526.0   \n5                 ALFAJOR NIEVE PORTEZUELO PACK X 6 U   16742.0   \n6             HUEVO COLOR YEMADONA X 15.00 U. NATURAL    4556.0   \n7            VINAGRE ALCOHOL GAMBERO PET 500.00 CL. 1    2846.0   \n8                      HAMBURGUESAS SARUBBI X2. 13213    8349.0   \n9                    CERVEZA HEINEKEN 1 LITRO NO RET.   11211.0   \n10                            CERVEZA PATRICIA 1.00 L   18198.0   \n11       CREMA DE LECHE PARMALAT UHT 200.00 G NATURAL   32219.0   \n12    FIDEOS ESPINACA COLOLO NIDO PAQUET 500.00 GR. 1    7102.0   \n13                  ARROZ PATNA SAMAN BOLSA 1.00 KG 1    6786.0   \n14  LECHE CHOCOLATADA PARMALAT LARGA DURACION SACH...    4645.0   \n15                    SALSA BOLOGNESA BARILLA 400 G 1    1072.0   \n16                  AGUA MINERAL SALUS SIN GAS 2.25 L   10700.0   \n17        SALSA DE TOMATE BASILICO BARILLA 400.00 G 1    2148.0   \n18     INSECTICIDA TATA MATA MOSCAS Y MOSQUITOS 400ML   32971.0   \n\n                                          EVENTO_DESC  PRONOSTICO_VENTA  \n0                                                 NaN              3408  \n1                                                 NaN              5928  \n2   Carnaval2024 - 09/02_18/02OfertataFebrero06202...             21775  \n3                                                 NaN             18440  \n4                                                 NaN             14532  \n5                   OfertataFebrero062024-08/02_14/02             14100  \n6                                                 NaN              6736  \n7                                                 NaN              5256  \n8                                                 NaN              3425  \n9                Especial Cervezas 2024 - 08/02_14/02              5808  \n10  OfertataFebrero052024-01/02_07/02Especial Cerv...             19680  \n11  OfertataEnero042024-25/01_31/01OfertataFebrero...              9096  \n12                  OfertataFebrero062024-08/02_14/02              8145  \n13                                                NaN             12680  \n14                                                NaN             22520  \n15                                                NaN              6936  \n16                                                NaN             11778  \n17                                                NaN              4926  \n18  OfertataEnero042024-25/01_31/01Carnaval2024 - ...              6204  ",
      "text/html": "<div>\n<style scoped>\n    .dataframe tbody tr th:only-of-type {\n        vertical-align: middle;\n    }\n\n    .dataframe tbody tr th {\n        vertical-align: top;\n    }\n\n    .dataframe thead th {\n        text-align: right;\n    }\n</style>\n<table border=\"1\" class=\"dataframe\">\n  <thead>\n    <tr style=\"text-align: right;\">\n      <th></th>\n      <th>ARTC_ARTC_COD</th>\n      <th>ORIN</th>\n      <th>ARTC_ARTC_DESC</th>\n      <th>UNIDADES</th>\n      <th>EVENTO_DESC</th>\n      <th>PRONOSTICO_VENTA</th>\n    </tr>\n  </thead>\n  <tbody>\n    <tr>\n      <th>0</th>\n      <td>252142000</td>\n      <td>1000051653</td>\n      <td>CHOCLO EN GRANO ODERICH LATA 300 G 1</td>\n      <td>1030.0</td>\n      <td>NaN</td>\n      <td>3408</td>\n    </tr>\n    <tr>\n      <th>1</th>\n      <td>258567000</td>\n      <td>1000054084</td>\n      <td>SALSA DE TOMATE OLIVE BARILLA 400.00 G 1</td>\n      <td>1261.0</td>\n      <td>NaN</td>\n      <td>5928</td>\n    </tr>\n    <tr>\n      <th>2</th>\n      <td>260669000</td>\n      <td>1000054863</td>\n      <td>ALFAJOR CHOCOLATE PORTEZUELO PACK 6.00 U.</td>\n      <td>25634.0</td>\n      <td>Carnaval2024 - 09/02_18/02OfertataFebrero06202...</td>\n      <td>21775</td>\n    </tr>\n    <tr>\n      <th>3</th>\n      <td>235219000</td>\n      <td>1000047733</td>\n      <td>LECHE DESLACTOSADA PARMALAT 1 L NATURAL</td>\n      <td>4832.0</td>\n      <td>NaN</td>\n      <td>18440</td>\n    </tr>\n    <tr>\n      <th>4</th>\n      <td>252289000</td>\n      <td>1000051732</td>\n      <td>PULPA DE TOMATES TAMIZADA COLOLO 1020.00 G 1</td>\n      <td>4526.0</td>\n      <td>NaN</td>\n      <td>14532</td>\n    </tr>\n    <tr>\n      <th>5</th>\n      <td>260668000</td>\n      <td>1000054862</td>\n      <td>ALFAJOR NIEVE PORTEZUELO PACK X 6 U</td>\n      <td>16742.0</td>\n      <td>OfertataFebrero062024-08/02_14/02</td>\n      <td>14100</td>\n    </tr>\n    <tr>\n      <th>6</th>\n      <td>236405000</td>\n      <td>1000047897</td>\n      <td>HUEVO COLOR YEMADONA X 15.00 U. NATURAL</td>\n      <td>4556.0</td>\n      <td>NaN</td>\n      <td>6736</td>\n    </tr>\n    <tr>\n      <th>7</th>\n      <td>250204000</td>\n      <td>1000050274</td>\n      <td>VINAGRE ALCOHOL GAMBERO PET 500.00 CL. 1</td>\n      <td>2846.0</td>\n      <td>NaN</td>\n      <td>5256</td>\n    </tr>\n    <tr>\n      <th>8</th>\n      <td>330482000</td>\n      <td>1000170088</td>\n      <td>HAMBURGUESAS SARUBBI X2. 13213</td>\n      <td>8349.0</td>\n      <td>NaN</td>\n      <td>3425</td>\n    </tr>\n    <tr>\n      <th>9</th>\n      <td>240103000</td>\n      <td>1000048181</td>\n      <td>CERVEZA HEINEKEN 1 LITRO NO RET.</td>\n      <td>11211.0</td>\n      <td>Especial Cervezas 2024 - 08/02_14/02</td>\n      <td>5808</td>\n    </tr>\n    <tr>\n      <th>10</th>\n      <td>244746000</td>\n      <td>1000049220</td>\n      <td>CERVEZA PATRICIA 1.00 L</td>\n      <td>18198.0</td>\n      <td>OfertataFebrero052024-01/02_07/02Especial Cerv...</td>\n      <td>19680</td>\n    </tr>\n    <tr>\n      <th>11</th>\n      <td>231713000</td>\n      <td>1000047654</td>\n      <td>CREMA DE LECHE PARMALAT UHT 200.00 G NATURAL</td>\n      <td>32219.0</td>\n      <td>OfertataEnero042024-25/01_31/01OfertataFebrero...</td>\n      <td>9096</td>\n    </tr>\n    <tr>\n      <th>12</th>\n      <td>250879000</td>\n      <td>1000050785</td>\n      <td>FIDEOS ESPINACA COLOLO NIDO PAQUET 500.00 GR. 1</td>\n      <td>7102.0</td>\n      <td>OfertataFebrero062024-08/02_14/02</td>\n      <td>8145</td>\n    </tr>\n    <tr>\n      <th>13</th>\n      <td>250609000</td>\n      <td>1000050590</td>\n      <td>ARROZ PATNA SAMAN BOLSA 1.00 KG 1</td>\n      <td>6786.0</td>\n      <td>NaN</td>\n      <td>12680</td>\n    </tr>\n    <tr>\n      <th>14</th>\n      <td>230130000</td>\n      <td>1000408185</td>\n      <td>LECHE CHOCOLATADA PARMALAT LARGA DURACION SACH...</td>\n      <td>4645.0</td>\n      <td>NaN</td>\n      <td>22520</td>\n    </tr>\n    <tr>\n      <th>15</th>\n      <td>254840000</td>\n      <td>1000455971</td>\n      <td>SALSA BOLOGNESA BARILLA 400 G 1</td>\n      <td>1072.0</td>\n      <td>NaN</td>\n      <td>6936</td>\n    </tr>\n    <tr>\n      <th>16</th>\n      <td>245981000</td>\n      <td>1000049626</td>\n      <td>AGUA MINERAL SALUS SIN GAS 2.25 L</td>\n      <td>10700.0</td>\n      <td>NaN</td>\n      <td>11778</td>\n    </tr>\n    <tr>\n      <th>17</th>\n      <td>258556000</td>\n      <td>1000054073</td>\n      <td>SALSA DE TOMATE BASILICO BARILLA 400.00 G 1</td>\n      <td>2148.0</td>\n      <td>NaN</td>\n      <td>4926</td>\n    </tr>\n    <tr>\n      <th>18</th>\n      <td>141496000</td>\n      <td>1000221905</td>\n      <td>INSECTICIDA TATA MATA MOSCAS Y MOSQUITOS 400ML</td>\n      <td>32971.0</td>\n      <td>OfertataEnero042024-25/01_31/01Carnaval2024 - ...</td>\n      <td>6204</td>\n    </tr>\n  </tbody>\n</table>\n</div>"
     },
     "execution_count": 10,
     "metadata": {},
     "output_type": "execute_result"
    }
   ],
   "source": [
    "consolidado = df.merge(ofertas_2, on = 'ORIN', how = 'left')\n",
    "consolidado = consolidado.merge(venta_proyectada, on = 'ORIN', how = 'left')\n",
    "consolidado"
   ],
   "metadata": {
    "collapsed": false
   }
  },
  {
   "cell_type": "code",
   "execution_count": 11,
   "outputs": [],
   "source": [
    "consolidado.to_excel('Articulos en Promo.xlsx', index = False)"
   ],
   "metadata": {
    "collapsed": false
   }
  },
  {
   "cell_type": "code",
   "execution_count": 11,
   "outputs": [],
   "source": [],
   "metadata": {
    "collapsed": false
   }
  },
  {
   "cell_type": "code",
   "execution_count": 11,
   "outputs": [],
   "source": [],
   "metadata": {
    "collapsed": false
   }
  },
  {
   "cell_type": "code",
   "execution_count": 11,
   "outputs": [],
   "source": [],
   "metadata": {
    "collapsed": false
   }
  },
  {
   "cell_type": "code",
   "execution_count": 11,
   "outputs": [],
   "source": [],
   "metadata": {
    "collapsed": false
   }
  },
  {
   "cell_type": "code",
   "execution_count": 11,
   "outputs": [],
   "source": [],
   "metadata": {
    "collapsed": false
   }
  },
  {
   "cell_type": "markdown",
   "source": [
    "# Fin"
   ],
   "metadata": {
    "collapsed": false
   },
   "execution_count": 1
  }
 ],
 "metadata": {
  "colab": {
   "collapsed_sections": [],
   "provenance": []
  },
  "kernelspec": {
   "display_name": "Python 3.9.12 ('env')",
   "language": "python",
   "name": "python3"
  },
  "language_info": {
   "codemirror_mode": {
    "name": "ipython",
    "version": 3
   },
   "file_extension": ".py",
   "mimetype": "text/x-python",
   "name": "python",
   "nbconvert_exporter": "python",
   "pygments_lexer": "ipython3",
   "version": "3.9.12"
  },
  "orig_nbformat": 4,
  "vscode": {
   "interpreter": {
    "hash": "1c19c5efd8f4b93ccbd4006c6f9f93fa19f57b77bfb4a2e5dfb55a2b8dd9ae6c"
   }
  }
 },
 "nbformat": 4,
 "nbformat_minor": 0
}
