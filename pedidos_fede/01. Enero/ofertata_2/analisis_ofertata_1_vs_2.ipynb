{
 "cells": [
  {
   "cell_type": "markdown",
   "source": [
    "# Importamos librerias"
   ],
   "metadata": {
    "collapsed": false
   }
  },
  {
   "cell_type": "code",
   "execution_count": 3,
   "metadata": {
    "id": "tKk581G_hMT0"
   },
   "outputs": [],
   "source": [
    "import pandas as pd\n",
    "import numpy as np\n",
    "import os\n",
    "import snowflake.connector\n",
    "import json\n",
    "from snowflake.connector.pandas_tools import write_pandas\n",
    "from datetime import datetime\n",
    "from datetime import timedelta\n",
    "from dateutil.relativedelta import relativedelta\n",
    "pd.options.mode.chained_assignment = None"
   ]
  },
  {
   "cell_type": "code",
   "execution_count": 4,
   "metadata": {
    "colab": {
     "base_uri": "https://localhost:8080/"
    },
    "id": "ChvQTwl1D-Ls",
    "outputId": "351b443f-8ebf-4a34-f7ba-93fb012f5082"
   },
   "outputs": [
    {
     "name": "stdout",
     "output_type": "stream",
     "text": [
      "Connected\n"
     ]
    }
   ],
   "source": [
    "while True:\n",
    "    try:\n",
    "\n",
    "        f = open('credentials.json')\n",
    "        data_pass = json.load(f)\n",
    "\n",
    "        pass_ = input(\"INGRESAR PASSCODE:\")\n",
    "\n",
    "        ctx = snowflake.connector.connect(\n",
    "            user = data_pass['snow']['USER'],\n",
    "            password = data_pass['snow']['PASS'],\n",
    "            account = data_pass['snow']['ACCOUNT'],\n",
    "            passcode = pass_,\n",
    "            database = 'SANDBOX_PLUS',\n",
    "            schema = 'DWH'\n",
    "        )\n",
    "\n",
    "        cursor = ctx.cursor()\n",
    "\n",
    "        print('Connected')\n",
    "\n",
    "        break\n",
    "\n",
    "    except:\n",
    "        print('Incorrect Password - provide again')"
   ]
  },
  {
   "cell_type": "markdown",
   "source": [
    "# Info Ofertatas"
   ],
   "metadata": {
    "collapsed": false
   }
  },
  {
   "cell_type": "code",
   "execution_count": 9,
   "outputs": [],
   "source": [
    "ofertata_1_orines = tuple(['1000054862', '1000054863', '1000053389', '1000353034', '1000353035', '1000057303', '1000057084', '1000408185', '1000047733', '1000103472', '1000103473', '1000103474', '1000103475', '1000103476', '1000103477', '1000454069', '1000099231', '1000099229', '1000099233', '1000099234', '1000420775', '1000455579', '1000041807', '1000041820', '1000041821', '1000041822', '1000041825'])\n",
    "ofertata_1_inicio = '2024-01-04'\n",
    "ofertata_1_fin = '2024-01-10'\n",
    "ofertata_1_label = 'Ofertata 1'"
   ],
   "metadata": {
    "collapsed": false
   }
  },
  {
   "cell_type": "code",
   "execution_count": 11,
   "outputs": [],
   "source": [
    "ofertata_2_orines = tuple(['1000050223', '1000052025', '1000052026', '1000050604', '1000051793', '1000050430', '1000052904', '1000055018', '1000054557', '1000054561', '1000054554', '1000115080', '1000050183', '1000057475', '1000157003', '1000300431', '1000056430', '1000056460', '1000056444', '1000047820', '1000047821', '1000293393', '1000293392', '1000293399', '1000047464', '1000047463', '1000059577', '1000099194', '1000099195', '1000099197', '1000099200', '1000025827', '1000361491', '1000041840', '1000041838', '1000041824', '1000041839', '1000037657'])\n",
    "ofertata_2_inicio = '2024-01-11'\n",
    "ofertata_2_fin = '2024-01-17'\n",
    "ofertata_2_label = 'Ofertata 2'"
   ],
   "metadata": {
    "collapsed": false
   }
  },
  {
   "cell_type": "code",
   "execution_count": 14,
   "outputs": [
    {
     "name": "stdout",
     "output_type": "stream",
     "text": [
      "[{'label': 'Ofertata 1', 'inicio': '2024-01-04', 'fin': '2024-01-10', 'orines': ('1000054862', '1000054863', '1000053389', '1000353034', '1000353035', '1000057303', '1000057084', '1000408185', '1000047733', '1000103472', '1000103473', '1000103474', '1000103475', '1000103476', '1000103477', '1000454069', '1000099231', '1000099229', '1000099233', '1000099234', '1000420775', '1000455579', '1000041807', '1000041820', '1000041821', '1000041822', '1000041825')}, {'label': 'Ofertata 2', 'inicio': '2024-01-11', 'fin': '2024-01-17', 'orines': ('1000050223', '1000052025', '1000052026', '1000050604', '1000051793', '1000050430', '1000052904', '1000055018', '1000054557', '1000054561', '1000054554', '1000115080', '1000050183', '1000057475', '1000157003', '1000300431', '1000056430', '1000056460', '1000056444', '1000047820', '1000047821', '1000293393', '1000293392', '1000293399', '1000047464', '1000047463', '1000059577', '1000099194', '1000099195', '1000099197', '1000099200', '1000025827', '1000361491', '1000041840', '1000041838', '1000041824', '1000041839', '1000037657')}]\n"
     ]
    }
   ],
   "source": [
    "sets_of_data = []\n",
    "\n",
    "# Ofertata 1\n",
    "set_1 = {\n",
    "    'label': ofertata_1_label,\n",
    "    'inicio': ofertata_1_inicio,\n",
    "    'fin': ofertata_1_fin,\n",
    "    'orines': ofertata_1_orines\n",
    "}\n",
    "sets_of_data.append(set_1)\n",
    "\n",
    "# Ofertata 2\n",
    "set_2 = {\n",
    "    'label': ofertata_2_label,\n",
    "    'inicio': ofertata_2_inicio,\n",
    "    'fin': ofertata_2_fin,\n",
    "    'orines': ofertata_2_orines\n",
    "}\n",
    "sets_of_data.append(set_2)\n",
    "print(sets_of_data)"
   ],
   "metadata": {
    "collapsed": false
   }
  },
  {
   "cell_type": "markdown",
   "source": [
    "# PLUS"
   ],
   "metadata": {
    "collapsed": false
   }
  },
  {
   "cell_type": "markdown",
   "source": [
    "## Venta y GB1"
   ],
   "metadata": {
    "collapsed": false
   }
  },
  {
   "cell_type": "code",
   "execution_count": 20,
   "outputs": [
    {
     "data": {
      "text/plain": "               TICKET  SOCI_SOCI_ID  VENTA_PLUS   GB1_PLUS        TIPO\n0    2024011197938795        774131      210.11  37.981800  Ofertata 2\n1  202401111851068952        719100      352.80  49.738608  Ofertata 2",
      "text/html": "<div>\n<style scoped>\n    .dataframe tbody tr th:only-of-type {\n        vertical-align: middle;\n    }\n\n    .dataframe tbody tr th {\n        vertical-align: top;\n    }\n\n    .dataframe thead th {\n        text-align: right;\n    }\n</style>\n<table border=\"1\" class=\"dataframe\">\n  <thead>\n    <tr style=\"text-align: right;\">\n      <th></th>\n      <th>TICKET</th>\n      <th>SOCI_SOCI_ID</th>\n      <th>VENTA_PLUS</th>\n      <th>GB1_PLUS</th>\n      <th>TIPO</th>\n    </tr>\n  </thead>\n  <tbody>\n    <tr>\n      <th>0</th>\n      <td>2024011197938795</td>\n      <td>774131</td>\n      <td>210.11</td>\n      <td>37.981800</td>\n      <td>Ofertata 2</td>\n    </tr>\n    <tr>\n      <th>1</th>\n      <td>202401111851068952</td>\n      <td>719100</td>\n      <td>352.80</td>\n      <td>49.738608</td>\n      <td>Ofertata 2</td>\n    </tr>\n  </tbody>\n</table>\n</div>"
     },
     "execution_count": 20,
     "metadata": {},
     "output_type": "execute_result"
    }
   ],
   "source": [
    "query = '''\n",
    "SELECT\n",
    "    FV.TICKET,\n",
    "    FFM.SOCI_SOCI_ID,\n",
    "    SUM(FV.VNTA_IMPORTE_SIN_IVA) AS VENTA_PLUS,\n",
    "    SUM(FV.VNTA_IMPORTE_SIN_IVA) - SUM(FV.VNTA_COSTO_PROM_POND * FV.VNTA_UNIDADES) AS GB1_PLUS\n",
    "FROM\n",
    "    MSTRDB.DWH.FT_VENTAS AS FV\n",
    "    INNER JOIN MSTRDB.DWH.LU_ARTC_ARTICULO AS LAA ON FV.ARTC_ARTC_ID = LAA.ARTC_ARTC_ID\n",
    "    INNER JOIN MSTRDB.DWH.FT_FDLN_MOVIMIENTOS AS FFM ON FFM.TICKET = FV.TICKET\n",
    "WHERE\n",
    "    LAA.ORIN IN {orines_sql}\n",
    "    AND FV.TIEM_DIA_ID BETWEEN '{inicio_sql}' AND '{fin_sql}'\n",
    "GROUP BY\n",
    "    ALL\n",
    "'''\n",
    "\n",
    "plus = pd.DataFrame()\n",
    "\n",
    "for set_data in sets_of_data:\n",
    "    orines = set_data['orines']\n",
    "    inicio = set_data['inicio']\n",
    "    fin = set_data['fin']\n",
    "    label = set_data['label']\n",
    "\n",
    "    cursor.execute(query.format(\n",
    "        orines_sql = orines,\n",
    "        inicio_sql = inicio,\n",
    "        fin_sql = fin\n",
    "    ))\n",
    "    df_aux = cursor.fetch_pandas_all()\n",
    "    df_aux['TIPO'] = label\n",
    "    plus = pd.concat([df_aux, plus])\n",
    "plus.head(2)"
   ],
   "metadata": {
    "collapsed": false
   }
  },
  {
   "cell_type": "markdown",
   "source": [
    "## Ticket Mediano"
   ],
   "metadata": {
    "collapsed": false
   }
  },
  {
   "cell_type": "code",
   "execution_count": 25,
   "outputs": [
    {
     "data": {
      "text/plain": "   TICKET_MEDIANO_PLUS        TIPO\n0               737.98  Ofertata 2\n0               708.28  Ofertata 1",
      "text/html": "<div>\n<style scoped>\n    .dataframe tbody tr th:only-of-type {\n        vertical-align: middle;\n    }\n\n    .dataframe tbody tr th {\n        vertical-align: top;\n    }\n\n    .dataframe thead th {\n        text-align: right;\n    }\n</style>\n<table border=\"1\" class=\"dataframe\">\n  <thead>\n    <tr style=\"text-align: right;\">\n      <th></th>\n      <th>TICKET_MEDIANO_PLUS</th>\n      <th>TIPO</th>\n    </tr>\n  </thead>\n  <tbody>\n    <tr>\n      <th>0</th>\n      <td>737.98</td>\n      <td>Ofertata 2</td>\n    </tr>\n    <tr>\n      <th>0</th>\n      <td>708.28</td>\n      <td>Ofertata 1</td>\n    </tr>\n  </tbody>\n</table>\n</div>"
     },
     "execution_count": 25,
     "metadata": {},
     "output_type": "execute_result"
    }
   ],
   "source": [
    "query = '''\n",
    "WITH TICKETS AS\n",
    "    (\n",
    "    SELECT\n",
    "        DISTINCT FV.TICKET\n",
    "    FROM\n",
    "        MSTRDB.DWH.FT_VENTAS AS FV\n",
    "        INNER JOIN MSTRDB.DWH.LU_ARTC_ARTICULO AS LAA ON FV.ARTC_ARTC_ID = LAA.ARTC_ARTC_ID\n",
    "        INNER JOIN MSTRDB.DWH.FT_FDLN_MOVIMIENTOS AS FFM ON FFM.TICKET = FV.TICKET\n",
    "    WHERE\n",
    "        LAA.ORIN IN {orines_sql}\n",
    "        AND FV.TIEM_DIA_ID BETWEEN '{inicio_sql}' AND '{fin_sql}'\n",
    "    )\n",
    "\n",
    "SELECT\n",
    "    MEDIAN(VENTAS) AS TICKET_MEDIANO_PLUS\n",
    "FROM\n",
    "    (\n",
    "    SELECT\n",
    "        TICKET,\n",
    "        SUM(VNTA_IMPORTE_SIN_IVA) AS VENTAS\n",
    "    FROM\n",
    "        MSTRDB.DWH.FT_VENTAS\n",
    "    WHERE\n",
    "        TICKET IN (SELECT * FROM TICKETS)\n",
    "    GROUP BY\n",
    "        ALL\n",
    "    )\n",
    "'''\n",
    "\n",
    "plus_ticket_mediano = pd.DataFrame()\n",
    "\n",
    "for set_data in sets_of_data:\n",
    "    orines = set_data['orines']\n",
    "    inicio = set_data['inicio']\n",
    "    fin = set_data['fin']\n",
    "    label = set_data['label']\n",
    "\n",
    "    cursor.execute(query.format(\n",
    "        orines_sql = orines,\n",
    "        inicio_sql = inicio,\n",
    "        fin_sql = fin\n",
    "    ))\n",
    "    df_aux = cursor.fetch_pandas_all()\n",
    "    df_aux['TIPO'] = label\n",
    "    plus_ticket_mediano = pd.concat([df_aux, plus_ticket_mediano])\n",
    "plus_ticket_mediano.head(2)"
   ],
   "metadata": {
    "collapsed": false
   }
  },
  {
   "cell_type": "markdown",
   "source": [
    "## Consolidado"
   ],
   "metadata": {
    "collapsed": false
   }
  },
  {
   "cell_type": "code",
   "execution_count": 28,
   "outputs": [
    {
     "data": {
      "text/plain": "         TIPO  VENTA_PLUS      GB1_PLUS  TICKETS_PLUS  CLIENTES  \\\n0  Ofertata 1  5406127.32  9.327527e+05         43955     38449   \n1  Ofertata 2  9652994.87  1.303648e+06         61711     53059   \n\n   TICKET_MEDIANO_PLUS  \n0                  708  \n1                  738  ",
      "text/html": "<div>\n<style scoped>\n    .dataframe tbody tr th:only-of-type {\n        vertical-align: middle;\n    }\n\n    .dataframe tbody tr th {\n        vertical-align: top;\n    }\n\n    .dataframe thead th {\n        text-align: right;\n    }\n</style>\n<table border=\"1\" class=\"dataframe\">\n  <thead>\n    <tr style=\"text-align: right;\">\n      <th></th>\n      <th>TIPO</th>\n      <th>VENTA_PLUS</th>\n      <th>GB1_PLUS</th>\n      <th>TICKETS_PLUS</th>\n      <th>CLIENTES</th>\n      <th>TICKET_MEDIANO_PLUS</th>\n    </tr>\n  </thead>\n  <tbody>\n    <tr>\n      <th>0</th>\n      <td>Ofertata 1</td>\n      <td>5406127.32</td>\n      <td>9.327527e+05</td>\n      <td>43955</td>\n      <td>38449</td>\n      <td>708</td>\n    </tr>\n    <tr>\n      <th>1</th>\n      <td>Ofertata 2</td>\n      <td>9652994.87</td>\n      <td>1.303648e+06</td>\n      <td>61711</td>\n      <td>53059</td>\n      <td>738</td>\n    </tr>\n  </tbody>\n</table>\n</div>"
     },
     "execution_count": 28,
     "metadata": {},
     "output_type": "execute_result"
    }
   ],
   "source": [
    "plus_2 = plus.groupby('TIPO').agg(\n",
    "    {'VENTA_PLUS':'sum',\n",
    "    'GB1_PLUS':'sum',\n",
    "     'TICKET':'nunique',\n",
    "     'SOCI_SOCI_ID':'nunique'\n",
    "     }).reset_index()\n",
    "\n",
    "plus_2.rename({'TICKET':'TICKETS_PLUS', 'SOCI_SOCI_ID':'CLIENTES'}, axis = 1, inplace = True)\n",
    "\n",
    "plus_2 = plus_2.merge(plus_ticket_mediano, on = 'TIPO', how = 'left')\n",
    "plus_2['TICKET_MEDIANO_PLUS'] = round(plus_2['TICKET_MEDIANO_PLUS'], 0).astype(int)\n",
    "\n",
    "plus_2.sort_values(by = 'TIPO', inplace = True)\n",
    "plus_2"
   ],
   "metadata": {
    "collapsed": false
   }
  },
  {
   "cell_type": "markdown",
   "source": [
    "# Total"
   ],
   "metadata": {
    "collapsed": false
   }
  },
  {
   "cell_type": "code",
   "execution_count": 29,
   "outputs": [
    {
     "data": {
      "text/plain": "               TICKET  VENTA_PLUS  GB1_PLUS        TIPO\n0  202401124580330452       86.07   10.6605  Ofertata 2\n1  202401129580453583       57.38    7.1112  Ofertata 2",
      "text/html": "<div>\n<style scoped>\n    .dataframe tbody tr th:only-of-type {\n        vertical-align: middle;\n    }\n\n    .dataframe tbody tr th {\n        vertical-align: top;\n    }\n\n    .dataframe thead th {\n        text-align: right;\n    }\n</style>\n<table border=\"1\" class=\"dataframe\">\n  <thead>\n    <tr style=\"text-align: right;\">\n      <th></th>\n      <th>TICKET</th>\n      <th>VENTA_PLUS</th>\n      <th>GB1_PLUS</th>\n      <th>TIPO</th>\n    </tr>\n  </thead>\n  <tbody>\n    <tr>\n      <th>0</th>\n      <td>202401124580330452</td>\n      <td>86.07</td>\n      <td>10.6605</td>\n      <td>Ofertata 2</td>\n    </tr>\n    <tr>\n      <th>1</th>\n      <td>202401129580453583</td>\n      <td>57.38</td>\n      <td>7.1112</td>\n      <td>Ofertata 2</td>\n    </tr>\n  </tbody>\n</table>\n</div>"
     },
     "execution_count": 29,
     "metadata": {},
     "output_type": "execute_result"
    }
   ],
   "source": [
    "query = '''\n",
    "SELECT\n",
    "    FV.TICKET,\n",
    "    SUM(FV.VNTA_IMPORTE_SIN_IVA) AS VENTA_PLUS,\n",
    "    SUM(FV.VNTA_IMPORTE_SIN_IVA) - SUM(FV.VNTA_COSTO_PROM_POND * FV.VNTA_UNIDADES) AS GB1_PLUS\n",
    "FROM\n",
    "    MSTRDB.DWH.FT_VENTAS AS FV\n",
    "    INNER JOIN MSTRDB.DWH.LU_ARTC_ARTICULO AS LAA ON FV.ARTC_ARTC_ID = LAA.ARTC_ARTC_ID\n",
    "WHERE\n",
    "    LAA.ORIN IN {orines_sql}\n",
    "    AND FV.TIEM_DIA_ID BETWEEN '{inicio_sql}' AND '{fin_sql}'\n",
    "GROUP BY\n",
    "    ALL\n",
    "'''\n",
    "\n",
    "total = pd.DataFrame()\n",
    "\n",
    "for set_data in sets_of_data:\n",
    "    orines = set_data['orines']\n",
    "    inicio = set_data['inicio']\n",
    "    fin = set_data['fin']\n",
    "    label = set_data['label']\n",
    "\n",
    "    cursor.execute(query.format(\n",
    "        orines_sql = orines,\n",
    "        inicio_sql = inicio,\n",
    "        fin_sql = fin\n",
    "    ))\n",
    "    df_aux = cursor.fetch_pandas_all()\n",
    "    df_aux['TIPO'] = label\n",
    "    total = pd.concat([df_aux, total])\n",
    "total.head(2)"
   ],
   "metadata": {
    "collapsed": false
   }
  },
  {
   "cell_type": "markdown",
   "source": [
    "## Ticket Mediano"
   ],
   "metadata": {
    "collapsed": false
   }
  },
  {
   "cell_type": "code",
   "execution_count": 25,
   "outputs": [
    {
     "data": {
      "text/plain": "   TICKET_MEDIANO_PLUS        TIPO\n0               737.98  Ofertata 2\n0               708.28  Ofertata 1",
      "text/html": "<div>\n<style scoped>\n    .dataframe tbody tr th:only-of-type {\n        vertical-align: middle;\n    }\n\n    .dataframe tbody tr th {\n        vertical-align: top;\n    }\n\n    .dataframe thead th {\n        text-align: right;\n    }\n</style>\n<table border=\"1\" class=\"dataframe\">\n  <thead>\n    <tr style=\"text-align: right;\">\n      <th></th>\n      <th>TICKET_MEDIANO_PLUS</th>\n      <th>TIPO</th>\n    </tr>\n  </thead>\n  <tbody>\n    <tr>\n      <th>0</th>\n      <td>737.98</td>\n      <td>Ofertata 2</td>\n    </tr>\n    <tr>\n      <th>0</th>\n      <td>708.28</td>\n      <td>Ofertata 1</td>\n    </tr>\n  </tbody>\n</table>\n</div>"
     },
     "execution_count": 25,
     "metadata": {},
     "output_type": "execute_result"
    }
   ],
   "source": [
    "query = '''\n",
    "WITH TICKETS AS\n",
    "    (\n",
    "    SELECT\n",
    "        DISTINCT FV.TICKET\n",
    "    FROM\n",
    "        MSTRDB.DWH.FT_VENTAS AS FV\n",
    "        INNER JOIN MSTRDB.DWH.LU_ARTC_ARTICULO AS LAA ON FV.ARTC_ARTC_ID = LAA.ARTC_ARTC_ID\n",
    "    WHERE\n",
    "        LAA.ORIN IN {orines_sql}\n",
    "        AND FV.TIEM_DIA_ID BETWEEN '{inicio_sql}' AND '{fin_sql}'\n",
    "    )\n",
    "\n",
    "SELECT\n",
    "    MEDIAN(VENTAS) AS TICKET_MEDIANO_PLUS\n",
    "FROM\n",
    "    (\n",
    "    SELECT\n",
    "        TICKET,\n",
    "        SUM(VNTA_IMPORTE_SIN_IVA) AS VENTAS\n",
    "    FROM\n",
    "        MSTRDB.DWH.FT_VENTAS\n",
    "    WHERE\n",
    "        TICKET IN (SELECT * FROM TICKETS)\n",
    "    GROUP BY\n",
    "        ALL\n",
    "    )\n",
    "'''\n",
    "\n",
    "total_ticket_mediano = pd.DataFrame()\n",
    "\n",
    "for set_data in sets_of_data:\n",
    "    orines = set_data['orines']\n",
    "    inicio = set_data['inicio']\n",
    "    fin = set_data['fin']\n",
    "    label = set_data['label']\n",
    "\n",
    "    cursor.execute(query.format(\n",
    "        orines_sql = orines,\n",
    "        inicio_sql = inicio,\n",
    "        fin_sql = fin\n",
    "    ))\n",
    "    df_aux = cursor.fetch_pandas_all()\n",
    "    df_aux['TIPO'] = label\n",
    "    total_ticket_mediano = pd.concat([df_aux, total_ticket_mediano])\n",
    "total_ticket_mediano.head(2)"
   ],
   "metadata": {
    "collapsed": false
   }
  },
  {
   "cell_type": "markdown",
   "source": [
    "## Consolidado"
   ],
   "metadata": {
    "collapsed": false
   }
  },
  {
   "cell_type": "code",
   "execution_count": 28,
   "outputs": [
    {
     "data": {
      "text/plain": "         TIPO  VENTA_PLUS      GB1_PLUS  TICKETS_PLUS  CLIENTES  \\\n0  Ofertata 1  5406127.32  9.327527e+05         43955     38449   \n1  Ofertata 2  9652994.87  1.303648e+06         61711     53059   \n\n   TICKET_MEDIANO_PLUS  \n0                  708  \n1                  738  ",
      "text/html": "<div>\n<style scoped>\n    .dataframe tbody tr th:only-of-type {\n        vertical-align: middle;\n    }\n\n    .dataframe tbody tr th {\n        vertical-align: top;\n    }\n\n    .dataframe thead th {\n        text-align: right;\n    }\n</style>\n<table border=\"1\" class=\"dataframe\">\n  <thead>\n    <tr style=\"text-align: right;\">\n      <th></th>\n      <th>TIPO</th>\n      <th>VENTA_PLUS</th>\n      <th>GB1_PLUS</th>\n      <th>TICKETS_PLUS</th>\n      <th>CLIENTES</th>\n      <th>TICKET_MEDIANO_PLUS</th>\n    </tr>\n  </thead>\n  <tbody>\n    <tr>\n      <th>0</th>\n      <td>Ofertata 1</td>\n      <td>5406127.32</td>\n      <td>9.327527e+05</td>\n      <td>43955</td>\n      <td>38449</td>\n      <td>708</td>\n    </tr>\n    <tr>\n      <th>1</th>\n      <td>Ofertata 2</td>\n      <td>9652994.87</td>\n      <td>1.303648e+06</td>\n      <td>61711</td>\n      <td>53059</td>\n      <td>738</td>\n    </tr>\n  </tbody>\n</table>\n</div>"
     },
     "execution_count": 28,
     "metadata": {},
     "output_type": "execute_result"
    }
   ],
   "source": [
    "plus_2 = plus.groupby('TIPO').agg(\n",
    "    {'VENTA_PLUS':'sum',\n",
    "    'GB1_PLUS':'sum',\n",
    "     'TICKET':'nunique',\n",
    "     'SOCI_SOCI_ID':'nunique'\n",
    "     }).reset_index()\n",
    "\n",
    "plus_2.rename({'TICKET':'TICKETS_PLUS', 'SOCI_SOCI_ID':'CLIENTES'}, axis = 1, inplace = True)\n",
    "\n",
    "plus_2 = plus_2.merge(plus_ticket_mediano, on = 'TIPO', how = 'left')\n",
    "plus_2['TICKET_MEDIANO_PLUS'] = round(plus_2['TICKET_MEDIANO_PLUS'], 0).astype(int)\n",
    "\n",
    "plus_2.sort_values(by = 'TIPO', inplace = True)\n",
    "plus_2"
   ],
   "metadata": {
    "collapsed": false
   }
  },
  {
   "cell_type": "code",
   "execution_count": null,
   "outputs": [],
   "source": [],
   "metadata": {
    "collapsed": false
   }
  },
  {
   "cell_type": "markdown",
   "source": [
    "# Fin"
   ],
   "metadata": {
    "collapsed": false
   },
   "execution_count": 1
  }
 ],
 "metadata": {
  "colab": {
   "collapsed_sections": [],
   "provenance": []
  },
  "kernelspec": {
   "display_name": "Python 3.9.12 ('env')",
   "language": "python",
   "name": "python3"
  },
  "language_info": {
   "codemirror_mode": {
    "name": "ipython",
    "version": 3
   },
   "file_extension": ".py",
   "mimetype": "text/x-python",
   "name": "python",
   "nbconvert_exporter": "python",
   "pygments_lexer": "ipython3",
   "version": "3.9.12"
  },
  "orig_nbformat": 4,
  "vscode": {
   "interpreter": {
    "hash": "1c19c5efd8f4b93ccbd4006c6f9f93fa19f57b77bfb4a2e5dfb55a2b8dd9ae6c"
   }
  }
 },
 "nbformat": 4,
 "nbformat_minor": 0
}
