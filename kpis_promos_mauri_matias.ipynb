{
 "cells": [
  {
   "cell_type": "markdown",
   "source": [
    "# Importamos librerias"
   ],
   "metadata": {
    "collapsed": false
   }
  },
  {
   "cell_type": "code",
   "execution_count": 1,
   "metadata": {
    "id": "tKk581G_hMT0"
   },
   "outputs": [],
   "source": [
    "import pandas as pd\n",
    "import numpy as np\n",
    "import snowflake.connector\n",
    "import json\n",
    "import matplotlib.pyplot as plt\n",
    "import seaborn as sns\n",
    "import os\n",
    "#from sentiment_analysis_spanish import sentiment_analysis\n",
    "from snowflake.connector.pandas_tools import write_pandas\n",
    "from datetime import datetime\n",
    "from datetime import timedelta\n",
    "from dateutil.relativedelta import relativedelta\n",
    "import glob\n",
    "pd.options.mode.chained_assignment = None"
   ]
  },
  {
   "cell_type": "code",
   "execution_count": 2,
   "metadata": {
    "colab": {
     "base_uri": "https://localhost:8080/"
    },
    "id": "ChvQTwl1D-Ls",
    "outputId": "351b443f-8ebf-4a34-f7ba-93fb012f5082"
   },
   "outputs": [
    {
     "name": "stdout",
     "output_type": "stream",
     "text": [
      "Connected\n"
     ]
    }
   ],
   "source": [
    "while True:\n",
    "    try:\n",
    "\n",
    "        f = open('credentials.json')\n",
    "        data_pass = json.load(f)\n",
    "\n",
    "        pass_ = input(\"INGRESAR PASSCODE:\")\n",
    "\n",
    "        ctx = snowflake.connector.connect(\n",
    "            user = data_pass['snow']['USER'],\n",
    "            password = data_pass['snow']['PASS'],\n",
    "            account = data_pass['snow']['ACCOUNT'],\n",
    "            passcode = pass_,\n",
    "            database = 'SANDBOX_PLUS',\n",
    "            schema = 'DWH'\n",
    "        )\n",
    "\n",
    "        cursor = ctx.cursor()\n",
    "\n",
    "        print('Connected')\n",
    "\n",
    "        break\n",
    "\n",
    "    except:\n",
    "        print('Incorrect Password - provide again')\n",
    "\n",
    "    print('Correct Password - connected to SNOWFLAKE')"
   ]
  },
  {
   "cell_type": "markdown",
   "source": [
    "## Ventas, GB1 & Numero de Subclases"
   ],
   "metadata": {
    "collapsed": false
   }
  },
  {
   "cell_type": "code",
   "execution_count": 3,
   "outputs": [
    {
     "data": {
      "text/plain": "['2022-01',\n '2022-02',\n '2022-03',\n '2022-04',\n '2022-05',\n '2022-06',\n '2022-07',\n '2022-08',\n '2022-09',\n '2022-10',\n '2022-11',\n '2022-12',\n '2023-01',\n '2023-02',\n '2023-03',\n '2023-04',\n '2023-05',\n '2023-06',\n '2023-07',\n '2023-08',\n '2023-09',\n '2023-10',\n '2023-11',\n '2023-12']"
     },
     "execution_count": 3,
     "metadata": {},
     "output_type": "execute_result"
    }
   ],
   "source": [
    "def generate_months(start_year, end_year):\n",
    "    months = []\n",
    "    for year in range(start_year, end_year + 1):\n",
    "        for month in range(1, 13):\n",
    "            months.append(f\"{year:04d}-{month:02d}\")\n",
    "    return months\n",
    "\n",
    "start_year = 2022\n",
    "end_year = 2023\n",
    "\n",
    "months_list = generate_months(start_year, end_year)\n",
    "months_list"
   ],
   "metadata": {
    "collapsed": false
   }
  },
  {
   "cell_type": "code",
   "execution_count": 4,
   "outputs": [
    {
     "data": {
      "text/plain": "['2023-01',\n '2023-02',\n '2023-03',\n '2023-04',\n '2023-05',\n '2023-06',\n '2023-07',\n '2023-08',\n '2023-09',\n '2023-10',\n '2023-11',\n '2023-12']"
     },
     "execution_count": 4,
     "metadata": {},
     "output_type": "execute_result"
    }
   ],
   "source": [
    "def generate_months(start_year, end_year):\n",
    "    months = []\n",
    "    for year in range(start_year, end_year + 1):\n",
    "        for month in range(1, 13):\n",
    "            months.append(f\"{year:04d}-{month:02d}\")\n",
    "    return months\n",
    "\n",
    "start_year = 2023\n",
    "end_year = 2023\n",
    "\n",
    "months_list_2 = generate_months(start_year, end_year)\n",
    "months_list_2"
   ],
   "metadata": {
    "collapsed": false
   }
  },
  {
   "cell_type": "code",
   "execution_count": 5,
   "outputs": [
    {
     "name": "stderr",
     "output_type": "stream",
     "text": [
      "C:\\Users\\leonardo.mangold\\AppData\\Local\\Temp\\ipykernel_4360\\2856392385.py:67: FutureWarning: Indexing with multiple keys (implicitly converted to a tuple of keys) will be deprecated, use a list instead.\n",
      "  df_2 = df_1.groupby(['PERIODO', 'TIPO_OFERTA_ID', 'TIPO_OFERTA_DESC', 'INICIO', 'FIN', 'GROUP_NAME', 'DEPT_NAME', 'CLASE', 'CLASS_NAME'])['VENTA_SIN_IVA', 'GB1'].sum().reset_index()\n"
     ]
    },
    {
     "data": {
      "text/plain": "   PERIODO  TIPO_OFERTA_ID TIPO_OFERTA_DESC      INICIO         FIN  \\\n0  2022-01              10       Imbatibles  2022-01-05  2022-01-24   \n1  2022-01              10       Imbatibles  2022-01-05  2022-01-24   \n\n  GROUP_NAME         DEPT_NAME  CLASE  CLASS_NAME  VENTA_SIN_IVA     GB1  \\\n0    BEBIDAS  BEB. ALCOHOLICAS  10002    CERVEZAS        6424483  928701   \n1    BEBIDAS  BEB. ALCOHOLICAS  10004  DESTILADAS          65143    8134   \n\n   GB1_%  \n0   14.5  \n1   12.5  ",
      "text/html": "<div>\n<style scoped>\n    .dataframe tbody tr th:only-of-type {\n        vertical-align: middle;\n    }\n\n    .dataframe tbody tr th {\n        vertical-align: top;\n    }\n\n    .dataframe thead th {\n        text-align: right;\n    }\n</style>\n<table border=\"1\" class=\"dataframe\">\n  <thead>\n    <tr style=\"text-align: right;\">\n      <th></th>\n      <th>PERIODO</th>\n      <th>TIPO_OFERTA_ID</th>\n      <th>TIPO_OFERTA_DESC</th>\n      <th>INICIO</th>\n      <th>FIN</th>\n      <th>GROUP_NAME</th>\n      <th>DEPT_NAME</th>\n      <th>CLASE</th>\n      <th>CLASS_NAME</th>\n      <th>VENTA_SIN_IVA</th>\n      <th>GB1</th>\n      <th>GB1_%</th>\n    </tr>\n  </thead>\n  <tbody>\n    <tr>\n      <th>0</th>\n      <td>2022-01</td>\n      <td>10</td>\n      <td>Imbatibles</td>\n      <td>2022-01-05</td>\n      <td>2022-01-24</td>\n      <td>BEBIDAS</td>\n      <td>BEB. ALCOHOLICAS</td>\n      <td>10002</td>\n      <td>CERVEZAS</td>\n      <td>6424483</td>\n      <td>928701</td>\n      <td>14.5</td>\n    </tr>\n    <tr>\n      <th>1</th>\n      <td>2022-01</td>\n      <td>10</td>\n      <td>Imbatibles</td>\n      <td>2022-01-05</td>\n      <td>2022-01-24</td>\n      <td>BEBIDAS</td>\n      <td>BEB. ALCOHOLICAS</td>\n      <td>10004</td>\n      <td>DESTILADAS</td>\n      <td>65143</td>\n      <td>8134</td>\n      <td>12.5</td>\n    </tr>\n  </tbody>\n</table>\n</div>"
     },
     "execution_count": 5,
     "metadata": {},
     "output_type": "execute_result"
    }
   ],
   "source": [
    "query = '''\n",
    "WITH PROMOS AS\n",
    "    (\n",
    "    SELECT\n",
    "        LPTO.*,\n",
    "        LPE.EVENTO_DESC,\n",
    "        FP.PROM_FECHA_INICIO AS INICIO,\n",
    "        FP.PROM_FECHA_FIN AS FIN,\n",
    "        GRO.GROUP_NAME,\n",
    "        DEPS.DEPT_NAME,\n",
    "        CLA.CLASE,\n",
    "        CLA.CLASS_NAME,\n",
    "        LAA.ORIN,\n",
    "        LAA.ARTC_ARTC_DESC,\n",
    "        FP.GEOG_LOCL_ID,\n",
    "        LGL.GEOG_LOCL_COD,\n",
    "        LGL.GEOG_LOCL_DESC\n",
    "    FROM\n",
    "        MSTRDB.DWH.FT_PROMOS AS FP\n",
    "        INNER JOIN MSTRDB.DWH.LU_PROM_EVENTO AS LPE ON LPE.EVENTO_ID = FP.EVENTO_ID\n",
    "        INNER JOIN MSTRDB.DWH.LU_PROM_TIPO_OFERTA AS LPTO ON LPTO.TIPO_OFERTA_ID = LPE.TIPO_OFERTA_ID\n",
    "        INNER JOIN MSTRDB.DWH.LU_ARTC_ARTICULO AS LAA ON LAA.ARTC_ARTC_ID = FP.ARTC_ARTC_ID\n",
    "        INNER JOIN MSTRDB.DWH.LU_GEOG_LOCAL AS LGL ON LGL.GEOG_LOCL_ID = FP.GEOG_LOCL_ID\n",
    "        INNER JOIN MSTRDB.DWH.ITEM_MASTER AS IM ON IM.ITEM = LAA.ORIN\n",
    "        INNER JOIN MSTRDB.DWH.CLASS AS CLA ON CLA.CLASE = IM.CLASE\n",
    "        INNER JOIN MSTRDB.DWH.DEPS AS DEPS ON DEPS.DEPT = IM.DEPT\n",
    "        INNER JOIN MSTRDB.DWH.GROUPS AS GRO ON GRO.GROUP_NO = DEPS.GROUP_NO\n",
    "    WHERE\n",
    "        LPTO.TIPO_OFERTA_ID IN (10, 11, 12)\n",
    "        AND (TO_VARCHAR(FP.PROM_FECHA_INICIO, 'YYYY-MM') = '{periodo_query}' OR TO_VARCHAR(FP.PROM_FECHA_FIN, 'YYYY-MM') = '{periodo_query}')\n",
    "    )\n",
    "\n",
    "SELECT\n",
    "    TO_VARCHAR(FV.TIEM_DIA_ID, 'YYYY-MM') AS PERIODO,\n",
    "    FV.TIEM_DIA_ID,\n",
    "    PROMOS.INICIO,\n",
    "    PROMOS.FIN,\n",
    "    PROMOS.TIPO_OFERTA_ID,\n",
    "    PROMOS.TIPO_OFERTA_DESC,\n",
    "    PROMOS.GROUP_NAME,\n",
    "    PROMOS.DEPT_NAME,\n",
    "    IM.CLASE,\n",
    "    CLA.CLASS_NAME,\n",
    "    LGL.GEOG_LOCL_COD,\n",
    "    FV.VNTA_IMPORTE_SIN_IVA AS VENTA_SIN_IVA,\n",
    "    FV.VNTA_UNIDADES * FV.VNTA_COSTO_PROM_POND AS COSTO,\n",
    "    VENTA_SIN_IVA - COSTO AS GB1\n",
    "FROM\n",
    "    MSTRDB.DWH.FT_VENTAS AS FV\n",
    "    INNER JOIN MSTRDB.DWH.LU_GEOG_LOCAL AS LGL ON FV.GEOG_LOCL_ID = LGL.GEOG_LOCL_ID\n",
    "    INNER JOIN MSTRDB.DWH.LU_ARTC_ARTICULO AS LAA ON LAA.ARTC_ARTC_ID = FV .ARTC_ARTC_ID\n",
    "    INNER JOIN MSTRDB.DWH.ITEM_MASTER AS IM ON IM.ITEM = LAA.ORIN\n",
    "    INNER JOIN MSTRDB.DWH.SUBCLASS AS SUB ON SUB.SUBCLASE = IM.SUBCLASE\n",
    "    INNER JOIN MSTRDB.DWH.CLASS AS CLA ON CLA.CLASE = IM.CLASE\n",
    "    INNER JOIN PROMOS ON PROMOS.ORIN = LAA.ORIN AND PROMOS.GEOG_LOCL_COD = LGL.GEOG_LOCL_COD AND FV.TIEM_DIA_ID BETWEEN PROMOS.INICIO AND PROMOS.FIN\n",
    "WHERE\n",
    "    TO_VARCHAR(FV.TIEM_DIA_ID, 'YYYY-MM') = '{periodo_query}'\n",
    "'''\n",
    "\n",
    "df_1 = pd.DataFrame()\n",
    "for month in months_list:\n",
    "    cursor.execute(query.format(periodo_query = month))\n",
    "    df_aux = cursor.fetch_pandas_all()\n",
    "    df_1 = pd.concat([df_aux, df_1])\n",
    "df_1.head(2)\n",
    "\n",
    "df_2 = df_1.groupby(['PERIODO', 'TIPO_OFERTA_ID', 'TIPO_OFERTA_DESC', 'INICIO', 'FIN', 'GROUP_NAME', 'DEPT_NAME', 'CLASE', 'CLASS_NAME'])['VENTA_SIN_IVA', 'GB1'].sum().reset_index()\n",
    "for i in ['VENTA_SIN_IVA', 'GB1']:\n",
    "    df_2[i] = df_2[i].astype(int)\n",
    "\n",
    "df_2['GB1_%'] = round(df_2['GB1'] / df_2['VENTA_SIN_IVA'] * 100, 1)\n",
    "\n",
    "df_2.head(2)"
   ],
   "metadata": {
    "collapsed": false
   }
  },
  {
   "cell_type": "code",
   "execution_count": 8,
   "outputs": [],
   "source": [
    "df_2.to_excel('Ventas y GB1.xlsx', index = False)"
   ],
   "metadata": {
    "collapsed": false
   }
  },
  {
   "cell_type": "code",
   "execution_count": 7,
   "outputs": [
    {
     "ename": "NameError",
     "evalue": "name 'sys' is not defined",
     "output_type": "error",
     "traceback": [
      "\u001B[1;31m---------------------------------------------------------------------------\u001B[0m",
      "\u001B[1;31mNameError\u001B[0m                                 Traceback (most recent call last)",
      "Input \u001B[1;32mIn [7]\u001B[0m, in \u001B[0;36m<cell line: 1>\u001B[1;34m()\u001B[0m\n\u001B[1;32m----> 1\u001B[0m \u001B[43msys\u001B[49m\u001B[38;5;241m.\u001B[39mexit()\n",
      "\u001B[1;31mNameError\u001B[0m: name 'sys' is not defined"
     ]
    }
   ],
   "source": [
    "sys.exit()"
   ],
   "metadata": {
    "collapsed": false
   }
  },
  {
   "cell_type": "markdown",
   "source": [
    "## Cantidad de Articulos"
   ],
   "metadata": {
    "collapsed": false
   }
  },
  {
   "cell_type": "markdown",
   "source": [
    "### Queries"
   ],
   "metadata": {
    "collapsed": false
   }
  },
  {
   "cell_type": "code",
   "execution_count": null,
   "outputs": [],
   "source": [
    "query = '''\n",
    "\n",
    "'''\n",
    "\n",
    "cursor.execute(query.format(periodo_query = periodo))\n",
    "cant_1 = cursor.fetch_pandas_all()\n",
    "cant_1['REF'] = 'Venta Promo'\n",
    "print(cant_1.shape[0])\n",
    "cant_1.head(2)"
   ],
   "metadata": {
    "collapsed": false
   }
  },
  {
   "cell_type": "code",
   "execution_count": null,
   "outputs": [],
   "source": [
    "# Para comparar con las ventas de la subclase o clase, tengo que agrupar y perder el tipo de oferta\n",
    "cant_2 = cant_1.groupby(['REF', 'CLASE', 'CLASS_NAME', 'SUBCLASE', 'SUB_NAME'])['UNIDADES_PROMO'].sum().reset_index()\n",
    "cant_2.head(2)"
   ],
   "metadata": {
    "collapsed": false
   }
  },
  {
   "cell_type": "code",
   "execution_count": null,
   "outputs": [],
   "source": [
    "query = '''\n",
    "WITH PROMOS AS\n",
    "    (\n",
    "    SELECT\n",
    "        LPTO.*,\n",
    "        LPE.EVENTO_DESC,\n",
    "        FP.PROM_FECHA_INICIO AS INICIO,\n",
    "        FP.PROM_FECHA_FIN AS FIN,\n",
    "        GRO.GROUP_NAME,\n",
    "        DEPS.DEPT_NAME,\n",
    "        CLA.CLASE,\n",
    "        CLA.CLASS_NAME,\n",
    "        LAA.ORIN,\n",
    "        LAA.ARTC_ARTC_DESC,\n",
    "        FP.GEOG_LOCL_ID,\n",
    "        LGL.GEOG_LOCL_COD,\n",
    "        LGL.GEOG_LOCL_DESC\n",
    "    FROM\n",
    "        MSTRDB.DWH.FT_PROMOS AS FP\n",
    "        INNER JOIN MSTRDB.DWH.LU_PROM_EVENTO AS LPE ON LPE.EVENTO_ID = FP.EVENTO_ID\n",
    "        INNER JOIN MSTRDB.DWH.LU_PROM_TIPO_OFERTA AS LPTO ON LPTO.TIPO_OFERTA_ID = LPE.TIPO_OFERTA_ID\n",
    "        INNER JOIN MSTRDB.DWH.LU_ARTC_ARTICULO AS LAA ON LAA.ARTC_ARTC_ID = FP.ARTC_ARTC_ID\n",
    "        INNER JOIN MSTRDB.DWH.LU_GEOG_LOCAL AS LGL ON LGL.GEOG_LOCL_ID = FP.GEOG_LOCL_ID\n",
    "        INNER JOIN MSTRDB.DWH.ITEM_MASTER AS IM ON IM.ITEM = LAA.ORIN\n",
    "        INNER JOIN MSTRDB.DWH.CLASS AS CLA ON CLA.CLASE = IM.CLASE\n",
    "        INNER JOIN MSTRDB.DWH.DEPS AS DEPS ON DEPS.DEPT = IM.DEPT\n",
    "        INNER JOIN MSTRDB.DWH.GROUPS AS GRO ON GRO.GROUP_NO = DEPS.GROUP_NO\n",
    "    WHERE\n",
    "        LPTO.TIPO_OFERTA_ID IN (10, 11, 12)\n",
    "        AND (TO_VARCHAR(FP.PROM_FECHA_INICIO, 'YYYY-MM') = '{periodo_query}' OR TO_VARCHAR(FP.PROM_FECHA_FIN, 'YYYY-MM') = '{periodo_query}')\n",
    "    )\n",
    "\n",
    "SELECT\n",
    "    TO_VARCHAR(FV.TIEM_DIA_ID, 'YYYY-MM') AS PERIODO,\n",
    "    FV.TIEM_DIA_ID,\n",
    "    PROMOS.INICIO,\n",
    "    PROMOS.FIN,\n",
    "    PROMOS.TIPO_OFERTA_ID,\n",
    "    PROMOS.TIPO_OFERTA_DESC,\n",
    "    PROMOS.GROUP_NAME,\n",
    "    PROMOS.DEPT_NAME,\n",
    "    IM.CLASE,\n",
    "    CLA.CLASS_NAME,\n",
    "    LGL.GEOG_LOCL_COD,\n",
    "    FV.VNTA_UNIDADES AS UNIDADES_TOTALES\n",
    "FROM\n",
    "    MSTRDB.DWH.FT_VENTAS AS FV\n",
    "    INNER JOIN MSTRDB.DWH.LU_GEOG_LOCAL AS LGL ON FV.GEOG_LOCL_ID = LGL.GEOG_LOCL_ID\n",
    "    INNER JOIN MSTRDB.DWH.LU_ARTC_ARTICULO AS LAA ON LAA.ARTC_ARTC_ID = FV .ARTC_ARTC_ID\n",
    "    INNER JOIN MSTRDB.DWH.ITEM_MASTER AS IM ON IM.ITEM = LAA.ORIN\n",
    "    INNER JOIN MSTRDB.DWH.SUBCLASS AS SUB ON SUB.SUBCLASE = IM.SUBCLASE\n",
    "    INNER JOIN MSTRDB.DWH.CLASS AS CLA ON CLA.CLASE = IM.CLASE\n",
    "    INNER JOIN PROMOS ON PROMOS.CLASE = IM.CLASE AND PROMOS.GEOG_LOCL_COD = LGL.GEOG_LOCL_COD AND FV.TIEM_DIA_ID BETWEEN PROMOS.INICIO AND PROMOS.FIN\n",
    "WHERE\n",
    "    TO_VARCHAR(FV.TIEM_DIA_ID, 'YYYY-MM') = '{periodo_query}'\n",
    "'''\n",
    "\n",
    "clases_1 = pd.DataFrame()\n",
    "for month in months_list_2:\n",
    "    cursor.execute(query.format(periodo_query = month))\n",
    "    df_aux = cursor.fetch_pandas_all()\n",
    "    clases = pd.concat([df_aux, clases_1])\n",
    "\n",
    "\n",
    "#df_2 = df_1.groupby(['PERIODO', 'TIPO_OFERTA_ID', 'TIPO_OFERTA_DESC', 'INICIO', 'FIN', 'GROUP_NAME', 'DEPT_NAME', 'CLASE', 'CLASS_NAME'])['VENTA_SIN_IVA', 'GB1'].sum().reset_index()\n",
    "#for i in ['VENTA_SIN_IVA', 'GB1']:\n",
    "    #df_2[i] = df_2[i].astype(int)\n",
    "\n",
    "#df_2['GB1_%'] = round(df_2['GB1'] / df_2['VENTA_SIN_IVA'] * 100, 1)\n",
    "\n",
    "#df_2.head(2)\n",
    "\n",
    "clases_1.head(2)"
   ],
   "metadata": {
    "collapsed": false,
    "pycharm": {
     "is_executing": true
    }
   }
  },
  {
   "cell_type": "code",
   "execution_count": null,
   "outputs": [],
   "source": [
    "sub_cant_2 = sub_cant_1.groupby(['REF_2','CLASE', 'CLASS_NAME', 'SUBCLASE', 'SUB_NAME'])['UNIDADES_TOTALES'].sum().reset_index()\n",
    "sub_cant_2.head(2)"
   ],
   "metadata": {
    "collapsed": false
   }
  },
  {
   "cell_type": "markdown",
   "source": [
    "### tabla 6 - Num Articulos por Subclase"
   ],
   "metadata": {
    "collapsed": false
   }
  },
  {
   "cell_type": "code",
   "execution_count": null,
   "outputs": [],
   "source": [
    "e_4 = cant_2.merge(sub_cant_2, on = ['CLASE', 'CLASS_NAME', 'SUBCLASE', 'SUB_NAME'], how = 'inner')\n",
    "\n",
    "e_4['RATIO_UNIDADES'] = round(e_4['UNIDADES_PROMO'] / e_4['UNIDADES_TOTALES'] * 100, 1)\n",
    "for i in ['UNIDADES_PROMO', 'UNIDADES_TOTALES']:\n",
    "    e_4[i] = e_4[i].astype(int)\n",
    "\n",
    "e_4.head(2)"
   ],
   "metadata": {
    "collapsed": false
   }
  },
  {
   "cell_type": "markdown",
   "source": [
    "# Excel"
   ],
   "metadata": {
    "collapsed": false
   }
  },
  {
   "cell_type": "code",
   "execution_count": null,
   "outputs": [],
   "source": [
    "with pd.ExcelWriter(f\"C:\\\\Users\\\\leonardo.mangold\\\\PycharmProjects\\\\analisis\\\\kpis_promos_mauri\\\\Entregas\\\\Promos {periodo}.xlsx\", engine='xlsxwriter') as writer:\n",
    "    e_1.to_excel(writer, sheet_name='Articulos Publicados', index=False) # tabla 1\n",
    "    arts_2.to_excel(writer, sheet_name='Venta y GB1 por Promo', index=False) # tabla 2\n",
    "    e_6.to_excel(writer, sheet_name='Numero de Subclases', index=False) # tabla 3\n",
    "    e_2.to_excel(writer, sheet_name='Venta y GB1 por Subclase', index=False) # tabla 4\n",
    "    e_3.to_excel(writer, sheet_name='Venta y GB1 Promo Agrupado', index=False) # tabla 5\n",
    "    e_4.to_excel(writer, sheet_name='Num Articulos por Subclase', index=False) # tabla 6\n",
    "    ace.to_excel(writer, sheet_name='Aceleracion', index=False) # tabla 7\n",
    "    ace_2.to_excel(writer, sheet_name='Aceleracion por Subclase', index=False) # tabla 8\n",
    "    ace_3.to_excel(writer, sheet_name='Aceleracion Resumen', index=False) # tabla 9\n",
    "    e_5.to_excel(writer, sheet_name='Tickets', index=False) # tabla 10\n",
    "    eventos.to_excel(writer, sheet_name='Numero de Eventos', index=False) # tabla 11\n",
    "    precios.to_excel(writer, sheet_name=f\"Precios {periodo_precios}\", index=False) # tabla 12\n",
    "    opt.to_excel(writer, sheet_name=f\"OPT - Media Precios Compet\", index=False) # tabla 13"
   ],
   "metadata": {
    "collapsed": false
   }
  },
  {
   "cell_type": "markdown",
   "source": [
    "# Fin"
   ],
   "metadata": {
    "collapsed": false
   },
   "execution_count": 1
  }
 ],
 "metadata": {
  "colab": {
   "collapsed_sections": [],
   "provenance": []
  },
  "kernelspec": {
   "display_name": "Python 3.9.12 ('env')",
   "language": "python",
   "name": "python3"
  },
  "language_info": {
   "codemirror_mode": {
    "name": "ipython",
    "version": 3
   },
   "file_extension": ".py",
   "mimetype": "text/x-python",
   "name": "python",
   "nbconvert_exporter": "python",
   "pygments_lexer": "ipython3",
   "version": "3.9.12"
  },
  "orig_nbformat": 4,
  "vscode": {
   "interpreter": {
    "hash": "1c19c5efd8f4b93ccbd4006c6f9f93fa19f57b77bfb4a2e5dfb55a2b8dd9ae6c"
   }
  }
 },
 "nbformat": 4,
 "nbformat_minor": 0
}
