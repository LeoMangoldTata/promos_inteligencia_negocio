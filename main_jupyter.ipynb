{
 "cells": [
  {
   "cell_type": "markdown",
   "source": [
    "# Importamos librerias"
   ],
   "metadata": {
    "collapsed": false
   }
  },
  {
   "cell_type": "code",
   "execution_count": 1,
   "metadata": {
    "id": "tKk581G_hMT0"
   },
   "outputs": [],
   "source": [
    "import pandas as pd\n",
    "import snowflake.connector\n",
    "import json\n",
    "from querys import *\n",
    "from functions import *\n",
    "from datetime import datetime\n",
    "pd.options.mode.chained_assignment = None"
   ]
  },
  {
   "cell_type": "markdown",
   "source": [
    "# SCOPES"
   ],
   "metadata": {
    "collapsed": false
   }
  },
  {
   "cell_type": "code",
   "execution_count": 2,
   "outputs": [],
   "source": [
    "SCOPES = [\"https://www.googleapis.com/auth/spreadsheets\", \"https://www.googleapis.com/auth/drive.file\", \"https://www.googleapis.com/auth/drive\"]\n",
    "DELETE_SCOPES = ['https://www.googleapis.com/auth/drive.file']"
   ],
   "metadata": {
    "collapsed": false
   }
  },
  {
   "cell_type": "markdown",
   "source": [
    "# Folder ID"
   ],
   "metadata": {
    "collapsed": false
   }
  },
  {
   "cell_type": "code",
   "execution_count": 3,
   "outputs": [
    {
     "data": {
      "text/plain": "'11yV-IyMUXCjQRvXBiDNYIEg_pDc6HglL'"
     },
     "execution_count": 3,
     "metadata": {},
     "output_type": "execute_result"
    }
   ],
   "source": [
    "# Ya sea que el codigo se ejecute desde mi pc o desde la VM, el folder ID sera siempre el mismo\n",
    "# ya que siempre guardaremos los spreadsheets en la misma carpeta\n",
    "\n",
    "FOLDER_ID = '11yV-IyMUXCjQRvXBiDNYIEg_pDc6HglL' # Mi Unidad / Promos\n",
    "#FOLDER_ID = '1pMhtpNJCi_sJ4xxXmRFC4YkIrzOYtZX1' # Mi Unidad / Otros\n",
    "\n",
    "# if os.getcwd() == 'C:\\\\Users\\\\leonardo.mangold\\\\PycharmProjects\\\\promos_inteligencia_negocio':\n",
    "#     FOLDER_ID = '1VCclV4q67yME8f0Guy2jKD5HeAQLgkUz'\n",
    "# else:\n",
    "#     FOLDER_ID = '1js40bDjRG7XcxeDUGoWYy4wBbsDPjwMu'\n",
    "\n",
    "\n",
    "# Drive Leo 11yV-IyMUXCjQRvXBiDNYIEg_pDc6HglL\n",
    "# Drive Unidad Compartida Inteligencia de Negocio 1VCclV4q67yME8f0Guy2jKD5HeAQLgkUz\n",
    "\n",
    "FOLDER_ID"
   ],
   "metadata": {
    "collapsed": false
   }
  },
  {
   "cell_type": "markdown",
   "source": [
    "# Spreadsheet ID"
   ],
   "metadata": {
    "collapsed": false
   }
  },
  {
   "cell_type": "code",
   "execution_count": 21,
   "outputs": [
    {
     "data": {
      "text/plain": "'1hqkPO6ych3MT3oJVFUkk9nBEvyhIcARPaVF86uFMPJ0'"
     },
     "execution_count": 21,
     "metadata": {},
     "output_type": "execute_result"
    }
   ],
   "source": [
    "# Mi Unidad / Otros\n",
    "\n",
    "url = 'https://docs.google.com/spreadsheets/d/1hqkPO6ych3MT3oJVFUkk9nBEvyhIcARPaVF86uFMPJ0/edit#gid=0'\n",
    "\n",
    "# Mi Unidad / Promos\n",
    "\n",
    "#url = 'https://docs.google.com/spreadsheets/d/1w5oGifgavq1GodX3z9t9UF8ALeOl6NzMWiu_4xPG8FE/edit'\n",
    "\n",
    "# Extracting spreadsheet ID\n",
    "\n",
    "spreadsheet_id = url.split('/')[-2]\n",
    "\n",
    "spreadsheet_id"
   ],
   "metadata": {
    "collapsed": false
   }
  },
  {
   "cell_type": "code",
   "execution_count": 22,
   "outputs": [],
   "source": [
    "credentials = get_credentials()\n",
    "\n",
    "# Authenticate with Google Sheets API using service account credentials\n",
    "gc = gspread.authorize(credentials)\n",
    "\n",
    "# Open the spreadsheet by its ID\n",
    "spreadsheet = gc.open_by_key(spreadsheet_id)"
   ],
   "metadata": {
    "collapsed": false
   }
  },
  {
   "cell_type": "code",
   "execution_count": 23,
   "outputs": [
    {
     "data": {
      "text/plain": "<Spreadsheet 'Hoja de cálculo sin título' id:1hqkPO6ych3MT3oJVFUkk9nBEvyhIcARPaVF86uFMPJ0>"
     },
     "execution_count": 23,
     "metadata": {},
     "output_type": "execute_result"
    }
   ],
   "source": [
    "spreadsheet"
   ],
   "metadata": {
    "collapsed": false
   }
  },
  {
   "cell_type": "markdown",
   "source": [
    "# Conexion Snowflake"
   ],
   "metadata": {
    "collapsed": false
   }
  },
  {
   "cell_type": "code",
   "execution_count": 7,
   "metadata": {
    "colab": {
     "base_uri": "https://localhost:8080/"
    },
    "id": "ChvQTwl1D-Ls",
    "outputId": "351b443f-8ebf-4a34-f7ba-93fb012f5082"
   },
   "outputs": [
    {
     "name": "stdout",
     "output_type": "stream",
     "text": [
      "Connected\n"
     ]
    }
   ],
   "source": [
    "# Conexion Snowflake desde compu personal\n",
    "\n",
    "if os.getcwd() == 'C:\\\\Users\\\\leonardo.mangold\\\\PycharmProjects\\\\promos_inteligencia_negocio':\n",
    "\n",
    "\twhile True:\n",
    "\t    try:\n",
    "\n",
    "\t        f = open('credentials.json')\n",
    "\t        data_pass = json.load(f)\n",
    "\n",
    "\t        pass_ = input(\"INGRESAR PASSCODE:\")\n",
    "\n",
    "\t        ctx = snowflake.connector.connect(\n",
    "\t            user = data_pass['snow']['USER'],\n",
    "\t            password = data_pass['snow']['PASS'],\n",
    "\t            account = data_pass['snow']['ACCOUNT'],\n",
    "\t            passcode = pass_,\n",
    "\t            database = 'SANDBOX_PLUS',\n",
    "\t            schema = 'DWH'\n",
    "\t        )\n",
    "\n",
    "\t        cursor = ctx.cursor()\n",
    "\n",
    "\t        print('Connected')\n",
    "\n",
    "\t        break\n",
    "\n",
    "\t    except:\n",
    "\t        print('Incorrect Password - provide again')\n",
    "\n",
    "# Conexion VM a Snowflake\n",
    "\n",
    "else:\n",
    "\n",
    "    ctx = snowflake.connector.connect(\n",
    "        user=\"PLUS_VM1\",\n",
    "        password=\"Plus22!\",\n",
    "        account=\"XZ23267-dp32414\",\n",
    "        database=\"SANDBOX_PLUS\",\n",
    "        schema=\"DWH\"\n",
    "        )\n",
    "\n",
    "    cursor = ctx.cursor()"
   ]
  },
  {
   "cell_type": "markdown",
   "source": [
    "# 1. Precios Oferta"
   ],
   "metadata": {
    "collapsed": false
   }
  },
  {
   "cell_type": "code",
   "execution_count": 8,
   "outputs": [],
   "source": [
    "cursor.execute(precios_oferta)\n",
    "df_precios_oferta = cursor.fetch_pandas_all()\n",
    "\n",
    "df_precios_oferta['FIN'] = df_precios_oferta['FIN'].astype(str)\n",
    "df_precios_oferta['INICIO'] = df_precios_oferta['INICIO'].astype(str)\n",
    "df_precios_oferta['FECHA_ACTUALIZACION'] = datetime.today().strftime('%Y-%m-%d')"
   ],
   "metadata": {
    "collapsed": false
   }
  },
  {
   "cell_type": "markdown",
   "source": [
    "# 2. Precios Stock Mediano dia de ayer"
   ],
   "metadata": {
    "collapsed": false
   }
  },
  {
   "cell_type": "code",
   "execution_count": 9,
   "outputs": [],
   "source": [
    "cursor.execute(precios_stock_mediano)\n",
    "df_precios_stock_mediano = cursor.fetch_pandas_all()\n",
    "df_precios_stock_mediano['FECHA_ACTUALIZACION'] = datetime.today().strftime('%Y-%m-%d')"
   ],
   "metadata": {
    "collapsed": false
   }
  },
  {
   "cell_type": "markdown",
   "source": [
    "# 3. OPT"
   ],
   "metadata": {
    "collapsed": false
   }
  },
  {
   "cell_type": "code",
   "execution_count": 10,
   "outputs": [],
   "source": [
    "cursor.execute(opt)\n",
    "df_opt = cursor.fetch_pandas_all()\n",
    "df_opt['FECHA_ACTUALIZACION'] = datetime.today().strftime('%Y-%m-%d')"
   ],
   "metadata": {
    "collapsed": false
   }
  },
  {
   "cell_type": "markdown",
   "source": [
    "# 4. Locales Activos Ayer"
   ],
   "metadata": {
    "collapsed": false
   }
  },
  {
   "cell_type": "code",
   "execution_count": 11,
   "outputs": [],
   "source": [
    "cursor.execute(locales_activos_ayer)\n",
    "df_locales_activos_ayer = cursor.fetch_pandas_all()\n",
    "df_locales_activos_ayer['FECHA_ACTUALIZACION'] = datetime.today().strftime('%Y-%m-%d')"
   ],
   "metadata": {
    "collapsed": false
   }
  },
  {
   "cell_type": "markdown",
   "source": [
    "# 5. Days on Hand"
   ],
   "metadata": {
    "collapsed": false
   }
  },
  {
   "cell_type": "markdown",
   "source": [
    "## Parte A - Articulos"
   ],
   "metadata": {
    "collapsed": false
   }
  },
  {
   "cell_type": "code",
   "execution_count": 12,
   "outputs": [],
   "source": [
    "cursor.execute(days_on_hand_articulo)\n",
    "df_days_on_hand_articulo = cursor.fetch_pandas_all()\n",
    "\n",
    "df_days_on_hand_articulo = df_days_on_hand_articulo[df_days_on_hand_articulo['UNIDADES'] != 0]\n",
    "df_days_on_hand_articulo['DAYS ON HAND'] = df_days_on_hand_articulo['UNIDADES'] / df_days_on_hand_articulo['UNIDADES_VENDIDAS']\n",
    "df_days_on_hand_articulo['DAYS ON HAND'][(df_days_on_hand_articulo['UNIDADES'] == 0) & (df_days_on_hand_articulo['UNIDADES_VENDIDAS'] == 0)] = 0\n",
    "df_days_on_hand_articulo['DAYS ON HAND'][df_days_on_hand_articulo['DAYS ON HAND'] == np.inf] = 999999\n",
    "df_days_on_hand_articulo['DAYS ON HAND'][df_days_on_hand_articulo['DAYS ON HAND'] == -np.inf] = -999999\n",
    "df_days_on_hand_articulo['DAYS ON HAND'][df_days_on_hand_articulo['DAYS ON HAND'] > 999999] = 999999\n",
    "df_days_on_hand_articulo['DAYS ON HAND'][df_days_on_hand_articulo['DAYS ON HAND'] < -999999] = -999999\n",
    "df_days_on_hand_articulo['DAYS ON HAND'].fillna(999999, inplace=True)\n",
    "df_days_on_hand_articulo['DAYS ON HAND'] = round(df_days_on_hand_articulo['DAYS ON HAND'], 0).astype(int)\n",
    "df_days_on_hand_articulo['UNIDADES'] = round(df_days_on_hand_articulo['UNIDADES'], 0).astype(int)\n",
    "df_days_on_hand_articulo['UNIDADES_VENDIDAS'] = round(df_days_on_hand_articulo['UNIDADES_VENDIDAS'], 0).astype(int)\n",
    "df_days_on_hand_articulo.rename({'UNIDADES_VENDIDAS':'UNIDADES VENDIDAS'}, axis = 1, inplace = True)\n",
    "df_days_on_hand_articulo = df_days_on_hand_articulo[['SUBCLASE', 'ORIN', 'UNIDADES', 'UNIDADES VENDIDAS', 'DAYS ON HAND']]\n",
    "\n",
    "df_days_on_hand_articulo.rename({'DAYS ON HAND':'DAYS ON HAND ARTICULO'}, axis = 1, inplace = True)"
   ],
   "metadata": {
    "collapsed": false
   }
  },
  {
   "cell_type": "markdown",
   "source": [
    "## Parte B - Subclases"
   ],
   "metadata": {
    "collapsed": false
   }
  },
  {
   "cell_type": "code",
   "execution_count": 13,
   "outputs": [],
   "source": [
    "cursor.execute(days_on_hand_subclase)\n",
    "df_days_on_hand_subclase = cursor.fetch_pandas_all()\n",
    "\n",
    "df_days_on_hand_subclase = df_days_on_hand_subclase[df_days_on_hand_subclase['UNIDADES'] != 0]\n",
    "df_days_on_hand_subclase['DAYS ON HAND'] = df_days_on_hand_subclase['UNIDADES'] / df_days_on_hand_subclase['UNIDADES_VENDIDAS']\n",
    "df_days_on_hand_subclase['DAYS ON HAND'][(df_days_on_hand_subclase['UNIDADES'] == 0) & (df_days_on_hand_subclase['UNIDADES_VENDIDAS'] == 0)] = 0\n",
    "df_days_on_hand_subclase['DAYS ON HAND'][df_days_on_hand_subclase['DAYS ON HAND'] == np.inf] = 999999\n",
    "df_days_on_hand_subclase['DAYS ON HAND'][df_days_on_hand_subclase['DAYS ON HAND'] == -np.inf] = -999999\n",
    "df_days_on_hand_subclase['DAYS ON HAND'][df_days_on_hand_subclase['DAYS ON HAND'] > 999999] = 999999\n",
    "df_days_on_hand_subclase['DAYS ON HAND'][df_days_on_hand_subclase['DAYS ON HAND'] < -999999] = -999999\n",
    "df_days_on_hand_subclase['DAYS ON HAND'].fillna(999999, inplace=True)\n",
    "df_days_on_hand_subclase['DAYS ON HAND'] = round(df_days_on_hand_subclase['DAYS ON HAND'], 0).astype(int)\n",
    "df_days_on_hand_subclase['UNIDADES'] = round(df_days_on_hand_subclase['UNIDADES'], 0).astype(int)\n",
    "df_days_on_hand_subclase['UNIDADES_VENDIDAS'] = round(df_days_on_hand_subclase['UNIDADES_VENDIDAS'], 0).astype(int)\n",
    "df_days_on_hand_subclase.rename({'UNIDADES_VENDIDAS':'UNIDADES VENDIDAS'}, axis = 1, inplace = True)\n",
    "df_days_on_hand_subclase = df_days_on_hand_subclase[['SUBCLASE', 'UNIDADES', 'UNIDADES VENDIDAS', 'DAYS ON HAND']]\n",
    "\n",
    "df_days_on_hand_subclase.rename({'DAYS ON HAND':'DAYS ON HAND SUBCLASE'}, axis = 1, inplace = True)\n",
    "\n",
    "    # Parte C - Consolido en Articulos\n",
    "\n",
    "df_days_on_hand_articulo = df_days_on_hand_articulo.merge(df_days_on_hand_subclase[['SUBCLASE', 'DAYS ON HAND SUBCLASE']], on = 'SUBCLASE', how = 'left')\n",
    "df_days_on_hand_articulo['FECHA_ACTUALIZACION'] = datetime.today().strftime('%Y-%m-%d')"
   ],
   "metadata": {
    "collapsed": false
   }
  },
  {
   "cell_type": "markdown",
   "source": [
    "# Corremos main"
   ],
   "metadata": {
    "collapsed": false
   }
  },
  {
   "cell_type": "code",
   "execution_count": 24,
   "outputs": [
    {
     "name": "stdout",
     "output_type": "stream",
     "text": [
      "df_precios_oferta Precios Oferta\n",
      "df_precios_stock_mediano Precios Stock Mediano\n",
      "df_opt OPT\n",
      "df_locales_activos_ayer Locales Activos Ayer\n",
      "df_days_on_hand_articulo Days on Hand - Articulos\n",
      "Lineas df_precios_oferta --> 7860\n",
      "\n",
      "listo\n"
     ]
    }
   ],
   "source": [
    "credentials = get_credentials()\n",
    "\n",
    "# Debido a que siempre mantenemos la misma spreadsheet, su id no cambia\n",
    "\n",
    "# Create a Google Sheets API service --> esto se usa en caso de usar la funcion 2\n",
    "service = build('sheets', 'v4', credentials=credentials)\n",
    "\n",
    "# Create sheets and insert the DataFrames\n",
    "\n",
    "dataframes_dict = {\n",
    "    'df_precios_oferta': 'Precios Oferta',\n",
    "    'df_precios_stock_mediano': 'Precios Stock Mediano',\n",
    "    'df_opt': 'OPT',\n",
    "    'df_locales_activos_ayer': 'Locales Activos Ayer',\n",
    "    'df_days_on_hand_articulo': 'Days on Hand - Articulos'\n",
    "}\n",
    "\n",
    "for df_name, sheet_name in dataframes_dict.items():\n",
    "\n",
    "    # Elimino la primera sheet\n",
    "    delete_first_sheet(spreadsheet_id, credentials)\n",
    "\n",
    "    df = globals()[df_name]  # Retrieve the dataframe using its name\n",
    "    print(df_name, sheet_name)\n",
    "\n",
    "    # Inserto la DataFrame en una nueva sheet, que ocupa la ultima posicion\n",
    "    insert_dataframe_into_sheet(df.head(), spreadsheet_id, credentials, sheet_name)\n",
    "\n",
    "\n",
    "print(f\"Lineas df_precios_oferta --> {df_precios_oferta.shape[0]}\")\n",
    "print('')\n",
    "print('listo')"
   ],
   "metadata": {
    "collapsed": false
   }
  },
  {
   "cell_type": "markdown",
   "source": [
    "# Fin"
   ],
   "metadata": {
    "collapsed": false
   },
   "execution_count": 1
  }
 ],
 "metadata": {
  "colab": {
   "collapsed_sections": [],
   "provenance": []
  },
  "kernelspec": {
   "display_name": "Python 3.9.12 ('env')",
   "language": "python",
   "name": "python3"
  },
  "language_info": {
   "codemirror_mode": {
    "name": "ipython",
    "version": 3
   },
   "file_extension": ".py",
   "mimetype": "text/x-python",
   "name": "python",
   "nbconvert_exporter": "python",
   "pygments_lexer": "ipython3",
   "version": "3.9.12"
  },
  "orig_nbformat": 4,
  "vscode": {
   "interpreter": {
    "hash": "1c19c5efd8f4b93ccbd4006c6f9f93fa19f57b77bfb4a2e5dfb55a2b8dd9ae6c"
   }
  }
 },
 "nbformat": 4,
 "nbformat_minor": 0
}
