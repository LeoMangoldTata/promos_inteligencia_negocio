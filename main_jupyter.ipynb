{
 "cells": [
  {
   "cell_type": "markdown",
   "source": [
    "# Importamos librerias"
   ],
   "metadata": {
    "collapsed": false
   }
  },
  {
   "cell_type": "code",
   "execution_count": 45,
   "metadata": {
    "id": "tKk581G_hMT0"
   },
   "outputs": [],
   "source": [
    "import pandas as pd\n",
    "import snowflake.connector\n",
    "import json\n",
    "from querys import *\n",
    "from functions import *\n",
    "from datetime import datetime\n",
    "pd.options.mode.chained_assignment = None"
   ]
  },
  {
   "cell_type": "markdown",
   "source": [
    "# SCOPES"
   ],
   "metadata": {
    "collapsed": false
   }
  },
  {
   "cell_type": "code",
   "execution_count": 37,
   "outputs": [],
   "source": [
    "SCOPES = [\"https://www.googleapis.com/auth/spreadsheets\", \"https://www.googleapis.com/auth/drive.file\", \"https://www.googleapis.com/auth/drive\"]\n",
    "DELETE_SCOPES = ['https://www.googleapis.com/auth/drive.file']"
   ],
   "metadata": {
    "collapsed": false
   }
  },
  {
   "cell_type": "markdown",
   "source": [
    "# Folder ID"
   ],
   "metadata": {
    "collapsed": false
   }
  },
  {
   "cell_type": "code",
   "execution_count": 48,
   "outputs": [
    {
     "data": {
      "text/plain": "'11yV-IyMUXCjQRvXBiDNYIEg_pDc6HglL'"
     },
     "execution_count": 48,
     "metadata": {},
     "output_type": "execute_result"
    }
   ],
   "source": [
    "# Ya sea que el codigo se ejecute desde mi pc o desde la VM, el folder ID sera siempre el mismo\n",
    "# ya que siempre guardaremos los spreadsheets en la misma carpeta\n",
    "\n",
    "FOLDER_ID = '11yV-IyMUXCjQRvXBiDNYIEg_pDc6HglL' # Mi Unidad / Promos\n",
    "#FOLDER_ID = '1pMhtpNJCi_sJ4xxXmRFC4YkIrzOYtZX1' # Mi Unidad / Otros\n",
    "\n",
    "# if os.getcwd() == 'C:\\\\Users\\\\leonardo.mangold\\\\PycharmProjects\\\\promos_inteligencia_negocio':\n",
    "#     FOLDER_ID = '1VCclV4q67yME8f0Guy2jKD5HeAQLgkUz'\n",
    "# else:\n",
    "#     FOLDER_ID = '1js40bDjRG7XcxeDUGoWYy4wBbsDPjwMu'\n",
    "\n",
    "\n",
    "# Drive Leo 11yV-IyMUXCjQRvXBiDNYIEg_pDc6HglL\n",
    "# Drive Unidad Compartida Inteligencia de Negocio 1VCclV4q67yME8f0Guy2jKD5HeAQLgkUz\n",
    "\n",
    "FOLDER_ID"
   ],
   "metadata": {
    "collapsed": false
   }
  },
  {
   "cell_type": "markdown",
   "source": [
    "# Spreadsheet ID"
   ],
   "metadata": {
    "collapsed": false
   }
  },
  {
   "cell_type": "code",
   "execution_count": 53,
   "outputs": [
    {
     "data": {
      "text/plain": "'1FkdwD5G7c0EOAzFaUAYmDsCAi8jzcZcO'"
     },
     "execution_count": 53,
     "metadata": {},
     "output_type": "execute_result"
    }
   ],
   "source": [
    "# Mi Unidad / Otros\n",
    "\n",
    "url = 'https://docs.google.com/spreadsheets/u/1/d/1FkdwD5G7c0EOAzFaUAYmDsCAi8jzcZcO/edit?usp=drive_web&ouid=113624480832701744876&rtpof=true'\n",
    "\n",
    "# Mi Unidad / Promos\n",
    "\n",
    "# url = 'https://docs.google.com/spreadsheets/d/1w5oGifgavq1GodX3z9t9UF8ALeOl6NzMWiu_4xPG8FE/edit'\n",
    "\n",
    "# Extracting spreadsheet ID\n",
    "\n",
    "spreadsheet_id = url.split('/')[-2]\n",
    "\n",
    "spreadsheet_id"
   ],
   "metadata": {
    "collapsed": false
   }
  },
  {
   "cell_type": "code",
   "execution_count": 57,
   "outputs": [
    {
     "ename": "APIError",
     "evalue": "{'code': 400, 'message': 'This operation is not supported for this document', 'status': 'FAILED_PRECONDITION'}",
     "output_type": "error",
     "traceback": [
      "\u001B[1;31m---------------------------------------------------------------------------\u001B[0m",
      "\u001B[1;31mAPIError\u001B[0m                                  Traceback (most recent call last)",
      "Input \u001B[1;32mIn [57]\u001B[0m, in \u001B[0;36m<cell line: 7>\u001B[1;34m()\u001B[0m\n\u001B[0;32m      4\u001B[0m gc \u001B[38;5;241m=\u001B[39m gspread\u001B[38;5;241m.\u001B[39mauthorize(credentials)\n\u001B[0;32m      6\u001B[0m \u001B[38;5;66;03m# Open the spreadsheet by its ID\u001B[39;00m\n\u001B[1;32m----> 7\u001B[0m spreadsheet \u001B[38;5;241m=\u001B[39m \u001B[43mgc\u001B[49m\u001B[38;5;241;43m.\u001B[39;49m\u001B[43mopen_by_key\u001B[49m\u001B[43m(\u001B[49m\u001B[43mspreadsheet_id\u001B[49m\u001B[43m)\u001B[49m\n",
      "File \u001B[1;32m~\\Desktop\\Tareas\\Analisis\\!Python\\env\\lib\\site-packages\\gspread\\client.py:212\u001B[0m, in \u001B[0;36mClient.open_by_key\u001B[1;34m(self, key)\u001B[0m\n\u001B[0;32m    210\u001B[0m     \u001B[38;5;28;01mif\u001B[39;00m ex\u001B[38;5;241m.\u001B[39mresponse\u001B[38;5;241m.\u001B[39mstatus_code \u001B[38;5;241m==\u001B[39m HTTPStatus\u001B[38;5;241m.\u001B[39mFORBIDDEN:\n\u001B[0;32m    211\u001B[0m         \u001B[38;5;28;01mraise\u001B[39;00m \u001B[38;5;167;01mPermissionError\u001B[39;00m \u001B[38;5;28;01mfrom\u001B[39;00m \u001B[38;5;21;01mex\u001B[39;00m\n\u001B[1;32m--> 212\u001B[0m     \u001B[38;5;28;01mraise\u001B[39;00m ex\n\u001B[0;32m    213\u001B[0m \u001B[38;5;28;01mreturn\u001B[39;00m spreadsheet\n",
      "File \u001B[1;32m~\\Desktop\\Tareas\\Analisis\\!Python\\env\\lib\\site-packages\\gspread\\client.py:206\u001B[0m, in \u001B[0;36mClient.open_by_key\u001B[1;34m(self, key)\u001B[0m\n\u001B[0;32m    198\u001B[0m \u001B[38;5;124;03m\"\"\"Opens a spreadsheet specified by `key` (a.k.a Spreadsheet ID).\u001B[39;00m\n\u001B[0;32m    199\u001B[0m \n\u001B[0;32m    200\u001B[0m \u001B[38;5;124;03m:param str key: A key of a spreadsheet as it appears in a URL in a browser.\u001B[39;00m\n\u001B[1;32m   (...)\u001B[0m\n\u001B[0;32m    203\u001B[0m \u001B[38;5;124;03m>>> gc.open_by_key('0BmgG6nO_6dprdS1MN3d3MkdPa142WFRrdnRRUWl1UFE')\u001B[39;00m\n\u001B[0;32m    204\u001B[0m \u001B[38;5;124;03m\"\"\"\u001B[39;00m\n\u001B[0;32m    205\u001B[0m \u001B[38;5;28;01mtry\u001B[39;00m:\n\u001B[1;32m--> 206\u001B[0m     spreadsheet \u001B[38;5;241m=\u001B[39m \u001B[43mSpreadsheet\u001B[49m\u001B[43m(\u001B[49m\u001B[38;5;28;43mself\u001B[39;49m\u001B[43m,\u001B[49m\u001B[43m \u001B[49m\u001B[43m{\u001B[49m\u001B[38;5;124;43m\"\u001B[39;49m\u001B[38;5;124;43mid\u001B[39;49m\u001B[38;5;124;43m\"\u001B[39;49m\u001B[43m:\u001B[49m\u001B[43m \u001B[49m\u001B[43mkey\u001B[49m\u001B[43m}\u001B[49m\u001B[43m)\u001B[49m\n\u001B[0;32m    207\u001B[0m \u001B[38;5;28;01mexcept\u001B[39;00m APIError \u001B[38;5;28;01mas\u001B[39;00m ex:\n\u001B[0;32m    208\u001B[0m     \u001B[38;5;28;01mif\u001B[39;00m ex\u001B[38;5;241m.\u001B[39mresponse\u001B[38;5;241m.\u001B[39mstatus_code \u001B[38;5;241m==\u001B[39m HTTPStatus\u001B[38;5;241m.\u001B[39mNOT_FOUND:\n",
      "File \u001B[1;32m~\\Desktop\\Tareas\\Analisis\\!Python\\env\\lib\\site-packages\\gspread\\spreadsheet.py:37\u001B[0m, in \u001B[0;36mSpreadsheet.__init__\u001B[1;34m(self, client, properties)\u001B[0m\n\u001B[0;32m     34\u001B[0m \u001B[38;5;28mself\u001B[39m\u001B[38;5;241m.\u001B[39mclient \u001B[38;5;241m=\u001B[39m client\n\u001B[0;32m     35\u001B[0m \u001B[38;5;28mself\u001B[39m\u001B[38;5;241m.\u001B[39m_properties \u001B[38;5;241m=\u001B[39m properties\n\u001B[1;32m---> 37\u001B[0m metadata \u001B[38;5;241m=\u001B[39m \u001B[38;5;28;43mself\u001B[39;49m\u001B[38;5;241;43m.\u001B[39;49m\u001B[43mfetch_sheet_metadata\u001B[49m\u001B[43m(\u001B[49m\u001B[43m)\u001B[49m\n\u001B[0;32m     38\u001B[0m \u001B[38;5;28mself\u001B[39m\u001B[38;5;241m.\u001B[39m_properties\u001B[38;5;241m.\u001B[39mupdate(metadata[\u001B[38;5;124m\"\u001B[39m\u001B[38;5;124mproperties\u001B[39m\u001B[38;5;124m\"\u001B[39m])\n",
      "File \u001B[1;32m~\\Desktop\\Tareas\\Analisis\\!Python\\env\\lib\\site-packages\\gspread\\spreadsheet.py:245\u001B[0m, in \u001B[0;36mSpreadsheet.fetch_sheet_metadata\u001B[1;34m(self, params)\u001B[0m\n\u001B[0;32m    241\u001B[0m     params \u001B[38;5;241m=\u001B[39m {\u001B[38;5;124m\"\u001B[39m\u001B[38;5;124mincludeGridData\u001B[39m\u001B[38;5;124m\"\u001B[39m: \u001B[38;5;124m\"\u001B[39m\u001B[38;5;124mfalse\u001B[39m\u001B[38;5;124m\"\u001B[39m}\n\u001B[0;32m    243\u001B[0m url \u001B[38;5;241m=\u001B[39m SPREADSHEET_URL \u001B[38;5;241m%\u001B[39m \u001B[38;5;28mself\u001B[39m\u001B[38;5;241m.\u001B[39mid\n\u001B[1;32m--> 245\u001B[0m r \u001B[38;5;241m=\u001B[39m \u001B[38;5;28;43mself\u001B[39;49m\u001B[38;5;241;43m.\u001B[39;49m\u001B[43mclient\u001B[49m\u001B[38;5;241;43m.\u001B[39;49m\u001B[43mrequest\u001B[49m\u001B[43m(\u001B[49m\u001B[38;5;124;43m\"\u001B[39;49m\u001B[38;5;124;43mget\u001B[39;49m\u001B[38;5;124;43m\"\u001B[39;49m\u001B[43m,\u001B[49m\u001B[43m \u001B[49m\u001B[43murl\u001B[49m\u001B[43m,\u001B[49m\u001B[43m \u001B[49m\u001B[43mparams\u001B[49m\u001B[38;5;241;43m=\u001B[39;49m\u001B[43mparams\u001B[49m\u001B[43m)\u001B[49m\n\u001B[0;32m    247\u001B[0m \u001B[38;5;28;01mreturn\u001B[39;00m r\u001B[38;5;241m.\u001B[39mjson()\n",
      "File \u001B[1;32m~\\Desktop\\Tareas\\Analisis\\!Python\\env\\lib\\site-packages\\gspread\\client.py:93\u001B[0m, in \u001B[0;36mClient.request\u001B[1;34m(self, method, endpoint, params, data, json, files, headers)\u001B[0m\n\u001B[0;32m     91\u001B[0m     \u001B[38;5;28;01mreturn\u001B[39;00m response\n\u001B[0;32m     92\u001B[0m \u001B[38;5;28;01melse\u001B[39;00m:\n\u001B[1;32m---> 93\u001B[0m     \u001B[38;5;28;01mraise\u001B[39;00m APIError(response)\n",
      "\u001B[1;31mAPIError\u001B[0m: {'code': 400, 'message': 'This operation is not supported for this document', 'status': 'FAILED_PRECONDITION'}"
     ]
    }
   ],
   "source": [
    "credentials = get_credentials()\n",
    "\n",
    "# Authenticate with Google Sheets API using service account credentials\n",
    "gc = gspread.authorize(credentials)\n",
    "\n",
    "# Open the spreadsheet by its ID\n",
    "spreadsheet = gc.open_by_key(spreadsheet_id)"
   ],
   "metadata": {
    "collapsed": false
   }
  },
  {
   "cell_type": "code",
   "execution_count": 58,
   "outputs": [
    {
     "data": {
      "text/plain": "<Spreadsheet 'Promos' id:1w5oGifgavq1GodX3z9t9UF8ALeOl6NzMWiu_4xPG8FE>"
     },
     "execution_count": 58,
     "metadata": {},
     "output_type": "execute_result"
    }
   ],
   "source": [
    "spreadsheet"
   ],
   "metadata": {
    "collapsed": false
   }
  },
  {
   "cell_type": "markdown",
   "source": [
    "# Conexion Snowflake"
   ],
   "metadata": {
    "collapsed": false
   }
  },
  {
   "cell_type": "code",
   "execution_count": 20,
   "metadata": {
    "colab": {
     "base_uri": "https://localhost:8080/"
    },
    "id": "ChvQTwl1D-Ls",
    "outputId": "351b443f-8ebf-4a34-f7ba-93fb012f5082"
   },
   "outputs": [
    {
     "name": "stdout",
     "output_type": "stream",
     "text": [
      "Connected\n"
     ]
    }
   ],
   "source": [
    "# Conexion Snowflake desde compu personal\n",
    "\n",
    "if os.getcwd() == 'C:\\\\Users\\\\leonardo.mangold\\\\PycharmProjects\\\\promos_inteligencia_negocio':\n",
    "\n",
    "\twhile True:\n",
    "\t    try:\n",
    "\n",
    "\t        f = open('credentials.json')\n",
    "\t        data_pass = json.load(f)\n",
    "\n",
    "\t        pass_ = input(\"INGRESAR PASSCODE:\")\n",
    "\n",
    "\t        ctx = snowflake.connector.connect(\n",
    "\t            user = data_pass['snow']['USER'],\n",
    "\t            password = data_pass['snow']['PASS'],\n",
    "\t            account = data_pass['snow']['ACCOUNT'],\n",
    "\t            passcode = pass_,\n",
    "\t            database = 'SANDBOX_PLUS',\n",
    "\t            schema = 'DWH'\n",
    "\t        )\n",
    "\n",
    "\t        cursor = ctx.cursor()\n",
    "\n",
    "\t        print('Connected')\n",
    "\n",
    "\t        break\n",
    "\n",
    "\t    except:\n",
    "\t        print('Incorrect Password - provide again')\n",
    "\n",
    "# Conexion VM a Snowflake\n",
    "\n",
    "else:\n",
    "\n",
    "    ctx = snowflake.connector.connect(\n",
    "        user=\"PLUS_VM1\",\n",
    "        password=\"Plus22!\",\n",
    "        account=\"XZ23267-dp32414\",\n",
    "        database=\"SANDBOX_PLUS\",\n",
    "        schema=\"DWH\"\n",
    "        )\n",
    "\n",
    "    cursor = ctx.cursor()"
   ]
  },
  {
   "cell_type": "markdown",
   "source": [
    "# Fechas indicadas por Juli para tomar los precios"
   ],
   "metadata": {
    "collapsed": false
   }
  },
  {
   "cell_type": "code",
   "execution_count": 21,
   "outputs": [],
   "source": [
    "url_fechas = 'https://docs.google.com/spreadsheets/d/1JnayuiljvaOebik4gKqNgxSLD6RO2AS8euG7apQykW8/export?format=csv'\n",
    "fechas = pd.read_csv(url_fechas)\n",
    "fechas = fechas[pd.to_datetime(fechas['HASTA']) + pd.Timedelta(days=1) >= datetime.today()]"
   ],
   "metadata": {
    "collapsed": false
   }
  },
  {
   "cell_type": "markdown",
   "source": [
    "# 1. Precios Oferta"
   ],
   "metadata": {
    "collapsed": false
   }
  },
  {
   "cell_type": "code",
   "execution_count": 22,
   "outputs": [],
   "source": [
    "df_precios_oferta = pd.DataFrame()\n",
    "for i in range(len(fechas)):\n",
    "    desde = fechas.iloc[i]['DESDE']\n",
    "    hasta = fechas.iloc[i]['HASTA']\n",
    "    oferta = fechas.iloc[i]['OFERTA']\n",
    "\n",
    "    cursor.execute(precios_oferta.format(desde_snow = desde))\n",
    "    df_aux = cursor.fetch_pandas_all()\n",
    "    df_aux['PRECIO DESDE'] = desde\n",
    "    df_aux['PRECIO HASTA'] = hasta\n",
    "    df_aux['NOMBRE_PROMO'] = oferta\n",
    "    df_precios_oferta = pd.concat([df_precios_oferta, df_aux])\n",
    "\n",
    "df_precios_oferta = df_precios_oferta[['TIPO_OFERTA_ID', 'TIPO_OFERTA_DESC', 'INICIO', 'FIN', 'NOMBRE_PROMO', 'PRECIO DESDE', 'PRECIO HASTA', 'ORIN', 'ESTADISTICO', 'PROM_PVP_OFERTA']]\n",
    "\n",
    "df_precios_oferta['FIN'] = pd.to_datetime(df_precios_oferta['FIN'])\n",
    "\n",
    "df_precios_oferta.sort_values(by = ['PRECIO HASTA', 'NOMBRE_PROMO', 'FIN'], ascending = [False, True, False], inplace = True)\n",
    "df_precios_oferta['FIN'] = df_precios_oferta['FIN'].astype(str)\n",
    "df_precios_oferta['INICIO'] = df_precios_oferta['INICIO'].astype(str)\n",
    "df_precios_oferta['FECHA_ACTUALIZACION'] = datetime.today().strftime('%Y-%m-%d')"
   ],
   "metadata": {
    "collapsed": false
   }
  },
  {
   "cell_type": "markdown",
   "source": [
    "# 2. Precios Stock Mediano dia de ayer"
   ],
   "metadata": {
    "collapsed": false
   }
  },
  {
   "cell_type": "code",
   "execution_count": 23,
   "outputs": [],
   "source": [
    "cursor.execute(precios_stock_mediano)\n",
    "df_precios_stock_mediano = cursor.fetch_pandas_all()\n",
    "df_precios_stock_mediano['FECHA_ACTUALIZACION'] = datetime.today().strftime('%Y-%m-%d')"
   ],
   "metadata": {
    "collapsed": false
   }
  },
  {
   "cell_type": "markdown",
   "source": [
    "# 3. OPT"
   ],
   "metadata": {
    "collapsed": false
   }
  },
  {
   "cell_type": "code",
   "execution_count": 24,
   "outputs": [],
   "source": [
    "cursor.execute(opt)\n",
    "df_opt = cursor.fetch_pandas_all()\n",
    "df_opt['FECHA_ACTUALIZACION'] = datetime.today().strftime('%Y-%m-%d')"
   ],
   "metadata": {
    "collapsed": false
   }
  },
  {
   "cell_type": "markdown",
   "source": [
    "# 4. Locales Activos Ayer"
   ],
   "metadata": {
    "collapsed": false
   }
  },
  {
   "cell_type": "code",
   "execution_count": 25,
   "outputs": [],
   "source": [
    "cursor.execute(locales_activos_ayer)\n",
    "df_locales_activos_ayer = cursor.fetch_pandas_all()\n",
    "df_locales_activos_ayer['FECHA_ACTUALIZACION'] = datetime.today().strftime('%Y-%m-%d')"
   ],
   "metadata": {
    "collapsed": false
   }
  },
  {
   "cell_type": "markdown",
   "source": [
    "# 5. Days on Hand"
   ],
   "metadata": {
    "collapsed": false
   }
  },
  {
   "cell_type": "markdown",
   "source": [
    "## Parte A - Articulos"
   ],
   "metadata": {
    "collapsed": false
   }
  },
  {
   "cell_type": "code",
   "execution_count": 46,
   "outputs": [],
   "source": [
    "cursor.execute(days_on_hand_articulo)\n",
    "df_days_on_hand_articulo = cursor.fetch_pandas_all()\n",
    "\n",
    "df_days_on_hand_articulo = df_days_on_hand_articulo[df_days_on_hand_articulo['UNIDADES'] != 0]\n",
    "df_days_on_hand_articulo['DAYS ON HAND'] = df_days_on_hand_articulo['UNIDADES'] / df_days_on_hand_articulo['UNIDADES_VENDIDAS']\n",
    "df_days_on_hand_articulo['DAYS ON HAND'][(df_days_on_hand_articulo['UNIDADES'] == 0) & (df_days_on_hand_articulo['UNIDADES_VENDIDAS'] == 0)] = 0\n",
    "df_days_on_hand_articulo['DAYS ON HAND'][df_days_on_hand_articulo['DAYS ON HAND'] == np.inf] = 999999\n",
    "df_days_on_hand_articulo['DAYS ON HAND'][df_days_on_hand_articulo['DAYS ON HAND'] == -np.inf] = -999999\n",
    "df_days_on_hand_articulo['DAYS ON HAND'][df_days_on_hand_articulo['DAYS ON HAND'] > 999999] = 999999\n",
    "df_days_on_hand_articulo['DAYS ON HAND'][df_days_on_hand_articulo['DAYS ON HAND'] < -999999] = -999999\n",
    "df_days_on_hand_articulo['DAYS ON HAND'].fillna(999999, inplace=True)\n",
    "df_days_on_hand_articulo['DAYS ON HAND'] = round(df_days_on_hand_articulo['DAYS ON HAND'], 0).astype(int)\n",
    "df_days_on_hand_articulo['UNIDADES'] = round(df_days_on_hand_articulo['UNIDADES'], 0).astype(int)\n",
    "df_days_on_hand_articulo['UNIDADES_VENDIDAS'] = round(df_days_on_hand_articulo['UNIDADES_VENDIDAS'], 0).astype(int)\n",
    "df_days_on_hand_articulo.rename({'UNIDADES_VENDIDAS':'UNIDADES VENDIDAS'}, axis = 1, inplace = True)\n",
    "df_days_on_hand_articulo = df_days_on_hand_articulo[['SUBCLASE', 'ORIN', 'UNIDADES', 'UNIDADES VENDIDAS', 'DAYS ON HAND']]\n",
    "\n",
    "df_days_on_hand_articulo.rename({'DAYS ON HAND':'DAYS ON HAND ARTICULO'}, axis = 1, inplace = True)"
   ],
   "metadata": {
    "collapsed": false
   }
  },
  {
   "cell_type": "markdown",
   "source": [
    "## Parte B - Subclases"
   ],
   "metadata": {
    "collapsed": false
   }
  },
  {
   "cell_type": "code",
   "execution_count": 47,
   "outputs": [],
   "source": [
    "cursor.execute(days_on_hand_subclase)\n",
    "df_days_on_hand_subclase = cursor.fetch_pandas_all()\n",
    "\n",
    "df_days_on_hand_subclase = df_days_on_hand_subclase[df_days_on_hand_subclase['UNIDADES'] != 0]\n",
    "df_days_on_hand_subclase['DAYS ON HAND'] = df_days_on_hand_subclase['UNIDADES'] / df_days_on_hand_subclase['UNIDADES_VENDIDAS']\n",
    "df_days_on_hand_subclase['DAYS ON HAND'][(df_days_on_hand_subclase['UNIDADES'] == 0) & (df_days_on_hand_subclase['UNIDADES_VENDIDAS'] == 0)] = 0\n",
    "df_days_on_hand_subclase['DAYS ON HAND'][df_days_on_hand_subclase['DAYS ON HAND'] == np.inf] = 999999\n",
    "df_days_on_hand_subclase['DAYS ON HAND'][df_days_on_hand_subclase['DAYS ON HAND'] == -np.inf] = -999999\n",
    "df_days_on_hand_subclase['DAYS ON HAND'][df_days_on_hand_subclase['DAYS ON HAND'] > 999999] = 999999\n",
    "df_days_on_hand_subclase['DAYS ON HAND'][df_days_on_hand_subclase['DAYS ON HAND'] < -999999] = -999999\n",
    "df_days_on_hand_subclase['DAYS ON HAND'].fillna(999999, inplace=True)\n",
    "df_days_on_hand_subclase['DAYS ON HAND'] = round(df_days_on_hand_subclase['DAYS ON HAND'], 0).astype(int)\n",
    "df_days_on_hand_subclase['UNIDADES'] = round(df_days_on_hand_subclase['UNIDADES'], 0).astype(int)\n",
    "df_days_on_hand_subclase['UNIDADES_VENDIDAS'] = round(df_days_on_hand_subclase['UNIDADES_VENDIDAS'], 0).astype(int)\n",
    "df_days_on_hand_subclase.rename({'UNIDADES_VENDIDAS':'UNIDADES VENDIDAS'}, axis = 1, inplace = True)\n",
    "df_days_on_hand_subclase = df_days_on_hand_subclase[['SUBCLASE', 'UNIDADES', 'UNIDADES VENDIDAS', 'DAYS ON HAND']]\n",
    "\n",
    "df_days_on_hand_subclase.rename({'DAYS ON HAND':'DAYS ON HAND SUBCLASE'}, axis = 1, inplace = True)\n",
    "\n",
    "    # Parte C - Consolido en Articulos\n",
    "\n",
    "df_days_on_hand_articulo = df_days_on_hand_articulo.merge(df_days_on_hand_subclase[['SUBCLASE', 'DAYS ON HAND SUBCLASE']], on = 'SUBCLASE', how = 'left')\n",
    "df_days_on_hand_articulo['FECHA_ACTUALIZACION'] = datetime.today().strftime('%Y-%m-%d')"
   ],
   "metadata": {
    "collapsed": false
   }
  },
  {
   "cell_type": "markdown",
   "source": [
    "# Corremos main"
   ],
   "metadata": {
    "collapsed": false
   }
  },
  {
   "cell_type": "code",
   "execution_count": 50,
   "outputs": [
    {
     "name": "stdout",
     "output_type": "stream",
     "text": [
      "df_precios_oferta Precios Oferta\n",
      "df_precios_stock_mediano Precios Stock Mediano\n",
      "df_opt OPT\n",
      "df_locales_activos_ayer Locales Activos Ayer\n",
      "df_days_on_hand_articulo Days on Hand - Articulos\n",
      "Lineas df_precios_oferta --> 14029\n"
     ]
    }
   ],
   "source": [
    "credentials = get_credentials()\n",
    "\n",
    "# Debido a que siempre mantenemos la misma spreadsheet, su id no cambia\n",
    "\n",
    "# Create a Google Sheets API service --> esto se usa en caso de usar la funcion 2\n",
    "service = build('sheets', 'v4', credentials=credentials)\n",
    "\n",
    "# Create sheets and insert the DataFrames\n",
    "\n",
    "dataframes_dict = {\n",
    "    'df_precios_oferta': 'Precios Oferta',\n",
    "    'df_precios_stock_mediano': 'Precios Stock Mediano',\n",
    "    'df_opt': 'OPT',\n",
    "    'df_locales_activos_ayer': 'Locales Activos Ayer',\n",
    "    'df_days_on_hand_articulo': 'Days on Hand - Articulos'\n",
    "}\n",
    "\n",
    "for df_name, sheet_name in dataframes_dict.items():\n",
    "\n",
    "    # Elimino la primera sheet\n",
    "    delete_first_sheet(spreadsheet_id, credentials)\n",
    "\n",
    "    df = globals()[df_name]  # Retrieve the dataframe using its name\n",
    "    print(df_name, sheet_name)\n",
    "\n",
    "    # Inserto la DataFrame en una nueva sheet, que ocupa la ultima posicion\n",
    "    insert_dataframe_into_sheet(df, spreadsheet_id, credentials, sheet_name)\n",
    "\n",
    "\n",
    "print(f\"Lineas df_precios_oferta --> {df_precios_oferta.shape[0]}\")"
   ],
   "metadata": {
    "collapsed": false
   }
  },
  {
   "cell_type": "markdown",
   "source": [
    "# Fin"
   ],
   "metadata": {
    "collapsed": false
   },
   "execution_count": 1
  }
 ],
 "metadata": {
  "colab": {
   "collapsed_sections": [],
   "provenance": []
  },
  "kernelspec": {
   "display_name": "Python 3.9.12 ('env')",
   "language": "python",
   "name": "python3"
  },
  "language_info": {
   "codemirror_mode": {
    "name": "ipython",
    "version": 3
   },
   "file_extension": ".py",
   "mimetype": "text/x-python",
   "name": "python",
   "nbconvert_exporter": "python",
   "pygments_lexer": "ipython3",
   "version": "3.9.12"
  },
  "orig_nbformat": 4,
  "vscode": {
   "interpreter": {
    "hash": "1c19c5efd8f4b93ccbd4006c6f9f93fa19f57b77bfb4a2e5dfb55a2b8dd9ae6c"
   }
  }
 },
 "nbformat": 4,
 "nbformat_minor": 0
}
