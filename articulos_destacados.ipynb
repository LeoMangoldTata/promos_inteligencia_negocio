{
 "cells": [
  {
   "cell_type": "markdown",
   "source": [
    "# Importamos librerias"
   ],
   "metadata": {
    "collapsed": false
   }
  },
  {
   "cell_type": "code",
   "execution_count": 1,
   "metadata": {
    "id": "uLY0cajXhEhy"
   },
   "outputs": [],
   "source": [
    "#pip install snowflake-connector-python==2.7.6"
   ]
  },
  {
   "cell_type": "code",
   "execution_count": 1,
   "metadata": {
    "id": "tKk581G_hMT0"
   },
   "outputs": [],
   "source": [
    "import pandas as pd\n",
    "import numpy as np\n",
    "import snowflake.connector\n",
    "import json\n",
    "import os\n",
    "from snowflake.connector.pandas_tools import write_pandas\n",
    "from datetime import datetime\n",
    "from datetime import timedelta\n",
    "from dateutil.relativedelta import relativedelta\n",
    "pd.options.mode.chained_assignment = None"
   ]
  },
  {
   "cell_type": "code",
   "execution_count": 2,
   "metadata": {
    "colab": {
     "base_uri": "https://localhost:8080/"
    },
    "id": "ChvQTwl1D-Ls",
    "outputId": "351b443f-8ebf-4a34-f7ba-93fb012f5082"
   },
   "outputs": [
    {
     "name": "stdout",
     "output_type": "stream",
     "text": [
      "Connected\n"
     ]
    }
   ],
   "source": [
    "while True:\n",
    "    try:\n",
    "\n",
    "        f = open('credentials.json')\n",
    "        data_pass = json.load(f)\n",
    "\n",
    "        pass_ = input(\"INGRESAR PASSCODE:\")\n",
    "\n",
    "        ctx = snowflake.connector.connect(\n",
    "            user = data_pass['snow']['USER'],\n",
    "            password = data_pass['snow']['PASS'],\n",
    "            account = data_pass['snow']['ACCOUNT'],\n",
    "            passcode = pass_,\n",
    "            database = 'SANDBOX_PLUS',\n",
    "            schema = 'DWH'\n",
    "        )\n",
    "\n",
    "        cursor = ctx.cursor()\n",
    "\n",
    "        print('Connected')\n",
    "\n",
    "        break\n",
    "\n",
    "    except:\n",
    "        print('Incorrect Password - provide again')\n",
    "\n",
    "    print('Correct Password - connected to SNOWFLAKE')"
   ]
  },
  {
   "cell_type": "markdown",
   "source": [
    "# Segmentos para Redes"
   ],
   "metadata": {
    "collapsed": false
   }
  },
  {
   "cell_type": "markdown",
   "source": [
    "### Notas"
   ],
   "metadata": {
    "collapsed": false
   }
  },
  {
   "cell_type": "code",
   "execution_count": null,
   "outputs": [],
   "source": [
    "# sumar una hoja al excel que contenga\n",
    "#\n",
    "# subclase\n",
    "# clientes activos tata (clientes que compraron en tata ultimos 3 meses)\n",
    "# clientes activos tata que compran la subclase\n",
    "# clientes activos tata que no compran la subclase y tienen alto score (scoring de bzm)\n",
    "# clientes activos tata que no compran la subclase y tienen alto score (scoring de bzm) | contactables mail\n",
    "# clientes activos tata que no compran la subclase y tienen alto score (scoring de bzm) | contactables celu\n",
    "#\n",
    "# (entender con fede si la contactabilidad la queremos excluyente o no. mencionó algo de enviar x wpp, por lo que capaz solo importa contactabilidad celular)"
   ],
   "metadata": {
    "collapsed": false
   }
  },
  {
   "cell_type": "code",
   "execution_count": null,
   "outputs": [],
   "source": [
    "# 1. clientes que compran el articulo y quiero venderles mas\n",
    "# 2. clientes que no compran el articulo pero si compran articulos de la subclase\n",
    "# 2.2. idem punto 2 pero para score 4 o 5 en la subclase\n",
    "# 3. clientes que no compran y tienen score 5, y hayan comprado en TATA en los ultimos 3 meses\n",
    "# 4. clientes que compran la subclase, pero no compran la marca\n",
    "# 5. clientes que en los ultimos 30 dis NO VENGAN A TATA y que tengan score 5 en esa clase\n",
    "# que sea para whatsapp\n",
    "#\n",
    "# enviar segmento como sheets adicionales\n",
    "# periodo de tiempo → un mes"
   ],
   "metadata": {
    "collapsed": false
   }
  },
  {
   "cell_type": "markdown",
   "source": [
    "### Articulos destacados"
   ],
   "metadata": {
    "collapsed": false
   }
  },
  {
   "cell_type": "code",
   "execution_count": 4,
   "outputs": [
    {
     "data": {
      "text/plain": "   Categoria  Estadistico        ORIN  \\\n0  Alfajores    260668000  1000054862   \n1  Alfajores    260669000  1000054863   \n\n                                       Desc  Cant Clientes  \n0      ALFAJOR NIEVE PORTEZUELO PACK 6.00 U            NaN  \n1  ALFAJOR CHOCOLATE PORTEZUELO PACK 6.00 U            NaN  ",
      "text/html": "<div>\n<style scoped>\n    .dataframe tbody tr th:only-of-type {\n        vertical-align: middle;\n    }\n\n    .dataframe tbody tr th {\n        vertical-align: top;\n    }\n\n    .dataframe thead th {\n        text-align: right;\n    }\n</style>\n<table border=\"1\" class=\"dataframe\">\n  <thead>\n    <tr style=\"text-align: right;\">\n      <th></th>\n      <th>Categoria</th>\n      <th>Estadistico</th>\n      <th>ORIN</th>\n      <th>Desc</th>\n      <th>Cant Clientes</th>\n    </tr>\n  </thead>\n  <tbody>\n    <tr>\n      <th>0</th>\n      <td>Alfajores</td>\n      <td>260668000</td>\n      <td>1000054862</td>\n      <td>ALFAJOR NIEVE PORTEZUELO PACK 6.00 U</td>\n      <td>NaN</td>\n    </tr>\n    <tr>\n      <th>1</th>\n      <td>Alfajores</td>\n      <td>260669000</td>\n      <td>1000054863</td>\n      <td>ALFAJOR CHOCOLATE PORTEZUELO PACK 6.00 U</td>\n      <td>NaN</td>\n    </tr>\n  </tbody>\n</table>\n</div>"
     },
     "execution_count": 4,
     "metadata": {},
     "output_type": "execute_result"
    }
   ],
   "source": [
    "url_fede = 'https://docs.google.com/spreadsheets/d/1JQ23ubzz9W6CteBHoHdqZtl9dp5zmSfTQf0F9Du29R8/export?format=csv'\n",
    "articulos_destacados = pd.read_csv(url_fede)\n",
    "articulos_destacados.head(2)"
   ],
   "metadata": {
    "collapsed": false
   }
  },
  {
   "cell_type": "code",
   "execution_count": 5,
   "outputs": [
    {
     "name": "stdout",
     "output_type": "stream",
     "text": [
      "True\n"
     ]
    },
    {
     "data": {
      "text/plain": "                SUB_NAME    SUBCLASE  MARCA        ORIN  \\\n0  PAPAS FRITAS EN BOLSA  2500050001   LAYS  1000053389   \n1       HELADOS 2 LITROS  3200010002  CRUFI  1000099233   \n\n                                   ARTICULO  \n0    PAPAS FRITAS LAY'S CLASICAS 400.00 G 1  \n1  HELADO CRUFI 2.00 L SAMBAYON/CHOCOLATE/D  ",
      "text/html": "<div>\n<style scoped>\n    .dataframe tbody tr th:only-of-type {\n        vertical-align: middle;\n    }\n\n    .dataframe tbody tr th {\n        vertical-align: top;\n    }\n\n    .dataframe thead th {\n        text-align: right;\n    }\n</style>\n<table border=\"1\" class=\"dataframe\">\n  <thead>\n    <tr style=\"text-align: right;\">\n      <th></th>\n      <th>SUB_NAME</th>\n      <th>SUBCLASE</th>\n      <th>MARCA</th>\n      <th>ORIN</th>\n      <th>ARTICULO</th>\n    </tr>\n  </thead>\n  <tbody>\n    <tr>\n      <th>0</th>\n      <td>PAPAS FRITAS EN BOLSA</td>\n      <td>2500050001</td>\n      <td>LAYS</td>\n      <td>1000053389</td>\n      <td>PAPAS FRITAS LAY'S CLASICAS 400.00 G 1</td>\n    </tr>\n    <tr>\n      <th>1</th>\n      <td>HELADOS 2 LITROS</td>\n      <td>3200010002</td>\n      <td>CRUFI</td>\n      <td>1000099233</td>\n      <td>HELADO CRUFI 2.00 L SAMBAYON/CHOCOLATE/D</td>\n    </tr>\n  </tbody>\n</table>\n</div>"
     },
     "execution_count": 5,
     "metadata": {},
     "output_type": "execute_result"
    }
   ],
   "source": [
    "query = '''\n",
    "SELECT\n",
    "    SUB.SUB_NAME,\n",
    "    SUB.SUBCLASE,\n",
    "    LAB.ARTC_BRAND_DESC AS MARCA,\n",
    "    LAA.ORIN,\n",
    "    LAA.ARTC_ARTC_DESC AS ARTICULO\n",
    "FROM\n",
    "    MSTRDB.DWH.LU_ARTC_BRAND AS LAB\n",
    "    INNER JOIN MSTRDB.DWH.LU_ARTC_ARTICULO AS LAA ON LAA.ARTC_BRAND_ID = LAB.ARTC_BRAND_ID\n",
    "    INNER JOIN MSTRDB.DWH.ITEM_MASTER AS IM ON IM.ITEM = LAA.ORIN\n",
    "    INNER JOIN MSTRDB.DWH.SUBCLASS AS SUB ON SUB.SUBCLASE = IM.SUBCLASE\n",
    "WHERE\n",
    "    LAA.ORIN IN {orin_snow}\n",
    "'''\n",
    "\n",
    "cursor.execute(query.format(orin_snow = tuple(str(number) for number in articulos_destacados['ORIN'])))\n",
    "articulos_destacados_2 = cursor.fetch_pandas_all()\n",
    "print(articulos_destacados.shape[0] == articulos_destacados_2.shape[0])\n",
    "articulos_destacados_2.head(2)"
   ],
   "metadata": {
    "collapsed": false
   }
  },
  {
   "cell_type": "code",
   "execution_count": 6,
   "outputs": [
    {
     "name": "stdout",
     "output_type": "stream",
     "text": [
      "ORINES --> 27\n",
      "MARCAS --> 12\n",
      "SUBCLASES --> 13\n"
     ]
    }
   ],
   "source": [
    "print(f\"ORINES --> {articulos_destacados_2['ORIN'].nunique()}\")\n",
    "print(f\"MARCAS --> {articulos_destacados_2['MARCA'].nunique()}\")\n",
    "print(f\"SUBCLASES --> {articulos_destacados_2['SUB_NAME'].nunique()}\")"
   ],
   "metadata": {
    "collapsed": false
   }
  },
  {
   "cell_type": "markdown",
   "source": [
    "### Segmentos"
   ],
   "metadata": {
    "collapsed": false
   }
  },
  {
   "cell_type": "markdown",
   "source": [
    "#### 1. Clientes que ya compran el articulo"
   ],
   "metadata": {
    "collapsed": false
   }
  },
  {
   "cell_type": "code",
   "execution_count": 34,
   "outputs": [
    {
     "name": "stdout",
     "output_type": "stream",
     "text": [
      "80601\n"
     ]
    },
    {
     "data": {
      "text/plain": "              SUB_NAME   SUBCLASE      MARCA        ORIN  \\\n0  CERVEZAS NACIONALES  100020003  ZILLERTAL  1000353034   \n1  CERVEZAS NACIONALES  100020003  ZILLERTAL  1000353035   \n\n                            ARTICULO  SOCI_SOCI_ID CLIE_TIPO_DOC  \\\n0  CERVEZA ZILLERTAL IPA LATA 473 ML        251940             C   \n1   CERVEZA ZILLERTAL APA LATA 473CC        100191             C   \n\n  CLIE_CLIE_NDOC ULTIMOS_4   CELULAR  \n0       47275593   CI:5593  93915415  \n1       28716500   CI:6500  99368617  ",
      "text/html": "<div>\n<style scoped>\n    .dataframe tbody tr th:only-of-type {\n        vertical-align: middle;\n    }\n\n    .dataframe tbody tr th {\n        vertical-align: top;\n    }\n\n    .dataframe thead th {\n        text-align: right;\n    }\n</style>\n<table border=\"1\" class=\"dataframe\">\n  <thead>\n    <tr style=\"text-align: right;\">\n      <th></th>\n      <th>SUB_NAME</th>\n      <th>SUBCLASE</th>\n      <th>MARCA</th>\n      <th>ORIN</th>\n      <th>ARTICULO</th>\n      <th>SOCI_SOCI_ID</th>\n      <th>CLIE_TIPO_DOC</th>\n      <th>CLIE_CLIE_NDOC</th>\n      <th>ULTIMOS_4</th>\n      <th>CELULAR</th>\n    </tr>\n  </thead>\n  <tbody>\n    <tr>\n      <th>0</th>\n      <td>CERVEZAS NACIONALES</td>\n      <td>100020003</td>\n      <td>ZILLERTAL</td>\n      <td>1000353034</td>\n      <td>CERVEZA ZILLERTAL IPA LATA 473 ML</td>\n      <td>251940</td>\n      <td>C</td>\n      <td>47275593</td>\n      <td>CI:5593</td>\n      <td>93915415</td>\n    </tr>\n    <tr>\n      <th>1</th>\n      <td>CERVEZAS NACIONALES</td>\n      <td>100020003</td>\n      <td>ZILLERTAL</td>\n      <td>1000353035</td>\n      <td>CERVEZA ZILLERTAL APA LATA 473CC</td>\n      <td>100191</td>\n      <td>C</td>\n      <td>28716500</td>\n      <td>CI:6500</td>\n      <td>99368617</td>\n    </tr>\n  </tbody>\n</table>\n</div>"
     },
     "execution_count": 34,
     "metadata": {},
     "output_type": "execute_result"
    }
   ],
   "source": [
    "query = '''\n",
    "SELECT\n",
    "    DISTINCT\n",
    "    SUB.SUB_NAME,\n",
    "    SUB.SUBCLASE,\n",
    "    LAB.ARTC_BRAND_DESC AS MARCA,\n",
    "    LAA.ORIN,\n",
    "    LAA.ARTC_ARTC_DESC AS ARTICULO,\n",
    "    CONT.SOCI_SOCI_ID,\n",
    "    CONT.CLIE_TIPO_DOC,\n",
    "    CONT.CLIE_CLIE_NDOC,\n",
    "    CASE\n",
    "        WHEN CONT.CLIE_TIPO_DOC LIKE 'C' THEN 'CI:' || RIGHT(CONT.CLIE_CLIE_NDOC, 4)\n",
    "        ELSE 'Doc.' || RIGHT(CONT.CLIE_CLIE_NDOC, 4)\n",
    "        END AS ULTIMOS_4,\n",
    "    CONT.CELULAR\n",
    "FROM\n",
    "    MSTRDB.DWH.LU_ARTC_BRAND AS LAB\n",
    "    INNER JOIN MSTRDB.DWH.LU_ARTC_ARTICULO AS LAA ON LAA.ARTC_BRAND_ID = LAB.ARTC_BRAND_ID\n",
    "    INNER JOIN MSTRDB.DWH.ITEM_MASTER AS IM ON IM.ITEM = LAA.ORIN\n",
    "    INNER JOIN MSTRDB.DWH.SUBCLASS AS SUB ON SUB.SUBCLASE = IM.SUBCLASE\n",
    "    INNER JOIN MSTRDB.DWH.FT_VENTAS AS FV ON FV.ARTC_ARTC_ID = LAA.ARTC_ARTC_ID\n",
    "    INNER JOIN MSTRDB.DWH.FT_FDLN_MOVIMIENTOS AS FFM ON FFM.TICKET = FV.TICKET\n",
    "    INNER JOIN SANDBOX_PLUS.DWH.CONTACTABLES_2 AS CONT ON CONT.SOCI_SOCI_ID = FFM.SOCI_SOCI_ID\n",
    "    INNER JOIN MSTRDB.DWH.LU_CLIE_CLIENTE AS LCC ON LCC.SOCI_SOCI_ID = FFM.SOCI_SOCI_ID\n",
    "WHERE\n",
    "    FFM.TIEM_DIA_ID >= DATEADD(MONTH, -1, CURRENT_DATE)\n",
    "    AND CONT.CELULAR IS NOT NULL\n",
    "    AND CONT.WP = 1\n",
    "    AND CONT.SOCI_SOCI_ID NOT IN (SELECT SOCI_SOCI_ID FROM SANDBOX_PLUS.DWH.SOCIOS_NO_COMUNICAR)\n",
    "    AND ( LCC.CLIE_CLIE_NOMBRE1 NOT IN('No Disponible', 'No disponible', 'N A') OR (LCC.CLIE_CLIE_NOMBRE1 = 'No Disponible' AND LCC.CLIE_CLIE_FNAC = '1919-01-01') )\n",
    "    AND LAA.ORIN IN {orin_snow}\n",
    "'''\n",
    "\n",
    "cursor.execute(query.format(orin_snow = tuple(str(number) for number in articulos_destacados_2['ORIN'])))\n",
    "segm_1 = cursor.fetch_pandas_all()\n",
    "print(segm_1.shape[0])\n",
    "segm_1.head(2)"
   ],
   "metadata": {
    "collapsed": false
   }
  },
  {
   "cell_type": "code",
   "execution_count": 54,
   "outputs": [
    {
     "data": {
      "text/plain": "Empty DataFrame\nColumns: [SUB_NAME, SUBCLASE, MARCA, ORIN, ARTICULO, SOCI_SOCI_ID, CLIE_TIPO_DOC, CLIE_CLIE_NDOC, ULTIMOS_4, CELULAR]\nIndex: []",
      "text/html": "<div>\n<style scoped>\n    .dataframe tbody tr th:only-of-type {\n        vertical-align: middle;\n    }\n\n    .dataframe tbody tr th {\n        vertical-align: top;\n    }\n\n    .dataframe thead th {\n        text-align: right;\n    }\n</style>\n<table border=\"1\" class=\"dataframe\">\n  <thead>\n    <tr style=\"text-align: right;\">\n      <th></th>\n      <th>SUB_NAME</th>\n      <th>SUBCLASE</th>\n      <th>MARCA</th>\n      <th>ORIN</th>\n      <th>ARTICULO</th>\n      <th>SOCI_SOCI_ID</th>\n      <th>CLIE_TIPO_DOC</th>\n      <th>CLIE_CLIE_NDOC</th>\n      <th>ULTIMOS_4</th>\n      <th>CELULAR</th>\n    </tr>\n  </thead>\n  <tbody>\n  </tbody>\n</table>\n</div>"
     },
     "execution_count": 54,
     "metadata": {},
     "output_type": "execute_result"
    }
   ],
   "source": [
    "segm_1[segm_1.duplicated(subset = ['SOCI_SOCI_ID', 'ORIN'], keep = False)]"
   ],
   "metadata": {
    "collapsed": false
   }
  },
  {
   "cell_type": "markdown",
   "source": [
    "#### 2.1. Clientes que compran la subclase pero no el articulo"
   ],
   "metadata": {
    "collapsed": false
   }
  },
  {
   "cell_type": "code",
   "execution_count": 35,
   "outputs": [
    {
     "name": "stdout",
     "output_type": "stream",
     "text": [
      "728754\n"
     ]
    },
    {
     "data": {
      "text/plain": "  SUB_NAME    SUBCLASE       MARCA        ORIN  \\\n0    PACKS  1900010003  PORTEZUELO  1000054863   \n1    PACKS  1900010003  PORTEZUELO  1000054863   \n\n                                    ARTICULO  SOCI_SOCI_ID CLIE_TIPO_DOC  \\\n0  ALFAJOR CHOCOLATE PORTEZUELO PACK 6.00 U.       1603376             C   \n1  ALFAJOR CHOCOLATE PORTEZUELO PACK 6.00 U.       1466078             C   \n\n  CLIE_CLIE_NDOC ULTIMOS_4   CELULAR  \n0       63969592   CI:9592  91845755  \n1       44167139   CI:7139  99481311  ",
      "text/html": "<div>\n<style scoped>\n    .dataframe tbody tr th:only-of-type {\n        vertical-align: middle;\n    }\n\n    .dataframe tbody tr th {\n        vertical-align: top;\n    }\n\n    .dataframe thead th {\n        text-align: right;\n    }\n</style>\n<table border=\"1\" class=\"dataframe\">\n  <thead>\n    <tr style=\"text-align: right;\">\n      <th></th>\n      <th>SUB_NAME</th>\n      <th>SUBCLASE</th>\n      <th>MARCA</th>\n      <th>ORIN</th>\n      <th>ARTICULO</th>\n      <th>SOCI_SOCI_ID</th>\n      <th>CLIE_TIPO_DOC</th>\n      <th>CLIE_CLIE_NDOC</th>\n      <th>ULTIMOS_4</th>\n      <th>CELULAR</th>\n    </tr>\n  </thead>\n  <tbody>\n    <tr>\n      <th>0</th>\n      <td>PACKS</td>\n      <td>1900010003</td>\n      <td>PORTEZUELO</td>\n      <td>1000054863</td>\n      <td>ALFAJOR CHOCOLATE PORTEZUELO PACK 6.00 U.</td>\n      <td>1603376</td>\n      <td>C</td>\n      <td>63969592</td>\n      <td>CI:9592</td>\n      <td>91845755</td>\n    </tr>\n    <tr>\n      <th>1</th>\n      <td>PACKS</td>\n      <td>1900010003</td>\n      <td>PORTEZUELO</td>\n      <td>1000054863</td>\n      <td>ALFAJOR CHOCOLATE PORTEZUELO PACK 6.00 U.</td>\n      <td>1466078</td>\n      <td>C</td>\n      <td>44167139</td>\n      <td>CI:7139</td>\n      <td>99481311</td>\n    </tr>\n  </tbody>\n</table>\n</div>"
     },
     "execution_count": 35,
     "metadata": {},
     "output_type": "execute_result"
    }
   ],
   "source": [
    "query = '''\n",
    "WITH COMPRARON AS\n",
    "    (\n",
    "    SELECT\n",
    "        DISTINCT\n",
    "        FFM.SOCI_SOCI_ID\n",
    "    FROM\n",
    "        MSTRDB.DWH.LU_ARTC_ARTICULO AS LAA\n",
    "        INNER JOIN MSTRDB.DWH.FT_VENTAS AS FV ON FV.ARTC_ARTC_ID = LAA.ARTC_ARTC_ID\n",
    "        INNER JOIN MSTRDB.DWH.FT_FDLN_MOVIMIENTOS AS FFM ON FFM.TICKET = FV.TICKET\n",
    "    WHERE\n",
    "        FFM.TIEM_DIA_ID >= DATEADD(MONTH, -1, CURRENT_DATE)\n",
    "        AND LAA.ORIN = '{orin_snow}'\n",
    "    )\n",
    "\n",
    "SELECT\n",
    "    DISTINCT\n",
    "    SUB.SUB_NAME,\n",
    "    SUB.SUBCLASE,\n",
    "    CONT.SOCI_SOCI_ID,\n",
    "    CONT.CLIE_TIPO_DOC,\n",
    "    CONT.CLIE_CLIE_NDOC,\n",
    "    CASE\n",
    "        WHEN CONT.CLIE_TIPO_DOC LIKE 'C' THEN 'CI:' || RIGHT(CONT.CLIE_CLIE_NDOC, 4)\n",
    "        ELSE 'Doc.' || RIGHT(CONT.CLIE_CLIE_NDOC, 4)\n",
    "        END AS ULTIMOS_4,\n",
    "    CONT.CELULAR\n",
    "FROM\n",
    "    MSTRDB.DWH.LU_ARTC_BRAND AS LAB\n",
    "    INNER JOIN MSTRDB.DWH.LU_ARTC_ARTICULO AS LAA ON LAA.ARTC_BRAND_ID = LAB.ARTC_BRAND_ID\n",
    "    INNER JOIN MSTRDB.DWH.ITEM_MASTER AS IM ON IM.ITEM = LAA.ORIN\n",
    "    INNER JOIN MSTRDB.DWH.SUBCLASS AS SUB ON SUB.SUBCLASE = IM.SUBCLASE\n",
    "    INNER JOIN MSTRDB.DWH.FT_VENTAS AS FV ON FV.ARTC_ARTC_ID = LAA.ARTC_ARTC_ID\n",
    "    INNER JOIN MSTRDB.DWH.FT_FDLN_MOVIMIENTOS AS FFM ON FFM.TICKET = FV.TICKET\n",
    "    INNER JOIN SANDBOX_PLUS.DWH.CONTACTABLES_2 AS CONT ON CONT.SOCI_SOCI_ID = FFM.SOCI_SOCI_ID\n",
    "    INNER JOIN MSTRDB.DWH.LU_CLIE_CLIENTE AS LCC ON LCC.SOCI_SOCI_ID = FFM.SOCI_SOCI_ID\n",
    "WHERE\n",
    "    FFM.TIEM_DIA_ID >= DATEADD(MONTH, -1, CURRENT_DATE)\n",
    "    AND CONT.CELULAR IS NOT NULL\n",
    "    AND CONT.WP = 1\n",
    "    AND CONT.SOCI_SOCI_ID NOT IN (SELECT SOCI_SOCI_ID FROM SANDBOX_PLUS.DWH.SOCIOS_NO_COMUNICAR)\n",
    "    AND ( LCC.CLIE_CLIE_NOMBRE1 NOT IN('No Disponible', 'No disponible', 'N A') OR (LCC.CLIE_CLIE_NOMBRE1 = 'No Disponible' AND LCC.CLIE_CLIE_FNAC = '1919-01-01') )\n",
    "    AND SUB.SUBCLASE = '{subclase_snow}'\n",
    "    AND FFM.SOCI_SOCI_ID NOT IN (SELECT * FROM COMPRARON)\n",
    "'''\n",
    "\n",
    "segm_2 = pd.DataFrame()\n",
    "for i in range(len(articulos_destacados_2)):\n",
    "    cursor.execute(query.format(\n",
    "       orin_snow = articulos_destacados_2.iloc[i]['ORIN'],\n",
    "       subclase_snow = articulos_destacados_2.iloc[i]['SUBCLASE']))\n",
    "    df_aux = cursor.fetch_pandas_all()\n",
    "    df_aux['MARCA'] = articulos_destacados_2.iloc[i]['MARCA']\n",
    "    df_aux['ORIN'] = articulos_destacados_2.iloc[i]['ORIN']\n",
    "    df_aux['ARTICULO'] = articulos_destacados_2.iloc[i]['ARTICULO']\n",
    "    segm_2 = pd.concat([segm_2, df_aux])\n",
    "\n",
    "segm_2 = segm_2[['SUB_NAME', 'SUBCLASE', 'MARCA', 'ORIN', 'ARTICULO',\n",
    "       'SOCI_SOCI_ID', 'CLIE_TIPO_DOC', 'CLIE_CLIE_NDOC', 'ULTIMOS_4',\n",
    "       'CELULAR']]\n",
    "print(segm_2.shape[0])\n",
    "segm_2.head(2)"
   ],
   "metadata": {
    "collapsed": false
   }
  },
  {
   "cell_type": "code",
   "execution_count": 55,
   "outputs": [
    {
     "data": {
      "text/plain": "Empty DataFrame\nColumns: [SUB_NAME, SUBCLASE, MARCA, ORIN, ARTICULO, SOCI_SOCI_ID, CLIE_TIPO_DOC, CLIE_CLIE_NDOC, ULTIMOS_4, CELULAR]\nIndex: []",
      "text/html": "<div>\n<style scoped>\n    .dataframe tbody tr th:only-of-type {\n        vertical-align: middle;\n    }\n\n    .dataframe tbody tr th {\n        vertical-align: top;\n    }\n\n    .dataframe thead th {\n        text-align: right;\n    }\n</style>\n<table border=\"1\" class=\"dataframe\">\n  <thead>\n    <tr style=\"text-align: right;\">\n      <th></th>\n      <th>SUB_NAME</th>\n      <th>SUBCLASE</th>\n      <th>MARCA</th>\n      <th>ORIN</th>\n      <th>ARTICULO</th>\n      <th>SOCI_SOCI_ID</th>\n      <th>CLIE_TIPO_DOC</th>\n      <th>CLIE_CLIE_NDOC</th>\n      <th>ULTIMOS_4</th>\n      <th>CELULAR</th>\n    </tr>\n  </thead>\n  <tbody>\n  </tbody>\n</table>\n</div>"
     },
     "execution_count": 55,
     "metadata": {},
     "output_type": "execute_result"
    }
   ],
   "source": [
    "segm_2[segm_2.duplicated(subset = ['SOCI_SOCI_ID', 'ORIN'], keep = False)]"
   ],
   "metadata": {
    "collapsed": false
   }
  },
  {
   "cell_type": "markdown",
   "source": [
    "#### 2.2. Clientes que compran la subclase pero no el articulo (Score 4 o 5 en la subclase)"
   ],
   "metadata": {
    "collapsed": false
   }
  },
  {
   "cell_type": "code",
   "execution_count": 41,
   "outputs": [
    {
     "name": "stdout",
     "output_type": "stream",
     "text": [
      "520682\n"
     ]
    },
    {
     "data": {
      "text/plain": "  SUB_NAME    SUBCLASE       MARCA        ORIN  \\\n0    PACKS  1900010003  PORTEZUELO  1000054863   \n1    PACKS  1900010003  PORTEZUELO  1000054863   \n\n                                    ARTICULO  SOCI_SOCI_ID CLIE_TIPO_DOC  \\\n0  ALFAJOR CHOCOLATE PORTEZUELO PACK 6.00 U.        188096             C   \n1  ALFAJOR CHOCOLATE PORTEZUELO PACK 6.00 U.       1136114             C   \n\n  CLIE_CLIE_NDOC ULTIMOS_4   CELULAR  \n0       30985357   CI:5357  95522372  \n1       59574238   CI:4238  95354581  ",
      "text/html": "<div>\n<style scoped>\n    .dataframe tbody tr th:only-of-type {\n        vertical-align: middle;\n    }\n\n    .dataframe tbody tr th {\n        vertical-align: top;\n    }\n\n    .dataframe thead th {\n        text-align: right;\n    }\n</style>\n<table border=\"1\" class=\"dataframe\">\n  <thead>\n    <tr style=\"text-align: right;\">\n      <th></th>\n      <th>SUB_NAME</th>\n      <th>SUBCLASE</th>\n      <th>MARCA</th>\n      <th>ORIN</th>\n      <th>ARTICULO</th>\n      <th>SOCI_SOCI_ID</th>\n      <th>CLIE_TIPO_DOC</th>\n      <th>CLIE_CLIE_NDOC</th>\n      <th>ULTIMOS_4</th>\n      <th>CELULAR</th>\n    </tr>\n  </thead>\n  <tbody>\n    <tr>\n      <th>0</th>\n      <td>PACKS</td>\n      <td>1900010003</td>\n      <td>PORTEZUELO</td>\n      <td>1000054863</td>\n      <td>ALFAJOR CHOCOLATE PORTEZUELO PACK 6.00 U.</td>\n      <td>188096</td>\n      <td>C</td>\n      <td>30985357</td>\n      <td>CI:5357</td>\n      <td>95522372</td>\n    </tr>\n    <tr>\n      <th>1</th>\n      <td>PACKS</td>\n      <td>1900010003</td>\n      <td>PORTEZUELO</td>\n      <td>1000054863</td>\n      <td>ALFAJOR CHOCOLATE PORTEZUELO PACK 6.00 U.</td>\n      <td>1136114</td>\n      <td>C</td>\n      <td>59574238</td>\n      <td>CI:4238</td>\n      <td>95354581</td>\n    </tr>\n  </tbody>\n</table>\n</div>"
     },
     "execution_count": 41,
     "metadata": {},
     "output_type": "execute_result"
    }
   ],
   "source": [
    "query = '''\n",
    "WITH COMPRARON AS\n",
    "    (\n",
    "    SELECT\n",
    "        DISTINCT\n",
    "        FFM.SOCI_SOCI_ID\n",
    "    FROM\n",
    "        MSTRDB.DWH.LU_ARTC_ARTICULO AS LAA\n",
    "        INNER JOIN MSTRDB.DWH.FT_VENTAS AS FV ON FV.ARTC_ARTC_ID = LAA.ARTC_ARTC_ID\n",
    "        INNER JOIN MSTRDB.DWH.FT_FDLN_MOVIMIENTOS AS FFM ON FFM.TICKET = FV.TICKET\n",
    "    WHERE\n",
    "        FFM.TIEM_DIA_ID >= DATEADD(MONTH, -1, CURRENT_DATE)\n",
    "        AND LAA.ORIN = '{orin_snow}'\n",
    "    ),\n",
    "\n",
    "BZM AS\n",
    "    (\n",
    "    SELECT\n",
    "        DISTINCT SOCI_SOCI_ID\n",
    "    FROM\n",
    "        BIZMETRIKS.DWH.LU_SCORING_SUBCLASE\n",
    "    WHERE\n",
    "        SCORE > 3\n",
    "        AND SUBCLASE = '{subclase_snow}'\n",
    "    )\n",
    "\n",
    "SELECT\n",
    "    DISTINCT\n",
    "    SUB.SUB_NAME,\n",
    "    SUB.SUBCLASE,\n",
    "    CONT.SOCI_SOCI_ID,\n",
    "    CONT.CLIE_TIPO_DOC,\n",
    "    CONT.CLIE_CLIE_NDOC,\n",
    "    CASE\n",
    "        WHEN CONT.CLIE_TIPO_DOC LIKE 'C' THEN 'CI:' || RIGHT(CONT.CLIE_CLIE_NDOC, 4)\n",
    "        ELSE 'Doc.' || RIGHT(CONT.CLIE_CLIE_NDOC, 4)\n",
    "        END AS ULTIMOS_4,\n",
    "    CONT.CELULAR\n",
    "FROM\n",
    "    MSTRDB.DWH.LU_ARTC_BRAND AS LAB\n",
    "    INNER JOIN MSTRDB.DWH.LU_ARTC_ARTICULO AS LAA ON LAA.ARTC_BRAND_ID = LAB.ARTC_BRAND_ID\n",
    "    INNER JOIN MSTRDB.DWH.ITEM_MASTER AS IM ON IM.ITEM = LAA.ORIN\n",
    "    INNER JOIN MSTRDB.DWH.SUBCLASS AS SUB ON SUB.SUBCLASE = IM.SUBCLASE\n",
    "    INNER JOIN MSTRDB.DWH.FT_VENTAS AS FV ON FV.ARTC_ARTC_ID = LAA.ARTC_ARTC_ID\n",
    "    INNER JOIN MSTRDB.DWH.FT_FDLN_MOVIMIENTOS AS FFM ON FFM.TICKET = FV.TICKET\n",
    "    INNER JOIN SANDBOX_PLUS.DWH.CONTACTABLES_2 AS CONT ON CONT.SOCI_SOCI_ID = FFM.SOCI_SOCI_ID\n",
    "    INNER JOIN MSTRDB.DWH.LU_CLIE_CLIENTE AS LCC ON LCC.SOCI_SOCI_ID = FFM.SOCI_SOCI_ID\n",
    "WHERE\n",
    "    FFM.TIEM_DIA_ID >= DATEADD(MONTH, -1, CURRENT_DATE)\n",
    "    AND CONT.CELULAR IS NOT NULL\n",
    "    AND CONT.WP = 1\n",
    "    AND CONT.SOCI_SOCI_ID NOT IN (SELECT SOCI_SOCI_ID FROM SANDBOX_PLUS.DWH.SOCIOS_NO_COMUNICAR)\n",
    "    AND ( LCC.CLIE_CLIE_NOMBRE1 NOT IN('No Disponible', 'No disponible', 'N A') OR (LCC.CLIE_CLIE_NOMBRE1 = 'No Disponible' AND LCC.CLIE_CLIE_FNAC = '1919-01-01') )\n",
    "    AND SUB.SUBCLASE = '{subclase_snow}'\n",
    "    AND FFM.SOCI_SOCI_ID NOT IN (SELECT * FROM COMPRARON)\n",
    "    AND FFM.SOCI_SOCI_ID IN (SELECT * FROM BZM)\n",
    "'''\n",
    "\n",
    "segm_2_2 = pd.DataFrame()\n",
    "for i in range(len(articulos_destacados_2)):\n",
    "    cursor.execute(query.format(\n",
    "       orin_snow = articulos_destacados_2.iloc[i]['ORIN'],\n",
    "       subclase_snow = articulos_destacados_2.iloc[i]['SUBCLASE']))\n",
    "    df_aux = cursor.fetch_pandas_all()\n",
    "    df_aux['MARCA'] = articulos_destacados_2.iloc[i]['MARCA']\n",
    "    df_aux['ORIN'] = articulos_destacados_2.iloc[i]['ORIN']\n",
    "    df_aux['ARTICULO'] = articulos_destacados_2.iloc[i]['ARTICULO']\n",
    "    segm_2_2 = pd.concat([segm_2_2, df_aux])\n",
    "\n",
    "segm_2_2 = segm_2_2[['SUB_NAME', 'SUBCLASE', 'MARCA', 'ORIN', 'ARTICULO',\n",
    "       'SOCI_SOCI_ID', 'CLIE_TIPO_DOC', 'CLIE_CLIE_NDOC', 'ULTIMOS_4',\n",
    "       'CELULAR']]\n",
    "print(segm_2_2.shape[0])\n",
    "segm_2_2.head(2)"
   ],
   "metadata": {
    "collapsed": false
   }
  },
  {
   "cell_type": "code",
   "execution_count": 56,
   "outputs": [
    {
     "data": {
      "text/plain": "Empty DataFrame\nColumns: [SUB_NAME, SUBCLASE, MARCA, ORIN, ARTICULO, SOCI_SOCI_ID, CLIE_TIPO_DOC, CLIE_CLIE_NDOC, ULTIMOS_4, CELULAR]\nIndex: []",
      "text/html": "<div>\n<style scoped>\n    .dataframe tbody tr th:only-of-type {\n        vertical-align: middle;\n    }\n\n    .dataframe tbody tr th {\n        vertical-align: top;\n    }\n\n    .dataframe thead th {\n        text-align: right;\n    }\n</style>\n<table border=\"1\" class=\"dataframe\">\n  <thead>\n    <tr style=\"text-align: right;\">\n      <th></th>\n      <th>SUB_NAME</th>\n      <th>SUBCLASE</th>\n      <th>MARCA</th>\n      <th>ORIN</th>\n      <th>ARTICULO</th>\n      <th>SOCI_SOCI_ID</th>\n      <th>CLIE_TIPO_DOC</th>\n      <th>CLIE_CLIE_NDOC</th>\n      <th>ULTIMOS_4</th>\n      <th>CELULAR</th>\n    </tr>\n  </thead>\n  <tbody>\n  </tbody>\n</table>\n</div>"
     },
     "execution_count": 56,
     "metadata": {},
     "output_type": "execute_result"
    }
   ],
   "source": [
    "segm_2_2[segm_2_2.duplicated(subset = ['SOCI_SOCI_ID', 'ORIN'], keep = False)]"
   ],
   "metadata": {
    "collapsed": false
   }
  },
  {
   "cell_type": "markdown",
   "source": [
    "#### 3.1. Clientes activos que no compran la subclase y tienen score 5"
   ],
   "metadata": {
    "collapsed": false
   }
  },
  {
   "cell_type": "code",
   "execution_count": 13,
   "outputs": [
    {
     "name": "stdout",
     "output_type": "stream",
     "text": [
      "1424278\n"
     ]
    },
    {
     "data": {
      "text/plain": "                SUB_NAME    SUBCLASE MARCA  SOCI_SOCI_ID CLIE_TIPO_DOC  \\\n0  PAPAS FRITAS EN BOLSA  2500050001  LAYS         66766             C   \n1  PAPAS FRITAS EN BOLSA  2500050001  LAYS         28409             C   \n\n  CLIE_CLIE_NDOC ULTIMOS_4   CELULAR  \n0       14467686   CI:7686  94578448  \n1       18567808   CI:7808  95557842  ",
      "text/html": "<div>\n<style scoped>\n    .dataframe tbody tr th:only-of-type {\n        vertical-align: middle;\n    }\n\n    .dataframe tbody tr th {\n        vertical-align: top;\n    }\n\n    .dataframe thead th {\n        text-align: right;\n    }\n</style>\n<table border=\"1\" class=\"dataframe\">\n  <thead>\n    <tr style=\"text-align: right;\">\n      <th></th>\n      <th>SUB_NAME</th>\n      <th>SUBCLASE</th>\n      <th>MARCA</th>\n      <th>SOCI_SOCI_ID</th>\n      <th>CLIE_TIPO_DOC</th>\n      <th>CLIE_CLIE_NDOC</th>\n      <th>ULTIMOS_4</th>\n      <th>CELULAR</th>\n    </tr>\n  </thead>\n  <tbody>\n    <tr>\n      <th>0</th>\n      <td>PAPAS FRITAS EN BOLSA</td>\n      <td>2500050001</td>\n      <td>LAYS</td>\n      <td>66766</td>\n      <td>C</td>\n      <td>14467686</td>\n      <td>CI:7686</td>\n      <td>94578448</td>\n    </tr>\n    <tr>\n      <th>1</th>\n      <td>PAPAS FRITAS EN BOLSA</td>\n      <td>2500050001</td>\n      <td>LAYS</td>\n      <td>28409</td>\n      <td>C</td>\n      <td>18567808</td>\n      <td>CI:7808</td>\n      <td>95557842</td>\n    </tr>\n  </tbody>\n</table>\n</div>"
     },
     "execution_count": 13,
     "metadata": {},
     "output_type": "execute_result"
    }
   ],
   "source": [
    "query = '''\n",
    "WITH COMPRARON AS\n",
    "    (\n",
    "    SELECT\n",
    "        DISTINCT\n",
    "        FFM.SOCI_SOCI_ID\n",
    "    FROM\n",
    "        MSTRDB.DWH.LU_ARTC_ARTICULO AS LAA\n",
    "        INNER JOIN MSTRDB.DWH.FT_VENTAS AS FV ON FV.ARTC_ARTC_ID = LAA.ARTC_ARTC_ID\n",
    "        INNER JOIN MSTRDB.DWH.FT_FDLN_MOVIMIENTOS AS FFM ON FFM.TICKET = FV.TICKET\n",
    "        INNER JOIN MSTRDB.DWH.ITEM_MASTER AS IM ON IM.ITEM = LAA.ORIN\n",
    "    WHERE\n",
    "        FFM.TIEM_DIA_ID >= DATEADD(MONTH, -1, CURRENT_DATE)\n",
    "        AND IM.SUBCLASE = '{subclase_snow}'\n",
    "    ),\n",
    "\n",
    "ACTIVOS AS\n",
    "    (\n",
    "    SELECT\n",
    "        DISTINCT SOCI_SOCI_ID\n",
    "    FROM\n",
    "        MSTRDB.DWH.FT_FDLN_MOVIMIENTOS\n",
    "    WHERE\n",
    "        TIEM_DIA_ID >= DATEADD(MONTH, -3, CURRENT_DATE)\n",
    "        AND GEOG_LOCL_ID IN (SELECT GEOG_LOCL_ID FROM MSTRDB.DWH.LU_GEOG_LOCAL WHERE GEOG_UNNG_ID = 2)\n",
    "    ),\n",
    "\n",
    "BZM AS\n",
    "    (\n",
    "    SELECT\n",
    "        DISTINCT SOCI_SOCI_ID\n",
    "    FROM\n",
    "        BIZMETRIKS.DWH.LU_SCORING_SUBCLASE\n",
    "    WHERE\n",
    "        SCORE > 4\n",
    "        AND SUBCLASE = '{subclase_snow}'\n",
    "    )\n",
    "\n",
    "SELECT\n",
    "    CONT.SOCI_SOCI_ID,\n",
    "    CONT.CLIE_TIPO_DOC,\n",
    "    CONT.CLIE_CLIE_NDOC,\n",
    "    CASE\n",
    "        WHEN CONT.CLIE_TIPO_DOC LIKE 'C' THEN 'CI:' || RIGHT(CONT.CLIE_CLIE_NDOC, 4)\n",
    "        ELSE 'Doc.' || RIGHT(CONT.CLIE_CLIE_NDOC, 4)\n",
    "        END AS ULTIMOS_4,\n",
    "    CONT.CELULAR\n",
    "FROM\n",
    "    SANDBOX_PLUS.DWH.CONTACTABLES_2 AS CONT\n",
    "    INNER JOIN MSTRDB.DWH.LU_CLIE_CLIENTE AS LCC ON LCC.SOCI_SOCI_ID = CONT.SOCI_SOCI_ID\n",
    "WHERE\n",
    "    CONT.CELULAR IS NOT NULL\n",
    "    AND CONT.WP = 1\n",
    "    AND CONT.SOCI_SOCI_ID NOT IN (SELECT SOCI_SOCI_ID FROM SANDBOX_PLUS.DWH.SOCIOS_NO_COMUNICAR)\n",
    "    AND ( LCC.CLIE_CLIE_NOMBRE1 NOT IN('No Disponible', 'No disponible', 'N A') OR (LCC.CLIE_CLIE_NOMBRE1 = 'No Disponible' AND LCC.CLIE_CLIE_FNAC = '1919-01-01') )\n",
    "    AND CONT.SOCI_SOCI_ID NOT IN (SELECT * FROM COMPRARON)\n",
    "    AND CONT.SOCI_SOCI_ID IN (SELECT * FROM BZM)\n",
    "    AND CONT.SOCI_SOCI_ID IN (SELECT * FROM ACTIVOS)\n",
    "'''\n",
    "\n",
    "segm_3 = pd.DataFrame()\n",
    "marca_subclase_unique = articulos_destacados_2[['SUBCLASE', 'SUB_NAME']].drop_duplicates()\n",
    "for i in range(len(marca_subclase_unique)):\n",
    "    cursor.execute(query.format(\n",
    "       subclase_snow = marca_subclase_unique.iloc[i]['SUBCLASE']))\n",
    "    df_aux = cursor.fetch_pandas_all()\n",
    "    df_aux['SUB_NAME'] = marca_subclase_unique.iloc[i]['SUB_NAME']\n",
    "    df_aux['SUBCLASE'] = marca_subclase_unique.iloc[i]['SUBCLASE']\n",
    "    segm_3 = pd.concat([segm_3, df_aux])\n",
    "\n",
    "segm_3 = segm_3.merge(articulos_destacados_2[['SUBCLASE', 'MARCA']].drop_duplicates(), on = 'SUBCLASE', how = 'inner')\n",
    "\n",
    "segm_3 = segm_3[['SUB_NAME', 'SUBCLASE', 'MARCA', 'SOCI_SOCI_ID', 'CLIE_TIPO_DOC', 'CLIE_CLIE_NDOC', 'ULTIMOS_4', 'CELULAR']]\n",
    "print(segm_3.shape[0])\n",
    "segm_3.head(2)"
   ],
   "metadata": {
    "collapsed": false
   }
  },
  {
   "cell_type": "code",
   "execution_count": 12,
   "outputs": [
    {
     "data": {
      "text/plain": "           SUB_NAME     MARCA  SUBCLASE\n0       CHOCOLATADA  PARMALAT     80490\n1  LECHE ESPECIALES  PARMALAT     80490",
      "text/html": "<div>\n<style scoped>\n    .dataframe tbody tr th:only-of-type {\n        vertical-align: middle;\n    }\n\n    .dataframe tbody tr th {\n        vertical-align: top;\n    }\n\n    .dataframe thead th {\n        text-align: right;\n    }\n</style>\n<table border=\"1\" class=\"dataframe\">\n  <thead>\n    <tr style=\"text-align: right;\">\n      <th></th>\n      <th>SUB_NAME</th>\n      <th>MARCA</th>\n      <th>SUBCLASE</th>\n    </tr>\n  </thead>\n  <tbody>\n    <tr>\n      <th>0</th>\n      <td>CHOCOLATADA</td>\n      <td>PARMALAT</td>\n      <td>80490</td>\n    </tr>\n    <tr>\n      <th>1</th>\n      <td>LECHE ESPECIALES</td>\n      <td>PARMALAT</td>\n      <td>80490</td>\n    </tr>\n  </tbody>\n</table>\n</div>"
     },
     "execution_count": 12,
     "metadata": {},
     "output_type": "execute_result"
    }
   ],
   "source": [
    "segm_3[segm_3.duplicated(subset = ['SOCI_SOCI_ID', 'SUBCLASE'], keep = False)]\n",
    "segm_3[segm_3.duplicated(subset = ['SOCI_SOCI_ID', 'MARCA'], keep = False)].groupby(['SUB_NAME', 'MARCA'])['SUBCLASE'].count().reset_index()"
   ],
   "metadata": {
    "collapsed": false
   }
  },
  {
   "cell_type": "markdown",
   "source": [
    "#### 3.2. Clientes activos que no compran la subclase y tienen score 4 o 5"
   ],
   "metadata": {
    "collapsed": false
   }
  },
  {
   "cell_type": "code",
   "execution_count": 14,
   "outputs": [
    {
     "name": "stdout",
     "output_type": "stream",
     "text": [
      "2991616\n"
     ]
    },
    {
     "data": {
      "text/plain": "                SUB_NAME    SUBCLASE MARCA  SOCI_SOCI_ID CLIE_TIPO_DOC  \\\n0  PAPAS FRITAS EN BOLSA  2500050001  LAYS       1085170             C   \n1  PAPAS FRITAS EN BOLSA  2500050001  LAYS       1085661             C   \n\n  CLIE_CLIE_NDOC ULTIMOS_4   CELULAR  \n0       50469870   CI:9870  91369782  \n1       33356115   CI:6115  93754505  ",
      "text/html": "<div>\n<style scoped>\n    .dataframe tbody tr th:only-of-type {\n        vertical-align: middle;\n    }\n\n    .dataframe tbody tr th {\n        vertical-align: top;\n    }\n\n    .dataframe thead th {\n        text-align: right;\n    }\n</style>\n<table border=\"1\" class=\"dataframe\">\n  <thead>\n    <tr style=\"text-align: right;\">\n      <th></th>\n      <th>SUB_NAME</th>\n      <th>SUBCLASE</th>\n      <th>MARCA</th>\n      <th>SOCI_SOCI_ID</th>\n      <th>CLIE_TIPO_DOC</th>\n      <th>CLIE_CLIE_NDOC</th>\n      <th>ULTIMOS_4</th>\n      <th>CELULAR</th>\n    </tr>\n  </thead>\n  <tbody>\n    <tr>\n      <th>0</th>\n      <td>PAPAS FRITAS EN BOLSA</td>\n      <td>2500050001</td>\n      <td>LAYS</td>\n      <td>1085170</td>\n      <td>C</td>\n      <td>50469870</td>\n      <td>CI:9870</td>\n      <td>91369782</td>\n    </tr>\n    <tr>\n      <th>1</th>\n      <td>PAPAS FRITAS EN BOLSA</td>\n      <td>2500050001</td>\n      <td>LAYS</td>\n      <td>1085661</td>\n      <td>C</td>\n      <td>33356115</td>\n      <td>CI:6115</td>\n      <td>93754505</td>\n    </tr>\n  </tbody>\n</table>\n</div>"
     },
     "execution_count": 14,
     "metadata": {},
     "output_type": "execute_result"
    }
   ],
   "source": [
    "query = '''\n",
    "WITH COMPRARON AS\n",
    "    (\n",
    "    SELECT\n",
    "        DISTINCT\n",
    "        FFM.SOCI_SOCI_ID\n",
    "    FROM\n",
    "        MSTRDB.DWH.LU_ARTC_ARTICULO AS LAA\n",
    "        INNER JOIN MSTRDB.DWH.FT_VENTAS AS FV ON FV.ARTC_ARTC_ID = LAA.ARTC_ARTC_ID\n",
    "        INNER JOIN MSTRDB.DWH.FT_FDLN_MOVIMIENTOS AS FFM ON FFM.TICKET = FV.TICKET\n",
    "        INNER JOIN MSTRDB.DWH.ITEM_MASTER AS IM ON IM.ITEM = LAA.ORIN\n",
    "    WHERE\n",
    "        FFM.TIEM_DIA_ID >= DATEADD(MONTH, -1, CURRENT_DATE)\n",
    "        AND IM.SUBCLASE = '{subclase_snow}'\n",
    "    ),\n",
    "\n",
    "ACTIVOS AS\n",
    "    (\n",
    "    SELECT\n",
    "        DISTINCT SOCI_SOCI_ID\n",
    "    FROM\n",
    "        MSTRDB.DWH.FT_FDLN_MOVIMIENTOS\n",
    "    WHERE\n",
    "        TIEM_DIA_ID >= DATEADD(MONTH, -3, CURRENT_DATE)\n",
    "        AND GEOG_LOCL_ID IN (SELECT GEOG_LOCL_ID FROM MSTRDB.DWH.LU_GEOG_LOCAL WHERE GEOG_UNNG_ID = 2)\n",
    "    ),\n",
    "\n",
    "BZM AS\n",
    "    (\n",
    "    SELECT\n",
    "        DISTINCT SOCI_SOCI_ID\n",
    "    FROM\n",
    "        BIZMETRIKS.DWH.LU_SCORING_SUBCLASE\n",
    "    WHERE\n",
    "        SCORE > 3\n",
    "        AND SUBCLASE = '{subclase_snow}'\n",
    "    )\n",
    "\n",
    "SELECT\n",
    "    CONT.SOCI_SOCI_ID,\n",
    "    CONT.CLIE_TIPO_DOC,\n",
    "    CONT.CLIE_CLIE_NDOC,\n",
    "    CASE\n",
    "        WHEN CONT.CLIE_TIPO_DOC LIKE 'C' THEN 'CI:' || RIGHT(CONT.CLIE_CLIE_NDOC, 4)\n",
    "        ELSE 'Doc.' || RIGHT(CONT.CLIE_CLIE_NDOC, 4)\n",
    "        END AS ULTIMOS_4,\n",
    "    CONT.CELULAR\n",
    "FROM\n",
    "    SANDBOX_PLUS.DWH.CONTACTABLES_2 AS CONT\n",
    "    INNER JOIN MSTRDB.DWH.LU_CLIE_CLIENTE AS LCC ON LCC.SOCI_SOCI_ID = CONT.SOCI_SOCI_ID\n",
    "WHERE\n",
    "    CONT.CELULAR IS NOT NULL\n",
    "    AND CONT.WP = 1\n",
    "    AND CONT.SOCI_SOCI_ID NOT IN (SELECT SOCI_SOCI_ID FROM SANDBOX_PLUS.DWH.SOCIOS_NO_COMUNICAR)\n",
    "    AND ( LCC.CLIE_CLIE_NOMBRE1 NOT IN('No Disponible', 'No disponible', 'N A') OR (LCC.CLIE_CLIE_NOMBRE1 = 'No Disponible' AND LCC.CLIE_CLIE_FNAC = '1919-01-01') )\n",
    "    AND CONT.SOCI_SOCI_ID NOT IN (SELECT * FROM COMPRARON)\n",
    "    AND CONT.SOCI_SOCI_ID IN (SELECT * FROM BZM)\n",
    "    AND CONT.SOCI_SOCI_ID IN (SELECT * FROM ACTIVOS)\n",
    "'''\n",
    "\n",
    "segm_3_2 = pd.DataFrame()\n",
    "marca_subclase_unique = articulos_destacados_2[['SUBCLASE', 'SUB_NAME']].drop_duplicates()\n",
    "for i in range(len(marca_subclase_unique)):\n",
    "    cursor.execute(query.format(\n",
    "       subclase_snow = marca_subclase_unique.iloc[i]['SUBCLASE']))\n",
    "    df_aux = cursor.fetch_pandas_all()\n",
    "    df_aux['SUB_NAME'] = marca_subclase_unique.iloc[i]['SUB_NAME']\n",
    "    df_aux['SUBCLASE'] = marca_subclase_unique.iloc[i]['SUBCLASE']\n",
    "    segm_3_2 = pd.concat([segm_3_2, df_aux])\n",
    "\n",
    "segm_3_2 = segm_3_2.merge(articulos_destacados_2[['SUBCLASE', 'MARCA']].drop_duplicates(), on = 'SUBCLASE', how = 'inner')\n",
    "\n",
    "segm_3_2 = segm_3_2[['SUB_NAME', 'SUBCLASE', 'MARCA', 'SOCI_SOCI_ID', 'CLIE_TIPO_DOC', 'CLIE_CLIE_NDOC', 'ULTIMOS_4', 'CELULAR']]\n",
    "print(segm_3_2.shape[0])\n",
    "segm_3_2.head(2)"
   ],
   "metadata": {
    "collapsed": false
   }
  },
  {
   "cell_type": "code",
   "execution_count": 15,
   "outputs": [
    {
     "data": {
      "text/plain": "           SUB_NAME     MARCA  SUBCLASE\n0       CHOCOLATADA  PARMALAT    189818\n1  LECHE ESPECIALES  PARMALAT    189818",
      "text/html": "<div>\n<style scoped>\n    .dataframe tbody tr th:only-of-type {\n        vertical-align: middle;\n    }\n\n    .dataframe tbody tr th {\n        vertical-align: top;\n    }\n\n    .dataframe thead th {\n        text-align: right;\n    }\n</style>\n<table border=\"1\" class=\"dataframe\">\n  <thead>\n    <tr style=\"text-align: right;\">\n      <th></th>\n      <th>SUB_NAME</th>\n      <th>MARCA</th>\n      <th>SUBCLASE</th>\n    </tr>\n  </thead>\n  <tbody>\n    <tr>\n      <th>0</th>\n      <td>CHOCOLATADA</td>\n      <td>PARMALAT</td>\n      <td>189818</td>\n    </tr>\n    <tr>\n      <th>1</th>\n      <td>LECHE ESPECIALES</td>\n      <td>PARMALAT</td>\n      <td>189818</td>\n    </tr>\n  </tbody>\n</table>\n</div>"
     },
     "execution_count": 15,
     "metadata": {},
     "output_type": "execute_result"
    }
   ],
   "source": [
    "segm_3_2[segm_3_2.duplicated(subset = ['SOCI_SOCI_ID', 'SUBCLASE'], keep = False)]\n",
    "segm_3_2[segm_3_2.duplicated(subset = ['SOCI_SOCI_ID', 'MARCA'], keep = False)].groupby(['SUB_NAME', 'MARCA'])['SUBCLASE'].count().reset_index()"
   ],
   "metadata": {
    "collapsed": false
   }
  },
  {
   "cell_type": "markdown",
   "source": [
    "#### 4. Clientes que compran la subclase pero no la marca"
   ],
   "metadata": {
    "collapsed": false
   }
  },
  {
   "cell_type": "code",
   "execution_count": 51,
   "outputs": [
    {
     "name": "stdout",
     "output_type": "stream",
     "text": [
      "234541\n"
     ]
    },
    {
     "data": {
      "text/plain": "  SUB_NAME    SUBCLASE       MARCA  SOCI_SOCI_ID CLIE_TIPO_DOC CLIE_CLIE_NDOC  \\\n0    PACKS  1900010003  PORTEZUELO        947891             C       62892540   \n1    PACKS  1900010003  PORTEZUELO        782750             C       20225084   \n\n  ULTIMOS_4   CELULAR  \n0   CI:2540  93627653  \n1   CI:5084  95885995  ",
      "text/html": "<div>\n<style scoped>\n    .dataframe tbody tr th:only-of-type {\n        vertical-align: middle;\n    }\n\n    .dataframe tbody tr th {\n        vertical-align: top;\n    }\n\n    .dataframe thead th {\n        text-align: right;\n    }\n</style>\n<table border=\"1\" class=\"dataframe\">\n  <thead>\n    <tr style=\"text-align: right;\">\n      <th></th>\n      <th>SUB_NAME</th>\n      <th>SUBCLASE</th>\n      <th>MARCA</th>\n      <th>SOCI_SOCI_ID</th>\n      <th>CLIE_TIPO_DOC</th>\n      <th>CLIE_CLIE_NDOC</th>\n      <th>ULTIMOS_4</th>\n      <th>CELULAR</th>\n    </tr>\n  </thead>\n  <tbody>\n    <tr>\n      <th>0</th>\n      <td>PACKS</td>\n      <td>1900010003</td>\n      <td>PORTEZUELO</td>\n      <td>947891</td>\n      <td>C</td>\n      <td>62892540</td>\n      <td>CI:2540</td>\n      <td>93627653</td>\n    </tr>\n    <tr>\n      <th>1</th>\n      <td>PACKS</td>\n      <td>1900010003</td>\n      <td>PORTEZUELO</td>\n      <td>782750</td>\n      <td>C</td>\n      <td>20225084</td>\n      <td>CI:5084</td>\n      <td>95885995</td>\n    </tr>\n  </tbody>\n</table>\n</div>"
     },
     "execution_count": 51,
     "metadata": {},
     "output_type": "execute_result"
    }
   ],
   "source": [
    "query = '''\n",
    "WITH COMPRARON AS\n",
    "    (\n",
    "    SELECT\n",
    "        DISTINCT\n",
    "        FFM.SOCI_SOCI_ID\n",
    "    FROM\n",
    "        MSTRDB.DWH.LU_ARTC_ARTICULO AS LAA\n",
    "        INNER JOIN MSTRDB.DWH.LU_ARTC_BRAND AS LAB ON LAA.ARTC_BRAND_ID = LAB.ARTC_BRAND_ID\n",
    "        INNER JOIN MSTRDB.DWH.FT_VENTAS AS FV ON FV.ARTC_ARTC_ID = LAA.ARTC_ARTC_ID\n",
    "        INNER JOIN MSTRDB.DWH.FT_FDLN_MOVIMIENTOS AS FFM ON FFM.TICKET = FV.TICKET\n",
    "    WHERE\n",
    "        FFM.TIEM_DIA_ID >= DATEADD(MONTH, -1, CURRENT_DATE)\n",
    "        AND LAB.ARTC_BRAND_DESC = '{marca_snow}'\n",
    "    )\n",
    "\n",
    "SELECT\n",
    "    DISTINCT\n",
    "    SUB.SUB_NAME,\n",
    "    SUB.SUBCLASE,\n",
    "    CONT.SOCI_SOCI_ID,\n",
    "    CONT.CLIE_TIPO_DOC,\n",
    "    CONT.CLIE_CLIE_NDOC,\n",
    "    CASE\n",
    "        WHEN CONT.CLIE_TIPO_DOC LIKE 'C' THEN 'CI:' || RIGHT(CONT.CLIE_CLIE_NDOC, 4)\n",
    "        ELSE 'Doc.' || RIGHT(CONT.CLIE_CLIE_NDOC, 4)\n",
    "        END AS ULTIMOS_4,\n",
    "    CONT.CELULAR\n",
    "FROM\n",
    "    MSTRDB.DWH.LU_ARTC_BRAND AS LAB\n",
    "    INNER JOIN MSTRDB.DWH.LU_ARTC_ARTICULO AS LAA ON LAA.ARTC_BRAND_ID = LAB.ARTC_BRAND_ID\n",
    "    INNER JOIN MSTRDB.DWH.ITEM_MASTER AS IM ON IM.ITEM = LAA.ORIN\n",
    "    INNER JOIN MSTRDB.DWH.SUBCLASS AS SUB ON SUB.SUBCLASE = IM.SUBCLASE\n",
    "    INNER JOIN MSTRDB.DWH.FT_VENTAS AS FV ON FV.ARTC_ARTC_ID = LAA.ARTC_ARTC_ID\n",
    "    INNER JOIN MSTRDB.DWH.FT_FDLN_MOVIMIENTOS AS FFM ON FFM.TICKET = FV.TICKET\n",
    "    INNER JOIN SANDBOX_PLUS.DWH.CONTACTABLES_2 AS CONT ON CONT.SOCI_SOCI_ID = FFM.SOCI_SOCI_ID\n",
    "    INNER JOIN MSTRDB.DWH.LU_CLIE_CLIENTE AS LCC ON LCC.SOCI_SOCI_ID = FFM.SOCI_SOCI_ID\n",
    "WHERE\n",
    "    FFM.TIEM_DIA_ID >= DATEADD(MONTH, -1, CURRENT_DATE)\n",
    "    AND CONT.CELULAR IS NOT NULL\n",
    "    AND CONT.WP = 1\n",
    "    AND CONT.SOCI_SOCI_ID NOT IN (SELECT SOCI_SOCI_ID FROM SANDBOX_PLUS.DWH.SOCIOS_NO_COMUNICAR)\n",
    "    AND ( LCC.CLIE_CLIE_NOMBRE1 NOT IN('No Disponible', 'No disponible', 'N A') OR (LCC.CLIE_CLIE_NOMBRE1 = 'No Disponible' AND LCC.CLIE_CLIE_FNAC = '1919-01-01') )\n",
    "    AND SUB.SUBCLASE = {subclase_snow}\n",
    "    AND FFM.SOCI_SOCI_ID NOT IN (SELECT * FROM COMPRARON)\n",
    "'''\n",
    "\n",
    "segm_4 = pd.DataFrame()\n",
    "marca_subclase_unique = articulos_destacados_2[['MARCA', 'SUBCLASE']].drop_duplicates()\n",
    "for i in range(len(marca_subclase_unique)):\n",
    "    cursor.execute(query.format(\n",
    "       marca_snow = marca_subclase_unique.iloc[i]['MARCA'],\n",
    "       subclase_snow = marca_subclase_unique.iloc[i]['SUBCLASE']))\n",
    "    df_aux = cursor.fetch_pandas_all()\n",
    "    df_aux['MARCA'] = marca_subclase_unique.iloc[i]['MARCA']\n",
    "    segm_4 = pd.concat([segm_4, df_aux])\n",
    "\n",
    "segm_4 = segm_4[['SUB_NAME', 'SUBCLASE', 'MARCA', 'SOCI_SOCI_ID', 'CLIE_TIPO_DOC', 'CLIE_CLIE_NDOC', 'ULTIMOS_4', 'CELULAR']]\n",
    "print(segm_4.shape[0])\n",
    "segm_4.head(2)"
   ],
   "metadata": {
    "collapsed": false
   }
  },
  {
   "cell_type": "code",
   "execution_count": 64,
   "outputs": [
    {
     "data": {
      "text/plain": "           SUB_NAME     MARCA  SUBCLASE\n0       CHOCOLATADA  PARMALAT       888\n1  LECHE ESPECIALES  PARMALAT       888",
      "text/html": "<div>\n<style scoped>\n    .dataframe tbody tr th:only-of-type {\n        vertical-align: middle;\n    }\n\n    .dataframe tbody tr th {\n        vertical-align: top;\n    }\n\n    .dataframe thead th {\n        text-align: right;\n    }\n</style>\n<table border=\"1\" class=\"dataframe\">\n  <thead>\n    <tr style=\"text-align: right;\">\n      <th></th>\n      <th>SUB_NAME</th>\n      <th>MARCA</th>\n      <th>SUBCLASE</th>\n    </tr>\n  </thead>\n  <tbody>\n    <tr>\n      <th>0</th>\n      <td>CHOCOLATADA</td>\n      <td>PARMALAT</td>\n      <td>888</td>\n    </tr>\n    <tr>\n      <th>1</th>\n      <td>LECHE ESPECIALES</td>\n      <td>PARMALAT</td>\n      <td>888</td>\n    </tr>\n  </tbody>\n</table>\n</div>"
     },
     "execution_count": 64,
     "metadata": {},
     "output_type": "execute_result"
    }
   ],
   "source": [
    "segm_4[segm_4.duplicated(subset = ['SOCI_SOCI_ID', 'SUBCLASE'], keep = False)]\n",
    "segm_4[segm_4.duplicated(subset = ['SOCI_SOCI_ID', 'MARCA'], keep = False)].groupby(['SUB_NAME', 'MARCA'])['SUBCLASE'].count().reset_index()"
   ],
   "metadata": {
    "collapsed": false
   }
  },
  {
   "cell_type": "markdown",
   "source": [
    "#### 5. Clientes que en el ultimo mes no vengan a tata y tengan Score 5 en la subclase"
   ],
   "metadata": {
    "collapsed": false
   }
  },
  {
   "cell_type": "code",
   "execution_count": 19,
   "outputs": [
    {
     "name": "stdout",
     "output_type": "stream",
     "text": [
      "499100\n"
     ]
    },
    {
     "data": {
      "text/plain": "                SUB_NAME    SUBCLASE MARCA  SOCI_SOCI_ID CLIE_TIPO_DOC  \\\n0  PAPAS FRITAS EN BOLSA  2500050001  LAYS          9600             C   \n1  PAPAS FRITAS EN BOLSA  2500050001  LAYS       2058988             C   \n\n  CLIE_CLIE_NDOC ULTIMOS_4   CELULAR  \n0       36031887   CI:1887  99931560  \n1       56306250   CI:6250  91291379  ",
      "text/html": "<div>\n<style scoped>\n    .dataframe tbody tr th:only-of-type {\n        vertical-align: middle;\n    }\n\n    .dataframe tbody tr th {\n        vertical-align: top;\n    }\n\n    .dataframe thead th {\n        text-align: right;\n    }\n</style>\n<table border=\"1\" class=\"dataframe\">\n  <thead>\n    <tr style=\"text-align: right;\">\n      <th></th>\n      <th>SUB_NAME</th>\n      <th>SUBCLASE</th>\n      <th>MARCA</th>\n      <th>SOCI_SOCI_ID</th>\n      <th>CLIE_TIPO_DOC</th>\n      <th>CLIE_CLIE_NDOC</th>\n      <th>ULTIMOS_4</th>\n      <th>CELULAR</th>\n    </tr>\n  </thead>\n  <tbody>\n    <tr>\n      <th>0</th>\n      <td>PAPAS FRITAS EN BOLSA</td>\n      <td>2500050001</td>\n      <td>LAYS</td>\n      <td>9600</td>\n      <td>C</td>\n      <td>36031887</td>\n      <td>CI:1887</td>\n      <td>99931560</td>\n    </tr>\n    <tr>\n      <th>1</th>\n      <td>PAPAS FRITAS EN BOLSA</td>\n      <td>2500050001</td>\n      <td>LAYS</td>\n      <td>2058988</td>\n      <td>C</td>\n      <td>56306250</td>\n      <td>CI:6250</td>\n      <td>91291379</td>\n    </tr>\n  </tbody>\n</table>\n</div>"
     },
     "execution_count": 19,
     "metadata": {},
     "output_type": "execute_result"
    }
   ],
   "source": [
    "query = '''\n",
    "WITH ACTIVOS AS\n",
    "    (\n",
    "    SELECT\n",
    "        DISTINCT SOCI_SOCI_ID\n",
    "    FROM\n",
    "        MSTRDB.DWH.FT_FDLN_MOVIMIENTOS\n",
    "    WHERE\n",
    "        TIEM_DIA_ID >= DATEADD(MONTH, -1, CURRENT_DATE)\n",
    "        AND GEOG_LOCL_ID IN (SELECT GEOG_LOCL_ID FROM MSTRDB.DWH.LU_GEOG_LOCAL WHERE GEOG_UNNG_ID = 2)\n",
    "    ),\n",
    "\n",
    "BZM AS\n",
    "    (\n",
    "    SELECT\n",
    "        DISTINCT SOCI_SOCI_ID\n",
    "    FROM\n",
    "        BIZMETRIKS.DWH.LU_SCORING_SUBCLASE\n",
    "    WHERE\n",
    "        SCORE > 4\n",
    "        AND SUBCLASE = '{subclase_snow}'\n",
    "    )\n",
    "\n",
    "SELECT\n",
    "    CONT.SOCI_SOCI_ID,\n",
    "    CONT.CLIE_TIPO_DOC,\n",
    "    CONT.CLIE_CLIE_NDOC,\n",
    "    CASE\n",
    "        WHEN CONT.CLIE_TIPO_DOC LIKE 'C' THEN 'CI:' || RIGHT(CONT.CLIE_CLIE_NDOC, 4)\n",
    "        ELSE 'Doc.' || RIGHT(CONT.CLIE_CLIE_NDOC, 4)\n",
    "        END AS ULTIMOS_4,\n",
    "    CONT.CELULAR\n",
    "FROM\n",
    "    SANDBOX_PLUS.DWH.CONTACTABLES_2 AS CONT\n",
    "    INNER JOIN MSTRDB.DWH.LU_CLIE_CLIENTE AS LCC ON LCC.SOCI_SOCI_ID = CONT.SOCI_SOCI_ID\n",
    "WHERE\n",
    "    CONT.CELULAR IS NOT NULL\n",
    "    AND CONT.WP = 1\n",
    "    AND CONT.SOCI_SOCI_ID NOT IN (SELECT SOCI_SOCI_ID FROM SANDBOX_PLUS.DWH.SOCIOS_NO_COMUNICAR)\n",
    "    AND ( LCC.CLIE_CLIE_NOMBRE1 NOT IN('No Disponible', 'No disponible', 'N A') OR (LCC.CLIE_CLIE_NOMBRE1 = 'No Disponible' AND LCC.CLIE_CLIE_FNAC = '1919-01-01') )\n",
    "    AND CONT.SOCI_SOCI_ID IN (SELECT * FROM BZM)\n",
    "    AND CONT.SOCI_SOCI_ID NOT IN (SELECT * FROM ACTIVOS)\n",
    "'''\n",
    "\n",
    "segm_5 = pd.DataFrame()\n",
    "marca_subclase_unique = articulos_destacados_2[['SUBCLASE', 'SUB_NAME']].drop_duplicates()\n",
    "for i in range(len(marca_subclase_unique)):\n",
    "    cursor.execute(query.format(\n",
    "       subclase_snow = marca_subclase_unique.iloc[i]['SUBCLASE']))\n",
    "    df_aux = cursor.fetch_pandas_all()\n",
    "    df_aux['SUB_NAME'] = marca_subclase_unique.iloc[i]['SUB_NAME']\n",
    "    df_aux['SUBCLASE'] = marca_subclase_unique.iloc[i]['SUBCLASE']\n",
    "    segm_5 = pd.concat([segm_5, df_aux])\n",
    "\n",
    "segm_5 = segm_5.merge(articulos_destacados_2[['SUBCLASE', 'MARCA']].drop_duplicates(), on = 'SUBCLASE', how = 'inner')\n",
    "\n",
    "segm_5 = segm_5[['SUB_NAME', 'SUBCLASE', 'MARCA', 'SOCI_SOCI_ID', 'CLIE_TIPO_DOC', 'CLIE_CLIE_NDOC', 'ULTIMOS_4', 'CELULAR']]\n",
    "print(segm_5.shape[0])\n",
    "segm_5.head(2)"
   ],
   "metadata": {
    "collapsed": false
   }
  },
  {
   "cell_type": "code",
   "execution_count": 20,
   "outputs": [
    {
     "data": {
      "text/plain": "           SUB_NAME     MARCA  SUBCLASE\n0       CHOCOLATADA  PARMALAT     30434\n1  LECHE ESPECIALES  PARMALAT     30434",
      "text/html": "<div>\n<style scoped>\n    .dataframe tbody tr th:only-of-type {\n        vertical-align: middle;\n    }\n\n    .dataframe tbody tr th {\n        vertical-align: top;\n    }\n\n    .dataframe thead th {\n        text-align: right;\n    }\n</style>\n<table border=\"1\" class=\"dataframe\">\n  <thead>\n    <tr style=\"text-align: right;\">\n      <th></th>\n      <th>SUB_NAME</th>\n      <th>MARCA</th>\n      <th>SUBCLASE</th>\n    </tr>\n  </thead>\n  <tbody>\n    <tr>\n      <th>0</th>\n      <td>CHOCOLATADA</td>\n      <td>PARMALAT</td>\n      <td>30434</td>\n    </tr>\n    <tr>\n      <th>1</th>\n      <td>LECHE ESPECIALES</td>\n      <td>PARMALAT</td>\n      <td>30434</td>\n    </tr>\n  </tbody>\n</table>\n</div>"
     },
     "execution_count": 20,
     "metadata": {},
     "output_type": "execute_result"
    }
   ],
   "source": [
    "segm_5[segm_5.duplicated(subset = ['SOCI_SOCI_ID', 'SUBCLASE'], keep = False)]\n",
    "segm_5[segm_5.duplicated(subset = ['SOCI_SOCI_ID', 'MARCA'], keep = False)].groupby(['SUB_NAME', 'MARCA'])['SUBCLASE'].count().reset_index()"
   ],
   "metadata": {
    "collapsed": false
   }
  },
  {
   "cell_type": "markdown",
   "source": [
    "### Resumen"
   ],
   "metadata": {
    "collapsed": false
   }
  },
  {
   "cell_type": "markdown",
   "source": [
    "#### Segmento 1, 2.1 y 2.2"
   ],
   "metadata": {
    "collapsed": false
   }
  },
  {
   "cell_type": "code",
   "execution_count": 75,
   "outputs": [
    {
     "data": {
      "text/plain": "                                 SUB_NAME    SUBCLASE       MARCA        ORIN  \\\n0                                   PACKS  1900010003  PORTEZUELO  1000054863   \n1                                   PACKS  1900010003  PORTEZUELO  1000054862   \n2   JABONES DETERGENTE LIQUIDOS PARA ROPA  8800030003       NEVEX  1000455579   \n3                   PAPAS FRITAS EN BOLSA  2500050001        LAYS  1000053389   \n4                        HELADOS 2 LITROS  3200010002       CRUFI  1000099233   \n5                        HELADOS 2 LITROS  3200010002       CRUFI  1000099234   \n6                        HELADOS 2 LITROS  3200010002       CRUFI  1000099229   \n7                        HELADOS 2 LITROS  3200010002       CRUFI  1000099231   \n8                 YOGURES BEBIBLES ENTERO  7900010002      BIOTOP  1000103474   \n9                 YOGURES BEBIBLES ENTERO  7900010002      BIOTOP  1000103473   \n10                YOGURES BEBIBLES ENTERO  7900010002      BIOTOP  1000103476   \n11                YOGURES BEBIBLES ENTERO  7900010002      BIOTOP  1000103475   \n12                YOGURES BEBIBLES ENTERO  7900010002      BIOTOP  1000103477   \n13                YOGURES BEBIBLES ENTERO  7900010002      BIOTOP  1000103472   \n14                       PAPAS CONGELADAS  3000020002     MC CAIN  1000454069   \n15    PAPEL HIGIENICO HOJA DOBLE Y TRIPLE  9100030001       ELITE  1000420775   \n16                       LECHE ESPECIALES  7600060004    PARMALAT  1000047733   \n17                            CHOCOLATADA  7600030001    PARMALAT  1000408185   \n18                          PANALES VALUE  9800010003     BABYSEC  1000041825   \n19                          PANALES VALUE  9800010003     BABYSEC  1000041822   \n20                          PANALES VALUE  9800010003     BABYSEC  1000041820   \n21                          PANALES VALUE  9800010003     BABYSEC  1000041807   \n22                          PANALES VALUE  9800010003     BABYSEC  1000041821   \n23                QUESO SANDWICH AL CORTE  4200020006    COLONIAL  1000057303   \n24                    CERVEZAS NACIONALES   100020003   ZILLERTAL  1000353034   \n25                    CERVEZAS NACIONALES   100020003   ZILLERTAL  1000353035   \n26                  JAMON COCIDO AL CORTE  4000030002   OTTONELLO  1000057084   \n\n                                             ARTICULO  \\\n0           ALFAJOR CHOCOLATE PORTEZUELO PACK 6.00 U.   \n1                 ALFAJOR NIEVE PORTEZUELO PACK X 6 U   \n2   NEVEX MATIC LIQUIDO DOY PACK 3L PARA DILUIR MA...   \n3              PAPAS FRITAS LAY'S CLASICAS 400.00 G 1   \n4            HELADO CRUFI 2.00 L SAMBAYON/CHOCOLATE/D   \n5                   HELADO CRUFI 2.00 L CREMA VETEADA   \n6            HELADO CRUFI 2.00 L CREMA/CHOCOLATE/FRUT   \n7            HELADO CRUFI 2.00 L FLAN C/DULCE DE LECH   \n8       YOGUR BEBIBLE BIOTOP SACHET 1.00 L FRUT.LIGHT   \n9          YOGUR BEBIBLE BIOTOP SACHET 1.00 L DURAZNO   \n10        YOGUR BEBIBLE BIOTOP SACHET 1.00 L VAINILLA   \n11       YOGUR BEBIBLE BIOTOP SACHET 1.00 L DUR.LIGHT   \n12      YOGUR BEBIBLE BIOTOP SACHET 1.00 L MULTIFRUTA   \n13        YOGUR BEBIBLE BIOTOP SACHET 1.00 L FRUTILLA   \n14               PAPAS MCCAIN TRADICIONAL 700 G 13213   \n15          PAPEL HIGIENICO ELITE DOBLE HOJA 30M x 12   \n16            LECHE DESLACTOSADA PARMALAT 1 L NATURAL   \n17  LECHE CHOCOLATADA PARMALAT LARGA DURACION SACH...   \n18  PANAL BABYSEC ULTRA HIPER GRANDE 30.00 U. 2020202   \n19  PANAL BABYSEC ULTRA HIPER MEDIANO 34.00 U. 202...   \n20         PANAL BABYSEC UL XG HIPER 24.00 U. 2020202   \n21     PANAL BABYSEC ULTRA HIPER XXG 24.00 U. 2020202   \n22   PANAL BABYSEC ULTRA HIPER CHICO 36.00 U. 2020202   \n23            QUESO DAMBO PARA SANDWICH COLONIAL 1 KG   \n24                  CERVEZA ZILLERTAL IPA LATA 473 ML   \n25                   CERVEZA ZILLERTAL APA LATA 473CC   \n26                    JAMON COCIDO OTTONELLO 1.00 KG.   \n\n    Clientes ya compran el articulo  \\\n0                              3671   \n1                              2209   \n2                               338   \n3                              5818   \n4                               757   \n5                               629   \n6                               897   \n7                               929   \n8                              4837   \n9                              5515   \n10                             3745   \n11                             4136   \n12                             2576   \n13                             8624   \n14                             2641   \n15                              899   \n16                             5025   \n17                            13724   \n18                              100   \n19                               50   \n20                               95   \n21                              217   \n22                              132   \n23                             4164   \n24                              809   \n25                              380   \n26                             7684   \n\n    Clientes ya compran la subclase pero no el articulo  \\\n0                                               17324     \n1                                               18786     \n2                                               29472     \n3                                               59609     \n4                                               11240     \n5                                               11368     \n6                                               11100     \n7                                               11068     \n8                                               60455     \n9                                               59777     \n10                                              61547     \n11                                              61156     \n12                                              62716     \n13                                              56668     \n14                                              17872     \n15                                              23091     \n16                                               9001     \n17                                              33063     \n18                                               2831     \n19                                               2881     \n20                                               2836     \n21                                               2714     \n22                                               2799     \n23                                              20687     \n24                                              20888     \n25                                              21317     \n26                                              36488     \n\n    Clientes ya compran la subclase pero no el articulo, Score 4 y 5  \n0                                               12171                 \n1                                               13256                 \n2                                               21075                 \n3                                               39024                 \n4                                                8071                 \n5                                                8153                 \n6                                                7982                 \n7                                                7917                 \n8                                               43193                 \n9                                               42755                 \n10                                              44188                 \n11                                              43782                 \n12                                              45046                 \n13                                              40425                 \n14                                              13709                 \n15                                              17018                 \n16                                               6910                 \n17                                              22584                 \n18                                               1736                 \n19                                               1775                 \n20                                               1741                 \n21                                               1654                 \n22                                               1724                 \n23                                              16118                 \n24                                              14634                 \n25                                              14928                 \n26                                              29113                 ",
      "text/html": "<div>\n<style scoped>\n    .dataframe tbody tr th:only-of-type {\n        vertical-align: middle;\n    }\n\n    .dataframe tbody tr th {\n        vertical-align: top;\n    }\n\n    .dataframe thead th {\n        text-align: right;\n    }\n</style>\n<table border=\"1\" class=\"dataframe\">\n  <thead>\n    <tr style=\"text-align: right;\">\n      <th></th>\n      <th>SUB_NAME</th>\n      <th>SUBCLASE</th>\n      <th>MARCA</th>\n      <th>ORIN</th>\n      <th>ARTICULO</th>\n      <th>Clientes ya compran el articulo</th>\n      <th>Clientes ya compran la subclase pero no el articulo</th>\n      <th>Clientes ya compran la subclase pero no el articulo, Score 4 y 5</th>\n    </tr>\n  </thead>\n  <tbody>\n    <tr>\n      <th>0</th>\n      <td>PACKS</td>\n      <td>1900010003</td>\n      <td>PORTEZUELO</td>\n      <td>1000054863</td>\n      <td>ALFAJOR CHOCOLATE PORTEZUELO PACK 6.00 U.</td>\n      <td>3671</td>\n      <td>17324</td>\n      <td>12171</td>\n    </tr>\n    <tr>\n      <th>1</th>\n      <td>PACKS</td>\n      <td>1900010003</td>\n      <td>PORTEZUELO</td>\n      <td>1000054862</td>\n      <td>ALFAJOR NIEVE PORTEZUELO PACK X 6 U</td>\n      <td>2209</td>\n      <td>18786</td>\n      <td>13256</td>\n    </tr>\n    <tr>\n      <th>2</th>\n      <td>JABONES DETERGENTE LIQUIDOS PARA ROPA</td>\n      <td>8800030003</td>\n      <td>NEVEX</td>\n      <td>1000455579</td>\n      <td>NEVEX MATIC LIQUIDO DOY PACK 3L PARA DILUIR MA...</td>\n      <td>338</td>\n      <td>29472</td>\n      <td>21075</td>\n    </tr>\n    <tr>\n      <th>3</th>\n      <td>PAPAS FRITAS EN BOLSA</td>\n      <td>2500050001</td>\n      <td>LAYS</td>\n      <td>1000053389</td>\n      <td>PAPAS FRITAS LAY'S CLASICAS 400.00 G 1</td>\n      <td>5818</td>\n      <td>59609</td>\n      <td>39024</td>\n    </tr>\n    <tr>\n      <th>4</th>\n      <td>HELADOS 2 LITROS</td>\n      <td>3200010002</td>\n      <td>CRUFI</td>\n      <td>1000099233</td>\n      <td>HELADO CRUFI 2.00 L SAMBAYON/CHOCOLATE/D</td>\n      <td>757</td>\n      <td>11240</td>\n      <td>8071</td>\n    </tr>\n    <tr>\n      <th>5</th>\n      <td>HELADOS 2 LITROS</td>\n      <td>3200010002</td>\n      <td>CRUFI</td>\n      <td>1000099234</td>\n      <td>HELADO CRUFI 2.00 L CREMA VETEADA</td>\n      <td>629</td>\n      <td>11368</td>\n      <td>8153</td>\n    </tr>\n    <tr>\n      <th>6</th>\n      <td>HELADOS 2 LITROS</td>\n      <td>3200010002</td>\n      <td>CRUFI</td>\n      <td>1000099229</td>\n      <td>HELADO CRUFI 2.00 L CREMA/CHOCOLATE/FRUT</td>\n      <td>897</td>\n      <td>11100</td>\n      <td>7982</td>\n    </tr>\n    <tr>\n      <th>7</th>\n      <td>HELADOS 2 LITROS</td>\n      <td>3200010002</td>\n      <td>CRUFI</td>\n      <td>1000099231</td>\n      <td>HELADO CRUFI 2.00 L FLAN C/DULCE DE LECH</td>\n      <td>929</td>\n      <td>11068</td>\n      <td>7917</td>\n    </tr>\n    <tr>\n      <th>8</th>\n      <td>YOGURES BEBIBLES ENTERO</td>\n      <td>7900010002</td>\n      <td>BIOTOP</td>\n      <td>1000103474</td>\n      <td>YOGUR BEBIBLE BIOTOP SACHET 1.00 L FRUT.LIGHT</td>\n      <td>4837</td>\n      <td>60455</td>\n      <td>43193</td>\n    </tr>\n    <tr>\n      <th>9</th>\n      <td>YOGURES BEBIBLES ENTERO</td>\n      <td>7900010002</td>\n      <td>BIOTOP</td>\n      <td>1000103473</td>\n      <td>YOGUR BEBIBLE BIOTOP SACHET 1.00 L DURAZNO</td>\n      <td>5515</td>\n      <td>59777</td>\n      <td>42755</td>\n    </tr>\n    <tr>\n      <th>10</th>\n      <td>YOGURES BEBIBLES ENTERO</td>\n      <td>7900010002</td>\n      <td>BIOTOP</td>\n      <td>1000103476</td>\n      <td>YOGUR BEBIBLE BIOTOP SACHET 1.00 L VAINILLA</td>\n      <td>3745</td>\n      <td>61547</td>\n      <td>44188</td>\n    </tr>\n    <tr>\n      <th>11</th>\n      <td>YOGURES BEBIBLES ENTERO</td>\n      <td>7900010002</td>\n      <td>BIOTOP</td>\n      <td>1000103475</td>\n      <td>YOGUR BEBIBLE BIOTOP SACHET 1.00 L DUR.LIGHT</td>\n      <td>4136</td>\n      <td>61156</td>\n      <td>43782</td>\n    </tr>\n    <tr>\n      <th>12</th>\n      <td>YOGURES BEBIBLES ENTERO</td>\n      <td>7900010002</td>\n      <td>BIOTOP</td>\n      <td>1000103477</td>\n      <td>YOGUR BEBIBLE BIOTOP SACHET 1.00 L MULTIFRUTA</td>\n      <td>2576</td>\n      <td>62716</td>\n      <td>45046</td>\n    </tr>\n    <tr>\n      <th>13</th>\n      <td>YOGURES BEBIBLES ENTERO</td>\n      <td>7900010002</td>\n      <td>BIOTOP</td>\n      <td>1000103472</td>\n      <td>YOGUR BEBIBLE BIOTOP SACHET 1.00 L FRUTILLA</td>\n      <td>8624</td>\n      <td>56668</td>\n      <td>40425</td>\n    </tr>\n    <tr>\n      <th>14</th>\n      <td>PAPAS CONGELADAS</td>\n      <td>3000020002</td>\n      <td>MC CAIN</td>\n      <td>1000454069</td>\n      <td>PAPAS MCCAIN TRADICIONAL 700 G 13213</td>\n      <td>2641</td>\n      <td>17872</td>\n      <td>13709</td>\n    </tr>\n    <tr>\n      <th>15</th>\n      <td>PAPEL HIGIENICO HOJA DOBLE Y TRIPLE</td>\n      <td>9100030001</td>\n      <td>ELITE</td>\n      <td>1000420775</td>\n      <td>PAPEL HIGIENICO ELITE DOBLE HOJA 30M x 12</td>\n      <td>899</td>\n      <td>23091</td>\n      <td>17018</td>\n    </tr>\n    <tr>\n      <th>16</th>\n      <td>LECHE ESPECIALES</td>\n      <td>7600060004</td>\n      <td>PARMALAT</td>\n      <td>1000047733</td>\n      <td>LECHE DESLACTOSADA PARMALAT 1 L NATURAL</td>\n      <td>5025</td>\n      <td>9001</td>\n      <td>6910</td>\n    </tr>\n    <tr>\n      <th>17</th>\n      <td>CHOCOLATADA</td>\n      <td>7600030001</td>\n      <td>PARMALAT</td>\n      <td>1000408185</td>\n      <td>LECHE CHOCOLATADA PARMALAT LARGA DURACION SACH...</td>\n      <td>13724</td>\n      <td>33063</td>\n      <td>22584</td>\n    </tr>\n    <tr>\n      <th>18</th>\n      <td>PANALES VALUE</td>\n      <td>9800010003</td>\n      <td>BABYSEC</td>\n      <td>1000041825</td>\n      <td>PANAL BABYSEC ULTRA HIPER GRANDE 30.00 U. 2020202</td>\n      <td>100</td>\n      <td>2831</td>\n      <td>1736</td>\n    </tr>\n    <tr>\n      <th>19</th>\n      <td>PANALES VALUE</td>\n      <td>9800010003</td>\n      <td>BABYSEC</td>\n      <td>1000041822</td>\n      <td>PANAL BABYSEC ULTRA HIPER MEDIANO 34.00 U. 202...</td>\n      <td>50</td>\n      <td>2881</td>\n      <td>1775</td>\n    </tr>\n    <tr>\n      <th>20</th>\n      <td>PANALES VALUE</td>\n      <td>9800010003</td>\n      <td>BABYSEC</td>\n      <td>1000041820</td>\n      <td>PANAL BABYSEC UL XG HIPER 24.00 U. 2020202</td>\n      <td>95</td>\n      <td>2836</td>\n      <td>1741</td>\n    </tr>\n    <tr>\n      <th>21</th>\n      <td>PANALES VALUE</td>\n      <td>9800010003</td>\n      <td>BABYSEC</td>\n      <td>1000041807</td>\n      <td>PANAL BABYSEC ULTRA HIPER XXG 24.00 U. 2020202</td>\n      <td>217</td>\n      <td>2714</td>\n      <td>1654</td>\n    </tr>\n    <tr>\n      <th>22</th>\n      <td>PANALES VALUE</td>\n      <td>9800010003</td>\n      <td>BABYSEC</td>\n      <td>1000041821</td>\n      <td>PANAL BABYSEC ULTRA HIPER CHICO 36.00 U. 2020202</td>\n      <td>132</td>\n      <td>2799</td>\n      <td>1724</td>\n    </tr>\n    <tr>\n      <th>23</th>\n      <td>QUESO SANDWICH AL CORTE</td>\n      <td>4200020006</td>\n      <td>COLONIAL</td>\n      <td>1000057303</td>\n      <td>QUESO DAMBO PARA SANDWICH COLONIAL 1 KG</td>\n      <td>4164</td>\n      <td>20687</td>\n      <td>16118</td>\n    </tr>\n    <tr>\n      <th>24</th>\n      <td>CERVEZAS NACIONALES</td>\n      <td>100020003</td>\n      <td>ZILLERTAL</td>\n      <td>1000353034</td>\n      <td>CERVEZA ZILLERTAL IPA LATA 473 ML</td>\n      <td>809</td>\n      <td>20888</td>\n      <td>14634</td>\n    </tr>\n    <tr>\n      <th>25</th>\n      <td>CERVEZAS NACIONALES</td>\n      <td>100020003</td>\n      <td>ZILLERTAL</td>\n      <td>1000353035</td>\n      <td>CERVEZA ZILLERTAL APA LATA 473CC</td>\n      <td>380</td>\n      <td>21317</td>\n      <td>14928</td>\n    </tr>\n    <tr>\n      <th>26</th>\n      <td>JAMON COCIDO AL CORTE</td>\n      <td>4000030002</td>\n      <td>OTTONELLO</td>\n      <td>1000057084</td>\n      <td>JAMON COCIDO OTTONELLO 1.00 KG.</td>\n      <td>7684</td>\n      <td>36488</td>\n      <td>29113</td>\n    </tr>\n  </tbody>\n</table>\n</div>"
     },
     "execution_count": 75,
     "metadata": {},
     "output_type": "execute_result"
    }
   ],
   "source": [
    "resumen_segmentos_1 = articulos_destacados_2.copy(deep = True)\n",
    "segm_1_resumen = segm_1.groupby('ORIN')['SOCI_SOCI_ID'].nunique().reset_index()\n",
    "resumen_segmentos_1 = resumen_segmentos_1.merge(segm_1_resumen, on = 'ORIN', how = 'inner')\n",
    "resumen_segmentos_1.rename({'SOCI_SOCI_ID':'Clientes ya compran el articulo'}, axis = 1, inplace = True)\n",
    "\n",
    "segm_2_resumen = segm_2.groupby('ORIN')['SOCI_SOCI_ID'].nunique().reset_index()\n",
    "resumen_segmentos_1 = resumen_segmentos_1.merge(segm_2_resumen, on = 'ORIN', how = 'inner')\n",
    "resumen_segmentos_1.rename({'SOCI_SOCI_ID':'Clientes ya compran la subclase pero no el articulo'}, axis = 1, inplace = True)\n",
    "\n",
    "segm_2_2_resumen = segm_2_2.groupby('ORIN')['SOCI_SOCI_ID'].nunique().reset_index()\n",
    "resumen_segmentos_1 = resumen_segmentos_1.merge(segm_2_2_resumen, on = 'ORIN', how = 'inner')\n",
    "resumen_segmentos_1.rename({'SOCI_SOCI_ID':'Clientes ya compran la subclase pero no el articulo, Score 4 y 5'}, axis = 1, inplace = True)\n",
    "\n",
    "resumen_segmentos_1"
   ],
   "metadata": {
    "collapsed": false
   }
  },
  {
   "cell_type": "markdown",
   "source": [
    "#### Segmento 3.1 y 3.2"
   ],
   "metadata": {
    "collapsed": false
   }
  },
  {
   "cell_type": "code",
   "execution_count": 17,
   "outputs": [
    {
     "data": {
      "text/plain": "                                 SUB_NAME    SUBCLASE       MARCA  \\\n0                   PAPAS FRITAS EN BOLSA  2500050001        LAYS   \n1                        HELADOS 2 LITROS  3200010002       CRUFI   \n2                 YOGURES BEBIBLES ENTERO  7900010002      BIOTOP   \n3                                   PACKS  1900010003  PORTEZUELO   \n4   JABONES DETERGENTE LIQUIDOS PARA ROPA  8800030003       NEVEX   \n5                 QUESO SANDWICH AL CORTE  4200020006    COLONIAL   \n6                   JAMON COCIDO AL CORTE  4000030002   OTTONELLO   \n7                     CERVEZAS NACIONALES   100020003   ZILLERTAL   \n8                        PAPAS CONGELADAS  3000020002     MC CAIN   \n9     PAPEL HIGIENICO HOJA DOBLE Y TRIPLE  9100030001       ELITE   \n10                       LECHE ESPECIALES  7600060004    PARMALAT   \n11                            CHOCOLATADA  7600030001    PARMALAT   \n12                          PANALES VALUE  9800010003     BABYSEC   \n\n    Clientes que no compran la subclase y tienen Score 5  \\\n0                                               97368      \n1                                              116266      \n2                                               94918      \n3                                              114632      \n4                                              107701      \n5                                              113559      \n6                                              101741      \n7                                              114943      \n8                                              112913      \n9                                              111093      \n10                                             116015      \n11                                             104449      \n12                                             118680      \n\n    Clientes que no compran la subclase y tienen Score 4 o 5  \n0                                              209932         \n1                                              241377         \n2                                              206529         \n3                                              237943         \n4                                              229316         \n5                                              233375         \n6                                              218298         \n7                                              235863         \n8                                              236181         \n9                                              233729         \n10                                             240796         \n11                                             220988         \n12                                             247289         ",
      "text/html": "<div>\n<style scoped>\n    .dataframe tbody tr th:only-of-type {\n        vertical-align: middle;\n    }\n\n    .dataframe tbody tr th {\n        vertical-align: top;\n    }\n\n    .dataframe thead th {\n        text-align: right;\n    }\n</style>\n<table border=\"1\" class=\"dataframe\">\n  <thead>\n    <tr style=\"text-align: right;\">\n      <th></th>\n      <th>SUB_NAME</th>\n      <th>SUBCLASE</th>\n      <th>MARCA</th>\n      <th>Clientes que no compran la subclase y tienen Score 5</th>\n      <th>Clientes que no compran la subclase y tienen Score 4 o 5</th>\n    </tr>\n  </thead>\n  <tbody>\n    <tr>\n      <th>0</th>\n      <td>PAPAS FRITAS EN BOLSA</td>\n      <td>2500050001</td>\n      <td>LAYS</td>\n      <td>97368</td>\n      <td>209932</td>\n    </tr>\n    <tr>\n      <th>1</th>\n      <td>HELADOS 2 LITROS</td>\n      <td>3200010002</td>\n      <td>CRUFI</td>\n      <td>116266</td>\n      <td>241377</td>\n    </tr>\n    <tr>\n      <th>2</th>\n      <td>YOGURES BEBIBLES ENTERO</td>\n      <td>7900010002</td>\n      <td>BIOTOP</td>\n      <td>94918</td>\n      <td>206529</td>\n    </tr>\n    <tr>\n      <th>3</th>\n      <td>PACKS</td>\n      <td>1900010003</td>\n      <td>PORTEZUELO</td>\n      <td>114632</td>\n      <td>237943</td>\n    </tr>\n    <tr>\n      <th>4</th>\n      <td>JABONES DETERGENTE LIQUIDOS PARA ROPA</td>\n      <td>8800030003</td>\n      <td>NEVEX</td>\n      <td>107701</td>\n      <td>229316</td>\n    </tr>\n    <tr>\n      <th>5</th>\n      <td>QUESO SANDWICH AL CORTE</td>\n      <td>4200020006</td>\n      <td>COLONIAL</td>\n      <td>113559</td>\n      <td>233375</td>\n    </tr>\n    <tr>\n      <th>6</th>\n      <td>JAMON COCIDO AL CORTE</td>\n      <td>4000030002</td>\n      <td>OTTONELLO</td>\n      <td>101741</td>\n      <td>218298</td>\n    </tr>\n    <tr>\n      <th>7</th>\n      <td>CERVEZAS NACIONALES</td>\n      <td>100020003</td>\n      <td>ZILLERTAL</td>\n      <td>114943</td>\n      <td>235863</td>\n    </tr>\n    <tr>\n      <th>8</th>\n      <td>PAPAS CONGELADAS</td>\n      <td>3000020002</td>\n      <td>MC CAIN</td>\n      <td>112913</td>\n      <td>236181</td>\n    </tr>\n    <tr>\n      <th>9</th>\n      <td>PAPEL HIGIENICO HOJA DOBLE Y TRIPLE</td>\n      <td>9100030001</td>\n      <td>ELITE</td>\n      <td>111093</td>\n      <td>233729</td>\n    </tr>\n    <tr>\n      <th>10</th>\n      <td>LECHE ESPECIALES</td>\n      <td>7600060004</td>\n      <td>PARMALAT</td>\n      <td>116015</td>\n      <td>240796</td>\n    </tr>\n    <tr>\n      <th>11</th>\n      <td>CHOCOLATADA</td>\n      <td>7600030001</td>\n      <td>PARMALAT</td>\n      <td>104449</td>\n      <td>220988</td>\n    </tr>\n    <tr>\n      <th>12</th>\n      <td>PANALES VALUE</td>\n      <td>9800010003</td>\n      <td>BABYSEC</td>\n      <td>118680</td>\n      <td>247289</td>\n    </tr>\n  </tbody>\n</table>\n</div>"
     },
     "execution_count": 17,
     "metadata": {},
     "output_type": "execute_result"
    }
   ],
   "source": [
    "resumen_segmentos_2 = articulos_destacados_2.copy(deep = True)\n",
    "resumen_segmentos_2.drop(['ORIN', 'ARTICULO'], axis = 1, inplace = True)\n",
    "resumen_segmentos_2.drop_duplicates(inplace = True)\n",
    "\n",
    "segm_3_resumen = segm_3.groupby('SUBCLASE')['SOCI_SOCI_ID'].nunique().reset_index()\n",
    "resumen_segmentos_2 = resumen_segmentos_2.merge(segm_3_resumen, on = 'SUBCLASE', how = 'inner')\n",
    "resumen_segmentos_2.rename({'SOCI_SOCI_ID':'Clientes que no compran la subclase y tienen Score 5'}, axis = 1, inplace = True)\n",
    "\n",
    "segm_3_2_resumen = segm_3_2.groupby('SUBCLASE')['SOCI_SOCI_ID'].nunique().reset_index()\n",
    "resumen_segmentos_2 = resumen_segmentos_2.merge(segm_3_2_resumen, on = 'SUBCLASE', how = 'inner')\n",
    "resumen_segmentos_2.rename({'SOCI_SOCI_ID':'Clientes que no compran la subclase y tienen Score 4 o 5'}, axis = 1, inplace = True)\n",
    "\n",
    "resumen_segmentos_2"
   ],
   "metadata": {
    "collapsed": false
   }
  },
  {
   "cell_type": "markdown",
   "source": [
    "#### Segmento 4"
   ],
   "metadata": {
    "collapsed": false
   }
  },
  {
   "cell_type": "code",
   "execution_count": 102,
   "outputs": [
    {
     "data": {
      "text/plain": "                                 SUB_NAME    SUBCLASE       MARCA  \\\n0                                   PACKS  1900010003  PORTEZUELO   \n1   JABONES DETERGENTE LIQUIDOS PARA ROPA  8800030003       NEVEX   \n2                   PAPAS FRITAS EN BOLSA  2500050001        LAYS   \n3                        HELADOS 2 LITROS  3200010002       CRUFI   \n4                 YOGURES BEBIBLES ENTERO  7900010002      BIOTOP   \n5                        PAPAS CONGELADAS  3000020002     MC CAIN   \n6     PAPEL HIGIENICO HOJA DOBLE Y TRIPLE  9100030001       ELITE   \n7                        LECHE ESPECIALES  7600060004    PARMALAT   \n8                             CHOCOLATADA  7600030001    PARMALAT   \n9                           PANALES VALUE  9800010003     BABYSEC   \n10                QUESO SANDWICH AL CORTE  4200020006    COLONIAL   \n11                    CERVEZAS NACIONALES   100020003   ZILLERTAL   \n12                  JAMON COCIDO AL CORTE  4000030002   OTTONELLO   \n\n    Clientes que no compran la subclase pero no la marca  \n0                                                5047     \n1                                               24116     \n2                                               34178     \n3                                                7115     \n4                                               38403     \n5                                               11325     \n6                                               19505     \n7                                                7802     \n8                                               28558     \n9                                                1021     \n10                                              14602     \n11                                              15602     \n12                                              27267     ",
      "text/html": "<div>\n<style scoped>\n    .dataframe tbody tr th:only-of-type {\n        vertical-align: middle;\n    }\n\n    .dataframe tbody tr th {\n        vertical-align: top;\n    }\n\n    .dataframe thead th {\n        text-align: right;\n    }\n</style>\n<table border=\"1\" class=\"dataframe\">\n  <thead>\n    <tr style=\"text-align: right;\">\n      <th></th>\n      <th>SUB_NAME</th>\n      <th>SUBCLASE</th>\n      <th>MARCA</th>\n      <th>Clientes que no compran la subclase pero no la marca</th>\n    </tr>\n  </thead>\n  <tbody>\n    <tr>\n      <th>0</th>\n      <td>PACKS</td>\n      <td>1900010003</td>\n      <td>PORTEZUELO</td>\n      <td>5047</td>\n    </tr>\n    <tr>\n      <th>1</th>\n      <td>JABONES DETERGENTE LIQUIDOS PARA ROPA</td>\n      <td>8800030003</td>\n      <td>NEVEX</td>\n      <td>24116</td>\n    </tr>\n    <tr>\n      <th>2</th>\n      <td>PAPAS FRITAS EN BOLSA</td>\n      <td>2500050001</td>\n      <td>LAYS</td>\n      <td>34178</td>\n    </tr>\n    <tr>\n      <th>3</th>\n      <td>HELADOS 2 LITROS</td>\n      <td>3200010002</td>\n      <td>CRUFI</td>\n      <td>7115</td>\n    </tr>\n    <tr>\n      <th>4</th>\n      <td>YOGURES BEBIBLES ENTERO</td>\n      <td>7900010002</td>\n      <td>BIOTOP</td>\n      <td>38403</td>\n    </tr>\n    <tr>\n      <th>5</th>\n      <td>PAPAS CONGELADAS</td>\n      <td>3000020002</td>\n      <td>MC CAIN</td>\n      <td>11325</td>\n    </tr>\n    <tr>\n      <th>6</th>\n      <td>PAPEL HIGIENICO HOJA DOBLE Y TRIPLE</td>\n      <td>9100030001</td>\n      <td>ELITE</td>\n      <td>19505</td>\n    </tr>\n    <tr>\n      <th>7</th>\n      <td>LECHE ESPECIALES</td>\n      <td>7600060004</td>\n      <td>PARMALAT</td>\n      <td>7802</td>\n    </tr>\n    <tr>\n      <th>8</th>\n      <td>CHOCOLATADA</td>\n      <td>7600030001</td>\n      <td>PARMALAT</td>\n      <td>28558</td>\n    </tr>\n    <tr>\n      <th>9</th>\n      <td>PANALES VALUE</td>\n      <td>9800010003</td>\n      <td>BABYSEC</td>\n      <td>1021</td>\n    </tr>\n    <tr>\n      <th>10</th>\n      <td>QUESO SANDWICH AL CORTE</td>\n      <td>4200020006</td>\n      <td>COLONIAL</td>\n      <td>14602</td>\n    </tr>\n    <tr>\n      <th>11</th>\n      <td>CERVEZAS NACIONALES</td>\n      <td>100020003</td>\n      <td>ZILLERTAL</td>\n      <td>15602</td>\n    </tr>\n    <tr>\n      <th>12</th>\n      <td>JAMON COCIDO AL CORTE</td>\n      <td>4000030002</td>\n      <td>OTTONELLO</td>\n      <td>27267</td>\n    </tr>\n  </tbody>\n</table>\n</div>"
     },
     "execution_count": 102,
     "metadata": {},
     "output_type": "execute_result"
    }
   ],
   "source": [
    "resumen_segmentos_3 = articulos_destacados_2.copy(deep = True)\n",
    "resumen_segmentos_3.drop(['ORIN', 'ARTICULO'], axis = 1, inplace = True)\n",
    "resumen_segmentos_3.drop_duplicates(inplace = True)\n",
    "\n",
    "segm_4_resumen = segm_4.groupby('SUBCLASE')['SOCI_SOCI_ID'].nunique().reset_index()\n",
    "resumen_segmentos_3 = resumen_segmentos_3.merge(segm_4_resumen, on = 'SUBCLASE', how = 'inner')\n",
    "resumen_segmentos_3.rename({'SOCI_SOCI_ID':'Clientes que compran la subclase pero no la marca'}, axis = 1, inplace = True)\n",
    "resumen_segmentos_3"
   ],
   "metadata": {
    "collapsed": false
   }
  },
  {
   "cell_type": "markdown",
   "source": [
    "#### Segmento 5"
   ],
   "metadata": {
    "collapsed": false
   }
  },
  {
   "cell_type": "code",
   "execution_count": 25,
   "outputs": [
    {
     "data": {
      "text/plain": "                                 SUB_NAME    SUBCLASE       MARCA  \\\n0                   PAPAS FRITAS EN BOLSA  2500050001        LAYS   \n1                        HELADOS 2 LITROS  3200010002       CRUFI   \n2                 YOGURES BEBIBLES ENTERO  7900010002      BIOTOP   \n3                                   PACKS  1900010003  PORTEZUELO   \n4   JABONES DETERGENTE LIQUIDOS PARA ROPA  8800030003       NEVEX   \n5                 QUESO SANDWICH AL CORTE  4200020006    COLONIAL   \n6                   JAMON COCIDO AL CORTE  4000030002   OTTONELLO   \n7                     CERVEZAS NACIONALES   100020003   ZILLERTAL   \n8                        PAPAS CONGELADAS  3000020002     MC CAIN   \n9     PAPEL HIGIENICO HOJA DOBLE Y TRIPLE  9100030001       ELITE   \n10                       LECHE ESPECIALES  7600060004    PARMALAT   \n11                            CHOCOLATADA  7600030001    PARMALAT   \n12                          PANALES VALUE  9800010003     BABYSEC   \n\n    Clientes que no compran en TATA en ultimo Mes y tienen Score 5 en la subclase  \n0                                               37895                              \n1                                               41754                              \n2                                               36133                              \n3                                               38368                              \n4                                               41252                              \n5                                               34632                              \n6                                               34354                              \n7                                               37816                              \n8                                               38342                              \n9                                               39779                              \n10                                              38608                              \n11                                              36416                              \n12                                              43751                              ",
      "text/html": "<div>\n<style scoped>\n    .dataframe tbody tr th:only-of-type {\n        vertical-align: middle;\n    }\n\n    .dataframe tbody tr th {\n        vertical-align: top;\n    }\n\n    .dataframe thead th {\n        text-align: right;\n    }\n</style>\n<table border=\"1\" class=\"dataframe\">\n  <thead>\n    <tr style=\"text-align: right;\">\n      <th></th>\n      <th>SUB_NAME</th>\n      <th>SUBCLASE</th>\n      <th>MARCA</th>\n      <th>Clientes que no compran en TATA en ultimo Mes y tienen Score 5 en la subclase</th>\n    </tr>\n  </thead>\n  <tbody>\n    <tr>\n      <th>0</th>\n      <td>PAPAS FRITAS EN BOLSA</td>\n      <td>2500050001</td>\n      <td>LAYS</td>\n      <td>37895</td>\n    </tr>\n    <tr>\n      <th>1</th>\n      <td>HELADOS 2 LITROS</td>\n      <td>3200010002</td>\n      <td>CRUFI</td>\n      <td>41754</td>\n    </tr>\n    <tr>\n      <th>2</th>\n      <td>YOGURES BEBIBLES ENTERO</td>\n      <td>7900010002</td>\n      <td>BIOTOP</td>\n      <td>36133</td>\n    </tr>\n    <tr>\n      <th>3</th>\n      <td>PACKS</td>\n      <td>1900010003</td>\n      <td>PORTEZUELO</td>\n      <td>38368</td>\n    </tr>\n    <tr>\n      <th>4</th>\n      <td>JABONES DETERGENTE LIQUIDOS PARA ROPA</td>\n      <td>8800030003</td>\n      <td>NEVEX</td>\n      <td>41252</td>\n    </tr>\n    <tr>\n      <th>5</th>\n      <td>QUESO SANDWICH AL CORTE</td>\n      <td>4200020006</td>\n      <td>COLONIAL</td>\n      <td>34632</td>\n    </tr>\n    <tr>\n      <th>6</th>\n      <td>JAMON COCIDO AL CORTE</td>\n      <td>4000030002</td>\n      <td>OTTONELLO</td>\n      <td>34354</td>\n    </tr>\n    <tr>\n      <th>7</th>\n      <td>CERVEZAS NACIONALES</td>\n      <td>100020003</td>\n      <td>ZILLERTAL</td>\n      <td>37816</td>\n    </tr>\n    <tr>\n      <th>8</th>\n      <td>PAPAS CONGELADAS</td>\n      <td>3000020002</td>\n      <td>MC CAIN</td>\n      <td>38342</td>\n    </tr>\n    <tr>\n      <th>9</th>\n      <td>PAPEL HIGIENICO HOJA DOBLE Y TRIPLE</td>\n      <td>9100030001</td>\n      <td>ELITE</td>\n      <td>39779</td>\n    </tr>\n    <tr>\n      <th>10</th>\n      <td>LECHE ESPECIALES</td>\n      <td>7600060004</td>\n      <td>PARMALAT</td>\n      <td>38608</td>\n    </tr>\n    <tr>\n      <th>11</th>\n      <td>CHOCOLATADA</td>\n      <td>7600030001</td>\n      <td>PARMALAT</td>\n      <td>36416</td>\n    </tr>\n    <tr>\n      <th>12</th>\n      <td>PANALES VALUE</td>\n      <td>9800010003</td>\n      <td>BABYSEC</td>\n      <td>43751</td>\n    </tr>\n  </tbody>\n</table>\n</div>"
     },
     "execution_count": 25,
     "metadata": {},
     "output_type": "execute_result"
    }
   ],
   "source": [
    "resumen_segmentos_4 = articulos_destacados_2.copy(deep = True)\n",
    "resumen_segmentos_4.drop(['ORIN', 'ARTICULO'], axis = 1, inplace = True)\n",
    "resumen_segmentos_4.drop_duplicates(inplace = True)\n",
    "\n",
    "segm_5_resumen = segm_5.groupby('SUBCLASE')['SOCI_SOCI_ID'].nunique().reset_index()\n",
    "resumen_segmentos_4 = resumen_segmentos_4.merge(segm_5_resumen, on = 'SUBCLASE', how = 'inner')\n",
    "resumen_segmentos_4.rename({'SOCI_SOCI_ID':'Clientes que no compran en TATA en ultimo Mes y tienen Score 5 en la subclase'}, axis = 1, inplace = True)\n",
    "resumen_segmentos_4"
   ],
   "metadata": {
    "collapsed": false
   }
  },
  {
   "cell_type": "code",
   "execution_count": 26,
   "outputs": [],
   "source": [
    "resumen_segmentos_4.to_excel('s.xlsx', index = False)"
   ],
   "metadata": {
    "collapsed": false
   }
  },
  {
   "cell_type": "markdown",
   "source": [
    "# Excel"
   ],
   "metadata": {
    "collapsed": false
   }
  },
  {
   "cell_type": "code",
   "execution_count": 111,
   "outputs": [],
   "source": [
    "# Segmentos Fede\n",
    "\n",
    "with pd.ExcelWriter(\n",
    "        f\"C:\\\\Users\\\\leonardo.mangold\\\\PycharmProjects\\\\analisis\\\\kpis_promos_mauri\\\\Entregas\\\\Articulos Destacados {datetime.today().strftime('%Y-%m-%d')}.xlsx\",\n",
    "        engine='xlsxwriter') as writer:\n",
    "\n",
    "    resumen_segmentos_1.to_excel(writer, sheet_name=f\"Resumen Segmentos 1, 2.1 y 2.2\", index=False)\n",
    "    segm_1.to_excel(writer, sheet_name=f\"1 Compran el art\", index=False)\n",
    "    segm_2.to_excel(writer, sheet_name=f\"2.1 Compran subcl, no art\", index=False)\n",
    "    segm_2_2.to_excel(writer, sheet_name=f\"2.2 Compran subcl, no art, S>3\", index=False)\n",
    "    resumen_segmentos_2.to_excel(writer, sheet_name=f\"Resumen Segmento 3\", index=False)\n",
    "    #segm_3.to_excel(writer, sheet_name=f\"3. No compran subcl, S>5\", index=False)\n",
    "    resumen_segmentos_3.to_excel(writer, sheet_name=f\"Resumen Segmento 4\", index=False)\n",
    "    segm_4.to_excel(writer, sheet_name=f\"4. Compran subcl pero no marca\", index=False)"
   ],
   "metadata": {
    "collapsed": false
   }
  },
  {
   "cell_type": "code",
   "execution_count": null,
   "outputs": [],
   "source": [
    "# Mauri\n",
    "\n",
    "with pd.ExcelWriter(\n",
    "        f\"C:\\\\Users\\\\leonardo.mangold\\\\PycharmProjects\\\\analisis\\\\kpis_promos_mauri\\\\Entregas\\\\Promos {datetime.today().strftime('%Y-%m-%d')}.xlsx\",\n",
    "        engine='xlsxwriter') as writer:\n",
    "\n",
    "\n",
    "\n",
    "    precios.to_excel(writer, sheet_name=f\"Precios Oferta {datetime.today().strftime('%Y-%m-%d')}\", index=False)  # tabla 12\n",
    "    df_precios_stock_mediano.to_excel(writer, sheet_name=f\"Precios Stock Mediano Ayer\", index=False)  # tabla 17\n",
    "    opt.to_excel(writer, sheet_name=f\"OPT - Media Precios Compet\", index=False)  # tabla 13\n",
    "    e_7.to_excel(writer, sheet_name=f\"Numero de Locales Activos Ayer\", index=False)  # tabla 14\n",
    "    e_8.to_excel(writer, sheet_name=f\"Days on Hand - Articulos\", index=False)  # tabla 15\n",
    "    e_9.to_excel(writer, sheet_name=f\"Days on Hand - Subclases\", index=False)  # tabla 16\n"
   ],
   "metadata": {
    "collapsed": false
   }
  },
  {
   "cell_type": "code",
   "execution_count": null,
   "outputs": [],
   "source": [
    "sys.exit()"
   ],
   "metadata": {
    "collapsed": false
   }
  },
  {
   "cell_type": "code",
   "execution_count": null,
   "outputs": [],
   "source": [
    "with pd.ExcelWriter(f\"C:\\\\Users\\\\leonardo.mangold\\\\PycharmProjects\\\\analisis\\\\kpis_promos_mauri\\\\Entregas\\\\Promos {datetime.today().strftime('%Y-%m-%d')}.xlsx\", engine='xlsxwriter') as writer:\n",
    "    e_1.to_excel(writer, sheet_name='Articulos Publicados', index=False) # tabla 1\n",
    "    arts_2.to_excel(writer, sheet_name='Venta y GB1 por Promo', index=False) # tabla 2\n",
    "    e_6.to_excel(writer, sheet_name='Numero de Subclases', index=False) # tabla 3\n",
    "    e_2.to_excel(writer, sheet_name='Venta y GB1 por Subclase', index=False) # tabla 4\n",
    "    e_3.to_excel(writer, sheet_name='Venta y GB1 Promo Agrupado', index=False) # tabla 5\n",
    "    e_4.to_excel(writer, sheet_name='Num Articulos por Subclase', index=False) # tabla 6\n",
    "    ace.to_excel(writer, sheet_name='Aceleracion', index=False) # tabla 7\n",
    "    ace_2.to_excel(writer, sheet_name='Aceleracion por Subclase', index=False) # tabla 8\n",
    "    ace_3.to_excel(writer, sheet_name='Aceleracion Resumen', index=False) # tabla 9\n",
    "    e_5.to_excel(writer, sheet_name='Tickets', index=False) # tabla 10\n",
    "    eventos.to_excel(writer, sheet_name='Numero de Eventos', index=False) # tabla 11\n",
    "    precios.to_excel(writer, sheet_name=f\"Precios {datetime.today().strftime('%Y-%m-%d')}\", index=False) # tabla 12\n",
    "    opt.to_excel(writer, sheet_name=f\"OPT - Media Precios Compet\", index=False) # tabla 13\n",
    "    e_7.to_excel(writer, sheet_name=f\"Numero de Locales Activos Ayer\", index=False) # tabla 14\n",
    "    e_8.to_excel(writer, sheet_name=f\"Days on Hand - Articulos\", index=False) # tabla 15\n",
    "    e_9.to_excel(writer, sheet_name=f\"Days on Hand - Subclases\", index=False) # tabla 16\n"
   ],
   "metadata": {
    "collapsed": false
   }
  },
  {
   "cell_type": "code",
   "execution_count": 14,
   "outputs": [
    {
     "data": {
      "text/plain": "'2023-12-13'"
     },
     "execution_count": 14,
     "metadata": {},
     "output_type": "execute_result"
    }
   ],
   "source": [
    "datetime.today().strftime('%Y-%m-%d')"
   ],
   "metadata": {
    "collapsed": false
   }
  },
  {
   "cell_type": "markdown",
   "source": [
    "# Fin"
   ],
   "metadata": {
    "collapsed": false
   },
   "execution_count": 1
  }
 ],
 "metadata": {
  "colab": {
   "collapsed_sections": [],
   "provenance": []
  },
  "kernelspec": {
   "display_name": "Python 3.9.12 ('env')",
   "language": "python",
   "name": "python3"
  },
  "language_info": {
   "codemirror_mode": {
    "name": "ipython",
    "version": 3
   },
   "file_extension": ".py",
   "mimetype": "text/x-python",
   "name": "python",
   "nbconvert_exporter": "python",
   "pygments_lexer": "ipython3",
   "version": "3.9.12"
  },
  "orig_nbformat": 4,
  "vscode": {
   "interpreter": {
    "hash": "1c19c5efd8f4b93ccbd4006c6f9f93fa19f57b77bfb4a2e5dfb55a2b8dd9ae6c"
   }
  }
 },
 "nbformat": 4,
 "nbformat_minor": 0
}
